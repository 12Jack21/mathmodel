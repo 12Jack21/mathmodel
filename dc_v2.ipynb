{
 "cells": [
  {
   "cell_type": "code",
   "execution_count": 1,
   "id": "8ebeb57c",
   "metadata": {
    "ExecuteTime": {
     "end_time": "2021-10-17T14:31:28.295317Z",
     "start_time": "2021-10-17T14:31:26.420006Z"
    },
    "collapsed": true
   },
   "outputs": [],
   "source": [
    "import pandas as pd\n",
    "import numpy as np\n",
    "import sklearn\n",
    "import matplotlib.pyplot as plt\n",
    "%matplotlib inline\n",
    "import seaborn as sns"
   ]
  },
  {
   "cell_type": "markdown",
   "id": "f8e2cdc4",
   "metadata": {},
   "source": [
    "## 导入数据与预处理"
   ]
  },
  {
   "cell_type": "markdown",
   "id": "9d9f68f0",
   "metadata": {},
   "source": [
    "### ERα_activity "
   ]
  },
  {
   "cell_type": "code",
   "execution_count": 2,
   "id": "29f662a6",
   "metadata": {
    "ExecuteTime": {
     "end_time": "2021-10-17T14:31:29.323871Z",
     "start_time": "2021-10-17T14:31:28.947092Z"
    },
    "collapsed": true
   },
   "outputs": [
    {
     "data": {
      "text/html": [
       "<div>\n",
       "<style scoped>\n",
       "    .dataframe tbody tr th:only-of-type {\n",
       "        vertical-align: middle;\n",
       "    }\n",
       "\n",
       "    .dataframe tbody tr th {\n",
       "        vertical-align: top;\n",
       "    }\n",
       "\n",
       "    .dataframe thead th {\n",
       "        text-align: right;\n",
       "    }\n",
       "</style>\n",
       "<table border=\"1\" class=\"dataframe\">\n",
       "  <thead>\n",
       "    <tr style=\"text-align: right;\">\n",
       "      <th></th>\n",
       "      <th>SMILES</th>\n",
       "      <th>IC50_nM</th>\n",
       "      <th>pIC50</th>\n",
       "    </tr>\n",
       "  </thead>\n",
       "  <tbody>\n",
       "    <tr>\n",
       "      <th>0</th>\n",
       "      <td>Oc1ccc2O[C@H]([C@H](Sc2c1)C3CCCC3)c4ccc(OCCN5C...</td>\n",
       "      <td>2.5</td>\n",
       "      <td>8.602060</td>\n",
       "    </tr>\n",
       "    <tr>\n",
       "      <th>1</th>\n",
       "      <td>Oc1ccc2O[C@H]([C@H](Sc2c1)C3CCCCCC3)c4ccc(OCCN...</td>\n",
       "      <td>7.5</td>\n",
       "      <td>8.124939</td>\n",
       "    </tr>\n",
       "    <tr>\n",
       "      <th>2</th>\n",
       "      <td>Oc1ccc(cc1)[C@H]2Sc3cc(O)ccc3O[C@H]2c4ccc(OCCN...</td>\n",
       "      <td>3.1</td>\n",
       "      <td>8.508638</td>\n",
       "    </tr>\n",
       "    <tr>\n",
       "      <th>3</th>\n",
       "      <td>Oc1ccc2O[C@H]([C@@H](CC3CCCCC3)Sc2c1)c4ccc(OCC...</td>\n",
       "      <td>3.9</td>\n",
       "      <td>8.408935</td>\n",
       "    </tr>\n",
       "    <tr>\n",
       "      <th>4</th>\n",
       "      <td>Oc1ccc2O[C@H]([C@@H](Cc3ccccc3)Sc2c1)c4ccc(OCC...</td>\n",
       "      <td>7.4</td>\n",
       "      <td>8.130768</td>\n",
       "    </tr>\n",
       "  </tbody>\n",
       "</table>\n",
       "</div>"
      ],
      "text/plain": [
       "                                              SMILES  IC50_nM     pIC50\n",
       "0  Oc1ccc2O[C@H]([C@H](Sc2c1)C3CCCC3)c4ccc(OCCN5C...      2.5  8.602060\n",
       "1  Oc1ccc2O[C@H]([C@H](Sc2c1)C3CCCCCC3)c4ccc(OCCN...      7.5  8.124939\n",
       "2  Oc1ccc(cc1)[C@H]2Sc3cc(O)ccc3O[C@H]2c4ccc(OCCN...      3.1  8.508638\n",
       "3  Oc1ccc2O[C@H]([C@@H](CC3CCCCC3)Sc2c1)c4ccc(OCC...      3.9  8.408935\n",
       "4  Oc1ccc2O[C@H]([C@@H](Cc3ccccc3)Sc2c1)c4ccc(OCC...      7.4  8.130768"
      ]
     },
     "execution_count": 2,
     "metadata": {},
     "output_type": "execute_result"
    }
   ],
   "source": [
    "era = pd.read_excel('ERα_activity.xlsx')\n",
    "era.head()"
   ]
  },
  {
   "cell_type": "code",
   "execution_count": 3,
   "id": "65ca00d6",
   "metadata": {
    "ExecuteTime": {
     "end_time": "2021-10-17T14:31:29.754648Z",
     "start_time": "2021-10-17T14:31:29.749365Z"
    },
    "collapsed": true
   },
   "outputs": [
    {
     "data": {
      "text/plain": [
       "0    8.602060\n",
       "1    8.124939\n",
       "2    8.508638\n",
       "3    8.408935\n",
       "4    8.130768\n",
       "Name: pIC50, dtype: float64"
      ]
     },
     "execution_count": 3,
     "metadata": {},
     "output_type": "execute_result"
    }
   ],
   "source": [
    "erat = era.drop(columns=['SMILES'])\n",
    "erapi = era['pIC50']\n",
    "erapi.head()"
   ]
  },
  {
   "cell_type": "code",
   "execution_count": 4,
   "id": "b65a4924",
   "metadata": {
    "ExecuteTime": {
     "end_time": "2021-10-17T14:31:30.218935Z",
     "start_time": "2021-10-17T14:31:30.199984Z"
    },
    "collapsed": true
   },
   "outputs": [
    {
     "name": "stdout",
     "output_type": "stream",
     "text": [
      "<class 'pandas.core.frame.DataFrame'>\n",
      "RangeIndex: 1974 entries, 0 to 1973\n",
      "Data columns (total 3 columns):\n",
      " #   Column   Non-Null Count  Dtype  \n",
      "---  ------   --------------  -----  \n",
      " 0   SMILES   1974 non-null   object \n",
      " 1   IC50_nM  1974 non-null   float64\n",
      " 2   pIC50    1974 non-null   float64\n",
      "dtypes: float64(2), object(1)\n",
      "memory usage: 46.4+ KB\n"
     ]
    },
    {
     "data": {
      "text/plain": [
       "(None,\n",
       "             IC50_nM        pIC50\n",
       " count  1.974000e+03  1974.000000\n",
       " mean   9.910490e+03     6.586112\n",
       " std    1.055204e+05     1.423023\n",
       " min    4.600000e-02     2.455932\n",
       " 25%    2.702500e+01     5.382154\n",
       " 50%    2.625000e+02     6.580871\n",
       " 75%    4.148125e+03     7.568235\n",
       " max    3.500000e+06    10.337242)"
      ]
     },
     "execution_count": 4,
     "metadata": {},
     "output_type": "execute_result"
    }
   ],
   "source": [
    "era.info(),era.describe()"
   ]
  },
  {
   "cell_type": "code",
   "execution_count": 5,
   "id": "c6d0329f",
   "metadata": {
    "ExecuteTime": {
     "end_time": "2021-10-17T14:31:32.410512Z",
     "start_time": "2021-10-17T14:31:32.403624Z"
    },
    "collapsed": true
   },
   "outputs": [
    {
     "name": "stdout",
     "output_type": "stream",
     "text": [
      "ERα_activity.xlsx 数据集中异常值个数为0\n"
     ]
    }
   ],
   "source": [
    "print('ERα_activity.xlsx 数据集中异常值个数为{}'.format(era.isnull().any().sum()))"
   ]
  },
  {
   "cell_type": "markdown",
   "id": "1b18ba94",
   "metadata": {},
   "source": [
    "### Molecular_Descriptor"
   ]
  },
  {
   "cell_type": "code",
   "execution_count": 6,
   "id": "3eae36d7",
   "metadata": {
    "ExecuteTime": {
     "end_time": "2021-10-17T14:31:50.151917Z",
     "start_time": "2021-10-17T14:31:33.864813Z"
    },
    "collapsed": true
   },
   "outputs": [],
   "source": [
    "mol = pd.read_excel('Molecular_Descriptor.xlsx',sheet_name='training')\n",
    "mol_test = pd.read_excel('Molecular_Descriptor.xlsx',sheet_name='test')\n",
    "mol.drop(columns=['SMILES'],inplace=True)\n",
    "mol_test.drop(columns=['SMILES'],inplace=True)"
   ]
  },
  {
   "cell_type": "code",
   "execution_count": 7,
   "id": "8d3a0aa4",
   "metadata": {
    "ExecuteTime": {
     "end_time": "2021-10-17T14:31:51.957454Z",
     "start_time": "2021-10-17T14:31:50.322396Z"
    },
    "collapsed": true
   },
   "outputs": [
    {
     "data": {
      "text/plain": [
       "(             nAcid        ALogP        ALogp2          AMR         apol  \\\n",
       " count  1974.000000  1974.000000  1.974000e+03  1974.000000  1974.000000   \n",
       " mean      0.108409     1.110164  3.288495e+00   116.557106    60.626471   \n",
       " std       0.347900     1.434250  1.283292e+01    31.567455    19.449748   \n",
       " min       0.000000   -23.105000  3.600000e-07    54.067000    30.661930   \n",
       " 25%       0.000000     0.376300  4.052598e-01    88.303700    44.432102   \n",
       " 50%       0.000000     1.170950  1.560251e+00   114.837500    59.901376   \n",
       " 75%       0.000000     1.948100  4.018823e+00   141.423650    74.421376   \n",
       " max       4.000000     5.181700  5.338410e+02   517.429400   359.662740   \n",
       " \n",
       "         naAromAtom    nAromBond        nAtom   nHeavyAtom           nH  ...  \\\n",
       " count  1974.000000  1974.000000  1974.000000  1974.000000  1974.000000  ...   \n",
       " mean     15.446809    16.189463    50.761905    28.112462    22.649443  ...   \n",
       " std       5.155854     5.635271    18.089182     8.073881    10.775491  ...   \n",
       " min       0.000000     0.000000    21.000000    14.000000     5.000000  ...   \n",
       " 25%      12.000000    12.000000    36.250000    21.000000    14.000000  ...   \n",
       " 50%      16.000000    18.000000    50.000000    28.000000    22.000000  ...   \n",
       " 75%      18.000000    18.000000    62.000000    34.000000    29.000000  ...   \n",
       " max      30.000000    34.000000   343.000000   163.000000   180.000000  ...   \n",
       " \n",
       "                 MW       WTPT-1       WTPT-2       WTPT-3       WTPT-4  \\\n",
       " count  1974.000000  1974.000000  1974.000000  1974.000000  1974.000000   \n",
       " mean    391.056697    57.770682     2.053493    15.656437     8.735564   \n",
       " std     111.596103    16.523972     0.031515     7.781943     4.376340   \n",
       " min     194.094294    27.170552     1.927076     2.474468     0.000000   \n",
       " 25%     303.981576    43.723136     2.037907    11.258623     5.187130   \n",
       " 50%     386.036615    56.726986     2.055335    14.958520     8.213370   \n",
       " 75%     463.195900    69.709078     2.075121    18.440536    11.348653   \n",
       " max    2349.392344   318.076845     2.141958   182.633518    50.794729   \n",
       " \n",
       "             WTPT-5          WPATH         WPOL        XLogP       Zagreb  \n",
       " count  1974.000000    1974.000000  1974.000000  1974.000000  1974.000000  \n",
       " mean      4.821318    2709.616515    46.281662     2.965087   150.716312  \n",
       " std       5.595087    7194.525584    13.287751     1.615263    41.445444  \n",
       " min       0.000000     349.000000    14.000000    -3.592000    62.000000  \n",
       " 25%       2.432671     918.000000    36.000000     1.934750   116.000000  \n",
       " 50%       3.406627    2053.000000    46.000000     2.828500   148.000000  \n",
       " 75%       6.765083    3640.000000    55.000000     3.663000   182.000000  \n",
       " max     125.737688  301690.000000   230.000000    14.283000   748.000000  \n",
       " \n",
       " [8 rows x 729 columns],\n",
       "            nAcid      ALogP      ALogp2         AMR        apol  naAromAtom  \\\n",
       " count  50.000000  50.000000   50.000000   50.000000   50.000000   50.000000   \n",
       " mean    0.320000  -0.017308   28.055538  169.706782   94.093401   16.740000   \n",
       " std     0.471212   5.350495   57.209591   72.705179   53.824009    5.209136   \n",
       " min     0.000000 -13.821500    0.065485   92.595200   51.385032    6.000000   \n",
       " 25%     0.000000   0.969075    2.495849  127.954025   63.703342   11.000000   \n",
       " 50%     0.000000   1.760250    4.949321  144.640500   73.352497   18.000000   \n",
       " 75%     1.000000   2.706350   11.141492  159.238175   85.907634   18.000000   \n",
       " max     1.000000   4.193000  191.033862  338.734100  221.678851   24.000000   \n",
       " \n",
       "        nAromBond       nAtom  nHeavyAtom         nH  ...           MW  \\\n",
       " count  50.000000   50.000000   50.000000   50.00000  ...    50.000000   \n",
       " mean   16.980000   82.420000   43.200000   39.22000  ...   595.244095   \n",
       " std     5.445425   53.168615   24.746057   28.63086  ...   353.409098   \n",
       " min     6.000000   44.000000   20.000000   17.00000  ...   288.154786   \n",
       " 25%    11.000000   53.250000   30.000000   23.00000  ...   418.113330   \n",
       " 50%    18.000000   60.500000   33.500000   27.50000  ...   456.197497   \n",
       " 75%    19.000000   74.500000   37.750000   33.75000  ...   514.279344   \n",
       " max    26.000000  209.000000  102.000000  107.00000  ...  1437.820466   \n",
       " \n",
       "            WTPT-1     WTPT-2      WTPT-3     WTPT-4     WTPT-5         WPATH  \\\n",
       " count   50.000000  50.000000   50.000000  50.000000  50.000000     50.000000   \n",
       " mean    87.215347   2.034028   27.561613  14.131100  11.896955  13184.580000   \n",
       " std     47.765365   0.039547   29.883502  11.776582  19.525123  22536.757309   \n",
       " min     39.824988   1.953031    5.547046   2.515552   0.000000    740.000000   \n",
       " 25%     61.734159   2.014474   11.640606   8.069046   0.000000   2661.000000   \n",
       " 50%     69.173910   2.050278   16.222811   8.995872   5.664925   3534.500000   \n",
       " 75%     76.286425   2.064467   21.157599  13.484816   9.570391   5411.500000   \n",
       " max    200.252007   2.084490  100.306776  42.378404  60.279759  71616.000000   \n",
       " \n",
       "              WPOL      XLogP      Zagreb  \n",
       " count   50.000000  50.000000   50.000000  \n",
       " mean    68.340000   3.205360  218.360000  \n",
       " std     36.332147   2.551268  115.555581  \n",
       " min     32.000000  -3.498000  100.000000  \n",
       " 25%     49.250000   2.623250  158.000000  \n",
       " 50%     53.500000   3.864500  174.000000  \n",
       " 75%     65.000000   4.883500  195.000000  \n",
       " max    152.000000   6.936000  490.000000  \n",
       " \n",
       " [8 rows x 729 columns])"
      ]
     },
     "execution_count": 7,
     "metadata": {},
     "output_type": "execute_result"
    }
   ],
   "source": [
    "mol.describe(),mol_test.describe()"
   ]
  },
  {
   "cell_type": "code",
   "execution_count": 8,
   "id": "78548b72",
   "metadata": {
    "ExecuteTime": {
     "end_time": "2021-10-17T14:31:52.050063Z",
     "start_time": "2021-10-17T14:31:52.043645Z"
    },
    "collapsed": true
   },
   "outputs": [
    {
     "name": "stdout",
     "output_type": "stream",
     "text": [
      "Molecular_Descriptor.xlsx 数据集中异常值个数为0\n"
     ]
    }
   ],
   "source": [
    "print('Molecular_Descriptor.xlsx 数据集中异常值个数为{}'.format(mol.isnull().any().sum()))"
   ]
  },
  {
   "cell_type": "markdown",
   "id": "0c040c5d",
   "metadata": {},
   "source": [
    "## 特征选择"
   ]
  },
  {
   "cell_type": "code",
   "execution_count": 10,
   "id": "1ee93256",
   "metadata": {
    "ExecuteTime": {
     "end_time": "2021-10-17T14:32:38.639425Z",
     "start_time": "2021-10-17T14:32:38.588702Z"
    },
    "collapsed": true
   },
   "outputs": [
    {
     "data": {
      "text/plain": [
       "((1974, 729), (1974, 729), (1974,))"
      ]
     },
     "execution_count": 10,
     "metadata": {},
     "output_type": "execute_result"
    }
   ],
   "source": [
    "# 相关性算法：灰色关联、皮尔逊、秩相关、肯德尔、余弦、典型相关分析、Elasticsearch相关性\n",
    "from sklearn.preprocessing import StandardScaler\n",
    "\n",
    "ssc = StandardScaler()\n",
    "fX = mol.values\n",
    "fX_trans = ssc.fit_transform(fX)\n",
    "fy = erapi.values\n",
    "fX.shape,fX_trans.shape,fy.shape"
   ]
  },
  {
   "cell_type": "code",
   "execution_count": 11,
   "id": "0ef29100",
   "metadata": {
    "ExecuteTime": {
     "end_time": "2021-10-17T14:32:47.254375Z",
     "start_time": "2021-10-17T14:32:47.057420Z"
    },
    "collapsed": true
   },
   "outputs": [
    {
     "name": "stdout",
     "output_type": "stream",
     "text": [
      "number of zero variance feature:  225\n",
      "<class 'pandas.core.frame.DataFrame'>\n",
      "RangeIndex: 1974 entries, 0 to 1973\n",
      "Columns: 504 entries, ndsCH to MDEN-33\n",
      "dtypes: float64(359), int64(145)\n",
      "memory usage: 7.6 MB\n"
     ]
    }
   ],
   "source": [
    "# remove features with low variance\n",
    "from sklearn.feature_selection import VarianceThreshold, SelectKBest, GenericUnivariateSelect\n",
    "# sel = VarianceThreshold(threshold=(.8 * (1 - .8)))\n",
    "sel = VarianceThreshold(threshold=0)\n",
    "sel.fit(fX)\n",
    "# print('features whose variance equal to 0:')\n",
    "sel_vars = sel.variances_\n",
    "n_zero_var = 0\n",
    "zero_var_cols = []\n",
    "for i in range(len(sel_vars)):\n",
    "    if sel_vars[i] == 0:\n",
    "#         print('{} '.format(mol.columns[i]),end=' ')\n",
    "        zero_var_cols.append(mol.columns[i])\n",
    "        n_zero_var += 1\n",
    "print('number of zero variance feature: ',n_zero_var)\n",
    "fil_cols = list(set(mol.columns).difference(set(zero_var_cols)))\n",
    "mol_fil = mol[fil_cols].copy()\n",
    "mol_fil.info()"
   ]
  },
  {
   "cell_type": "code",
   "execution_count": 12,
   "id": "5fc99f28",
   "metadata": {
    "ExecuteTime": {
     "end_time": "2021-10-17T14:32:47.687279Z",
     "start_time": "2021-10-17T14:32:47.664430Z"
    },
    "collapsed": true
   },
   "outputs": [
    {
     "data": {
      "text/plain": [
       "((1974, 504), (1974, 504))"
      ]
     },
     "execution_count": 12,
     "metadata": {},
     "output_type": "execute_result"
    }
   ],
   "source": [
    "ss = StandardScaler()\n",
    "fX_fil = mol_fil.values\n",
    "fX_fil_trans = ss.fit_transform(fX_fil)\n",
    "fX_fil.shape,fX_fil_trans.shape"
   ]
  },
  {
   "cell_type": "code",
   "execution_count": 39,
   "id": "06669ac1",
   "metadata": {
    "ExecuteTime": {
     "end_time": "2021-10-17T14:47:41.223058Z",
     "start_time": "2021-10-17T14:47:23.673818Z"
    },
    "collapsed": true
   },
   "outputs": [
    {
     "data": {
      "text/plain": [
       "['BCUTc-1l',\n",
       " 'SHsOH',\n",
       " 'SsOH',\n",
       " 'minHsOH',\n",
       " 'maxHsOH',\n",
       " 'maxsOH',\n",
       " 'minsOH',\n",
       " 'SssO',\n",
       " 'MLFER_A',\n",
       " 'MDEC-23',\n",
       " 'WTPT-5',\n",
       " 'maxssO',\n",
       " 'MLogP',\n",
       " 'MDEC-22',\n",
       " 'nC',\n",
       " 'nBase',\n",
       " 'minssO',\n",
       " 'LipoaffinityIndex',\n",
       " 'minsssN',\n",
       " 'BCUTc-1h']"
      ]
     },
     "execution_count": 39,
     "metadata": {},
     "output_type": "execute_result"
    }
   ],
   "source": [
    "# randomforest selection\n",
    "from sklearn.model_selection import cross_val_score, ShuffleSplit\n",
    "from sklearn.ensemble import RandomForestRegressor\n",
    "\n",
    "rf = RandomForestRegressor(n_estimators=2, max_depth=4,random_state=300)\n",
    "rf_scores = []\n",
    "# select individual feature and do cross-validation\n",
    "for i in range(fX_fil.shape[1]):\n",
    "    score = cross_val_score(rf,fX_fil[:, i:i+1], fy, scoring=\"r2\", cv=ShuffleSplit(10, test_size=0.3))\n",
    "    rf_scores.append((format(np.mean(score), '.3f'), mol_fil.columns[i]))\n",
    "rf_columns = sorted(rf_scores, reverse=True)[:20]\n",
    "rf_columns = [v[1] for v in rf_columns]\n",
    "rf_columns"
   ]
  },
  {
   "cell_type": "markdown",
   "id": "d09cae2f",
   "metadata": {},
   "source": [
    "## 回归模型选择"
   ]
  },
  {
   "cell_type": "code",
   "execution_count": 40,
   "id": "02034eb8",
   "metadata": {
    "ExecuteTime": {
     "end_time": "2021-10-17T14:48:05.712819Z",
     "start_time": "2021-10-17T14:48:05.655708Z"
    },
    "collapsed": true
   },
   "outputs": [],
   "source": [
    "from sklearn.model_selection import train_test_split\n",
    "from sklearn import metrics\n",
    "from sklearn.preprocessing import StandardScaler\n",
    "\n",
    "era_test = pd.read_excel('ERα_activity.xlsx',sheet_name='test')\n",
    "train_X = mol[rf_columns].values\n",
    "test_X = mol_test[rf_columns].values\n",
    "train_y = fy\n",
    "\n",
    "X_train, X_valid, y_train, y_valid = train_test_split(train_X, train_y,test_size=0.3,shuffle=True, random_state=100)\n",
    "# X_train.shape, X_test.shape, y_train.shape,y_test.shape"
   ]
  },
  {
   "cell_type": "code",
   "execution_count": 42,
   "id": "2d8a5cfa",
   "metadata": {
    "ExecuteTime": {
     "end_time": "2021-10-17T14:48:21.522384Z",
     "start_time": "2021-10-17T14:48:21.508430Z"
    },
    "collapsed": true
   },
   "outputs": [],
   "source": [
    "from sklearn.linear_model import ElasticNet, Lasso,  BayesianRidge, LassoLarsIC\n",
    "from sklearn.ensemble import RandomForestRegressor,  GradientBoostingRegressor\n",
    "from sklearn.kernel_ridge import KernelRidge\n",
    "from sklearn.pipeline import make_pipeline\n",
    "from sklearn.preprocessing import RobustScaler\n",
    "from sklearn.base import BaseEstimator, TransformerMixin, RegressorMixin, clone\n",
    "from sklearn.model_selection import KFold, cross_val_score, train_test_split,GridSearchCV\n",
    "from sklearn.metrics import mean_squared_error\n",
    "import xgboost as xgb\n",
    "import lightgbm as lgb\n",
    "\n",
    "# Validation function\n",
    "n_folds = 5\n",
    "train = train_X\n",
    "def mse_cv(model):\n",
    "    kf = KFold(n_folds, shuffle=True, random_state=100).get_n_splits(train_X)\n",
    "    mse = -cross_val_score(model, train_X, train_y, scoring=\"neg_mean_squared_error\", cv = kf)\n",
    "#     rmse= np.sqrt(-cross_val_score(model, train_X, train_y, scoring=\"neg_mean_squared_error\", cv = kf))\n",
    "    return mse\n",
    "\n",
    "# utilize individual model\n",
    "lasso = make_pipeline(StandardScaler(), Lasso(alpha =0.005, random_state=100))\n",
    "\n",
    "# ENet = make_pipeline(StandardScaler(), GridSearchCV(ElasticNet(random_state=100), param_grid=[\n",
    "#     {'alpha':[0.0005], 'l1_ratio':[.8,.9]}\n",
    "# ],cv=3,scoring='neg_mean_squared_error'))\n",
    "\n",
    "ENet = make_pipeline(StandardScaler(), ElasticNet(max_iter=3000,alpha=0.0005, l1_ratio=.9, random_state=100))\n",
    "\n",
    "KRR = GridSearchCV(KernelRidge(), param_grid=[\n",
    "                {'alpha':[0.1,0.3,0.9,1.2,1.5,2.0], 'degree':[2,3,4],'coef0':[1,2.5]}\n",
    "            ],cv=3,scoring='neg_mean_squared_error')\n",
    "\n",
    "RFR = RandomForestRegressor(n_estimators=100,criterion='mse', random_state=0)\n",
    "\n",
    "GBoost = GradientBoostingRegressor(n_estimators=3000, learning_rate=0.05,\n",
    "                                   max_depth=4, max_features='sqrt',\n",
    "                                   min_samples_leaf=15, min_samples_split=10, \n",
    "                                   loss='huber', random_state =5)\n",
    "\n",
    "model_xgb = xgb.XGBRegressor(colsample_bytree=0.4603, gamma=0.0468, \n",
    "                             learning_rate=0.05, max_depth=3, \n",
    "                             min_child_weight=1.7817, n_estimators=2200,\n",
    "                             reg_alpha=0.4640, reg_lambda=0.8571,\n",
    "                             subsample=0.5213, silent=1,\n",
    "                             random_state =7, nthread = -1)\n",
    "\n",
    "model_lgb = lgb.LGBMRegressor(objective='regression',num_leaves=5,\n",
    "                              learning_rate=0.05, n_estimators=720,\n",
    "                              max_bin = 55, bagging_fraction = 0.8,\n",
    "                              bagging_freq = 5, feature_fraction = 0.2319,\n",
    "                              feature_fraction_seed=9, bagging_seed=9,\n",
    "                              min_data_in_leaf =6, min_sum_hessian_in_leaf = 11)"
   ]
  },
  {
   "cell_type": "code",
   "execution_count": 167,
   "id": "8f9170d1",
   "metadata": {
    "ExecuteTime": {
     "end_time": "2021-10-17T13:20:54.259359Z",
     "start_time": "2021-10-17T13:20:54.180607Z"
    },
    "collapsed": true
   },
   "outputs": [
    {
     "name": "stdout",
     "output_type": "stream",
     "text": [
      "ElasticNet score: 1.1231 (0.3758)\n",
      "\n"
     ]
    }
   ],
   "source": [
    "score = mse_cv(ENet)\n",
    "print(\"ElasticNet score: {:.4f} ({:.4f})\\n\".format(score.mean(), score.std()))"
   ]
  },
  {
   "cell_type": "code",
   "execution_count": 43,
   "id": "7ff53990",
   "metadata": {
    "ExecuteTime": {
     "end_time": "2021-10-17T14:49:35.152118Z",
     "start_time": "2021-10-17T14:48:24.114605Z"
    },
    "collapsed": true
   },
   "outputs": [
    {
     "name": "stdout",
     "output_type": "stream",
     "text": [
      "Lasso score: 1.2082 (0.3228)\n",
      "\n",
      "ElasticNet score: 1.1826 (0.2922)\n",
      "\n"
     ]
    },
    {
     "name": "stderr",
     "output_type": "stream",
     "text": [
      "/Users/johnson/opt/anaconda3/envs/prac/lib/python3.8/site-packages/sklearn/linear_model/_coordinate_descent.py:530: ConvergenceWarning: Objective did not converge. You might want to increase the number of iterations. Duality gap: 0.6881165486017835, tolerance: 0.28421570660568457\n",
      "  model = cd_fast.enet_coordinate_descent(\n"
     ]
    },
    {
     "name": "stdout",
     "output_type": "stream",
     "text": [
      "RandomForestRegressor score: 1.0242 (0.2715)\n",
      "\n",
      "GBoost score: 1.0484 (0.2236)\n",
      "\n",
      "Kernel Ridge score: 1.3863 (0.3459)\n",
      "\n"
     ]
    }
   ],
   "source": [
    "score = mse_cv(lasso)\n",
    "print(\"Lasso score: {:.4f} ({:.4f})\\n\".format(score.mean(), score.std()))\n",
    "score = mse_cv(ENet)\n",
    "print(\"ElasticNet score: {:.4f} ({:.4f})\\n\".format(score.mean(), score.std()))\n",
    "score = mse_cv(RFR)\n",
    "print(\"RandomForestRegressor score: {:.4f} ({:.4f})\\n\".format(score.mean(), score.std()))\n",
    "score = mse_cv(GBoost)\n",
    "print(\"GBoost score: {:.4f} ({:.4f})\\n\".format(score.mean(), score.std()))\n",
    "score = mse_cv(KRR)\n",
    "print(\"Kernel Ridge score: {:.4f} ({:.4f})\\n\".format(score.mean(), score.std()))"
   ]
  },
  {
   "cell_type": "code",
   "execution_count": 44,
   "id": "0bcdc435",
   "metadata": {
    "ExecuteTime": {
     "end_time": "2021-10-17T14:49:49.105830Z",
     "start_time": "2021-10-17T14:49:39.692846Z"
    },
    "collapsed": true
   },
   "outputs": [
    {
     "name": "stdout",
     "output_type": "stream",
     "text": [
      "[22:49:39] WARNING: /Users/runner/miniforge3/conda-bld/xgboost-split_1631904775127/work/src/learner.cc:573: \n",
      "Parameters: { \"silent\" } might not be used.\n",
      "\n",
      "  This may not be accurate due to some parameters are only used in language bindings but\n",
      "  passed down to XGBoost core.  Or some parameters are not used but slip through this\n",
      "  verification. Please open an issue if you find above cases.\n",
      "\n",
      "\n",
      "[22:49:41] WARNING: /Users/runner/miniforge3/conda-bld/xgboost-split_1631904775127/work/src/learner.cc:573: \n",
      "Parameters: { \"silent\" } might not be used.\n",
      "\n",
      "  This may not be accurate due to some parameters are only used in language bindings but\n",
      "  passed down to XGBoost core.  Or some parameters are not used but slip through this\n",
      "  verification. Please open an issue if you find above cases.\n",
      "\n",
      "\n",
      "[22:49:43] WARNING: /Users/runner/miniforge3/conda-bld/xgboost-split_1631904775127/work/src/learner.cc:573: \n",
      "Parameters: { \"silent\" } might not be used.\n",
      "\n",
      "  This may not be accurate due to some parameters are only used in language bindings but\n",
      "  passed down to XGBoost core.  Or some parameters are not used but slip through this\n",
      "  verification. Please open an issue if you find above cases.\n",
      "\n",
      "\n",
      "[22:49:45] WARNING: /Users/runner/miniforge3/conda-bld/xgboost-split_1631904775127/work/src/learner.cc:573: \n",
      "Parameters: { \"silent\" } might not be used.\n",
      "\n",
      "  This may not be accurate due to some parameters are only used in language bindings but\n",
      "  passed down to XGBoost core.  Or some parameters are not used but slip through this\n",
      "  verification. Please open an issue if you find above cases.\n",
      "\n",
      "\n",
      "[22:49:47] WARNING: /Users/runner/miniforge3/conda-bld/xgboost-split_1631904775127/work/src/learner.cc:573: \n",
      "Parameters: { \"silent\" } might not be used.\n",
      "\n",
      "  This may not be accurate due to some parameters are only used in language bindings but\n",
      "  passed down to XGBoost core.  Or some parameters are not used but slip through this\n",
      "  verification. Please open an issue if you find above cases.\n",
      "\n",
      "\n",
      "Xgboost score: 1.0220 (0.2575)\n",
      "\n"
     ]
    }
   ],
   "source": [
    "score = mse_cv(model_xgb)\n",
    "print(\"Xgboost score: {:.4f} ({:.4f})\\n\".format(score.mean(), score.std()))"
   ]
  },
  {
   "cell_type": "code",
   "execution_count": 45,
   "id": "5f8ca99f",
   "metadata": {
    "ExecuteTime": {
     "end_time": "2021-10-17T14:49:50.356294Z",
     "start_time": "2021-10-17T14:49:49.402228Z"
    },
    "collapsed": true
   },
   "outputs": [
    {
     "name": "stdout",
     "output_type": "stream",
     "text": [
      "[LightGBM] [Warning] min_sum_hessian_in_leaf is set=11, min_child_weight=0.001 will be ignored. Current value: min_sum_hessian_in_leaf=11\n",
      "[LightGBM] [Warning] bagging_freq is set=5, subsample_freq=0 will be ignored. Current value: bagging_freq=5\n",
      "[LightGBM] [Warning] min_data_in_leaf is set=6, min_child_samples=20 will be ignored. Current value: min_data_in_leaf=6\n",
      "[LightGBM] [Warning] feature_fraction is set=0.2319, colsample_bytree=1.0 will be ignored. Current value: feature_fraction=0.2319\n",
      "[LightGBM] [Warning] bagging_fraction is set=0.8, subsample=1.0 will be ignored. Current value: bagging_fraction=0.8\n",
      "[LightGBM] [Warning] min_sum_hessian_in_leaf is set=11, min_child_weight=0.001 will be ignored. Current value: min_sum_hessian_in_leaf=11\n",
      "[LightGBM] [Warning] bagging_freq is set=5, subsample_freq=0 will be ignored. Current value: bagging_freq=5\n",
      "[LightGBM] [Warning] min_data_in_leaf is set=6, min_child_samples=20 will be ignored. Current value: min_data_in_leaf=6\n",
      "[LightGBM] [Warning] feature_fraction is set=0.2319, colsample_bytree=1.0 will be ignored. Current value: feature_fraction=0.2319\n",
      "[LightGBM] [Warning] bagging_fraction is set=0.8, subsample=1.0 will be ignored. Current value: bagging_fraction=0.8\n",
      "[LightGBM] [Warning] min_sum_hessian_in_leaf is set=11, min_child_weight=0.001 will be ignored. Current value: min_sum_hessian_in_leaf=11\n",
      "[LightGBM] [Warning] bagging_freq is set=5, subsample_freq=0 will be ignored. Current value: bagging_freq=5\n",
      "[LightGBM] [Warning] min_data_in_leaf is set=6, min_child_samples=20 will be ignored. Current value: min_data_in_leaf=6\n",
      "[LightGBM] [Warning] feature_fraction is set=0.2319, colsample_bytree=1.0 will be ignored. Current value: feature_fraction=0.2319\n",
      "[LightGBM] [Warning] bagging_fraction is set=0.8, subsample=1.0 will be ignored. Current value: bagging_fraction=0.8\n",
      "[LightGBM] [Warning] min_sum_hessian_in_leaf is set=11, min_child_weight=0.001 will be ignored. Current value: min_sum_hessian_in_leaf=11\n",
      "[LightGBM] [Warning] bagging_freq is set=5, subsample_freq=0 will be ignored. Current value: bagging_freq=5\n",
      "[LightGBM] [Warning] min_data_in_leaf is set=6, min_child_samples=20 will be ignored. Current value: min_data_in_leaf=6\n",
      "[LightGBM] [Warning] feature_fraction is set=0.2319, colsample_bytree=1.0 will be ignored. Current value: feature_fraction=0.2319\n",
      "[LightGBM] [Warning] bagging_fraction is set=0.8, subsample=1.0 will be ignored. Current value: bagging_fraction=0.8\n",
      "[LightGBM] [Warning] min_sum_hessian_in_leaf is set=11, min_child_weight=0.001 will be ignored. Current value: min_sum_hessian_in_leaf=11\n",
      "[LightGBM] [Warning] bagging_freq is set=5, subsample_freq=0 will be ignored. Current value: bagging_freq=5\n",
      "[LightGBM] [Warning] min_data_in_leaf is set=6, min_child_samples=20 will be ignored. Current value: min_data_in_leaf=6\n",
      "[LightGBM] [Warning] feature_fraction is set=0.2319, colsample_bytree=1.0 will be ignored. Current value: feature_fraction=0.2319\n",
      "[LightGBM] [Warning] bagging_fraction is set=0.8, subsample=1.0 will be ignored. Current value: bagging_fraction=0.8\n",
      "LGBM score: 0.9728 (0.2345)\n",
      "\n"
     ]
    }
   ],
   "source": [
    "score = mse_cv(model_lgb)\n",
    "print(\"LGBM score: {:.4f} ({:.4f})\\n\" .format(score.mean(), score.std()))"
   ]
  },
  {
   "cell_type": "code",
   "execution_count": 46,
   "id": "427fba13",
   "metadata": {
    "ExecuteTime": {
     "end_time": "2021-10-17T14:49:55.442367Z",
     "start_time": "2021-10-17T14:49:55.432154Z"
    },
    "collapsed": true
   },
   "outputs": [],
   "source": [
    "class StackingAveragedModels(BaseEstimator, RegressorMixin, TransformerMixin):\n",
    "    def __init__(self, base_models, meta_model, n_folds=5):\n",
    "        self.base_models = base_models\n",
    "        self.meta_model = meta_model\n",
    "        self.n_folds = n_folds\n",
    "   \n",
    "    # We again fit the data on clones of the original models\n",
    "    def fit(self, X, y):\n",
    "        self.base_models_ = [list() for x in self.base_models]\n",
    "        self.meta_model_ = clone(self.meta_model)\n",
    "        kfold = KFold(n_splits=self.n_folds, shuffle=True, random_state=156)\n",
    "        \n",
    "        # Train cloned base models then create out-of-fold predictions\n",
    "        # that are needed to train the cloned meta-model\n",
    "        out_of_fold_predictions = np.zeros((X.shape[0], len(self.base_models)))\n",
    "        for i, model in enumerate(self.base_models):\n",
    "            for train_index, holdout_index in kfold.split(X, y):\n",
    "                instance = clone(model)\n",
    "                self.base_models_[i].append(instance)\n",
    "                instance.fit(X[train_index], y[train_index])\n",
    "                y_pred = instance.predict(X[holdout_index])\n",
    "                out_of_fold_predictions[holdout_index, i] = y_pred\n",
    "                \n",
    "        # Now train the cloned  meta-model using the out-of-fold predictions as new feature\n",
    "        self.meta_model_.fit(out_of_fold_predictions, y)\n",
    "        return self\n",
    "   \n",
    "    #Do the predictions of all base models on the test data and use the averaged predictions as \n",
    "    #meta-features for the final prediction which is done by the meta-model\n",
    "    def predict(self, X):\n",
    "        meta_features = np.column_stack([\n",
    "            np.column_stack([model.predict(X) for model in base_models]).mean(axis=1)\n",
    "            for base_models in self.base_models_ ])\n",
    "        return self.meta_model_.predict(meta_features)"
   ]
  },
  {
   "cell_type": "code",
   "execution_count": 47,
   "id": "e22327ac",
   "metadata": {
    "ExecuteTime": {
     "end_time": "2021-10-17T14:54:19.303264Z",
     "start_time": "2021-10-17T14:49:58.897516Z"
    },
    "collapsed": true
   },
   "outputs": [
    {
     "name": "stderr",
     "output_type": "stream",
     "text": [
      "/Users/johnson/opt/anaconda3/envs/prac/lib/python3.8/site-packages/sklearn/linear_model/_coordinate_descent.py:530: ConvergenceWarning: Objective did not converge. You might want to increase the number of iterations. Duality gap: 0.5625698850615208, tolerance: 0.27636768397237726\n",
      "  model = cd_fast.enet_coordinate_descent(\n",
      "/Users/johnson/opt/anaconda3/envs/prac/lib/python3.8/site-packages/sklearn/linear_model/_coordinate_descent.py:530: ConvergenceWarning: Objective did not converge. You might want to increase the number of iterations. Duality gap: 0.6635109995042967, tolerance: 0.22300474783561886\n",
      "  model = cd_fast.enet_coordinate_descent(\n",
      "/Users/johnson/opt/anaconda3/envs/prac/lib/python3.8/site-packages/sklearn/linear_model/_coordinate_descent.py:530: ConvergenceWarning: Objective did not converge. You might want to increase the number of iterations. Duality gap: 1.167478250879185, tolerance: 0.22944781411432516\n",
      "  model = cd_fast.enet_coordinate_descent(\n",
      "/Users/johnson/opt/anaconda3/envs/prac/lib/python3.8/site-packages/sklearn/linear_model/_coordinate_descent.py:530: ConvergenceWarning: Objective did not converge. You might want to increase the number of iterations. Duality gap: 0.4152744091297791, tolerance: 0.22532407013583344\n",
      "  model = cd_fast.enet_coordinate_descent(\n",
      "/Users/johnson/opt/anaconda3/envs/prac/lib/python3.8/site-packages/sklearn/linear_model/_coordinate_descent.py:530: ConvergenceWarning: Objective did not converge. You might want to increase the number of iterations. Duality gap: 1.4121819971051082, tolerance: 0.22934143110466995\n",
      "  model = cd_fast.enet_coordinate_descent(\n",
      "/Users/johnson/opt/anaconda3/envs/prac/lib/python3.8/site-packages/sklearn/linear_model/_coordinate_descent.py:530: ConvergenceWarning: Objective did not converge. You might want to increase the number of iterations. Duality gap: 21.355981384130928, tolerance: 0.2534264661103641\n",
      "  model = cd_fast.enet_coordinate_descent(\n"
     ]
    },
    {
     "name": "stdout",
     "output_type": "stream",
     "text": [
      "Stacking Averaged models score: 0.9748 (0.2622)\n"
     ]
    }
   ],
   "source": [
    "stacked_averaged_models = StackingAveragedModels(base_models = (ENet, RFR ,GBoost),\n",
    "                                                 meta_model = lasso)\n",
    "\n",
    "score = mse_cv(stacked_averaged_models)\n",
    "print(\"Stacking Averaged models score: {:.4f} ({:.4f})\".format(score.mean(), score.std()))"
   ]
  },
  {
   "cell_type": "code",
   "execution_count": 48,
   "id": "b09baf36",
   "metadata": {
    "ExecuteTime": {
     "end_time": "2021-10-17T15:03:27.554122Z",
     "start_time": "2021-10-17T15:02:18.681638Z"
    },
    "collapsed": true
   },
   "outputs": [
    {
     "name": "stderr",
     "output_type": "stream",
     "text": [
      "/Users/johnson/opt/anaconda3/envs/prac/lib/python3.8/site-packages/sklearn/linear_model/_coordinate_descent.py:530: ConvergenceWarning: Objective did not converge. You might want to increase the number of iterations. Duality gap: 0.34815279282838674, tolerance: 0.3216047118705655\n",
      "  model = cd_fast.enet_coordinate_descent(\n"
     ]
    }
   ],
   "source": [
    "# stack model performance\n",
    "stacked_averaged_models.fit(train_X, train_y)\n",
    "stacked_train_pred = stacked_averaged_models.predict(train_X)\n",
    "stacked_pred = stacked_averaged_models.predict(test_X)"
   ]
  },
  {
   "cell_type": "code",
   "execution_count": 49,
   "id": "23b1a898",
   "metadata": {
    "ExecuteTime": {
     "end_time": "2021-10-17T15:03:43.631939Z",
     "start_time": "2021-10-17T15:03:41.187538Z"
    },
    "collapsed": true
   },
   "outputs": [
    {
     "name": "stdout",
     "output_type": "stream",
     "text": [
      "[23:03:41] WARNING: /Users/runner/miniforge3/conda-bld/xgboost-split_1631904775127/work/src/learner.cc:573: \n",
      "Parameters: { \"silent\" } might not be used.\n",
      "\n",
      "  This may not be accurate due to some parameters are only used in language bindings but\n",
      "  passed down to XGBoost core.  Or some parameters are not used but slip through this\n",
      "  verification. Please open an issue if you find above cases.\n",
      "\n",
      "\n",
      "[LightGBM] [Warning] min_sum_hessian_in_leaf is set=11, min_child_weight=0.001 will be ignored. Current value: min_sum_hessian_in_leaf=11\n",
      "[LightGBM] [Warning] bagging_freq is set=5, subsample_freq=0 will be ignored. Current value: bagging_freq=5\n",
      "[LightGBM] [Warning] min_data_in_leaf is set=6, min_child_samples=20 will be ignored. Current value: min_data_in_leaf=6\n",
      "[LightGBM] [Warning] feature_fraction is set=0.2319, colsample_bytree=1.0 will be ignored. Current value: feature_fraction=0.2319\n",
      "[LightGBM] [Warning] bagging_fraction is set=0.8, subsample=1.0 will be ignored. Current value: bagging_fraction=0.8\n",
      "Stack model MSE 0.11439596778220512\n",
      "XGBoost regression MSE 0.08676743051196513\n",
      "LightGBM regression MSE:  0.35050901645970484\n"
     ]
    }
   ],
   "source": [
    "model_xgb.fit(train_X, train_y)\n",
    "xgb_train_pred = model_xgb.predict(train_X)\n",
    "xgb_pred = model_xgb.predict(test_X)\n",
    "\n",
    "model_lgb.fit(train, train_y)\n",
    "lgb_train_pred = model_lgb.predict(train_X)\n",
    "lgb_pred = model_lgb.predict(test_X)\n",
    "\n",
    "print('Stack model MSE', mean_squared_error(train_y, stacked_train_pred))\n",
    "print('XGBoost regression MSE',mean_squared_error(train_y, xgb_train_pred))\n",
    "print('LightGBM regression MSE: ', mean_squared_error(train_y, lgb_train_pred))"
   ]
  },
  {
   "cell_type": "code",
   "execution_count": 50,
   "id": "5e9f8ba3",
   "metadata": {
    "ExecuteTime": {
     "end_time": "2021-10-17T15:06:16.161675Z",
     "start_time": "2021-10-17T15:06:15.520024Z"
    },
    "collapsed": true
   },
   "outputs": [],
   "source": [
    "# save regression model to file\n",
    "import pickle\n",
    "with open('xgb.model',mode='wb') as f:\n",
    "    pickle.dump(model_xgb,f)\n",
    "with open('stacked.model',mode='wb') as f:\n",
    "    pickle.dump(stacked_averaged_models,f)\n",
    "with open('lgb.model',mode='wb') as f:\n",
    "    pickle.dump(model_lgb,f)"
   ]
  },
  {
   "cell_type": "code",
   "execution_count": 51,
   "id": "90baeaa5",
   "metadata": {
    "ExecuteTime": {
     "end_time": "2021-10-17T15:06:37.239176Z",
     "start_time": "2021-10-17T15:06:37.232607Z"
    },
    "collapsed": true
   },
   "outputs": [
    {
     "name": "stdout",
     "output_type": "stream",
     "text": [
      "MSE score on train data: 0.10955402061292448\n"
     ]
    }
   ],
   "source": [
    "# TODO: find relatively small RMSE\n",
    "print('MSE score on train data:', mean_squared_error(train_y,stacked_train_pred*0.70 +\n",
    "               xgb_train_pred*0.25 + lgb_train_pred*0.05 ))"
   ]
  },
  {
   "cell_type": "code",
   "execution_count": 52,
   "id": "7de2ea20",
   "metadata": {
    "ExecuteTime": {
     "end_time": "2021-10-17T15:06:39.882879Z",
     "start_time": "2021-10-17T15:06:39.879427Z"
    },
    "collapsed": true
   },
   "outputs": [],
   "source": [
    "ensemble = stacked_pred*0.70 + xgb_pred*0.15 + lgb_pred*0.15\n",
    "# convert pIC50 to IC50_nM: 10^(-y+9)\n",
    "result = np.power(10,(-ensemble + 9))"
   ]
  },
  {
   "cell_type": "markdown",
   "id": "291d4877",
   "metadata": {},
   "source": [
    "### 写入ERa文件"
   ]
  },
  {
   "cell_type": "code",
   "execution_count": 259,
   "id": "82ab91fe",
   "metadata": {
    "ExecuteTime": {
     "end_time": "2021-10-17T18:09:22.941920Z",
     "start_time": "2021-10-17T18:09:22.904504Z"
    },
    "collapsed": true
   },
   "outputs": [
    {
     "data": {
      "text/html": [
       "<div>\n",
       "<style scoped>\n",
       "    .dataframe tbody tr th:only-of-type {\n",
       "        vertical-align: middle;\n",
       "    }\n",
       "\n",
       "    .dataframe tbody tr th {\n",
       "        vertical-align: top;\n",
       "    }\n",
       "\n",
       "    .dataframe thead th {\n",
       "        text-align: right;\n",
       "    }\n",
       "</style>\n",
       "<table border=\"1\" class=\"dataframe\">\n",
       "  <thead>\n",
       "    <tr style=\"text-align: right;\">\n",
       "      <th></th>\n",
       "      <th>SMILES</th>\n",
       "      <th>IC50_nM</th>\n",
       "      <th>pIC50</th>\n",
       "    </tr>\n",
       "  </thead>\n",
       "  <tbody>\n",
       "    <tr>\n",
       "      <th>0</th>\n",
       "      <td>COc1cc(OC)cc(\\C=C\\c2ccc(OS(=O)(=O)[C@@H]3C[C@@...</td>\n",
       "      <td>28.332603</td>\n",
       "      <td>7.547714</td>\n",
       "    </tr>\n",
       "    <tr>\n",
       "      <th>1</th>\n",
       "      <td>OC(=O)\\C=C\\c1ccc(cc1)C2=C(CCOc3ccccc23)c4ccc(O...</td>\n",
       "      <td>29.106274</td>\n",
       "      <td>7.536013</td>\n",
       "    </tr>\n",
       "    <tr>\n",
       "      <th>2</th>\n",
       "      <td>COc1ccc2C(=C(CCOc2c1)c3ccc(O)cc3)c4ccc(\\C=C\\C(...</td>\n",
       "      <td>74.512819</td>\n",
       "      <td>7.127769</td>\n",
       "    </tr>\n",
       "    <tr>\n",
       "      <th>3</th>\n",
       "      <td>OC(=O)\\C=C\\c1ccc(cc1)C2=C(CCOc3cc(F)ccc23)c4cc...</td>\n",
       "      <td>28.769850</td>\n",
       "      <td>7.541062</td>\n",
       "    </tr>\n",
       "    <tr>\n",
       "      <th>4</th>\n",
       "      <td>OC(=O)\\C=C\\c1ccc(cc1)C2=C(CCSc3cc(F)ccc23)c4cc...</td>\n",
       "      <td>31.298938</td>\n",
       "      <td>7.504470</td>\n",
       "    </tr>\n",
       "  </tbody>\n",
       "</table>\n",
       "</div>"
      ],
      "text/plain": [
       "                                              SMILES    IC50_nM     pIC50\n",
       "0  COc1cc(OC)cc(\\C=C\\c2ccc(OS(=O)(=O)[C@@H]3C[C@@...  28.332603  7.547714\n",
       "1  OC(=O)\\C=C\\c1ccc(cc1)C2=C(CCOc3ccccc23)c4ccc(O...  29.106274  7.536013\n",
       "2  COc1ccc2C(=C(CCOc2c1)c3ccc(O)cc3)c4ccc(\\C=C\\C(...  74.512819  7.127769\n",
       "3  OC(=O)\\C=C\\c1ccc(cc1)C2=C(CCOc3cc(F)ccc23)c4cc...  28.769850  7.541062\n",
       "4  OC(=O)\\C=C\\c1ccc(cc1)C2=C(CCSc3cc(F)ccc23)c4cc...  31.298938  7.504470"
      ]
     },
     "execution_count": 259,
     "metadata": {},
     "output_type": "execute_result"
    }
   ],
   "source": [
    "era_test['pIC50'] = ensemble\n",
    "era_test['IC50_nM'] = result\n",
    "era_test.to_excel('ERα_activity_bp.xlsx',sheet_name='test',index=False)\n",
    "era_test_read = pd.read_excel('ERα_activity_bp.xlsx')\n",
    "era_test_read.head()"
   ]
  },
  {
   "cell_type": "code",
   "execution_count": null,
   "id": "9aed4843",
   "metadata": {
    "collapsed": true
   },
   "outputs": [],
   "source": []
  },
  {
   "cell_type": "markdown",
   "id": "afaa5d18",
   "metadata": {},
   "source": [
    "## 分类模型选择"
   ]
  },
  {
   "cell_type": "markdown",
   "id": "b4e26cc7",
   "metadata": {},
   "source": [
    "### 导入数据并划分"
   ]
  },
  {
   "cell_type": "code",
   "execution_count": 54,
   "id": "6ac22320",
   "metadata": {
    "ExecuteTime": {
     "end_time": "2021-10-17T15:06:59.919770Z",
     "start_time": "2021-10-17T15:06:58.406408Z"
    },
    "collapsed": true
   },
   "outputs": [
    {
     "data": {
      "text/plain": [
       "(            Caco-2       CYP3A4         hERG          HOB           MN\n",
       " count  1974.000000  1974.000000  1974.000000  1974.000000  1974.000000\n",
       " mean      0.384498     0.740122     0.556738     0.257852     0.766971\n",
       " std       0.486600     0.438679     0.496896     0.437563     0.422868\n",
       " min       0.000000     0.000000     0.000000     0.000000     0.000000\n",
       " 25%       0.000000     0.000000     0.000000     0.000000     1.000000\n",
       " 50%       0.000000     1.000000     1.000000     0.000000     1.000000\n",
       " 75%       1.000000     1.000000     1.000000     1.000000     1.000000\n",
       " max       1.000000     1.000000     1.000000     1.000000     1.000000,\n",
       "            nAcid      ALogP      ALogp2         AMR        apol  naAromAtom  \\\n",
       " count  50.000000  50.000000   50.000000   50.000000   50.000000   50.000000   \n",
       " mean    0.320000  -0.017308   28.055538  169.706782   94.093401   16.740000   \n",
       " std     0.471212   5.350495   57.209591   72.705179   53.824009    5.209136   \n",
       " min     0.000000 -13.821500    0.065485   92.595200   51.385032    6.000000   \n",
       " 25%     0.000000   0.969075    2.495849  127.954025   63.703342   11.000000   \n",
       " 50%     0.000000   1.760250    4.949321  144.640500   73.352497   18.000000   \n",
       " 75%     1.000000   2.706350   11.141492  159.238175   85.907634   18.000000   \n",
       " max     1.000000   4.193000  191.033862  338.734100  221.678851   24.000000   \n",
       " \n",
       "        nAromBond       nAtom  nHeavyAtom         nH  ...           MW  \\\n",
       " count  50.000000   50.000000   50.000000   50.00000  ...    50.000000   \n",
       " mean   16.980000   82.420000   43.200000   39.22000  ...   595.244095   \n",
       " std     5.445425   53.168615   24.746057   28.63086  ...   353.409098   \n",
       " min     6.000000   44.000000   20.000000   17.00000  ...   288.154786   \n",
       " 25%    11.000000   53.250000   30.000000   23.00000  ...   418.113330   \n",
       " 50%    18.000000   60.500000   33.500000   27.50000  ...   456.197497   \n",
       " 75%    19.000000   74.500000   37.750000   33.75000  ...   514.279344   \n",
       " max    26.000000  209.000000  102.000000  107.00000  ...  1437.820466   \n",
       " \n",
       "            WTPT-1     WTPT-2      WTPT-3     WTPT-4     WTPT-5         WPATH  \\\n",
       " count   50.000000  50.000000   50.000000  50.000000  50.000000     50.000000   \n",
       " mean    87.215347   2.034028   27.561613  14.131100  11.896955  13184.580000   \n",
       " std     47.765365   0.039547   29.883502  11.776582  19.525123  22536.757309   \n",
       " min     39.824988   1.953031    5.547046   2.515552   0.000000    740.000000   \n",
       " 25%     61.734159   2.014474   11.640606   8.069046   0.000000   2661.000000   \n",
       " 50%     69.173910   2.050278   16.222811   8.995872   5.664925   3534.500000   \n",
       " 75%     76.286425   2.064467   21.157599  13.484816   9.570391   5411.500000   \n",
       " max    200.252007   2.084490  100.306776  42.378404  60.279759  71616.000000   \n",
       " \n",
       "              WPOL      XLogP      Zagreb  \n",
       " count   50.000000  50.000000   50.000000  \n",
       " mean    68.340000   3.205360  218.360000  \n",
       " std     36.332147   2.551268  115.555581  \n",
       " min     32.000000  -3.498000  100.000000  \n",
       " 25%     49.250000   2.623250  158.000000  \n",
       " 50%     53.500000   3.864500  174.000000  \n",
       " 75%     65.000000   4.883500  195.000000  \n",
       " max    152.000000   6.936000  490.000000  \n",
       " \n",
       " [8 rows x 729 columns],\n",
       "        Caco-2  CYP3A4  hERG  HOB   MN\n",
       " count     0.0     0.0   0.0  0.0  0.0\n",
       " mean      NaN     NaN   NaN  NaN  NaN\n",
       " std       NaN     NaN   NaN  NaN  NaN\n",
       " min       NaN     NaN   NaN  NaN  NaN\n",
       " 25%       NaN     NaN   NaN  NaN  NaN\n",
       " 50%       NaN     NaN   NaN  NaN  NaN\n",
       " 75%       NaN     NaN   NaN  NaN  NaN\n",
       " max       NaN     NaN   NaN  NaN  NaN)"
      ]
     },
     "execution_count": 54,
     "metadata": {},
     "output_type": "execute_result"
    }
   ],
   "source": [
    "adm_train_src = pd.read_excel('ADMET.xlsx',sheet_name='training')\n",
    "mol_test_src = pd.read_excel('Molecular_Descriptor.xlsx',sheet_name='test')\n",
    "adm_test_src = pd.read_excel('ADMET.xlsx',sheet_name='test')\n",
    "adm_train_src.describe(), mol_test_src.describe(),adm_test_src.describe()"
   ]
  },
  {
   "cell_type": "code",
   "execution_count": 55,
   "id": "5d70415d",
   "metadata": {
    "ExecuteTime": {
     "end_time": "2021-10-17T15:07:00.479575Z",
     "start_time": "2021-10-17T15:07:00.465352Z"
    },
    "collapsed": true
   },
   "outputs": [
    {
     "data": {
      "text/plain": [
       "(50, 729)"
      ]
     },
     "execution_count": 55,
     "metadata": {},
     "output_type": "execute_result"
    }
   ],
   "source": [
    "Xtest = mol_test_src.drop(columns=['SMILES']).values\n",
    "Xtest.shape"
   ]
  },
  {
   "cell_type": "code",
   "execution_count": 56,
   "id": "4f873c99",
   "metadata": {
    "ExecuteTime": {
     "end_time": "2021-10-17T15:07:01.010775Z",
     "start_time": "2021-10-17T15:07:01.006493Z"
    },
    "collapsed": true
   },
   "outputs": [],
   "source": [
    "# Xgboost、受限玻尔兹曼机(RBM)[DBN神经网络中的核心]、多层感知MLP、自组织映射SOM、lightBM\n",
    "adm_train = adm_train_src.drop(columns=['SMILES'])\n",
    "caco = adm_train['Caco-2']\n",
    "cyp = adm_train['CYP3A4']\n",
    "her = adm_train['hERG']\n",
    "hob = adm_train['HOB']\n",
    "mn = adm_train['MN']"
   ]
  },
  {
   "cell_type": "code",
   "execution_count": 300,
   "id": "6dbb12a2",
   "metadata": {
    "ExecuteTime": {
     "end_time": "2021-10-17T19:24:00.086080Z",
     "start_time": "2021-10-17T19:24:00.043505Z"
    },
    "collapsed": true
   },
   "outputs": [],
   "source": [
    "from sklearn.linear_model import LogisticRegression\n",
    "from sklearn.svm import SVC\n",
    "from sklearn.neighbors import KNeighborsClassifier\n",
    "from sklearn.preprocessing import StandardScaler\n",
    "from sklearn import tree\n",
    "from sklearn.ensemble import RandomForestClassifier\n",
    "from sklearn.ensemble import AdaBoostClassifier\n",
    "from sklearn.tree import DecisionTreeClassifier\n",
    "from sklearn.ensemble import RandomForestClassifier\n",
    "from sklearn.metrics import confusion_matrix\n",
    "import xgboost as xgb\n",
    "import lightgbm as lgb\n",
    "from sklearn import metrics\n",
    "\n",
    "def LR(X_train,y_train,X_test,y_test): \n",
    "    # Standardization\n",
    "    ssc = StandardScaler()\n",
    "    X_train_trans = ssc.fit_transform(X_train)\n",
    "    X_test_trans = ssc.transform(X_test)\n",
    "    lr = LogisticRegression()                                     \n",
    "    lr.fit(X_train_trans,y_train)              \n",
    "    y_prob = lr.predict_proba(X_test_trans)[:,1]                           \n",
    "    y_pred = lr.predict(X_test_trans)                                      \n",
    "    fpr_lr,tpr_lr,threshold_lr = metrics.roc_curve(y_test,y_prob)   \n",
    "    auc_lr = metrics.auc(fpr_lr,tpr_lr)                             \n",
    "    score_lr = metrics.accuracy_score(y_test,y_pred)                 \n",
    "    print([score_lr,auc_lr])\n",
    "    return lr, fpr_lr,tpr_lr,auc_lr,score_lr\n",
    "\n",
    "def SVC_(X_train,y_train,X_test,y_test):\n",
    "    # SVM with standardization\n",
    "    ssc = StandardScaler()\n",
    "    X_train_trans = ssc.fit_transform(X_train)\n",
    "    X_test_trans = ssc.transform(X_test)\n",
    "    kernelList = ['linear','rbf','sigmoid']\n",
    "    svc = None\n",
    "    auc_svc = -1\n",
    "    score_svc = -1\n",
    "    fpr_svc = None\n",
    "    tpr_svc = None\n",
    "    for kernel in kernelList:\n",
    "        svc_tmp = SVC(kernel=kernel).fit(X_train_trans,y_train)\n",
    "\n",
    "        # decision border distance\n",
    "        y_prob = svc_tmp.decision_function(X_test_trans)\n",
    "        y_pred = svc_tmp.predict(X_test_trans)\n",
    "        # false positive, true positive\n",
    "        fpr_svc_tmp,tpr_svc_tmp,threshold_svc_tmp = metrics.roc_curve(y_test,y_prob)\n",
    "        # auc curve\n",
    "        auc_svc_tmp = metrics.auc(fpr_svc_tmp,tpr_svc_tmp)\n",
    "        score_svc_tmp = metrics.accuracy_score(y_test,y_pred)\n",
    "        print([score_svc_tmp,auc_svc_tmp])    \n",
    "\n",
    "        if not svc:\n",
    "            svc = svc_tmp\n",
    "        if auc_svc < auc_svc_tmp:\n",
    "            auc_svc = auc_svc_tmp\n",
    "            best_svc = svc\n",
    "            score_svc = score_svc_tmp\n",
    "            fpr_svc = fpr_svc_tmp\n",
    "            tpr_svc = tpr_svc_tmp\n",
    "    return svc, fpr_svc, tpr_svc, auc_svc, score_svc\n",
    "\n",
    "def KNN(X_train,y_train,X_test,y_test):\n",
    "    # KNN with standardization\n",
    "    ssc = StandardScaler()\n",
    "    X_train_trans = ssc.fit_transform(X_train)\n",
    "    X_test_trans = ssc.transform(X_test)\n",
    "    \n",
    "    # find best K value\n",
    "    score_K=[]\n",
    "    KList=range(2,10)\n",
    "    for k in KList:\n",
    "        knn = KNeighborsClassifier(n_neighbors=k,weights='distance').fit(X_train_trans,y_train)\n",
    "        score_K.append(knn.score(X_test_trans,y_test))\n",
    "    print('K={}, get highest score={}'.format(KList[score_K.index(max(score_K))],max(score_K)))\n",
    "    \n",
    "    # knn = KNeighborsClassifier(n_neighbors=5,weights='uniform').fit(X_train_tran,y_train)\n",
    "    knn = KNeighborsClassifier(n_neighbors=KList[score_K.index(max(score_K))],\n",
    "                               weights='distance').fit(X_train_trans,y_train)\n",
    "\n",
    "    y_prob = knn.predict_proba(X_test_trans)[:,1]                              \n",
    "    y_pred = knn.predict(X_test_trans)                                       \n",
    "    fpr_knn,tpr_knn,threshold_knn = metrics.roc_curve(y_test,y_prob)   \n",
    "    auc_knn = metrics.auc(fpr_knn,tpr_knn)                              \n",
    "    score_knn = metrics.accuracy_score(y_test,y_pred)\n",
    "    print([score_knn,auc_knn])\n",
    "    return knn, fpr_knn, tpr_knn, auc_knn, score_knn\n",
    "\n",
    "def DTC(X_train,y_train,X_test,y_test):\n",
    "    # decision tree\n",
    "    dtc = tree.DecisionTreeClassifier()                         \n",
    "    dtc.fit(X_train,y_train)                                       \n",
    "    y_prob = dtc.predict_proba(X_test)[:,1]                          \n",
    "    y_pred = dtc.predict(X_test)                                      \n",
    "    fpr_dtc,tpr_dtc,threshod_dtc= metrics.roc_curve(y_test,y_prob)   \n",
    "    score_dtc = metrics.accuracy_score(y_test,y_pred)                \n",
    "    auc_dtc = metrics.auc(fpr_dtc,tpr_dtc) \n",
    "    print([score_dtc,auc_dtc])\n",
    "    return dtc, fpr_dtc, tpr_dtc, auc_dtc, score_dtc\n",
    "\n",
    "def RFC(X_train,y_train,X_test,y_test):\n",
    "    # random forest classifier\n",
    "    rfc = RandomForestClassifier()                                     \n",
    "    rfc.fit(X_train,y_train)                                           \n",
    "    y_prob = rfc.predict_proba(X_test)[:,1]               \n",
    "    y_pred = rfc.predict(X_test)\n",
    "    fpr_rfc,tpr_rfc,threshold_rfc = metrics.roc_curve(y_test,y_prob)    \n",
    "    auc_rfc = metrics.auc(fpr_rfc,tpr_rfc)                \n",
    "    score_rfc = metrics.accuracy_score(y_test,y_pred)                \n",
    "    print([score_rfc,auc_rfc])\n",
    "    return rfc, fpr_rfc, tpr_rfc, auc_rfc, score_rfc\n",
    "    \n",
    "def ADA(X_train,y_train,X_test,y_test):\n",
    "    # AdaBoost Classifier\n",
    "    # use weak classifier\n",
    "    adaclf = AdaBoostClassifier(\n",
    "        DecisionTreeClassifier(max_depth=1),\n",
    "    #     RandomForestClassifier(max_depth=1),\n",
    "        n_estimators=100\n",
    "    )\n",
    "    adaclf.fit(X_train, y_train)\n",
    "    y_pred = adaclf.predict(X_test)\n",
    "    # print('adaboost confusion matrix:')\n",
    "    conf_mat = confusion_matrix(y_test, y_pred)\n",
    "    fpr_ada,tpr_ada,threshold_ada = metrics.roc_curve(y_test,y_pred)    \n",
    "    auc_ada = metrics.auc(fpr_ada,tpr_ada)                             \n",
    "    score_ada = metrics.accuracy_score(y_test,y_pred)  \n",
    "    print('[{},{}]'.format(score_ada,auc_ada))\n",
    "    return adaclf, fpr_ada, tpr_ada, auc_ada, score_ada\n",
    "\n",
    "def XGB(X_train,y_train,X_test,y_test):\n",
    "    # XGBoost\n",
    "    dtrain = xgb.DMatrix(X_train, label=y_train) \n",
    "    dtest=xgb.DMatrix(X_test)\n",
    "\n",
    "    params={'booster':'gbtree',\n",
    "        'objective': 'binary:logistic',\n",
    "        'eval_metric': 'auc',\n",
    "        'max_depth':4,\n",
    "        'lambda': 10,\n",
    "        'gamma':0.1,\n",
    "        'subsample':0.75,\n",
    "        'colsample_bytree':0.75,\n",
    "        'min_child_weight':3,\n",
    "        'eta': 0.025,\n",
    "        'seed':10,\n",
    "        'nthread':-1,\n",
    "         'silent':1,\n",
    "        'verbosity':0}\n",
    "\n",
    "    watchlist = [(dtrain,'train')]\n",
    "    bst=xgb.train(params,dtrain,num_boost_round=100,evals=watchlist)\n",
    "\n",
    "    ypred=bst.predict(dtest)\n",
    "    y_pred = (ypred >= 0.5)*1\n",
    "\n",
    "    fpr_xgb,tpr_xgb,threshold_xgb = metrics.roc_curve(y_test,ypred)\n",
    "    auc_xgb = metrics.auc(fpr_xgb,tpr_xgb)\n",
    "    score_xgb = metrics.accuracy_score(y_test,y_pred)  \n",
    "#     print ('AUC: %.4f' % metrics.roc_auc_score(y_test,ypred))\n",
    "    print ('AUC: %.4f' % metrics.auc(fpr_xgb,tpr_xgb))\n",
    "    print ('ACC: %.4f' % metrics.accuracy_score(y_test,y_pred))\n",
    "#     print ('Precesion: %.4f' %metrics.precision_score(y_test,y_pred))\n",
    "#     print ('Recall: %.4f' % metrics.recall_score(y_test,y_pred))\n",
    "#     print ('F1-score: %.4f' %metrics.f1_score(y_test,y_pred))\n",
    "    print(metrics.confusion_matrix(y_test,y_pred))\n",
    "    return bst, fpr_xgb, tpr_xgb, auc_xgb, score_xgb\n",
    "    \n",
    "def LGBM(X_train,y_train,X_test,y_test):\n",
    "    # LightGBM\n",
    "    dtrain = lgb.Dataset(X_train, label=y_train) \n",
    "    dtest=lgb.Dataset(X_test,label=y_test)\n",
    "\n",
    "    params = {'num_leaves': 60,\n",
    "              'min_data_in_leaf': 20,\n",
    "              'objective': 'binary',\n",
    "              'max_depth': -1,\n",
    "              'learning_rate': 0.03,\n",
    "              \"min_sum_hessian_in_leaf\": 6,\n",
    "              \"boosting\": \"gbdt\",\n",
    "              \"feature_fraction\": 0.9,\n",
    "              \"bagging_freq\": 1,\n",
    "              \"bagging_fraction\": 0.8,\n",
    "              \"bagging_seed\": 11,\n",
    "              \"lambda_l1\": 0,\n",
    "              'lambda_l2': 0.001,\n",
    "              \"verbosity\": 0,\n",
    "              \"nthread\": -1,\n",
    "              'metric': {'binary_logloss', 'auc'},\n",
    "              \"random_state\": 2021,\n",
    "              }\n",
    "\n",
    "    gbm = lgb.train(params,\n",
    "                    dtrain,\n",
    "                    num_boost_round=100,\n",
    "                    valid_sets=dtest,\n",
    "                    early_stopping_rounds=50)\n",
    "    ypred=gbm.predict(X_test)\n",
    "    y_pred = (ypred >= 0.5)*1\n",
    "\n",
    "    fpr_gbm,tpr_gbm,threshold_gbm = metrics.roc_curve(y_test,ypred)\n",
    "    auc_gbm = metrics.auc(fpr_gbm,tpr_gbm)\n",
    "    score_gbm = metrics.accuracy_score(y_test,y_pred)  \n",
    "#     print ('AUC: %.4f' % metrics.roc_auc_score(y_test,ypred))\n",
    "    print ('AUC: %.4f' % metrics.auc(fpr_gbm,tpr_gbm))\n",
    "    print ('ACC: %.4f' % metrics.accuracy_score(y_test,y_pred))\n",
    "#     print ('Precesion: %.4f' %metrics.precision_score(y_test,y_pred))\n",
    "#     print ('Recall: %.4f' % metrics.recall_score(y_test,y_pred))\n",
    "#     print ('F1-score: %.4f' %metrics.f1_score(y_test,y_pred))\n",
    "    print(metrics.confusion_matrix(y_test,y_pred))\n",
    "    return gbm, fpr_gbm, tpr_gbm, auc_gbm, score_gbm\n",
    "\n",
    "\n",
    "def plot_acc_curve(prs,name,best_mn):\n",
    "    # comparison between different approaches\n",
    "    plt.style.use('bmh')\n",
    "    plt.figure(figsize=(15,12))\n",
    "    #设置坐标刻度值的大小以及刻度值的字体\n",
    "    plt.tick_params(labelsize=15)\n",
    "#     plt.tick_params(title=16)\n",
    "    \n",
    "    name_items = []\n",
    "    score_items = []\n",
    "    for k,v in prs.items():\n",
    "        name_items.append(k)\n",
    "        score_items.append(v[2])\n",
    "    colors = ['grey' if n!= best_mn else 'lightskyblue' for n in name_items]\n",
    "\n",
    "    plt.bar(name_items,score_items,align='center',width=0.8,\n",
    "            color=colors,alpha=0.9)\n",
    "    indexs=np.arange(len(name_items))\n",
    "    for x,y in zip(indexs,score_items):\n",
    "        plt.text(x, y+0.01,'%.3f' % y, ha='center',va='bottom')\n",
    "\n",
    "    plt.legend(loc='lower right',prop={'size':25})\n",
    "    plt.xlabel('Classifier',fontsize=12)\n",
    "    plt.ylabel('Accuracy Rate',fontsize=12)\n",
    "    plt.title('{} Accuracy Rate Comparison'.format(name))\n",
    "    plt.savefig('{}_acc_score.jpg'.format(name))\n",
    "    plt.show()\n",
    "\n",
    "def plot_roc_curve(prs,name):\n",
    "    plt.style.use('bmh')\n",
    "    plt.figure(figsize=(15,12))\n",
    "    for k,v in prs.items():\n",
    "        plt.plot(v[0],v[1],label=k)            \n",
    "\n",
    "    plt.legend(loc='lower right',prop={'size':25})\n",
    "    plt.xlabel('False positive rate')\n",
    "    plt.ylabel('True positive rate')\n",
    "    plt.title('{} ROC Curve'.format(name))\n",
    "    plt.savefig('{}_roc_curve.jpg'.format(name))\n",
    "    plt.show()\n",
    "    \n",
    "def clf_train(X,y,name):\n",
    "    X_train, X_test, y_train, y_test = train_test_split(X, y, test_size=0.25,random_state=100)\n",
    "    model_params = (X_train,y_train,X_test,y_test)\n",
    "    \n",
    "    lr, fpr_lr,tpr_lr,auc_lr,score_lr = LR(*model_params)\n",
    "    svc, fpr_svc ,tpr_svc,auc_svc,score_svc = SVC_(*model_params)\n",
    "    knn, fpr_knn,tpr_knn,auc_knn,score_knn = KNN(*model_params)\n",
    "    dtc, fpr_dtc,tpr_dtc,auc_dtc,score_dtc = DTC(*model_params)\n",
    "    rfc, fpr_rfc,tpr_rfc,auc_rfc,score_rfc = RFC(*model_params)\n",
    "    ada, fpr_ada,tpr_ada,auc_ada,score_ada = ADA(*model_params)\n",
    "    bst, fpr_xgb,tpr_xgb,auc_xgb,score_xgb = XGB(*model_params)\n",
    "    gbm, fpr_gbm,tpr_gbm,auc_gbm,score_gbm = LGBM(*model_params)\n",
    "    \n",
    "    ret = {\n",
    "        'lr': (fpr_lr,tpr_lr,score_lr,auc_lr,lr), \n",
    "        'svc':(fpr_svc,tpr_svc,score_svc,auc_svc,svc),\n",
    "        'knn':(fpr_knn,tpr_knn,score_knn,auc_knn,knn),\n",
    "        'dtc':(fpr_dtc,tpr_dtc,score_dtc,auc_dtc,dtc),\n",
    "        'rfc':(fpr_rfc,tpr_rfc,score_rfc,auc_rfc,rfc),\n",
    "        'ada':(fpr_ada,tpr_ada,score_ada,auc_ada,ada),\n",
    "        'xgb':(fpr_xgb,tpr_xgb,score_xgb,auc_xgb,bst),\n",
    "        'gbm':(fpr_gbm,tpr_gbm,score_gbm,auc_gbm,gbm)\n",
    "    }\n",
    "    \n",
    "    return ret\n",
    "\n",
    "def clf_predict(ret,Xtest,name):\n",
    "    plot_roc_curve(ret,name)\n",
    "    # AUC score comparison\n",
    "    best_mn = ''\n",
    "    best_m = None\n",
    "    highest_score = -1\n",
    "    for k,v in ret.items():\n",
    "        # compare accuracy first\n",
    "        if v[2] > highest_score:\n",
    "            highest_score = v[2]\n",
    "            highes_auc_score = v[-2]\n",
    "            best_mn = k\n",
    "            best_m = v[-1]\n",
    "        elif v[2] == highest_score:\n",
    "            if v[-2] > highes_auc_score:\n",
    "                highest_score = v[2]\n",
    "                highes_auc_score = v[-2]\n",
    "                best_mn = k\n",
    "                best_m = v[-1]\n",
    "    print('{} get highest acc score({}), applied to compound: {}, auc_score({})'\n",
    "          .format(best_mn,highest_score,name,highes_auc_score))\n",
    "\n",
    "    if best_mn == 'xgb':\n",
    "        Dtest = xgb.DMatrix(Xtest)\n",
    "        y_final_test = (best_m.predict(Dtest) >= 0.5) * 1\n",
    "    elif best_mn == 'gbm':\n",
    "        y_final_test = (best_m.predict(Xtest) >= 0.5) * 1\n",
    "    else:\n",
    "        y_final_test = best_m.predict(Xtest)\n",
    "    best_item = {name:(best_mn,best_m)}\n",
    "    plot_acc_curve(ret,name,best_mn)\n",
    "    return y_final_test, best_item"
   ]
  },
  {
   "cell_type": "markdown",
   "id": "81deac8a",
   "metadata": {},
   "source": [
    "### 比较各个分类器的效果"
   ]
  },
  {
   "cell_type": "code",
   "execution_count": 166,
   "id": "c0503b3a",
   "metadata": {
    "ExecuteTime": {
     "end_time": "2021-10-17T16:23:11.650750Z",
     "start_time": "2021-10-17T16:22:38.914378Z"
    },
    "collapsed": true
   },
   "outputs": [
    {
     "name": "stderr",
     "output_type": "stream",
     "text": [
      "/Users/johnson/opt/anaconda3/envs/prac/lib/python3.8/site-packages/sklearn/linear_model/_logistic.py:763: ConvergenceWarning: lbfgs failed to converge (status=1):\n",
      "STOP: TOTAL NO. of ITERATIONS REACHED LIMIT.\n",
      "\n",
      "Increase the number of iterations (max_iter) or scale the data as shown in:\n",
      "    https://scikit-learn.org/stable/modules/preprocessing.html\n",
      "Please also refer to the documentation for alternative solver options:\n",
      "    https://scikit-learn.org/stable/modules/linear_model.html#logistic-regression\n",
      "  n_iter_i = _check_optimize_result(\n"
     ]
    },
    {
     "name": "stdout",
     "output_type": "stream",
     "text": [
      "[0.9008097165991903, 0.9603149327671621]\n",
      "[0.8825910931174089, 0.9493984430290163]\n",
      "[0.9149797570850202, 0.9752653927813164]\n",
      "[0.8299595141700404, 0.896302193913659]\n",
      "K=9, get highest score=0.8846153846153846\n",
      "[0.8846153846153846, 0.9538305024769993]\n",
      "[0.8744939271255061, 0.8621549893842887]\n",
      "[0.9089068825910931, 0.9721514508138712]\n",
      "[0.9008097165991903,0.8970806794055203]\n",
      "[0]\ttrain-auc:0.92612\n",
      "[1]\ttrain-auc:0.93984\n",
      "[2]\ttrain-auc:0.94284\n",
      "[3]\ttrain-auc:0.94570\n",
      "[4]\ttrain-auc:0.95621\n",
      "[5]\ttrain-auc:0.95807\n",
      "[6]\ttrain-auc:0.95848\n",
      "[7]\ttrain-auc:0.95851\n",
      "[8]\ttrain-auc:0.95967\n",
      "[9]\ttrain-auc:0.96012\n",
      "[10]\ttrain-auc:0.96082\n",
      "[11]\ttrain-auc:0.96081\n",
      "[12]\ttrain-auc:0.96086\n",
      "[13]\ttrain-auc:0.96123\n",
      "[14]\ttrain-auc:0.96130\n",
      "[15]\ttrain-auc:0.96232\n",
      "[16]\ttrain-auc:0.96232\n",
      "[17]\ttrain-auc:0.96243\n",
      "[18]\ttrain-auc:0.96268\n",
      "[19]\ttrain-auc:0.96290\n",
      "[20]\ttrain-auc:0.96315\n",
      "[21]\ttrain-auc:0.96524\n",
      "[22]\ttrain-auc:0.96526\n",
      "[23]\ttrain-auc:0.96570\n",
      "[24]\ttrain-auc:0.96672\n",
      "[25]\ttrain-auc:0.96696\n",
      "[26]\ttrain-auc:0.96679\n",
      "[27]\ttrain-auc:0.96758\n",
      "[28]\ttrain-auc:0.96766\n",
      "[29]\ttrain-auc:0.96769\n",
      "[30]\ttrain-auc:0.96780\n",
      "[31]\ttrain-auc:0.96882\n",
      "[32]\ttrain-auc:0.96892\n",
      "[33]\ttrain-auc:0.96937\n",
      "[34]\ttrain-auc:0.96959\n",
      "[35]\ttrain-auc:0.96949\n",
      "[36]\ttrain-auc:0.96982\n",
      "[37]\ttrain-auc:0.96984\n",
      "[38]\ttrain-auc:0.97001\n",
      "[39]\ttrain-auc:0.97053\n",
      "[40]\ttrain-auc:0.97109\n",
      "[41]\ttrain-auc:0.97133\n",
      "[42]\ttrain-auc:0.97133\n",
      "[43]\ttrain-auc:0.97163\n",
      "[44]\ttrain-auc:0.97209\n",
      "[45]\ttrain-auc:0.97216\n",
      "[46]\ttrain-auc:0.97228\n",
      "[47]\ttrain-auc:0.97257\n",
      "[48]\ttrain-auc:0.97249\n",
      "[49]\ttrain-auc:0.97271\n",
      "[50]\ttrain-auc:0.97298\n",
      "[51]\ttrain-auc:0.97317\n",
      "[52]\ttrain-auc:0.97359\n",
      "[53]\ttrain-auc:0.97372\n",
      "[54]\ttrain-auc:0.97402\n",
      "[55]\ttrain-auc:0.97430\n",
      "[56]\ttrain-auc:0.97437\n",
      "[57]\ttrain-auc:0.97472\n",
      "[58]\ttrain-auc:0.97482\n",
      "[59]\ttrain-auc:0.97516\n",
      "[60]\ttrain-auc:0.97540\n",
      "[61]\ttrain-auc:0.97563\n",
      "[62]\ttrain-auc:0.97589\n",
      "[63]\ttrain-auc:0.97609\n",
      "[64]\ttrain-auc:0.97629\n",
      "[65]\ttrain-auc:0.97667\n",
      "[66]\ttrain-auc:0.97676\n",
      "[67]\ttrain-auc:0.97701\n",
      "[68]\ttrain-auc:0.97727\n",
      "[69]\ttrain-auc:0.97747\n",
      "[70]\ttrain-auc:0.97768\n",
      "[71]\ttrain-auc:0.97788\n",
      "[72]\ttrain-auc:0.97811\n",
      "[73]\ttrain-auc:0.97830\n",
      "[74]\ttrain-auc:0.97848\n",
      "[75]\ttrain-auc:0.97872\n",
      "[76]\ttrain-auc:0.97891\n",
      "[77]\ttrain-auc:0.97902\n",
      "[78]\ttrain-auc:0.97913\n",
      "[79]\ttrain-auc:0.97939\n",
      "[80]\ttrain-auc:0.97951\n",
      "[81]\ttrain-auc:0.97965\n",
      "[82]\ttrain-auc:0.97993\n",
      "[83]\ttrain-auc:0.98001\n",
      "[84]\ttrain-auc:0.98016\n",
      "[85]\ttrain-auc:0.98024\n",
      "[86]\ttrain-auc:0.98045\n",
      "[87]\ttrain-auc:0.98066\n",
      "[88]\ttrain-auc:0.98085\n",
      "[89]\ttrain-auc:0.98100\n",
      "[90]\ttrain-auc:0.98124\n",
      "[91]\ttrain-auc:0.98137\n",
      "[92]\ttrain-auc:0.98149\n",
      "[93]\ttrain-auc:0.98161\n",
      "[94]\ttrain-auc:0.98167\n",
      "[95]\ttrain-auc:0.98174\n",
      "[96]\ttrain-auc:0.98190\n",
      "[97]\ttrain-auc:0.98204\n",
      "[98]\ttrain-auc:0.98220\n",
      "[99]\ttrain-auc:0.98239\n",
      "AUC: 0.9633\n",
      "ACC: 0.9028\n",
      "[[288  26]\n",
      " [ 22 158]]\n",
      "[LightGBM] [Warning] Auto-choosing col-wise multi-threading, the overhead of testing was 0.011382 seconds.\n",
      "You can set `force_col_wise=true` to remove the overhead.\n",
      "[LightGBM] [Warning] No further splits with positive gain, best gain: -inf\n",
      "[1]\tvalid_0's auc: 0.926318\tvalid_0's binary_logloss: 0.639643\n",
      "Training until validation scores don't improve for 50 rounds\n",
      "[LightGBM] [Warning] No further splits with positive gain, best gain: -inf\n",
      "[2]\tvalid_0's auc: 0.940464\tvalid_0's binary_logloss: 0.62229\n",
      "[LightGBM] [Warning] No further splits with positive gain, best gain: -inf\n",
      "[3]\tvalid_0's auc: 0.952813\tvalid_0's binary_logloss: 0.60611\n",
      "[LightGBM] [Warning] No further splits with positive gain, best gain: -inf\n",
      "[4]\tvalid_0's auc: 0.95337\tvalid_0's binary_logloss: 0.591383\n",
      "[LightGBM] [Warning] No further splits with positive gain, best gain: -inf\n",
      "[5]\tvalid_0's auc: 0.954308\tvalid_0's binary_logloss: 0.576622\n",
      "[LightGBM] [Warning] No further splits with positive gain, best gain: -inf\n",
      "[6]\tvalid_0's auc: 0.957475\tvalid_0's binary_logloss: 0.562682\n",
      "[LightGBM] [Warning] No further splits with positive gain, best gain: -inf\n",
      "[7]\tvalid_0's auc: 0.957086\tvalid_0's binary_logloss: 0.549769\n",
      "[LightGBM] [Warning] No further splits with positive gain, best gain: -inf\n",
      "[8]\tvalid_0's auc: 0.956617\tvalid_0's binary_logloss: 0.537678\n",
      "[LightGBM] [Warning] No further splits with positive gain, best gain: -inf\n",
      "[9]\tvalid_0's auc: 0.957493\tvalid_0's binary_logloss: 0.525239\n",
      "[LightGBM] [Warning] No further splits with positive gain, best gain: -inf\n",
      "[10]\tvalid_0's auc: 0.958519\tvalid_0's binary_logloss: 0.513624\n",
      "[LightGBM] [Warning] No further splits with positive gain, best gain: -inf\n",
      "[11]\tvalid_0's auc: 0.958209\tvalid_0's binary_logloss: 0.503018\n",
      "[LightGBM] [Warning] No further splits with positive gain, best gain: -inf\n",
      "[12]\tvalid_0's auc: 0.958599\tvalid_0's binary_logloss: 0.492358\n",
      "[LightGBM] [Warning] No further splits with positive gain, best gain: -inf\n",
      "[13]\tvalid_0's auc: 0.958935\tvalid_0's binary_logloss: 0.482204\n",
      "[LightGBM] [Warning] No further splits with positive gain, best gain: -inf\n",
      "[14]\tvalid_0's auc: 0.959908\tvalid_0's binary_logloss: 0.472196\n",
      "[LightGBM] [Warning] No further splits with positive gain, best gain: -inf\n",
      "[15]\tvalid_0's auc: 0.960863\tvalid_0's binary_logloss: 0.462547\n",
      "[LightGBM] [Warning] No further splits with positive gain, best gain: -inf\n",
      "[16]\tvalid_0's auc: 0.960041\tvalid_0's binary_logloss: 0.45462\n",
      "[LightGBM] [Warning] No further splits with positive gain, best gain: -inf\n",
      "[17]\tvalid_0's auc: 0.960147\tvalid_0's binary_logloss: 0.446292\n",
      "[LightGBM] [Warning] No further splits with positive gain, best gain: -inf\n",
      "[18]\tvalid_0's auc: 0.96089\tvalid_0's binary_logloss: 0.437895\n",
      "[LightGBM] [Warning] No further splits with positive gain, best gain: -inf\n",
      "[19]\tvalid_0's auc: 0.960978\tvalid_0's binary_logloss: 0.43044\n",
      "[LightGBM] [Warning] No further splits with positive gain, best gain: -inf\n",
      "[20]\tvalid_0's auc: 0.961191\tvalid_0's binary_logloss: 0.423309\n",
      "[LightGBM] [Warning] No further splits with positive gain, best gain: -inf\n",
      "[21]\tvalid_0's auc: 0.962447\tvalid_0's binary_logloss: 0.415392\n",
      "[LightGBM] [Warning] No further splits with positive gain, best gain: -inf\n",
      "[22]\tvalid_0's auc: 0.962128\tvalid_0's binary_logloss: 0.408992\n",
      "[LightGBM] [Warning] No further splits with positive gain, best gain: -inf\n",
      "[23]\tvalid_0's auc: 0.962606\tvalid_0's binary_logloss: 0.40262\n",
      "[LightGBM] [Warning] No further splits with positive gain, best gain: -inf\n",
      "[24]\tvalid_0's auc: 0.962748\tvalid_0's binary_logloss: 0.396868\n",
      "[LightGBM] [Warning] No further splits with positive gain, best gain: -inf\n",
      "[25]\tvalid_0's auc: 0.962783\tvalid_0's binary_logloss: 0.390967\n",
      "[LightGBM] [Warning] No further splits with positive gain, best gain: -inf\n",
      "[26]\tvalid_0's auc: 0.962889\tvalid_0's binary_logloss: 0.385425\n",
      "[LightGBM] [Warning] No further splits with positive gain, best gain: -inf\n",
      "[27]\tvalid_0's auc: 0.963172\tvalid_0's binary_logloss: 0.379975\n",
      "[LightGBM] [Warning] No further splits with positive gain, best gain: -inf\n",
      "[28]\tvalid_0's auc: 0.96388\tvalid_0's binary_logloss: 0.374615\n",
      "[LightGBM] [Warning] No further splits with positive gain, best gain: -inf\n",
      "[29]\tvalid_0's auc: 0.964092\tvalid_0's binary_logloss: 0.369212\n",
      "[LightGBM] [Warning] No further splits with positive gain, best gain: -inf\n",
      "[30]\tvalid_0's auc: 0.964004\tvalid_0's binary_logloss: 0.364795\n",
      "[LightGBM] [Warning] No further splits with positive gain, best gain: -inf\n",
      "[31]\tvalid_0's auc: 0.96457\tvalid_0's binary_logloss: 0.359796\n",
      "[LightGBM] [Warning] No further splits with positive gain, best gain: -inf\n",
      "[32]\tvalid_0's auc: 0.965048\tvalid_0's binary_logloss: 0.355259\n",
      "[LightGBM] [Warning] No further splits with positive gain, best gain: -inf\n",
      "[33]\tvalid_0's auc: 0.965543\tvalid_0's binary_logloss: 0.350462\n",
      "[LightGBM] [Warning] No further splits with positive gain, best gain: -inf\n",
      "[34]\tvalid_0's auc: 0.965508\tvalid_0's binary_logloss: 0.346463\n",
      "[LightGBM] [Warning] No further splits with positive gain, best gain: -inf\n",
      "[35]\tvalid_0's auc: 0.965826\tvalid_0's binary_logloss: 0.34235\n",
      "[LightGBM] [Warning] No further splits with positive gain, best gain: -inf\n",
      "[36]\tvalid_0's auc: 0.965809\tvalid_0's binary_logloss: 0.33825\n",
      "[LightGBM] [Warning] No further splits with positive gain, best gain: -inf\n",
      "[37]\tvalid_0's auc: 0.965826\tvalid_0's binary_logloss: 0.334361\n",
      "[LightGBM] [Warning] No further splits with positive gain, best gain: -inf\n",
      "[38]\tvalid_0's auc: 0.965773\tvalid_0's binary_logloss: 0.331143\n",
      "[LightGBM] [Warning] No further splits with positive gain, best gain: -inf\n",
      "[39]\tvalid_0's auc: 0.965773\tvalid_0's binary_logloss: 0.327762\n",
      "[LightGBM] [Warning] No further splits with positive gain, best gain: -inf\n",
      "[40]\tvalid_0's auc: 0.965402\tvalid_0's binary_logloss: 0.324822\n"
     ]
    },
    {
     "name": "stdout",
     "output_type": "stream",
     "text": [
      "[LightGBM] [Warning] No further splits with positive gain, best gain: -inf\n",
      "[41]\tvalid_0's auc: 0.965632\tvalid_0's binary_logloss: 0.321281\n",
      "[LightGBM] [Warning] No further splits with positive gain, best gain: -inf\n",
      "[42]\tvalid_0's auc: 0.965738\tvalid_0's binary_logloss: 0.317818\n",
      "[LightGBM] [Warning] No further splits with positive gain, best gain: -inf\n",
      "[43]\tvalid_0's auc: 0.965897\tvalid_0's binary_logloss: 0.315103\n",
      "[LightGBM] [Warning] No further splits with positive gain, best gain: -inf\n",
      "[44]\tvalid_0's auc: 0.965632\tvalid_0's binary_logloss: 0.312133\n",
      "[LightGBM] [Warning] No further splits with positive gain, best gain: -inf\n",
      "[45]\tvalid_0's auc: 0.965755\tvalid_0's binary_logloss: 0.309161\n",
      "[LightGBM] [Warning] No further splits with positive gain, best gain: -inf\n",
      "[46]\tvalid_0's auc: 0.965685\tvalid_0's binary_logloss: 0.306659\n",
      "[LightGBM] [Warning] No further splits with positive gain, best gain: -inf\n",
      "[47]\tvalid_0's auc: 0.965472\tvalid_0's binary_logloss: 0.304563\n",
      "[LightGBM] [Warning] No further splits with positive gain, best gain: -inf\n",
      "[48]\tvalid_0's auc: 0.965791\tvalid_0's binary_logloss: 0.301712\n",
      "[LightGBM] [Warning] No further splits with positive gain, best gain: -inf\n",
      "[49]\tvalid_0's auc: 0.965579\tvalid_0's binary_logloss: 0.299659\n",
      "[LightGBM] [Warning] No further splits with positive gain, best gain: -inf\n",
      "[50]\tvalid_0's auc: 0.965826\tvalid_0's binary_logloss: 0.296947\n",
      "[LightGBM] [Warning] No further splits with positive gain, best gain: -inf\n",
      "[51]\tvalid_0's auc: 0.965729\tvalid_0's binary_logloss: 0.294836\n",
      "[LightGBM] [Warning] No further splits with positive gain, best gain: -inf\n",
      "[52]\tvalid_0's auc: 0.965994\tvalid_0's binary_logloss: 0.292325\n",
      "[LightGBM] [Warning] No further splits with positive gain, best gain: -inf\n",
      "[53]\tvalid_0's auc: 0.966578\tvalid_0's binary_logloss: 0.289291\n",
      "[LightGBM] [Warning] No further splits with positive gain, best gain: -inf\n",
      "[54]\tvalid_0's auc: 0.966507\tvalid_0's binary_logloss: 0.28706\n",
      "[LightGBM] [Warning] No further splits with positive gain, best gain: -inf\n",
      "[55]\tvalid_0's auc: 0.966313\tvalid_0's binary_logloss: 0.28524\n",
      "[LightGBM] [Warning] No further splits with positive gain, best gain: -inf\n",
      "[56]\tvalid_0's auc: 0.966472\tvalid_0's binary_logloss: 0.283139\n",
      "[LightGBM] [Warning] No further splits with positive gain, best gain: -inf\n",
      "[57]\tvalid_0's auc: 0.966773\tvalid_0's binary_logloss: 0.280815\n",
      "[LightGBM] [Warning] No further splits with positive gain, best gain: -inf\n",
      "[58]\tvalid_0's auc: 0.966914\tvalid_0's binary_logloss: 0.27923\n",
      "[LightGBM] [Warning] No further splits with positive gain, best gain: -inf\n",
      "[59]\tvalid_0's auc: 0.96718\tvalid_0's binary_logloss: 0.27707\n",
      "[LightGBM] [Warning] No further splits with positive gain, best gain: -inf\n",
      "[60]\tvalid_0's auc: 0.967286\tvalid_0's binary_logloss: 0.275371\n",
      "[LightGBM] [Warning] No further splits with positive gain, best gain: -inf\n",
      "[61]\tvalid_0's auc: 0.967056\tvalid_0's binary_logloss: 0.273711\n",
      "[LightGBM] [Warning] No further splits with positive gain, best gain: -inf\n",
      "[62]\tvalid_0's auc: 0.967127\tvalid_0's binary_logloss: 0.271949\n",
      "[LightGBM] [Warning] No further splits with positive gain, best gain: -inf\n",
      "[63]\tvalid_0's auc: 0.966967\tvalid_0's binary_logloss: 0.270657\n",
      "[LightGBM] [Warning] No further splits with positive gain, best gain: -inf\n",
      "[64]\tvalid_0's auc: 0.967038\tvalid_0's binary_logloss: 0.268716\n",
      "[LightGBM] [Warning] No further splits with positive gain, best gain: -inf\n",
      "[65]\tvalid_0's auc: 0.967197\tvalid_0's binary_logloss: 0.266906\n",
      "[LightGBM] [Warning] No further splits with positive gain, best gain: -inf\n",
      "[66]\tvalid_0's auc: 0.967127\tvalid_0's binary_logloss: 0.265567\n",
      "[LightGBM] [Warning] No further splits with positive gain, best gain: -inf\n",
      "[67]\tvalid_0's auc: 0.967251\tvalid_0's binary_logloss: 0.264213\n",
      "[LightGBM] [Warning] No further splits with positive gain, best gain: -inf\n",
      "[68]\tvalid_0's auc: 0.967268\tvalid_0's binary_logloss: 0.26287\n",
      "[LightGBM] [Warning] No further splits with positive gain, best gain: -inf\n",
      "[69]\tvalid_0's auc: 0.967304\tvalid_0's binary_logloss: 0.261436\n",
      "[LightGBM] [Warning] No further splits with positive gain, best gain: -inf\n",
      "[70]\tvalid_0's auc: 0.966932\tvalid_0's binary_logloss: 0.260854\n",
      "[LightGBM] [Warning] No further splits with positive gain, best gain: -inf\n",
      "[71]\tvalid_0's auc: 0.967463\tvalid_0's binary_logloss: 0.258822\n",
      "[LightGBM] [Warning] No further splits with positive gain, best gain: -inf\n",
      "[72]\tvalid_0's auc: 0.967481\tvalid_0's binary_logloss: 0.257876\n",
      "[LightGBM] [Warning] No further splits with positive gain, best gain: -inf\n",
      "[73]\tvalid_0's auc: 0.967445\tvalid_0's binary_logloss: 0.256655\n",
      "[LightGBM] [Warning] No further splits with positive gain, best gain: -inf\n",
      "[74]\tvalid_0's auc: 0.967746\tvalid_0's binary_logloss: 0.255373\n",
      "[LightGBM] [Warning] No further splits with positive gain, best gain: -inf\n",
      "[75]\tvalid_0's auc: 0.967887\tvalid_0's binary_logloss: 0.254114\n",
      "[LightGBM] [Warning] No further splits with positive gain, best gain: -inf\n",
      "[76]\tvalid_0's auc: 0.967781\tvalid_0's binary_logloss: 0.252843\n",
      "[LightGBM] [Warning] No further splits with positive gain, best gain: -inf\n",
      "[77]\tvalid_0's auc: 0.967994\tvalid_0's binary_logloss: 0.251569\n",
      "[LightGBM] [Warning] No further splits with positive gain, best gain: -inf\n",
      "[78]\tvalid_0's auc: 0.968029\tvalid_0's binary_logloss: 0.250361\n",
      "[LightGBM] [Warning] No further splits with positive gain, best gain: -inf\n",
      "[79]\tvalid_0's auc: 0.968047\tvalid_0's binary_logloss: 0.249312\n",
      "[LightGBM] [Warning] No further splits with positive gain, best gain: -inf\n",
      "[80]\tvalid_0's auc: 0.968029\tvalid_0's binary_logloss: 0.248655\n",
      "[LightGBM] [Warning] No further splits with positive gain, best gain: -inf\n",
      "[81]\tvalid_0's auc: 0.968011\tvalid_0's binary_logloss: 0.247614\n",
      "[LightGBM] [Warning] No further splits with positive gain, best gain: -inf\n",
      "[82]\tvalid_0's auc: 0.968082\tvalid_0's binary_logloss: 0.246631\n",
      "[LightGBM] [Warning] No further splits with positive gain, best gain: -inf\n",
      "[83]\tvalid_0's auc: 0.968135\tvalid_0's binary_logloss: 0.245893\n",
      "[LightGBM] [Warning] No further splits with positive gain, best gain: -inf\n",
      "[84]\tvalid_0's auc: 0.968277\tvalid_0's binary_logloss: 0.244875\n",
      "[LightGBM] [Warning] No further splits with positive gain, best gain: -inf\n",
      "[85]\tvalid_0's auc: 0.968153\tvalid_0's binary_logloss: 0.244041\n",
      "[LightGBM] [Warning] No further splits with positive gain, best gain: -inf\n",
      "[86]\tvalid_0's auc: 0.968241\tvalid_0's binary_logloss: 0.243164\n",
      "[LightGBM] [Warning] No further splits with positive gain, best gain: -inf\n",
      "[87]\tvalid_0's auc: 0.968277\tvalid_0's binary_logloss: 0.242183\n",
      "[LightGBM] [Warning] No further splits with positive gain, best gain: -inf\n",
      "[88]\tvalid_0's auc: 0.968365\tvalid_0's binary_logloss: 0.241189\n",
      "[LightGBM] [Warning] No further splits with positive gain, best gain: -inf\n",
      "[89]\tvalid_0's auc: 0.968471\tvalid_0's binary_logloss: 0.240775\n",
      "[LightGBM] [Warning] No further splits with positive gain, best gain: -inf\n",
      "[90]\tvalid_0's auc: 0.968595\tvalid_0's binary_logloss: 0.239563\n",
      "[LightGBM] [Warning] No further splits with positive gain, best gain: -inf\n",
      "[91]\tvalid_0's auc: 0.968684\tvalid_0's binary_logloss: 0.238621\n",
      "[LightGBM] [Warning] No further splits with positive gain, best gain: -inf\n",
      "[92]\tvalid_0's auc: 0.968843\tvalid_0's binary_logloss: 0.237607\n",
      "[LightGBM] [Warning] No further splits with positive gain, best gain: -inf\n",
      "[93]\tvalid_0's auc: 0.968967\tvalid_0's binary_logloss: 0.23692\n",
      "[LightGBM] [Warning] No further splits with positive gain, best gain: -inf\n",
      "[94]\tvalid_0's auc: 0.969108\tvalid_0's binary_logloss: 0.236288\n",
      "[LightGBM] [Warning] No further splits with positive gain, best gain: -inf\n",
      "[95]\tvalid_0's auc: 0.969055\tvalid_0's binary_logloss: 0.235534\n",
      "[LightGBM] [Warning] No further splits with positive gain, best gain: -inf\n",
      "[96]\tvalid_0's auc: 0.968967\tvalid_0's binary_logloss: 0.235246\n",
      "[LightGBM] [Warning] No further splits with positive gain, best gain: -inf\n",
      "[97]\tvalid_0's auc: 0.969108\tvalid_0's binary_logloss: 0.234395\n",
      "[LightGBM] [Warning] No further splits with positive gain, best gain: -inf\n",
      "[98]\tvalid_0's auc: 0.969002\tvalid_0's binary_logloss: 0.233752\n",
      "[LightGBM] [Warning] No further splits with positive gain, best gain: -inf\n",
      "[99]\tvalid_0's auc: 0.969161\tvalid_0's binary_logloss: 0.232859\n",
      "[LightGBM] [Warning] No further splits with positive gain, best gain: -inf\n",
      "[100]\tvalid_0's auc: 0.969551\tvalid_0's binary_logloss: 0.231669\n",
      "Did not meet early stopping. Best iteration is:\n",
      "[100]\tvalid_0's auc: 0.969551\tvalid_0's binary_logloss: 0.231669\n"
     ]
    },
    {
     "name": "stdout",
     "output_type": "stream",
     "text": [
      "AUC: 0.9696\n",
      "ACC: 0.8988\n",
      "[[290  24]\n",
      " [ 26 154]]\n",
      "[0.9392712550607287, 0.9767354264063989]\n"
     ]
    },
    {
     "name": "stderr",
     "output_type": "stream",
     "text": [
      "/Users/johnson/opt/anaconda3/envs/prac/lib/python3.8/site-packages/sklearn/linear_model/_logistic.py:763: ConvergenceWarning: lbfgs failed to converge (status=1):\n",
      "STOP: TOTAL NO. of ITERATIONS REACHED LIMIT.\n",
      "\n",
      "Increase the number of iterations (max_iter) or scale the data as shown in:\n",
      "    https://scikit-learn.org/stable/modules/preprocessing.html\n",
      "Please also refer to the documentation for alternative solver options:\n",
      "    https://scikit-learn.org/stable/modules/linear_model.html#logistic-regression\n",
      "  n_iter_i = _check_optimize_result(\n"
     ]
    },
    {
     "name": "stdout",
     "output_type": "stream",
     "text": [
      "[0.9412955465587044, 0.9737442669443644]\n",
      "[0.9473684210526315, 0.977887576717701]\n",
      "[0.917004048582996, 0.9655241176079586]\n",
      "K=5, get highest score=0.9311740890688259\n",
      "[0.9311740890688259, 0.9601843440498083]\n",
      "[0.902834008097166, 0.8686548645115547]\n",
      "[0.9433198380566802, 0.9770456207209802]\n",
      "[0.9493927125506073,0.9274034520195865]\n",
      "[0]\ttrain-auc:0.95052\n",
      "[1]\ttrain-auc:0.95790\n",
      "[2]\ttrain-auc:0.96359\n",
      "[3]\ttrain-auc:0.96736\n",
      "[4]\ttrain-auc:0.96968\n",
      "[5]\ttrain-auc:0.97173\n",
      "[6]\ttrain-auc:0.97577\n",
      "[7]\ttrain-auc:0.97768\n",
      "[8]\ttrain-auc:0.98074\n",
      "[9]\ttrain-auc:0.98033\n",
      "[10]\ttrain-auc:0.98045\n",
      "[11]\ttrain-auc:0.98049\n",
      "[12]\ttrain-auc:0.98136\n",
      "[13]\ttrain-auc:0.98161\n",
      "[14]\ttrain-auc:0.98178\n",
      "[15]\ttrain-auc:0.98203\n",
      "[16]\ttrain-auc:0.98259\n",
      "[17]\ttrain-auc:0.98290\n",
      "[18]\ttrain-auc:0.98308\n",
      "[19]\ttrain-auc:0.98313\n",
      "[20]\ttrain-auc:0.98302\n",
      "[21]\ttrain-auc:0.98371\n",
      "[22]\ttrain-auc:0.98359\n",
      "[23]\ttrain-auc:0.98398\n",
      "[24]\ttrain-auc:0.98415\n",
      "[25]\ttrain-auc:0.98451\n",
      "[26]\ttrain-auc:0.98450\n",
      "[27]\ttrain-auc:0.98486\n",
      "[28]\ttrain-auc:0.98494\n",
      "[29]\ttrain-auc:0.98508\n",
      "[30]\ttrain-auc:0.98534\n",
      "[31]\ttrain-auc:0.98546\n",
      "[32]\ttrain-auc:0.98548\n",
      "[33]\ttrain-auc:0.98553\n",
      "[34]\ttrain-auc:0.98547\n",
      "[35]\ttrain-auc:0.98555\n",
      "[36]\ttrain-auc:0.98552\n",
      "[37]\ttrain-auc:0.98566\n",
      "[38]\ttrain-auc:0.98577\n",
      "[39]\ttrain-auc:0.98593\n",
      "[40]\ttrain-auc:0.98609\n",
      "[41]\ttrain-auc:0.98623\n",
      "[42]\ttrain-auc:0.98649\n",
      "[43]\ttrain-auc:0.98657\n",
      "[44]\ttrain-auc:0.98689\n",
      "[45]\ttrain-auc:0.98702\n",
      "[46]\ttrain-auc:0.98704\n",
      "[47]\ttrain-auc:0.98707\n",
      "[48]\ttrain-auc:0.98722\n",
      "[49]\ttrain-auc:0.98728\n",
      "[50]\ttrain-auc:0.98741\n",
      "[51]\ttrain-auc:0.98770\n",
      "[52]\ttrain-auc:0.98784\n",
      "[53]\ttrain-auc:0.98807\n",
      "[54]\ttrain-auc:0.98820\n",
      "[55]\ttrain-auc:0.98825\n",
      "[56]\ttrain-auc:0.98832\n",
      "[57]\ttrain-auc:0.98845\n",
      "[58]\ttrain-auc:0.98867\n",
      "[59]\ttrain-auc:0.98886\n",
      "[60]\ttrain-auc:0.98903\n",
      "[61]\ttrain-auc:0.98909\n",
      "[62]\ttrain-auc:0.98918\n",
      "[63]\ttrain-auc:0.98928\n",
      "[64]\ttrain-auc:0.98941\n",
      "[65]\ttrain-auc:0.98947\n",
      "[66]\ttrain-auc:0.98960\n",
      "[67]\ttrain-auc:0.98968\n",
      "[68]\ttrain-auc:0.98979\n",
      "[69]\ttrain-auc:0.98994\n",
      "[70]\ttrain-auc:0.99001\n",
      "[71]\ttrain-auc:0.99008\n",
      "[72]\ttrain-auc:0.99019\n",
      "[73]\ttrain-auc:0.99028\n",
      "[74]\ttrain-auc:0.99047\n",
      "[75]\ttrain-auc:0.99059\n",
      "[76]\ttrain-auc:0.99073\n",
      "[77]\ttrain-auc:0.99081\n",
      "[78]\ttrain-auc:0.99089\n",
      "[79]\ttrain-auc:0.99100\n",
      "[80]\ttrain-auc:0.99099\n",
      "[81]\ttrain-auc:0.99104\n",
      "[82]\ttrain-auc:0.99115\n",
      "[83]\ttrain-auc:0.99123\n",
      "[84]\ttrain-auc:0.99134\n",
      "[85]\ttrain-auc:0.99142\n",
      "[86]\ttrain-auc:0.99148\n",
      "[87]\ttrain-auc:0.99150\n",
      "[88]\ttrain-auc:0.99157\n",
      "[89]\ttrain-auc:0.99158\n",
      "[90]\ttrain-auc:0.99161\n",
      "[91]\ttrain-auc:0.99165\n",
      "[92]\ttrain-auc:0.99171\n",
      "[93]\ttrain-auc:0.99182\n",
      "[94]\ttrain-auc:0.99186\n",
      "[95]\ttrain-auc:0.99197\n",
      "[96]\ttrain-auc:0.99210\n",
      "[97]\ttrain-auc:0.99218\n",
      "[98]\ttrain-auc:0.99224\n",
      "[99]\ttrain-auc:0.99241\n",
      "AUC: 0.9809\n",
      "ACC: 0.9413\n",
      "[[109  12]\n",
      " [ 17 356]]\n",
      "[LightGBM] [Warning] Auto-choosing col-wise multi-threading, the overhead of testing was 0.011188 seconds.\n",
      "You can set `force_col_wise=true` to remove the overhead.\n",
      "[LightGBM] [Warning] No further splits with positive gain, best gain: -inf\n",
      "[1]\tvalid_0's auc: 0.952441\tvalid_0's binary_logloss: 0.538865\n",
      "Training until validation scores don't improve for 50 rounds\n",
      "[LightGBM] [Warning] No further splits with positive gain, best gain: -inf\n",
      "[2]\tvalid_0's auc: 0.960074\tvalid_0's binary_logloss: 0.521573\n",
      "[LightGBM] [Warning] No further splits with positive gain, best gain: -inf\n",
      "[3]\tvalid_0's auc: 0.96538\tvalid_0's binary_logloss: 0.505271\n",
      "[LightGBM] [Warning] No further splits with positive gain, best gain: -inf\n",
      "[4]\tvalid_0's auc: 0.967097\tvalid_0's binary_logloss: 0.49037\n",
      "[LightGBM] [Warning] No further splits with positive gain, best gain: -inf\n",
      "[5]\tvalid_0's auc: 0.968637\tvalid_0's binary_logloss: 0.476045\n",
      "[LightGBM] [Warning] No further splits with positive gain, best gain: -inf\n",
      "[6]\tvalid_0's auc: 0.970642\tvalid_0's binary_logloss: 0.462856\n",
      "[LightGBM] [Warning] No further splits with positive gain, best gain: -inf\n",
      "[7]\tvalid_0's auc: 0.970365\tvalid_0's binary_logloss: 0.450852\n",
      "[LightGBM] [Warning] No further splits with positive gain, best gain: -inf\n",
      "[8]\tvalid_0's auc: 0.970642\tvalid_0's binary_logloss: 0.439246\n",
      "[LightGBM] [Warning] No further splits with positive gain, best gain: -inf\n",
      "[9]\tvalid_0's auc: 0.971373\tvalid_0's binary_logloss: 0.428376\n",
      "[LightGBM] [Warning] No further splits with positive gain, best gain: -inf\n",
      "[10]\tvalid_0's auc: 0.971639\tvalid_0's binary_logloss: 0.417531\n",
      "[LightGBM] [Warning] No further splits with positive gain, best gain: -inf\n",
      "[11]\tvalid_0's auc: 0.97113\tvalid_0's binary_logloss: 0.40783\n",
      "[LightGBM] [Warning] No further splits with positive gain, best gain: -inf\n",
      "[12]\tvalid_0's auc: 0.971606\tvalid_0's binary_logloss: 0.39806\n",
      "[LightGBM] [Warning] No further splits with positive gain, best gain: -inf\n",
      "[13]\tvalid_0's auc: 0.97226\tvalid_0's binary_logloss: 0.388685\n",
      "[LightGBM] [Warning] No further splits with positive gain, best gain: -inf\n",
      "[14]\tvalid_0's auc: 0.972714\tvalid_0's binary_logloss: 0.380012\n",
      "[LightGBM] [Warning] No further splits with positive gain, best gain: -inf\n",
      "[15]\tvalid_0's auc: 0.972714\tvalid_0's binary_logloss: 0.372148\n",
      "[LightGBM] [Warning] No further splits with positive gain, best gain: -inf\n",
      "[16]\tvalid_0's auc: 0.973855\tvalid_0's binary_logloss: 0.363667\n",
      "[LightGBM] [Warning] No further splits with positive gain, best gain: -inf\n",
      "[17]\tvalid_0's auc: 0.973789\tvalid_0's binary_logloss: 0.356183\n",
      "[LightGBM] [Warning] No further splits with positive gain, best gain: -inf\n",
      "[18]\tvalid_0's auc: 0.97493\tvalid_0's binary_logloss: 0.34883\n",
      "[LightGBM] [Warning] No further splits with positive gain, best gain: -inf\n",
      "[19]\tvalid_0's auc: 0.974863\tvalid_0's binary_logloss: 0.342457\n",
      "[LightGBM] [Warning] No further splits with positive gain, best gain: -inf\n",
      "[20]\tvalid_0's auc: 0.975639\tvalid_0's binary_logloss: 0.33509\n",
      "[LightGBM] [Warning] No further splits with positive gain, best gain: -inf\n",
      "[21]\tvalid_0's auc: 0.975749\tvalid_0's binary_logloss: 0.328622\n",
      "[LightGBM] [Warning] No further splits with positive gain, best gain: -inf\n",
      "[22]\tvalid_0's auc: 0.976525\tvalid_0's binary_logloss: 0.322202\n",
      "[LightGBM] [Warning] No further splits with positive gain, best gain: -inf\n",
      "[23]\tvalid_0's auc: 0.977001\tvalid_0's binary_logloss: 0.315668\n",
      "[LightGBM] [Warning] No further splits with positive gain, best gain: -inf\n",
      "[24]\tvalid_0's auc: 0.977289\tvalid_0's binary_logloss: 0.309612\n",
      "[LightGBM] [Warning] No further splits with positive gain, best gain: -inf\n",
      "[25]\tvalid_0's auc: 0.977821\tvalid_0's binary_logloss: 0.303906\n",
      "[LightGBM] [Warning] No further splits with positive gain, best gain: -inf\n",
      "[26]\tvalid_0's auc: 0.977888\tvalid_0's binary_logloss: 0.298384\n",
      "[LightGBM] [Warning] No further splits with positive gain, best gain: -inf\n",
      "[27]\tvalid_0's auc: 0.97771\tvalid_0's binary_logloss: 0.293263\n",
      "[LightGBM] [Warning] No further splits with positive gain, best gain: -inf\n",
      "[28]\tvalid_0's auc: 0.978597\tvalid_0's binary_logloss: 0.287535\n",
      "[LightGBM] [Warning] No further splits with positive gain, best gain: -inf\n",
      "[29]\tvalid_0's auc: 0.978419\tvalid_0's binary_logloss: 0.283197\n",
      "[LightGBM] [Warning] No further splits with positive gain, best gain: -inf\n",
      "[30]\tvalid_0's auc: 0.978419\tvalid_0's binary_logloss: 0.278514\n",
      "[LightGBM] [Warning] No further splits with positive gain, best gain: -inf\n",
      "[31]\tvalid_0's auc: 0.978951\tvalid_0's binary_logloss: 0.274067\n",
      "[LightGBM] [Warning] No further splits with positive gain, best gain: -inf\n",
      "[32]\tvalid_0's auc: 0.978907\tvalid_0's binary_logloss: 0.269712\n",
      "[LightGBM] [Warning] No further splits with positive gain, best gain: -inf\n",
      "[33]\tvalid_0's auc: 0.97873\tvalid_0's binary_logloss: 0.265939\n",
      "[LightGBM] [Warning] No further splits with positive gain, best gain: -inf\n",
      "[34]\tvalid_0's auc: 0.978907\tvalid_0's binary_logloss: 0.262263\n",
      "[LightGBM] [Warning] No further splits with positive gain, best gain: -inf\n",
      "[35]\tvalid_0's auc: 0.978907\tvalid_0's binary_logloss: 0.258314\n",
      "[LightGBM] [Warning] No further splits with positive gain, best gain: -inf\n",
      "[36]\tvalid_0's auc: 0.978995\tvalid_0's binary_logloss: 0.254815\n",
      "[LightGBM] [Warning] No further splits with positive gain, best gain: -inf\n",
      "[37]\tvalid_0's auc: 0.979328\tvalid_0's binary_logloss: 0.250788\n",
      "[LightGBM] [Warning] No further splits with positive gain, best gain: -inf\n",
      "[38]\tvalid_0's auc: 0.979394\tvalid_0's binary_logloss: 0.247053\n",
      "[LightGBM] [Warning] No further splits with positive gain, best gain: -inf\n"
     ]
    },
    {
     "name": "stdout",
     "output_type": "stream",
     "text": [
      "[39]\tvalid_0's auc: 0.979461\tvalid_0's binary_logloss: 0.243847\n",
      "[LightGBM] [Warning] No further splits with positive gain, best gain: -inf\n",
      "[40]\tvalid_0's auc: 0.979416\tvalid_0's binary_logloss: 0.24064\n",
      "[LightGBM] [Warning] No further splits with positive gain, best gain: -inf\n",
      "[41]\tvalid_0's auc: 0.97935\tvalid_0's binary_logloss: 0.23777\n",
      "[LightGBM] [Warning] No further splits with positive gain, best gain: -inf\n",
      "[42]\tvalid_0's auc: 0.978885\tvalid_0's binary_logloss: 0.235245\n",
      "[LightGBM] [Warning] No further splits with positive gain, best gain: -inf\n",
      "[43]\tvalid_0's auc: 0.979151\tvalid_0's binary_logloss: 0.232291\n",
      "[LightGBM] [Warning] No further splits with positive gain, best gain: -inf\n",
      "[44]\tvalid_0's auc: 0.979195\tvalid_0's binary_logloss: 0.229275\n",
      "[LightGBM] [Warning] No further splits with positive gain, best gain: -inf\n",
      "[45]\tvalid_0's auc: 0.979837\tvalid_0's binary_logloss: 0.226384\n",
      "[LightGBM] [Warning] No further splits with positive gain, best gain: -inf\n",
      "[46]\tvalid_0's auc: 0.979549\tvalid_0's binary_logloss: 0.224124\n",
      "[LightGBM] [Warning] No further splits with positive gain, best gain: -inf\n",
      "[47]\tvalid_0's auc: 0.979505\tvalid_0's binary_logloss: 0.221796\n",
      "[LightGBM] [Warning] No further splits with positive gain, best gain: -inf\n",
      "[48]\tvalid_0's auc: 0.979505\tvalid_0's binary_logloss: 0.219202\n",
      "[LightGBM] [Warning] No further splits with positive gain, best gain: -inf\n",
      "[49]\tvalid_0's auc: 0.97966\tvalid_0's binary_logloss: 0.216557\n",
      "[LightGBM] [Warning] No further splits with positive gain, best gain: -inf\n",
      "[50]\tvalid_0's auc: 0.979771\tvalid_0's binary_logloss: 0.214005\n",
      "[LightGBM] [Warning] No further splits with positive gain, best gain: -inf\n",
      "[51]\tvalid_0's auc: 0.97997\tvalid_0's binary_logloss: 0.211413\n",
      "[LightGBM] [Warning] No further splits with positive gain, best gain: -inf\n",
      "[52]\tvalid_0's auc: 0.980214\tvalid_0's binary_logloss: 0.208875\n",
      "[LightGBM] [Warning] No further splits with positive gain, best gain: -inf\n",
      "[53]\tvalid_0's auc: 0.980103\tvalid_0's binary_logloss: 0.207155\n",
      "[LightGBM] [Warning] No further splits with positive gain, best gain: -inf\n",
      "[54]\tvalid_0's auc: 0.98017\tvalid_0's binary_logloss: 0.205018\n",
      "[LightGBM] [Warning] No further splits with positive gain, best gain: -inf\n",
      "[55]\tvalid_0's auc: 0.980081\tvalid_0's binary_logloss: 0.203309\n",
      "[LightGBM] [Warning] No further splits with positive gain, best gain: -inf\n",
      "[56]\tvalid_0's auc: 0.980081\tvalid_0's binary_logloss: 0.201526\n",
      "[LightGBM] [Warning] No further splits with positive gain, best gain: -inf\n",
      "[57]\tvalid_0's auc: 0.98017\tvalid_0's binary_logloss: 0.199448\n",
      "[LightGBM] [Warning] No further splits with positive gain, best gain: -inf\n",
      "[58]\tvalid_0's auc: 0.980236\tvalid_0's binary_logloss: 0.198115\n",
      "[LightGBM] [Warning] No further splits with positive gain, best gain: -inf\n",
      "[59]\tvalid_0's auc: 0.980413\tvalid_0's binary_logloss: 0.195843\n",
      "[LightGBM] [Warning] No further splits with positive gain, best gain: -inf\n",
      "[60]\tvalid_0's auc: 0.980347\tvalid_0's binary_logloss: 0.194103\n",
      "[LightGBM] [Warning] No further splits with positive gain, best gain: -inf\n",
      "[61]\tvalid_0's auc: 0.980458\tvalid_0's binary_logloss: 0.192527\n",
      "[LightGBM] [Warning] No further splits with positive gain, best gain: -inf\n",
      "[62]\tvalid_0's auc: 0.980413\tvalid_0's binary_logloss: 0.190836\n",
      "[LightGBM] [Warning] No further splits with positive gain, best gain: -inf\n",
      "[63]\tvalid_0's auc: 0.980325\tvalid_0's binary_logloss: 0.189329\n",
      "[LightGBM] [Warning] No further splits with positive gain, best gain: -inf\n",
      "[64]\tvalid_0's auc: 0.980258\tvalid_0's binary_logloss: 0.18784\n",
      "[LightGBM] [Warning] No further splits with positive gain, best gain: -inf\n",
      "[65]\tvalid_0's auc: 0.980236\tvalid_0's binary_logloss: 0.186399\n",
      "[LightGBM] [Warning] No further splits with positive gain, best gain: -inf\n",
      "[66]\tvalid_0's auc: 0.980369\tvalid_0's binary_logloss: 0.184881\n",
      "[LightGBM] [Warning] No further splits with positive gain, best gain: -inf\n",
      "[67]\tvalid_0's auc: 0.980524\tvalid_0's binary_logloss: 0.183452\n",
      "[LightGBM] [Warning] No further splits with positive gain, best gain: -inf\n",
      "[68]\tvalid_0's auc: 0.980569\tvalid_0's binary_logloss: 0.181919\n",
      "[LightGBM] [Warning] No further splits with positive gain, best gain: -inf\n",
      "[69]\tvalid_0's auc: 0.980458\tvalid_0's binary_logloss: 0.180941\n",
      "[LightGBM] [Warning] No further splits with positive gain, best gain: -inf\n",
      "[70]\tvalid_0's auc: 0.980569\tvalid_0's binary_logloss: 0.17909\n",
      "[LightGBM] [Warning] No further splits with positive gain, best gain: -inf\n",
      "[71]\tvalid_0's auc: 0.980635\tvalid_0's binary_logloss: 0.177571\n",
      "[LightGBM] [Warning] No further splits with positive gain, best gain: -inf\n",
      "[72]\tvalid_0's auc: 0.980502\tvalid_0's binary_logloss: 0.176602\n",
      "[LightGBM] [Warning] No further splits with positive gain, best gain: -inf\n",
      "[73]\tvalid_0's auc: 0.980347\tvalid_0's binary_logloss: 0.175463\n",
      "[LightGBM] [Warning] No further splits with positive gain, best gain: -inf\n",
      "[74]\tvalid_0's auc: 0.980502\tvalid_0's binary_logloss: 0.174197\n",
      "[LightGBM] [Warning] No further splits with positive gain, best gain: -inf\n",
      "[75]\tvalid_0's auc: 0.980458\tvalid_0's binary_logloss: 0.172966\n",
      "[LightGBM] [Warning] No further splits with positive gain, best gain: -inf\n",
      "[76]\tvalid_0's auc: 0.98079\tvalid_0's binary_logloss: 0.17175\n",
      "[LightGBM] [Warning] No further splits with positive gain, best gain: -inf\n",
      "[77]\tvalid_0's auc: 0.981012\tvalid_0's binary_logloss: 0.170278\n",
      "[LightGBM] [Warning] No further splits with positive gain, best gain: -inf\n",
      "[78]\tvalid_0's auc: 0.981012\tvalid_0's binary_logloss: 0.168946\n",
      "[LightGBM] [Warning] No further splits with positive gain, best gain: -inf\n",
      "[79]\tvalid_0's auc: 0.980834\tvalid_0's binary_logloss: 0.168016\n",
      "[LightGBM] [Warning] No further splits with positive gain, best gain: -inf\n",
      "[80]\tvalid_0's auc: 0.980834\tvalid_0's binary_logloss: 0.167128\n",
      "[LightGBM] [Warning] No further splits with positive gain, best gain: -inf\n",
      "[81]\tvalid_0's auc: 0.980945\tvalid_0's binary_logloss: 0.166156\n",
      "[LightGBM] [Warning] No further splits with positive gain, best gain: -inf\n",
      "[82]\tvalid_0's auc: 0.981433\tvalid_0's binary_logloss: 0.165498\n",
      "[LightGBM] [Warning] No further splits with positive gain, best gain: -inf\n",
      "[83]\tvalid_0's auc: 0.981433\tvalid_0's binary_logloss: 0.164571\n",
      "[LightGBM] [Warning] No further splits with positive gain, best gain: -inf\n",
      "[84]\tvalid_0's auc: 0.981388\tvalid_0's binary_logloss: 0.163898\n",
      "[LightGBM] [Warning] No further splits with positive gain, best gain: -inf\n",
      "[85]\tvalid_0's auc: 0.981566\tvalid_0's binary_logloss: 0.162861\n",
      "[LightGBM] [Warning] No further splits with positive gain, best gain: -inf\n",
      "[86]\tvalid_0's auc: 0.981499\tvalid_0's binary_logloss: 0.161996\n",
      "[LightGBM] [Warning] No further splits with positive gain, best gain: -inf\n",
      "[87]\tvalid_0's auc: 0.981588\tvalid_0's binary_logloss: 0.161224\n",
      "[LightGBM] [Warning] No further splits with positive gain, best gain: -inf\n",
      "[88]\tvalid_0's auc: 0.981566\tvalid_0's binary_logloss: 0.160329\n",
      "[LightGBM] [Warning] No further splits with positive gain, best gain: -inf\n",
      "[89]\tvalid_0's auc: 0.9813\tvalid_0's binary_logloss: 0.159301\n",
      "[LightGBM] [Warning] No further splits with positive gain, best gain: -inf\n",
      "[90]\tvalid_0's auc: 0.981566\tvalid_0's binary_logloss: 0.158371\n",
      "[LightGBM] [Warning] No further splits with positive gain, best gain: -inf\n",
      "[91]\tvalid_0's auc: 0.98161\tvalid_0's binary_logloss: 0.157391\n",
      "[LightGBM] [Warning] No further splits with positive gain, best gain: -inf\n",
      "[92]\tvalid_0's auc: 0.981787\tvalid_0's binary_logloss: 0.156623\n",
      "[LightGBM] [Warning] No further splits with positive gain, best gain: -inf\n",
      "[93]\tvalid_0's auc: 0.981699\tvalid_0's binary_logloss: 0.156203\n",
      "[LightGBM] [Warning] No further splits with positive gain, best gain: -inf\n",
      "[94]\tvalid_0's auc: 0.981898\tvalid_0's binary_logloss: 0.155675\n",
      "[LightGBM] [Warning] No further splits with positive gain, best gain: -inf\n",
      "[95]\tvalid_0's auc: 0.981831\tvalid_0's binary_logloss: 0.154914\n",
      "[LightGBM] [Warning] No further splits with positive gain, best gain: -inf\n",
      "[96]\tvalid_0's auc: 0.981964\tvalid_0's binary_logloss: 0.153874\n",
      "[LightGBM] [Warning] No further splits with positive gain, best gain: -inf\n",
      "[97]\tvalid_0's auc: 0.982075\tvalid_0's binary_logloss: 0.152699\n",
      "[LightGBM] [Warning] No further splits with positive gain, best gain: -inf\n",
      "[98]\tvalid_0's auc: 0.98223\tvalid_0's binary_logloss: 0.151755\n",
      "[LightGBM] [Warning] No further splits with positive gain, best gain: -inf\n",
      "[99]\tvalid_0's auc: 0.982319\tvalid_0's binary_logloss: 0.151096\n",
      "[LightGBM] [Warning] No further splits with positive gain, best gain: -inf\n",
      "[100]\tvalid_0's auc: 0.98254\tvalid_0's binary_logloss: 0.150215\n",
      "Did not meet early stopping. Best iteration is:\n",
      "[100]\tvalid_0's auc: 0.98254\tvalid_0's binary_logloss: 0.150215\n"
     ]
    },
    {
     "name": "stdout",
     "output_type": "stream",
     "text": [
      "AUC: 0.9825\n",
      "ACC: 0.9534\n",
      "[[113   8]\n",
      " [ 15 358]]\n",
      "[0.902834008097166, 0.9628872490360324]\n"
     ]
    },
    {
     "name": "stderr",
     "output_type": "stream",
     "text": [
      "/Users/johnson/opt/anaconda3/envs/prac/lib/python3.8/site-packages/sklearn/linear_model/_logistic.py:763: ConvergenceWarning: lbfgs failed to converge (status=1):\n",
      "STOP: TOTAL NO. of ITERATIONS REACHED LIMIT.\n",
      "\n",
      "Increase the number of iterations (max_iter) or scale the data as shown in:\n",
      "    https://scikit-learn.org/stable/modules/preprocessing.html\n",
      "Please also refer to the documentation for alternative solver options:\n",
      "    https://scikit-learn.org/stable/modules/linear_model.html#logistic-regression\n",
      "  n_iter_i = _check_optimize_result(\n"
     ]
    },
    {
     "name": "stdout",
     "output_type": "stream",
     "text": [
      "[0.8744939271255061, 0.9500565084430261]\n",
      "[0.8947368421052632, 0.9647985640207418]\n",
      "[0.8967611336032388, 0.9389542614014093]\n",
      "K=8, get highest score=0.8927125506072875\n",
      "[0.8927125506072875, 0.9496576253157825]\n",
      "[0.8360323886639676, 0.8334995346363516]\n",
      "[0.8927125506072875, 0.9676406063023534]\n",
      "[0.9089068825910931,0.9059466826219919]\n",
      "[0]\ttrain-auc:0.91275\n",
      "[1]\ttrain-auc:0.94680\n",
      "[2]\ttrain-auc:0.95532\n",
      "[3]\ttrain-auc:0.95631\n",
      "[4]\ttrain-auc:0.95835\n",
      "[5]\ttrain-auc:0.96029\n",
      "[6]\ttrain-auc:0.96072\n",
      "[7]\ttrain-auc:0.96074\n",
      "[8]\ttrain-auc:0.96071\n",
      "[9]\ttrain-auc:0.96049\n",
      "[10]\ttrain-auc:0.96207\n",
      "[11]\ttrain-auc:0.96250\n",
      "[12]\ttrain-auc:0.96437\n",
      "[13]\ttrain-auc:0.96535\n",
      "[14]\ttrain-auc:0.96575\n",
      "[15]\ttrain-auc:0.96555\n",
      "[16]\ttrain-auc:0.96604\n",
      "[17]\ttrain-auc:0.96646\n",
      "[18]\ttrain-auc:0.96719\n",
      "[19]\ttrain-auc:0.96730\n",
      "[20]\ttrain-auc:0.96807\n",
      "[21]\ttrain-auc:0.96823\n",
      "[22]\ttrain-auc:0.96831\n",
      "[23]\ttrain-auc:0.96846\n",
      "[24]\ttrain-auc:0.96862\n",
      "[25]\ttrain-auc:0.96884\n",
      "[26]\ttrain-auc:0.96893\n",
      "[27]\ttrain-auc:0.96910\n",
      "[28]\ttrain-auc:0.96942\n",
      "[29]\ttrain-auc:0.96938\n",
      "[30]\ttrain-auc:0.96971\n",
      "[31]\ttrain-auc:0.96991\n",
      "[32]\ttrain-auc:0.97008\n",
      "[33]\ttrain-auc:0.97015\n",
      "[34]\ttrain-auc:0.97062\n",
      "[35]\ttrain-auc:0.97081\n",
      "[36]\ttrain-auc:0.97116\n",
      "[37]\ttrain-auc:0.97147\n",
      "[38]\ttrain-auc:0.97166\n",
      "[39]\ttrain-auc:0.97193\n",
      "[40]\ttrain-auc:0.97221\n",
      "[41]\ttrain-auc:0.97218\n",
      "[42]\ttrain-auc:0.97229\n",
      "[43]\ttrain-auc:0.97274\n",
      "[44]\ttrain-auc:0.97301\n",
      "[45]\ttrain-auc:0.97364\n",
      "[46]\ttrain-auc:0.97423\n",
      "[47]\ttrain-auc:0.97431\n",
      "[48]\ttrain-auc:0.97459\n",
      "[49]\ttrain-auc:0.97481\n",
      "[50]\ttrain-auc:0.97494\n",
      "[51]\ttrain-auc:0.97505\n",
      "[52]\ttrain-auc:0.97520\n",
      "[53]\ttrain-auc:0.97528\n",
      "[54]\ttrain-auc:0.97545\n",
      "[55]\ttrain-auc:0.97566\n",
      "[56]\ttrain-auc:0.97651\n",
      "[57]\ttrain-auc:0.97671\n",
      "[58]\ttrain-auc:0.97675\n",
      "[59]\ttrain-auc:0.97691\n",
      "[60]\ttrain-auc:0.97704\n",
      "[61]\ttrain-auc:0.97725\n",
      "[62]\ttrain-auc:0.97740\n",
      "[63]\ttrain-auc:0.97767\n",
      "[64]\ttrain-auc:0.97781\n",
      "[65]\ttrain-auc:0.97778\n",
      "[66]\ttrain-auc:0.97791\n",
      "[67]\ttrain-auc:0.97809\n",
      "[68]\ttrain-auc:0.97833\n",
      "[69]\ttrain-auc:0.97853\n",
      "[70]\ttrain-auc:0.97886\n",
      "[71]\ttrain-auc:0.97895\n",
      "[72]\ttrain-auc:0.97895\n",
      "[73]\ttrain-auc:0.97916\n",
      "[74]\ttrain-auc:0.97920\n",
      "[75]\ttrain-auc:0.97927\n",
      "[76]\ttrain-auc:0.97943\n",
      "[77]\ttrain-auc:0.97957\n",
      "[78]\ttrain-auc:0.97954\n",
      "[79]\ttrain-auc:0.97968\n",
      "[80]\ttrain-auc:0.97984\n",
      "[81]\ttrain-auc:0.97995\n",
      "[82]\ttrain-auc:0.98020\n",
      "[83]\ttrain-auc:0.98039\n",
      "[84]\ttrain-auc:0.98062\n",
      "[85]\ttrain-auc:0.98070\n",
      "[86]\ttrain-auc:0.98087\n",
      "[87]\ttrain-auc:0.98113\n",
      "[88]\ttrain-auc:0.98121\n",
      "[89]\ttrain-auc:0.98133\n",
      "[90]\ttrain-auc:0.98137\n",
      "[91]\ttrain-auc:0.98142\n",
      "[92]\ttrain-auc:0.98158\n",
      "[93]\ttrain-auc:0.98168\n",
      "[94]\ttrain-auc:0.98174\n",
      "[95]\ttrain-auc:0.98189\n",
      "[96]\ttrain-auc:0.98204\n",
      "[97]\ttrain-auc:0.98216\n",
      "[98]\ttrain-auc:0.98235\n",
      "[99]\ttrain-auc:0.98247\n",
      "AUC: 0.9630\n",
      "ACC: 0.8947\n",
      "[[183  35]\n",
      " [ 17 259]]\n",
      "[LightGBM] [Warning] Auto-choosing col-wise multi-threading, the overhead of testing was 0.017146 seconds.\n",
      "You can set `force_col_wise=true` to remove the overhead.\n",
      "[LightGBM] [Warning] No further splits with positive gain, best gain: -inf\n",
      "[1]\tvalid_0's auc: 0.905606\tvalid_0's binary_logloss: 0.66823\n",
      "Training until validation scores don't improve for 50 rounds\n",
      "[LightGBM] [Warning] No further splits with positive gain, best gain: -inf\n",
      "[2]\tvalid_0's auc: 0.931384\tvalid_0's binary_logloss: 0.650734\n",
      "[LightGBM] [Warning] No further splits with positive gain, best gain: -inf\n",
      "[3]\tvalid_0's auc: 0.94055\tvalid_0's binary_logloss: 0.634077\n",
      "[LightGBM] [Warning] No further splits with positive gain, best gain: -inf\n",
      "[4]\tvalid_0's auc: 0.947181\tvalid_0's binary_logloss: 0.617894\n",
      "[LightGBM] [Warning] No further splits with positive gain, best gain: -inf\n",
      "[5]\tvalid_0's auc: 0.946234\tvalid_0's binary_logloss: 0.603689\n",
      "[LightGBM] [Warning] No further splits with positive gain, best gain: -inf\n",
      "[6]\tvalid_0's auc: 0.947563\tvalid_0's binary_logloss: 0.589667\n",
      "[LightGBM] [Warning] No further splits with positive gain, best gain: -inf\n",
      "[7]\tvalid_0's auc: 0.947015\tvalid_0's binary_logloss: 0.576846\n",
      "[LightGBM] [Warning] No further splits with positive gain, best gain: -inf\n",
      "[8]\tvalid_0's auc: 0.950198\tvalid_0's binary_logloss: 0.564566\n",
      "[LightGBM] [Warning] No further splits with positive gain, best gain: -inf\n",
      "[9]\tvalid_0's auc: 0.951901\tvalid_0's binary_logloss: 0.552332\n",
      "[LightGBM] [Warning] No further splits with positive gain, best gain: -inf\n",
      "[10]\tvalid_0's auc: 0.950314\tvalid_0's binary_logloss: 0.541682\n",
      "[LightGBM] [Warning] No further splits with positive gain, best gain: -inf\n",
      "[11]\tvalid_0's auc: 0.950929\tvalid_0's binary_logloss: 0.531047\n",
      "[LightGBM] [Warning] No further splits with positive gain, best gain: -inf\n",
      "[12]\tvalid_0's auc: 0.951536\tvalid_0's binary_logloss: 0.52091\n",
      "[LightGBM] [Warning] No further splits with positive gain, best gain: -inf\n",
      "[13]\tvalid_0's auc: 0.95225\tvalid_0's binary_logloss: 0.511113\n",
      "[LightGBM] [Warning] No further splits with positive gain, best gain: -inf\n",
      "[14]\tvalid_0's auc: 0.953156\tvalid_0's binary_logloss: 0.501184\n",
      "[LightGBM] [Warning] No further splits with positive gain, best gain: -inf\n",
      "[15]\tvalid_0's auc: 0.952458\tvalid_0's binary_logloss: 0.492495\n",
      "[LightGBM] [Warning] No further splits with positive gain, best gain: -inf\n",
      "[16]\tvalid_0's auc: 0.953322\tvalid_0's binary_logloss: 0.484225\n",
      "[LightGBM] [Warning] No further splits with positive gain, best gain: -inf\n",
      "[17]\tvalid_0's auc: 0.953273\tvalid_0's binary_logloss: 0.475981\n",
      "[LightGBM] [Warning] No further splits with positive gain, best gain: -inf\n",
      "[18]\tvalid_0's auc: 0.953854\tvalid_0's binary_logloss: 0.467925\n",
      "[LightGBM] [Warning] No further splits with positive gain, best gain: -inf\n",
      "[19]\tvalid_0's auc: 0.953887\tvalid_0's binary_logloss: 0.460467\n",
      "[LightGBM] [Warning] No further splits with positive gain, best gain: -inf\n",
      "[20]\tvalid_0's auc: 0.953754\tvalid_0's binary_logloss: 0.453133\n",
      "[LightGBM] [Warning] No further splits with positive gain, best gain: -inf\n",
      "[21]\tvalid_0's auc: 0.954369\tvalid_0's binary_logloss: 0.445649\n",
      "[LightGBM] [Warning] No further splits with positive gain, best gain: -inf\n",
      "[22]\tvalid_0's auc: 0.955533\tvalid_0's binary_logloss: 0.438076\n",
      "[LightGBM] [Warning] No further splits with positive gain, best gain: -inf\n",
      "[23]\tvalid_0's auc: 0.956031\tvalid_0's binary_logloss: 0.431256\n",
      "[LightGBM] [Warning] No further splits with positive gain, best gain: -inf\n",
      "[24]\tvalid_0's auc: 0.956098\tvalid_0's binary_logloss: 0.42518\n",
      "[LightGBM] [Warning] No further splits with positive gain, best gain: -inf\n",
      "[25]\tvalid_0's auc: 0.956414\tvalid_0's binary_logloss: 0.418836\n",
      "[LightGBM] [Warning] No further splits with positive gain, best gain: -inf\n",
      "[26]\tvalid_0's auc: 0.956788\tvalid_0's binary_logloss: 0.413214\n",
      "[LightGBM] [Warning] No further splits with positive gain, best gain: -inf\n",
      "[27]\tvalid_0's auc: 0.95697\tvalid_0's binary_logloss: 0.407636\n",
      "[LightGBM] [Warning] No further splits with positive gain, best gain: -inf\n",
      "[28]\tvalid_0's auc: 0.958283\tvalid_0's binary_logloss: 0.401743\n",
      "[LightGBM] [Warning] No further splits with positive gain, best gain: -inf\n",
      "[29]\tvalid_0's auc: 0.957951\tvalid_0's binary_logloss: 0.396564\n",
      "[LightGBM] [Warning] No further splits with positive gain, best gain: -inf\n",
      "[30]\tvalid_0's auc: 0.958707\tvalid_0's binary_logloss: 0.391219\n",
      "[LightGBM] [Warning] No further splits with positive gain, best gain: -inf\n",
      "[31]\tvalid_0's auc: 0.959355\tvalid_0's binary_logloss: 0.385615\n",
      "[LightGBM] [Warning] No further splits with positive gain, best gain: -inf\n",
      "[32]\tvalid_0's auc: 0.959821\tvalid_0's binary_logloss: 0.380496\n",
      "[LightGBM] [Warning] No further splits with positive gain, best gain: -inf\n",
      "[33]\tvalid_0's auc: 0.960378\tvalid_0's binary_logloss: 0.375502\n",
      "[LightGBM] [Warning] No further splits with positive gain, best gain: -inf\n",
      "[34]\tvalid_0's auc: 0.96081\tvalid_0's binary_logloss: 0.370735\n",
      "[LightGBM] [Warning] No further splits with positive gain, best gain: -inf\n",
      "[35]\tvalid_0's auc: 0.960909\tvalid_0's binary_logloss: 0.366685\n",
      "[LightGBM] [Warning] No further splits with positive gain, best gain: -inf\n",
      "[36]\tvalid_0's auc: 0.960826\tvalid_0's binary_logloss: 0.362688\n",
      "[LightGBM] [Warning] No further splits with positive gain, best gain: -inf\n",
      "[37]\tvalid_0's auc: 0.960893\tvalid_0's binary_logloss: 0.358795\n",
      "[LightGBM] [Warning] No further splits with positive gain, best gain: -inf\n",
      "[38]\tvalid_0's auc: 0.961358\tvalid_0's binary_logloss: 0.353993\n",
      "[LightGBM] [Warning] No further splits with positive gain, best gain: -inf\n"
     ]
    },
    {
     "name": "stdout",
     "output_type": "stream",
     "text": [
      "[39]\tvalid_0's auc: 0.961973\tvalid_0's binary_logloss: 0.349951\n",
      "[LightGBM] [Warning] No further splits with positive gain, best gain: -inf\n",
      "[40]\tvalid_0's auc: 0.962688\tvalid_0's binary_logloss: 0.345572\n",
      "[LightGBM] [Warning] No further splits with positive gain, best gain: -inf\n",
      "[41]\tvalid_0's auc: 0.962771\tvalid_0's binary_logloss: 0.342341\n",
      "[LightGBM] [Warning] No further splits with positive gain, best gain: -inf\n",
      "[42]\tvalid_0's auc: 0.962904\tvalid_0's binary_logloss: 0.338538\n",
      "[LightGBM] [Warning] No further splits with positive gain, best gain: -inf\n",
      "[43]\tvalid_0's auc: 0.96292\tvalid_0's binary_logloss: 0.334835\n",
      "[LightGBM] [Warning] No further splits with positive gain, best gain: -inf\n",
      "[44]\tvalid_0's auc: 0.963502\tvalid_0's binary_logloss: 0.330816\n",
      "[LightGBM] [Warning] No further splits with positive gain, best gain: -inf\n",
      "[45]\tvalid_0's auc: 0.963552\tvalid_0's binary_logloss: 0.327796\n",
      "[LightGBM] [Warning] No further splits with positive gain, best gain: -inf\n",
      "[46]\tvalid_0's auc: 0.963768\tvalid_0's binary_logloss: 0.324359\n",
      "[LightGBM] [Warning] No further splits with positive gain, best gain: -inf\n",
      "[47]\tvalid_0's auc: 0.963751\tvalid_0's binary_logloss: 0.321681\n",
      "[LightGBM] [Warning] No further splits with positive gain, best gain: -inf\n",
      "[48]\tvalid_0's auc: 0.963984\tvalid_0's binary_logloss: 0.318353\n",
      "[LightGBM] [Warning] No further splits with positive gain, best gain: -inf\n",
      "[49]\tvalid_0's auc: 0.963901\tvalid_0's binary_logloss: 0.315856\n",
      "[LightGBM] [Warning] No further splits with positive gain, best gain: -inf\n",
      "[50]\tvalid_0's auc: 0.964134\tvalid_0's binary_logloss: 0.313062\n",
      "[LightGBM] [Warning] No further splits with positive gain, best gain: -inf\n",
      "[51]\tvalid_0's auc: 0.964583\tvalid_0's binary_logloss: 0.309994\n",
      "[LightGBM] [Warning] No further splits with positive gain, best gain: -inf\n",
      "[52]\tvalid_0's auc: 0.964882\tvalid_0's binary_logloss: 0.307365\n",
      "[LightGBM] [Warning] No further splits with positive gain, best gain: -inf\n",
      "[53]\tvalid_0's auc: 0.965297\tvalid_0's binary_logloss: 0.304344\n",
      "[LightGBM] [Warning] No further splits with positive gain, best gain: -inf\n",
      "[54]\tvalid_0's auc: 0.96563\tvalid_0's binary_logloss: 0.302092\n",
      "[LightGBM] [Warning] No further splits with positive gain, best gain: -inf\n",
      "[55]\tvalid_0's auc: 0.96538\tvalid_0's binary_logloss: 0.299883\n",
      "[LightGBM] [Warning] No further splits with positive gain, best gain: -inf\n",
      "[56]\tvalid_0's auc: 0.965763\tvalid_0's binary_logloss: 0.297641\n",
      "[LightGBM] [Warning] No further splits with positive gain, best gain: -inf\n",
      "[57]\tvalid_0's auc: 0.965463\tvalid_0's binary_logloss: 0.295919\n",
      "[LightGBM] [Warning] No further splits with positive gain, best gain: -inf\n",
      "[58]\tvalid_0's auc: 0.96548\tvalid_0's binary_logloss: 0.294105\n",
      "[LightGBM] [Warning] No further splits with positive gain, best gain: -inf\n",
      "[59]\tvalid_0's auc: 0.965796\tvalid_0's binary_logloss: 0.291505\n",
      "[LightGBM] [Warning] No further splits with positive gain, best gain: -inf\n",
      "[60]\tvalid_0's auc: 0.965962\tvalid_0's binary_logloss: 0.289357\n",
      "[LightGBM] [Warning] No further splits with positive gain, best gain: -inf\n",
      "[61]\tvalid_0's auc: 0.966361\tvalid_0's binary_logloss: 0.286885\n",
      "[LightGBM] [Warning] No further splits with positive gain, best gain: -inf\n",
      "[62]\tvalid_0's auc: 0.96661\tvalid_0's binary_logloss: 0.284421\n",
      "[LightGBM] [Warning] No further splits with positive gain, best gain: -inf\n",
      "[63]\tvalid_0's auc: 0.966859\tvalid_0's binary_logloss: 0.282157\n",
      "[LightGBM] [Warning] No further splits with positive gain, best gain: -inf\n",
      "[64]\tvalid_0's auc: 0.967059\tvalid_0's binary_logloss: 0.279971\n",
      "[LightGBM] [Warning] No further splits with positive gain, best gain: -inf\n",
      "[65]\tvalid_0's auc: 0.967524\tvalid_0's binary_logloss: 0.277375\n",
      "[LightGBM] [Warning] No further splits with positive gain, best gain: -inf\n",
      "[66]\tvalid_0's auc: 0.967774\tvalid_0's binary_logloss: 0.275144\n",
      "[LightGBM] [Warning] No further splits with positive gain, best gain: -inf\n",
      "[67]\tvalid_0's auc: 0.968073\tvalid_0's binary_logloss: 0.273243\n",
      "[LightGBM] [Warning] No further splits with positive gain, best gain: -inf\n",
      "[68]\tvalid_0's auc: 0.968172\tvalid_0's binary_logloss: 0.271597\n",
      "[LightGBM] [Warning] No further splits with positive gain, best gain: -inf\n",
      "[69]\tvalid_0's auc: 0.968422\tvalid_0's binary_logloss: 0.269681\n",
      "[LightGBM] [Warning] No further splits with positive gain, best gain: -inf\n",
      "[70]\tvalid_0's auc: 0.968738\tvalid_0's binary_logloss: 0.267684\n",
      "[LightGBM] [Warning] No further splits with positive gain, best gain: -inf\n",
      "[71]\tvalid_0's auc: 0.968638\tvalid_0's binary_logloss: 0.266535\n",
      "[LightGBM] [Warning] No further splits with positive gain, best gain: -inf\n",
      "[72]\tvalid_0's auc: 0.968887\tvalid_0's binary_logloss: 0.264879\n",
      "[LightGBM] [Warning] No further splits with positive gain, best gain: -inf\n",
      "[73]\tvalid_0's auc: 0.969236\tvalid_0's binary_logloss: 0.263537\n",
      "[LightGBM] [Warning] No further splits with positive gain, best gain: -inf\n",
      "[74]\tvalid_0's auc: 0.96917\tvalid_0's binary_logloss: 0.262443\n",
      "[LightGBM] [Warning] No further splits with positive gain, best gain: -inf\n",
      "[75]\tvalid_0's auc: 0.969419\tvalid_0's binary_logloss: 0.260839\n",
      "[LightGBM] [Warning] No further splits with positive gain, best gain: -inf\n",
      "[76]\tvalid_0's auc: 0.969286\tvalid_0's binary_logloss: 0.25975\n",
      "[LightGBM] [Warning] No further splits with positive gain, best gain: -inf\n",
      "[77]\tvalid_0's auc: 0.969618\tvalid_0's binary_logloss: 0.257924\n",
      "[LightGBM] [Warning] No further splits with positive gain, best gain: -inf\n",
      "[78]\tvalid_0's auc: 0.969851\tvalid_0's binary_logloss: 0.256485\n",
      "[LightGBM] [Warning] No further splits with positive gain, best gain: -inf\n",
      "[79]\tvalid_0's auc: 0.969801\tvalid_0's binary_logloss: 0.255675\n",
      "[LightGBM] [Warning] No further splits with positive gain, best gain: -inf\n",
      "[80]\tvalid_0's auc: 0.969751\tvalid_0's binary_logloss: 0.254541\n",
      "[LightGBM] [Warning] No further splits with positive gain, best gain: -inf\n",
      "[81]\tvalid_0's auc: 0.970017\tvalid_0's binary_logloss: 0.25318\n",
      "[LightGBM] [Warning] No further splits with positive gain, best gain: -inf\n",
      "[82]\tvalid_0's auc: 0.969934\tvalid_0's binary_logloss: 0.252195\n",
      "[LightGBM] [Warning] No further splits with positive gain, best gain: -inf\n",
      "[83]\tvalid_0's auc: 0.9701\tvalid_0's binary_logloss: 0.251302\n",
      "[LightGBM] [Warning] No further splits with positive gain, best gain: -inf\n",
      "[84]\tvalid_0's auc: 0.9702\tvalid_0's binary_logloss: 0.25018\n",
      "[LightGBM] [Warning] No further splits with positive gain, best gain: -inf\n",
      "[85]\tvalid_0's auc: 0.970533\tvalid_0's binary_logloss: 0.248891\n",
      "[LightGBM] [Warning] No further splits with positive gain, best gain: -inf\n",
      "[86]\tvalid_0's auc: 0.970616\tvalid_0's binary_logloss: 0.247812\n",
      "[LightGBM] [Warning] No further splits with positive gain, best gain: -inf\n",
      "[87]\tvalid_0's auc: 0.970898\tvalid_0's binary_logloss: 0.246253\n",
      "[LightGBM] [Warning] No further splits with positive gain, best gain: -inf\n",
      "[88]\tvalid_0's auc: 0.971214\tvalid_0's binary_logloss: 0.245016\n",
      "[LightGBM] [Warning] No further splits with positive gain, best gain: -inf\n",
      "[89]\tvalid_0's auc: 0.971081\tvalid_0's binary_logloss: 0.244214\n",
      "[LightGBM] [Warning] No further splits with positive gain, best gain: -inf\n",
      "[90]\tvalid_0's auc: 0.971114\tvalid_0's binary_logloss: 0.243164\n",
      "[LightGBM] [Warning] No further splits with positive gain, best gain: -inf\n",
      "[91]\tvalid_0's auc: 0.971314\tvalid_0's binary_logloss: 0.242245\n",
      "[LightGBM] [Warning] No further splits with positive gain, best gain: -inf\n",
      "[92]\tvalid_0's auc: 0.97128\tvalid_0's binary_logloss: 0.241486\n",
      "[LightGBM] [Warning] No further splits with positive gain, best gain: -inf\n",
      "[93]\tvalid_0's auc: 0.971513\tvalid_0's binary_logloss: 0.240148\n",
      "[LightGBM] [Warning] No further splits with positive gain, best gain: -inf\n",
      "[94]\tvalid_0's auc: 0.97148\tvalid_0's binary_logloss: 0.239266\n",
      "[LightGBM] [Warning] No further splits with positive gain, best gain: -inf\n",
      "[95]\tvalid_0's auc: 0.971663\tvalid_0's binary_logloss: 0.238335\n",
      "[LightGBM] [Warning] No further splits with positive gain, best gain: -inf\n",
      "[96]\tvalid_0's auc: 0.971879\tvalid_0's binary_logloss: 0.237443\n",
      "[LightGBM] [Warning] No further splits with positive gain, best gain: -inf\n",
      "[97]\tvalid_0's auc: 0.971978\tvalid_0's binary_logloss: 0.236575\n",
      "[LightGBM] [Warning] No further splits with positive gain, best gain: -inf\n",
      "[98]\tvalid_0's auc: 0.972344\tvalid_0's binary_logloss: 0.235233\n",
      "[LightGBM] [Warning] No further splits with positive gain, best gain: -inf\n",
      "[99]\tvalid_0's auc: 0.972577\tvalid_0's binary_logloss: 0.234039\n",
      "[LightGBM] [Warning] No further splits with positive gain, best gain: -inf\n",
      "[100]\tvalid_0's auc: 0.97246\tvalid_0's binary_logloss: 0.23322\n",
      "Did not meet early stopping. Best iteration is:\n",
      "[99]\tvalid_0's auc: 0.972577\tvalid_0's binary_logloss: 0.234039\n",
      "AUC: 0.9726\n",
      "ACC: 0.8988\n",
      "[[187  31]\n",
      " [ 19 257]]\n"
     ]
    },
    {
     "name": "stdout",
     "output_type": "stream",
     "text": [
      "[0.868421052631579, 0.9026041666666665]\n"
     ]
    },
    {
     "name": "stderr",
     "output_type": "stream",
     "text": [
      "/Users/johnson/opt/anaconda3/envs/prac/lib/python3.8/site-packages/sklearn/linear_model/_logistic.py:763: ConvergenceWarning: lbfgs failed to converge (status=1):\n",
      "STOP: TOTAL NO. of ITERATIONS REACHED LIMIT.\n",
      "\n",
      "Increase the number of iterations (max_iter) or scale the data as shown in:\n",
      "    https://scikit-learn.org/stable/modules/preprocessing.html\n",
      "Please also refer to the documentation for alternative solver options:\n",
      "    https://scikit-learn.org/stable/modules/linear_model.html#logistic-regression\n",
      "  n_iter_i = _check_optimize_result(\n"
     ]
    },
    {
     "name": "stdout",
     "output_type": "stream",
     "text": [
      "[0.8704453441295547, 0.8999289772727272]\n",
      "[0.8643724696356275, 0.9184895833333333]\n",
      "[0.8218623481781376, 0.8114820075757577]\n",
      "K=6, get highest score=0.8522267206477733\n",
      "[0.8522267206477733, 0.8937855113636364]\n",
      "[0.840080971659919, 0.7803740530303032]\n",
      "[0.8765182186234818, 0.9390506628787879]\n",
      "[0.8704453441295547,0.7999053030303032]\n",
      "[0]\ttrain-auc:0.86384\n",
      "[1]\ttrain-auc:0.87535\n",
      "[2]\ttrain-auc:0.88137\n",
      "[3]\ttrain-auc:0.89274\n",
      "[4]\ttrain-auc:0.90090\n",
      "[5]\ttrain-auc:0.90412\n",
      "[6]\ttrain-auc:0.90521\n",
      "[7]\ttrain-auc:0.91473\n",
      "[8]\ttrain-auc:0.91635\n",
      "[9]\ttrain-auc:0.91704\n",
      "[10]\ttrain-auc:0.92189\n",
      "[11]\ttrain-auc:0.92301\n",
      "[12]\ttrain-auc:0.92388\n",
      "[13]\ttrain-auc:0.93038\n",
      "[14]\ttrain-auc:0.92981\n",
      "[15]\ttrain-auc:0.93156\n",
      "[16]\ttrain-auc:0.93162\n",
      "[17]\ttrain-auc:0.93173\n",
      "[18]\ttrain-auc:0.93663\n",
      "[19]\ttrain-auc:0.93717\n",
      "[20]\ttrain-auc:0.93742\n",
      "[21]\ttrain-auc:0.93862\n",
      "[22]\ttrain-auc:0.93839\n",
      "[23]\ttrain-auc:0.93835\n",
      "[24]\ttrain-auc:0.93884\n",
      "[25]\ttrain-auc:0.93892\n",
      "[26]\ttrain-auc:0.93885\n",
      "[27]\ttrain-auc:0.94040\n",
      "[28]\ttrain-auc:0.94051\n",
      "[29]\ttrain-auc:0.94056\n",
      "[30]\ttrain-auc:0.94178\n",
      "[31]\ttrain-auc:0.94194\n",
      "[32]\ttrain-auc:0.94341\n",
      "[33]\ttrain-auc:0.94346\n",
      "[34]\ttrain-auc:0.94364\n",
      "[35]\ttrain-auc:0.94415\n",
      "[36]\ttrain-auc:0.94428\n",
      "[37]\ttrain-auc:0.94460\n",
      "[38]\ttrain-auc:0.94458\n",
      "[39]\ttrain-auc:0.94481\n",
      "[40]\ttrain-auc:0.94499\n",
      "[41]\ttrain-auc:0.94539\n",
      "[42]\ttrain-auc:0.94573\n",
      "[43]\ttrain-auc:0.94578\n",
      "[44]\ttrain-auc:0.94618\n",
      "[45]\ttrain-auc:0.94646\n",
      "[46]\ttrain-auc:0.94748\n",
      "[47]\ttrain-auc:0.94752\n",
      "[48]\ttrain-auc:0.94862\n",
      "[49]\ttrain-auc:0.94944\n",
      "[50]\ttrain-auc:0.94988\n",
      "[51]\ttrain-auc:0.95036\n",
      "[52]\ttrain-auc:0.95036\n",
      "[53]\ttrain-auc:0.95085\n",
      "[54]\ttrain-auc:0.95163\n",
      "[55]\ttrain-auc:0.95183\n",
      "[56]\ttrain-auc:0.95234\n",
      "[57]\ttrain-auc:0.95257\n",
      "[58]\ttrain-auc:0.95264\n",
      "[59]\ttrain-auc:0.95273\n",
      "[60]\ttrain-auc:0.95279\n",
      "[61]\ttrain-auc:0.95305\n",
      "[62]\ttrain-auc:0.95335\n",
      "[63]\ttrain-auc:0.95372\n",
      "[64]\ttrain-auc:0.95414\n",
      "[65]\ttrain-auc:0.95465\n",
      "[66]\ttrain-auc:0.95478\n",
      "[67]\ttrain-auc:0.95500\n",
      "[68]\ttrain-auc:0.95533\n",
      "[69]\ttrain-auc:0.95550\n",
      "[70]\ttrain-auc:0.95616\n",
      "[71]\ttrain-auc:0.95634\n",
      "[72]\ttrain-auc:0.95655\n",
      "[73]\ttrain-auc:0.95686\n",
      "[74]\ttrain-auc:0.95709\n",
      "[75]\ttrain-auc:0.95738\n",
      "[76]\ttrain-auc:0.95759\n",
      "[77]\ttrain-auc:0.95773\n",
      "[78]\ttrain-auc:0.95785\n",
      "[79]\ttrain-auc:0.95814\n",
      "[80]\ttrain-auc:0.95853\n",
      "[81]\ttrain-auc:0.95884\n",
      "[82]\ttrain-auc:0.95910\n",
      "[83]\ttrain-auc:0.95984\n",
      "[84]\ttrain-auc:0.96016\n",
      "[85]\ttrain-auc:0.96044\n",
      "[86]\ttrain-auc:0.96065\n",
      "[87]\ttrain-auc:0.96090\n",
      "[88]\ttrain-auc:0.96123\n",
      "[89]\ttrain-auc:0.96141\n",
      "[90]\ttrain-auc:0.96185\n",
      "[91]\ttrain-auc:0.96212\n",
      "[92]\ttrain-auc:0.96239\n",
      "[93]\ttrain-auc:0.96266\n",
      "[94]\ttrain-auc:0.96309\n",
      "[95]\ttrain-auc:0.96343\n",
      "[96]\ttrain-auc:0.96377\n",
      "[97]\ttrain-auc:0.96408\n",
      "[98]\ttrain-auc:0.96430\n",
      "[99]\ttrain-auc:0.96460\n",
      "AUC: 0.9310\n",
      "ACC: 0.8765\n",
      "[[357  27]\n",
      " [ 34  76]]\n",
      "[LightGBM] [Warning] Auto-choosing col-wise multi-threading, the overhead of testing was 0.010927 seconds.\n",
      "You can set `force_col_wise=true` to remove the overhead.\n",
      "[LightGBM] [Warning] No further splits with positive gain, best gain: -inf\n",
      "[1]\tvalid_0's auc: 0.879392\tvalid_0's binary_logloss: 0.523923\n",
      "Training until validation scores don't improve for 50 rounds\n",
      "[LightGBM] [Warning] No further splits with positive gain, best gain: -inf\n",
      "[2]\tvalid_0's auc: 0.900426\tvalid_0's binary_logloss: 0.512976\n",
      "[LightGBM] [Warning] No further splits with positive gain, best gain: -inf\n",
      "[3]\tvalid_0's auc: 0.907528\tvalid_0's binary_logloss: 0.503713\n",
      "[LightGBM] [Warning] No further splits with positive gain, best gain: -inf\n",
      "[4]\tvalid_0's auc: 0.915933\tvalid_0's binary_logloss: 0.494346\n",
      "[LightGBM] [Warning] No further splits with positive gain, best gain: -inf\n",
      "[5]\tvalid_0's auc: 0.915625\tvalid_0's binary_logloss: 0.484944\n",
      "[LightGBM] [Warning] No further splits with positive gain, best gain: -inf\n",
      "[6]\tvalid_0's auc: 0.915613\tvalid_0's binary_logloss: 0.476396\n",
      "[LightGBM] [Warning] No further splits with positive gain, best gain: -inf\n",
      "[7]\tvalid_0's auc: 0.917105\tvalid_0's binary_logloss: 0.468286\n",
      "[LightGBM] [Warning] No further splits with positive gain, best gain: -inf\n",
      "[8]\tvalid_0's auc: 0.922218\tvalid_0's binary_logloss: 0.45975\n",
      "[LightGBM] [Warning] No further splits with positive gain, best gain: -inf\n",
      "[9]\tvalid_0's auc: 0.926787\tvalid_0's binary_logloss: 0.452079\n",
      "[LightGBM] [Warning] No further splits with positive gain, best gain: -inf\n",
      "[10]\tvalid_0's auc: 0.927048\tvalid_0's binary_logloss: 0.444751\n",
      "[LightGBM] [Warning] No further splits with positive gain, best gain: -inf\n",
      "[11]\tvalid_0's auc: 0.928089\tvalid_0's binary_logloss: 0.438012\n",
      "[LightGBM] [Warning] No further splits with positive gain, best gain: -inf\n",
      "[12]\tvalid_0's auc: 0.926491\tvalid_0's binary_logloss: 0.431715\n",
      "[LightGBM] [Warning] No further splits with positive gain, best gain: -inf\n",
      "[13]\tvalid_0's auc: 0.927675\tvalid_0's binary_logloss: 0.425832\n",
      "[LightGBM] [Warning] No further splits with positive gain, best gain: -inf\n",
      "[14]\tvalid_0's auc: 0.928338\tvalid_0's binary_logloss: 0.419811\n",
      "[LightGBM] [Warning] No further splits with positive gain, best gain: -inf\n",
      "[15]\tvalid_0's auc: 0.931652\tvalid_0's binary_logloss: 0.41312\n",
      "[LightGBM] [Warning] No further splits with positive gain, best gain: -inf\n",
      "[16]\tvalid_0's auc: 0.932505\tvalid_0's binary_logloss: 0.407516\n",
      "[LightGBM] [Warning] No further splits with positive gain, best gain: -inf\n",
      "[17]\tvalid_0's auc: 0.934115\tvalid_0's binary_logloss: 0.401095\n",
      "[LightGBM] [Warning] No further splits with positive gain, best gain: -inf\n",
      "[18]\tvalid_0's auc: 0.934635\tvalid_0's binary_logloss: 0.396008\n",
      "[LightGBM] [Warning] No further splits with positive gain, best gain: -inf\n",
      "[19]\tvalid_0's auc: 0.934422\tvalid_0's binary_logloss: 0.391079\n",
      "[LightGBM] [Warning] No further splits with positive gain, best gain: -inf\n",
      "[20]\tvalid_0's auc: 0.933783\tvalid_0's binary_logloss: 0.387463\n",
      "[LightGBM] [Warning] No further splits with positive gain, best gain: -inf\n",
      "[21]\tvalid_0's auc: 0.934612\tvalid_0's binary_logloss: 0.382596\n",
      "[LightGBM] [Warning] No further splits with positive gain, best gain: -inf\n",
      "[22]\tvalid_0's auc: 0.93473\tvalid_0's binary_logloss: 0.378216\n",
      "[LightGBM] [Warning] No further splits with positive gain, best gain: -inf\n",
      "[23]\tvalid_0's auc: 0.934777\tvalid_0's binary_logloss: 0.374423\n",
      "[LightGBM] [Warning] No further splits with positive gain, best gain: -inf\n",
      "[24]\tvalid_0's auc: 0.935417\tvalid_0's binary_logloss: 0.370208\n",
      "[LightGBM] [Warning] No further splits with positive gain, best gain: -inf\n",
      "[25]\tvalid_0's auc: 0.935914\tvalid_0's binary_logloss: 0.366581\n",
      "[LightGBM] [Warning] No further splits with positive gain, best gain: -inf\n",
      "[26]\tvalid_0's auc: 0.936577\tvalid_0's binary_logloss: 0.362816\n",
      "[LightGBM] [Warning] No further splits with positive gain, best gain: -inf\n",
      "[27]\tvalid_0's auc: 0.937334\tvalid_0's binary_logloss: 0.358784\n",
      "[LightGBM] [Warning] No further splits with positive gain, best gain: -inf\n",
      "[28]\tvalid_0's auc: 0.937216\tvalid_0's binary_logloss: 0.355241\n",
      "[LightGBM] [Warning] No further splits with positive gain, best gain: -inf\n",
      "[29]\tvalid_0's auc: 0.937027\tvalid_0's binary_logloss: 0.351978\n",
      "[LightGBM] [Warning] No further splits with positive gain, best gain: -inf\n",
      "[30]\tvalid_0's auc: 0.937429\tvalid_0's binary_logloss: 0.348417\n",
      "[LightGBM] [Warning] No further splits with positive gain, best gain: -inf\n",
      "[31]\tvalid_0's auc: 0.937571\tvalid_0's binary_logloss: 0.345349\n",
      "[LightGBM] [Warning] No further splits with positive gain, best gain: -inf\n",
      "[32]\tvalid_0's auc: 0.937358\tvalid_0's binary_logloss: 0.342604\n",
      "[LightGBM] [Warning] No further splits with positive gain, best gain: -inf\n",
      "[33]\tvalid_0's auc: 0.937997\tvalid_0's binary_logloss: 0.339894\n",
      "[LightGBM] [Warning] No further splits with positive gain, best gain: -inf\n",
      "[34]\tvalid_0's auc: 0.938778\tvalid_0's binary_logloss: 0.336503\n",
      "[LightGBM] [Warning] No further splits with positive gain, best gain: -inf\n",
      "[35]\tvalid_0's auc: 0.939962\tvalid_0's binary_logloss: 0.332812\n",
      "[LightGBM] [Warning] No further splits with positive gain, best gain: -inf\n",
      "[36]\tvalid_0's auc: 0.940767\tvalid_0's binary_logloss: 0.32949\n",
      "[LightGBM] [Warning] No further splits with positive gain, best gain: -inf\n",
      "[37]\tvalid_0's auc: 0.941051\tvalid_0's binary_logloss: 0.326412\n",
      "[LightGBM] [Warning] No further splits with positive gain, best gain: -inf\n",
      "[38]\tvalid_0's auc: 0.941027\tvalid_0's binary_logloss: 0.324058\n",
      "[LightGBM] [Warning] No further splits with positive gain, best gain: -inf\n",
      "[39]\tvalid_0's auc: 0.941454\tvalid_0's binary_logloss: 0.321602\n"
     ]
    },
    {
     "name": "stdout",
     "output_type": "stream",
     "text": [
      "[LightGBM] [Warning] No further splits with positive gain, best gain: -inf\n",
      "[40]\tvalid_0's auc: 0.941383\tvalid_0's binary_logloss: 0.319261\n",
      "[LightGBM] [Warning] No further splits with positive gain, best gain: -inf\n",
      "[41]\tvalid_0's auc: 0.941288\tvalid_0's binary_logloss: 0.317222\n",
      "[LightGBM] [Warning] No further splits with positive gain, best gain: -inf\n",
      "[42]\tvalid_0's auc: 0.940956\tvalid_0's binary_logloss: 0.3156\n",
      "[LightGBM] [Warning] No further splits with positive gain, best gain: -inf\n",
      "[43]\tvalid_0's auc: 0.940862\tvalid_0's binary_logloss: 0.313812\n",
      "[LightGBM] [Warning] No further splits with positive gain, best gain: -inf\n",
      "[44]\tvalid_0's auc: 0.941477\tvalid_0's binary_logloss: 0.311536\n",
      "[LightGBM] [Warning] No further splits with positive gain, best gain: -inf\n",
      "[45]\tvalid_0's auc: 0.941856\tvalid_0's binary_logloss: 0.309725\n",
      "[LightGBM] [Warning] No further splits with positive gain, best gain: -inf\n",
      "[46]\tvalid_0's auc: 0.941619\tvalid_0's binary_logloss: 0.308261\n",
      "[LightGBM] [Warning] No further splits with positive gain, best gain: -inf\n",
      "[47]\tvalid_0's auc: 0.94169\tvalid_0's binary_logloss: 0.306505\n",
      "[LightGBM] [Warning] No further splits with positive gain, best gain: -inf\n",
      "[48]\tvalid_0's auc: 0.941193\tvalid_0's binary_logloss: 0.30529\n",
      "[LightGBM] [Warning] No further splits with positive gain, best gain: -inf\n",
      "[49]\tvalid_0's auc: 0.941572\tvalid_0's binary_logloss: 0.303556\n",
      "[LightGBM] [Warning] No further splits with positive gain, best gain: -inf\n",
      "[50]\tvalid_0's auc: 0.941619\tvalid_0's binary_logloss: 0.301673\n",
      "[LightGBM] [Warning] No further splits with positive gain, best gain: -inf\n",
      "[51]\tvalid_0's auc: 0.941856\tvalid_0's binary_logloss: 0.29982\n",
      "[LightGBM] [Warning] No further splits with positive gain, best gain: -inf\n",
      "[52]\tvalid_0's auc: 0.942377\tvalid_0's binary_logloss: 0.298251\n",
      "[LightGBM] [Warning] No further splits with positive gain, best gain: -inf\n",
      "[53]\tvalid_0's auc: 0.942306\tvalid_0's binary_logloss: 0.297172\n",
      "[LightGBM] [Warning] No further splits with positive gain, best gain: -inf\n",
      "[54]\tvalid_0's auc: 0.942069\tvalid_0's binary_logloss: 0.295864\n",
      "[LightGBM] [Warning] No further splits with positive gain, best gain: -inf\n",
      "[55]\tvalid_0's auc: 0.941927\tvalid_0's binary_logloss: 0.294579\n",
      "[LightGBM] [Warning] No further splits with positive gain, best gain: -inf\n",
      "[56]\tvalid_0's auc: 0.941832\tvalid_0's binary_logloss: 0.293248\n",
      "[LightGBM] [Warning] No further splits with positive gain, best gain: -inf\n",
      "[57]\tvalid_0's auc: 0.942187\tvalid_0's binary_logloss: 0.291793\n",
      "[LightGBM] [Warning] No further splits with positive gain, best gain: -inf\n",
      "[58]\tvalid_0's auc: 0.942708\tvalid_0's binary_logloss: 0.290318\n",
      "[LightGBM] [Warning] No further splits with positive gain, best gain: -inf\n",
      "[59]\tvalid_0's auc: 0.943016\tvalid_0's binary_logloss: 0.288702\n",
      "[LightGBM] [Warning] No further splits with positive gain, best gain: -inf\n",
      "[60]\tvalid_0's auc: 0.943513\tvalid_0's binary_logloss: 0.287021\n",
      "[LightGBM] [Warning] No further splits with positive gain, best gain: -inf\n",
      "[61]\tvalid_0's auc: 0.942921\tvalid_0's binary_logloss: 0.286858\n",
      "[LightGBM] [Warning] No further splits with positive gain, best gain: -inf\n",
      "[62]\tvalid_0's auc: 0.943348\tvalid_0's binary_logloss: 0.285333\n",
      "[LightGBM] [Warning] No further splits with positive gain, best gain: -inf\n",
      "[63]\tvalid_0's auc: 0.943703\tvalid_0's binary_logloss: 0.284232\n",
      "[LightGBM] [Warning] No further splits with positive gain, best gain: -inf\n",
      "[64]\tvalid_0's auc: 0.943466\tvalid_0's binary_logloss: 0.283429\n",
      "[LightGBM] [Warning] No further splits with positive gain, best gain: -inf\n",
      "[65]\tvalid_0's auc: 0.94349\tvalid_0's binary_logloss: 0.282445\n",
      "[LightGBM] [Warning] No further splits with positive gain, best gain: -inf\n",
      "[66]\tvalid_0's auc: 0.943513\tvalid_0's binary_logloss: 0.281741\n",
      "[LightGBM] [Warning] No further splits with positive gain, best gain: -inf\n",
      "[67]\tvalid_0's auc: 0.943845\tvalid_0's binary_logloss: 0.28054\n",
      "[LightGBM] [Warning] No further splits with positive gain, best gain: -inf\n",
      "[68]\tvalid_0's auc: 0.9442\tvalid_0's binary_logloss: 0.279749\n",
      "[LightGBM] [Warning] No further splits with positive gain, best gain: -inf\n",
      "[69]\tvalid_0's auc: 0.943963\tvalid_0's binary_logloss: 0.278772\n",
      "[LightGBM] [Warning] No further splits with positive gain, best gain: -inf\n",
      "[70]\tvalid_0's auc: 0.944058\tvalid_0's binary_logloss: 0.277972\n",
      "[LightGBM] [Warning] No further splits with positive gain, best gain: -inf\n",
      "[71]\tvalid_0's auc: 0.944342\tvalid_0's binary_logloss: 0.276872\n",
      "[LightGBM] [Warning] No further splits with positive gain, best gain: -inf\n",
      "[72]\tvalid_0's auc: 0.944389\tvalid_0's binary_logloss: 0.275845\n",
      "[LightGBM] [Warning] No further splits with positive gain, best gain: -inf\n",
      "[73]\tvalid_0's auc: 0.944484\tvalid_0's binary_logloss: 0.275284\n",
      "[LightGBM] [Warning] No further splits with positive gain, best gain: -inf\n",
      "[74]\tvalid_0's auc: 0.944342\tvalid_0's binary_logloss: 0.274402\n",
      "[LightGBM] [Warning] No further splits with positive gain, best gain: -inf\n",
      "[75]\tvalid_0's auc: 0.944626\tvalid_0's binary_logloss: 0.273677\n",
      "[LightGBM] [Warning] No further splits with positive gain, best gain: -inf\n",
      "[76]\tvalid_0's auc: 0.944721\tvalid_0's binary_logloss: 0.272983\n",
      "[LightGBM] [Warning] No further splits with positive gain, best gain: -inf\n",
      "[77]\tvalid_0's auc: 0.944579\tvalid_0's binary_logloss: 0.272212\n",
      "[LightGBM] [Warning] No further splits with positive gain, best gain: -inf\n",
      "[78]\tvalid_0's auc: 0.944602\tvalid_0's binary_logloss: 0.271221\n",
      "[LightGBM] [Warning] No further splits with positive gain, best gain: -inf\n",
      "[79]\tvalid_0's auc: 0.944531\tvalid_0's binary_logloss: 0.270612\n",
      "[LightGBM] [Warning] No further splits with positive gain, best gain: -inf\n",
      "[80]\tvalid_0's auc: 0.944579\tvalid_0's binary_logloss: 0.270069\n",
      "[LightGBM] [Warning] No further splits with positive gain, best gain: -inf\n",
      "[81]\tvalid_0's auc: 0.944626\tvalid_0's binary_logloss: 0.26925\n",
      "[LightGBM] [Warning] No further splits with positive gain, best gain: -inf\n",
      "[82]\tvalid_0's auc: 0.9442\tvalid_0's binary_logloss: 0.2688\n",
      "[LightGBM] [Warning] No further splits with positive gain, best gain: -inf\n",
      "[83]\tvalid_0's auc: 0.9442\tvalid_0's binary_logloss: 0.268437\n",
      "[LightGBM] [Warning] No further splits with positive gain, best gain: -inf\n",
      "[84]\tvalid_0's auc: 0.944223\tvalid_0's binary_logloss: 0.26778\n",
      "[LightGBM] [Warning] No further splits with positive gain, best gain: -inf\n",
      "[85]\tvalid_0's auc: 0.944413\tvalid_0's binary_logloss: 0.267162\n",
      "[LightGBM] [Warning] No further splits with positive gain, best gain: -inf\n",
      "[86]\tvalid_0's auc: 0.944318\tvalid_0's binary_logloss: 0.266818\n",
      "[LightGBM] [Warning] No further splits with positive gain, best gain: -inf\n",
      "[87]\tvalid_0's auc: 0.944484\tvalid_0's binary_logloss: 0.265874\n",
      "[LightGBM] [Warning] No further splits with positive gain, best gain: -inf\n",
      "[88]\tvalid_0's auc: 0.944697\tvalid_0's binary_logloss: 0.265003\n",
      "[LightGBM] [Warning] No further splits with positive gain, best gain: -inf\n",
      "[89]\tvalid_0's auc: 0.94446\tvalid_0's binary_logloss: 0.264586\n",
      "[LightGBM] [Warning] No further splits with positive gain, best gain: -inf\n",
      "[90]\tvalid_0's auc: 0.94491\tvalid_0's binary_logloss: 0.263875\n",
      "[LightGBM] [Warning] No further splits with positive gain, best gain: -inf\n",
      "[91]\tvalid_0's auc: 0.944981\tvalid_0's binary_logloss: 0.263396\n",
      "[LightGBM] [Warning] No further splits with positive gain, best gain: -inf\n",
      "[92]\tvalid_0's auc: 0.945005\tvalid_0's binary_logloss: 0.262845\n",
      "[LightGBM] [Warning] No further splits with positive gain, best gain: -inf\n",
      "[93]\tvalid_0's auc: 0.945028\tvalid_0's binary_logloss: 0.2625\n",
      "[LightGBM] [Warning] No further splits with positive gain, best gain: -inf\n",
      "[94]\tvalid_0's auc: 0.944863\tvalid_0's binary_logloss: 0.262155\n",
      "[LightGBM] [Warning] No further splits with positive gain, best gain: -inf\n",
      "[95]\tvalid_0's auc: 0.944981\tvalid_0's binary_logloss: 0.26143\n",
      "[LightGBM] [Warning] No further splits with positive gain, best gain: -inf\n",
      "[96]\tvalid_0's auc: 0.945076\tvalid_0's binary_logloss: 0.260787\n",
      "[LightGBM] [Warning] No further splits with positive gain, best gain: -inf\n",
      "[97]\tvalid_0's auc: 0.945455\tvalid_0's binary_logloss: 0.260039\n",
      "[LightGBM] [Warning] No further splits with positive gain, best gain: -inf\n",
      "[98]\tvalid_0's auc: 0.945526\tvalid_0's binary_logloss: 0.259277\n",
      "[LightGBM] [Warning] No further splits with positive gain, best gain: -inf\n",
      "[99]\tvalid_0's auc: 0.945407\tvalid_0's binary_logloss: 0.258782\n",
      "[LightGBM] [Warning] No further splits with positive gain, best gain: -inf\n",
      "[100]\tvalid_0's auc: 0.945431\tvalid_0's binary_logloss: 0.258448\n",
      "Did not meet early stopping. Best iteration is:\n",
      "[98]\tvalid_0's auc: 0.945526\tvalid_0's binary_logloss: 0.259277\n"
     ]
    },
    {
     "name": "stdout",
     "output_type": "stream",
     "text": [
      "AUC: 0.9455\n",
      "ACC: 0.8968\n",
      "[[362  22]\n",
      " [ 29  81]]\n"
     ]
    }
   ],
   "source": [
    "compound_names = ['Caco-2','CYP3A4','hERG','HOB']\n",
    "compound_rets = []\n",
    "\n",
    "# training different model in different compounds\n",
    "for name in compound_names:\n",
    "    compound_rets.append(clf_train(fX, adm_train[name].values,name))"
   ]
  },
  {
   "cell_type": "code",
   "execution_count": 301,
   "id": "baac8f41",
   "metadata": {
    "ExecuteTime": {
     "end_time": "2021-10-17T19:24:02.793455Z",
     "start_time": "2021-10-17T19:24:02.262108Z"
    },
    "collapsed": true
   },
   "outputs": [
    {
     "data": {
      "image/png": "[encoded data removed]",
      "text/plain": [
       "<Figure size 1080x864 with 1 Axes>"
      ]
     },
     "metadata": {
      "needs_background": "light"
     },
     "output_type": "display_data"
    },
    {
     "name": "stderr",
     "output_type": "stream",
     "text": [
      "No handles with labels found to put in legend.\n"
     ]
    },
    {
     "name": "stdout",
     "output_type": "stream",
     "text": [
      "svc get highest acc score(0.9149797570850202), applied to compound: Caco-2, auc_score(0.9752653927813164)\n"
     ]
    },
    {
     "data": {
      "image/png": "[encoded data removed]",
      "text/plain": [
       "<Figure size 1080x864 with 1 Axes>"
      ]
     },
     "metadata": {
      "needs_background": "light"
     },
     "output_type": "display_data"
    }
   ],
   "source": [
    "compound_best_items = []\n",
    "adm_test_src[compound_names[0]],best_item = clf_predict(compound_rets[0],Xtest,compound_names[0])\n",
    "compound_best_items.append(best_item)"
   ]
  },
  {
   "cell_type": "code",
   "execution_count": 302,
   "id": "a49b967a",
   "metadata": {
    "ExecuteTime": {
     "end_time": "2021-10-17T19:24:14.238589Z",
     "start_time": "2021-10-17T19:24:13.681577Z"
    },
    "collapsed": true
   },
   "outputs": [
    {
     "data": {
      "image/png": "[encoded data removed]",
      "text/plain": [
       "<Figure size 1080x864 with 1 Axes>"
      ]
     },
     "metadata": {
      "needs_background": "light"
     },
     "output_type": "display_data"
    },
    {
     "name": "stderr",
     "output_type": "stream",
     "text": [
      "No handles with labels found to put in legend.\n"
     ]
    },
    {
     "name": "stdout",
     "output_type": "stream",
     "text": [
      "gbm get highest acc score(0.9534412955465587), applied to compound: CYP3A4, auc_score(0.9825404914364213)\n"
     ]
    },
    {
     "data": {
      "image/png": "[encoded data removed]",
      "text/plain": [
       "<Figure size 1080x864 with 1 Axes>"
      ]
     },
     "metadata": {
      "needs_background": "light"
     },
     "output_type": "display_data"
    }
   ],
   "source": [
    "adm_test_src[compound_names[1]],best_item = clf_predict(compound_rets[1],Xtest,compound_names[1])\n",
    "compound_best_items.append(best_item)"
   ]
  },
  {
   "cell_type": "code",
   "execution_count": 303,
   "id": "03545f07",
   "metadata": {
    "ExecuteTime": {
     "end_time": "2021-10-17T19:24:22.376328Z",
     "start_time": "2021-10-17T19:24:21.837753Z"
    },
    "collapsed": true
   },
   "outputs": [
    {
     "data": {
      "image/png": "[encoded data removed]",
      "text/plain": [
       "<Figure size 1080x864 with 1 Axes>"
      ]
     },
     "metadata": {
      "needs_background": "light"
     },
     "output_type": "display_data"
    },
    {
     "name": "stderr",
     "output_type": "stream",
     "text": [
      "No handles with labels found to put in legend.\n"
     ]
    },
    {
     "name": "stdout",
     "output_type": "stream",
     "text": [
      "ada get highest acc score(0.9089068825910931), applied to compound: hERG, auc_score(0.9059466826219919)\n"
     ]
    },
    {
     "data": {
      "image/png": "[encoded data removed]",
      "text/plain": [
       "<Figure size 1080x864 with 1 Axes>"
      ]
     },
     "metadata": {
      "needs_background": "light"
     },
     "output_type": "display_data"
    }
   ],
   "source": [
    "adm_test_src[compound_names[2]],best_item = clf_predict(compound_rets[2],Xtest,compound_names[2])\n",
    "compound_best_items.append(best_item)"
   ]
  },
  {
   "cell_type": "code",
   "execution_count": 304,
   "id": "6f392fec",
   "metadata": {
    "ExecuteTime": {
     "end_time": "2021-10-17T19:24:31.223445Z",
     "start_time": "2021-10-17T19:24:30.667248Z"
    },
    "collapsed": true
   },
   "outputs": [
    {
     "data": {
      "image/png": "[encoded data removed]",
      "text/plain": [
       "<Figure size 1080x864 with 1 Axes>"
      ]
     },
     "metadata": {
      "needs_background": "light"
     },
     "output_type": "display_data"
    },
    {
     "name": "stderr",
     "output_type": "stream",
     "text": [
      "No handles with labels found to put in legend.\n"
     ]
    },
    {
     "name": "stdout",
     "output_type": "stream",
     "text": [
      "gbm get highest acc score(0.8967611336032388), applied to compound: HOB, auc_score(0.9455255681818182)\n"
     ]
    },
    {
     "data": {
      "image/png": "[encoded data removed]",
      "text/plain": [
       "<Figure size 1080x864 with 1 Axes>"
      ]
     },
     "metadata": {
      "needs_background": "light"
     },
     "output_type": "display_data"
    }
   ],
   "source": [
    "adm_test_src[compound_names[3]],best_item =  clf_predict(compound_rets[3],Xtest,compound_names[3])\n",
    "compound_best_items.append(best_item)"
   ]
  },
  {
   "cell_type": "markdown",
   "id": "6213d872",
   "metadata": {},
   "source": [
    "### 对 MN 化合物做特殊处理"
   ]
  },
  {
   "cell_type": "code",
   "execution_count": 171,
   "id": "caca9503",
   "metadata": {
    "ExecuteTime": {
     "end_time": "2021-10-17T16:23:27.214936Z",
     "start_time": "2021-10-17T16:23:27.209253Z"
    },
    "collapsed": true
   },
   "outputs": [
    {
     "data": {
      "text/plain": [
       "(1    1514\n",
       " 0     460\n",
       " Name: MN, dtype: int64,\n",
       " 1    0.766971\n",
       " 0    0.233029\n",
       " Name: MN, dtype: float64)"
      ]
     },
     "execution_count": 171,
     "metadata": {},
     "output_type": "execute_result"
    }
   ],
   "source": [
    "# 样本不均衡，随机采样 3次然后综合最后的预测结果\n",
    "mn.value_counts(),mn.value_counts() / len(mn)"
   ]
  },
  {
   "cell_type": "code",
   "execution_count": 172,
   "id": "bdf34bcc",
   "metadata": {
    "ExecuteTime": {
     "end_time": "2021-10-17T16:23:28.111684Z",
     "start_time": "2021-10-17T16:23:28.072863Z"
    },
    "collapsed": true
   },
   "outputs": [
    {
     "data": {
      "text/plain": [
       "((2271, 729), (2271,))"
      ]
     },
     "execution_count": 172,
     "metadata": {},
     "output_type": "execute_result"
    }
   ],
   "source": [
    "from imblearn.over_sampling import SMOTE\n",
    "from collections import Counter\n",
    "\n",
    "smo = SMOTE(sampling_strategy=0.5,random_state=100)\n",
    "fX_smo, y_mn_smo = smo.fit_resample(fX,adm_train['MN'])\n",
    "fX_smo.shape, y_mn_smo.shape"
   ]
  },
  {
   "cell_type": "code",
   "execution_count": 173,
   "id": "a3a85319",
   "metadata": {
    "ExecuteTime": {
     "end_time": "2021-10-17T16:23:38.560530Z",
     "start_time": "2021-10-17T16:23:29.327126Z"
    },
    "collapsed": true
   },
   "outputs": [
    {
     "name": "stderr",
     "output_type": "stream",
     "text": [
      "/Users/johnson/opt/anaconda3/envs/prac/lib/python3.8/site-packages/sklearn/linear_model/_logistic.py:763: ConvergenceWarning: lbfgs failed to converge (status=1):\n",
      "STOP: TOTAL NO. of ITERATIONS REACHED LIMIT.\n",
      "\n",
      "Increase the number of iterations (max_iter) or scale the data as shown in:\n",
      "    https://scikit-learn.org/stable/modules/preprocessing.html\n",
      "Please also refer to the documentation for alternative solver options:\n",
      "    https://scikit-learn.org/stable/modules/linear_model.html#logistic-regression\n",
      "  n_iter_i = _check_optimize_result(\n"
     ]
    },
    {
     "name": "stdout",
     "output_type": "stream",
     "text": [
      "[0.9401408450704225, 0.984555599840574]\n",
      "[0.9454225352112676, 0.980256789842282]\n",
      "[0.926056338028169, 0.9833029664635882]\n",
      "[0.829225352112676, 0.8978107384843137]\n",
      "K=2, get highest score=0.9524647887323944\n",
      "[0.9524647887323944, 0.9612466548995047]\n",
      "[0.9665492957746479, 0.9637732733587656]\n",
      "[0.971830985915493, 0.9934023230655356]\n",
      "[0.9665492957746479,0.9623213573990775]\n",
      "[0]\ttrain-auc:0.89282\n",
      "[1]\ttrain-auc:0.95801\n",
      "[2]\ttrain-auc:0.96062\n",
      "[3]\ttrain-auc:0.96252\n",
      "[4]\ttrain-auc:0.97094\n",
      "[5]\ttrain-auc:0.97277\n",
      "[6]\ttrain-auc:0.97131\n",
      "[7]\ttrain-auc:0.97089\n",
      "[8]\ttrain-auc:0.97134\n",
      "[9]\ttrain-auc:0.97361\n",
      "[10]\ttrain-auc:0.97336\n",
      "[11]\ttrain-auc:0.97296\n",
      "[12]\ttrain-auc:0.97379\n",
      "[13]\ttrain-auc:0.97375\n",
      "[14]\ttrain-auc:0.97437\n",
      "[15]\ttrain-auc:0.97786\n",
      "[16]\ttrain-auc:0.97997\n",
      "[17]\ttrain-auc:0.98049\n",
      "[18]\ttrain-auc:0.98019\n",
      "[19]\ttrain-auc:0.98191\n",
      "[20]\ttrain-auc:0.98461\n",
      "[21]\ttrain-auc:0.98528\n",
      "[22]\ttrain-auc:0.98637\n",
      "[23]\ttrain-auc:0.98638\n",
      "[24]\ttrain-auc:0.98815\n",
      "[25]\ttrain-auc:0.98789\n",
      "[26]\ttrain-auc:0.98806\n",
      "[27]\ttrain-auc:0.98908\n",
      "[28]\ttrain-auc:0.98945\n",
      "[29]\ttrain-auc:0.98920\n",
      "[30]\ttrain-auc:0.98924\n",
      "[31]\ttrain-auc:0.98915\n",
      "[32]\ttrain-auc:0.98974\n",
      "[33]\ttrain-auc:0.98953\n",
      "[34]\ttrain-auc:0.98967\n",
      "[35]\ttrain-auc:0.99010\n",
      "[36]\ttrain-auc:0.99044\n",
      "[37]\ttrain-auc:0.99069\n",
      "[38]\ttrain-auc:0.99100\n",
      "[39]\ttrain-auc:0.99127\n",
      "[40]\ttrain-auc:0.99117\n",
      "[41]\ttrain-auc:0.99151\n",
      "[42]\ttrain-auc:0.99168\n",
      "[43]\ttrain-auc:0.99172\n",
      "[44]\ttrain-auc:0.99183\n",
      "[45]\ttrain-auc:0.99186\n",
      "[46]\ttrain-auc:0.99197\n",
      "[47]\ttrain-auc:0.99198\n",
      "[48]\ttrain-auc:0.99200\n",
      "[49]\ttrain-auc:0.99217\n",
      "[50]\ttrain-auc:0.99220\n",
      "[51]\ttrain-auc:0.99233\n",
      "[52]\ttrain-auc:0.99244\n",
      "[53]\ttrain-auc:0.99255\n",
      "[54]\ttrain-auc:0.99268\n",
      "[55]\ttrain-auc:0.99280\n",
      "[56]\ttrain-auc:0.99287\n",
      "[57]\ttrain-auc:0.99298\n",
      "[58]\ttrain-auc:0.99319\n",
      "[59]\ttrain-auc:0.99327\n",
      "[60]\ttrain-auc:0.99334\n",
      "[61]\ttrain-auc:0.99335\n",
      "[62]\ttrain-auc:0.99344\n",
      "[63]\ttrain-auc:0.99350\n",
      "[64]\ttrain-auc:0.99356\n",
      "[65]\ttrain-auc:0.99359\n",
      "[66]\ttrain-auc:0.99363\n",
      "[67]\ttrain-auc:0.99380\n",
      "[68]\ttrain-auc:0.99394\n",
      "[69]\ttrain-auc:0.99401\n",
      "[70]\ttrain-auc:0.99409\n",
      "[71]\ttrain-auc:0.99416\n",
      "[72]\ttrain-auc:0.99420\n",
      "[73]\ttrain-auc:0.99418\n",
      "[74]\ttrain-auc:0.99435\n",
      "[75]\ttrain-auc:0.99439\n",
      "[76]\ttrain-auc:0.99442\n",
      "[77]\ttrain-auc:0.99449\n",
      "[78]\ttrain-auc:0.99456\n",
      "[79]\ttrain-auc:0.99457\n",
      "[80]\ttrain-auc:0.99450\n",
      "[81]\ttrain-auc:0.99459\n",
      "[82]\ttrain-auc:0.99476\n",
      "[83]\ttrain-auc:0.99478\n",
      "[84]\ttrain-auc:0.99479\n",
      "[85]\ttrain-auc:0.99484\n",
      "[86]\ttrain-auc:0.99488\n",
      "[87]\ttrain-auc:0.99488\n",
      "[88]\ttrain-auc:0.99494\n",
      "[89]\ttrain-auc:0.99497\n",
      "[90]\ttrain-auc:0.99499\n",
      "[91]\ttrain-auc:0.99512\n",
      "[92]\ttrain-auc:0.99519\n",
      "[93]\ttrain-auc:0.99526\n",
      "[94]\ttrain-auc:0.99531\n",
      "[95]\ttrain-auc:0.99536\n",
      "[96]\ttrain-auc:0.99548\n",
      "[97]\ttrain-auc:0.99557\n",
      "[98]\ttrain-auc:0.99563\n",
      "[99]\ttrain-auc:0.99567\n",
      "AUC: 0.9894\n",
      "ACC: 0.9560\n",
      "[[165  17]\n",
      " [  8 378]]\n",
      "[LightGBM] [Warning] Auto-choosing col-wise multi-threading, the overhead of testing was 0.023867 seconds.\n",
      "You can set `force_col_wise=true` to remove the overhead.\n",
      "[LightGBM] [Warning] No further splits with positive gain, best gain: -inf\n",
      "[1]\tvalid_0's auc: 0.964321\tvalid_0's binary_logloss: 0.606062\n",
      "Training until validation scores don't improve for 50 rounds\n",
      "[LightGBM] [Warning] No further splits with positive gain, best gain: -inf\n",
      "[2]\tvalid_0's auc: 0.976221\tvalid_0's binary_logloss: 0.587665\n",
      "[LightGBM] [Warning] No further splits with positive gain, best gain: -inf\n",
      "[3]\tvalid_0's auc: 0.98015\tvalid_0's binary_logloss: 0.56915\n",
      "[LightGBM] [Warning] No further splits with positive gain, best gain: -inf\n",
      "[4]\tvalid_0's auc: 0.985189\tvalid_0's binary_logloss: 0.551764\n",
      "[LightGBM] [Warning] No further splits with positive gain, best gain: -inf\n",
      "[5]\tvalid_0's auc: 0.984257\tvalid_0's binary_logloss: 0.5382\n",
      "[LightGBM] [Warning] No further splits with positive gain, best gain: -inf\n",
      "[6]\tvalid_0's auc: 0.984662\tvalid_0's binary_logloss: 0.523089\n",
      "[LightGBM] [Warning] No further splits with positive gain, best gain: -inf\n",
      "[7]\tvalid_0's auc: 0.985495\tvalid_0's binary_logloss: 0.508679\n",
      "[LightGBM] [Warning] No further splits with positive gain, best gain: -inf\n",
      "[8]\tvalid_0's auc: 0.986221\tvalid_0's binary_logloss: 0.495637\n",
      "[LightGBM] [Warning] No further splits with positive gain, best gain: -inf\n",
      "[9]\tvalid_0's auc: 0.986278\tvalid_0's binary_logloss: 0.481767\n",
      "[LightGBM] [Warning] No further splits with positive gain, best gain: -inf\n",
      "[10]\tvalid_0's auc: 0.986221\tvalid_0's binary_logloss: 0.469257\n",
      "[LightGBM] [Warning] No further splits with positive gain, best gain: -inf\n",
      "[11]\tvalid_0's auc: 0.985851\tvalid_0's binary_logloss: 0.457596\n",
      "[LightGBM] [Warning] No further splits with positive gain, best gain: -inf\n",
      "[12]\tvalid_0's auc: 0.986264\tvalid_0's binary_logloss: 0.445463\n",
      "[LightGBM] [Warning] No further splits with positive gain, best gain: -inf\n",
      "[13]\tvalid_0's auc: 0.987659\tvalid_0's binary_logloss: 0.433554\n",
      "[LightGBM] [Warning] No further splits with positive gain, best gain: -inf\n",
      "[14]\tvalid_0's auc: 0.988128\tvalid_0's binary_logloss: 0.422315\n",
      "[LightGBM] [Warning] No further splits with positive gain, best gain: -inf\n",
      "[15]\tvalid_0's auc: 0.988342\tvalid_0's binary_logloss: 0.411818\n",
      "[LightGBM] [Warning] No further splits with positive gain, best gain: -inf\n",
      "[16]\tvalid_0's auc: 0.988299\tvalid_0's binary_logloss: 0.401345\n",
      "[LightGBM] [Warning] No further splits with positive gain, best gain: -inf\n",
      "[17]\tvalid_0's auc: 0.988185\tvalid_0's binary_logloss: 0.39242\n",
      "[LightGBM] [Warning] No further splits with positive gain, best gain: -inf\n",
      "[18]\tvalid_0's auc: 0.988598\tvalid_0's binary_logloss: 0.38307\n",
      "[LightGBM] [Warning] No further splits with positive gain, best gain: -inf\n",
      "[19]\tvalid_0's auc: 0.988897\tvalid_0's binary_logloss: 0.374501\n",
      "[LightGBM] [Warning] No further splits with positive gain, best gain: -inf\n",
      "[20]\tvalid_0's auc: 0.988413\tvalid_0's binary_logloss: 0.367359\n",
      "[LightGBM] [Warning] No further splits with positive gain, best gain: -inf\n",
      "[21]\tvalid_0's auc: 0.988983\tvalid_0's binary_logloss: 0.357811\n",
      "[LightGBM] [Warning] No further splits with positive gain, best gain: -inf\n",
      "[22]\tvalid_0's auc: 0.988926\tvalid_0's binary_logloss: 0.350329\n",
      "[LightGBM] [Warning] No further splits with positive gain, best gain: -inf\n",
      "[23]\tvalid_0's auc: 0.988442\tvalid_0's binary_logloss: 0.34356\n",
      "[LightGBM] [Warning] No further splits with positive gain, best gain: -inf\n",
      "[24]\tvalid_0's auc: 0.988257\tvalid_0's binary_logloss: 0.336569\n",
      "[LightGBM] [Warning] No further splits with positive gain, best gain: -inf\n",
      "[25]\tvalid_0's auc: 0.988997\tvalid_0's binary_logloss: 0.33015\n",
      "[LightGBM] [Warning] No further splits with positive gain, best gain: -inf\n",
      "[26]\tvalid_0's auc: 0.989296\tvalid_0's binary_logloss: 0.323175\n",
      "[LightGBM] [Warning] No further splits with positive gain, best gain: -inf\n",
      "[27]\tvalid_0's auc: 0.98968\tvalid_0's binary_logloss: 0.315939\n",
      "[LightGBM] [Warning] No further splits with positive gain, best gain: -inf\n",
      "[28]\tvalid_0's auc: 0.989794\tvalid_0's binary_logloss: 0.309414\n",
      "[LightGBM] [Warning] No further splits with positive gain, best gain: -inf\n",
      "[29]\tvalid_0's auc: 0.989922\tvalid_0's binary_logloss: 0.302568\n",
      "[LightGBM] [Warning] No further splits with positive gain, best gain: -inf\n",
      "[30]\tvalid_0's auc: 0.989822\tvalid_0's binary_logloss: 0.297343\n",
      "[LightGBM] [Warning] No further splits with positive gain, best gain: -inf\n",
      "[31]\tvalid_0's auc: 0.989708\tvalid_0's binary_logloss: 0.29107\n",
      "[LightGBM] [Warning] No further splits with positive gain, best gain: -inf\n",
      "[32]\tvalid_0's auc: 0.989424\tvalid_0's binary_logloss: 0.286035\n",
      "[LightGBM] [Warning] No further splits with positive gain, best gain: -inf\n",
      "[33]\tvalid_0's auc: 0.989239\tvalid_0's binary_logloss: 0.281342\n",
      "[LightGBM] [Warning] No further splits with positive gain, best gain: -inf\n",
      "[34]\tvalid_0's auc: 0.989367\tvalid_0's binary_logloss: 0.276182\n",
      "[LightGBM] [Warning] No further splits with positive gain, best gain: -inf\n",
      "[35]\tvalid_0's auc: 0.989424\tvalid_0's binary_logloss: 0.270936\n",
      "[LightGBM] [Warning] No further splits with positive gain, best gain: -inf\n",
      "[36]\tvalid_0's auc: 0.989495\tvalid_0's binary_logloss: 0.266581\n",
      "[LightGBM] [Warning] No further splits with positive gain, best gain: -inf\n",
      "[37]\tvalid_0's auc: 0.989666\tvalid_0's binary_logloss: 0.2614\n",
      "[LightGBM] [Warning] No further splits with positive gain, best gain: -inf\n",
      "[38]\tvalid_0's auc: 0.989509\tvalid_0's binary_logloss: 0.257372\n",
      "[LightGBM] [Warning] No further splits with positive gain, best gain: -inf\n",
      "[39]\tvalid_0's auc: 0.989509\tvalid_0's binary_logloss: 0.253165\n",
      "[LightGBM] [Warning] No further splits with positive gain, best gain: -inf\n",
      "[40]\tvalid_0's auc: 0.989438\tvalid_0's binary_logloss: 0.249442\n",
      "[LightGBM] [Warning] No further splits with positive gain, best gain: -inf\n"
     ]
    },
    {
     "name": "stdout",
     "output_type": "stream",
     "text": [
      "[41]\tvalid_0's auc: 0.989666\tvalid_0's binary_logloss: 0.24561\n",
      "[LightGBM] [Warning] No further splits with positive gain, best gain: -inf\n",
      "[42]\tvalid_0's auc: 0.989637\tvalid_0's binary_logloss: 0.241441\n",
      "[LightGBM] [Warning] No further splits with positive gain, best gain: -inf\n",
      "[43]\tvalid_0's auc: 0.989894\tvalid_0's binary_logloss: 0.237133\n",
      "[LightGBM] [Warning] No further splits with positive gain, best gain: -inf\n",
      "[44]\tvalid_0's auc: 0.990093\tvalid_0's binary_logloss: 0.23294\n",
      "[LightGBM] [Warning] No further splits with positive gain, best gain: -inf\n",
      "[45]\tvalid_0's auc: 0.989993\tvalid_0's binary_logloss: 0.229284\n",
      "[LightGBM] [Warning] No further splits with positive gain, best gain: -inf\n",
      "[46]\tvalid_0's auc: 0.990064\tvalid_0's binary_logloss: 0.225796\n",
      "[LightGBM] [Warning] No further splits with positive gain, best gain: -inf\n",
      "[47]\tvalid_0's auc: 0.990235\tvalid_0's binary_logloss: 0.222159\n",
      "[LightGBM] [Warning] No further splits with positive gain, best gain: -inf\n",
      "[48]\tvalid_0's auc: 0.990406\tvalid_0's binary_logloss: 0.219002\n",
      "[LightGBM] [Warning] No further splits with positive gain, best gain: -inf\n",
      "[49]\tvalid_0's auc: 0.990548\tvalid_0's binary_logloss: 0.215559\n",
      "[LightGBM] [Warning] No further splits with positive gain, best gain: -inf\n",
      "[50]\tvalid_0's auc: 0.990662\tvalid_0's binary_logloss: 0.212896\n",
      "[LightGBM] [Warning] No further splits with positive gain, best gain: -inf\n",
      "[51]\tvalid_0's auc: 0.990933\tvalid_0's binary_logloss: 0.209018\n",
      "[LightGBM] [Warning] No further splits with positive gain, best gain: -inf\n",
      "[52]\tvalid_0's auc: 0.991047\tvalid_0's binary_logloss: 0.205673\n",
      "[LightGBM] [Warning] No further splits with positive gain, best gain: -inf\n",
      "[53]\tvalid_0's auc: 0.991189\tvalid_0's binary_logloss: 0.202377\n",
      "[LightGBM] [Warning] No further splits with positive gain, best gain: -inf\n",
      "[54]\tvalid_0's auc: 0.991075\tvalid_0's binary_logloss: 0.199899\n",
      "[LightGBM] [Warning] No further splits with positive gain, best gain: -inf\n",
      "[55]\tvalid_0's auc: 0.990961\tvalid_0's binary_logloss: 0.197601\n",
      "[LightGBM] [Warning] No further splits with positive gain, best gain: -inf\n",
      "[56]\tvalid_0's auc: 0.991018\tvalid_0's binary_logloss: 0.194782\n",
      "[LightGBM] [Warning] No further splits with positive gain, best gain: -inf\n",
      "[57]\tvalid_0's auc: 0.991331\tvalid_0's binary_logloss: 0.192268\n",
      "[LightGBM] [Warning] No further splits with positive gain, best gain: -inf\n",
      "[58]\tvalid_0's auc: 0.991417\tvalid_0's binary_logloss: 0.19002\n",
      "[LightGBM] [Warning] No further splits with positive gain, best gain: -inf\n",
      "[59]\tvalid_0's auc: 0.991602\tvalid_0's binary_logloss: 0.186968\n",
      "[LightGBM] [Warning] No further splits with positive gain, best gain: -inf\n",
      "[60]\tvalid_0's auc: 0.991801\tvalid_0's binary_logloss: 0.184282\n",
      "[LightGBM] [Warning] No further splits with positive gain, best gain: -inf\n",
      "[61]\tvalid_0's auc: 0.991772\tvalid_0's binary_logloss: 0.182109\n",
      "[LightGBM] [Warning] No further splits with positive gain, best gain: -inf\n",
      "[62]\tvalid_0's auc: 0.991844\tvalid_0's binary_logloss: 0.180062\n",
      "[LightGBM] [Warning] No further splits with positive gain, best gain: -inf\n",
      "[63]\tvalid_0's auc: 0.991815\tvalid_0's binary_logloss: 0.177708\n",
      "[LightGBM] [Warning] No further splits with positive gain, best gain: -inf\n",
      "[64]\tvalid_0's auc: 0.992029\tvalid_0's binary_logloss: 0.175767\n",
      "[LightGBM] [Warning] No further splits with positive gain, best gain: -inf\n",
      "[65]\tvalid_0's auc: 0.992029\tvalid_0's binary_logloss: 0.173639\n",
      "[LightGBM] [Warning] No further splits with positive gain, best gain: -inf\n",
      "[66]\tvalid_0's auc: 0.992128\tvalid_0's binary_logloss: 0.171254\n",
      "[LightGBM] [Warning] No further splits with positive gain, best gain: -inf\n",
      "[67]\tvalid_0's auc: 0.992057\tvalid_0's binary_logloss: 0.16965\n",
      "[LightGBM] [Warning] No further splits with positive gain, best gain: -inf\n",
      "[68]\tvalid_0's auc: 0.991986\tvalid_0's binary_logloss: 0.167784\n",
      "[LightGBM] [Warning] No further splits with positive gain, best gain: -inf\n",
      "[69]\tvalid_0's auc: 0.992057\tvalid_0's binary_logloss: 0.165849\n",
      "[LightGBM] [Warning] No further splits with positive gain, best gain: -inf\n",
      "[70]\tvalid_0's auc: 0.992185\tvalid_0's binary_logloss: 0.163977\n",
      "[LightGBM] [Warning] No further splits with positive gain, best gain: -inf\n",
      "[71]\tvalid_0's auc: 0.992185\tvalid_0's binary_logloss: 0.162449\n",
      "[LightGBM] [Warning] No further splits with positive gain, best gain: -inf\n",
      "[72]\tvalid_0's auc: 0.992086\tvalid_0's binary_logloss: 0.160653\n",
      "[LightGBM] [Warning] No further splits with positive gain, best gain: -inf\n",
      "[73]\tvalid_0's auc: 0.992228\tvalid_0's binary_logloss: 0.158751\n",
      "[LightGBM] [Warning] No further splits with positive gain, best gain: -inf\n",
      "[74]\tvalid_0's auc: 0.992441\tvalid_0's binary_logloss: 0.156488\n",
      "[LightGBM] [Warning] No further splits with positive gain, best gain: -inf\n",
      "[75]\tvalid_0's auc: 0.992498\tvalid_0's binary_logloss: 0.154898\n",
      "[LightGBM] [Warning] No further splits with positive gain, best gain: -inf\n",
      "[76]\tvalid_0's auc: 0.992627\tvalid_0's binary_logloss: 0.15346\n",
      "[LightGBM] [Warning] No further splits with positive gain, best gain: -inf\n",
      "[77]\tvalid_0's auc: 0.992555\tvalid_0's binary_logloss: 0.152059\n",
      "[LightGBM] [Warning] No further splits with positive gain, best gain: -inf\n",
      "[78]\tvalid_0's auc: 0.992456\tvalid_0's binary_logloss: 0.150673\n",
      "[LightGBM] [Warning] No further splits with positive gain, best gain: -inf\n",
      "[79]\tvalid_0's auc: 0.992456\tvalid_0's binary_logloss: 0.149595\n",
      "[LightGBM] [Warning] No further splits with positive gain, best gain: -inf\n",
      "[80]\tvalid_0's auc: 0.992612\tvalid_0's binary_logloss: 0.14801\n",
      "[LightGBM] [Warning] No further splits with positive gain, best gain: -inf\n",
      "[81]\tvalid_0's auc: 0.992441\tvalid_0's binary_logloss: 0.146618\n",
      "[LightGBM] [Warning] No further splits with positive gain, best gain: -inf\n",
      "[82]\tvalid_0's auc: 0.992513\tvalid_0's binary_logloss: 0.145191\n",
      "[LightGBM] [Warning] No further splits with positive gain, best gain: -inf\n",
      "[83]\tvalid_0's auc: 0.992612\tvalid_0's binary_logloss: 0.143727\n",
      "[LightGBM] [Warning] No further splits with positive gain, best gain: -inf\n",
      "[84]\tvalid_0's auc: 0.992513\tvalid_0's binary_logloss: 0.14288\n",
      "[LightGBM] [Warning] No further splits with positive gain, best gain: -inf\n",
      "[85]\tvalid_0's auc: 0.992627\tvalid_0's binary_logloss: 0.14123\n",
      "[LightGBM] [Warning] No further splits with positive gain, best gain: -inf\n",
      "[86]\tvalid_0's auc: 0.992698\tvalid_0's binary_logloss: 0.1399\n",
      "[LightGBM] [Warning] No further splits with positive gain, best gain: -inf\n",
      "[87]\tvalid_0's auc: 0.992698\tvalid_0's binary_logloss: 0.139082\n",
      "[LightGBM] [Warning] No further splits with positive gain, best gain: -inf\n",
      "[88]\tvalid_0's auc: 0.992627\tvalid_0's binary_logloss: 0.137987\n",
      "[LightGBM] [Warning] No further splits with positive gain, best gain: -inf\n",
      "[89]\tvalid_0's auc: 0.992797\tvalid_0's binary_logloss: 0.13638\n",
      "[LightGBM] [Warning] No further splits with positive gain, best gain: -inf\n",
      "[90]\tvalid_0's auc: 0.992911\tvalid_0's binary_logloss: 0.135108\n",
      "[LightGBM] [Warning] No further splits with positive gain, best gain: -inf\n",
      "[91]\tvalid_0's auc: 0.992997\tvalid_0's binary_logloss: 0.133716\n",
      "[LightGBM] [Warning] No further splits with positive gain, best gain: -inf\n",
      "[92]\tvalid_0's auc: 0.993011\tvalid_0's binary_logloss: 0.132809\n",
      "[LightGBM] [Warning] No further splits with positive gain, best gain: -inf\n",
      "[93]\tvalid_0's auc: 0.993096\tvalid_0's binary_logloss: 0.131603\n",
      "[LightGBM] [Warning] No further splits with positive gain, best gain: -inf\n",
      "[94]\tvalid_0's auc: 0.993153\tvalid_0's binary_logloss: 0.130601\n",
      "[LightGBM] [Warning] No further splits with positive gain, best gain: -inf\n",
      "[95]\tvalid_0's auc: 0.992982\tvalid_0's binary_logloss: 0.129886\n",
      "[LightGBM] [Warning] No further splits with positive gain, best gain: -inf\n",
      "[96]\tvalid_0's auc: 0.992954\tvalid_0's binary_logloss: 0.129148\n",
      "[LightGBM] [Warning] No further splits with positive gain, best gain: -inf\n",
      "[97]\tvalid_0's auc: 0.992897\tvalid_0's binary_logloss: 0.128225\n",
      "[LightGBM] [Warning] No further splits with positive gain, best gain: -inf\n",
      "[98]\tvalid_0's auc: 0.992954\tvalid_0's binary_logloss: 0.127449\n",
      "[LightGBM] [Warning] No further splits with positive gain, best gain: -inf\n",
      "[99]\tvalid_0's auc: 0.993153\tvalid_0's binary_logloss: 0.126174\n",
      "[LightGBM] [Warning] No further splits with positive gain, best gain: -inf\n",
      "[100]\tvalid_0's auc: 0.993182\tvalid_0's binary_logloss: 0.125519\n",
      "Did not meet early stopping. Best iteration is:\n",
      "[100]\tvalid_0's auc: 0.993182\tvalid_0's binary_logloss: 0.125519\n",
      "AUC: 0.9932\n",
      "ACC: 0.9665\n",
      "[[169  13]\n",
      " [  6 380]]\n"
     ]
    }
   ],
   "source": [
    "mn_ret = clf_train(fX_smo,y_mn_smo,'MN')\n",
    "compound_names.append('MN')\n",
    "compound_rets.append(mn_ret)"
   ]
  },
  {
   "cell_type": "code",
   "execution_count": 305,
   "id": "f7bc68fa",
   "metadata": {
    "ExecuteTime": {
     "end_time": "2021-10-17T19:24:46.918368Z",
     "start_time": "2021-10-17T19:24:46.404141Z"
    },
    "collapsed": true
   },
   "outputs": [
    {
     "data": {
      "image/png": "[encoded data removed]",
      "text/plain": [
       "<Figure size 1080x864 with 1 Axes>"
      ]
     },
     "metadata": {
      "needs_background": "light"
     },
     "output_type": "display_data"
    },
    {
     "name": "stderr",
     "output_type": "stream",
     "text": [
      "No handles with labels found to put in legend.\n"
     ]
    },
    {
     "name": "stdout",
     "output_type": "stream",
     "text": [
      "rfc get highest acc score(0.971830985915493), applied to compound: MN, auc_score(0.9934023230655356)\n"
     ]
    },
    {
     "data": {
      "image/png": "[encoded data removed]",
      "text/plain": [
       "<Figure size 1080x864 with 1 Axes>"
      ]
     },
     "metadata": {
      "needs_background": "light"
     },
     "output_type": "display_data"
    }
   ],
   "source": [
    "adm_test_src['MN'],best_item = clf_predict(mn_ret,Xtest,'MN')\n",
    "compound_best_items.append(best_item)"
   ]
  },
  {
   "cell_type": "code",
   "execution_count": 175,
   "id": "3ef5a85c",
   "metadata": {
    "ExecuteTime": {
     "end_time": "2021-10-17T16:23:48.996694Z",
     "start_time": "2021-10-17T16:23:48.988613Z"
    },
    "collapsed": true
   },
   "outputs": [
    {
     "data": {
      "text/plain": [
       "[{'Caco-2': ('svc', SVC(kernel='linear'))},\n",
       " {'CYP3A4': ('gbm', <lightgbm.basic.Booster at 0x7ff1bbfbac10>)},\n",
       " {'hERG': ('ada',\n",
       "   AdaBoostClassifier(base_estimator=DecisionTreeClassifier(max_depth=1),\n",
       "                      n_estimators=100))},\n",
       " {'HOB': ('gbm', <lightgbm.basic.Booster at 0x7ff1b98dc850>)},\n",
       " {'MN': ('rfc', RandomForestClassifier())}]"
      ]
     },
     "execution_count": 175,
     "metadata": {},
     "output_type": "execute_result"
    }
   ],
   "source": [
    "compound_best_items"
   ]
  },
  {
   "cell_type": "markdown",
   "id": "edbfe5f8",
   "metadata": {},
   "source": [
    "### 写入文件的 test sheet"
   ]
  },
  {
   "cell_type": "code",
   "execution_count": null,
   "id": "ac5fa8ee",
   "metadata": {
    "ExecuteTime": {
     "end_time": "2021-10-17T16:24:00.006083Z",
     "start_time": "2021-10-17T16:23:59.992745Z"
    },
    "collapsed": true
   },
   "outputs": [],
   "source": [
    "adm_test_src"
   ]
  },
  {
   "cell_type": "code",
   "execution_count": 260,
   "id": "c171f358",
   "metadata": {
    "ExecuteTime": {
     "end_time": "2021-10-17T18:09:41.720248Z",
     "start_time": "2021-10-17T18:09:41.683082Z"
    },
    "collapsed": true
   },
   "outputs": [
    {
     "data": {
      "text/html": [
       "<div>\n",
       "<style scoped>\n",
       "    .dataframe tbody tr th:only-of-type {\n",
       "        vertical-align: middle;\n",
       "    }\n",
       "\n",
       "    .dataframe tbody tr th {\n",
       "        vertical-align: top;\n",
       "    }\n",
       "\n",
       "    .dataframe thead th {\n",
       "        text-align: right;\n",
       "    }\n",
       "</style>\n",
       "<table border=\"1\" class=\"dataframe\">\n",
       "  <thead>\n",
       "    <tr style=\"text-align: right;\">\n",
       "      <th></th>\n",
       "      <th>SMILES</th>\n",
       "      <th>Caco-2</th>\n",
       "      <th>CYP3A4</th>\n",
       "      <th>hERG</th>\n",
       "      <th>HOB</th>\n",
       "      <th>MN</th>\n",
       "    </tr>\n",
       "  </thead>\n",
       "  <tbody>\n",
       "    <tr>\n",
       "      <th>0</th>\n",
       "      <td>COc1cc(OC)cc(\\C=C\\c2ccc(OS(=O)(=O)[C@@H]3C[C@@...</td>\n",
       "      <td>0</td>\n",
       "      <td>1</td>\n",
       "      <td>1</td>\n",
       "      <td>0</td>\n",
       "      <td>1</td>\n",
       "    </tr>\n",
       "    <tr>\n",
       "      <th>1</th>\n",
       "      <td>OC(=O)\\C=C\\c1ccc(cc1)C2=C(CCOc3ccccc23)c4ccc(O...</td>\n",
       "      <td>0</td>\n",
       "      <td>1</td>\n",
       "      <td>0</td>\n",
       "      <td>0</td>\n",
       "      <td>1</td>\n",
       "    </tr>\n",
       "    <tr>\n",
       "      <th>2</th>\n",
       "      <td>COc1ccc2C(=C(CCOc2c1)c3ccc(O)cc3)c4ccc(\\C=C\\C(...</td>\n",
       "      <td>0</td>\n",
       "      <td>1</td>\n",
       "      <td>1</td>\n",
       "      <td>0</td>\n",
       "      <td>1</td>\n",
       "    </tr>\n",
       "    <tr>\n",
       "      <th>3</th>\n",
       "      <td>OC(=O)\\C=C\\c1ccc(cc1)C2=C(CCOc3cc(F)ccc23)c4cc...</td>\n",
       "      <td>0</td>\n",
       "      <td>1</td>\n",
       "      <td>1</td>\n",
       "      <td>0</td>\n",
       "      <td>1</td>\n",
       "    </tr>\n",
       "    <tr>\n",
       "      <th>4</th>\n",
       "      <td>OC(=O)\\C=C\\c1ccc(cc1)C2=C(CCSc3cc(F)ccc23)c4cc...</td>\n",
       "      <td>0</td>\n",
       "      <td>1</td>\n",
       "      <td>1</td>\n",
       "      <td>0</td>\n",
       "      <td>1</td>\n",
       "    </tr>\n",
       "  </tbody>\n",
       "</table>\n",
       "</div>"
      ],
      "text/plain": [
       "                                              SMILES  Caco-2  CYP3A4  hERG  \\\n",
       "0  COc1cc(OC)cc(\\C=C\\c2ccc(OS(=O)(=O)[C@@H]3C[C@@...       0       1     1   \n",
       "1  OC(=O)\\C=C\\c1ccc(cc1)C2=C(CCOc3ccccc23)c4ccc(O...       0       1     0   \n",
       "2  COc1ccc2C(=C(CCOc2c1)c3ccc(O)cc3)c4ccc(\\C=C\\C(...       0       1     1   \n",
       "3  OC(=O)\\C=C\\c1ccc(cc1)C2=C(CCOc3cc(F)ccc23)c4cc...       0       1     1   \n",
       "4  OC(=O)\\C=C\\c1ccc(cc1)C2=C(CCSc3cc(F)ccc23)c4cc...       0       1     1   \n",
       "\n",
       "   HOB  MN  \n",
       "0    0   1  \n",
       "1    0   1  \n",
       "2    0   1  \n",
       "3    0   1  \n",
       "4    0   1  "
      ]
     },
     "execution_count": 260,
     "metadata": {},
     "output_type": "execute_result"
    }
   ],
   "source": [
    "adm_test_src.to_excel('ADMET_bp.xlsx',sheet_name='test',index=False)\n",
    "adm_read_src = pd.read_excel('ADMET_bp.xlsx')\n",
    "adm_read_src.head()"
   ]
  },
  {
   "cell_type": "markdown",
   "id": "859746d5",
   "metadata": {},
   "source": [
    "## 寻找分子描述符的范围"
   ]
  },
  {
   "cell_type": "code",
   "execution_count": 69,
   "id": "6208361d",
   "metadata": {
    "ExecuteTime": {
     "end_time": "2021-10-17T15:08:47.443822Z",
     "start_time": "2021-10-17T15:08:32.524713Z"
    },
    "collapsed": true
   },
   "outputs": [
    {
     "data": {
      "text/html": [
       "<div>\n",
       "<style scoped>\n",
       "    .dataframe tbody tr th:only-of-type {\n",
       "        vertical-align: middle;\n",
       "    }\n",
       "\n",
       "    .dataframe tbody tr th {\n",
       "        vertical-align: top;\n",
       "    }\n",
       "\n",
       "    .dataframe thead th {\n",
       "        text-align: right;\n",
       "    }\n",
       "</style>\n",
       "<table border=\"1\" class=\"dataframe\">\n",
       "  <thead>\n",
       "    <tr style=\"text-align: right;\">\n",
       "      <th></th>\n",
       "      <th>Caco-2</th>\n",
       "      <th>CYP3A4</th>\n",
       "      <th>hERG</th>\n",
       "      <th>HOB</th>\n",
       "      <th>MN</th>\n",
       "    </tr>\n",
       "  </thead>\n",
       "  <tbody>\n",
       "    <tr>\n",
       "      <th>0</th>\n",
       "      <td>0</td>\n",
       "      <td>1</td>\n",
       "      <td>1</td>\n",
       "      <td>0</td>\n",
       "      <td>0</td>\n",
       "    </tr>\n",
       "    <tr>\n",
       "      <th>1</th>\n",
       "      <td>0</td>\n",
       "      <td>1</td>\n",
       "      <td>1</td>\n",
       "      <td>0</td>\n",
       "      <td>0</td>\n",
       "    </tr>\n",
       "    <tr>\n",
       "      <th>2</th>\n",
       "      <td>0</td>\n",
       "      <td>1</td>\n",
       "      <td>1</td>\n",
       "      <td>0</td>\n",
       "      <td>1</td>\n",
       "    </tr>\n",
       "    <tr>\n",
       "      <th>3</th>\n",
       "      <td>0</td>\n",
       "      <td>1</td>\n",
       "      <td>1</td>\n",
       "      <td>0</td>\n",
       "      <td>0</td>\n",
       "    </tr>\n",
       "    <tr>\n",
       "      <th>4</th>\n",
       "      <td>0</td>\n",
       "      <td>1</td>\n",
       "      <td>1</td>\n",
       "      <td>0</td>\n",
       "      <td>0</td>\n",
       "    </tr>\n",
       "  </tbody>\n",
       "</table>\n",
       "</div>"
      ],
      "text/plain": [
       "   Caco-2  CYP3A4  hERG  HOB  MN\n",
       "0       0       1     1    0   0\n",
       "1       0       1     1    0   0\n",
       "2       0       1     1    0   1\n",
       "3       0       1     1    0   0\n",
       "4       0       1     1    0   0"
      ]
     },
     "execution_count": 69,
     "metadata": {},
     "output_type": "execute_result"
    }
   ],
   "source": [
    "d_adm = pd.read_excel('ADMET.xlsx')\n",
    "d_mol = pd.read_excel('Molecular_Descriptor.xlsx',sheet_name='training')\n",
    "d_pic = pd.read_excel('ERα_activity.xlsx', sheet_name='training')\n",
    "d_mol.drop(columns=['SMILES'],inplace=True)\n",
    "d_adm.drop(columns=['SMILES'],inplace=True)\n",
    "cols = d_adm.columns.to_list()\n",
    "d_adm.head()"
   ]
  },
  {
   "cell_type": "code",
   "execution_count": 134,
   "id": "555d6260",
   "metadata": {
    "ExecuteTime": {
     "end_time": "2021-10-17T16:04:39.045352Z",
     "start_time": "2021-10-17T16:04:39.041654Z"
    },
    "collapsed": true
   },
   "outputs": [],
   "source": [
    "# do iteration on previously selected features\n",
    "fea_columns = rf_columns"
   ]
  },
  {
   "cell_type": "code",
   "execution_count": null,
   "id": "0aee0413",
   "metadata": {
    "ExecuteTime": {
     "end_time": "2021-10-17T16:04:55.071435Z",
     "start_time": "2021-10-17T16:04:55.014105Z"
    },
    "collapsed": true
   },
   "outputs": [],
   "source": [
    "d_adm['pIC50'] = d_pic['pIC50']\n",
    "d_adm['dis'] = d_adm.apply(lambda x: x[cols[1]] + x[cols[2]] +x[cols[4]] - x[cols[0]] - x[cols[3]],axis=1)\n",
    "d_fil = d_adm[d_adm['dis'] <= 0]\n",
    "suit_index = d_fil.sort_values(by='pIC50',ascending=False).index[0]\n",
    "# suit_sample = d_mol[rf_columns].iloc[suit_index]\n",
    "suit_sample = d_mol.iloc[suit_index]\n",
    "suit_src_admet = d_adm.iloc[suit_index]\n",
    "suit_sample.shape"
   ]
  },
  {
   "cell_type": "code",
   "execution_count": 178,
   "id": "bf072439",
   "metadata": {
    "ExecuteTime": {
     "end_time": "2021-10-17T16:24:11.268478Z",
     "start_time": "2021-10-17T16:24:11.260495Z"
    },
    "collapsed": true
   },
   "outputs": [
    {
     "data": {
      "text/plain": [
       "[{'Caco-2': ('svc', SVC(kernel='linear'))},\n",
       " {'CYP3A4': ('gbm', <lightgbm.basic.Booster at 0x7ff1bbfbac10>)},\n",
       " {'hERG': ('ada',\n",
       "   AdaBoostClassifier(base_estimator=DecisionTreeClassifier(max_depth=1),\n",
       "                      n_estimators=100))},\n",
       " {'HOB': ('gbm', <lightgbm.basic.Booster at 0x7ff1b98dc850>)},\n",
       " {'MN': ('rfc', RandomForestClassifier())}]"
      ]
     },
     "execution_count": 178,
     "metadata": {},
     "output_type": "execute_result"
    }
   ],
   "source": [
    "compound_best_items"
   ]
  },
  {
   "cell_type": "code",
   "execution_count": 256,
   "id": "4d946d78",
   "metadata": {
    "ExecuteTime": {
     "end_time": "2021-10-17T17:43:34.747648Z",
     "start_time": "2021-10-17T17:43:14.118219Z"
    },
    "collapsed": true
   },
   "outputs": [
    {
     "name": "stdout",
     "output_type": "stream",
     "text": [
      "\"BCUTc-1l\" found border: (-0.3975387594756116, -0.21683932335033354)\n",
      "\"SHsOH\" found border: (0.11410088392948198, 2.7384212143075684)\n",
      "\"SsOH\" found border: (1.3322676295501878e-15, 63.99262188130527)\n",
      "\"minHsOH\" found border: (-0.11410088392948231, 0.7416557455416356)\n",
      "\"maxHsOH\" found border: (9.71445146547012e-17, 0.7987061875063768)\n",
      "\"maxsOH\" found border: (6.661338147750939e-16, 12.233883594955426)\n",
      "\"minsOH\" found border: (6.661338147750939e-16, 11.2928156261127)\n",
      "\"SssO\" found border: (0.0, 30.02512934925577)\n",
      "\"MLFER_A\" found border: (-0.7623, 7.731900000000011)\n",
      "\"MDEC-23\" found border: (2.1169006015595064, 52.92251503898773)\n",
      "\"WTPT-5\" found border: (0.0, 125.73768843879981)\n",
      "\"maxssO\" found border: (0.0, 6.659866009829617)\n",
      "\"MLogP\" found border: (1.6099999999999945, 5.473999999999984)\n",
      "\"MDEC-22\" found border: (1.3322676295501878e-15, 34.15356361193756)\n",
      "\"nC\" found border: (7.0, 95.0)\n",
      "\"nBase\" found border: (0.0, 26.0)\n",
      "\"minssO\" found border: (0.0, 6.726366431788502)\n",
      "\"LipoaffinityIndex\" found border: (-4.398448537853795, 22.725317445577947)\n",
      "\"minsssN\" found border: (0.0, 2.734772117779864)\n",
      "\"BCUTc-1h\" found border: (0.0738880396051771, 0.5246050811967577)\n"
     ]
    },
    {
     "data": {
      "text/plain": [
       "[{'column': 'BCUTc-1l',\n",
       "  'type': '连续',\n",
       "  'left': -0.3975387594756116,\n",
       "  'right': -0.21683932335033354},\n",
       " {'column': 'SHsOH',\n",
       "  'type': '连续',\n",
       "  'left': 0.11410088392948198,\n",
       "  'right': 2.7384212143075684},\n",
       " {'column': 'SsOH',\n",
       "  'type': '连续',\n",
       "  'left': 1.3322676295501878e-15,\n",
       "  'right': 63.99262188130527},\n",
       " {'column': 'minHsOH',\n",
       "  'type': '连续',\n",
       "  'left': -0.11410088392948231,\n",
       "  'right': 0.7416557455416356},\n",
       " {'column': 'maxHsOH',\n",
       "  'type': '连续',\n",
       "  'left': 9.71445146547012e-17,\n",
       "  'right': 0.7987061875063768},\n",
       " {'column': 'maxsOH',\n",
       "  'type': '连续',\n",
       "  'left': 6.661338147750939e-16,\n",
       "  'right': 12.233883594955426},\n",
       " {'column': 'minsOH',\n",
       "  'type': '连续',\n",
       "  'left': 6.661338147750939e-16,\n",
       "  'right': 11.2928156261127},\n",
       " {'column': 'SssO', 'type': '连续', 'left': 0.0, 'right': 30.02512934925577},\n",
       " {'column': 'MLFER_A',\n",
       "  'type': '连续',\n",
       "  'left': -0.7623,\n",
       "  'right': 7.731900000000011},\n",
       " {'column': 'MDEC-23',\n",
       "  'type': '连续',\n",
       "  'left': 2.1169006015595064,\n",
       "  'right': 52.92251503898773},\n",
       " {'column': 'WTPT-5', 'type': '连续', 'left': 0.0, 'right': 125.73768843879981},\n",
       " {'column': 'maxssO', 'type': '连续', 'left': 0.0, 'right': 6.659866009829617},\n",
       " {'column': 'MLogP',\n",
       "  'type': '连续',\n",
       "  'left': 1.6099999999999945,\n",
       "  'right': 5.473999999999984},\n",
       " {'column': 'MDEC-22',\n",
       "  'type': '连续',\n",
       "  'left': 1.3322676295501878e-15,\n",
       "  'right': 34.15356361193756},\n",
       " {'column': 'nC', 'type': '离散', 'left': 7.0, 'right': 95.0},\n",
       " {'column': 'nBase', 'type': '离散', 'left': 0.0, 'right': 26.0},\n",
       " {'column': 'minssO', 'type': '连续', 'left': 0.0, 'right': 6.726366431788502},\n",
       " {'column': 'LipoaffinityIndex',\n",
       "  'type': '连续',\n",
       "  'left': -4.398448537853795,\n",
       "  'right': 22.725317445577947},\n",
       " {'column': 'minsssN', 'type': '连续', 'left': 0.0, 'right': 2.734772117779864},\n",
       " {'column': 'BCUTc-1h',\n",
       "  'type': '连续',\n",
       "  'left': 0.0738880396051771,\n",
       "  'right': 0.5246050811967577}]"
      ]
     },
     "execution_count": 256,
     "metadata": {},
     "output_type": "execute_result"
    }
   ],
   "source": [
    "def sat_con(ap):\n",
    "#     print('admet_pred: ',ap)\n",
    "    return ap[1] + ap[2] + ap[4] - ap[0] - ap[3] <= 0\n",
    "def get_pred_admet(sample):\n",
    "    admet_pred = []\n",
    "    for item in compound_best_items:\n",
    "        item = list(item.values())[0]\n",
    "        m_name = item[0]\n",
    "        m = item[1]\n",
    "        if m_name == 'xgb':\n",
    "            Dtest = xgb.DMatrix(sample)\n",
    "            pred = (m.predict(Dtest) >= 0.5) * 1\n",
    "        elif m_name == 'gbm':\n",
    "            pred = (m.predict(sample) >= 0.5) * 1\n",
    "        else:\n",
    "            pred = m.predict(sample)\n",
    "        admet_pred.append(pred[0])\n",
    "    return admet_pred\n",
    "\n",
    "def find_border(col,x,ix,itval,ty):\n",
    "    ori_val = x[0,ix]\n",
    "    max_val = d_mol[col].max()\n",
    "    min_val = d_mol[col].min()\n",
    "\n",
    "    left = ori_val\n",
    "    right = ori_val\n",
    "    # when original value == 0\n",
    "    if itval == 0.0:\n",
    "        itval = abs(max_val / 100.0)\n",
    "        if itval == 0: return {'column':col,'type':'连续', 'value':0.0}\n",
    "\n",
    "    # start looping to find border\n",
    "    while x[0,ix] >= min_val and sat_con(get_pred_admet(x)) :\n",
    "        x[0,ix] -= itval\n",
    "#         print('left val = ',x[0,ix])\n",
    "    left = x[0,ix] + itval\n",
    "    x[0,ix] = ori_val\n",
    "    while x[0,ix] <= max_val and sat_con(get_pred_admet(x)) :\n",
    "        x[0,ix] += itval\n",
    "#         print('right val = ',x[0,ix])\n",
    "    right = x[0,ix] - itval\n",
    "    print('\"{}\" found border: ({}, {})'.format(col,left,right))\n",
    "    return {'column':col,'type':ty,'left':left,'right':right}\n",
    "\n",
    "# x2 + x3 + x5 - x1 - x4 <= 0\n",
    "ssam = suit_sample.values.reshape(1,-1)\n",
    "areas_col = []\n",
    "for col in fea_columns:\n",
    "    x = ssam.copy()\n",
    "    ix = d_mol.columns.to_list().index(col)\n",
    "    # categorical or continuous\n",
    "    if d_mol[col].dtype == int:\n",
    "        itval = 1\n",
    "        areas_col.append(find_border(col,x,ix,itval,'离散'))\n",
    "            \n",
    "    elif d_mol[col].dtype == float:\n",
    "        itval = abs(x[0,ix] / 10.0)\n",
    "        areas_col.append(find_border(col,x,ix,itval,'连续'))\n",
    "    \n",
    "areas_col"
   ]
  }
 ],
 "metadata": {
  "kernelspec": {
   "display_name": "prac",
   "language": "python",
   "name": "prac"
  },
  "language_info": {
   "codemirror_mode": {
    "name": "ipython",
    "version": 3
   },
   "file_extension": ".py",
   "mimetype": "text/x-python",
   "name": "python",
   "nbconvert_exporter": "python",
   "pygments_lexer": "ipython3",
   "version": "3.8.11"
  },
  "toc": {
   "base_numbering": 1,
   "nav_menu": {},
   "number_sections": true,
   "sideBar": true,
   "skip_h1_title": false,
   "title_cell": "Table of Contents",
   "title_sidebar": "Contents",
   "toc_cell": false,
   "toc_position": {},
   "toc_section_display": true,
   "toc_window_display": false
  },
  "varInspector": {
   "cols": {
    "lenName": 16,
    "lenType": 16,
    "lenVar": 40
   },
   "kernels_config": {
    "python": {
     "delete_cmd_postfix": "",
     "delete_cmd_prefix": "del ",
     "library": "var_list.py",
     "varRefreshCmd": "print(var_dic_list())"
    },
    "r": {
     "delete_cmd_postfix": ") ",
     "delete_cmd_prefix": "rm(",
     "library": "var_list.r",
     "varRefreshCmd": "cat(var_dic_list()) "
    }
   },
   "types_to_exclude": [
    "module",
    "function",
    "builtin_function_or_method",
    "instance",
    "_Feature"
   ],
   "window_display": false
  }
 },
 "nbformat": 4,
 "nbformat_minor": 5
}
