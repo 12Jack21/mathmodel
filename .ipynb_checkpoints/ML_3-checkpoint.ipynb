{
 "cells": [
  {
   "cell_type": "code",
   "execution_count": 53,
   "id": "6d4ecab6",
   "metadata": {
    "ExecuteTime": {
     "end_time": "2021-10-18T16:24:21.678455Z",
     "start_time": "2021-10-18T16:24:21.675144Z"
    }
   },
   "outputs": [],
   "source": [
    "from sklearn.datasets import fetch_openml\n",
    "from sklearn.linear_model import LogisticRegressionCV,LogisticRegression\n",
    "from sklearn.preprocessing import StandardScaler, RobustScaler\n",
    "from sklearn.model_selection import train_test_split,GridSearchCV\n",
    "from sklearn.utils import check_random_state\n",
    "import joblib\n",
    "import numpy as np"
   ]
  },
  {
   "cell_type": "code",
   "execution_count": 34,
   "id": "7b9b5420",
   "metadata": {
    "ExecuteTime": {
     "end_time": "2021-10-18T13:24:03.275040Z",
     "start_time": "2021-10-18T12:59:34.786164Z"
    }
   },
   "outputs": [
    {
     "data": {
      "text/plain": [
       "((70000, 784), (70000,))"
      ]
     },
     "execution_count": 34,
     "metadata": {},
     "output_type": "execute_result"
    }
   ],
   "source": [
    "X,y = fetch_openml('mnist_784',as_frame=False,return_X_y=True)\n",
    "X.shape, y.shape"
   ]
  },
  {
   "cell_type": "code",
   "execution_count": 41,
   "id": "a286b491",
   "metadata": {
    "ExecuteTime": {
     "end_time": "2021-10-18T13:58:51.930784Z",
     "start_time": "2021-10-18T13:58:50.458174Z"
    },
    "scrolled": true
   },
   "outputs": [
    {
     "data": {
      "text/plain": [
       "((60000, 784), (10000, 784), (60000,), (10000,))"
      ]
     },
     "execution_count": 41,
     "metadata": {},
     "output_type": "execute_result"
    }
   ],
   "source": [
    "rs = check_random_state(seed=100)\n",
    "X_train,X_test,y_train,y_test = train_test_split(X,y,shuffle=True,random_state=rs,test_size=10000)\n",
    "X_train.shape,X_test.shape,y_train.shape,y_test.shape"
   ]
  },
  {
   "cell_type": "code",
   "execution_count": 50,
   "id": "70f05928",
   "metadata": {
    "ExecuteTime": {
     "end_time": "2021-10-18T15:17:29.910782Z",
     "start_time": "2021-10-18T14:43:01.628519Z"
    },
    "scrolled": true
   },
   "outputs": [
    {
     "name": "stderr",
     "output_type": "stream",
     "text": [
      "/Users/johnson/opt/anaconda3/envs/prac/lib/python3.8/site-packages/sklearn/linear_model/_sag.py:328: ConvergenceWarning: The max_iter was reached which means the coef_ did not converge\n",
      "  warnings.warn(\"The max_iter was reached which means \"\n"
     ]
    },
    {
     "data": {
      "text/plain": [
       "LogisticRegression(max_iter=1000,\n",
       "                   random_state=RandomState(MT19937) at 0x7FAB1038E340,\n",
       "                   solver='saga')"
      ]
     },
     "execution_count": 50,
     "metadata": {},
     "output_type": "execute_result"
    }
   ],
   "source": [
    "# standardize features\n",
    "sc = StandardScaler()\n",
    "X_train = sc.fit_transform(X_train)\n",
    "X_test= sc.transform(X_test)\n",
    "\n",
    "lrr = LogisticRegression(penalty='l2',random_state=rs,solver='saga',max_iter=1000,verbose=0)\n",
    "lrr.fit(X_train, y_train)"
   ]
  },
  {
   "cell_type": "code",
   "execution_count": 56,
   "id": "0fe81dd7",
   "metadata": {
    "ExecuteTime": {
     "end_time": "2021-10-18T16:25:47.203757Z",
     "start_time": "2021-10-18T16:25:47.172179Z"
    }
   },
   "outputs": [
    {
     "name": "stdout",
     "output_type": "stream",
     "text": [
      "model saved to lr_mnist.model\n",
      "Test score with L1 penalty: 0.9265\n"
     ]
    }
   ],
   "source": [
    "score = lrr.score(X_test, y_test)\n",
    "joblib.dump(lrr, 'lr_mnist.model')\n",
    "print('model saved to lr_mnist.model')\n",
    "print(\"Test score with L1 penalty: %.4f\" % score)"
   ]
  },
  {
   "cell_type": "code",
   "execution_count": null,
   "id": "20e64885",
   "metadata": {
    "ExecuteTime": {
     "end_time": "2021-10-18T14:33:57.666394Z",
     "start_time": "2021-10-18T14:23:02.737147Z"
    }
   },
   "outputs": [],
   "source": [
    "# try LogisticRegression with GridSearch\n",
    "lr = LogisticRegression(penalty='l2',random_state=rs)\n",
    "param_grid = {\n",
    "    'solver':['newton-cg','libfgs','liblinear','sag','saga'],\n",
    "}\n",
    "lr_gs = GridSearchCV(lr,param_grid=param_grid,cv=3,n_jobs=-1,scoring='neg_log_loss')\n",
    "# lr_gs.fit(X_train, y_train)\n",
    "# lrcv = LogisticRegressionCV()"
   ]
  }
 ],
 "metadata": {
  "kernelspec": {
   "display_name": "prac",
   "language": "python",
   "name": "prac"
  },
  "language_info": {
   "codemirror_mode": {
    "name": "ipython",
    "version": 3
   },
   "file_extension": ".py",
   "mimetype": "text/x-python",
   "name": "python",
   "nbconvert_exporter": "python",
   "pygments_lexer": "ipython3",
   "version": "3.8.11"
  },
  "toc": {
   "base_numbering": 1,
   "nav_menu": {},
   "number_sections": true,
   "sideBar": true,
   "skip_h1_title": false,
   "title_cell": "Table of Contents",
   "title_sidebar": "Contents",
   "toc_cell": false,
   "toc_position": {},
   "toc_section_display": true,
   "toc_window_display": false
  },
  "varInspector": {
   "cols": {
    "lenName": 16,
    "lenType": 16,
    "lenVar": 40
   },
   "kernels_config": {
    "python": {
     "delete_cmd_postfix": "",
     "delete_cmd_prefix": "del ",
     "library": "var_list.py",
     "varRefreshCmd": "print(var_dic_list())"
    },
    "r": {
     "delete_cmd_postfix": ") ",
     "delete_cmd_prefix": "rm(",
     "library": "var_list.r",
     "varRefreshCmd": "cat(var_dic_list()) "
    }
   },
   "types_to_exclude": [
    "module",
    "function",
    "builtin_function_or_method",
    "instance",
    "_Feature"
   ],
   "window_display": false
  }
 },
 "nbformat": 4,
 "nbformat_minor": 5
}
