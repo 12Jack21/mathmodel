{
 "cells": [
  {
   "cell_type": "code",
   "execution_count": 61,
   "id": "8ebeb57c",
   "metadata": {
    "ExecuteTime": {
     "end_time": "2021-10-14T13:50:56.818856Z",
     "start_time": "2021-10-14T13:50:56.813458Z"
    }
   },
   "outputs": [],
   "source": [
    "import pandas as pd\n",
    "import numpy as np\n",
    "import sklearn\n",
    "import matplotlib.pyplot as plt\n",
    "%matplotlib inline\n",
    "import seaborn as sns"
   ]
  },
  {
   "cell_type": "markdown",
   "id": "4c2b5503",
   "metadata": {},
   "source": [
    "## 导入数据与预处理"
   ]
  },
  {
   "cell_type": "markdown",
   "id": "f094c1a3",
   "metadata": {},
   "source": [
    "### ERα_activity "
   ]
  },
  {
   "cell_type": "code",
   "execution_count": 33,
   "id": "29f662a6",
   "metadata": {
    "ExecuteTime": {
     "end_time": "2021-10-14T13:09:15.501096Z",
     "start_time": "2021-10-14T13:09:15.342953Z"
    }
   },
   "outputs": [
    {
     "data": {
      "text/html": [
       "<div>\n",
       "<style scoped>\n",
       "    .dataframe tbody tr th:only-of-type {\n",
       "        vertical-align: middle;\n",
       "    }\n",
       "\n",
       "    .dataframe tbody tr th {\n",
       "        vertical-align: top;\n",
       "    }\n",
       "\n",
       "    .dataframe thead th {\n",
       "        text-align: right;\n",
       "    }\n",
       "</style>\n",
       "<table border=\"1\" class=\"dataframe\">\n",
       "  <thead>\n",
       "    <tr style=\"text-align: right;\">\n",
       "      <th></th>\n",
       "      <th>SMILES</th>\n",
       "      <th>IC50_nM</th>\n",
       "      <th>pIC50</th>\n",
       "    </tr>\n",
       "  </thead>\n",
       "  <tbody>\n",
       "    <tr>\n",
       "      <th>0</th>\n",
       "      <td>Oc1ccc2O[C@H]([C@H](Sc2c1)C3CCCC3)c4ccc(OCCN5C...</td>\n",
       "      <td>2.5</td>\n",
       "      <td>8.602060</td>\n",
       "    </tr>\n",
       "    <tr>\n",
       "      <th>1</th>\n",
       "      <td>Oc1ccc2O[C@H]([C@H](Sc2c1)C3CCCCCC3)c4ccc(OCCN...</td>\n",
       "      <td>7.5</td>\n",
       "      <td>8.124939</td>\n",
       "    </tr>\n",
       "    <tr>\n",
       "      <th>2</th>\n",
       "      <td>Oc1ccc(cc1)[C@H]2Sc3cc(O)ccc3O[C@H]2c4ccc(OCCN...</td>\n",
       "      <td>3.1</td>\n",
       "      <td>8.508638</td>\n",
       "    </tr>\n",
       "    <tr>\n",
       "      <th>3</th>\n",
       "      <td>Oc1ccc2O[C@H]([C@@H](CC3CCCCC3)Sc2c1)c4ccc(OCC...</td>\n",
       "      <td>3.9</td>\n",
       "      <td>8.408935</td>\n",
       "    </tr>\n",
       "    <tr>\n",
       "      <th>4</th>\n",
       "      <td>Oc1ccc2O[C@H]([C@@H](Cc3ccccc3)Sc2c1)c4ccc(OCC...</td>\n",
       "      <td>7.4</td>\n",
       "      <td>8.130768</td>\n",
       "    </tr>\n",
       "  </tbody>\n",
       "</table>\n",
       "</div>"
      ],
      "text/plain": [
       "                                              SMILES  IC50_nM     pIC50\n",
       "0  Oc1ccc2O[C@H]([C@H](Sc2c1)C3CCCC3)c4ccc(OCCN5C...      2.5  8.602060\n",
       "1  Oc1ccc2O[C@H]([C@H](Sc2c1)C3CCCCCC3)c4ccc(OCCN...      7.5  8.124939\n",
       "2  Oc1ccc(cc1)[C@H]2Sc3cc(O)ccc3O[C@H]2c4ccc(OCCN...      3.1  8.508638\n",
       "3  Oc1ccc2O[C@H]([C@@H](CC3CCCCC3)Sc2c1)c4ccc(OCC...      3.9  8.408935\n",
       "4  Oc1ccc2O[C@H]([C@@H](Cc3ccccc3)Sc2c1)c4ccc(OCC...      7.4  8.130768"
      ]
     },
     "execution_count": 33,
     "metadata": {},
     "output_type": "execute_result"
    }
   ],
   "source": [
    "era = pd.read_excel('ERα_activity.xlsx')\n",
    "era.head()"
   ]
  },
  {
   "cell_type": "code",
   "execution_count": 62,
   "id": "f33ddbcb",
   "metadata": {
    "ExecuteTime": {
     "end_time": "2021-10-14T14:13:43.890056Z",
     "start_time": "2021-10-14T14:13:43.881446Z"
    }
   },
   "outputs": [
    {
     "data": {
      "text/plain": [
       "0    8.602060\n",
       "1    8.124939\n",
       "2    8.508638\n",
       "3    8.408935\n",
       "4    8.130768\n",
       "Name: pIC50, dtype: float64"
      ]
     },
     "execution_count": 62,
     "metadata": {},
     "output_type": "execute_result"
    }
   ],
   "source": [
    "erat = era.drop(columns=['SMILES'])\n",
    "erapi = era['pIC50']\n",
    "erapi.head()"
   ]
  },
  {
   "cell_type": "code",
   "execution_count": 14,
   "id": "b65a4924",
   "metadata": {
    "ExecuteTime": {
     "end_time": "2021-10-14T08:24:48.788028Z",
     "start_time": "2021-10-14T08:24:48.777963Z"
    }
   },
   "outputs": [
    {
     "name": "stdout",
     "output_type": "stream",
     "text": [
      "<class 'pandas.core.frame.DataFrame'>\n",
      "RangeIndex: 1974 entries, 0 to 1973\n",
      "Data columns (total 3 columns):\n",
      " #   Column   Non-Null Count  Dtype  \n",
      "---  ------   --------------  -----  \n",
      " 0   SMILES   1974 non-null   object \n",
      " 1   IC50_nM  1974 non-null   float64\n",
      " 2   pIC50    1974 non-null   float64\n",
      "dtypes: float64(2), object(1)\n",
      "memory usage: 46.4+ KB\n"
     ]
    }
   ],
   "source": [
    "era.info()"
   ]
  },
  {
   "cell_type": "code",
   "execution_count": 15,
   "id": "c14bd9bd",
   "metadata": {
    "ExecuteTime": {
     "end_time": "2021-10-14T08:24:49.069183Z",
     "start_time": "2021-10-14T08:24:49.051076Z"
    }
   },
   "outputs": [
    {
     "data": {
      "text/html": [
       "<div>\n",
       "<style scoped>\n",
       "    .dataframe tbody tr th:only-of-type {\n",
       "        vertical-align: middle;\n",
       "    }\n",
       "\n",
       "    .dataframe tbody tr th {\n",
       "        vertical-align: top;\n",
       "    }\n",
       "\n",
       "    .dataframe thead th {\n",
       "        text-align: right;\n",
       "    }\n",
       "</style>\n",
       "<table border=\"1\" class=\"dataframe\">\n",
       "  <thead>\n",
       "    <tr style=\"text-align: right;\">\n",
       "      <th></th>\n",
       "      <th>IC50_nM</th>\n",
       "      <th>pIC50</th>\n",
       "    </tr>\n",
       "  </thead>\n",
       "  <tbody>\n",
       "    <tr>\n",
       "      <th>count</th>\n",
       "      <td>1.974000e+03</td>\n",
       "      <td>1974.000000</td>\n",
       "    </tr>\n",
       "    <tr>\n",
       "      <th>mean</th>\n",
       "      <td>9.910490e+03</td>\n",
       "      <td>6.586112</td>\n",
       "    </tr>\n",
       "    <tr>\n",
       "      <th>std</th>\n",
       "      <td>1.055204e+05</td>\n",
       "      <td>1.423023</td>\n",
       "    </tr>\n",
       "    <tr>\n",
       "      <th>min</th>\n",
       "      <td>4.600000e-02</td>\n",
       "      <td>2.455932</td>\n",
       "    </tr>\n",
       "    <tr>\n",
       "      <th>25%</th>\n",
       "      <td>2.702500e+01</td>\n",
       "      <td>5.382154</td>\n",
       "    </tr>\n",
       "    <tr>\n",
       "      <th>50%</th>\n",
       "      <td>2.625000e+02</td>\n",
       "      <td>6.580871</td>\n",
       "    </tr>\n",
       "    <tr>\n",
       "      <th>75%</th>\n",
       "      <td>4.148125e+03</td>\n",
       "      <td>7.568235</td>\n",
       "    </tr>\n",
       "    <tr>\n",
       "      <th>max</th>\n",
       "      <td>3.500000e+06</td>\n",
       "      <td>10.337242</td>\n",
       "    </tr>\n",
       "  </tbody>\n",
       "</table>\n",
       "</div>"
      ],
      "text/plain": [
       "            IC50_nM        pIC50\n",
       "count  1.974000e+03  1974.000000\n",
       "mean   9.910490e+03     6.586112\n",
       "std    1.055204e+05     1.423023\n",
       "min    4.600000e-02     2.455932\n",
       "25%    2.702500e+01     5.382154\n",
       "50%    2.625000e+02     6.580871\n",
       "75%    4.148125e+03     7.568235\n",
       "max    3.500000e+06    10.337242"
      ]
     },
     "execution_count": 15,
     "metadata": {},
     "output_type": "execute_result"
    }
   ],
   "source": [
    "era.describe()"
   ]
  },
  {
   "cell_type": "code",
   "execution_count": 35,
   "id": "6367c0cd",
   "metadata": {
    "ExecuteTime": {
     "end_time": "2021-10-14T13:10:38.000780Z",
     "start_time": "2021-10-14T13:10:37.993758Z"
    }
   },
   "outputs": [
    {
     "name": "stdout",
     "output_type": "stream",
     "text": [
      "ERα_activity.xlsx 数据集中异常值个数为0\n"
     ]
    }
   ],
   "source": [
    "print('ERα_activity.xlsx 数据集中异常值个数为{}'.format(era.isnull().any().sum()))"
   ]
  },
  {
   "cell_type": "markdown",
   "id": "b55e411c",
   "metadata": {},
   "source": [
    "### Molecular_Descriptor"
   ]
  },
  {
   "cell_type": "code",
   "execution_count": null,
   "id": "3eae36d7",
   "metadata": {},
   "outputs": [],
   "source": [
    "mol = pd.read_excel('Molecular_Descriptor.xlsx')"
   ]
  },
  {
   "cell_type": "code",
   "execution_count": 39,
   "id": "6e3abceb",
   "metadata": {
    "ExecuteTime": {
     "end_time": "2021-10-14T13:14:02.507827Z",
     "start_time": "2021-10-14T13:14:02.488099Z"
    }
   },
   "outputs": [
    {
     "data": {
      "text/html": [
       "<div>\n",
       "<style scoped>\n",
       "    .dataframe tbody tr th:only-of-type {\n",
       "        vertical-align: middle;\n",
       "    }\n",
       "\n",
       "    .dataframe tbody tr th {\n",
       "        vertical-align: top;\n",
       "    }\n",
       "\n",
       "    .dataframe thead th {\n",
       "        text-align: right;\n",
       "    }\n",
       "</style>\n",
       "<table border=\"1\" class=\"dataframe\">\n",
       "  <thead>\n",
       "    <tr style=\"text-align: right;\">\n",
       "      <th></th>\n",
       "      <th>SMILES</th>\n",
       "      <th>nAcid</th>\n",
       "      <th>ALogP</th>\n",
       "      <th>ALogp2</th>\n",
       "      <th>AMR</th>\n",
       "      <th>apol</th>\n",
       "      <th>naAromAtom</th>\n",
       "      <th>nAromBond</th>\n",
       "      <th>nAtom</th>\n",
       "      <th>nHeavyAtom</th>\n",
       "      <th>...</th>\n",
       "      <th>MW</th>\n",
       "      <th>WTPT-1</th>\n",
       "      <th>WTPT-2</th>\n",
       "      <th>WTPT-3</th>\n",
       "      <th>WTPT-4</th>\n",
       "      <th>WTPT-5</th>\n",
       "      <th>WPATH</th>\n",
       "      <th>WPOL</th>\n",
       "      <th>XLogP</th>\n",
       "      <th>Zagreb</th>\n",
       "    </tr>\n",
       "  </thead>\n",
       "  <tbody>\n",
       "    <tr>\n",
       "      <th>0</th>\n",
       "      <td>Oc1ccc2O[C@H]([C@H](Sc2c1)C3CCCC3)c4ccc(OCCN5C...</td>\n",
       "      <td>0</td>\n",
       "      <td>-0.2860</td>\n",
       "      <td>0.081796</td>\n",
       "      <td>126.1188</td>\n",
       "      <td>74.170169</td>\n",
       "      <td>12</td>\n",
       "      <td>12</td>\n",
       "      <td>64</td>\n",
       "      <td>31</td>\n",
       "      <td>...</td>\n",
       "      <td>439.218115</td>\n",
       "      <td>64.771680</td>\n",
       "      <td>2.089409</td>\n",
       "      <td>15.471445</td>\n",
       "      <td>8.858910</td>\n",
       "      <td>3.406628</td>\n",
       "      <td>3011</td>\n",
       "      <td>47</td>\n",
       "      <td>4.666</td>\n",
       "      <td>166</td>\n",
       "    </tr>\n",
       "    <tr>\n",
       "      <th>1</th>\n",
       "      <td>Oc1ccc2O[C@H]([C@H](Sc2c1)C3CCCCCC3)c4ccc(OCCN...</td>\n",
       "      <td>0</td>\n",
       "      <td>-0.8620</td>\n",
       "      <td>0.743044</td>\n",
       "      <td>131.9420</td>\n",
       "      <td>80.357341</td>\n",
       "      <td>12</td>\n",
       "      <td>12</td>\n",
       "      <td>70</td>\n",
       "      <td>33</td>\n",
       "      <td>...</td>\n",
       "      <td>467.249415</td>\n",
       "      <td>68.960024</td>\n",
       "      <td>2.089698</td>\n",
       "      <td>15.486947</td>\n",
       "      <td>8.863774</td>\n",
       "      <td>3.406648</td>\n",
       "      <td>3516</td>\n",
       "      <td>54</td>\n",
       "      <td>5.804</td>\n",
       "      <td>174</td>\n",
       "    </tr>\n",
       "    <tr>\n",
       "      <th>2</th>\n",
       "      <td>Oc1ccc(cc1)[C@H]2Sc3cc(O)ccc3O[C@H]2c4ccc(OCCN...</td>\n",
       "      <td>0</td>\n",
       "      <td>0.7296</td>\n",
       "      <td>0.532316</td>\n",
       "      <td>139.9304</td>\n",
       "      <td>74.064997</td>\n",
       "      <td>18</td>\n",
       "      <td>18</td>\n",
       "      <td>62</td>\n",
       "      <td>33</td>\n",
       "      <td>...</td>\n",
       "      <td>463.181729</td>\n",
       "      <td>68.748923</td>\n",
       "      <td>2.083301</td>\n",
       "      <td>18.011114</td>\n",
       "      <td>11.390412</td>\n",
       "      <td>3.406644</td>\n",
       "      <td>3542</td>\n",
       "      <td>52</td>\n",
       "      <td>2.964</td>\n",
       "      <td>176</td>\n",
       "    </tr>\n",
       "    <tr>\n",
       "      <th>3</th>\n",
       "      <td>Oc1ccc2O[C@H]([C@@H](CC3CCCCC3)Sc2c1)c4ccc(OCC...</td>\n",
       "      <td>0</td>\n",
       "      <td>-0.3184</td>\n",
       "      <td>0.101379</td>\n",
       "      <td>133.4822</td>\n",
       "      <td>80.357341</td>\n",
       "      <td>12</td>\n",
       "      <td>12</td>\n",
       "      <td>70</td>\n",
       "      <td>33</td>\n",
       "      <td>...</td>\n",
       "      <td>467.249415</td>\n",
       "      <td>68.883696</td>\n",
       "      <td>2.087385</td>\n",
       "      <td>15.468365</td>\n",
       "      <td>8.857943</td>\n",
       "      <td>3.406624</td>\n",
       "      <td>3594</td>\n",
       "      <td>50</td>\n",
       "      <td>6.015</td>\n",
       "      <td>174</td>\n",
       "    </tr>\n",
       "    <tr>\n",
       "      <th>4</th>\n",
       "      <td>Oc1ccc2O[C@H]([C@@H](Cc3ccccc3)Sc2c1)c4ccc(OCC...</td>\n",
       "      <td>0</td>\n",
       "      <td>1.3551</td>\n",
       "      <td>1.836296</td>\n",
       "      <td>143.1903</td>\n",
       "      <td>76.356583</td>\n",
       "      <td>18</td>\n",
       "      <td>18</td>\n",
       "      <td>64</td>\n",
       "      <td>33</td>\n",
       "      <td>...</td>\n",
       "      <td>461.202465</td>\n",
       "      <td>68.883696</td>\n",
       "      <td>2.087385</td>\n",
       "      <td>15.468365</td>\n",
       "      <td>8.857943</td>\n",
       "      <td>3.406624</td>\n",
       "      <td>3594</td>\n",
       "      <td>50</td>\n",
       "      <td>4.462</td>\n",
       "      <td>174</td>\n",
       "    </tr>\n",
       "  </tbody>\n",
       "</table>\n",
       "<p>5 rows × 730 columns</p>\n",
       "</div>"
      ],
      "text/plain": [
       "                                              SMILES  nAcid   ALogP    ALogp2  \\\n",
       "0  Oc1ccc2O[C@H]([C@H](Sc2c1)C3CCCC3)c4ccc(OCCN5C...      0 -0.2860  0.081796   \n",
       "1  Oc1ccc2O[C@H]([C@H](Sc2c1)C3CCCCCC3)c4ccc(OCCN...      0 -0.8620  0.743044   \n",
       "2  Oc1ccc(cc1)[C@H]2Sc3cc(O)ccc3O[C@H]2c4ccc(OCCN...      0  0.7296  0.532316   \n",
       "3  Oc1ccc2O[C@H]([C@@H](CC3CCCCC3)Sc2c1)c4ccc(OCC...      0 -0.3184  0.101379   \n",
       "4  Oc1ccc2O[C@H]([C@@H](Cc3ccccc3)Sc2c1)c4ccc(OCC...      0  1.3551  1.836296   \n",
       "\n",
       "        AMR       apol  naAromAtom  nAromBond  nAtom  nHeavyAtom  ...  \\\n",
       "0  126.1188  74.170169          12         12     64          31  ...   \n",
       "1  131.9420  80.357341          12         12     70          33  ...   \n",
       "2  139.9304  74.064997          18         18     62          33  ...   \n",
       "3  133.4822  80.357341          12         12     70          33  ...   \n",
       "4  143.1903  76.356583          18         18     64          33  ...   \n",
       "\n",
       "           MW     WTPT-1    WTPT-2     WTPT-3     WTPT-4    WTPT-5  WPATH  \\\n",
       "0  439.218115  64.771680  2.089409  15.471445   8.858910  3.406628   3011   \n",
       "1  467.249415  68.960024  2.089698  15.486947   8.863774  3.406648   3516   \n",
       "2  463.181729  68.748923  2.083301  18.011114  11.390412  3.406644   3542   \n",
       "3  467.249415  68.883696  2.087385  15.468365   8.857943  3.406624   3594   \n",
       "4  461.202465  68.883696  2.087385  15.468365   8.857943  3.406624   3594   \n",
       "\n",
       "   WPOL  XLogP  Zagreb  \n",
       "0    47  4.666     166  \n",
       "1    54  5.804     174  \n",
       "2    52  2.964     176  \n",
       "3    50  6.015     174  \n",
       "4    50  4.462     174  \n",
       "\n",
       "[5 rows x 730 columns]"
      ]
     },
     "execution_count": 39,
     "metadata": {},
     "output_type": "execute_result"
    }
   ],
   "source": [
    "mol.head()"
   ]
  },
  {
   "cell_type": "code",
   "execution_count": 50,
   "id": "0a66919a",
   "metadata": {
    "ExecuteTime": {
     "end_time": "2021-10-14T13:35:43.752270Z",
     "start_time": "2021-10-14T13:35:43.745629Z"
    }
   },
   "outputs": [],
   "source": [
    "molt = mol.drop(columns=['SMILES'])"
   ]
  },
  {
   "cell_type": "code",
   "execution_count": 51,
   "id": "8d3a0aa4",
   "metadata": {
    "ExecuteTime": {
     "end_time": "2021-10-14T13:35:46.789021Z",
     "start_time": "2021-10-14T13:35:46.776124Z"
    },
    "scrolled": true
   },
   "outputs": [
    {
     "name": "stdout",
     "output_type": "stream",
     "text": [
      "<class 'pandas.core.frame.DataFrame'>\n",
      "RangeIndex: 1974 entries, 0 to 1973\n",
      "Columns: 729 entries, nAcid to Zagreb\n",
      "dtypes: float64(359), int64(370)\n",
      "memory usage: 11.0 MB\n"
     ]
    }
   ],
   "source": [
    "molt.info()"
   ]
  },
  {
   "cell_type": "code",
   "execution_count": 52,
   "id": "cc807df9",
   "metadata": {
    "ExecuteTime": {
     "end_time": "2021-10-14T13:35:52.574083Z",
     "start_time": "2021-10-14T13:35:51.672883Z"
    },
    "scrolled": true
   },
   "outputs": [
    {
     "data": {
      "text/html": [
       "<div>\n",
       "<style scoped>\n",
       "    .dataframe tbody tr th:only-of-type {\n",
       "        vertical-align: middle;\n",
       "    }\n",
       "\n",
       "    .dataframe tbody tr th {\n",
       "        vertical-align: top;\n",
       "    }\n",
       "\n",
       "    .dataframe thead th {\n",
       "        text-align: right;\n",
       "    }\n",
       "</style>\n",
       "<table border=\"1\" class=\"dataframe\">\n",
       "  <thead>\n",
       "    <tr style=\"text-align: right;\">\n",
       "      <th></th>\n",
       "      <th>nAcid</th>\n",
       "      <th>ALogP</th>\n",
       "      <th>ALogp2</th>\n",
       "      <th>AMR</th>\n",
       "      <th>apol</th>\n",
       "      <th>naAromAtom</th>\n",
       "      <th>nAromBond</th>\n",
       "      <th>nAtom</th>\n",
       "      <th>nHeavyAtom</th>\n",
       "      <th>nH</th>\n",
       "      <th>...</th>\n",
       "      <th>MW</th>\n",
       "      <th>WTPT-1</th>\n",
       "      <th>WTPT-2</th>\n",
       "      <th>WTPT-3</th>\n",
       "      <th>WTPT-4</th>\n",
       "      <th>WTPT-5</th>\n",
       "      <th>WPATH</th>\n",
       "      <th>WPOL</th>\n",
       "      <th>XLogP</th>\n",
       "      <th>Zagreb</th>\n",
       "    </tr>\n",
       "  </thead>\n",
       "  <tbody>\n",
       "    <tr>\n",
       "      <th>count</th>\n",
       "      <td>1974.000000</td>\n",
       "      <td>1974.000000</td>\n",
       "      <td>1.974000e+03</td>\n",
       "      <td>1974.000000</td>\n",
       "      <td>1974.000000</td>\n",
       "      <td>1974.000000</td>\n",
       "      <td>1974.000000</td>\n",
       "      <td>1974.000000</td>\n",
       "      <td>1974.000000</td>\n",
       "      <td>1974.000000</td>\n",
       "      <td>...</td>\n",
       "      <td>1974.000000</td>\n",
       "      <td>1974.000000</td>\n",
       "      <td>1974.000000</td>\n",
       "      <td>1974.000000</td>\n",
       "      <td>1974.000000</td>\n",
       "      <td>1974.000000</td>\n",
       "      <td>1974.000000</td>\n",
       "      <td>1974.000000</td>\n",
       "      <td>1974.000000</td>\n",
       "      <td>1974.000000</td>\n",
       "    </tr>\n",
       "    <tr>\n",
       "      <th>mean</th>\n",
       "      <td>0.108409</td>\n",
       "      <td>1.110164</td>\n",
       "      <td>3.288495e+00</td>\n",
       "      <td>116.557106</td>\n",
       "      <td>60.626471</td>\n",
       "      <td>15.446809</td>\n",
       "      <td>16.189463</td>\n",
       "      <td>50.761905</td>\n",
       "      <td>28.112462</td>\n",
       "      <td>22.649443</td>\n",
       "      <td>...</td>\n",
       "      <td>391.056697</td>\n",
       "      <td>57.770682</td>\n",
       "      <td>2.053493</td>\n",
       "      <td>15.656437</td>\n",
       "      <td>8.735564</td>\n",
       "      <td>4.821318</td>\n",
       "      <td>2709.616515</td>\n",
       "      <td>46.281662</td>\n",
       "      <td>2.965087</td>\n",
       "      <td>150.716312</td>\n",
       "    </tr>\n",
       "    <tr>\n",
       "      <th>std</th>\n",
       "      <td>0.347900</td>\n",
       "      <td>1.434250</td>\n",
       "      <td>1.283292e+01</td>\n",
       "      <td>31.567455</td>\n",
       "      <td>19.449748</td>\n",
       "      <td>5.155854</td>\n",
       "      <td>5.635271</td>\n",
       "      <td>18.089182</td>\n",
       "      <td>8.073881</td>\n",
       "      <td>10.775491</td>\n",
       "      <td>...</td>\n",
       "      <td>111.596103</td>\n",
       "      <td>16.523972</td>\n",
       "      <td>0.031515</td>\n",
       "      <td>7.781943</td>\n",
       "      <td>4.376340</td>\n",
       "      <td>5.595087</td>\n",
       "      <td>7194.525584</td>\n",
       "      <td>13.287751</td>\n",
       "      <td>1.615263</td>\n",
       "      <td>41.445444</td>\n",
       "    </tr>\n",
       "    <tr>\n",
       "      <th>min</th>\n",
       "      <td>0.000000</td>\n",
       "      <td>-23.105000</td>\n",
       "      <td>3.600000e-07</td>\n",
       "      <td>54.067000</td>\n",
       "      <td>30.661930</td>\n",
       "      <td>0.000000</td>\n",
       "      <td>0.000000</td>\n",
       "      <td>21.000000</td>\n",
       "      <td>14.000000</td>\n",
       "      <td>5.000000</td>\n",
       "      <td>...</td>\n",
       "      <td>194.094294</td>\n",
       "      <td>27.170552</td>\n",
       "      <td>1.927076</td>\n",
       "      <td>2.474468</td>\n",
       "      <td>0.000000</td>\n",
       "      <td>0.000000</td>\n",
       "      <td>349.000000</td>\n",
       "      <td>14.000000</td>\n",
       "      <td>-3.592000</td>\n",
       "      <td>62.000000</td>\n",
       "    </tr>\n",
       "    <tr>\n",
       "      <th>25%</th>\n",
       "      <td>0.000000</td>\n",
       "      <td>0.376300</td>\n",
       "      <td>4.052598e-01</td>\n",
       "      <td>88.303700</td>\n",
       "      <td>44.432102</td>\n",
       "      <td>12.000000</td>\n",
       "      <td>12.000000</td>\n",
       "      <td>36.250000</td>\n",
       "      <td>21.000000</td>\n",
       "      <td>14.000000</td>\n",
       "      <td>...</td>\n",
       "      <td>303.981576</td>\n",
       "      <td>43.723136</td>\n",
       "      <td>2.037907</td>\n",
       "      <td>11.258623</td>\n",
       "      <td>5.187130</td>\n",
       "      <td>2.432671</td>\n",
       "      <td>918.000000</td>\n",
       "      <td>36.000000</td>\n",
       "      <td>1.934750</td>\n",
       "      <td>116.000000</td>\n",
       "    </tr>\n",
       "    <tr>\n",
       "      <th>50%</th>\n",
       "      <td>0.000000</td>\n",
       "      <td>1.170950</td>\n",
       "      <td>1.560251e+00</td>\n",
       "      <td>114.837500</td>\n",
       "      <td>59.901376</td>\n",
       "      <td>16.000000</td>\n",
       "      <td>18.000000</td>\n",
       "      <td>50.000000</td>\n",
       "      <td>28.000000</td>\n",
       "      <td>22.000000</td>\n",
       "      <td>...</td>\n",
       "      <td>386.036615</td>\n",
       "      <td>56.726986</td>\n",
       "      <td>2.055335</td>\n",
       "      <td>14.958520</td>\n",
       "      <td>8.213370</td>\n",
       "      <td>3.406627</td>\n",
       "      <td>2053.000000</td>\n",
       "      <td>46.000000</td>\n",
       "      <td>2.828500</td>\n",
       "      <td>148.000000</td>\n",
       "    </tr>\n",
       "    <tr>\n",
       "      <th>75%</th>\n",
       "      <td>0.000000</td>\n",
       "      <td>1.948100</td>\n",
       "      <td>4.018823e+00</td>\n",
       "      <td>141.423650</td>\n",
       "      <td>74.421376</td>\n",
       "      <td>18.000000</td>\n",
       "      <td>18.000000</td>\n",
       "      <td>62.000000</td>\n",
       "      <td>34.000000</td>\n",
       "      <td>29.000000</td>\n",
       "      <td>...</td>\n",
       "      <td>463.195900</td>\n",
       "      <td>69.709078</td>\n",
       "      <td>2.075121</td>\n",
       "      <td>18.440536</td>\n",
       "      <td>11.348653</td>\n",
       "      <td>6.765083</td>\n",
       "      <td>3640.000000</td>\n",
       "      <td>55.000000</td>\n",
       "      <td>3.663000</td>\n",
       "      <td>182.000000</td>\n",
       "    </tr>\n",
       "    <tr>\n",
       "      <th>max</th>\n",
       "      <td>4.000000</td>\n",
       "      <td>5.181700</td>\n",
       "      <td>5.338410e+02</td>\n",
       "      <td>517.429400</td>\n",
       "      <td>359.662740</td>\n",
       "      <td>30.000000</td>\n",
       "      <td>34.000000</td>\n",
       "      <td>343.000000</td>\n",
       "      <td>163.000000</td>\n",
       "      <td>180.000000</td>\n",
       "      <td>...</td>\n",
       "      <td>2349.392344</td>\n",
       "      <td>318.076845</td>\n",
       "      <td>2.141958</td>\n",
       "      <td>182.633518</td>\n",
       "      <td>50.794729</td>\n",
       "      <td>125.737688</td>\n",
       "      <td>301690.000000</td>\n",
       "      <td>230.000000</td>\n",
       "      <td>14.283000</td>\n",
       "      <td>748.000000</td>\n",
       "    </tr>\n",
       "  </tbody>\n",
       "</table>\n",
       "<p>8 rows × 729 columns</p>\n",
       "</div>"
      ],
      "text/plain": [
       "             nAcid        ALogP        ALogp2          AMR         apol  \\\n",
       "count  1974.000000  1974.000000  1.974000e+03  1974.000000  1974.000000   \n",
       "mean      0.108409     1.110164  3.288495e+00   116.557106    60.626471   \n",
       "std       0.347900     1.434250  1.283292e+01    31.567455    19.449748   \n",
       "min       0.000000   -23.105000  3.600000e-07    54.067000    30.661930   \n",
       "25%       0.000000     0.376300  4.052598e-01    88.303700    44.432102   \n",
       "50%       0.000000     1.170950  1.560251e+00   114.837500    59.901376   \n",
       "75%       0.000000     1.948100  4.018823e+00   141.423650    74.421376   \n",
       "max       4.000000     5.181700  5.338410e+02   517.429400   359.662740   \n",
       "\n",
       "        naAromAtom    nAromBond        nAtom   nHeavyAtom           nH  ...  \\\n",
       "count  1974.000000  1974.000000  1974.000000  1974.000000  1974.000000  ...   \n",
       "mean     15.446809    16.189463    50.761905    28.112462    22.649443  ...   \n",
       "std       5.155854     5.635271    18.089182     8.073881    10.775491  ...   \n",
       "min       0.000000     0.000000    21.000000    14.000000     5.000000  ...   \n",
       "25%      12.000000    12.000000    36.250000    21.000000    14.000000  ...   \n",
       "50%      16.000000    18.000000    50.000000    28.000000    22.000000  ...   \n",
       "75%      18.000000    18.000000    62.000000    34.000000    29.000000  ...   \n",
       "max      30.000000    34.000000   343.000000   163.000000   180.000000  ...   \n",
       "\n",
       "                MW       WTPT-1       WTPT-2       WTPT-3       WTPT-4  \\\n",
       "count  1974.000000  1974.000000  1974.000000  1974.000000  1974.000000   \n",
       "mean    391.056697    57.770682     2.053493    15.656437     8.735564   \n",
       "std     111.596103    16.523972     0.031515     7.781943     4.376340   \n",
       "min     194.094294    27.170552     1.927076     2.474468     0.000000   \n",
       "25%     303.981576    43.723136     2.037907    11.258623     5.187130   \n",
       "50%     386.036615    56.726986     2.055335    14.958520     8.213370   \n",
       "75%     463.195900    69.709078     2.075121    18.440536    11.348653   \n",
       "max    2349.392344   318.076845     2.141958   182.633518    50.794729   \n",
       "\n",
       "            WTPT-5          WPATH         WPOL        XLogP       Zagreb  \n",
       "count  1974.000000    1974.000000  1974.000000  1974.000000  1974.000000  \n",
       "mean      4.821318    2709.616515    46.281662     2.965087   150.716312  \n",
       "std       5.595087    7194.525584    13.287751     1.615263    41.445444  \n",
       "min       0.000000     349.000000    14.000000    -3.592000    62.000000  \n",
       "25%       2.432671     918.000000    36.000000     1.934750   116.000000  \n",
       "50%       3.406627    2053.000000    46.000000     2.828500   148.000000  \n",
       "75%       6.765083    3640.000000    55.000000     3.663000   182.000000  \n",
       "max     125.737688  301690.000000   230.000000    14.283000   748.000000  \n",
       "\n",
       "[8 rows x 729 columns]"
      ]
     },
     "execution_count": 52,
     "metadata": {},
     "output_type": "execute_result"
    }
   ],
   "source": [
    "molt.describe()"
   ]
  },
  {
   "cell_type": "code",
   "execution_count": 53,
   "id": "f3e6e286",
   "metadata": {
    "ExecuteTime": {
     "end_time": "2021-10-14T13:36:00.610856Z",
     "start_time": "2021-10-14T13:36:00.601626Z"
    }
   },
   "outputs": [
    {
     "name": "stdout",
     "output_type": "stream",
     "text": [
      "Molecular_Descriptor.xlsx 数据集中异常值个数为0\n"
     ]
    }
   ],
   "source": [
    "print('Molecular_Descriptor.xlsx 数据集中异常值个数为{}'.format(molt.isnull().any().sum()))"
   ]
  },
  {
   "cell_type": "markdown",
   "id": "957cabfd",
   "metadata": {},
   "source": [
    "## 特征选择"
   ]
  },
  {
   "cell_type": "code",
   "execution_count": 81,
   "id": "252e3142",
   "metadata": {
    "ExecuteTime": {
     "end_time": "2021-10-14T14:29:33.800099Z",
     "start_time": "2021-10-14T14:29:33.789601Z"
    }
   },
   "outputs": [
    {
     "data": {
      "text/plain": [
       "((1974, 729), (1974,))"
      ]
     },
     "execution_count": 81,
     "metadata": {},
     "output_type": "execute_result"
    }
   ],
   "source": [
    "# 相关性算法：灰色关联、皮尔逊、秩相关、肯德尔、余弦、典型相关分析、Elasticsearch相关性\n",
    "fX = molt.values\n",
    "fy = erapi.values\n",
    "fX.shape,fy.shape"
   ]
  },
  {
   "cell_type": "code",
   "execution_count": 86,
   "id": "cbcbe171",
   "metadata": {
    "ExecuteTime": {
     "end_time": "2021-10-14T14:39:48.835541Z",
     "start_time": "2021-10-14T14:39:48.831754Z"
    }
   },
   "outputs": [
    {
     "data": {
      "text/plain": [
       "'nAcid'"
      ]
     },
     "execution_count": 86,
     "metadata": {},
     "output_type": "execute_result"
    }
   ],
   "source": [
    "molt.columns[0]"
   ]
  },
  {
   "cell_type": "code",
   "execution_count": 109,
   "id": "590e5435",
   "metadata": {
    "ExecuteTime": {
     "end_time": "2021-10-14T15:59:40.488169Z",
     "start_time": "2021-10-14T15:59:40.453485Z"
    }
   },
   "outputs": [
    {
     "name": "stdout",
     "output_type": "stream",
     "text": [
      "features whose variance equal to 0:\n",
      "nB  nBondsQ  nHsNH3p  nHssNH2p  nHsssNHp  nHmisc  nsLi  nssBe  nssssBem  nsBH2  nssBH  nsssB  nssssBm  nddC  nsNH3p  nssNH2p  nsssNHp  nddsN  naOm  nsSiH3  nssSiH2  nsssSiH  nssssSi  nsPH2  nssPH  nsssP  nddsP  nsssssP  nssssssS  nSm  nsGeH3  nssGeH2  nsssGeH  nssssGe  nsAsH2  nssAsH  nsssAs  ndsssAs  nddsAs  nsssssAs  nsSeH  ndSe  nssSe  naaSe  ndssSe  nssssssSe  nddssSe  nsSnH3  nssSnH2  nsssSnH  nssssSn  nsPbH3  nssPbH2  nsssPbH  nssssPb  SHsNH3p  SHssNH2p  SHsssNHp  SHmisc  SsLi  SssBe  SssssBem  SsBH2  SssBH  SsssB  SssssBm  SddC  SsNH3p  SssNH2p  SsssNHp  SddsN  SaOm  SsSiH3  SssSiH2  SsssSiH  SssssSi  SsPH2  SssPH  SsssP  SddsP  SsssssP  SssssssS  SSm  SsGeH3  SssGeH2  SsssGeH  SssssGe  SsAsH2  SssAsH  SsssAs  SdsssAs  SddsAs  SsssssAs  SsSeH  SdSe  SssSe  SaaSe  SdssSe  SssssssSe  SddssSe  SsSnH3  SssSnH2  SsssSnH  SssssSn  SsPbH3  SssPbH2  SsssPbH  SssssPb  minHsNH3p  minHssNH2p  minHsssNHp  minHmisc  minsLi  minssBe  minssssBem  minsBH2  minssBH  minsssB  minssssBm  minddC  minsNH3p  minssNH2p  minsssNHp  minddsN  minaOm  minsSiH3  minssSiH2  minsssSiH  minssssSi  minsPH2  minssPH  minsssP  minddsP  minsssssP  minssssssS  minSm  minsGeH3  minssGeH2  minsssGeH  minssssGe  minsAsH2  minssAsH  minsssAs  mindsssAs  minddsAs  minsssssAs  minsSeH  mindSe  minssSe  minaaSe  mindssSe  minssssssSe  minddssSe  minsSnH3  minssSnH2  minsssSnH  minssssSn  minsPbH3  minssPbH2  minsssPbH  minssssPb  maxHsNH3p  maxHssNH2p  maxHsssNHp  maxHmisc  maxsLi  maxssBe  maxssssBem  maxsBH2  maxssBH  maxsssB  maxssssBm  maxddC  maxsNH3p  maxssNH2p  maxsssNHp  maxddsN  maxaOm  maxsSiH3  maxssSiH2  maxsssSiH  maxssssSi  maxsPH2  maxssPH  maxsssP  maxdsssP  maxddsP  maxsssssP  maxssS  maxaaS  maxdssS  maxddssS  maxssssssS  maxSm  maxsGeH3  maxssGeH2  maxsssGeH  maxssssGe  maxsAsH2  maxssAsH  maxsssAs  maxdsssAs  maxddsAs  maxsssssAs  maxsSeH  maxdSe  maxssSe  maxaaSe  maxdssSe  maxssssssSe  maxddssSe  maxsSnH3  maxssSnH2  maxsssSnH  maxssssSn  maxsI  maxsPbH3  maxssPbH2  maxsssPbH  maxssssPb  n9Ring  n10Ring  n11Ring  nF4Ring  nF5Ring  \n",
      "\n",
      "number of zero variance feature:  225\n"
     ]
    }
   ],
   "source": [
    "# remove features with low variance\n",
    "from sklearn.feature_selection import VarianceThreshold\n",
    "from sklearn.feature_selection import SelectKBest\n",
    "sel = VarianceThreshold(threshold=(.8 * (1 - .8)))\n",
    "sel.fit(fX)\n",
    "print('features whose variance equal to 0:')\n",
    "sel_vars = sel.variances_\n",
    "n_zero_var = 0\n",
    "for i in range(len(sel_vars)):\n",
    "    if sel_vars[i] == 0:\n",
    "        print('{} '.format(molt.columns[i]),end=' ')\n",
    "        n_zero_var += 1\n",
    "print('\\n\\nnumber of zero variance feature: ',n_zero_var)"
   ]
  },
  {
   "cell_type": "code",
   "execution_count": 103,
   "id": "1991f321",
   "metadata": {
    "ExecuteTime": {
     "end_time": "2021-10-14T15:42:05.700537Z",
     "start_time": "2021-10-14T15:42:00.256374Z"
    }
   },
   "outputs": [
    {
     "data": {
      "text/plain": [
       "SsOH        0.372768\n",
       "BCUTc-1l    0.363388\n",
       "maxHsOH     0.346760\n",
       "BCUTc-1h    0.346600\n",
       "SHsOH       0.336235\n",
       "minHsOH     0.320251\n",
       "maxsOH      0.306760\n",
       "WTPT-3      0.303822\n",
       "minHBa      0.302263\n",
       "maxssO      0.293662\n",
       "SssO        0.293244\n",
       "WTPT-5      0.291144\n",
       "minsOH      0.285842\n",
       "MDEC-23     0.284252\n",
       "minwHBa     0.280931\n",
       "SaaCH       0.275413\n",
       "MLFER_A     0.272197\n",
       "minaasC     0.271018\n",
       "maxHBa      0.270756\n",
       "SHBd        0.269273\n",
       "dtype: float64"
      ]
     },
     "execution_count": 103,
     "metadata": {},
     "output_type": "execute_result"
    }
   ],
   "source": [
    "# information gain\n",
    "from sklearn.feature_selection import mutual_info_regression\n",
    "mu_imp = mutual_info_regression(molt.values,erapi.values)\n",
    "fea_imp = pd.Series(mu_imp,index=molt.columns)\n",
    "fea_imp.sort_values(ascending=False)[:20]\n",
    "# fea_imp.plot(kind='barh',color='teal')"
   ]
  },
  {
   "cell_type": "code",
   "execution_count": 102,
   "id": "1b92280b",
   "metadata": {
    "ExecuteTime": {
     "end_time": "2021-10-14T15:40:55.251707Z",
     "start_time": "2021-10-14T15:40:44.137270Z"
    }
   },
   "outputs": [
    {
     "name": "stderr",
     "output_type": "stream",
     "text": [
      "/Users/johnson/opt/anaconda3/lib/python3.8/site-packages/skfeature/function/similarity_based/fisher_score.py:59: RuntimeWarning: divide by zero encountered in true_divide\n",
      "  score = 1.0 / lap_score - 1\n"
     ]
    },
    {
     "data": {
      "text/plain": [
       "minaaSe        728\n",
       "minssCH2       727\n",
       "nI             726\n",
       "nHsSH          725\n",
       "nSm            724\n",
       "nHaaNH         723\n",
       "naasC          722\n",
       "SHsNH3p        721\n",
       "nssSiH2        720\n",
       "SsF            719\n",
       "maxssssssSe    718\n",
       "nHsOH          717\n",
       "nHBint8        716\n",
       "SddssSe        715\n",
       "VPC-5          714\n",
       "nC             713\n",
       "maxHBint7      712\n",
       "VP-7           711\n",
       "SsPH2          710\n",
       "ATSc2          709\n",
       "dtype: int64"
      ]
     },
     "execution_count": 102,
     "metadata": {},
     "output_type": "execute_result"
    }
   ],
   "source": [
    "# fisher score\n",
    "from skfeature.function.similarity_based import fisher_score\n",
    "fish_rank = fisher_score.fisher_score(fX,fy)\n",
    "fea_imp = pd.Series(fish_rank, index=molt.columns)\n",
    "fea_imp.sort_values(ascending=False)[:20]"
   ]
  },
  {
   "cell_type": "code",
   "execution_count": 128,
   "id": "0f300d25",
   "metadata": {
    "ExecuteTime": {
     "end_time": "2021-10-14T16:12:30.599132Z",
     "start_time": "2021-10-14T16:12:30.581404Z"
    }
   },
   "outputs": [
    {
     "name": "stderr",
     "output_type": "stream",
     "text": [
      "/Users/johnson/opt/anaconda3/lib/python3.8/site-packages/sklearn/feature_selection/_univariate_selection.py:301: RuntimeWarning: invalid value encountered in true_divide\n",
      "  corr /= X_norms\n",
      "/Users/johnson/opt/anaconda3/lib/python3.8/site-packages/sklearn/feature_selection/_univariate_selection.py:301: RuntimeWarning: invalid value encountered in true_divide\n",
      "  corr /= X_norms\n"
     ]
    },
    {
     "data": {
      "text/plain": [
       "Index(['MDEC-23', 'MLogP', 'LipoaffinityIndex', 'maxsOH', 'minsOH', 'nC',\n",
       "       'nT6Ring', 'n6Ring', 'minsssN', 'BCUTp-1h', 'C2SP2', 'hmin', 'AMR',\n",
       "       'SwHBa', 'maxsssN', 'MDEC-22', 'SP-5', 'SaaCH', 'CrippenLogP',\n",
       "       'maxHsOH'],\n",
       "      dtype='object')"
      ]
     },
     "execution_count": 128,
     "metadata": {},
     "output_type": "execute_result"
    }
   ],
   "source": [
    "# select top-20 best model from f_regression\n",
    "from sklearn.feature_selection import f_regression\n",
    "f_score = f_regression(fX,fy)[1]\n",
    "f_best = SelectKBest(f_regression, k=20).fit_transform(fX,fy)\n",
    "f_score_sorted = np.argsort(f_score)\n",
    "molt.columns[f_score_sorted[:20]]\n",
    "# np.sort(f_score[1],)"
   ]
  },
  {
   "cell_type": "code",
   "execution_count": 160,
   "id": "874fbcac",
   "metadata": {
    "ExecuteTime": {
     "end_time": "2021-10-14T16:53:42.155927Z",
     "start_time": "2021-10-14T16:53:41.712865Z"
    }
   },
   "outputs": [
    {
     "name": "stderr",
     "output_type": "stream",
     "text": [
      "/Users/johnson/opt/anaconda3/lib/python3.8/site-packages/sklearn/linear_model/_coordinate_descent.py:530: ConvergenceWarning: Objective did not converge. You might want to increase the number of iterations. Duality gap: 327.3765820039396, tolerance: 0.39953155744665325\n",
      "  model = cd_fast.enet_coordinate_descent(\n"
     ]
    },
    {
     "data": {
      "text/plain": [
       "(20,\n",
       " Index(['ATSp1', 'ATSp2', 'ATSp3', 'ATSp4', 'ATSp5', 'BCUTw-1h', 'ECCEN',\n",
       "        'SHBa', 'SHBint8', 'SsOH', 'SdO', 'SsF', 'mindO', 'maxsOH', 'fragC',\n",
       "        'MDEC-23', 'TopoPSA', 'VABC', 'MW', 'WPATH'],\n",
       "       dtype='object'))"
      ]
     },
     "execution_count": 160,
     "metadata": {},
     "output_type": "execute_result"
    }
   ],
   "source": [
    "# lasso selection model\n",
    "from sklearn.linear_model import Lasso\n",
    "from sklearn.model_selection import train_test_split\n",
    "# try different alpha values\n",
    "lasso_ = Lasso(alpha=0.6).fit(fX,fy)\n",
    "lasso_coefs = (lasso_.coef_*100).tolist()\n",
    "las_col = [i for i in range(len(lasso_coefs)) if lasso_coefs[i] != 0]\n",
    "len(las_col),molt.columns[las_col]"
   ]
  },
  {
   "cell_type": "code",
   "execution_count": 139,
   "id": "36668085",
   "metadata": {
    "ExecuteTime": {
     "end_time": "2021-10-14T16:42:37.910936Z",
     "start_time": "2021-10-14T16:42:10.394920Z"
    }
   },
   "outputs": [
    {
     "ename": "KeyboardInterrupt",
     "evalue": "",
     "output_type": "error",
     "traceback": [
      "\u001b[0;31m---------------------------------------------------------------------------\u001b[0m",
      "\u001b[0;31mKeyboardInterrupt\u001b[0m                         Traceback (most recent call last)",
      "\u001b[0;32m<ipython-input-139-b06aab72423a>\u001b[0m in \u001b[0;36m<module>\u001b[0;34m\u001b[0m\n\u001b[1;32m      7\u001b[0m \u001b[0;31m# select individual feature and do cross-validation\u001b[0m\u001b[0;34m\u001b[0m\u001b[0;34m\u001b[0m\u001b[0;34m\u001b[0m\u001b[0m\n\u001b[1;32m      8\u001b[0m \u001b[0;32mfor\u001b[0m \u001b[0mi\u001b[0m \u001b[0;32min\u001b[0m \u001b[0mrange\u001b[0m\u001b[0;34m(\u001b[0m\u001b[0mfX\u001b[0m\u001b[0;34m.\u001b[0m\u001b[0mshape\u001b[0m\u001b[0;34m[\u001b[0m\u001b[0;36m1\u001b[0m\u001b[0;34m]\u001b[0m\u001b[0;34m)\u001b[0m\u001b[0;34m:\u001b[0m\u001b[0;34m\u001b[0m\u001b[0;34m\u001b[0m\u001b[0m\n\u001b[0;32m----> 9\u001b[0;31m     score = cross_val_score(rf,fX[:, i:i+1], fy, scoring=\"r2\", \n\u001b[0m\u001b[1;32m     10\u001b[0m                             cv=ShuffleSplit(len(fX), test_size=0.3))\n\u001b[1;32m     11\u001b[0m     \u001b[0mrf_scores\u001b[0m\u001b[0;34m.\u001b[0m\u001b[0mappend\u001b[0m\u001b[0;34m(\u001b[0m\u001b[0;34m(\u001b[0m\u001b[0mformat\u001b[0m\u001b[0;34m(\u001b[0m\u001b[0mnp\u001b[0m\u001b[0;34m.\u001b[0m\u001b[0mmean\u001b[0m\u001b[0;34m(\u001b[0m\u001b[0mscore\u001b[0m\u001b[0;34m)\u001b[0m\u001b[0;34m,\u001b[0m \u001b[0;34m'.3f'\u001b[0m\u001b[0;34m)\u001b[0m\u001b[0;34m,\u001b[0m \u001b[0mmolt\u001b[0m\u001b[0;34m.\u001b[0m\u001b[0mcolumns\u001b[0m\u001b[0;34m[\u001b[0m\u001b[0mi\u001b[0m\u001b[0;34m]\u001b[0m\u001b[0;34m)\u001b[0m\u001b[0;34m)\u001b[0m\u001b[0;34m\u001b[0m\u001b[0;34m\u001b[0m\u001b[0m\n",
      "\u001b[0;32m~/opt/anaconda3/lib/python3.8/site-packages/sklearn/utils/validation.py\u001b[0m in \u001b[0;36minner_f\u001b[0;34m(*args, **kwargs)\u001b[0m\n\u001b[1;32m     61\u001b[0m             \u001b[0mextra_args\u001b[0m \u001b[0;34m=\u001b[0m \u001b[0mlen\u001b[0m\u001b[0;34m(\u001b[0m\u001b[0margs\u001b[0m\u001b[0;34m)\u001b[0m \u001b[0;34m-\u001b[0m \u001b[0mlen\u001b[0m\u001b[0;34m(\u001b[0m\u001b[0mall_args\u001b[0m\u001b[0;34m)\u001b[0m\u001b[0;34m\u001b[0m\u001b[0;34m\u001b[0m\u001b[0m\n\u001b[1;32m     62\u001b[0m             \u001b[0;32mif\u001b[0m \u001b[0mextra_args\u001b[0m \u001b[0;34m<=\u001b[0m \u001b[0;36m0\u001b[0m\u001b[0;34m:\u001b[0m\u001b[0;34m\u001b[0m\u001b[0;34m\u001b[0m\u001b[0m\n\u001b[0;32m---> 63\u001b[0;31m                 \u001b[0;32mreturn\u001b[0m \u001b[0mf\u001b[0m\u001b[0;34m(\u001b[0m\u001b[0;34m*\u001b[0m\u001b[0margs\u001b[0m\u001b[0;34m,\u001b[0m \u001b[0;34m**\u001b[0m\u001b[0mkwargs\u001b[0m\u001b[0;34m)\u001b[0m\u001b[0;34m\u001b[0m\u001b[0;34m\u001b[0m\u001b[0m\n\u001b[0m\u001b[1;32m     64\u001b[0m \u001b[0;34m\u001b[0m\u001b[0m\n\u001b[1;32m     65\u001b[0m             \u001b[0;31m# extra_args > 0\u001b[0m\u001b[0;34m\u001b[0m\u001b[0;34m\u001b[0m\u001b[0;34m\u001b[0m\u001b[0m\n",
      "\u001b[0;32m~/opt/anaconda3/lib/python3.8/site-packages/sklearn/model_selection/_validation.py\u001b[0m in \u001b[0;36mcross_val_score\u001b[0;34m(estimator, X, y, groups, scoring, cv, n_jobs, verbose, fit_params, pre_dispatch, error_score)\u001b[0m\n\u001b[1;32m    438\u001b[0m     \u001b[0mscorer\u001b[0m \u001b[0;34m=\u001b[0m \u001b[0mcheck_scoring\u001b[0m\u001b[0;34m(\u001b[0m\u001b[0mestimator\u001b[0m\u001b[0;34m,\u001b[0m \u001b[0mscoring\u001b[0m\u001b[0;34m=\u001b[0m\u001b[0mscoring\u001b[0m\u001b[0;34m)\u001b[0m\u001b[0;34m\u001b[0m\u001b[0;34m\u001b[0m\u001b[0m\n\u001b[1;32m    439\u001b[0m \u001b[0;34m\u001b[0m\u001b[0m\n\u001b[0;32m--> 440\u001b[0;31m     cv_results = cross_validate(estimator=estimator, X=X, y=y, groups=groups,\n\u001b[0m\u001b[1;32m    441\u001b[0m                                 \u001b[0mscoring\u001b[0m\u001b[0;34m=\u001b[0m\u001b[0;34m{\u001b[0m\u001b[0;34m'score'\u001b[0m\u001b[0;34m:\u001b[0m \u001b[0mscorer\u001b[0m\u001b[0;34m}\u001b[0m\u001b[0;34m,\u001b[0m \u001b[0mcv\u001b[0m\u001b[0;34m=\u001b[0m\u001b[0mcv\u001b[0m\u001b[0;34m,\u001b[0m\u001b[0;34m\u001b[0m\u001b[0;34m\u001b[0m\u001b[0m\n\u001b[1;32m    442\u001b[0m                                 \u001b[0mn_jobs\u001b[0m\u001b[0;34m=\u001b[0m\u001b[0mn_jobs\u001b[0m\u001b[0;34m,\u001b[0m \u001b[0mverbose\u001b[0m\u001b[0;34m=\u001b[0m\u001b[0mverbose\u001b[0m\u001b[0;34m,\u001b[0m\u001b[0;34m\u001b[0m\u001b[0;34m\u001b[0m\u001b[0m\n",
      "\u001b[0;32m~/opt/anaconda3/lib/python3.8/site-packages/sklearn/utils/validation.py\u001b[0m in \u001b[0;36minner_f\u001b[0;34m(*args, **kwargs)\u001b[0m\n\u001b[1;32m     61\u001b[0m             \u001b[0mextra_args\u001b[0m \u001b[0;34m=\u001b[0m \u001b[0mlen\u001b[0m\u001b[0;34m(\u001b[0m\u001b[0margs\u001b[0m\u001b[0;34m)\u001b[0m \u001b[0;34m-\u001b[0m \u001b[0mlen\u001b[0m\u001b[0;34m(\u001b[0m\u001b[0mall_args\u001b[0m\u001b[0;34m)\u001b[0m\u001b[0;34m\u001b[0m\u001b[0;34m\u001b[0m\u001b[0m\n\u001b[1;32m     62\u001b[0m             \u001b[0;32mif\u001b[0m \u001b[0mextra_args\u001b[0m \u001b[0;34m<=\u001b[0m \u001b[0;36m0\u001b[0m\u001b[0;34m:\u001b[0m\u001b[0;34m\u001b[0m\u001b[0;34m\u001b[0m\u001b[0m\n\u001b[0;32m---> 63\u001b[0;31m                 \u001b[0;32mreturn\u001b[0m \u001b[0mf\u001b[0m\u001b[0;34m(\u001b[0m\u001b[0;34m*\u001b[0m\u001b[0margs\u001b[0m\u001b[0;34m,\u001b[0m \u001b[0;34m**\u001b[0m\u001b[0mkwargs\u001b[0m\u001b[0;34m)\u001b[0m\u001b[0;34m\u001b[0m\u001b[0;34m\u001b[0m\u001b[0m\n\u001b[0m\u001b[1;32m     64\u001b[0m \u001b[0;34m\u001b[0m\u001b[0m\n\u001b[1;32m     65\u001b[0m             \u001b[0;31m# extra_args > 0\u001b[0m\u001b[0;34m\u001b[0m\u001b[0;34m\u001b[0m\u001b[0;34m\u001b[0m\u001b[0m\n",
      "\u001b[0;32m~/opt/anaconda3/lib/python3.8/site-packages/sklearn/model_selection/_validation.py\u001b[0m in \u001b[0;36mcross_validate\u001b[0;34m(estimator, X, y, groups, scoring, cv, n_jobs, verbose, fit_params, pre_dispatch, return_train_score, return_estimator, error_score)\u001b[0m\n\u001b[1;32m    244\u001b[0m     parallel = Parallel(n_jobs=n_jobs, verbose=verbose,\n\u001b[1;32m    245\u001b[0m                         pre_dispatch=pre_dispatch)\n\u001b[0;32m--> 246\u001b[0;31m     results = parallel(\n\u001b[0m\u001b[1;32m    247\u001b[0m         delayed(_fit_and_score)(\n\u001b[1;32m    248\u001b[0m             \u001b[0mclone\u001b[0m\u001b[0;34m(\u001b[0m\u001b[0mestimator\u001b[0m\u001b[0;34m)\u001b[0m\u001b[0;34m,\u001b[0m \u001b[0mX\u001b[0m\u001b[0;34m,\u001b[0m \u001b[0my\u001b[0m\u001b[0;34m,\u001b[0m \u001b[0mscorers\u001b[0m\u001b[0;34m,\u001b[0m \u001b[0mtrain\u001b[0m\u001b[0;34m,\u001b[0m \u001b[0mtest\u001b[0m\u001b[0;34m,\u001b[0m \u001b[0mverbose\u001b[0m\u001b[0;34m,\u001b[0m \u001b[0;32mNone\u001b[0m\u001b[0;34m,\u001b[0m\u001b[0;34m\u001b[0m\u001b[0;34m\u001b[0m\u001b[0m\n",
      "\u001b[0;32m~/.local/lib/python3.8/site-packages/joblib/parallel.py\u001b[0m in \u001b[0;36m__call__\u001b[0;34m(self, iterable)\u001b[0m\n\u001b[1;32m   1042\u001b[0m                 \u001b[0mself\u001b[0m\u001b[0;34m.\u001b[0m\u001b[0m_iterating\u001b[0m \u001b[0;34m=\u001b[0m \u001b[0mself\u001b[0m\u001b[0;34m.\u001b[0m\u001b[0m_original_iterator\u001b[0m \u001b[0;32mis\u001b[0m \u001b[0;32mnot\u001b[0m \u001b[0;32mNone\u001b[0m\u001b[0;34m\u001b[0m\u001b[0;34m\u001b[0m\u001b[0m\n\u001b[1;32m   1043\u001b[0m \u001b[0;34m\u001b[0m\u001b[0m\n\u001b[0;32m-> 1044\u001b[0;31m             \u001b[0;32mwhile\u001b[0m \u001b[0mself\u001b[0m\u001b[0;34m.\u001b[0m\u001b[0mdispatch_one_batch\u001b[0m\u001b[0;34m(\u001b[0m\u001b[0miterator\u001b[0m\u001b[0;34m)\u001b[0m\u001b[0;34m:\u001b[0m\u001b[0;34m\u001b[0m\u001b[0;34m\u001b[0m\u001b[0m\n\u001b[0m\u001b[1;32m   1045\u001b[0m                 \u001b[0;32mpass\u001b[0m\u001b[0;34m\u001b[0m\u001b[0;34m\u001b[0m\u001b[0m\n\u001b[1;32m   1046\u001b[0m \u001b[0;34m\u001b[0m\u001b[0m\n",
      "\u001b[0;32m~/.local/lib/python3.8/site-packages/joblib/parallel.py\u001b[0m in \u001b[0;36mdispatch_one_batch\u001b[0;34m(self, iterator)\u001b[0m\n\u001b[1;32m    857\u001b[0m                 \u001b[0;32mreturn\u001b[0m \u001b[0;32mFalse\u001b[0m\u001b[0;34m\u001b[0m\u001b[0;34m\u001b[0m\u001b[0m\n\u001b[1;32m    858\u001b[0m             \u001b[0;32melse\u001b[0m\u001b[0;34m:\u001b[0m\u001b[0;34m\u001b[0m\u001b[0;34m\u001b[0m\u001b[0m\n\u001b[0;32m--> 859\u001b[0;31m                 \u001b[0mself\u001b[0m\u001b[0;34m.\u001b[0m\u001b[0m_dispatch\u001b[0m\u001b[0;34m(\u001b[0m\u001b[0mtasks\u001b[0m\u001b[0;34m)\u001b[0m\u001b[0;34m\u001b[0m\u001b[0;34m\u001b[0m\u001b[0m\n\u001b[0m\u001b[1;32m    860\u001b[0m                 \u001b[0;32mreturn\u001b[0m \u001b[0;32mTrue\u001b[0m\u001b[0;34m\u001b[0m\u001b[0;34m\u001b[0m\u001b[0m\n\u001b[1;32m    861\u001b[0m \u001b[0;34m\u001b[0m\u001b[0m\n",
      "\u001b[0;32m~/.local/lib/python3.8/site-packages/joblib/parallel.py\u001b[0m in \u001b[0;36m_dispatch\u001b[0;34m(self, batch)\u001b[0m\n\u001b[1;32m    775\u001b[0m         \u001b[0;32mwith\u001b[0m \u001b[0mself\u001b[0m\u001b[0;34m.\u001b[0m\u001b[0m_lock\u001b[0m\u001b[0;34m:\u001b[0m\u001b[0;34m\u001b[0m\u001b[0;34m\u001b[0m\u001b[0m\n\u001b[1;32m    776\u001b[0m             \u001b[0mjob_idx\u001b[0m \u001b[0;34m=\u001b[0m \u001b[0mlen\u001b[0m\u001b[0;34m(\u001b[0m\u001b[0mself\u001b[0m\u001b[0;34m.\u001b[0m\u001b[0m_jobs\u001b[0m\u001b[0;34m)\u001b[0m\u001b[0;34m\u001b[0m\u001b[0;34m\u001b[0m\u001b[0m\n\u001b[0;32m--> 777\u001b[0;31m             \u001b[0mjob\u001b[0m \u001b[0;34m=\u001b[0m \u001b[0mself\u001b[0m\u001b[0;34m.\u001b[0m\u001b[0m_backend\u001b[0m\u001b[0;34m.\u001b[0m\u001b[0mapply_async\u001b[0m\u001b[0;34m(\u001b[0m\u001b[0mbatch\u001b[0m\u001b[0;34m,\u001b[0m \u001b[0mcallback\u001b[0m\u001b[0;34m=\u001b[0m\u001b[0mcb\u001b[0m\u001b[0;34m)\u001b[0m\u001b[0;34m\u001b[0m\u001b[0;34m\u001b[0m\u001b[0m\n\u001b[0m\u001b[1;32m    778\u001b[0m             \u001b[0;31m# A job can complete so quickly than its callback is\u001b[0m\u001b[0;34m\u001b[0m\u001b[0;34m\u001b[0m\u001b[0;34m\u001b[0m\u001b[0m\n\u001b[1;32m    779\u001b[0m             \u001b[0;31m# called before we get here, causing self._jobs to\u001b[0m\u001b[0;34m\u001b[0m\u001b[0;34m\u001b[0m\u001b[0;34m\u001b[0m\u001b[0m\n",
      "\u001b[0;32m~/.local/lib/python3.8/site-packages/joblib/_parallel_backends.py\u001b[0m in \u001b[0;36mapply_async\u001b[0;34m(self, func, callback)\u001b[0m\n\u001b[1;32m    206\u001b[0m     \u001b[0;32mdef\u001b[0m \u001b[0mapply_async\u001b[0m\u001b[0;34m(\u001b[0m\u001b[0mself\u001b[0m\u001b[0;34m,\u001b[0m \u001b[0mfunc\u001b[0m\u001b[0;34m,\u001b[0m \u001b[0mcallback\u001b[0m\u001b[0;34m=\u001b[0m\u001b[0;32mNone\u001b[0m\u001b[0;34m)\u001b[0m\u001b[0;34m:\u001b[0m\u001b[0;34m\u001b[0m\u001b[0;34m\u001b[0m\u001b[0m\n\u001b[1;32m    207\u001b[0m         \u001b[0;34m\"\"\"Schedule a func to be run\"\"\"\u001b[0m\u001b[0;34m\u001b[0m\u001b[0;34m\u001b[0m\u001b[0m\n\u001b[0;32m--> 208\u001b[0;31m         \u001b[0mresult\u001b[0m \u001b[0;34m=\u001b[0m \u001b[0mImmediateResult\u001b[0m\u001b[0;34m(\u001b[0m\u001b[0mfunc\u001b[0m\u001b[0;34m)\u001b[0m\u001b[0;34m\u001b[0m\u001b[0;34m\u001b[0m\u001b[0m\n\u001b[0m\u001b[1;32m    209\u001b[0m         \u001b[0;32mif\u001b[0m \u001b[0mcallback\u001b[0m\u001b[0;34m:\u001b[0m\u001b[0;34m\u001b[0m\u001b[0;34m\u001b[0m\u001b[0m\n\u001b[1;32m    210\u001b[0m             \u001b[0mcallback\u001b[0m\u001b[0;34m(\u001b[0m\u001b[0mresult\u001b[0m\u001b[0;34m)\u001b[0m\u001b[0;34m\u001b[0m\u001b[0;34m\u001b[0m\u001b[0m\n",
      "\u001b[0;32m~/.local/lib/python3.8/site-packages/joblib/_parallel_backends.py\u001b[0m in \u001b[0;36m__init__\u001b[0;34m(self, batch)\u001b[0m\n\u001b[1;32m    570\u001b[0m         \u001b[0;31m# Don't delay the application, to avoid keeping the input\u001b[0m\u001b[0;34m\u001b[0m\u001b[0;34m\u001b[0m\u001b[0;34m\u001b[0m\u001b[0m\n\u001b[1;32m    571\u001b[0m         \u001b[0;31m# arguments in memory\u001b[0m\u001b[0;34m\u001b[0m\u001b[0;34m\u001b[0m\u001b[0;34m\u001b[0m\u001b[0m\n\u001b[0;32m--> 572\u001b[0;31m         \u001b[0mself\u001b[0m\u001b[0;34m.\u001b[0m\u001b[0mresults\u001b[0m \u001b[0;34m=\u001b[0m \u001b[0mbatch\u001b[0m\u001b[0;34m(\u001b[0m\u001b[0;34m)\u001b[0m\u001b[0;34m\u001b[0m\u001b[0;34m\u001b[0m\u001b[0m\n\u001b[0m\u001b[1;32m    573\u001b[0m \u001b[0;34m\u001b[0m\u001b[0m\n\u001b[1;32m    574\u001b[0m     \u001b[0;32mdef\u001b[0m \u001b[0mget\u001b[0m\u001b[0;34m(\u001b[0m\u001b[0mself\u001b[0m\u001b[0;34m)\u001b[0m\u001b[0;34m:\u001b[0m\u001b[0;34m\u001b[0m\u001b[0;34m\u001b[0m\u001b[0m\n",
      "\u001b[0;32m~/.local/lib/python3.8/site-packages/joblib/parallel.py\u001b[0m in \u001b[0;36m__call__\u001b[0;34m(self)\u001b[0m\n\u001b[1;32m    260\u001b[0m         \u001b[0;31m# change the default number of processes to -1\u001b[0m\u001b[0;34m\u001b[0m\u001b[0;34m\u001b[0m\u001b[0;34m\u001b[0m\u001b[0m\n\u001b[1;32m    261\u001b[0m         \u001b[0;32mwith\u001b[0m \u001b[0mparallel_backend\u001b[0m\u001b[0;34m(\u001b[0m\u001b[0mself\u001b[0m\u001b[0;34m.\u001b[0m\u001b[0m_backend\u001b[0m\u001b[0;34m,\u001b[0m \u001b[0mn_jobs\u001b[0m\u001b[0;34m=\u001b[0m\u001b[0mself\u001b[0m\u001b[0;34m.\u001b[0m\u001b[0m_n_jobs\u001b[0m\u001b[0;34m)\u001b[0m\u001b[0;34m:\u001b[0m\u001b[0;34m\u001b[0m\u001b[0;34m\u001b[0m\u001b[0m\n\u001b[0;32m--> 262\u001b[0;31m             return [func(*args, **kwargs)\n\u001b[0m\u001b[1;32m    263\u001b[0m                     for func, args, kwargs in self.items]\n\u001b[1;32m    264\u001b[0m \u001b[0;34m\u001b[0m\u001b[0m\n",
      "\u001b[0;32m~/.local/lib/python3.8/site-packages/joblib/parallel.py\u001b[0m in \u001b[0;36m<listcomp>\u001b[0;34m(.0)\u001b[0m\n\u001b[1;32m    260\u001b[0m         \u001b[0;31m# change the default number of processes to -1\u001b[0m\u001b[0;34m\u001b[0m\u001b[0;34m\u001b[0m\u001b[0;34m\u001b[0m\u001b[0m\n\u001b[1;32m    261\u001b[0m         \u001b[0;32mwith\u001b[0m \u001b[0mparallel_backend\u001b[0m\u001b[0;34m(\u001b[0m\u001b[0mself\u001b[0m\u001b[0;34m.\u001b[0m\u001b[0m_backend\u001b[0m\u001b[0;34m,\u001b[0m \u001b[0mn_jobs\u001b[0m\u001b[0;34m=\u001b[0m\u001b[0mself\u001b[0m\u001b[0;34m.\u001b[0m\u001b[0m_n_jobs\u001b[0m\u001b[0;34m)\u001b[0m\u001b[0;34m:\u001b[0m\u001b[0;34m\u001b[0m\u001b[0;34m\u001b[0m\u001b[0m\n\u001b[0;32m--> 262\u001b[0;31m             return [func(*args, **kwargs)\n\u001b[0m\u001b[1;32m    263\u001b[0m                     for func, args, kwargs in self.items]\n\u001b[1;32m    264\u001b[0m \u001b[0;34m\u001b[0m\u001b[0m\n",
      "\u001b[0;32m~/opt/anaconda3/lib/python3.8/site-packages/sklearn/utils/fixes.py\u001b[0m in \u001b[0;36m__call__\u001b[0;34m(self, *args, **kwargs)\u001b[0m\n\u001b[1;32m    220\u001b[0m     \u001b[0;32mdef\u001b[0m \u001b[0m__call__\u001b[0m\u001b[0;34m(\u001b[0m\u001b[0mself\u001b[0m\u001b[0;34m,\u001b[0m \u001b[0;34m*\u001b[0m\u001b[0margs\u001b[0m\u001b[0;34m,\u001b[0m \u001b[0;34m**\u001b[0m\u001b[0mkwargs\u001b[0m\u001b[0;34m)\u001b[0m\u001b[0;34m:\u001b[0m\u001b[0;34m\u001b[0m\u001b[0;34m\u001b[0m\u001b[0m\n\u001b[1;32m    221\u001b[0m         \u001b[0;32mwith\u001b[0m \u001b[0mconfig_context\u001b[0m\u001b[0;34m(\u001b[0m\u001b[0;34m**\u001b[0m\u001b[0mself\u001b[0m\u001b[0;34m.\u001b[0m\u001b[0mconfig\u001b[0m\u001b[0;34m)\u001b[0m\u001b[0;34m:\u001b[0m\u001b[0;34m\u001b[0m\u001b[0;34m\u001b[0m\u001b[0m\n\u001b[0;32m--> 222\u001b[0;31m             \u001b[0;32mreturn\u001b[0m \u001b[0mself\u001b[0m\u001b[0;34m.\u001b[0m\u001b[0mfunction\u001b[0m\u001b[0;34m(\u001b[0m\u001b[0;34m*\u001b[0m\u001b[0margs\u001b[0m\u001b[0;34m,\u001b[0m \u001b[0;34m**\u001b[0m\u001b[0mkwargs\u001b[0m\u001b[0;34m)\u001b[0m\u001b[0;34m\u001b[0m\u001b[0;34m\u001b[0m\u001b[0m\n\u001b[0m",
      "\u001b[0;32m~/opt/anaconda3/lib/python3.8/site-packages/sklearn/model_selection/_validation.py\u001b[0m in \u001b[0;36m_fit_and_score\u001b[0;34m(estimator, X, y, scorer, train, test, verbose, parameters, fit_params, return_train_score, return_parameters, return_n_test_samples, return_times, return_estimator, split_progress, candidate_progress, error_score)\u001b[0m\n\u001b[1;32m    591\u001b[0m             \u001b[0mestimator\u001b[0m\u001b[0;34m.\u001b[0m\u001b[0mfit\u001b[0m\u001b[0;34m(\u001b[0m\u001b[0mX_train\u001b[0m\u001b[0;34m,\u001b[0m \u001b[0;34m**\u001b[0m\u001b[0mfit_params\u001b[0m\u001b[0;34m)\u001b[0m\u001b[0;34m\u001b[0m\u001b[0;34m\u001b[0m\u001b[0m\n\u001b[1;32m    592\u001b[0m         \u001b[0;32melse\u001b[0m\u001b[0;34m:\u001b[0m\u001b[0;34m\u001b[0m\u001b[0;34m\u001b[0m\u001b[0m\n\u001b[0;32m--> 593\u001b[0;31m             \u001b[0mestimator\u001b[0m\u001b[0;34m.\u001b[0m\u001b[0mfit\u001b[0m\u001b[0;34m(\u001b[0m\u001b[0mX_train\u001b[0m\u001b[0;34m,\u001b[0m \u001b[0my_train\u001b[0m\u001b[0;34m,\u001b[0m \u001b[0;34m**\u001b[0m\u001b[0mfit_params\u001b[0m\u001b[0;34m)\u001b[0m\u001b[0;34m\u001b[0m\u001b[0;34m\u001b[0m\u001b[0m\n\u001b[0m\u001b[1;32m    594\u001b[0m \u001b[0;34m\u001b[0m\u001b[0m\n\u001b[1;32m    595\u001b[0m     \u001b[0;32mexcept\u001b[0m \u001b[0mException\u001b[0m \u001b[0;32mas\u001b[0m \u001b[0me\u001b[0m\u001b[0;34m:\u001b[0m\u001b[0;34m\u001b[0m\u001b[0;34m\u001b[0m\u001b[0m\n",
      "\u001b[0;32m~/opt/anaconda3/lib/python3.8/site-packages/sklearn/ensemble/_forest.py\u001b[0m in \u001b[0;36mfit\u001b[0;34m(self, X, y, sample_weight)\u001b[0m\n\u001b[1;32m    385\u001b[0m             \u001b[0;31m# parallel_backend contexts set at a higher level,\u001b[0m\u001b[0;34m\u001b[0m\u001b[0;34m\u001b[0m\u001b[0;34m\u001b[0m\u001b[0m\n\u001b[1;32m    386\u001b[0m             \u001b[0;31m# since correctness does not rely on using threads.\u001b[0m\u001b[0;34m\u001b[0m\u001b[0;34m\u001b[0m\u001b[0;34m\u001b[0m\u001b[0m\n\u001b[0;32m--> 387\u001b[0;31m             trees = Parallel(n_jobs=self.n_jobs, verbose=self.verbose,\n\u001b[0m\u001b[1;32m    388\u001b[0m                              \u001b[0;34m**\u001b[0m\u001b[0m_joblib_parallel_args\u001b[0m\u001b[0;34m(\u001b[0m\u001b[0mprefer\u001b[0m\u001b[0;34m=\u001b[0m\u001b[0;34m'threads'\u001b[0m\u001b[0;34m)\u001b[0m\u001b[0;34m)\u001b[0m\u001b[0;34m(\u001b[0m\u001b[0;34m\u001b[0m\u001b[0;34m\u001b[0m\u001b[0m\n\u001b[1;32m    389\u001b[0m                 delayed(_parallel_build_trees)(\n",
      "\u001b[0;32m~/.local/lib/python3.8/site-packages/joblib/parallel.py\u001b[0m in \u001b[0;36m__call__\u001b[0;34m(self, iterable)\u001b[0m\n\u001b[1;32m   1042\u001b[0m                 \u001b[0mself\u001b[0m\u001b[0;34m.\u001b[0m\u001b[0m_iterating\u001b[0m \u001b[0;34m=\u001b[0m \u001b[0mself\u001b[0m\u001b[0;34m.\u001b[0m\u001b[0m_original_iterator\u001b[0m \u001b[0;32mis\u001b[0m \u001b[0;32mnot\u001b[0m \u001b[0;32mNone\u001b[0m\u001b[0;34m\u001b[0m\u001b[0;34m\u001b[0m\u001b[0m\n\u001b[1;32m   1043\u001b[0m \u001b[0;34m\u001b[0m\u001b[0m\n\u001b[0;32m-> 1044\u001b[0;31m             \u001b[0;32mwhile\u001b[0m \u001b[0mself\u001b[0m\u001b[0;34m.\u001b[0m\u001b[0mdispatch_one_batch\u001b[0m\u001b[0;34m(\u001b[0m\u001b[0miterator\u001b[0m\u001b[0;34m)\u001b[0m\u001b[0;34m:\u001b[0m\u001b[0;34m\u001b[0m\u001b[0;34m\u001b[0m\u001b[0m\n\u001b[0m\u001b[1;32m   1045\u001b[0m                 \u001b[0;32mpass\u001b[0m\u001b[0;34m\u001b[0m\u001b[0;34m\u001b[0m\u001b[0m\n\u001b[1;32m   1046\u001b[0m \u001b[0;34m\u001b[0m\u001b[0m\n",
      "\u001b[0;32m~/.local/lib/python3.8/site-packages/joblib/parallel.py\u001b[0m in \u001b[0;36mdispatch_one_batch\u001b[0;34m(self, iterator)\u001b[0m\n\u001b[1;32m    857\u001b[0m                 \u001b[0;32mreturn\u001b[0m \u001b[0;32mFalse\u001b[0m\u001b[0;34m\u001b[0m\u001b[0;34m\u001b[0m\u001b[0m\n\u001b[1;32m    858\u001b[0m             \u001b[0;32melse\u001b[0m\u001b[0;34m:\u001b[0m\u001b[0;34m\u001b[0m\u001b[0;34m\u001b[0m\u001b[0m\n\u001b[0;32m--> 859\u001b[0;31m                 \u001b[0mself\u001b[0m\u001b[0;34m.\u001b[0m\u001b[0m_dispatch\u001b[0m\u001b[0;34m(\u001b[0m\u001b[0mtasks\u001b[0m\u001b[0;34m)\u001b[0m\u001b[0;34m\u001b[0m\u001b[0;34m\u001b[0m\u001b[0m\n\u001b[0m\u001b[1;32m    860\u001b[0m                 \u001b[0;32mreturn\u001b[0m \u001b[0;32mTrue\u001b[0m\u001b[0;34m\u001b[0m\u001b[0;34m\u001b[0m\u001b[0m\n\u001b[1;32m    861\u001b[0m \u001b[0;34m\u001b[0m\u001b[0m\n",
      "\u001b[0;32m~/.local/lib/python3.8/site-packages/joblib/parallel.py\u001b[0m in \u001b[0;36m_dispatch\u001b[0;34m(self, batch)\u001b[0m\n\u001b[1;32m    775\u001b[0m         \u001b[0;32mwith\u001b[0m \u001b[0mself\u001b[0m\u001b[0;34m.\u001b[0m\u001b[0m_lock\u001b[0m\u001b[0;34m:\u001b[0m\u001b[0;34m\u001b[0m\u001b[0;34m\u001b[0m\u001b[0m\n\u001b[1;32m    776\u001b[0m             \u001b[0mjob_idx\u001b[0m \u001b[0;34m=\u001b[0m \u001b[0mlen\u001b[0m\u001b[0;34m(\u001b[0m\u001b[0mself\u001b[0m\u001b[0;34m.\u001b[0m\u001b[0m_jobs\u001b[0m\u001b[0;34m)\u001b[0m\u001b[0;34m\u001b[0m\u001b[0;34m\u001b[0m\u001b[0m\n\u001b[0;32m--> 777\u001b[0;31m             \u001b[0mjob\u001b[0m \u001b[0;34m=\u001b[0m \u001b[0mself\u001b[0m\u001b[0;34m.\u001b[0m\u001b[0m_backend\u001b[0m\u001b[0;34m.\u001b[0m\u001b[0mapply_async\u001b[0m\u001b[0;34m(\u001b[0m\u001b[0mbatch\u001b[0m\u001b[0;34m,\u001b[0m \u001b[0mcallback\u001b[0m\u001b[0;34m=\u001b[0m\u001b[0mcb\u001b[0m\u001b[0;34m)\u001b[0m\u001b[0;34m\u001b[0m\u001b[0;34m\u001b[0m\u001b[0m\n\u001b[0m\u001b[1;32m    778\u001b[0m             \u001b[0;31m# A job can complete so quickly than its callback is\u001b[0m\u001b[0;34m\u001b[0m\u001b[0;34m\u001b[0m\u001b[0;34m\u001b[0m\u001b[0m\n\u001b[1;32m    779\u001b[0m             \u001b[0;31m# called before we get here, causing self._jobs to\u001b[0m\u001b[0;34m\u001b[0m\u001b[0;34m\u001b[0m\u001b[0;34m\u001b[0m\u001b[0m\n",
      "\u001b[0;32m~/.local/lib/python3.8/site-packages/joblib/_parallel_backends.py\u001b[0m in \u001b[0;36mapply_async\u001b[0;34m(self, func, callback)\u001b[0m\n\u001b[1;32m    206\u001b[0m     \u001b[0;32mdef\u001b[0m \u001b[0mapply_async\u001b[0m\u001b[0;34m(\u001b[0m\u001b[0mself\u001b[0m\u001b[0;34m,\u001b[0m \u001b[0mfunc\u001b[0m\u001b[0;34m,\u001b[0m \u001b[0mcallback\u001b[0m\u001b[0;34m=\u001b[0m\u001b[0;32mNone\u001b[0m\u001b[0;34m)\u001b[0m\u001b[0;34m:\u001b[0m\u001b[0;34m\u001b[0m\u001b[0;34m\u001b[0m\u001b[0m\n\u001b[1;32m    207\u001b[0m         \u001b[0;34m\"\"\"Schedule a func to be run\"\"\"\u001b[0m\u001b[0;34m\u001b[0m\u001b[0;34m\u001b[0m\u001b[0m\n\u001b[0;32m--> 208\u001b[0;31m         \u001b[0mresult\u001b[0m \u001b[0;34m=\u001b[0m \u001b[0mImmediateResult\u001b[0m\u001b[0;34m(\u001b[0m\u001b[0mfunc\u001b[0m\u001b[0;34m)\u001b[0m\u001b[0;34m\u001b[0m\u001b[0;34m\u001b[0m\u001b[0m\n\u001b[0m\u001b[1;32m    209\u001b[0m         \u001b[0;32mif\u001b[0m \u001b[0mcallback\u001b[0m\u001b[0;34m:\u001b[0m\u001b[0;34m\u001b[0m\u001b[0;34m\u001b[0m\u001b[0m\n\u001b[1;32m    210\u001b[0m             \u001b[0mcallback\u001b[0m\u001b[0;34m(\u001b[0m\u001b[0mresult\u001b[0m\u001b[0;34m)\u001b[0m\u001b[0;34m\u001b[0m\u001b[0;34m\u001b[0m\u001b[0m\n",
      "\u001b[0;32m~/.local/lib/python3.8/site-packages/joblib/_parallel_backends.py\u001b[0m in \u001b[0;36m__init__\u001b[0;34m(self, batch)\u001b[0m\n\u001b[1;32m    570\u001b[0m         \u001b[0;31m# Don't delay the application, to avoid keeping the input\u001b[0m\u001b[0;34m\u001b[0m\u001b[0;34m\u001b[0m\u001b[0;34m\u001b[0m\u001b[0m\n\u001b[1;32m    571\u001b[0m         \u001b[0;31m# arguments in memory\u001b[0m\u001b[0;34m\u001b[0m\u001b[0;34m\u001b[0m\u001b[0;34m\u001b[0m\u001b[0m\n\u001b[0;32m--> 572\u001b[0;31m         \u001b[0mself\u001b[0m\u001b[0;34m.\u001b[0m\u001b[0mresults\u001b[0m \u001b[0;34m=\u001b[0m \u001b[0mbatch\u001b[0m\u001b[0;34m(\u001b[0m\u001b[0;34m)\u001b[0m\u001b[0;34m\u001b[0m\u001b[0;34m\u001b[0m\u001b[0m\n\u001b[0m\u001b[1;32m    573\u001b[0m \u001b[0;34m\u001b[0m\u001b[0m\n\u001b[1;32m    574\u001b[0m     \u001b[0;32mdef\u001b[0m \u001b[0mget\u001b[0m\u001b[0;34m(\u001b[0m\u001b[0mself\u001b[0m\u001b[0;34m)\u001b[0m\u001b[0;34m:\u001b[0m\u001b[0;34m\u001b[0m\u001b[0;34m\u001b[0m\u001b[0m\n",
      "\u001b[0;32m~/.local/lib/python3.8/site-packages/joblib/parallel.py\u001b[0m in \u001b[0;36m__call__\u001b[0;34m(self)\u001b[0m\n\u001b[1;32m    260\u001b[0m         \u001b[0;31m# change the default number of processes to -1\u001b[0m\u001b[0;34m\u001b[0m\u001b[0;34m\u001b[0m\u001b[0;34m\u001b[0m\u001b[0m\n\u001b[1;32m    261\u001b[0m         \u001b[0;32mwith\u001b[0m \u001b[0mparallel_backend\u001b[0m\u001b[0;34m(\u001b[0m\u001b[0mself\u001b[0m\u001b[0;34m.\u001b[0m\u001b[0m_backend\u001b[0m\u001b[0;34m,\u001b[0m \u001b[0mn_jobs\u001b[0m\u001b[0;34m=\u001b[0m\u001b[0mself\u001b[0m\u001b[0;34m.\u001b[0m\u001b[0m_n_jobs\u001b[0m\u001b[0;34m)\u001b[0m\u001b[0;34m:\u001b[0m\u001b[0;34m\u001b[0m\u001b[0;34m\u001b[0m\u001b[0m\n\u001b[0;32m--> 262\u001b[0;31m             return [func(*args, **kwargs)\n\u001b[0m\u001b[1;32m    263\u001b[0m                     for func, args, kwargs in self.items]\n\u001b[1;32m    264\u001b[0m \u001b[0;34m\u001b[0m\u001b[0m\n",
      "\u001b[0;32m~/.local/lib/python3.8/site-packages/joblib/parallel.py\u001b[0m in \u001b[0;36m<listcomp>\u001b[0;34m(.0)\u001b[0m\n\u001b[1;32m    260\u001b[0m         \u001b[0;31m# change the default number of processes to -1\u001b[0m\u001b[0;34m\u001b[0m\u001b[0;34m\u001b[0m\u001b[0;34m\u001b[0m\u001b[0m\n\u001b[1;32m    261\u001b[0m         \u001b[0;32mwith\u001b[0m \u001b[0mparallel_backend\u001b[0m\u001b[0;34m(\u001b[0m\u001b[0mself\u001b[0m\u001b[0;34m.\u001b[0m\u001b[0m_backend\u001b[0m\u001b[0;34m,\u001b[0m \u001b[0mn_jobs\u001b[0m\u001b[0;34m=\u001b[0m\u001b[0mself\u001b[0m\u001b[0;34m.\u001b[0m\u001b[0m_n_jobs\u001b[0m\u001b[0;34m)\u001b[0m\u001b[0;34m:\u001b[0m\u001b[0;34m\u001b[0m\u001b[0;34m\u001b[0m\u001b[0m\n\u001b[0;32m--> 262\u001b[0;31m             return [func(*args, **kwargs)\n\u001b[0m\u001b[1;32m    263\u001b[0m                     for func, args, kwargs in self.items]\n\u001b[1;32m    264\u001b[0m \u001b[0;34m\u001b[0m\u001b[0m\n",
      "\u001b[0;32m~/opt/anaconda3/lib/python3.8/site-packages/sklearn/utils/fixes.py\u001b[0m in \u001b[0;36m__call__\u001b[0;34m(self, *args, **kwargs)\u001b[0m\n\u001b[1;32m    220\u001b[0m     \u001b[0;32mdef\u001b[0m \u001b[0m__call__\u001b[0m\u001b[0;34m(\u001b[0m\u001b[0mself\u001b[0m\u001b[0;34m,\u001b[0m \u001b[0;34m*\u001b[0m\u001b[0margs\u001b[0m\u001b[0;34m,\u001b[0m \u001b[0;34m**\u001b[0m\u001b[0mkwargs\u001b[0m\u001b[0;34m)\u001b[0m\u001b[0;34m:\u001b[0m\u001b[0;34m\u001b[0m\u001b[0;34m\u001b[0m\u001b[0m\n\u001b[1;32m    221\u001b[0m         \u001b[0;32mwith\u001b[0m \u001b[0mconfig_context\u001b[0m\u001b[0;34m(\u001b[0m\u001b[0;34m**\u001b[0m\u001b[0mself\u001b[0m\u001b[0;34m.\u001b[0m\u001b[0mconfig\u001b[0m\u001b[0;34m)\u001b[0m\u001b[0;34m:\u001b[0m\u001b[0;34m\u001b[0m\u001b[0;34m\u001b[0m\u001b[0m\n\u001b[0;32m--> 222\u001b[0;31m             \u001b[0;32mreturn\u001b[0m \u001b[0mself\u001b[0m\u001b[0;34m.\u001b[0m\u001b[0mfunction\u001b[0m\u001b[0;34m(\u001b[0m\u001b[0;34m*\u001b[0m\u001b[0margs\u001b[0m\u001b[0;34m,\u001b[0m \u001b[0;34m**\u001b[0m\u001b[0mkwargs\u001b[0m\u001b[0;34m)\u001b[0m\u001b[0;34m\u001b[0m\u001b[0;34m\u001b[0m\u001b[0m\n\u001b[0m",
      "\u001b[0;32m~/opt/anaconda3/lib/python3.8/site-packages/sklearn/ensemble/_forest.py\u001b[0m in \u001b[0;36m_parallel_build_trees\u001b[0;34m(tree, forest, X, y, sample_weight, tree_idx, n_trees, verbose, class_weight, n_samples_bootstrap)\u001b[0m\n\u001b[1;32m    167\u001b[0m                                                         indices=indices)\n\u001b[1;32m    168\u001b[0m \u001b[0;34m\u001b[0m\u001b[0m\n\u001b[0;32m--> 169\u001b[0;31m         \u001b[0mtree\u001b[0m\u001b[0;34m.\u001b[0m\u001b[0mfit\u001b[0m\u001b[0;34m(\u001b[0m\u001b[0mX\u001b[0m\u001b[0;34m,\u001b[0m \u001b[0my\u001b[0m\u001b[0;34m,\u001b[0m \u001b[0msample_weight\u001b[0m\u001b[0;34m=\u001b[0m\u001b[0mcurr_sample_weight\u001b[0m\u001b[0;34m,\u001b[0m \u001b[0mcheck_input\u001b[0m\u001b[0;34m=\u001b[0m\u001b[0;32mFalse\u001b[0m\u001b[0;34m)\u001b[0m\u001b[0;34m\u001b[0m\u001b[0;34m\u001b[0m\u001b[0m\n\u001b[0m\u001b[1;32m    170\u001b[0m     \u001b[0;32melse\u001b[0m\u001b[0;34m:\u001b[0m\u001b[0;34m\u001b[0m\u001b[0;34m\u001b[0m\u001b[0m\n\u001b[1;32m    171\u001b[0m         \u001b[0mtree\u001b[0m\u001b[0;34m.\u001b[0m\u001b[0mfit\u001b[0m\u001b[0;34m(\u001b[0m\u001b[0mX\u001b[0m\u001b[0;34m,\u001b[0m \u001b[0my\u001b[0m\u001b[0;34m,\u001b[0m \u001b[0msample_weight\u001b[0m\u001b[0;34m=\u001b[0m\u001b[0msample_weight\u001b[0m\u001b[0;34m,\u001b[0m \u001b[0mcheck_input\u001b[0m\u001b[0;34m=\u001b[0m\u001b[0;32mFalse\u001b[0m\u001b[0;34m)\u001b[0m\u001b[0;34m\u001b[0m\u001b[0;34m\u001b[0m\u001b[0m\n",
      "\u001b[0;32m~/opt/anaconda3/lib/python3.8/site-packages/sklearn/tree/_classes.py\u001b[0m in \u001b[0;36mfit\u001b[0;34m(self, X, y, sample_weight, check_input, X_idx_sorted)\u001b[0m\n\u001b[1;32m   1245\u001b[0m         \"\"\"\n\u001b[1;32m   1246\u001b[0m \u001b[0;34m\u001b[0m\u001b[0m\n\u001b[0;32m-> 1247\u001b[0;31m         super().fit(\n\u001b[0m\u001b[1;32m   1248\u001b[0m             \u001b[0mX\u001b[0m\u001b[0;34m,\u001b[0m \u001b[0my\u001b[0m\u001b[0;34m,\u001b[0m\u001b[0;34m\u001b[0m\u001b[0;34m\u001b[0m\u001b[0m\n\u001b[1;32m   1249\u001b[0m             \u001b[0msample_weight\u001b[0m\u001b[0;34m=\u001b[0m\u001b[0msample_weight\u001b[0m\u001b[0;34m,\u001b[0m\u001b[0;34m\u001b[0m\u001b[0;34m\u001b[0m\u001b[0m\n",
      "\u001b[0;32m~/opt/anaconda3/lib/python3.8/site-packages/sklearn/tree/_classes.py\u001b[0m in \u001b[0;36mfit\u001b[0;34m(self, X, y, sample_weight, check_input, X_idx_sorted)\u001b[0m\n\u001b[1;32m    143\u001b[0m             X_idx_sorted=\"deprecated\"):\n\u001b[1;32m    144\u001b[0m \u001b[0;34m\u001b[0m\u001b[0m\n\u001b[0;32m--> 145\u001b[0;31m         \u001b[0mrandom_state\u001b[0m \u001b[0;34m=\u001b[0m \u001b[0mcheck_random_state\u001b[0m\u001b[0;34m(\u001b[0m\u001b[0mself\u001b[0m\u001b[0;34m.\u001b[0m\u001b[0mrandom_state\u001b[0m\u001b[0;34m)\u001b[0m\u001b[0;34m\u001b[0m\u001b[0;34m\u001b[0m\u001b[0m\n\u001b[0m\u001b[1;32m    146\u001b[0m \u001b[0;34m\u001b[0m\u001b[0m\n\u001b[1;32m    147\u001b[0m         \u001b[0;32mif\u001b[0m \u001b[0mself\u001b[0m\u001b[0;34m.\u001b[0m\u001b[0mccp_alpha\u001b[0m \u001b[0;34m<\u001b[0m \u001b[0;36m0.0\u001b[0m\u001b[0;34m:\u001b[0m\u001b[0;34m\u001b[0m\u001b[0;34m\u001b[0m\u001b[0m\n",
      "\u001b[0;32m~/opt/anaconda3/lib/python3.8/site-packages/sklearn/utils/validation.py\u001b[0m in \u001b[0;36mcheck_random_state\u001b[0;34m(seed)\u001b[0m\n\u001b[1;32m    881\u001b[0m         \u001b[0;32mreturn\u001b[0m \u001b[0mnp\u001b[0m\u001b[0;34m.\u001b[0m\u001b[0mrandom\u001b[0m\u001b[0;34m.\u001b[0m\u001b[0mmtrand\u001b[0m\u001b[0;34m.\u001b[0m\u001b[0m_rand\u001b[0m\u001b[0;34m\u001b[0m\u001b[0;34m\u001b[0m\u001b[0m\n\u001b[1;32m    882\u001b[0m     \u001b[0;32mif\u001b[0m \u001b[0misinstance\u001b[0m\u001b[0;34m(\u001b[0m\u001b[0mseed\u001b[0m\u001b[0;34m,\u001b[0m \u001b[0mnumbers\u001b[0m\u001b[0;34m.\u001b[0m\u001b[0mIntegral\u001b[0m\u001b[0;34m)\u001b[0m\u001b[0;34m:\u001b[0m\u001b[0;34m\u001b[0m\u001b[0;34m\u001b[0m\u001b[0m\n\u001b[0;32m--> 883\u001b[0;31m         \u001b[0;32mreturn\u001b[0m \u001b[0mnp\u001b[0m\u001b[0;34m.\u001b[0m\u001b[0mrandom\u001b[0m\u001b[0;34m.\u001b[0m\u001b[0mRandomState\u001b[0m\u001b[0;34m(\u001b[0m\u001b[0mseed\u001b[0m\u001b[0;34m)\u001b[0m\u001b[0;34m\u001b[0m\u001b[0;34m\u001b[0m\u001b[0m\n\u001b[0m\u001b[1;32m    884\u001b[0m     \u001b[0;32mif\u001b[0m \u001b[0misinstance\u001b[0m\u001b[0;34m(\u001b[0m\u001b[0mseed\u001b[0m\u001b[0;34m,\u001b[0m \u001b[0mnp\u001b[0m\u001b[0;34m.\u001b[0m\u001b[0mrandom\u001b[0m\u001b[0;34m.\u001b[0m\u001b[0mRandomState\u001b[0m\u001b[0;34m)\u001b[0m\u001b[0;34m:\u001b[0m\u001b[0;34m\u001b[0m\u001b[0;34m\u001b[0m\u001b[0m\n\u001b[1;32m    885\u001b[0m         \u001b[0;32mreturn\u001b[0m \u001b[0mseed\u001b[0m\u001b[0;34m\u001b[0m\u001b[0;34m\u001b[0m\u001b[0m\n",
      "\u001b[0;32mmtrand.pyx\u001b[0m in \u001b[0;36mnumpy.random.mtrand.RandomState.__init__\u001b[0;34m()\u001b[0m\n",
      "\u001b[0;32m_mt19937.pyx\u001b[0m in \u001b[0;36mnumpy.random._mt19937.MT19937.__init__\u001b[0;34m()\u001b[0m\n",
      "\u001b[0;32m~/opt/anaconda3/lib/python3.8/contextlib.py\u001b[0m in \u001b[0;36minner\u001b[0;34m(*args, **kwds)\u001b[0m\n\u001b[1;32m     73\u001b[0m         \u001b[0;32mdef\u001b[0m \u001b[0minner\u001b[0m\u001b[0;34m(\u001b[0m\u001b[0;34m*\u001b[0m\u001b[0margs\u001b[0m\u001b[0;34m,\u001b[0m \u001b[0;34m**\u001b[0m\u001b[0mkwds\u001b[0m\u001b[0;34m)\u001b[0m\u001b[0;34m:\u001b[0m\u001b[0;34m\u001b[0m\u001b[0;34m\u001b[0m\u001b[0m\n\u001b[1;32m     74\u001b[0m             \u001b[0;32mwith\u001b[0m \u001b[0mself\u001b[0m\u001b[0;34m.\u001b[0m\u001b[0m_recreate_cm\u001b[0m\u001b[0;34m(\u001b[0m\u001b[0;34m)\u001b[0m\u001b[0;34m:\u001b[0m\u001b[0;34m\u001b[0m\u001b[0;34m\u001b[0m\u001b[0m\n\u001b[0;32m---> 75\u001b[0;31m                 \u001b[0;32mreturn\u001b[0m \u001b[0mfunc\u001b[0m\u001b[0;34m(\u001b[0m\u001b[0;34m*\u001b[0m\u001b[0margs\u001b[0m\u001b[0;34m,\u001b[0m \u001b[0;34m**\u001b[0m\u001b[0mkwds\u001b[0m\u001b[0;34m)\u001b[0m\u001b[0;34m\u001b[0m\u001b[0;34m\u001b[0m\u001b[0m\n\u001b[0m\u001b[1;32m     76\u001b[0m         \u001b[0;32mreturn\u001b[0m \u001b[0minner\u001b[0m\u001b[0;34m\u001b[0m\u001b[0;34m\u001b[0m\u001b[0m\n\u001b[1;32m     77\u001b[0m \u001b[0;34m\u001b[0m\u001b[0m\n",
      "\u001b[0;31mKeyboardInterrupt\u001b[0m: "
     ]
    }
   ],
   "source": [
    "# randomforest selection\n",
    "from sklearn.model_selection import cross_val_score, ShuffleSplit\n",
    "from sklearn.ensemble import RandomForestRegressor\n",
    "\n",
    "rf = RandomForestRegressor(n_estimators=2, max_depth=4)\n",
    "rf_scores = []\n",
    "# select individual feature and do cross-validation\n",
    "for i in range(fX.shape[1]):\n",
    "    score = cross_val_score(rf,fX[:, i:i+1], fy, scoring=\"r2\", \n",
    "                            cv=ShuffleSplit(len(fX), test_size=0.3))\n",
    "    rf_scores.append((format(np.mean(score), '.3f'), molt.columns[i]))\n",
    "print(sorted(rf_scores, reverse=True))"
   ]
  },
  {
   "cell_type": "code",
   "execution_count": 175,
   "id": "6f623266",
   "metadata": {
    "ExecuteTime": {
     "end_time": "2021-10-15T01:54:55.314179Z",
     "start_time": "2021-10-15T01:53:37.190895Z"
    }
   },
   "outputs": [
    {
     "data": {
      "text/plain": [
       "Index(['ATSc4', 'BCUTc-1l', 'BCUTp-1h', 'C1SP2', 'C3SP2', 'VC-6', 'SHCsats',\n",
       "       'mindsCH', 'minsssN', 'minsOH', 'mindO', 'maxHBd', 'maxHBint8',\n",
       "       'maxsssCH', 'MAXDP2', 'ETA_dEpsilon_D', 'MDEC-23', 'MDEC-24', 'MLFER_A',\n",
       "       'WTPT-5'],\n",
       "      dtype='object')"
      ]
     },
     "execution_count": 175,
     "metadata": {},
     "output_type": "execute_result"
    }
   ],
   "source": [
    "# forward feature selection\n",
    "from sklearn.feature_selection import SequentialFeatureSelector\n",
    "from sklearn.linear_model import LogisticRegression\n",
    "from sklearn.linear_model import LinearRegression\n",
    "\n",
    "lor = LogisticRegression()\n",
    "lr = LinearRegression()\n",
    "sfs = SequentialFeatureSelector(lr, \n",
    "                                n_features_to_select=20, \n",
    "                                direction='forward',\n",
    "                                scoring='neg_mean_squared_error',\n",
    "                                cv=5)\n",
    "sfs.fit(fX,fy)\n",
    "sfs_sup = sfs.get_support()\n",
    "fea_sfs_lr = [i for i in range(len(sfs_sup)) if sfs_sup[i]]\n",
    "molt.columns[fea_sfs_lr]"
   ]
  },
  {
   "cell_type": "code",
   "execution_count": 177,
   "id": "a4afbf48",
   "metadata": {
    "ExecuteTime": {
     "end_time": "2021-10-15T02:21:18.321963Z",
     "start_time": "2021-10-15T02:06:37.748402Z"
    }
   },
   "outputs": [
    {
     "ename": "KeyboardInterrupt",
     "evalue": "",
     "output_type": "error",
     "traceback": [
      "\u001b[0;31m---------------------------------------------------------------------------\u001b[0m",
      "\u001b[0;31mKeyboardInterrupt\u001b[0m                         Traceback (most recent call last)",
      "\u001b[0;32m<ipython-input-177-61be33e4b905>\u001b[0m in \u001b[0;36m<module>\u001b[0;34m\u001b[0m\n\u001b[1;32m      5\u001b[0m                                 \u001b[0mscoring\u001b[0m\u001b[0;34m=\u001b[0m\u001b[0;34m'neg_mean_squared_error'\u001b[0m\u001b[0;34m,\u001b[0m\u001b[0;34m\u001b[0m\u001b[0;34m\u001b[0m\u001b[0m\n\u001b[1;32m      6\u001b[0m                                 cv=5)\n\u001b[0;32m----> 7\u001b[0;31m \u001b[0msfs\u001b[0m\u001b[0;34m.\u001b[0m\u001b[0mfit\u001b[0m\u001b[0;34m(\u001b[0m\u001b[0mfX\u001b[0m\u001b[0;34m,\u001b[0m\u001b[0mfy\u001b[0m\u001b[0;34m)\u001b[0m\u001b[0;34m\u001b[0m\u001b[0;34m\u001b[0m\u001b[0m\n\u001b[0m\u001b[1;32m      8\u001b[0m \u001b[0msfs_sup\u001b[0m \u001b[0;34m=\u001b[0m \u001b[0msfs\u001b[0m\u001b[0;34m.\u001b[0m\u001b[0mget_support\u001b[0m\u001b[0;34m(\u001b[0m\u001b[0;34m)\u001b[0m\u001b[0;34m\u001b[0m\u001b[0;34m\u001b[0m\u001b[0m\n\u001b[1;32m      9\u001b[0m \u001b[0mfea_sfs_lr\u001b[0m \u001b[0;34m=\u001b[0m \u001b[0;34m[\u001b[0m\u001b[0mi\u001b[0m \u001b[0;32mfor\u001b[0m \u001b[0mi\u001b[0m \u001b[0;32min\u001b[0m \u001b[0mrange\u001b[0m\u001b[0;34m(\u001b[0m\u001b[0mlen\u001b[0m\u001b[0;34m(\u001b[0m\u001b[0msfs_sup\u001b[0m\u001b[0;34m)\u001b[0m\u001b[0;34m)\u001b[0m \u001b[0;32mif\u001b[0m \u001b[0msfs_sup\u001b[0m\u001b[0;34m[\u001b[0m\u001b[0mi\u001b[0m\u001b[0;34m]\u001b[0m\u001b[0;34m]\u001b[0m\u001b[0;34m\u001b[0m\u001b[0;34m\u001b[0m\u001b[0m\n",
      "\u001b[0;32m~/opt/anaconda3/lib/python3.8/site-packages/sklearn/feature_selection/_sequential.py\u001b[0m in \u001b[0;36mfit\u001b[0;34m(self, X, y)\u001b[0m\n\u001b[1;32m    176\u001b[0m         )\n\u001b[1;32m    177\u001b[0m         \u001b[0;32mfor\u001b[0m \u001b[0m_\u001b[0m \u001b[0;32min\u001b[0m \u001b[0mrange\u001b[0m\u001b[0;34m(\u001b[0m\u001b[0mn_iterations\u001b[0m\u001b[0;34m)\u001b[0m\u001b[0;34m:\u001b[0m\u001b[0;34m\u001b[0m\u001b[0;34m\u001b[0m\u001b[0m\n\u001b[0;32m--> 178\u001b[0;31m             new_feature_idx = self._get_best_new_feature(cloned_estimator, X,\n\u001b[0m\u001b[1;32m    179\u001b[0m                                                          y, current_mask)\n\u001b[1;32m    180\u001b[0m             \u001b[0mcurrent_mask\u001b[0m\u001b[0;34m[\u001b[0m\u001b[0mnew_feature_idx\u001b[0m\u001b[0;34m]\u001b[0m \u001b[0;34m=\u001b[0m \u001b[0;32mTrue\u001b[0m\u001b[0;34m\u001b[0m\u001b[0;34m\u001b[0m\u001b[0m\n",
      "\u001b[0;32m~/opt/anaconda3/lib/python3.8/site-packages/sklearn/feature_selection/_sequential.py\u001b[0m in \u001b[0;36m_get_best_new_feature\u001b[0;34m(self, estimator, X, y, current_mask)\u001b[0m\n\u001b[1;32m    198\u001b[0m                 \u001b[0mcandidate_mask\u001b[0m \u001b[0;34m=\u001b[0m \u001b[0;34m~\u001b[0m\u001b[0mcandidate_mask\u001b[0m\u001b[0;34m\u001b[0m\u001b[0;34m\u001b[0m\u001b[0m\n\u001b[1;32m    199\u001b[0m             \u001b[0mX_new\u001b[0m \u001b[0;34m=\u001b[0m \u001b[0mX\u001b[0m\u001b[0;34m[\u001b[0m\u001b[0;34m:\u001b[0m\u001b[0;34m,\u001b[0m \u001b[0mcandidate_mask\u001b[0m\u001b[0;34m]\u001b[0m\u001b[0;34m\u001b[0m\u001b[0;34m\u001b[0m\u001b[0m\n\u001b[0;32m--> 200\u001b[0;31m             scores[feature_idx] = cross_val_score(\n\u001b[0m\u001b[1;32m    201\u001b[0m                 \u001b[0mestimator\u001b[0m\u001b[0;34m,\u001b[0m \u001b[0mX_new\u001b[0m\u001b[0;34m,\u001b[0m \u001b[0my\u001b[0m\u001b[0;34m,\u001b[0m \u001b[0mcv\u001b[0m\u001b[0;34m=\u001b[0m\u001b[0mself\u001b[0m\u001b[0;34m.\u001b[0m\u001b[0mcv\u001b[0m\u001b[0;34m,\u001b[0m \u001b[0mscoring\u001b[0m\u001b[0;34m=\u001b[0m\u001b[0mself\u001b[0m\u001b[0;34m.\u001b[0m\u001b[0mscoring\u001b[0m\u001b[0;34m,\u001b[0m\u001b[0;34m\u001b[0m\u001b[0;34m\u001b[0m\u001b[0m\n\u001b[1;32m    202\u001b[0m                 n_jobs=self.n_jobs).mean()\n",
      "\u001b[0;32m~/opt/anaconda3/lib/python3.8/site-packages/sklearn/utils/validation.py\u001b[0m in \u001b[0;36minner_f\u001b[0;34m(*args, **kwargs)\u001b[0m\n\u001b[1;32m     61\u001b[0m             \u001b[0mextra_args\u001b[0m \u001b[0;34m=\u001b[0m \u001b[0mlen\u001b[0m\u001b[0;34m(\u001b[0m\u001b[0margs\u001b[0m\u001b[0;34m)\u001b[0m \u001b[0;34m-\u001b[0m \u001b[0mlen\u001b[0m\u001b[0;34m(\u001b[0m\u001b[0mall_args\u001b[0m\u001b[0;34m)\u001b[0m\u001b[0;34m\u001b[0m\u001b[0;34m\u001b[0m\u001b[0m\n\u001b[1;32m     62\u001b[0m             \u001b[0;32mif\u001b[0m \u001b[0mextra_args\u001b[0m \u001b[0;34m<=\u001b[0m \u001b[0;36m0\u001b[0m\u001b[0;34m:\u001b[0m\u001b[0;34m\u001b[0m\u001b[0;34m\u001b[0m\u001b[0m\n\u001b[0;32m---> 63\u001b[0;31m                 \u001b[0;32mreturn\u001b[0m \u001b[0mf\u001b[0m\u001b[0;34m(\u001b[0m\u001b[0;34m*\u001b[0m\u001b[0margs\u001b[0m\u001b[0;34m,\u001b[0m \u001b[0;34m**\u001b[0m\u001b[0mkwargs\u001b[0m\u001b[0;34m)\u001b[0m\u001b[0;34m\u001b[0m\u001b[0;34m\u001b[0m\u001b[0m\n\u001b[0m\u001b[1;32m     64\u001b[0m \u001b[0;34m\u001b[0m\u001b[0m\n\u001b[1;32m     65\u001b[0m             \u001b[0;31m# extra_args > 0\u001b[0m\u001b[0;34m\u001b[0m\u001b[0;34m\u001b[0m\u001b[0;34m\u001b[0m\u001b[0m\n",
      "\u001b[0;32m~/opt/anaconda3/lib/python3.8/site-packages/sklearn/model_selection/_validation.py\u001b[0m in \u001b[0;36mcross_val_score\u001b[0;34m(estimator, X, y, groups, scoring, cv, n_jobs, verbose, fit_params, pre_dispatch, error_score)\u001b[0m\n\u001b[1;32m    438\u001b[0m     \u001b[0mscorer\u001b[0m \u001b[0;34m=\u001b[0m \u001b[0mcheck_scoring\u001b[0m\u001b[0;34m(\u001b[0m\u001b[0mestimator\u001b[0m\u001b[0;34m,\u001b[0m \u001b[0mscoring\u001b[0m\u001b[0;34m=\u001b[0m\u001b[0mscoring\u001b[0m\u001b[0;34m)\u001b[0m\u001b[0;34m\u001b[0m\u001b[0;34m\u001b[0m\u001b[0m\n\u001b[1;32m    439\u001b[0m \u001b[0;34m\u001b[0m\u001b[0m\n\u001b[0;32m--> 440\u001b[0;31m     cv_results = cross_validate(estimator=estimator, X=X, y=y, groups=groups,\n\u001b[0m\u001b[1;32m    441\u001b[0m                                 \u001b[0mscoring\u001b[0m\u001b[0;34m=\u001b[0m\u001b[0;34m{\u001b[0m\u001b[0;34m'score'\u001b[0m\u001b[0;34m:\u001b[0m \u001b[0mscorer\u001b[0m\u001b[0;34m}\u001b[0m\u001b[0;34m,\u001b[0m \u001b[0mcv\u001b[0m\u001b[0;34m=\u001b[0m\u001b[0mcv\u001b[0m\u001b[0;34m,\u001b[0m\u001b[0;34m\u001b[0m\u001b[0;34m\u001b[0m\u001b[0m\n\u001b[1;32m    442\u001b[0m                                 \u001b[0mn_jobs\u001b[0m\u001b[0;34m=\u001b[0m\u001b[0mn_jobs\u001b[0m\u001b[0;34m,\u001b[0m \u001b[0mverbose\u001b[0m\u001b[0;34m=\u001b[0m\u001b[0mverbose\u001b[0m\u001b[0;34m,\u001b[0m\u001b[0;34m\u001b[0m\u001b[0;34m\u001b[0m\u001b[0m\n",
      "\u001b[0;32m~/opt/anaconda3/lib/python3.8/site-packages/sklearn/utils/validation.py\u001b[0m in \u001b[0;36minner_f\u001b[0;34m(*args, **kwargs)\u001b[0m\n\u001b[1;32m     61\u001b[0m             \u001b[0mextra_args\u001b[0m \u001b[0;34m=\u001b[0m \u001b[0mlen\u001b[0m\u001b[0;34m(\u001b[0m\u001b[0margs\u001b[0m\u001b[0;34m)\u001b[0m \u001b[0;34m-\u001b[0m \u001b[0mlen\u001b[0m\u001b[0;34m(\u001b[0m\u001b[0mall_args\u001b[0m\u001b[0;34m)\u001b[0m\u001b[0;34m\u001b[0m\u001b[0;34m\u001b[0m\u001b[0m\n\u001b[1;32m     62\u001b[0m             \u001b[0;32mif\u001b[0m \u001b[0mextra_args\u001b[0m \u001b[0;34m<=\u001b[0m \u001b[0;36m0\u001b[0m\u001b[0;34m:\u001b[0m\u001b[0;34m\u001b[0m\u001b[0;34m\u001b[0m\u001b[0m\n\u001b[0;32m---> 63\u001b[0;31m                 \u001b[0;32mreturn\u001b[0m \u001b[0mf\u001b[0m\u001b[0;34m(\u001b[0m\u001b[0;34m*\u001b[0m\u001b[0margs\u001b[0m\u001b[0;34m,\u001b[0m \u001b[0;34m**\u001b[0m\u001b[0mkwargs\u001b[0m\u001b[0;34m)\u001b[0m\u001b[0;34m\u001b[0m\u001b[0;34m\u001b[0m\u001b[0m\n\u001b[0m\u001b[1;32m     64\u001b[0m \u001b[0;34m\u001b[0m\u001b[0m\n\u001b[1;32m     65\u001b[0m             \u001b[0;31m# extra_args > 0\u001b[0m\u001b[0;34m\u001b[0m\u001b[0;34m\u001b[0m\u001b[0;34m\u001b[0m\u001b[0m\n",
      "\u001b[0;32m~/opt/anaconda3/lib/python3.8/site-packages/sklearn/model_selection/_validation.py\u001b[0m in \u001b[0;36mcross_validate\u001b[0;34m(estimator, X, y, groups, scoring, cv, n_jobs, verbose, fit_params, pre_dispatch, return_train_score, return_estimator, error_score)\u001b[0m\n\u001b[1;32m    244\u001b[0m     parallel = Parallel(n_jobs=n_jobs, verbose=verbose,\n\u001b[1;32m    245\u001b[0m                         pre_dispatch=pre_dispatch)\n\u001b[0;32m--> 246\u001b[0;31m     results = parallel(\n\u001b[0m\u001b[1;32m    247\u001b[0m         delayed(_fit_and_score)(\n\u001b[1;32m    248\u001b[0m             \u001b[0mclone\u001b[0m\u001b[0;34m(\u001b[0m\u001b[0mestimator\u001b[0m\u001b[0;34m)\u001b[0m\u001b[0;34m,\u001b[0m \u001b[0mX\u001b[0m\u001b[0;34m,\u001b[0m \u001b[0my\u001b[0m\u001b[0;34m,\u001b[0m \u001b[0mscorers\u001b[0m\u001b[0;34m,\u001b[0m \u001b[0mtrain\u001b[0m\u001b[0;34m,\u001b[0m \u001b[0mtest\u001b[0m\u001b[0;34m,\u001b[0m \u001b[0mverbose\u001b[0m\u001b[0;34m,\u001b[0m \u001b[0;32mNone\u001b[0m\u001b[0;34m,\u001b[0m\u001b[0;34m\u001b[0m\u001b[0;34m\u001b[0m\u001b[0m\n",
      "\u001b[0;32m~/.local/lib/python3.8/site-packages/joblib/parallel.py\u001b[0m in \u001b[0;36m__call__\u001b[0;34m(self, iterable)\u001b[0m\n\u001b[1;32m   1042\u001b[0m                 \u001b[0mself\u001b[0m\u001b[0;34m.\u001b[0m\u001b[0m_iterating\u001b[0m \u001b[0;34m=\u001b[0m \u001b[0mself\u001b[0m\u001b[0;34m.\u001b[0m\u001b[0m_original_iterator\u001b[0m \u001b[0;32mis\u001b[0m \u001b[0;32mnot\u001b[0m \u001b[0;32mNone\u001b[0m\u001b[0;34m\u001b[0m\u001b[0;34m\u001b[0m\u001b[0m\n\u001b[1;32m   1043\u001b[0m \u001b[0;34m\u001b[0m\u001b[0m\n\u001b[0;32m-> 1044\u001b[0;31m             \u001b[0;32mwhile\u001b[0m \u001b[0mself\u001b[0m\u001b[0;34m.\u001b[0m\u001b[0mdispatch_one_batch\u001b[0m\u001b[0;34m(\u001b[0m\u001b[0miterator\u001b[0m\u001b[0;34m)\u001b[0m\u001b[0;34m:\u001b[0m\u001b[0;34m\u001b[0m\u001b[0;34m\u001b[0m\u001b[0m\n\u001b[0m\u001b[1;32m   1045\u001b[0m                 \u001b[0;32mpass\u001b[0m\u001b[0;34m\u001b[0m\u001b[0;34m\u001b[0m\u001b[0m\n\u001b[1;32m   1046\u001b[0m \u001b[0;34m\u001b[0m\u001b[0m\n",
      "\u001b[0;32m~/.local/lib/python3.8/site-packages/joblib/parallel.py\u001b[0m in \u001b[0;36mdispatch_one_batch\u001b[0;34m(self, iterator)\u001b[0m\n\u001b[1;32m    857\u001b[0m                 \u001b[0;32mreturn\u001b[0m \u001b[0;32mFalse\u001b[0m\u001b[0;34m\u001b[0m\u001b[0;34m\u001b[0m\u001b[0m\n\u001b[1;32m    858\u001b[0m             \u001b[0;32melse\u001b[0m\u001b[0;34m:\u001b[0m\u001b[0;34m\u001b[0m\u001b[0;34m\u001b[0m\u001b[0m\n\u001b[0;32m--> 859\u001b[0;31m                 \u001b[0mself\u001b[0m\u001b[0;34m.\u001b[0m\u001b[0m_dispatch\u001b[0m\u001b[0;34m(\u001b[0m\u001b[0mtasks\u001b[0m\u001b[0;34m)\u001b[0m\u001b[0;34m\u001b[0m\u001b[0;34m\u001b[0m\u001b[0m\n\u001b[0m\u001b[1;32m    860\u001b[0m                 \u001b[0;32mreturn\u001b[0m \u001b[0;32mTrue\u001b[0m\u001b[0;34m\u001b[0m\u001b[0;34m\u001b[0m\u001b[0m\n\u001b[1;32m    861\u001b[0m \u001b[0;34m\u001b[0m\u001b[0m\n",
      "\u001b[0;32m~/.local/lib/python3.8/site-packages/joblib/parallel.py\u001b[0m in \u001b[0;36m_dispatch\u001b[0;34m(self, batch)\u001b[0m\n\u001b[1;32m    775\u001b[0m         \u001b[0;32mwith\u001b[0m \u001b[0mself\u001b[0m\u001b[0;34m.\u001b[0m\u001b[0m_lock\u001b[0m\u001b[0;34m:\u001b[0m\u001b[0;34m\u001b[0m\u001b[0;34m\u001b[0m\u001b[0m\n\u001b[1;32m    776\u001b[0m             \u001b[0mjob_idx\u001b[0m \u001b[0;34m=\u001b[0m \u001b[0mlen\u001b[0m\u001b[0;34m(\u001b[0m\u001b[0mself\u001b[0m\u001b[0;34m.\u001b[0m\u001b[0m_jobs\u001b[0m\u001b[0;34m)\u001b[0m\u001b[0;34m\u001b[0m\u001b[0;34m\u001b[0m\u001b[0m\n\u001b[0;32m--> 777\u001b[0;31m             \u001b[0mjob\u001b[0m \u001b[0;34m=\u001b[0m \u001b[0mself\u001b[0m\u001b[0;34m.\u001b[0m\u001b[0m_backend\u001b[0m\u001b[0;34m.\u001b[0m\u001b[0mapply_async\u001b[0m\u001b[0;34m(\u001b[0m\u001b[0mbatch\u001b[0m\u001b[0;34m,\u001b[0m \u001b[0mcallback\u001b[0m\u001b[0;34m=\u001b[0m\u001b[0mcb\u001b[0m\u001b[0;34m)\u001b[0m\u001b[0;34m\u001b[0m\u001b[0;34m\u001b[0m\u001b[0m\n\u001b[0m\u001b[1;32m    778\u001b[0m             \u001b[0;31m# A job can complete so quickly than its callback is\u001b[0m\u001b[0;34m\u001b[0m\u001b[0;34m\u001b[0m\u001b[0;34m\u001b[0m\u001b[0m\n\u001b[1;32m    779\u001b[0m             \u001b[0;31m# called before we get here, causing self._jobs to\u001b[0m\u001b[0;34m\u001b[0m\u001b[0;34m\u001b[0m\u001b[0;34m\u001b[0m\u001b[0m\n",
      "\u001b[0;32m~/.local/lib/python3.8/site-packages/joblib/_parallel_backends.py\u001b[0m in \u001b[0;36mapply_async\u001b[0;34m(self, func, callback)\u001b[0m\n\u001b[1;32m    206\u001b[0m     \u001b[0;32mdef\u001b[0m \u001b[0mapply_async\u001b[0m\u001b[0;34m(\u001b[0m\u001b[0mself\u001b[0m\u001b[0;34m,\u001b[0m \u001b[0mfunc\u001b[0m\u001b[0;34m,\u001b[0m \u001b[0mcallback\u001b[0m\u001b[0;34m=\u001b[0m\u001b[0;32mNone\u001b[0m\u001b[0;34m)\u001b[0m\u001b[0;34m:\u001b[0m\u001b[0;34m\u001b[0m\u001b[0;34m\u001b[0m\u001b[0m\n\u001b[1;32m    207\u001b[0m         \u001b[0;34m\"\"\"Schedule a func to be run\"\"\"\u001b[0m\u001b[0;34m\u001b[0m\u001b[0;34m\u001b[0m\u001b[0m\n\u001b[0;32m--> 208\u001b[0;31m         \u001b[0mresult\u001b[0m \u001b[0;34m=\u001b[0m \u001b[0mImmediateResult\u001b[0m\u001b[0;34m(\u001b[0m\u001b[0mfunc\u001b[0m\u001b[0;34m)\u001b[0m\u001b[0;34m\u001b[0m\u001b[0;34m\u001b[0m\u001b[0m\n\u001b[0m\u001b[1;32m    209\u001b[0m         \u001b[0;32mif\u001b[0m \u001b[0mcallback\u001b[0m\u001b[0;34m:\u001b[0m\u001b[0;34m\u001b[0m\u001b[0;34m\u001b[0m\u001b[0m\n\u001b[1;32m    210\u001b[0m             \u001b[0mcallback\u001b[0m\u001b[0;34m(\u001b[0m\u001b[0mresult\u001b[0m\u001b[0;34m)\u001b[0m\u001b[0;34m\u001b[0m\u001b[0;34m\u001b[0m\u001b[0m\n",
      "\u001b[0;32m~/.local/lib/python3.8/site-packages/joblib/_parallel_backends.py\u001b[0m in \u001b[0;36m__init__\u001b[0;34m(self, batch)\u001b[0m\n\u001b[1;32m    570\u001b[0m         \u001b[0;31m# Don't delay the application, to avoid keeping the input\u001b[0m\u001b[0;34m\u001b[0m\u001b[0;34m\u001b[0m\u001b[0;34m\u001b[0m\u001b[0m\n\u001b[1;32m    571\u001b[0m         \u001b[0;31m# arguments in memory\u001b[0m\u001b[0;34m\u001b[0m\u001b[0;34m\u001b[0m\u001b[0;34m\u001b[0m\u001b[0m\n\u001b[0;32m--> 572\u001b[0;31m         \u001b[0mself\u001b[0m\u001b[0;34m.\u001b[0m\u001b[0mresults\u001b[0m \u001b[0;34m=\u001b[0m \u001b[0mbatch\u001b[0m\u001b[0;34m(\u001b[0m\u001b[0;34m)\u001b[0m\u001b[0;34m\u001b[0m\u001b[0;34m\u001b[0m\u001b[0m\n\u001b[0m\u001b[1;32m    573\u001b[0m \u001b[0;34m\u001b[0m\u001b[0m\n\u001b[1;32m    574\u001b[0m     \u001b[0;32mdef\u001b[0m \u001b[0mget\u001b[0m\u001b[0;34m(\u001b[0m\u001b[0mself\u001b[0m\u001b[0;34m)\u001b[0m\u001b[0;34m:\u001b[0m\u001b[0;34m\u001b[0m\u001b[0;34m\u001b[0m\u001b[0m\n",
      "\u001b[0;32m~/.local/lib/python3.8/site-packages/joblib/parallel.py\u001b[0m in \u001b[0;36m__call__\u001b[0;34m(self)\u001b[0m\n\u001b[1;32m    260\u001b[0m         \u001b[0;31m# change the default number of processes to -1\u001b[0m\u001b[0;34m\u001b[0m\u001b[0;34m\u001b[0m\u001b[0;34m\u001b[0m\u001b[0m\n\u001b[1;32m    261\u001b[0m         \u001b[0;32mwith\u001b[0m \u001b[0mparallel_backend\u001b[0m\u001b[0;34m(\u001b[0m\u001b[0mself\u001b[0m\u001b[0;34m.\u001b[0m\u001b[0m_backend\u001b[0m\u001b[0;34m,\u001b[0m \u001b[0mn_jobs\u001b[0m\u001b[0;34m=\u001b[0m\u001b[0mself\u001b[0m\u001b[0;34m.\u001b[0m\u001b[0m_n_jobs\u001b[0m\u001b[0;34m)\u001b[0m\u001b[0;34m:\u001b[0m\u001b[0;34m\u001b[0m\u001b[0;34m\u001b[0m\u001b[0m\n\u001b[0;32m--> 262\u001b[0;31m             return [func(*args, **kwargs)\n\u001b[0m\u001b[1;32m    263\u001b[0m                     for func, args, kwargs in self.items]\n\u001b[1;32m    264\u001b[0m \u001b[0;34m\u001b[0m\u001b[0m\n",
      "\u001b[0;32m~/.local/lib/python3.8/site-packages/joblib/parallel.py\u001b[0m in \u001b[0;36m<listcomp>\u001b[0;34m(.0)\u001b[0m\n\u001b[1;32m    260\u001b[0m         \u001b[0;31m# change the default number of processes to -1\u001b[0m\u001b[0;34m\u001b[0m\u001b[0;34m\u001b[0m\u001b[0;34m\u001b[0m\u001b[0m\n\u001b[1;32m    261\u001b[0m         \u001b[0;32mwith\u001b[0m \u001b[0mparallel_backend\u001b[0m\u001b[0;34m(\u001b[0m\u001b[0mself\u001b[0m\u001b[0;34m.\u001b[0m\u001b[0m_backend\u001b[0m\u001b[0;34m,\u001b[0m \u001b[0mn_jobs\u001b[0m\u001b[0;34m=\u001b[0m\u001b[0mself\u001b[0m\u001b[0;34m.\u001b[0m\u001b[0m_n_jobs\u001b[0m\u001b[0;34m)\u001b[0m\u001b[0;34m:\u001b[0m\u001b[0;34m\u001b[0m\u001b[0;34m\u001b[0m\u001b[0m\n\u001b[0;32m--> 262\u001b[0;31m             return [func(*args, **kwargs)\n\u001b[0m\u001b[1;32m    263\u001b[0m                     for func, args, kwargs in self.items]\n\u001b[1;32m    264\u001b[0m \u001b[0;34m\u001b[0m\u001b[0m\n",
      "\u001b[0;32m~/opt/anaconda3/lib/python3.8/site-packages/sklearn/utils/fixes.py\u001b[0m in \u001b[0;36m__call__\u001b[0;34m(self, *args, **kwargs)\u001b[0m\n\u001b[1;32m    220\u001b[0m     \u001b[0;32mdef\u001b[0m \u001b[0m__call__\u001b[0m\u001b[0;34m(\u001b[0m\u001b[0mself\u001b[0m\u001b[0;34m,\u001b[0m \u001b[0;34m*\u001b[0m\u001b[0margs\u001b[0m\u001b[0;34m,\u001b[0m \u001b[0;34m**\u001b[0m\u001b[0mkwargs\u001b[0m\u001b[0;34m)\u001b[0m\u001b[0;34m:\u001b[0m\u001b[0;34m\u001b[0m\u001b[0;34m\u001b[0m\u001b[0m\n\u001b[1;32m    221\u001b[0m         \u001b[0;32mwith\u001b[0m \u001b[0mconfig_context\u001b[0m\u001b[0;34m(\u001b[0m\u001b[0;34m**\u001b[0m\u001b[0mself\u001b[0m\u001b[0;34m.\u001b[0m\u001b[0mconfig\u001b[0m\u001b[0;34m)\u001b[0m\u001b[0;34m:\u001b[0m\u001b[0;34m\u001b[0m\u001b[0;34m\u001b[0m\u001b[0m\n\u001b[0;32m--> 222\u001b[0;31m             \u001b[0;32mreturn\u001b[0m \u001b[0mself\u001b[0m\u001b[0;34m.\u001b[0m\u001b[0mfunction\u001b[0m\u001b[0;34m(\u001b[0m\u001b[0;34m*\u001b[0m\u001b[0margs\u001b[0m\u001b[0;34m,\u001b[0m \u001b[0;34m**\u001b[0m\u001b[0mkwargs\u001b[0m\u001b[0;34m)\u001b[0m\u001b[0;34m\u001b[0m\u001b[0;34m\u001b[0m\u001b[0m\n\u001b[0m",
      "\u001b[0;32m~/opt/anaconda3/lib/python3.8/site-packages/sklearn/model_selection/_validation.py\u001b[0m in \u001b[0;36m_fit_and_score\u001b[0;34m(estimator, X, y, scorer, train, test, verbose, parameters, fit_params, return_train_score, return_parameters, return_n_test_samples, return_times, return_estimator, split_progress, candidate_progress, error_score)\u001b[0m\n\u001b[1;32m    591\u001b[0m             \u001b[0mestimator\u001b[0m\u001b[0;34m.\u001b[0m\u001b[0mfit\u001b[0m\u001b[0;34m(\u001b[0m\u001b[0mX_train\u001b[0m\u001b[0;34m,\u001b[0m \u001b[0;34m**\u001b[0m\u001b[0mfit_params\u001b[0m\u001b[0;34m)\u001b[0m\u001b[0;34m\u001b[0m\u001b[0;34m\u001b[0m\u001b[0m\n\u001b[1;32m    592\u001b[0m         \u001b[0;32melse\u001b[0m\u001b[0;34m:\u001b[0m\u001b[0;34m\u001b[0m\u001b[0;34m\u001b[0m\u001b[0m\n\u001b[0;32m--> 593\u001b[0;31m             \u001b[0mestimator\u001b[0m\u001b[0;34m.\u001b[0m\u001b[0mfit\u001b[0m\u001b[0;34m(\u001b[0m\u001b[0mX_train\u001b[0m\u001b[0;34m,\u001b[0m \u001b[0my_train\u001b[0m\u001b[0;34m,\u001b[0m \u001b[0;34m**\u001b[0m\u001b[0mfit_params\u001b[0m\u001b[0;34m)\u001b[0m\u001b[0;34m\u001b[0m\u001b[0;34m\u001b[0m\u001b[0m\n\u001b[0m\u001b[1;32m    594\u001b[0m \u001b[0;34m\u001b[0m\u001b[0m\n\u001b[1;32m    595\u001b[0m     \u001b[0;32mexcept\u001b[0m \u001b[0mException\u001b[0m \u001b[0;32mas\u001b[0m \u001b[0me\u001b[0m\u001b[0;34m:\u001b[0m\u001b[0;34m\u001b[0m\u001b[0;34m\u001b[0m\u001b[0m\n",
      "\u001b[0;32m~/opt/anaconda3/lib/python3.8/site-packages/sklearn/linear_model/_base.py\u001b[0m in \u001b[0;36mfit\u001b[0;34m(self, X, y, sample_weight)\u001b[0m\n\u001b[1;32m    567\u001b[0m         \u001b[0;32melse\u001b[0m\u001b[0;34m:\u001b[0m\u001b[0;34m\u001b[0m\u001b[0;34m\u001b[0m\u001b[0m\n\u001b[1;32m    568\u001b[0m             \u001b[0mself\u001b[0m\u001b[0;34m.\u001b[0m\u001b[0mcoef_\u001b[0m\u001b[0;34m,\u001b[0m \u001b[0mself\u001b[0m\u001b[0;34m.\u001b[0m\u001b[0m_residues\u001b[0m\u001b[0;34m,\u001b[0m \u001b[0mself\u001b[0m\u001b[0;34m.\u001b[0m\u001b[0mrank_\u001b[0m\u001b[0;34m,\u001b[0m \u001b[0mself\u001b[0m\u001b[0;34m.\u001b[0m\u001b[0msingular_\u001b[0m \u001b[0;34m=\u001b[0m\u001b[0;31m \u001b[0m\u001b[0;31m\\\u001b[0m\u001b[0;34m\u001b[0m\u001b[0;34m\u001b[0m\u001b[0m\n\u001b[0;32m--> 569\u001b[0;31m                 \u001b[0mlinalg\u001b[0m\u001b[0;34m.\u001b[0m\u001b[0mlstsq\u001b[0m\u001b[0;34m(\u001b[0m\u001b[0mX\u001b[0m\u001b[0;34m,\u001b[0m \u001b[0my\u001b[0m\u001b[0;34m)\u001b[0m\u001b[0;34m\u001b[0m\u001b[0;34m\u001b[0m\u001b[0m\n\u001b[0m\u001b[1;32m    570\u001b[0m             \u001b[0mself\u001b[0m\u001b[0;34m.\u001b[0m\u001b[0mcoef_\u001b[0m \u001b[0;34m=\u001b[0m \u001b[0mself\u001b[0m\u001b[0;34m.\u001b[0m\u001b[0mcoef_\u001b[0m\u001b[0;34m.\u001b[0m\u001b[0mT\u001b[0m\u001b[0;34m\u001b[0m\u001b[0;34m\u001b[0m\u001b[0m\n\u001b[1;32m    571\u001b[0m \u001b[0;34m\u001b[0m\u001b[0m\n",
      "\u001b[0;32m~/opt/anaconda3/lib/python3.8/site-packages/scipy/linalg/basic.py\u001b[0m in \u001b[0;36mlstsq\u001b[0;34m(a, b, cond, overwrite_a, overwrite_b, check_finite, lapack_driver)\u001b[0m\n\u001b[1;32m   1197\u001b[0m             \u001b[0;32mif\u001b[0m \u001b[0mreal_data\u001b[0m\u001b[0;34m:\u001b[0m\u001b[0;34m\u001b[0m\u001b[0;34m\u001b[0m\u001b[0m\n\u001b[1;32m   1198\u001b[0m                 \u001b[0mlwork\u001b[0m\u001b[0;34m,\u001b[0m \u001b[0miwork\u001b[0m \u001b[0;34m=\u001b[0m \u001b[0m_compute_lwork\u001b[0m\u001b[0;34m(\u001b[0m\u001b[0mlapack_lwork\u001b[0m\u001b[0;34m,\u001b[0m \u001b[0mm\u001b[0m\u001b[0;34m,\u001b[0m \u001b[0mn\u001b[0m\u001b[0;34m,\u001b[0m \u001b[0mnrhs\u001b[0m\u001b[0;34m,\u001b[0m \u001b[0mcond\u001b[0m\u001b[0;34m)\u001b[0m\u001b[0;34m\u001b[0m\u001b[0;34m\u001b[0m\u001b[0m\n\u001b[0;32m-> 1199\u001b[0;31m                 x, s, rank, info = lapack_func(a1, b1, lwork,\n\u001b[0m\u001b[1;32m   1200\u001b[0m                                                iwork, cond, False, False)\n\u001b[1;32m   1201\u001b[0m             \u001b[0;32melse\u001b[0m\u001b[0;34m:\u001b[0m  \u001b[0;31m# complex data\u001b[0m\u001b[0;34m\u001b[0m\u001b[0;34m\u001b[0m\u001b[0m\n",
      "\u001b[0;31mKeyboardInterrupt\u001b[0m: "
     ]
    }
   ],
   "source": [
    "# backward feature selection (occupy much cpu resource)\n",
    "sfs = SequentialFeatureSelector(lr, \n",
    "                                n_features_to_select=1, \n",
    "                                direction='backward',\n",
    "                                scoring='neg_mean_squared_error',\n",
    "                                cv=5)\n",
    "sfs.fit(fX,fy)\n",
    "sfs_sup = sfs.get_support()\n",
    "fea_sfs_lr = [i for i in range(len(sfs_sup)) if sfs_sup[i]]\n",
    "molt.columns[fea_sfs_lr]"
   ]
  },
  {
   "cell_type": "code",
   "execution_count": null,
   "id": "785429c5",
   "metadata": {},
   "outputs": [],
   "source": []
  },
  {
   "cell_type": "markdown",
   "id": "ef91a33e",
   "metadata": {},
   "source": [
    "### 相关性矩阵"
   ]
  },
  {
   "cell_type": "code",
   "execution_count": 94,
   "id": "4e20508f",
   "metadata": {
    "ExecuteTime": {
     "end_time": "2021-10-14T15:17:04.223699Z",
     "start_time": "2021-10-14T15:17:01.970486Z"
    }
   },
   "outputs": [
    {
     "data": {
      "text/html": [
       "<div>\n",
       "<style scoped>\n",
       "    .dataframe tbody tr th:only-of-type {\n",
       "        vertical-align: middle;\n",
       "    }\n",
       "\n",
       "    .dataframe tbody tr th {\n",
       "        vertical-align: top;\n",
       "    }\n",
       "\n",
       "    .dataframe thead th {\n",
       "        text-align: right;\n",
       "    }\n",
       "</style>\n",
       "<table border=\"1\" class=\"dataframe\">\n",
       "  <thead>\n",
       "    <tr style=\"text-align: right;\">\n",
       "      <th></th>\n",
       "      <th>nAcid</th>\n",
       "      <th>ALogP</th>\n",
       "      <th>ALogp2</th>\n",
       "      <th>AMR</th>\n",
       "      <th>apol</th>\n",
       "      <th>naAromAtom</th>\n",
       "      <th>nAromBond</th>\n",
       "      <th>nAtom</th>\n",
       "      <th>nHeavyAtom</th>\n",
       "      <th>nH</th>\n",
       "      <th>...</th>\n",
       "      <th>MW</th>\n",
       "      <th>WTPT-1</th>\n",
       "      <th>WTPT-2</th>\n",
       "      <th>WTPT-3</th>\n",
       "      <th>WTPT-4</th>\n",
       "      <th>WTPT-5</th>\n",
       "      <th>WPATH</th>\n",
       "      <th>WPOL</th>\n",
       "      <th>XLogP</th>\n",
       "      <th>Zagreb</th>\n",
       "    </tr>\n",
       "  </thead>\n",
       "  <tbody>\n",
       "    <tr>\n",
       "      <th>nAcid</th>\n",
       "      <td>1.000000</td>\n",
       "      <td>0.243518</td>\n",
       "      <td>0.091095</td>\n",
       "      <td>0.121448</td>\n",
       "      <td>0.060198</td>\n",
       "      <td>0.134609</td>\n",
       "      <td>0.116454</td>\n",
       "      <td>0.043003</td>\n",
       "      <td>0.121425</td>\n",
       "      <td>-0.018790</td>\n",
       "      <td>...</td>\n",
       "      <td>0.114178</td>\n",
       "      <td>0.114287</td>\n",
       "      <td>-0.112722</td>\n",
       "      <td>0.116382</td>\n",
       "      <td>0.120627</td>\n",
       "      <td>0.004035</td>\n",
       "      <td>0.014814</td>\n",
       "      <td>0.107746</td>\n",
       "      <td>0.004302</td>\n",
       "      <td>0.118274</td>\n",
       "    </tr>\n",
       "    <tr>\n",
       "      <th>ALogP</th>\n",
       "      <td>0.243518</td>\n",
       "      <td>1.000000</td>\n",
       "      <td>-0.255028</td>\n",
       "      <td>-0.074840</td>\n",
       "      <td>-0.250839</td>\n",
       "      <td>0.372740</td>\n",
       "      <td>0.357599</td>\n",
       "      <td>-0.308651</td>\n",
       "      <td>-0.222162</td>\n",
       "      <td>-0.351681</td>\n",
       "      <td>...</td>\n",
       "      <td>-0.240888</td>\n",
       "      <td>-0.205436</td>\n",
       "      <td>0.085229</td>\n",
       "      <td>-0.415552</td>\n",
       "      <td>-0.316737</td>\n",
       "      <td>-0.424806</td>\n",
       "      <td>-0.449348</td>\n",
       "      <td>-0.167517</td>\n",
       "      <td>0.186738</td>\n",
       "      <td>-0.171981</td>\n",
       "    </tr>\n",
       "    <tr>\n",
       "      <th>ALogp2</th>\n",
       "      <td>0.091095</td>\n",
       "      <td>-0.255028</td>\n",
       "      <td>1.000000</td>\n",
       "      <td>0.378497</td>\n",
       "      <td>0.429697</td>\n",
       "      <td>-0.032440</td>\n",
       "      <td>-0.034642</td>\n",
       "      <td>0.444176</td>\n",
       "      <td>0.469659</td>\n",
       "      <td>0.393746</td>\n",
       "      <td>...</td>\n",
       "      <td>0.489044</td>\n",
       "      <td>0.441499</td>\n",
       "      <td>-0.140236</td>\n",
       "      <td>0.535852</td>\n",
       "      <td>0.224825</td>\n",
       "      <td>0.520573</td>\n",
       "      <td>0.935940</td>\n",
       "      <td>0.393896</td>\n",
       "      <td>-0.004351</td>\n",
       "      <td>0.408290</td>\n",
       "    </tr>\n",
       "    <tr>\n",
       "      <th>AMR</th>\n",
       "      <td>0.121448</td>\n",
       "      <td>-0.074840</td>\n",
       "      <td>0.378497</td>\n",
       "      <td>1.000000</td>\n",
       "      <td>0.958476</td>\n",
       "      <td>0.517958</td>\n",
       "      <td>0.451325</td>\n",
       "      <td>0.920754</td>\n",
       "      <td>0.972396</td>\n",
       "      <td>0.817102</td>\n",
       "      <td>...</td>\n",
       "      <td>0.948124</td>\n",
       "      <td>0.977560</td>\n",
       "      <td>0.234581</td>\n",
       "      <td>0.546936</td>\n",
       "      <td>0.436380</td>\n",
       "      <td>0.391155</td>\n",
       "      <td>0.544759</td>\n",
       "      <td>0.907052</td>\n",
       "      <td>0.349198</td>\n",
       "      <td>0.963613</td>\n",
       "    </tr>\n",
       "    <tr>\n",
       "      <th>apol</th>\n",
       "      <td>0.060198</td>\n",
       "      <td>-0.250839</td>\n",
       "      <td>0.429697</td>\n",
       "      <td>0.958476</td>\n",
       "      <td>1.000000</td>\n",
       "      <td>0.294009</td>\n",
       "      <td>0.230697</td>\n",
       "      <td>0.992330</td>\n",
       "      <td>0.968538</td>\n",
       "      <td>0.940150</td>\n",
       "      <td>...</td>\n",
       "      <td>0.945403</td>\n",
       "      <td>0.967090</td>\n",
       "      <td>0.158927</td>\n",
       "      <td>0.528375</td>\n",
       "      <td>0.403285</td>\n",
       "      <td>0.426970</td>\n",
       "      <td>0.609934</td>\n",
       "      <td>0.910283</td>\n",
       "      <td>0.417346</td>\n",
       "      <td>0.946580</td>\n",
       "    </tr>\n",
       "    <tr>\n",
       "      <th>...</th>\n",
       "      <td>...</td>\n",
       "      <td>...</td>\n",
       "      <td>...</td>\n",
       "      <td>...</td>\n",
       "      <td>...</td>\n",
       "      <td>...</td>\n",
       "      <td>...</td>\n",
       "      <td>...</td>\n",
       "      <td>...</td>\n",
       "      <td>...</td>\n",
       "      <td>...</td>\n",
       "      <td>...</td>\n",
       "      <td>...</td>\n",
       "      <td>...</td>\n",
       "      <td>...</td>\n",
       "      <td>...</td>\n",
       "      <td>...</td>\n",
       "      <td>...</td>\n",
       "      <td>...</td>\n",
       "      <td>...</td>\n",
       "      <td>...</td>\n",
       "    </tr>\n",
       "    <tr>\n",
       "      <th>WTPT-5</th>\n",
       "      <td>0.004035</td>\n",
       "      <td>-0.424806</td>\n",
       "      <td>0.520573</td>\n",
       "      <td>0.391155</td>\n",
       "      <td>0.426970</td>\n",
       "      <td>0.064511</td>\n",
       "      <td>0.075692</td>\n",
       "      <td>0.434538</td>\n",
       "      <td>0.473202</td>\n",
       "      <td>0.374912</td>\n",
       "      <td>...</td>\n",
       "      <td>0.493880</td>\n",
       "      <td>0.456155</td>\n",
       "      <td>-0.025577</td>\n",
       "      <td>0.751433</td>\n",
       "      <td>-0.001536</td>\n",
       "      <td>1.000000</td>\n",
       "      <td>0.597059</td>\n",
       "      <td>0.349148</td>\n",
       "      <td>-0.198666</td>\n",
       "      <td>0.420492</td>\n",
       "    </tr>\n",
       "    <tr>\n",
       "      <th>WPATH</th>\n",
       "      <td>0.014814</td>\n",
       "      <td>-0.449348</td>\n",
       "      <td>0.935940</td>\n",
       "      <td>0.544759</td>\n",
       "      <td>0.609934</td>\n",
       "      <td>0.030939</td>\n",
       "      <td>0.018690</td>\n",
       "      <td>0.623473</td>\n",
       "      <td>0.642264</td>\n",
       "      <td>0.565408</td>\n",
       "      <td>...</td>\n",
       "      <td>0.657014</td>\n",
       "      <td>0.618856</td>\n",
       "      <td>-0.061697</td>\n",
       "      <td>0.649472</td>\n",
       "      <td>0.361278</td>\n",
       "      <td>0.597059</td>\n",
       "      <td>1.000000</td>\n",
       "      <td>0.551611</td>\n",
       "      <td>0.010922</td>\n",
       "      <td>0.582261</td>\n",
       "    </tr>\n",
       "    <tr>\n",
       "      <th>WPOL</th>\n",
       "      <td>0.107746</td>\n",
       "      <td>-0.167517</td>\n",
       "      <td>0.393896</td>\n",
       "      <td>0.907052</td>\n",
       "      <td>0.910283</td>\n",
       "      <td>0.316222</td>\n",
       "      <td>0.257757</td>\n",
       "      <td>0.890376</td>\n",
       "      <td>0.935823</td>\n",
       "      <td>0.793509</td>\n",
       "      <td>...</td>\n",
       "      <td>0.905838</td>\n",
       "      <td>0.942272</td>\n",
       "      <td>0.287110</td>\n",
       "      <td>0.541695</td>\n",
       "      <td>0.495769</td>\n",
       "      <td>0.349148</td>\n",
       "      <td>0.551611</td>\n",
       "      <td>1.000000</td>\n",
       "      <td>0.282610</td>\n",
       "      <td>0.967832</td>\n",
       "    </tr>\n",
       "    <tr>\n",
       "      <th>XLogP</th>\n",
       "      <td>0.004302</td>\n",
       "      <td>0.186738</td>\n",
       "      <td>-0.004351</td>\n",
       "      <td>0.349198</td>\n",
       "      <td>0.417346</td>\n",
       "      <td>0.096453</td>\n",
       "      <td>0.077495</td>\n",
       "      <td>0.427641</td>\n",
       "      <td>0.289006</td>\n",
       "      <td>0.501350</td>\n",
       "      <td>...</td>\n",
       "      <td>0.259598</td>\n",
       "      <td>0.290884</td>\n",
       "      <td>0.010232</td>\n",
       "      <td>-0.293713</td>\n",
       "      <td>-0.220903</td>\n",
       "      <td>-0.198666</td>\n",
       "      <td>0.010922</td>\n",
       "      <td>0.282610</td>\n",
       "      <td>1.000000</td>\n",
       "      <td>0.268606</td>\n",
       "    </tr>\n",
       "    <tr>\n",
       "      <th>Zagreb</th>\n",
       "      <td>0.118274</td>\n",
       "      <td>-0.171981</td>\n",
       "      <td>0.408290</td>\n",
       "      <td>0.963613</td>\n",
       "      <td>0.946580</td>\n",
       "      <td>0.423967</td>\n",
       "      <td>0.364357</td>\n",
       "      <td>0.916798</td>\n",
       "      <td>0.983682</td>\n",
       "      <td>0.802004</td>\n",
       "      <td>...</td>\n",
       "      <td>0.957970</td>\n",
       "      <td>0.990143</td>\n",
       "      <td>0.290836</td>\n",
       "      <td>0.619853</td>\n",
       "      <td>0.514149</td>\n",
       "      <td>0.420492</td>\n",
       "      <td>0.582261</td>\n",
       "      <td>0.967832</td>\n",
       "      <td>0.268606</td>\n",
       "      <td>1.000000</td>\n",
       "    </tr>\n",
       "  </tbody>\n",
       "</table>\n",
       "<p>729 rows × 729 columns</p>\n",
       "</div>"
      ],
      "text/plain": [
       "           nAcid     ALogP    ALogp2       AMR      apol  naAromAtom  \\\n",
       "nAcid   1.000000  0.243518  0.091095  0.121448  0.060198    0.134609   \n",
       "ALogP   0.243518  1.000000 -0.255028 -0.074840 -0.250839    0.372740   \n",
       "ALogp2  0.091095 -0.255028  1.000000  0.378497  0.429697   -0.032440   \n",
       "AMR     0.121448 -0.074840  0.378497  1.000000  0.958476    0.517958   \n",
       "apol    0.060198 -0.250839  0.429697  0.958476  1.000000    0.294009   \n",
       "...          ...       ...       ...       ...       ...         ...   \n",
       "WTPT-5  0.004035 -0.424806  0.520573  0.391155  0.426970    0.064511   \n",
       "WPATH   0.014814 -0.449348  0.935940  0.544759  0.609934    0.030939   \n",
       "WPOL    0.107746 -0.167517  0.393896  0.907052  0.910283    0.316222   \n",
       "XLogP   0.004302  0.186738 -0.004351  0.349198  0.417346    0.096453   \n",
       "Zagreb  0.118274 -0.171981  0.408290  0.963613  0.946580    0.423967   \n",
       "\n",
       "        nAromBond     nAtom  nHeavyAtom        nH  ...        MW    WTPT-1  \\\n",
       "nAcid    0.116454  0.043003    0.121425 -0.018790  ...  0.114178  0.114287   \n",
       "ALogP    0.357599 -0.308651   -0.222162 -0.351681  ... -0.240888 -0.205436   \n",
       "ALogp2  -0.034642  0.444176    0.469659  0.393746  ...  0.489044  0.441499   \n",
       "AMR      0.451325  0.920754    0.972396  0.817102  ...  0.948124  0.977560   \n",
       "apol     0.230697  0.992330    0.968538  0.940150  ...  0.945403  0.967090   \n",
       "...           ...       ...         ...       ...  ...       ...       ...   \n",
       "WTPT-5   0.075692  0.434538    0.473202  0.374912  ...  0.493880  0.456155   \n",
       "WPATH    0.018690  0.623473    0.642264  0.565408  ...  0.657014  0.618856   \n",
       "WPOL     0.257757  0.890376    0.935823  0.793509  ...  0.905838  0.942272   \n",
       "XLogP    0.077495  0.427641    0.289006  0.501350  ...  0.259598  0.290884   \n",
       "Zagreb   0.364357  0.916798    0.983682  0.802004  ...  0.957970  0.990143   \n",
       "\n",
       "          WTPT-2    WTPT-3    WTPT-4    WTPT-5     WPATH      WPOL     XLogP  \\\n",
       "nAcid  -0.112722  0.116382  0.120627  0.004035  0.014814  0.107746  0.004302   \n",
       "ALogP   0.085229 -0.415552 -0.316737 -0.424806 -0.449348 -0.167517  0.186738   \n",
       "ALogp2 -0.140236  0.535852  0.224825  0.520573  0.935940  0.393896 -0.004351   \n",
       "AMR     0.234581  0.546936  0.436380  0.391155  0.544759  0.907052  0.349198   \n",
       "apol    0.158927  0.528375  0.403285  0.426970  0.609934  0.910283  0.417346   \n",
       "...          ...       ...       ...       ...       ...       ...       ...   \n",
       "WTPT-5 -0.025577  0.751433 -0.001536  1.000000  0.597059  0.349148 -0.198666   \n",
       "WPATH  -0.061697  0.649472  0.361278  0.597059  1.000000  0.551611  0.010922   \n",
       "WPOL    0.287110  0.541695  0.495769  0.349148  0.551611  1.000000  0.282610   \n",
       "XLogP   0.010232 -0.293713 -0.220903 -0.198666  0.010922  0.282610  1.000000   \n",
       "Zagreb  0.290836  0.619853  0.514149  0.420492  0.582261  0.967832  0.268606   \n",
       "\n",
       "          Zagreb  \n",
       "nAcid   0.118274  \n",
       "ALogP  -0.171981  \n",
       "ALogp2  0.408290  \n",
       "AMR     0.963613  \n",
       "apol    0.946580  \n",
       "...          ...  \n",
       "WTPT-5  0.420492  \n",
       "WPATH   0.582261  \n",
       "WPOL    0.967832  \n",
       "XLogP   0.268606  \n",
       "Zagreb  1.000000  \n",
       "\n",
       "[729 rows x 729 columns]"
      ]
     },
     "execution_count": 94,
     "metadata": {},
     "output_type": "execute_result"
    }
   ],
   "source": [
    "# correlation coefficient (pearman)\n",
    "molt_corr = molt.corr()\n",
    "molt_corr\n",
    "#sns.heatmap(mol_corr, center=0, annot=True, cmap='YlGnBu') # take too much time"
   ]
  },
  {
   "cell_type": "code",
   "execution_count": 96,
   "id": "9e33ca5e",
   "metadata": {
    "ExecuteTime": {
     "end_time": "2021-10-14T15:23:01.542197Z",
     "start_time": "2021-10-14T15:22:57.390265Z"
    }
   },
   "outputs": [
    {
     "data": {
      "text/html": [
       "<div>\n",
       "<style scoped>\n",
       "    .dataframe tbody tr th:only-of-type {\n",
       "        vertical-align: middle;\n",
       "    }\n",
       "\n",
       "    .dataframe tbody tr th {\n",
       "        vertical-align: top;\n",
       "    }\n",
       "\n",
       "    .dataframe thead th {\n",
       "        text-align: right;\n",
       "    }\n",
       "</style>\n",
       "<table border=\"1\" class=\"dataframe\">\n",
       "  <thead>\n",
       "    <tr style=\"text-align: right;\">\n",
       "      <th></th>\n",
       "      <th>nAcid</th>\n",
       "      <th>ALogP</th>\n",
       "      <th>ALogp2</th>\n",
       "      <th>AMR</th>\n",
       "      <th>apol</th>\n",
       "      <th>naAromAtom</th>\n",
       "      <th>nAromBond</th>\n",
       "      <th>nAtom</th>\n",
       "      <th>nHeavyAtom</th>\n",
       "      <th>nH</th>\n",
       "      <th>...</th>\n",
       "      <th>MW</th>\n",
       "      <th>WTPT-1</th>\n",
       "      <th>WTPT-2</th>\n",
       "      <th>WTPT-3</th>\n",
       "      <th>WTPT-4</th>\n",
       "      <th>WTPT-5</th>\n",
       "      <th>WPATH</th>\n",
       "      <th>WPOL</th>\n",
       "      <th>XLogP</th>\n",
       "      <th>Zagreb</th>\n",
       "    </tr>\n",
       "  </thead>\n",
       "  <tbody>\n",
       "    <tr>\n",
       "      <th>nAcid</th>\n",
       "      <td>1.000000</td>\n",
       "      <td>0.298464</td>\n",
       "      <td>0.294498</td>\n",
       "      <td>0.127125</td>\n",
       "      <td>0.087442</td>\n",
       "      <td>0.148992</td>\n",
       "      <td>0.128085</td>\n",
       "      <td>0.071150</td>\n",
       "      <td>0.142736</td>\n",
       "      <td>0.011872</td>\n",
       "      <td>...</td>\n",
       "      <td>0.137757</td>\n",
       "      <td>0.130279</td>\n",
       "      <td>-0.190618</td>\n",
       "      <td>0.097911</td>\n",
       "      <td>0.099315</td>\n",
       "      <td>-0.081729</td>\n",
       "      <td>0.123396</td>\n",
       "      <td>0.149544</td>\n",
       "      <td>0.072792</td>\n",
       "      <td>0.138795</td>\n",
       "    </tr>\n",
       "    <tr>\n",
       "      <th>ALogP</th>\n",
       "      <td>0.298464</td>\n",
       "      <td>1.000000</td>\n",
       "      <td>0.839721</td>\n",
       "      <td>0.154591</td>\n",
       "      <td>0.044144</td>\n",
       "      <td>0.352324</td>\n",
       "      <td>0.365084</td>\n",
       "      <td>-0.000730</td>\n",
       "      <td>0.060073</td>\n",
       "      <td>-0.060433</td>\n",
       "      <td>...</td>\n",
       "      <td>0.054366</td>\n",
       "      <td>0.053615</td>\n",
       "      <td>-0.039049</td>\n",
       "      <td>-0.173593</td>\n",
       "      <td>-0.232812</td>\n",
       "      <td>-0.144005</td>\n",
       "      <td>0.043113</td>\n",
       "      <td>0.063338</td>\n",
       "      <td>0.325502</td>\n",
       "      <td>0.060326</td>\n",
       "    </tr>\n",
       "    <tr>\n",
       "      <th>ALogp2</th>\n",
       "      <td>0.294498</td>\n",
       "      <td>0.839721</td>\n",
       "      <td>1.000000</td>\n",
       "      <td>0.206210</td>\n",
       "      <td>0.131773</td>\n",
       "      <td>0.258400</td>\n",
       "      <td>0.267773</td>\n",
       "      <td>0.095173</td>\n",
       "      <td>0.142974</td>\n",
       "      <td>0.044380</td>\n",
       "      <td>...</td>\n",
       "      <td>0.136171</td>\n",
       "      <td>0.134108</td>\n",
       "      <td>-0.121343</td>\n",
       "      <td>-0.111207</td>\n",
       "      <td>-0.177669</td>\n",
       "      <td>-0.106748</td>\n",
       "      <td>0.129674</td>\n",
       "      <td>0.138409</td>\n",
       "      <td>0.341661</td>\n",
       "      <td>0.135492</td>\n",
       "    </tr>\n",
       "    <tr>\n",
       "      <th>AMR</th>\n",
       "      <td>0.127125</td>\n",
       "      <td>0.154591</td>\n",
       "      <td>0.206210</td>\n",
       "      <td>1.000000</td>\n",
       "      <td>0.961691</td>\n",
       "      <td>0.661600</td>\n",
       "      <td>0.589020</td>\n",
       "      <td>0.926123</td>\n",
       "      <td>0.970967</td>\n",
       "      <td>0.804414</td>\n",
       "      <td>...</td>\n",
       "      <td>0.946192</td>\n",
       "      <td>0.971228</td>\n",
       "      <td>0.326233</td>\n",
       "      <td>0.455455</td>\n",
       "      <td>0.353602</td>\n",
       "      <td>0.304766</td>\n",
       "      <td>0.967399</td>\n",
       "      <td>0.892645</td>\n",
       "      <td>0.448692</td>\n",
       "      <td>0.951214</td>\n",
       "    </tr>\n",
       "    <tr>\n",
       "      <th>apol</th>\n",
       "      <td>0.087442</td>\n",
       "      <td>0.044144</td>\n",
       "      <td>0.131773</td>\n",
       "      <td>0.961691</td>\n",
       "      <td>1.000000</td>\n",
       "      <td>0.504649</td>\n",
       "      <td>0.425076</td>\n",
       "      <td>0.990971</td>\n",
       "      <td>0.959475</td>\n",
       "      <td>0.921645</td>\n",
       "      <td>...</td>\n",
       "      <td>0.926193</td>\n",
       "      <td>0.959164</td>\n",
       "      <td>0.318972</td>\n",
       "      <td>0.372514</td>\n",
       "      <td>0.314274</td>\n",
       "      <td>0.272351</td>\n",
       "      <td>0.952547</td>\n",
       "      <td>0.906731</td>\n",
       "      <td>0.510868</td>\n",
       "      <td>0.942748</td>\n",
       "    </tr>\n",
       "    <tr>\n",
       "      <th>...</th>\n",
       "      <td>...</td>\n",
       "      <td>...</td>\n",
       "      <td>...</td>\n",
       "      <td>...</td>\n",
       "      <td>...</td>\n",
       "      <td>...</td>\n",
       "      <td>...</td>\n",
       "      <td>...</td>\n",
       "      <td>...</td>\n",
       "      <td>...</td>\n",
       "      <td>...</td>\n",
       "      <td>...</td>\n",
       "      <td>...</td>\n",
       "      <td>...</td>\n",
       "      <td>...</td>\n",
       "      <td>...</td>\n",
       "      <td>...</td>\n",
       "      <td>...</td>\n",
       "      <td>...</td>\n",
       "      <td>...</td>\n",
       "      <td>...</td>\n",
       "    </tr>\n",
       "    <tr>\n",
       "      <th>WTPT-5</th>\n",
       "      <td>-0.081729</td>\n",
       "      <td>-0.144005</td>\n",
       "      <td>-0.106748</td>\n",
       "      <td>0.304766</td>\n",
       "      <td>0.272351</td>\n",
       "      <td>0.218260</td>\n",
       "      <td>0.186234</td>\n",
       "      <td>0.257380</td>\n",
       "      <td>0.320081</td>\n",
       "      <td>0.194506</td>\n",
       "      <td>...</td>\n",
       "      <td>0.317963</td>\n",
       "      <td>0.324961</td>\n",
       "      <td>0.193800</td>\n",
       "      <td>0.537170</td>\n",
       "      <td>-0.169968</td>\n",
       "      <td>1.000000</td>\n",
       "      <td>0.337279</td>\n",
       "      <td>0.221481</td>\n",
       "      <td>-0.129881</td>\n",
       "      <td>0.310909</td>\n",
       "    </tr>\n",
       "    <tr>\n",
       "      <th>WPATH</th>\n",
       "      <td>0.123396</td>\n",
       "      <td>0.043113</td>\n",
       "      <td>0.129674</td>\n",
       "      <td>0.967399</td>\n",
       "      <td>0.952547</td>\n",
       "      <td>0.600290</td>\n",
       "      <td>0.525283</td>\n",
       "      <td>0.925527</td>\n",
       "      <td>0.992083</td>\n",
       "      <td>0.790220</td>\n",
       "      <td>...</td>\n",
       "      <td>0.963684</td>\n",
       "      <td>0.988957</td>\n",
       "      <td>0.275921</td>\n",
       "      <td>0.557568</td>\n",
       "      <td>0.434226</td>\n",
       "      <td>0.337279</td>\n",
       "      <td>1.000000</td>\n",
       "      <td>0.894391</td>\n",
       "      <td>0.390364</td>\n",
       "      <td>0.963631</td>\n",
       "    </tr>\n",
       "    <tr>\n",
       "      <th>WPOL</th>\n",
       "      <td>0.149544</td>\n",
       "      <td>0.063338</td>\n",
       "      <td>0.138409</td>\n",
       "      <td>0.892645</td>\n",
       "      <td>0.906731</td>\n",
       "      <td>0.494950</td>\n",
       "      <td>0.424504</td>\n",
       "      <td>0.889545</td>\n",
       "      <td>0.933442</td>\n",
       "      <td>0.775660</td>\n",
       "      <td>...</td>\n",
       "      <td>0.895049</td>\n",
       "      <td>0.935278</td>\n",
       "      <td>0.379534</td>\n",
       "      <td>0.431551</td>\n",
       "      <td>0.400694</td>\n",
       "      <td>0.221481</td>\n",
       "      <td>0.894391</td>\n",
       "      <td>1.000000</td>\n",
       "      <td>0.403700</td>\n",
       "      <td>0.963937</td>\n",
       "    </tr>\n",
       "    <tr>\n",
       "      <th>XLogP</th>\n",
       "      <td>0.072792</td>\n",
       "      <td>0.325502</td>\n",
       "      <td>0.341661</td>\n",
       "      <td>0.448692</td>\n",
       "      <td>0.510868</td>\n",
       "      <td>0.245372</td>\n",
       "      <td>0.222946</td>\n",
       "      <td>0.523117</td>\n",
       "      <td>0.407307</td>\n",
       "      <td>0.573974</td>\n",
       "      <td>...</td>\n",
       "      <td>0.376626</td>\n",
       "      <td>0.405263</td>\n",
       "      <td>0.120929</td>\n",
       "      <td>-0.262242</td>\n",
       "      <td>-0.213624</td>\n",
       "      <td>-0.129881</td>\n",
       "      <td>0.390364</td>\n",
       "      <td>0.403700</td>\n",
       "      <td>1.000000</td>\n",
       "      <td>0.391971</td>\n",
       "    </tr>\n",
       "    <tr>\n",
       "      <th>Zagreb</th>\n",
       "      <td>0.138795</td>\n",
       "      <td>0.060326</td>\n",
       "      <td>0.135492</td>\n",
       "      <td>0.951214</td>\n",
       "      <td>0.942748</td>\n",
       "      <td>0.594482</td>\n",
       "      <td>0.519984</td>\n",
       "      <td>0.915270</td>\n",
       "      <td>0.984461</td>\n",
       "      <td>0.779988</td>\n",
       "      <td>...</td>\n",
       "      <td>0.948370</td>\n",
       "      <td>0.988556</td>\n",
       "      <td>0.401631</td>\n",
       "      <td>0.520059</td>\n",
       "      <td>0.423114</td>\n",
       "      <td>0.310909</td>\n",
       "      <td>0.963631</td>\n",
       "      <td>0.963937</td>\n",
       "      <td>0.391971</td>\n",
       "      <td>1.000000</td>\n",
       "    </tr>\n",
       "  </tbody>\n",
       "</table>\n",
       "<p>729 rows × 729 columns</p>\n",
       "</div>"
      ],
      "text/plain": [
       "           nAcid     ALogP    ALogp2       AMR      apol  naAromAtom  \\\n",
       "nAcid   1.000000  0.298464  0.294498  0.127125  0.087442    0.148992   \n",
       "ALogP   0.298464  1.000000  0.839721  0.154591  0.044144    0.352324   \n",
       "ALogp2  0.294498  0.839721  1.000000  0.206210  0.131773    0.258400   \n",
       "AMR     0.127125  0.154591  0.206210  1.000000  0.961691    0.661600   \n",
       "apol    0.087442  0.044144  0.131773  0.961691  1.000000    0.504649   \n",
       "...          ...       ...       ...       ...       ...         ...   \n",
       "WTPT-5 -0.081729 -0.144005 -0.106748  0.304766  0.272351    0.218260   \n",
       "WPATH   0.123396  0.043113  0.129674  0.967399  0.952547    0.600290   \n",
       "WPOL    0.149544  0.063338  0.138409  0.892645  0.906731    0.494950   \n",
       "XLogP   0.072792  0.325502  0.341661  0.448692  0.510868    0.245372   \n",
       "Zagreb  0.138795  0.060326  0.135492  0.951214  0.942748    0.594482   \n",
       "\n",
       "        nAromBond     nAtom  nHeavyAtom        nH  ...        MW    WTPT-1  \\\n",
       "nAcid    0.128085  0.071150    0.142736  0.011872  ...  0.137757  0.130279   \n",
       "ALogP    0.365084 -0.000730    0.060073 -0.060433  ...  0.054366  0.053615   \n",
       "ALogp2   0.267773  0.095173    0.142974  0.044380  ...  0.136171  0.134108   \n",
       "AMR      0.589020  0.926123    0.970967  0.804414  ...  0.946192  0.971228   \n",
       "apol     0.425076  0.990971    0.959475  0.921645  ...  0.926193  0.959164   \n",
       "...           ...       ...         ...       ...  ...       ...       ...   \n",
       "WTPT-5   0.186234  0.257380    0.320081  0.194506  ...  0.317963  0.324961   \n",
       "WPATH    0.525283  0.925527    0.992083  0.790220  ...  0.963684  0.988957   \n",
       "WPOL     0.424504  0.889545    0.933442  0.775660  ...  0.895049  0.935278   \n",
       "XLogP    0.222946  0.523117    0.407307  0.573974  ...  0.376626  0.405263   \n",
       "Zagreb   0.519984  0.915270    0.984461  0.779988  ...  0.948370  0.988556   \n",
       "\n",
       "          WTPT-2    WTPT-3    WTPT-4    WTPT-5     WPATH      WPOL     XLogP  \\\n",
       "nAcid  -0.190618  0.097911  0.099315 -0.081729  0.123396  0.149544  0.072792   \n",
       "ALogP  -0.039049 -0.173593 -0.232812 -0.144005  0.043113  0.063338  0.325502   \n",
       "ALogp2 -0.121343 -0.111207 -0.177669 -0.106748  0.129674  0.138409  0.341661   \n",
       "AMR     0.326233  0.455455  0.353602  0.304766  0.967399  0.892645  0.448692   \n",
       "apol    0.318972  0.372514  0.314274  0.272351  0.952547  0.906731  0.510868   \n",
       "...          ...       ...       ...       ...       ...       ...       ...   \n",
       "WTPT-5  0.193800  0.537170 -0.169968  1.000000  0.337279  0.221481 -0.129881   \n",
       "WPATH   0.275921  0.557568  0.434226  0.337279  1.000000  0.894391  0.390364   \n",
       "WPOL    0.379534  0.431551  0.400694  0.221481  0.894391  1.000000  0.403700   \n",
       "XLogP   0.120929 -0.262242 -0.213624 -0.129881  0.390364  0.403700  1.000000   \n",
       "Zagreb  0.401631  0.520059  0.423114  0.310909  0.963631  0.963937  0.391971   \n",
       "\n",
       "          Zagreb  \n",
       "nAcid   0.138795  \n",
       "ALogP   0.060326  \n",
       "ALogp2  0.135492  \n",
       "AMR     0.951214  \n",
       "apol    0.942748  \n",
       "...          ...  \n",
       "WTPT-5  0.310909  \n",
       "WPATH   0.963631  \n",
       "WPOL    0.963937  \n",
       "XLogP   0.391971  \n",
       "Zagreb  1.000000  \n",
       "\n",
       "[729 rows x 729 columns]"
      ]
     },
     "execution_count": 96,
     "metadata": {},
     "output_type": "execute_result"
    }
   ],
   "source": [
    "# correlation coefficient (spearman)\n",
    "spearman_corr = molt.corr(method='spearman')\n",
    "spearman_corr"
   ]
  },
  {
   "cell_type": "code",
   "execution_count": 97,
   "id": "08a069cd",
   "metadata": {
    "ExecuteTime": {
     "end_time": "2021-10-14T15:25:38.589441Z",
     "start_time": "2021-10-14T15:24:10.462846Z"
    }
   },
   "outputs": [
    {
     "data": {
      "text/html": [
       "<div>\n",
       "<style scoped>\n",
       "    .dataframe tbody tr th:only-of-type {\n",
       "        vertical-align: middle;\n",
       "    }\n",
       "\n",
       "    .dataframe tbody tr th {\n",
       "        vertical-align: top;\n",
       "    }\n",
       "\n",
       "    .dataframe thead th {\n",
       "        text-align: right;\n",
       "    }\n",
       "</style>\n",
       "<table border=\"1\" class=\"dataframe\">\n",
       "  <thead>\n",
       "    <tr style=\"text-align: right;\">\n",
       "      <th></th>\n",
       "      <th>nAcid</th>\n",
       "      <th>ALogP</th>\n",
       "      <th>ALogp2</th>\n",
       "      <th>AMR</th>\n",
       "      <th>apol</th>\n",
       "      <th>naAromAtom</th>\n",
       "      <th>nAromBond</th>\n",
       "      <th>nAtom</th>\n",
       "      <th>nHeavyAtom</th>\n",
       "      <th>nH</th>\n",
       "      <th>...</th>\n",
       "      <th>MW</th>\n",
       "      <th>WTPT-1</th>\n",
       "      <th>WTPT-2</th>\n",
       "      <th>WTPT-3</th>\n",
       "      <th>WTPT-4</th>\n",
       "      <th>WTPT-5</th>\n",
       "      <th>WPATH</th>\n",
       "      <th>WPOL</th>\n",
       "      <th>XLogP</th>\n",
       "      <th>Zagreb</th>\n",
       "    </tr>\n",
       "  </thead>\n",
       "  <tbody>\n",
       "    <tr>\n",
       "      <th>nAcid</th>\n",
       "      <td>1.000000</td>\n",
       "      <td>0.242783</td>\n",
       "      <td>0.239308</td>\n",
       "      <td>0.103679</td>\n",
       "      <td>0.070950</td>\n",
       "      <td>0.129485</td>\n",
       "      <td>0.111825</td>\n",
       "      <td>0.058070</td>\n",
       "      <td>0.118812</td>\n",
       "      <td>0.009540</td>\n",
       "      <td>...</td>\n",
       "      <td>0.112130</td>\n",
       "      <td>0.106104</td>\n",
       "      <td>-0.155087</td>\n",
       "      <td>0.079962</td>\n",
       "      <td>0.080965</td>\n",
       "      <td>-0.068858</td>\n",
       "      <td>0.100843</td>\n",
       "      <td>0.122865</td>\n",
       "      <td>0.059352</td>\n",
       "      <td>0.113894</td>\n",
       "    </tr>\n",
       "    <tr>\n",
       "      <th>ALogP</th>\n",
       "      <td>0.242783</td>\n",
       "      <td>1.000000</td>\n",
       "      <td>0.800777</td>\n",
       "      <td>0.104208</td>\n",
       "      <td>0.029251</td>\n",
       "      <td>0.256064</td>\n",
       "      <td>0.265423</td>\n",
       "      <td>-0.001069</td>\n",
       "      <td>0.039567</td>\n",
       "      <td>-0.040007</td>\n",
       "      <td>...</td>\n",
       "      <td>0.035734</td>\n",
       "      <td>0.033492</td>\n",
       "      <td>-0.027091</td>\n",
       "      <td>-0.119642</td>\n",
       "      <td>-0.159800</td>\n",
       "      <td>-0.100206</td>\n",
       "      <td>0.027791</td>\n",
       "      <td>0.043853</td>\n",
       "      <td>0.239648</td>\n",
       "      <td>0.038789</td>\n",
       "    </tr>\n",
       "    <tr>\n",
       "      <th>ALogp2</th>\n",
       "      <td>0.239308</td>\n",
       "      <td>0.800777</td>\n",
       "      <td>1.000000</td>\n",
       "      <td>0.139862</td>\n",
       "      <td>0.088510</td>\n",
       "      <td>0.184618</td>\n",
       "      <td>0.190595</td>\n",
       "      <td>0.064099</td>\n",
       "      <td>0.097983</td>\n",
       "      <td>0.030823</td>\n",
       "      <td>...</td>\n",
       "      <td>0.091522</td>\n",
       "      <td>0.089362</td>\n",
       "      <td>-0.081343</td>\n",
       "      <td>-0.075785</td>\n",
       "      <td>-0.121808</td>\n",
       "      <td>-0.073275</td>\n",
       "      <td>0.087044</td>\n",
       "      <td>0.094168</td>\n",
       "      <td>0.241571</td>\n",
       "      <td>0.091182</td>\n",
       "    </tr>\n",
       "    <tr>\n",
       "      <th>AMR</th>\n",
       "      <td>0.103679</td>\n",
       "      <td>0.104208</td>\n",
       "      <td>0.139862</td>\n",
       "      <td>1.000000</td>\n",
       "      <td>0.835812</td>\n",
       "      <td>0.490678</td>\n",
       "      <td>0.431714</td>\n",
       "      <td>0.771647</td>\n",
       "      <td>0.871426</td>\n",
       "      <td>0.621016</td>\n",
       "      <td>...</td>\n",
       "      <td>0.800550</td>\n",
       "      <td>0.854597</td>\n",
       "      <td>0.205474</td>\n",
       "      <td>0.300201</td>\n",
       "      <td>0.230297</td>\n",
       "      <td>0.205596</td>\n",
       "      <td>0.845297</td>\n",
       "      <td>0.714778</td>\n",
       "      <td>0.307279</td>\n",
       "      <td>0.813880</td>\n",
       "    </tr>\n",
       "    <tr>\n",
       "      <th>apol</th>\n",
       "      <td>0.070950</td>\n",
       "      <td>0.029251</td>\n",
       "      <td>0.088510</td>\n",
       "      <td>0.835812</td>\n",
       "      <td>1.000000</td>\n",
       "      <td>0.354810</td>\n",
       "      <td>0.296287</td>\n",
       "      <td>0.926632</td>\n",
       "      <td>0.840703</td>\n",
       "      <td>0.773307</td>\n",
       "      <td>...</td>\n",
       "      <td>0.761887</td>\n",
       "      <td>0.822565</td>\n",
       "      <td>0.197623</td>\n",
       "      <td>0.238207</td>\n",
       "      <td>0.205076</td>\n",
       "      <td>0.180931</td>\n",
       "      <td>0.809873</td>\n",
       "      <td>0.734949</td>\n",
       "      <td>0.355090</td>\n",
       "      <td>0.796440</td>\n",
       "    </tr>\n",
       "    <tr>\n",
       "      <th>...</th>\n",
       "      <td>...</td>\n",
       "      <td>...</td>\n",
       "      <td>...</td>\n",
       "      <td>...</td>\n",
       "      <td>...</td>\n",
       "      <td>...</td>\n",
       "      <td>...</td>\n",
       "      <td>...</td>\n",
       "      <td>...</td>\n",
       "      <td>...</td>\n",
       "      <td>...</td>\n",
       "      <td>...</td>\n",
       "      <td>...</td>\n",
       "      <td>...</td>\n",
       "      <td>...</td>\n",
       "      <td>...</td>\n",
       "      <td>...</td>\n",
       "      <td>...</td>\n",
       "      <td>...</td>\n",
       "      <td>...</td>\n",
       "      <td>...</td>\n",
       "    </tr>\n",
       "    <tr>\n",
       "      <th>WTPT-5</th>\n",
       "      <td>-0.068858</td>\n",
       "      <td>-0.100206</td>\n",
       "      <td>-0.073275</td>\n",
       "      <td>0.205596</td>\n",
       "      <td>0.180931</td>\n",
       "      <td>0.168191</td>\n",
       "      <td>0.142109</td>\n",
       "      <td>0.170822</td>\n",
       "      <td>0.222075</td>\n",
       "      <td>0.125817</td>\n",
       "      <td>...</td>\n",
       "      <td>0.214689</td>\n",
       "      <td>0.222229</td>\n",
       "      <td>0.136613</td>\n",
       "      <td>0.402025</td>\n",
       "      <td>-0.113066</td>\n",
       "      <td>1.000000</td>\n",
       "      <td>0.229960</td>\n",
       "      <td>0.153707</td>\n",
       "      <td>-0.085784</td>\n",
       "      <td>0.213509</td>\n",
       "    </tr>\n",
       "    <tr>\n",
       "      <th>WPATH</th>\n",
       "      <td>0.100843</td>\n",
       "      <td>0.027791</td>\n",
       "      <td>0.087044</td>\n",
       "      <td>0.845297</td>\n",
       "      <td>0.809873</td>\n",
       "      <td>0.441428</td>\n",
       "      <td>0.381919</td>\n",
       "      <td>0.767337</td>\n",
       "      <td>0.941372</td>\n",
       "      <td>0.601528</td>\n",
       "      <td>...</td>\n",
       "      <td>0.854642</td>\n",
       "      <td>0.915303</td>\n",
       "      <td>0.170777</td>\n",
       "      <td>0.378931</td>\n",
       "      <td>0.291625</td>\n",
       "      <td>0.229960</td>\n",
       "      <td>1.000000</td>\n",
       "      <td>0.719380</td>\n",
       "      <td>0.265544</td>\n",
       "      <td>0.843313</td>\n",
       "    </tr>\n",
       "    <tr>\n",
       "      <th>WPOL</th>\n",
       "      <td>0.122865</td>\n",
       "      <td>0.043853</td>\n",
       "      <td>0.094168</td>\n",
       "      <td>0.714778</td>\n",
       "      <td>0.734949</td>\n",
       "      <td>0.351255</td>\n",
       "      <td>0.300929</td>\n",
       "      <td>0.717194</td>\n",
       "      <td>0.801019</td>\n",
       "      <td>0.583985</td>\n",
       "      <td>...</td>\n",
       "      <td>0.724153</td>\n",
       "      <td>0.785944</td>\n",
       "      <td>0.237359</td>\n",
       "      <td>0.291153</td>\n",
       "      <td>0.276267</td>\n",
       "      <td>0.153707</td>\n",
       "      <td>0.719380</td>\n",
       "      <td>1.000000</td>\n",
       "      <td>0.275451</td>\n",
       "      <td>0.850838</td>\n",
       "    </tr>\n",
       "    <tr>\n",
       "      <th>XLogP</th>\n",
       "      <td>0.059352</td>\n",
       "      <td>0.239648</td>\n",
       "      <td>0.241571</td>\n",
       "      <td>0.307279</td>\n",
       "      <td>0.355090</td>\n",
       "      <td>0.183698</td>\n",
       "      <td>0.168445</td>\n",
       "      <td>0.367608</td>\n",
       "      <td>0.283680</td>\n",
       "      <td>0.411826</td>\n",
       "      <td>...</td>\n",
       "      <td>0.255766</td>\n",
       "      <td>0.275068</td>\n",
       "      <td>0.080206</td>\n",
       "      <td>-0.177151</td>\n",
       "      <td>-0.140735</td>\n",
       "      <td>-0.085784</td>\n",
       "      <td>0.265544</td>\n",
       "      <td>0.275451</td>\n",
       "      <td>1.000000</td>\n",
       "      <td>0.266976</td>\n",
       "    </tr>\n",
       "    <tr>\n",
       "      <th>Zagreb</th>\n",
       "      <td>0.113894</td>\n",
       "      <td>0.038789</td>\n",
       "      <td>0.091182</td>\n",
       "      <td>0.813880</td>\n",
       "      <td>0.796440</td>\n",
       "      <td>0.432195</td>\n",
       "      <td>0.375596</td>\n",
       "      <td>0.755137</td>\n",
       "      <td>0.918928</td>\n",
       "      <td>0.590450</td>\n",
       "      <td>...</td>\n",
       "      <td>0.821096</td>\n",
       "      <td>0.909328</td>\n",
       "      <td>0.237638</td>\n",
       "      <td>0.352920</td>\n",
       "      <td>0.288763</td>\n",
       "      <td>0.213509</td>\n",
       "      <td>0.843313</td>\n",
       "      <td>0.850838</td>\n",
       "      <td>0.266976</td>\n",
       "      <td>1.000000</td>\n",
       "    </tr>\n",
       "  </tbody>\n",
       "</table>\n",
       "<p>729 rows × 729 columns</p>\n",
       "</div>"
      ],
      "text/plain": [
       "           nAcid     ALogP    ALogp2       AMR      apol  naAromAtom  \\\n",
       "nAcid   1.000000  0.242783  0.239308  0.103679  0.070950    0.129485   \n",
       "ALogP   0.242783  1.000000  0.800777  0.104208  0.029251    0.256064   \n",
       "ALogp2  0.239308  0.800777  1.000000  0.139862  0.088510    0.184618   \n",
       "AMR     0.103679  0.104208  0.139862  1.000000  0.835812    0.490678   \n",
       "apol    0.070950  0.029251  0.088510  0.835812  1.000000    0.354810   \n",
       "...          ...       ...       ...       ...       ...         ...   \n",
       "WTPT-5 -0.068858 -0.100206 -0.073275  0.205596  0.180931    0.168191   \n",
       "WPATH   0.100843  0.027791  0.087044  0.845297  0.809873    0.441428   \n",
       "WPOL    0.122865  0.043853  0.094168  0.714778  0.734949    0.351255   \n",
       "XLogP   0.059352  0.239648  0.241571  0.307279  0.355090    0.183698   \n",
       "Zagreb  0.113894  0.038789  0.091182  0.813880  0.796440    0.432195   \n",
       "\n",
       "        nAromBond     nAtom  nHeavyAtom        nH  ...        MW    WTPT-1  \\\n",
       "nAcid    0.111825  0.058070    0.118812  0.009540  ...  0.112130  0.106104   \n",
       "ALogP    0.265423 -0.001069    0.039567 -0.040007  ...  0.035734  0.033492   \n",
       "ALogp2   0.190595  0.064099    0.097983  0.030823  ...  0.091522  0.089362   \n",
       "AMR      0.431714  0.771647    0.871426  0.621016  ...  0.800550  0.854597   \n",
       "apol     0.296287  0.926632    0.840703  0.773307  ...  0.761887  0.822565   \n",
       "...           ...       ...         ...       ...  ...       ...       ...   \n",
       "WTPT-5   0.142109  0.170822    0.222075  0.125817  ...  0.214689  0.222229   \n",
       "WPATH    0.381919  0.767337    0.941372  0.601528  ...  0.854642  0.915303   \n",
       "WPOL     0.300929  0.717194    0.801019  0.583985  ...  0.724153  0.785944   \n",
       "XLogP    0.168445  0.367608    0.283680  0.411826  ...  0.255766  0.275068   \n",
       "Zagreb   0.375596  0.755137    0.918928  0.590450  ...  0.821096  0.909328   \n",
       "\n",
       "          WTPT-2    WTPT-3    WTPT-4    WTPT-5     WPATH      WPOL     XLogP  \\\n",
       "nAcid  -0.155087  0.079962  0.080965 -0.068858  0.100843  0.122865  0.059352   \n",
       "ALogP  -0.027091 -0.119642 -0.159800 -0.100206  0.027791  0.043853  0.239648   \n",
       "ALogp2 -0.081343 -0.075785 -0.121808 -0.073275  0.087044  0.094168  0.241571   \n",
       "AMR     0.205474  0.300201  0.230297  0.205596  0.845297  0.714778  0.307279   \n",
       "apol    0.197623  0.238207  0.205076  0.180931  0.809873  0.734949  0.355090   \n",
       "...          ...       ...       ...       ...       ...       ...       ...   \n",
       "WTPT-5  0.136613  0.402025 -0.113066  1.000000  0.229960  0.153707 -0.085784   \n",
       "WPATH   0.170777  0.378931  0.291625  0.229960  1.000000  0.719380  0.265544   \n",
       "WPOL    0.237359  0.291153  0.276267  0.153707  0.719380  1.000000  0.275451   \n",
       "XLogP   0.080206 -0.177151 -0.140735 -0.085784  0.265544  0.275451  1.000000   \n",
       "Zagreb  0.237638  0.352920  0.288763  0.213509  0.843313  0.850838  0.266976   \n",
       "\n",
       "          Zagreb  \n",
       "nAcid   0.113894  \n",
       "ALogP   0.038789  \n",
       "ALogp2  0.091182  \n",
       "AMR     0.813880  \n",
       "apol    0.796440  \n",
       "...          ...  \n",
       "WTPT-5  0.213509  \n",
       "WPATH   0.843313  \n",
       "WPOL    0.850838  \n",
       "XLogP   0.266976  \n",
       "Zagreb  1.000000  \n",
       "\n",
       "[729 rows x 729 columns]"
      ]
     },
     "execution_count": 97,
     "metadata": {},
     "output_type": "execute_result"
    }
   ],
   "source": [
    "# correlation coefficient (kendall)\n",
    "kendall_corr = molt.corr(method='kendall')\n",
    "kendall_corr"
   ]
  },
  {
   "cell_type": "code",
   "execution_count": 95,
   "id": "3cfc54fc",
   "metadata": {
    "ExecuteTime": {
     "end_time": "2021-10-14T15:17:32.302840Z",
     "start_time": "2021-10-14T15:17:32.228253Z"
    },
    "scrolled": false
   },
   "outputs": [
    {
     "data": {
      "text/plain": [
       "array([[118043.84040595, 132675.53620674, 123165.46845493, ...,\n",
       "        168432.63572077, 120200.70446671, 181696.49611774],\n",
       "       [132675.53620674, 149422.5935941 , 138334.66976985, ...,\n",
       "        189025.41909454, 134156.56328827, 204281.71565653],\n",
       "       [123165.46845493, 138334.66976985, 129197.42227975, ...,\n",
       "        178227.74898609, 126552.16400376, 192139.16268217],\n",
       "       ...,\n",
       "       [168432.63572077, 189025.41909454, 178227.74898609, ...,\n",
       "        251070.73394881, 174430.99356219, 271211.42337528],\n",
       "       [120200.70446671, 134156.56328827, 126552.16400376, ...,\n",
       "        174430.99356219, 128338.30441966, 186245.99663628],\n",
       "       [181696.49611774, 204281.71565653, 192139.16268217, ...,\n",
       "        271211.42337528, 186245.99663628, 293819.10821334]])"
      ]
     },
     "execution_count": 95,
     "metadata": {},
     "output_type": "execute_result"
    }
   ],
   "source": [
    "# Covariance matrix\n",
    "molt_cov = np.cov(molt.to_numpy())\n",
    "molt_cov\n",
    "# sns.heatmap(mol_cov, annot=True, vmax=1, square=True, cmap='Blues')"
   ]
  },
  {
   "cell_type": "code",
   "execution_count": null,
   "id": "0c7d96d3",
   "metadata": {},
   "outputs": [],
   "source": [
    "# chi-square test (normally for categorical variable)\n",
    "from sklearn.feature_selection import SelectKBest\n",
    "from sklearn.feature_selection import chi2"
   ]
  },
  {
   "cell_type": "markdown",
   "id": "6ba8f6dd",
   "metadata": {},
   "source": [
    "## 回归模型选择"
   ]
  },
  {
   "cell_type": "code",
   "execution_count": 186,
   "id": "a6686189",
   "metadata": {
    "ExecuteTime": {
     "end_time": "2021-10-15T02:31:05.255426Z",
     "start_time": "2021-10-15T02:31:05.244408Z"
    }
   },
   "outputs": [
    {
     "data": {
      "text/plain": [
       "((1381, 20), (593, 20), (1381,), (593,))"
      ]
     },
     "execution_count": 186,
     "metadata": {},
     "output_type": "execute_result"
    }
   ],
   "source": [
    "from sklearn.model_selection import train_test_split\n",
    "from sklearn import metrics\n",
    "from sklearn.preprocessing import StandardScaler\n",
    "\n",
    "fea_selected = molt.columns[las_col]\n",
    "srcX = molt[fea_selected]\n",
    "srcy = fy\n",
    "X_train, X_test, y_train, y_test = train_test_split(srcX, srcy,test_size=0.3,shuffle=True)\n",
    "X_train.shape, X_test.shape, y_train.shape,y_test.shape"
   ]
  },
  {
   "cell_type": "code",
   "execution_count": 207,
   "id": "b15f8c6d",
   "metadata": {
    "ExecuteTime": {
     "end_time": "2021-10-15T03:10:59.645709Z",
     "start_time": "2021-10-15T03:10:58.558207Z"
    }
   },
   "outputs": [
    {
     "name": "stdout",
     "output_type": "stream",
     "text": [
      "Mean Absolute Error: 0.5848705004194139\n",
      "Mean Squared Error: 0.6308633025713897\n",
      "Root Mean Squared Error: 0.7942690366440012\n"
     ]
    }
   ],
   "source": [
    "# random forest\n",
    "from sklearn.ensemble import RandomForestRegressor\n",
    "\n",
    "rfreg = RandomForestRegressor(n_estimators=100, random_state=0)\n",
    "rfreg.fit(X_train, y_train)\n",
    "y_pred = rfreg.predict(X_test)\n",
    "\n",
    "# evaluate\n",
    "print('Mean Absolute Error:', metrics.mean_absolute_error(y_test, y_pred))\n",
    "print('Mean Squared Error:', metrics.mean_squared_error(y_test, y_pred))\n",
    "print('Root Mean Squared Error:', np.sqrt(metrics.mean_squared_error(y_test, y_pred)))"
   ]
  },
  {
   "cell_type": "code",
   "execution_count": 206,
   "id": "eb56acbd",
   "metadata": {
    "ExecuteTime": {
     "end_time": "2021-10-15T03:00:52.634960Z",
     "start_time": "2021-10-15T03:00:52.281038Z"
    }
   },
   "outputs": [
    {
     "name": "stdout",
     "output_type": "stream",
     "text": [
      "MLP Train ERROR =  16.922454868257212\n",
      "MLP Test ERROR =  17.171535249657037\n"
     ]
    },
    {
     "name": "stderr",
     "output_type": "stream",
     "text": [
      "/Users/johnson/opt/anaconda3/lib/python3.8/site-packages/sklearn/neural_network/_multilayer_perceptron.py:614: ConvergenceWarning: Stochastic Optimizer: Maximum iterations (200) reached and the optimization hasn't converged yet.\n",
      "  warnings.warn(\n"
     ]
    }
   ],
   "source": [
    "# neural network\n",
    "from sklearn.neural_network import MLPRegressor\n",
    "from sklearn.metrics import mean_squared_error\n",
    "\n",
    "mlpreg = MLPRegressor(\n",
    "        hidden_layer_sizes=(5,2), activation='relu',solver='adam',\n",
    "        alpha=0.01,max_iter=200,random_state=60)\n",
    "mlpreg.fit(X_train, y_train)\n",
    "train_pred = mlpreg.predict(X_train)\n",
    "test_pred = mlpreg.predict(X_test)\n",
    "\n",
    "mse_train = mean_squared_error(train_pred,y_train)\n",
    "print (\"MLP Train ERROR = \", mse_train)\n",
    "mse_test = mean_squared_error(test_pred,y_test)\n",
    "print (\"MLP Test ERROR = \", mse_test)"
   ]
  },
  {
   "cell_type": "code",
   "execution_count": null,
   "id": "b8ba010b",
   "metadata": {},
   "outputs": [],
   "source": []
  },
  {
   "cell_type": "code",
   "execution_count": null,
   "id": "960443af",
   "metadata": {},
   "outputs": [],
   "source": []
  },
  {
   "cell_type": "markdown",
   "id": "775c705f",
   "metadata": {},
   "source": [
    "## 分类模型选择"
   ]
  },
  {
   "cell_type": "markdown",
   "id": "41a37731",
   "metadata": {},
   "source": [
    "### 导入数据并划分"
   ]
  },
  {
   "cell_type": "code",
   "execution_count": 6,
   "id": "fd6a1cfe",
   "metadata": {
    "ExecuteTime": {
     "end_time": "2021-10-14T08:13:59.355940Z",
     "start_time": "2021-10-14T08:13:59.147408Z"
    }
   },
   "outputs": [
    {
     "data": {
      "text/html": [
       "<div>\n",
       "<style scoped>\n",
       "    .dataframe tbody tr th:only-of-type {\n",
       "        vertical-align: middle;\n",
       "    }\n",
       "\n",
       "    .dataframe tbody tr th {\n",
       "        vertical-align: top;\n",
       "    }\n",
       "\n",
       "    .dataframe thead th {\n",
       "        text-align: right;\n",
       "    }\n",
       "</style>\n",
       "<table border=\"1\" class=\"dataframe\">\n",
       "  <thead>\n",
       "    <tr style=\"text-align: right;\">\n",
       "      <th></th>\n",
       "      <th>SMILES</th>\n",
       "      <th>Caco-2</th>\n",
       "      <th>CYP3A4</th>\n",
       "      <th>hERG</th>\n",
       "      <th>HOB</th>\n",
       "      <th>MN</th>\n",
       "    </tr>\n",
       "  </thead>\n",
       "  <tbody>\n",
       "    <tr>\n",
       "      <th>0</th>\n",
       "      <td>Oc1ccc2O[C@H]([C@H](Sc2c1)C3CCCC3)c4ccc(OCCN5C...</td>\n",
       "      <td>0</td>\n",
       "      <td>1</td>\n",
       "      <td>1</td>\n",
       "      <td>0</td>\n",
       "      <td>0</td>\n",
       "    </tr>\n",
       "    <tr>\n",
       "      <th>1</th>\n",
       "      <td>Oc1ccc2O[C@H]([C@H](Sc2c1)C3CCCCCC3)c4ccc(OCCN...</td>\n",
       "      <td>0</td>\n",
       "      <td>1</td>\n",
       "      <td>1</td>\n",
       "      <td>0</td>\n",
       "      <td>0</td>\n",
       "    </tr>\n",
       "    <tr>\n",
       "      <th>2</th>\n",
       "      <td>Oc1ccc(cc1)[C@H]2Sc3cc(O)ccc3O[C@H]2c4ccc(OCCN...</td>\n",
       "      <td>0</td>\n",
       "      <td>1</td>\n",
       "      <td>1</td>\n",
       "      <td>0</td>\n",
       "      <td>1</td>\n",
       "    </tr>\n",
       "    <tr>\n",
       "      <th>3</th>\n",
       "      <td>Oc1ccc2O[C@H]([C@@H](CC3CCCCC3)Sc2c1)c4ccc(OCC...</td>\n",
       "      <td>0</td>\n",
       "      <td>1</td>\n",
       "      <td>1</td>\n",
       "      <td>0</td>\n",
       "      <td>0</td>\n",
       "    </tr>\n",
       "    <tr>\n",
       "      <th>4</th>\n",
       "      <td>Oc1ccc2O[C@H]([C@@H](Cc3ccccc3)Sc2c1)c4ccc(OCC...</td>\n",
       "      <td>0</td>\n",
       "      <td>1</td>\n",
       "      <td>1</td>\n",
       "      <td>0</td>\n",
       "      <td>0</td>\n",
       "    </tr>\n",
       "    <tr>\n",
       "      <th>...</th>\n",
       "      <td>...</td>\n",
       "      <td>...</td>\n",
       "      <td>...</td>\n",
       "      <td>...</td>\n",
       "      <td>...</td>\n",
       "      <td>...</td>\n",
       "    </tr>\n",
       "    <tr>\n",
       "      <th>1969</th>\n",
       "      <td>COc1cc(OC)cc(\\C=C\\c2cccc(OS(=O)(=O)C3CC4OC3C(=...</td>\n",
       "      <td>0</td>\n",
       "      <td>1</td>\n",
       "      <td>1</td>\n",
       "      <td>0</td>\n",
       "      <td>1</td>\n",
       "    </tr>\n",
       "    <tr>\n",
       "      <th>1970</th>\n",
       "      <td>Oc1ccc(cc1)C2=C(C3OC2CC3S(=O)(=O)Oc4cccc(\\C=C\\...</td>\n",
       "      <td>0</td>\n",
       "      <td>1</td>\n",
       "      <td>1</td>\n",
       "      <td>0</td>\n",
       "      <td>1</td>\n",
       "    </tr>\n",
       "    <tr>\n",
       "      <th>1971</th>\n",
       "      <td>Oc1ccc(cc1)C2=C(C3OC2CC3S(=O)(=O)Oc4ccc(\\C=C\\c...</td>\n",
       "      <td>0</td>\n",
       "      <td>1</td>\n",
       "      <td>0</td>\n",
       "      <td>0</td>\n",
       "      <td>1</td>\n",
       "    </tr>\n",
       "    <tr>\n",
       "      <th>1972</th>\n",
       "      <td>Oc1ccc(cc1)C2=C([C@H]3O[C@H]2C[C@@H]3S(=O)(=O)...</td>\n",
       "      <td>0</td>\n",
       "      <td>1</td>\n",
       "      <td>0</td>\n",
       "      <td>0</td>\n",
       "      <td>1</td>\n",
       "    </tr>\n",
       "    <tr>\n",
       "      <th>1973</th>\n",
       "      <td>COc1cc(OC)cc(\\C=C\\c2ccc(OS(=O)(=O)[C@H]3C[C@H]...</td>\n",
       "      <td>0</td>\n",
       "      <td>1</td>\n",
       "      <td>1</td>\n",
       "      <td>0</td>\n",
       "      <td>1</td>\n",
       "    </tr>\n",
       "  </tbody>\n",
       "</table>\n",
       "<p>1974 rows × 6 columns</p>\n",
       "</div>"
      ],
      "text/plain": [
       "                                                 SMILES  Caco-2  CYP3A4  hERG  \\\n",
       "0     Oc1ccc2O[C@H]([C@H](Sc2c1)C3CCCC3)c4ccc(OCCN5C...       0       1     1   \n",
       "1     Oc1ccc2O[C@H]([C@H](Sc2c1)C3CCCCCC3)c4ccc(OCCN...       0       1     1   \n",
       "2     Oc1ccc(cc1)[C@H]2Sc3cc(O)ccc3O[C@H]2c4ccc(OCCN...       0       1     1   \n",
       "3     Oc1ccc2O[C@H]([C@@H](CC3CCCCC3)Sc2c1)c4ccc(OCC...       0       1     1   \n",
       "4     Oc1ccc2O[C@H]([C@@H](Cc3ccccc3)Sc2c1)c4ccc(OCC...       0       1     1   \n",
       "...                                                 ...     ...     ...   ...   \n",
       "1969  COc1cc(OC)cc(\\C=C\\c2cccc(OS(=O)(=O)C3CC4OC3C(=...       0       1     1   \n",
       "1970  Oc1ccc(cc1)C2=C(C3OC2CC3S(=O)(=O)Oc4cccc(\\C=C\\...       0       1     1   \n",
       "1971  Oc1ccc(cc1)C2=C(C3OC2CC3S(=O)(=O)Oc4ccc(\\C=C\\c...       0       1     0   \n",
       "1972  Oc1ccc(cc1)C2=C([C@H]3O[C@H]2C[C@@H]3S(=O)(=O)...       0       1     0   \n",
       "1973  COc1cc(OC)cc(\\C=C\\c2ccc(OS(=O)(=O)[C@H]3C[C@H]...       0       1     1   \n",
       "\n",
       "      HOB  MN  \n",
       "0       0   0  \n",
       "1       0   0  \n",
       "2       0   1  \n",
       "3       0   0  \n",
       "4       0   0  \n",
       "...   ...  ..  \n",
       "1969    0   1  \n",
       "1970    0   1  \n",
       "1971    0   1  \n",
       "1972    0   1  \n",
       "1973    0   1  \n",
       "\n",
       "[1974 rows x 6 columns]"
      ]
     },
     "execution_count": 6,
     "metadata": {},
     "output_type": "execute_result"
    }
   ],
   "source": [
    "adm = pd.read_excel('ADMET.xlsx')\n",
    "adm"
   ]
  },
  {
   "cell_type": "code",
   "execution_count": 208,
   "id": "981868a4",
   "metadata": {
    "ExecuteTime": {
     "end_time": "2021-10-15T03:20:10.790125Z",
     "start_time": "2021-10-15T03:20:10.759991Z"
    }
   },
   "outputs": [
    {
     "name": "stdout",
     "output_type": "stream",
     "text": [
      "<class 'pandas.core.frame.DataFrame'>\n",
      "RangeIndex: 1974 entries, 0 to 1973\n",
      "Data columns (total 6 columns):\n",
      " #   Column  Non-Null Count  Dtype \n",
      "---  ------  --------------  ----- \n",
      " 0   SMILES  1974 non-null   object\n",
      " 1   Caco-2  1974 non-null   int64 \n",
      " 2   CYP3A4  1974 non-null   int64 \n",
      " 3   hERG    1974 non-null   int64 \n",
      " 4   HOB     1974 non-null   int64 \n",
      " 5   MN      1974 non-null   int64 \n",
      "dtypes: int64(5), object(1)\n",
      "memory usage: 92.7+ KB\n"
     ]
    },
    {
     "data": {
      "text/plain": [
       "(None,\n",
       "             Caco-2       CYP3A4         hERG          HOB           MN\n",
       " count  1974.000000  1974.000000  1974.000000  1974.000000  1974.000000\n",
       " mean      0.384498     0.740122     0.556738     0.257852     0.766971\n",
       " std       0.486600     0.438679     0.496896     0.437563     0.422868\n",
       " min       0.000000     0.000000     0.000000     0.000000     0.000000\n",
       " 25%       0.000000     0.000000     0.000000     0.000000     1.000000\n",
       " 50%       0.000000     1.000000     1.000000     0.000000     1.000000\n",
       " 75%       1.000000     1.000000     1.000000     1.000000     1.000000\n",
       " max       1.000000     1.000000     1.000000     1.000000     1.000000)"
      ]
     },
     "execution_count": 208,
     "metadata": {},
     "output_type": "execute_result"
    }
   ],
   "source": [
    "adm.info(), adm.describe()"
   ]
  },
  {
   "cell_type": "code",
   "execution_count": 214,
   "id": "74b65110",
   "metadata": {
    "ExecuteTime": {
     "end_time": "2021-10-15T03:23:53.710557Z",
     "start_time": "2021-10-15T03:23:53.706839Z"
    }
   },
   "outputs": [
    {
     "data": {
      "text/plain": [
       "True"
      ]
     },
     "execution_count": 214,
     "metadata": {},
     "output_type": "execute_result"
    }
   ],
   "source": [
    "1 in caco.values"
   ]
  },
  {
   "cell_type": "code",
   "execution_count": 211,
   "id": "a7864e1f",
   "metadata": {
    "ExecuteTime": {
     "end_time": "2021-10-15T03:22:13.651806Z",
     "start_time": "2021-10-15T03:22:13.645415Z"
    }
   },
   "outputs": [],
   "source": [
    "# Xgboost、受限玻尔兹曼机(RBM)[DBN神经网络中的核心]、多层感知MLP、自组织映射SOM、生成式对抗网络GAN、\n",
    "# 循环神经网络RNN、GRNN、PRNN等\n",
    "admt = adm.drop(columns=['SMILES'])\n",
    "caco = admt['Caco-2']\n",
    "cyp = admt['CYP3A4']\n",
    "her = admt['hERG']\n",
    "hob = admt['HOB']\n",
    "mn = admt['MN']"
   ]
  },
  {
   "cell_type": "markdown",
   "id": "8bab4a2c",
   "metadata": {},
   "source": [
    "### 单独标签进行分类"
   ]
  },
  {
   "cell_type": "markdown",
   "id": "feeb15b2",
   "metadata": {},
   "source": [
    "#### Caco-2"
   ]
  },
  {
   "cell_type": "code",
   "execution_count": 216,
   "id": "e7cecb0f",
   "metadata": {
    "ExecuteTime": {
     "end_time": "2021-10-15T03:43:28.873297Z",
     "start_time": "2021-10-15T03:43:28.864998Z"
    },
    "scrolled": true
   },
   "outputs": [
    {
     "data": {
      "text/plain": [
       "0    1215\n",
       "1     759\n",
       "Name: Caco-2, dtype: int64"
      ]
     },
     "execution_count": 216,
     "metadata": {},
     "output_type": "execute_result"
    }
   ],
   "source": [
    "# imbalanced value detection\n",
    "caco.value_counts()"
   ]
  },
  {
   "cell_type": "code",
   "execution_count": 224,
   "id": "af067e20",
   "metadata": {
    "ExecuteTime": {
     "end_time": "2021-10-15T04:00:25.989765Z",
     "start_time": "2021-10-15T04:00:25.929599Z"
    }
   },
   "outputs": [
    {
     "data": {
      "text/plain": [
       "((1480, 729), (1480,), (494, 729), (494,), (1480, 729), (494, 729))"
      ]
     },
     "execution_count": 224,
     "metadata": {},
     "output_type": "execute_result"
    }
   ],
   "source": [
    "from sklearn.preprocessing import StandardScaler\n",
    "\n",
    "ssc = StandardScaler()\n",
    "trans_X = ssc.fit_transform(fX)\n",
    "\n",
    "X_train, X_test, y_train, y_test = train_test_split(fX, caco.values, test_size=0.25)\n",
    "X_train_tran, X_test_tran, y_train, y_test = train_test_split(fX, caco.values, test_size=0.25)\n",
    "X_train.shape,y_train.shape,X_test.shape,y_test.shape, X_train_tran.shape, X_test_tran.shape"
   ]
  },
  {
   "cell_type": "code",
   "execution_count": 236,
   "id": "5312ef08",
   "metadata": {
    "ExecuteTime": {
     "end_time": "2021-10-15T04:29:56.691262Z",
     "start_time": "2021-10-15T04:29:56.536948Z"
    }
   },
   "outputs": [
    {
     "name": "stdout",
     "output_type": "stream",
     "text": [
      "[0.5688259109311741, 0.4845511027749402]\n"
     ]
    },
    {
     "name": "stderr",
     "output_type": "stream",
     "text": [
      "/Users/johnson/opt/anaconda3/lib/python3.8/site-packages/sklearn/linear_model/_logistic.py:763: ConvergenceWarning: lbfgs failed to converge (status=1):\n",
      "STOP: TOTAL NO. of ITERATIONS REACHED LIMIT.\n",
      "\n",
      "Increase the number of iterations (max_iter) or scale the data as shown in:\n",
      "    https://scikit-learn.org/stable/modules/preprocessing.html\n",
      "Please also refer to the documentation for alternative solver options:\n",
      "    https://scikit-learn.org/stable/modules/linear_model.html#logistic-regression\n",
      "  n_iter_i = _check_optimize_result(\n"
     ]
    }
   ],
   "source": [
    "from sklearn.linear_model import LogisticRegression\n",
    "\n",
    "lr = LogisticRegression()                                        # 实例化一个LR模型\n",
    "lr.fit(X_train,y_train)                                          # 训练模型\n",
    "y_prob = lr.predict_proba(X_test)[:,1]                           # 预测1类的概率\n",
    "y_pred = lr.predict(X_test)                                      # 模型对测试集的预测结果\n",
    "fpr_lr,tpr_lr,threshold_lr = metrics.roc_curve(y_test,y_prob)    # 获取真阳率、伪阳率、阈值\n",
    "auc_lr = metrics.auc(fpr_lr,tpr_lr)                              # AUC得分\n",
    "score_lr = metrics.accuracy_score(y_test,y_pred)                 # 模型准确率\n",
    "print([score_lr,auc_lr])"
   ]
  },
  {
   "cell_type": "code",
   "execution_count": 222,
   "id": "9f27925e",
   "metadata": {
    "ExecuteTime": {
     "end_time": "2021-10-15T03:57:30.994226Z",
     "start_time": "2021-10-15T03:54:05.508219Z"
    }
   },
   "outputs": [
    {
     "name": "stdout",
     "output_type": "stream",
     "text": [
      "[0.8825910931174089, 0.9498826624946665]\n",
      "[0.8117408906882592, 0.8994097567913526]\n",
      "[0.7064777327935222, 0.7464798748399943]\n"
     ]
    }
   ],
   "source": [
    "# SVM\n",
    "from sklearn.svm import SVC\n",
    "from sklearn import metrics\n",
    "\n",
    "kernelList = ['linear','rbf','sigmoid']\n",
    "for kernel in kernelList:\n",
    "    svc = SVC(kernel=kernel).fit(X_train,y_train)\n",
    "\n",
    "    # decision border distance\n",
    "    y_prob = svc.decision_function(X_test)\n",
    "    y_pred = svc.predict(X_test)\n",
    "    # false positive, true positive\n",
    "    fpr_svc,tpr_svc,threshold_svc = metrics.roc_curve(y_test,y_prob)\n",
    "    # auc curve\n",
    "    auc_svc = metrics.auc(fpr_svc,tpr_svc)\n",
    "    score_svc = metrics.accuracy_score(y_test,y_pred)\n",
    "    print([score_svc,auc_svc])"
   ]
  },
  {
   "cell_type": "code",
   "execution_count": 222,
   "id": "3f3d835b",
   "metadata": {
    "ExecuteTime": {
     "end_time": "2021-10-15T03:57:30.994226Z",
     "start_time": "2021-10-15T03:54:05.508219Z"
    }
   },
   "outputs": [
    {
     "name": "stdout",
     "output_type": "stream",
     "text": [
      "[0.8825910931174089, 0.9498826624946665]\n",
      "[0.8117408906882592, 0.8994097567913526]\n",
      "[0.7064777327935222, 0.7464798748399943]\n"
     ]
    }
   ],
   "source": [
    "# SVM with standardization\n",
    "kernelList = ['linear','rbf','sigmoid']\n",
    "for kernel in kernelList:\n",
    "    svc = SVC(kernel=kernel).fit(X_train_tran,y_train)\n",
    "\n",
    "    # decision border distance\n",
    "    y_prob = svc.decision_function(X_test_tran)\n",
    "    y_pred = svc.predict(X_test_tran)\n",
    "    # false positive, true positive\n",
    "    fpr_svc,tpr_svc,threshold_svc = metrics.roc_curve(y_test,y_prob)\n",
    "    # auc curve\n",
    "    auc_svc = metrics.auc(fpr_svc,tpr_svc)\n",
    "    score_svc = metrics.accuracy_score(y_test,y_pred)\n",
    "    print([score_svc,auc_svc])"
   ]
  },
  {
   "cell_type": "code",
   "execution_count": null,
   "id": "d6861fc8",
   "metadata": {},
   "outputs": [],
   "source": [
    "# penalty to avoid overfitting\n",
    "score_C=[]\n",
    "CList=np.linspace(0.01,30,50)\n",
    "\n",
    "for i in CList:\n",
    "    svc = SVC(C=i).fit(X_train,y_train)\n",
    "    score_C.append(svc.score(X_test,y_test))\n",
    "\n",
    "print('C={}时,得分最高={}'.format(CList[score_C.index(max(score_C))],max(score_C)))\n",
    "plt.plot(CList, score_C)"
   ]
  },
  {
   "cell_type": "code",
   "execution_count": 230,
   "id": "357dca41",
   "metadata": {
    "ExecuteTime": {
     "end_time": "2021-10-15T04:24:47.298537Z",
     "start_time": "2021-10-15T04:24:47.227659Z"
    }
   },
   "outputs": [
    {
     "name": "stdout",
     "output_type": "stream",
     "text": [
      "[0.8502024291497976, 0.9184599668413913]\n"
     ]
    }
   ],
   "source": [
    "# KNN with standardization\n",
    "from sklearn.neighbors import KNeighborsClassifier\n",
    "\n",
    "knn = KNeighborsClassifier(n_neighbors=5,weights='uniform').fit(X_train_tran,y_train)\n",
    "# knn = KNeighborsClassifier(n_neighbors=5,weights='distance').fit(X_train_tran,y_train)\n",
    "\n",
    "y_prob = knn.predict_proba(X_test_tran)[:,1]                              \n",
    "y_pred = knn.predict(X_test_tran)                                       \n",
    "fpr_knn,tpr_knn,threshold_knn = metrics.roc_curve(y_test,y_prob)   \n",
    "auc_knn = metrics.auc(fpr_knn,tpr_knn)                              \n",
    "score_knn = metrics.accuracy_score(y_test,y_pred)\n",
    "print([score_knn,auc_knn])"
   ]
  },
  {
   "cell_type": "code",
   "execution_count": 228,
   "id": "049c8beb",
   "metadata": {
    "ExecuteTime": {
     "end_time": "2021-10-15T04:17:17.996044Z",
     "start_time": "2021-10-15T04:17:17.477459Z"
    }
   },
   "outputs": [
    {
     "name": "stdout",
     "output_type": "stream",
     "text": [
      "K=5时,得分最高=0.5546558704453441\n"
     ]
    },
    {
     "data": {
      "text/plain": [
       "[<matplotlib.lines.Line2D at 0x7fe8b961de80>]"
      ]
     },
     "execution_count": 228,
     "metadata": {},
     "output_type": "execute_result"
    },
    {
     "data": {
      "image/png": "[encoded data removed]",
      "text/plain": [
       "<Figure size 432x288 with 1 Axes>"
      ]
     },
     "metadata": {
      "needs_background": "light"
     },
     "output_type": "display_data"
    }
   ],
   "source": [
    "# select best K \n",
    "score_K=[]\n",
    "KList=range(2,13)\n",
    "\n",
    "for k in KList:\n",
    "    knn = KNeighborsClassifier(n_neighbors=k).fit(X_train,y_train)\n",
    "    score_K.append(knn.score(X_test,y_test))\n",
    "\n",
    "print('K={}时,得分最高={}'.format(KList[score_K.index(max(score_K))],max(score_K)))\n",
    "plt.plot(KList, score_K)"
   ]
  },
  {
   "cell_type": "code",
   "execution_count": 231,
   "id": "60af7ef8",
   "metadata": {
    "ExecuteTime": {
     "end_time": "2021-10-15T04:25:44.427358Z",
     "start_time": "2021-10-15T04:25:44.000209Z"
    }
   },
   "outputs": [
    {
     "name": "stdout",
     "output_type": "stream",
     "text": [
      "[0.5344129554655871, 0.524014871133589]\n"
     ]
    }
   ],
   "source": [
    "# decision tree\n",
    "from sklearn import tree\n",
    "\n",
    "dtc = tree.DecisionTreeClassifier()                         \n",
    "dtc.fit(X_train,y_train)                                       \n",
    "y_prob = dtc.predict_proba(X_test)[:,1]                          \n",
    "y_pred = dtc.predict(X_test)                                      \n",
    "fpr_dtc,tpr_dtc,threshod_dtc= metrics.roc_curve(y_test,y_prob)   \n",
    "score_dtc = metrics.accuracy_score(y_test,y_pred)                \n",
    "auc_dtc = metrics.auc(fpr_dtc,tpr_dtc) \n",
    "print([score_dtc,auc_dtc])"
   ]
  },
  {
   "cell_type": "code",
   "execution_count": 232,
   "id": "4dcb0aed",
   "metadata": {
    "ExecuteTime": {
     "end_time": "2021-10-15T04:26:19.796573Z",
     "start_time": "2021-10-15T04:26:18.687791Z"
    }
   },
   "outputs": [
    {
     "name": "stdout",
     "output_type": "stream",
     "text": [
      "[0.5526315789473685, 0.501758411066267]\n"
     ]
    }
   ],
   "source": [
    "# random forest classifier\n",
    "from sklearn.ensemble import RandomForestClassifier\n",
    "\n",
    "rfc = RandomForestClassifier()                                     \n",
    "rfc.fit(X_train,y_train)                                           \n",
    "y_prob = rfc.predict_proba(X_test)[:,1]                           \n",
    "fpr_rfc,tpr_rfc,threshold_rfc = metrics.roc_curve(y_test,y_prob)    \n",
    "auc_rfc = metrics.auc(fpr_rfc,tpr_rfc)                             \n",
    "score_rfc = metrics.accuracy_score(y_test,y_pred)                \n",
    "print([score_rfc,auc_rfc])"
   ]
  },
  {
   "cell_type": "code",
   "execution_count": 234,
   "id": "44ae0148",
   "metadata": {
    "ExecuteTime": {
     "end_time": "2021-10-15T04:27:48.457862Z",
     "start_time": "2021-10-15T04:27:47.749875Z"
    }
   },
   "outputs": [
    {
     "name": "stdout",
     "output_type": "stream",
     "text": [
      "[0.5526315789473685, 0.9557717749903706]\n"
     ]
    }
   ],
   "source": [
    "# random forest classifier with standardization\n",
    "from sklearn.ensemble import RandomForestClassifier\n",
    "\n",
    "rfc = RandomForestClassifier(n_estimators=100)                                     \n",
    "rfc.fit(X_train_tran,y_train)                                           \n",
    "y_prob = rfc.predict_proba(X_test_tran)[:,1]                           \n",
    "fpr_rfc,tpr_rfc,threshold_rfc = metrics.roc_curve(y_test,y_prob)    \n",
    "auc_rfc = metrics.auc(fpr_rfc,tpr_rfc)                             \n",
    "score_rfc = metrics.accuracy_score(y_test,y_pred)                \n",
    "print([score_rfc,auc_rfc])"
   ]
  },
  {
   "cell_type": "code",
   "execution_count": 239,
   "id": "0a7729fa",
   "metadata": {
    "ExecuteTime": {
     "end_time": "2021-10-15T04:30:47.820353Z",
     "start_time": "2021-10-15T04:30:47.608160Z"
    }
   },
   "outputs": [
    {
     "data": {
      "image/png": "[encoded data removed]",
      "text/plain": [
       "<Figure size 936x720 with 1 Axes>"
      ]
     },
     "metadata": {
      "needs_background": "light"
     },
     "output_type": "display_data"
    }
   ],
   "source": [
    "# comparison between different approaches\n",
    "plt.style.use('bmh')\n",
    "plt.figure(figsize=(13,10))\n",
    "\n",
    "plt.plot(fpr_lr,tpr_lr,label='lr')                             \n",
    "plt.plot(fpr_svc,tpr_svc,label='svc')                          \n",
    "plt.plot(fpr_knn,tpr_knn,label='knn')                         \n",
    "plt.plot(fpr_dtc,tpr_dtc,label='dtc')                          \n",
    "plt.plot(fpr_rfc,tpr_rfc,label='rfc')                 \n",
    "\n",
    "plt.legend(loc='lower right',prop={'size':25})\n",
    "plt.xlabel('false positive rate')\n",
    "plt.ylabel('true positive rate')\n",
    "plt.title('ROC Curve')\n",
    "plt.show()"
   ]
  },
  {
   "cell_type": "code",
   "execution_count": null,
   "id": "b04b6368",
   "metadata": {},
   "outputs": [],
   "source": []
  },
  {
   "cell_type": "code",
   "execution_count": null,
   "id": "452c5c76",
   "metadata": {},
   "outputs": [],
   "source": []
  },
  {
   "cell_type": "markdown",
   "id": "60487674",
   "metadata": {
    "ExecuteTime": {
     "end_time": "2021-10-15T03:45:30.127473Z",
     "start_time": "2021-10-15T03:45:30.124915Z"
    }
   },
   "source": [
    "#### CYP3A4"
   ]
  },
  {
   "cell_type": "code",
   "execution_count": null,
   "id": "7ce58bcd",
   "metadata": {},
   "outputs": [],
   "source": []
  },
  {
   "cell_type": "markdown",
   "id": "3b764846",
   "metadata": {},
   "source": [
    "#### hERG"
   ]
  },
  {
   "cell_type": "code",
   "execution_count": null,
   "id": "112160c3",
   "metadata": {},
   "outputs": [],
   "source": []
  },
  {
   "cell_type": "markdown",
   "id": "6ab85e7c",
   "metadata": {},
   "source": [
    "#### HOB"
   ]
  },
  {
   "cell_type": "code",
   "execution_count": null,
   "id": "7cb4368d",
   "metadata": {},
   "outputs": [],
   "source": []
  },
  {
   "cell_type": "markdown",
   "id": "6080bb2d",
   "metadata": {},
   "source": [
    "#### MN"
   ]
  },
  {
   "cell_type": "code",
   "execution_count": null,
   "id": "694359e5",
   "metadata": {},
   "outputs": [],
   "source": []
  },
  {
   "cell_type": "code",
   "execution_count": null,
   "id": "e16c8a14",
   "metadata": {},
   "outputs": [],
   "source": [
    "## 草稿部分"
   ]
  },
  {
   "cell_type": "code",
   "execution_count": null,
   "id": "5c12945c",
   "metadata": {},
   "outputs": [],
   "source": []
  },
  {
   "cell_type": "code",
   "execution_count": null,
   "id": "f1922979",
   "metadata": {},
   "outputs": [],
   "source": []
  }
 ],
 "metadata": {
  "kernelspec": {
   "display_name": "Python 3",
   "language": "python",
   "name": "python3"
  },
  "language_info": {
   "codemirror_mode": {
    "name": "ipython",
    "version": 3
   },
   "file_extension": ".py",
   "mimetype": "text/x-python",
   "name": "python",
   "nbconvert_exporter": "python",
   "pygments_lexer": "ipython3",
   "version": "3.8.8"
  },
  "toc": {
   "base_numbering": 1,
   "nav_menu": {},
   "number_sections": true,
   "sideBar": true,
   "skip_h1_title": false,
   "title_cell": "Table of Contents",
   "title_sidebar": "Contents",
   "toc_cell": false,
   "toc_position": {},
   "toc_section_display": true,
   "toc_window_display": false
  },
  "varInspector": {
   "cols": {
    "lenName": 16,
    "lenType": 16,
    "lenVar": 40
   },
   "kernels_config": {
    "python": {
     "delete_cmd_postfix": "",
     "delete_cmd_prefix": "del ",
     "library": "var_list.py",
     "varRefreshCmd": "print(var_dic_list())"
    },
    "r": {
     "delete_cmd_postfix": ") ",
     "delete_cmd_prefix": "rm(",
     "library": "var_list.r",
     "varRefreshCmd": "cat(var_dic_list()) "
    }
   },
   "types_to_exclude": [
    "module",
    "function",
    "builtin_function_or_method",
    "instance",
    "_Feature"
   ],
   "window_display": false
  }
 },
 "nbformat": 4,
 "nbformat_minor": 5
}
