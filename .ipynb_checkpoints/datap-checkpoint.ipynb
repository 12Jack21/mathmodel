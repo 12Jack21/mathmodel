{
 "cells": [
  {
   "cell_type": "code",
   "execution_count": 1,
   "id": "8ebeb57c",
   "metadata": {
    "ExecuteTime": {
     "end_time": "2021-10-16T08:31:29.665235Z",
     "start_time": "2021-10-16T08:31:28.115894Z"
    }
   },
   "outputs": [],
   "source": [
    "import pandas as pd\n",
    "import numpy as np\n",
    "import sklearn\n",
    "import matplotlib.pyplot as plt\n",
    "%matplotlib inline\n",
    "import seaborn as sns"
   ]
  },
  {
   "cell_type": "markdown",
   "id": "f8e2cdc4",
   "metadata": {},
   "source": [
    "## 导入数据与预处理"
   ]
  },
  {
   "cell_type": "markdown",
   "id": "9d9f68f0",
   "metadata": {},
   "source": [
    "### ERα_activity "
   ]
  },
  {
   "cell_type": "code",
   "execution_count": 2,
   "id": "29f662a6",
   "metadata": {
    "ExecuteTime": {
     "end_time": "2021-10-16T08:31:30.150952Z",
     "start_time": "2021-10-16T08:31:29.727817Z"
    }
   },
   "outputs": [
    {
     "data": {
      "text/html": [
       "<div>\n",
       "<style scoped>\n",
       "    .dataframe tbody tr th:only-of-type {\n",
       "        vertical-align: middle;\n",
       "    }\n",
       "\n",
       "    .dataframe tbody tr th {\n",
       "        vertical-align: top;\n",
       "    }\n",
       "\n",
       "    .dataframe thead th {\n",
       "        text-align: right;\n",
       "    }\n",
       "</style>\n",
       "<table border=\"1\" class=\"dataframe\">\n",
       "  <thead>\n",
       "    <tr style=\"text-align: right;\">\n",
       "      <th></th>\n",
       "      <th>SMILES</th>\n",
       "      <th>IC50_nM</th>\n",
       "      <th>pIC50</th>\n",
       "    </tr>\n",
       "  </thead>\n",
       "  <tbody>\n",
       "    <tr>\n",
       "      <th>0</th>\n",
       "      <td>Oc1ccc2O[C@H]([C@H](Sc2c1)C3CCCC3)c4ccc(OCCN5C...</td>\n",
       "      <td>2.5</td>\n",
       "      <td>8.602060</td>\n",
       "    </tr>\n",
       "    <tr>\n",
       "      <th>1</th>\n",
       "      <td>Oc1ccc2O[C@H]([C@H](Sc2c1)C3CCCCCC3)c4ccc(OCCN...</td>\n",
       "      <td>7.5</td>\n",
       "      <td>8.124939</td>\n",
       "    </tr>\n",
       "    <tr>\n",
       "      <th>2</th>\n",
       "      <td>Oc1ccc(cc1)[C@H]2Sc3cc(O)ccc3O[C@H]2c4ccc(OCCN...</td>\n",
       "      <td>3.1</td>\n",
       "      <td>8.508638</td>\n",
       "    </tr>\n",
       "    <tr>\n",
       "      <th>3</th>\n",
       "      <td>Oc1ccc2O[C@H]([C@@H](CC3CCCCC3)Sc2c1)c4ccc(OCC...</td>\n",
       "      <td>3.9</td>\n",
       "      <td>8.408935</td>\n",
       "    </tr>\n",
       "    <tr>\n",
       "      <th>4</th>\n",
       "      <td>Oc1ccc2O[C@H]([C@@H](Cc3ccccc3)Sc2c1)c4ccc(OCC...</td>\n",
       "      <td>7.4</td>\n",
       "      <td>8.130768</td>\n",
       "    </tr>\n",
       "  </tbody>\n",
       "</table>\n",
       "</div>"
      ],
      "text/plain": [
       "                                              SMILES  IC50_nM     pIC50\n",
       "0  Oc1ccc2O[C@H]([C@H](Sc2c1)C3CCCC3)c4ccc(OCCN5C...      2.5  8.602060\n",
       "1  Oc1ccc2O[C@H]([C@H](Sc2c1)C3CCCCCC3)c4ccc(OCCN...      7.5  8.124939\n",
       "2  Oc1ccc(cc1)[C@H]2Sc3cc(O)ccc3O[C@H]2c4ccc(OCCN...      3.1  8.508638\n",
       "3  Oc1ccc2O[C@H]([C@@H](CC3CCCCC3)Sc2c1)c4ccc(OCC...      3.9  8.408935\n",
       "4  Oc1ccc2O[C@H]([C@@H](Cc3ccccc3)Sc2c1)c4ccc(OCC...      7.4  8.130768"
      ]
     },
     "execution_count": 2,
     "metadata": {},
     "output_type": "execute_result"
    }
   ],
   "source": [
    "era = pd.read_excel('ERα_activity.xlsx')\n",
    "era.head()"
   ]
  },
  {
   "cell_type": "code",
   "execution_count": 3,
   "id": "65ca00d6",
   "metadata": {
    "ExecuteTime": {
     "end_time": "2021-10-16T08:31:30.226422Z",
     "start_time": "2021-10-16T08:31:30.219932Z"
    }
   },
   "outputs": [
    {
     "data": {
      "text/plain": [
       "0    8.602060\n",
       "1    8.124939\n",
       "2    8.508638\n",
       "3    8.408935\n",
       "4    8.130768\n",
       "Name: pIC50, dtype: float64"
      ]
     },
     "execution_count": 3,
     "metadata": {},
     "output_type": "execute_result"
    }
   ],
   "source": [
    "erat = era.drop(columns=['SMILES'])\n",
    "erapi = era['pIC50']\n",
    "erapi.head()"
   ]
  },
  {
   "cell_type": "code",
   "execution_count": 4,
   "id": "b65a4924",
   "metadata": {
    "ExecuteTime": {
     "end_time": "2021-10-16T08:31:30.342979Z",
     "start_time": "2021-10-16T08:31:30.332531Z"
    }
   },
   "outputs": [
    {
     "name": "stdout",
     "output_type": "stream",
     "text": [
      "<class 'pandas.core.frame.DataFrame'>\n",
      "RangeIndex: 1974 entries, 0 to 1973\n",
      "Data columns (total 3 columns):\n",
      " #   Column   Non-Null Count  Dtype  \n",
      "---  ------   --------------  -----  \n",
      " 0   SMILES   1974 non-null   object \n",
      " 1   IC50_nM  1974 non-null   float64\n",
      " 2   pIC50    1974 non-null   float64\n",
      "dtypes: float64(2), object(1)\n",
      "memory usage: 46.4+ KB\n"
     ]
    }
   ],
   "source": [
    "era.info()"
   ]
  },
  {
   "cell_type": "code",
   "execution_count": 5,
   "id": "c14bd9bd",
   "metadata": {
    "ExecuteTime": {
     "end_time": "2021-10-16T08:31:30.362684Z",
     "start_time": "2021-10-16T08:31:30.345879Z"
    }
   },
   "outputs": [
    {
     "data": {
      "text/html": [
       "<div>\n",
       "<style scoped>\n",
       "    .dataframe tbody tr th:only-of-type {\n",
       "        vertical-align: middle;\n",
       "    }\n",
       "\n",
       "    .dataframe tbody tr th {\n",
       "        vertical-align: top;\n",
       "    }\n",
       "\n",
       "    .dataframe thead th {\n",
       "        text-align: right;\n",
       "    }\n",
       "</style>\n",
       "<table border=\"1\" class=\"dataframe\">\n",
       "  <thead>\n",
       "    <tr style=\"text-align: right;\">\n",
       "      <th></th>\n",
       "      <th>IC50_nM</th>\n",
       "      <th>pIC50</th>\n",
       "    </tr>\n",
       "  </thead>\n",
       "  <tbody>\n",
       "    <tr>\n",
       "      <th>count</th>\n",
       "      <td>1.974000e+03</td>\n",
       "      <td>1974.000000</td>\n",
       "    </tr>\n",
       "    <tr>\n",
       "      <th>mean</th>\n",
       "      <td>9.910490e+03</td>\n",
       "      <td>6.586112</td>\n",
       "    </tr>\n",
       "    <tr>\n",
       "      <th>std</th>\n",
       "      <td>1.055204e+05</td>\n",
       "      <td>1.423023</td>\n",
       "    </tr>\n",
       "    <tr>\n",
       "      <th>min</th>\n",
       "      <td>4.600000e-02</td>\n",
       "      <td>2.455932</td>\n",
       "    </tr>\n",
       "    <tr>\n",
       "      <th>25%</th>\n",
       "      <td>2.702500e+01</td>\n",
       "      <td>5.382154</td>\n",
       "    </tr>\n",
       "    <tr>\n",
       "      <th>50%</th>\n",
       "      <td>2.625000e+02</td>\n",
       "      <td>6.580871</td>\n",
       "    </tr>\n",
       "    <tr>\n",
       "      <th>75%</th>\n",
       "      <td>4.148125e+03</td>\n",
       "      <td>7.568235</td>\n",
       "    </tr>\n",
       "    <tr>\n",
       "      <th>max</th>\n",
       "      <td>3.500000e+06</td>\n",
       "      <td>10.337242</td>\n",
       "    </tr>\n",
       "  </tbody>\n",
       "</table>\n",
       "</div>"
      ],
      "text/plain": [
       "            IC50_nM        pIC50\n",
       "count  1.974000e+03  1974.000000\n",
       "mean   9.910490e+03     6.586112\n",
       "std    1.055204e+05     1.423023\n",
       "min    4.600000e-02     2.455932\n",
       "25%    2.702500e+01     5.382154\n",
       "50%    2.625000e+02     6.580871\n",
       "75%    4.148125e+03     7.568235\n",
       "max    3.500000e+06    10.337242"
      ]
     },
     "execution_count": 5,
     "metadata": {},
     "output_type": "execute_result"
    }
   ],
   "source": [
    "era.describe()"
   ]
  },
  {
   "cell_type": "code",
   "execution_count": 6,
   "id": "c6d0329f",
   "metadata": {
    "ExecuteTime": {
     "end_time": "2021-10-16T08:31:30.369839Z",
     "start_time": "2021-10-16T08:31:30.365279Z"
    }
   },
   "outputs": [
    {
     "name": "stdout",
     "output_type": "stream",
     "text": [
      "ERα_activity.xlsx 数据集中异常值个数为0\n"
     ]
    }
   ],
   "source": [
    "print('ERα_activity.xlsx 数据集中异常值个数为{}'.format(era.isnull().any().sum()))"
   ]
  },
  {
   "cell_type": "markdown",
   "id": "1b18ba94",
   "metadata": {},
   "source": [
    "### Molecular_Descriptor"
   ]
  },
  {
   "cell_type": "code",
   "execution_count": 7,
   "id": "3eae36d7",
   "metadata": {
    "ExecuteTime": {
     "end_time": "2021-10-16T08:31:49.553088Z",
     "start_time": "2021-10-16T08:31:32.163445Z"
    }
   },
   "outputs": [],
   "source": [
    "mol = pd.read_excel('Molecular_Descriptor.xlsx',sheet_name='training')"
   ]
  },
  {
   "cell_type": "code",
   "execution_count": 8,
   "id": "912c6de8",
   "metadata": {
    "ExecuteTime": {
     "end_time": "2021-10-16T08:31:49.858883Z",
     "start_time": "2021-10-16T08:31:49.838463Z"
    }
   },
   "outputs": [
    {
     "data": {
      "text/html": [
       "<div>\n",
       "<style scoped>\n",
       "    .dataframe tbody tr th:only-of-type {\n",
       "        vertical-align: middle;\n",
       "    }\n",
       "\n",
       "    .dataframe tbody tr th {\n",
       "        vertical-align: top;\n",
       "    }\n",
       "\n",
       "    .dataframe thead th {\n",
       "        text-align: right;\n",
       "    }\n",
       "</style>\n",
       "<table border=\"1\" class=\"dataframe\">\n",
       "  <thead>\n",
       "    <tr style=\"text-align: right;\">\n",
       "      <th></th>\n",
       "      <th>SMILES</th>\n",
       "      <th>nAcid</th>\n",
       "      <th>ALogP</th>\n",
       "      <th>ALogp2</th>\n",
       "      <th>AMR</th>\n",
       "      <th>apol</th>\n",
       "      <th>naAromAtom</th>\n",
       "      <th>nAromBond</th>\n",
       "      <th>nAtom</th>\n",
       "      <th>nHeavyAtom</th>\n",
       "      <th>...</th>\n",
       "      <th>MW</th>\n",
       "      <th>WTPT-1</th>\n",
       "      <th>WTPT-2</th>\n",
       "      <th>WTPT-3</th>\n",
       "      <th>WTPT-4</th>\n",
       "      <th>WTPT-5</th>\n",
       "      <th>WPATH</th>\n",
       "      <th>WPOL</th>\n",
       "      <th>XLogP</th>\n",
       "      <th>Zagreb</th>\n",
       "    </tr>\n",
       "  </thead>\n",
       "  <tbody>\n",
       "    <tr>\n",
       "      <th>0</th>\n",
       "      <td>Oc1ccc2O[C@H]([C@H](Sc2c1)C3CCCC3)c4ccc(OCCN5C...</td>\n",
       "      <td>0</td>\n",
       "      <td>-0.2860</td>\n",
       "      <td>0.081796</td>\n",
       "      <td>126.1188</td>\n",
       "      <td>74.170169</td>\n",
       "      <td>12</td>\n",
       "      <td>12</td>\n",
       "      <td>64</td>\n",
       "      <td>31</td>\n",
       "      <td>...</td>\n",
       "      <td>439.218115</td>\n",
       "      <td>64.771680</td>\n",
       "      <td>2.089409</td>\n",
       "      <td>15.471445</td>\n",
       "      <td>8.858910</td>\n",
       "      <td>3.406628</td>\n",
       "      <td>3011</td>\n",
       "      <td>47</td>\n",
       "      <td>4.666</td>\n",
       "      <td>166</td>\n",
       "    </tr>\n",
       "    <tr>\n",
       "      <th>1</th>\n",
       "      <td>Oc1ccc2O[C@H]([C@H](Sc2c1)C3CCCCCC3)c4ccc(OCCN...</td>\n",
       "      <td>0</td>\n",
       "      <td>-0.8620</td>\n",
       "      <td>0.743044</td>\n",
       "      <td>131.9420</td>\n",
       "      <td>80.357341</td>\n",
       "      <td>12</td>\n",
       "      <td>12</td>\n",
       "      <td>70</td>\n",
       "      <td>33</td>\n",
       "      <td>...</td>\n",
       "      <td>467.249415</td>\n",
       "      <td>68.960024</td>\n",
       "      <td>2.089698</td>\n",
       "      <td>15.486947</td>\n",
       "      <td>8.863774</td>\n",
       "      <td>3.406648</td>\n",
       "      <td>3516</td>\n",
       "      <td>54</td>\n",
       "      <td>5.804</td>\n",
       "      <td>174</td>\n",
       "    </tr>\n",
       "    <tr>\n",
       "      <th>2</th>\n",
       "      <td>Oc1ccc(cc1)[C@H]2Sc3cc(O)ccc3O[C@H]2c4ccc(OCCN...</td>\n",
       "      <td>0</td>\n",
       "      <td>0.7296</td>\n",
       "      <td>0.532316</td>\n",
       "      <td>139.9304</td>\n",
       "      <td>74.064997</td>\n",
       "      <td>18</td>\n",
       "      <td>18</td>\n",
       "      <td>62</td>\n",
       "      <td>33</td>\n",
       "      <td>...</td>\n",
       "      <td>463.181729</td>\n",
       "      <td>68.748923</td>\n",
       "      <td>2.083301</td>\n",
       "      <td>18.011114</td>\n",
       "      <td>11.390412</td>\n",
       "      <td>3.406644</td>\n",
       "      <td>3542</td>\n",
       "      <td>52</td>\n",
       "      <td>2.964</td>\n",
       "      <td>176</td>\n",
       "    </tr>\n",
       "    <tr>\n",
       "      <th>3</th>\n",
       "      <td>Oc1ccc2O[C@H]([C@@H](CC3CCCCC3)Sc2c1)c4ccc(OCC...</td>\n",
       "      <td>0</td>\n",
       "      <td>-0.3184</td>\n",
       "      <td>0.101379</td>\n",
       "      <td>133.4822</td>\n",
       "      <td>80.357341</td>\n",
       "      <td>12</td>\n",
       "      <td>12</td>\n",
       "      <td>70</td>\n",
       "      <td>33</td>\n",
       "      <td>...</td>\n",
       "      <td>467.249415</td>\n",
       "      <td>68.883696</td>\n",
       "      <td>2.087385</td>\n",
       "      <td>15.468365</td>\n",
       "      <td>8.857943</td>\n",
       "      <td>3.406624</td>\n",
       "      <td>3594</td>\n",
       "      <td>50</td>\n",
       "      <td>6.015</td>\n",
       "      <td>174</td>\n",
       "    </tr>\n",
       "    <tr>\n",
       "      <th>4</th>\n",
       "      <td>Oc1ccc2O[C@H]([C@@H](Cc3ccccc3)Sc2c1)c4ccc(OCC...</td>\n",
       "      <td>0</td>\n",
       "      <td>1.3551</td>\n",
       "      <td>1.836296</td>\n",
       "      <td>143.1903</td>\n",
       "      <td>76.356583</td>\n",
       "      <td>18</td>\n",
       "      <td>18</td>\n",
       "      <td>64</td>\n",
       "      <td>33</td>\n",
       "      <td>...</td>\n",
       "      <td>461.202465</td>\n",
       "      <td>68.883696</td>\n",
       "      <td>2.087385</td>\n",
       "      <td>15.468365</td>\n",
       "      <td>8.857943</td>\n",
       "      <td>3.406624</td>\n",
       "      <td>3594</td>\n",
       "      <td>50</td>\n",
       "      <td>4.462</td>\n",
       "      <td>174</td>\n",
       "    </tr>\n",
       "  </tbody>\n",
       "</table>\n",
       "<p>5 rows × 730 columns</p>\n",
       "</div>"
      ],
      "text/plain": [
       "                                              SMILES  nAcid   ALogP    ALogp2  \\\n",
       "0  Oc1ccc2O[C@H]([C@H](Sc2c1)C3CCCC3)c4ccc(OCCN5C...      0 -0.2860  0.081796   \n",
       "1  Oc1ccc2O[C@H]([C@H](Sc2c1)C3CCCCCC3)c4ccc(OCCN...      0 -0.8620  0.743044   \n",
       "2  Oc1ccc(cc1)[C@H]2Sc3cc(O)ccc3O[C@H]2c4ccc(OCCN...      0  0.7296  0.532316   \n",
       "3  Oc1ccc2O[C@H]([C@@H](CC3CCCCC3)Sc2c1)c4ccc(OCC...      0 -0.3184  0.101379   \n",
       "4  Oc1ccc2O[C@H]([C@@H](Cc3ccccc3)Sc2c1)c4ccc(OCC...      0  1.3551  1.836296   \n",
       "\n",
       "        AMR       apol  naAromAtom  nAromBond  nAtom  nHeavyAtom  ...  \\\n",
       "0  126.1188  74.170169          12         12     64          31  ...   \n",
       "1  131.9420  80.357341          12         12     70          33  ...   \n",
       "2  139.9304  74.064997          18         18     62          33  ...   \n",
       "3  133.4822  80.357341          12         12     70          33  ...   \n",
       "4  143.1903  76.356583          18         18     64          33  ...   \n",
       "\n",
       "           MW     WTPT-1    WTPT-2     WTPT-3     WTPT-4    WTPT-5  WPATH  \\\n",
       "0  439.218115  64.771680  2.089409  15.471445   8.858910  3.406628   3011   \n",
       "1  467.249415  68.960024  2.089698  15.486947   8.863774  3.406648   3516   \n",
       "2  463.181729  68.748923  2.083301  18.011114  11.390412  3.406644   3542   \n",
       "3  467.249415  68.883696  2.087385  15.468365   8.857943  3.406624   3594   \n",
       "4  461.202465  68.883696  2.087385  15.468365   8.857943  3.406624   3594   \n",
       "\n",
       "   WPOL  XLogP  Zagreb  \n",
       "0    47  4.666     166  \n",
       "1    54  5.804     174  \n",
       "2    52  2.964     176  \n",
       "3    50  6.015     174  \n",
       "4    50  4.462     174  \n",
       "\n",
       "[5 rows x 730 columns]"
      ]
     },
     "execution_count": 8,
     "metadata": {},
     "output_type": "execute_result"
    }
   ],
   "source": [
    "mol.head()"
   ]
  },
  {
   "cell_type": "code",
   "execution_count": 9,
   "id": "c26bae5a",
   "metadata": {
    "ExecuteTime": {
     "end_time": "2021-10-16T08:31:50.105583Z",
     "start_time": "2021-10-16T08:31:50.096693Z"
    }
   },
   "outputs": [],
   "source": [
    "molt = mol.drop(columns=['SMILES'])"
   ]
  },
  {
   "cell_type": "code",
   "execution_count": 10,
   "id": "8d3a0aa4",
   "metadata": {
    "ExecuteTime": {
     "end_time": "2021-10-16T08:31:51.528054Z",
     "start_time": "2021-10-16T08:31:50.549315Z"
    },
    "scrolled": true
   },
   "outputs": [
    {
     "name": "stdout",
     "output_type": "stream",
     "text": [
      "<class 'pandas.core.frame.DataFrame'>\n",
      "RangeIndex: 1974 entries, 0 to 1973\n",
      "Columns: 729 entries, nAcid to Zagreb\n",
      "dtypes: float64(359), int64(370)\n",
      "memory usage: 11.0 MB\n"
     ]
    },
    {
     "data": {
      "text/plain": [
       "(None,\n",
       "              nAcid        ALogP        ALogp2          AMR         apol  \\\n",
       " count  1974.000000  1974.000000  1.974000e+03  1974.000000  1974.000000   \n",
       " mean      0.108409     1.110164  3.288495e+00   116.557106    60.626471   \n",
       " std       0.347900     1.434250  1.283292e+01    31.567455    19.449748   \n",
       " min       0.000000   -23.105000  3.600000e-07    54.067000    30.661930   \n",
       " 25%       0.000000     0.376300  4.052598e-01    88.303700    44.432102   \n",
       " 50%       0.000000     1.170950  1.560251e+00   114.837500    59.901376   \n",
       " 75%       0.000000     1.948100  4.018823e+00   141.423650    74.421376   \n",
       " max       4.000000     5.181700  5.338410e+02   517.429400   359.662740   \n",
       " \n",
       "         naAromAtom    nAromBond        nAtom   nHeavyAtom           nH  ...  \\\n",
       " count  1974.000000  1974.000000  1974.000000  1974.000000  1974.000000  ...   \n",
       " mean     15.446809    16.189463    50.761905    28.112462    22.649443  ...   \n",
       " std       5.155854     5.635271    18.089182     8.073881    10.775491  ...   \n",
       " min       0.000000     0.000000    21.000000    14.000000     5.000000  ...   \n",
       " 25%      12.000000    12.000000    36.250000    21.000000    14.000000  ...   \n",
       " 50%      16.000000    18.000000    50.000000    28.000000    22.000000  ...   \n",
       " 75%      18.000000    18.000000    62.000000    34.000000    29.000000  ...   \n",
       " max      30.000000    34.000000   343.000000   163.000000   180.000000  ...   \n",
       " \n",
       "                 MW       WTPT-1       WTPT-2       WTPT-3       WTPT-4  \\\n",
       " count  1974.000000  1974.000000  1974.000000  1974.000000  1974.000000   \n",
       " mean    391.056697    57.770682     2.053493    15.656437     8.735564   \n",
       " std     111.596103    16.523972     0.031515     7.781943     4.376340   \n",
       " min     194.094294    27.170552     1.927076     2.474468     0.000000   \n",
       " 25%     303.981576    43.723136     2.037907    11.258623     5.187130   \n",
       " 50%     386.036615    56.726986     2.055335    14.958520     8.213370   \n",
       " 75%     463.195900    69.709078     2.075121    18.440536    11.348653   \n",
       " max    2349.392344   318.076845     2.141958   182.633518    50.794729   \n",
       " \n",
       "             WTPT-5          WPATH         WPOL        XLogP       Zagreb  \n",
       " count  1974.000000    1974.000000  1974.000000  1974.000000  1974.000000  \n",
       " mean      4.821318    2709.616515    46.281662     2.965087   150.716312  \n",
       " std       5.595087    7194.525584    13.287751     1.615263    41.445444  \n",
       " min       0.000000     349.000000    14.000000    -3.592000    62.000000  \n",
       " 25%       2.432671     918.000000    36.000000     1.934750   116.000000  \n",
       " 50%       3.406627    2053.000000    46.000000     2.828500   148.000000  \n",
       " 75%       6.765083    3640.000000    55.000000     3.663000   182.000000  \n",
       " max     125.737688  301690.000000   230.000000    14.283000   748.000000  \n",
       " \n",
       " [8 rows x 729 columns])"
      ]
     },
     "execution_count": 10,
     "metadata": {},
     "output_type": "execute_result"
    }
   ],
   "source": [
    "molt.info(),molt.describe()"
   ]
  },
  {
   "cell_type": "code",
   "execution_count": 11,
   "id": "78548b72",
   "metadata": {
    "ExecuteTime": {
     "end_time": "2021-10-16T08:31:51.870548Z",
     "start_time": "2021-10-16T08:31:51.864024Z"
    }
   },
   "outputs": [
    {
     "name": "stdout",
     "output_type": "stream",
     "text": [
      "Molecular_Descriptor.xlsx 数据集中异常值个数为0\n"
     ]
    }
   ],
   "source": [
    "print('Molecular_Descriptor.xlsx 数据集中异常值个数为{}'.format(molt.isnull().any().sum()))"
   ]
  },
  {
   "cell_type": "markdown",
   "id": "0c040c5d",
   "metadata": {},
   "source": [
    "## 特征选择"
   ]
  },
  {
   "cell_type": "code",
   "execution_count": 12,
   "id": "1ee93256",
   "metadata": {
    "ExecuteTime": {
     "end_time": "2021-10-16T08:31:52.235718Z",
     "start_time": "2021-10-16T08:31:52.179834Z"
    }
   },
   "outputs": [
    {
     "data": {
      "text/plain": [
       "((1974, 729), (1974, 729), (1974,))"
      ]
     },
     "execution_count": 12,
     "metadata": {},
     "output_type": "execute_result"
    }
   ],
   "source": [
    "# 相关性算法：灰色关联、皮尔逊、秩相关、肯德尔、余弦、典型相关分析、Elasticsearch相关性\n",
    "from sklearn.preprocessing import StandardScaler\n",
    "\n",
    "ssc = StandardScaler()\n",
    "fX = molt.values\n",
    "fX_trans = ssc.fit_transform(fX)\n",
    "fy = erapi.values\n",
    "fX.shape,fX_trans.shape,fy.shape"
   ]
  },
  {
   "cell_type": "code",
   "execution_count": 14,
   "id": "0ef29100",
   "metadata": {
    "ExecuteTime": {
     "end_time": "2021-10-15T16:25:36.989725Z",
     "start_time": "2021-10-15T16:25:36.821724Z"
    }
   },
   "outputs": [
    {
     "name": "stdout",
     "output_type": "stream",
     "text": [
      "features whose variance equal to 0:\n",
      "nB  nBondsQ  nHsNH3p  nHssNH2p  nHsssNHp  nHmisc  nsLi  nssBe  nssssBem  nsBH2  nssBH  nsssB  nssssBm  nddC  nsNH3p  nssNH2p  nsssNHp  nddsN  naOm  nsSiH3  nssSiH2  nsssSiH  nssssSi  nsPH2  nssPH  nsssP  nddsP  nsssssP  nssssssS  nSm  nsGeH3  nssGeH2  nsssGeH  nssssGe  nsAsH2  nssAsH  nsssAs  ndsssAs  nddsAs  nsssssAs  nsSeH  ndSe  nssSe  naaSe  ndssSe  nssssssSe  nddssSe  nsSnH3  nssSnH2  nsssSnH  nssssSn  nsPbH3  nssPbH2  nsssPbH  nssssPb  SHsNH3p  SHssNH2p  SHsssNHp  SHmisc  SsLi  SssBe  SssssBem  SsBH2  SssBH  SsssB  SssssBm  SddC  SsNH3p  SssNH2p  SsssNHp  SddsN  SaOm  SsSiH3  SssSiH2  SsssSiH  SssssSi  SsPH2  SssPH  SsssP  SddsP  SsssssP  SssssssS  SSm  SsGeH3  SssGeH2  SsssGeH  SssssGe  SsAsH2  SssAsH  SsssAs  SdsssAs  SddsAs  SsssssAs  SsSeH  SdSe  SssSe  SaaSe  SdssSe  SssssssSe  SddssSe  SsSnH3  SssSnH2  SsssSnH  SssssSn  SsPbH3  SssPbH2  SsssPbH  SssssPb  minHsNH3p  minHssNH2p  minHsssNHp  minHmisc  minsLi  minssBe  minssssBem  minsBH2  minssBH  minsssB  minssssBm  minddC  minsNH3p  minssNH2p  minsssNHp  minddsN  minaOm  minsSiH3  minssSiH2  minsssSiH  minssssSi  minsPH2  minssPH  minsssP  minddsP  minsssssP  minssssssS  minSm  minsGeH3  minssGeH2  minsssGeH  minssssGe  minsAsH2  minssAsH  minsssAs  mindsssAs  minddsAs  minsssssAs  minsSeH  mindSe  minssSe  minaaSe  mindssSe  minssssssSe  minddssSe  minsSnH3  minssSnH2  minsssSnH  minssssSn  minsPbH3  minssPbH2  minsssPbH  minssssPb  maxHsNH3p  maxHssNH2p  maxHsssNHp  maxHmisc  maxsLi  maxssBe  maxssssBem  maxsBH2  maxssBH  maxsssB  maxssssBm  maxddC  maxsNH3p  maxssNH2p  maxsssNHp  maxddsN  maxaOm  maxsSiH3  maxssSiH2  maxsssSiH  maxssssSi  maxsPH2  maxssPH  maxsssP  maxdsssP  maxddsP  maxsssssP  maxssS  maxaaS  maxdssS  maxddssS  maxssssssS  maxSm  maxsGeH3  maxssGeH2  maxsssGeH  maxssssGe  maxsAsH2  maxssAsH  maxsssAs  maxdsssAs  maxddsAs  maxsssssAs  maxsSeH  maxdSe  maxssSe  maxaaSe  maxdssSe  maxssssssSe  maxddssSe  maxsSnH3  maxssSnH2  maxsssSnH  maxssssSn  maxsI  maxsPbH3  maxssPbH2  maxsssPbH  maxssssPb  n9Ring  n10Ring  n11Ring  nF4Ring  nF5Ring  \n",
      "\n",
      "number of zero variance feature:  225\n"
     ]
    }
   ],
   "source": [
    "# remove features with low variance\n",
    "from sklearn.feature_selection import VarianceThreshold\n",
    "from sklearn.feature_selection import SelectKBest\n",
    "sel = VarianceThreshold(threshold=(.8 * (1 - .8)))\n",
    "sel.fit(fX)\n",
    "print('features whose variance equal to 0:')\n",
    "sel_vars = sel.variances_\n",
    "n_zero_var = 0\n",
    "for i in range(len(sel_vars)):\n",
    "    if sel_vars[i] == 0:\n",
    "        print('{} '.format(molt.columns[i]),end=' ')\n",
    "        n_zero_var += 1\n",
    "print('\\n\\nnumber of zero variance feature: ',n_zero_var)"
   ]
  },
  {
   "cell_type": "code",
   "execution_count": 15,
   "id": "964a2d8b",
   "metadata": {
    "ExecuteTime": {
     "end_time": "2021-10-15T16:25:45.158519Z",
     "start_time": "2021-10-15T16:25:40.536850Z"
    }
   },
   "outputs": [
    {
     "data": {
      "text/plain": [
       "SsOH        0.372421\n",
       "BCUTc-1l    0.360704\n",
       "BCUTc-1h    0.345784\n",
       "maxHsOH     0.344566\n",
       "SHsOH       0.335760\n",
       "minHsOH     0.321582\n",
       "maxsOH      0.306191\n",
       "WTPT-3      0.304116\n",
       "minHBa      0.301623\n",
       "maxssO      0.290620\n",
       "SssO        0.290616\n",
       "WTPT-5      0.288463\n",
       "minsOH      0.285684\n",
       "MDEC-23     0.283046\n",
       "minwHBa     0.280190\n",
       "MLFER_A     0.277779\n",
       "SaaCH       0.273449\n",
       "minaasC     0.272453\n",
       "maxHBa      0.270284\n",
       "SHBd        0.269382\n",
       "dtype: float64"
      ]
     },
     "execution_count": 15,
     "metadata": {},
     "output_type": "execute_result"
    }
   ],
   "source": [
    "# information gain\n",
    "from sklearn.feature_selection import mutual_info_regression\n",
    "mu_imp = mutual_info_regression(molt.values,erapi.values)\n",
    "fea_imp = pd.Series(mu_imp,index=molt.columns)\n",
    "fea_imp.sort_values(ascending=False)[:20]\n",
    "# fea_imp.plot(kind='barh',color='teal')"
   ]
  },
  {
   "cell_type": "code",
   "execution_count": 17,
   "id": "f905b5c5",
   "metadata": {
    "ExecuteTime": {
     "end_time": "2021-10-15T07:20:08.768582Z",
     "start_time": "2021-10-15T07:19:55.858611Z"
    }
   },
   "outputs": [
    {
     "name": "stderr",
     "output_type": "stream",
     "text": [
      "/Users/johnson/opt/anaconda3/lib/python3.8/site-packages/skfeature/function/similarity_based/fisher_score.py:59: RuntimeWarning: divide by zero encountered in true_divide\n",
      "  score = 1.0 / lap_score - 1\n"
     ]
    },
    {
     "data": {
      "text/plain": [
       "minaaSe        728\n",
       "minssCH2       727\n",
       "nI             726\n",
       "nHsSH          725\n",
       "nSm            724\n",
       "nHaaNH         723\n",
       "naasC          722\n",
       "SHsNH3p        721\n",
       "nssSiH2        720\n",
       "SsF            719\n",
       "maxssssssSe    718\n",
       "nHsOH          717\n",
       "nHBint8        716\n",
       "SddssSe        715\n",
       "VPC-5          714\n",
       "nC             713\n",
       "maxHBint7      712\n",
       "VP-7           711\n",
       "SsPH2          710\n",
       "ATSc2          709\n",
       "dtype: int64"
      ]
     },
     "execution_count": 17,
     "metadata": {},
     "output_type": "execute_result"
    }
   ],
   "source": [
    "# fisher score\n",
    "from skfeature.function.similarity_based import fisher_score\n",
    "fish_rank = fisher_score.fisher_score(fX,fy)\n",
    "fea_imp = pd.Series(fish_rank, index=molt.columns)\n",
    "fea_imp.sort_values(ascending=False)[:20]"
   ]
  },
  {
   "cell_type": "code",
   "execution_count": 128,
   "id": "809ae012",
   "metadata": {
    "ExecuteTime": {
     "end_time": "2021-10-14T16:12:30.599132Z",
     "start_time": "2021-10-14T16:12:30.581404Z"
    }
   },
   "outputs": [
    {
     "name": "stderr",
     "output_type": "stream",
     "text": [
      "/Users/johnson/opt/anaconda3/lib/python3.8/site-packages/sklearn/feature_selection/_univariate_selection.py:301: RuntimeWarning: invalid value encountered in true_divide\n",
      "  corr /= X_norms\n",
      "/Users/johnson/opt/anaconda3/lib/python3.8/site-packages/sklearn/feature_selection/_univariate_selection.py:301: RuntimeWarning: invalid value encountered in true_divide\n",
      "  corr /= X_norms\n"
     ]
    },
    {
     "data": {
      "text/plain": [
       "Index(['MDEC-23', 'MLogP', 'LipoaffinityIndex', 'maxsOH', 'minsOH', 'nC',\n",
       "       'nT6Ring', 'n6Ring', 'minsssN', 'BCUTp-1h', 'C2SP2', 'hmin', 'AMR',\n",
       "       'SwHBa', 'maxsssN', 'MDEC-22', 'SP-5', 'SaaCH', 'CrippenLogP',\n",
       "       'maxHsOH'],\n",
       "      dtype='object')"
      ]
     },
     "execution_count": 128,
     "metadata": {},
     "output_type": "execute_result"
    }
   ],
   "source": [
    "# select top-20 best model from f_regression\n",
    "from sklearn.feature_selection import f_regression\n",
    "f_score = f_regression(fX,fy)[1]\n",
    "f_best = SelectKBest(f_regression, k=20).fit_transform(fX,fy)\n",
    "f_score_sorted = np.argsort(f_score)\n",
    "molt.columns[f_score_sorted[:20]]\n",
    "# np.sort(f_score[1],)"
   ]
  },
  {
   "cell_type": "code",
   "execution_count": 119,
   "id": "3259c2cc",
   "metadata": {
    "ExecuteTime": {
     "end_time": "2021-10-16T02:28:41.326163Z",
     "start_time": "2021-10-16T02:28:40.939781Z"
    }
   },
   "outputs": [
    {
     "name": "stderr",
     "output_type": "stream",
     "text": [
      "/Users/johnson/opt/anaconda3/envs/prac/lib/python3.8/site-packages/sklearn/linear_model/_coordinate_descent.py:530: ConvergenceWarning: Objective did not converge. You might want to increase the number of iterations. Duality gap: 327.3765820039396, tolerance: 0.39953155744665325\n",
      "  model = cd_fast.enet_coordinate_descent(\n"
     ]
    },
    {
     "data": {
      "text/plain": [
       "(20,\n",
       " Index(['ATSp1', 'ATSp2', 'ATSp3', 'ATSp4', 'ATSp5', 'BCUTw-1h', 'ECCEN',\n",
       "        'SHBa', 'SHBint8', 'SsOH', 'SdO', 'SsF', 'mindO', 'maxsOH', 'fragC',\n",
       "        'MDEC-23', 'TopoPSA', 'VABC', 'MW', 'WPATH'],\n",
       "       dtype='object'))"
      ]
     },
     "execution_count": 119,
     "metadata": {},
     "output_type": "execute_result"
    }
   ],
   "source": [
    "# lasso selection model\n",
    "from sklearn.linear_model import Lasso\n",
    "from sklearn.model_selection import train_test_split\n",
    "# try different alpha values\n",
    "lasso_ = Lasso(alpha=0.6).fit(fX,fy)\n",
    "lasso_coefs = (lasso_.coef_*100).tolist()\n",
    "las_col = [i for i in range(len(lasso_coefs)) if lasso_coefs[i] != 0]\n",
    "len(las_col),molt.columns[las_col]"
   ]
  },
  {
   "cell_type": "code",
   "execution_count": 123,
   "id": "11ed9291",
   "metadata": {
    "ExecuteTime": {
     "end_time": "2021-10-16T02:29:21.153508Z",
     "start_time": "2021-10-16T02:29:21.098152Z"
    }
   },
   "outputs": [
    {
     "data": {
      "text/plain": [
       "(20,\n",
       " Index(['ATSc4', 'BCUTp-1h', 'C1SP2', 'C3SP2', 'minHBa', 'minHBint5',\n",
       "        'minHBint10', 'minHsOH', 'minHssNH', 'mindsCH', 'mindsN', 'minsssN',\n",
       "        'mindO', 'minssS', 'maxHBd', 'maxHsOH', 'maxsssCH', 'LipoaffinityIndex',\n",
       "        'MDEC-23', 'MLFER_A'],\n",
       "       dtype='object'))"
      ]
     },
     "execution_count": 123,
     "metadata": {},
     "output_type": "execute_result"
    }
   ],
   "source": [
    "# lasso selection model\n",
    "from sklearn.linear_model import Lasso\n",
    "from sklearn.model_selection import train_test_split\n",
    "# try different alpha values\n",
    "lasso_ = Lasso(alpha=0.1).fit(fX_trans,fy)\n",
    "lasso_coefs = (lasso_.coef_*100).tolist()\n",
    "las_col = [i for i in range(len(lasso_coefs)) if lasso_coefs[i] != 0]\n",
    "len(las_col),molt.columns[las_col]"
   ]
  },
  {
   "cell_type": "code",
   "execution_count": null,
   "id": "f4277a11",
   "metadata": {
    "ExecuteTime": {
     "end_time": "2021-10-14T16:42:37.910936Z",
     "start_time": "2021-10-14T16:42:10.394920Z"
    }
   },
   "outputs": [],
   "source": [
    "# randomforest selection\n",
    "from sklearn.model_selection import cross_val_score, ShuffleSplit\n",
    "from sklearn.ensemble import RandomForestRegressor\n",
    "\n",
    "rf = RandomForestRegressor(n_estimators=2, max_depth=4)\n",
    "rf_scores = []\n",
    "# select individual feature and do cross-validation\n",
    "for i in range(fX.shape[1]):\n",
    "    score = cross_val_score(rf,fX[:, i:i+1], fy, scoring=\"r2\", \n",
    "                            cv=ShuffleSplit(len(fX), test_size=0.3))\n",
    "    rf_scores.append((format(np.mean(score), '.3f'), molt.columns[i]))\n",
    "print(sorted(rf_scores, reverse=True))"
   ]
  },
  {
   "cell_type": "code",
   "execution_count": null,
   "id": "d652a5a2",
   "metadata": {},
   "outputs": [],
   "source": []
  },
  {
   "cell_type": "code",
   "execution_count": 175,
   "id": "939dab47",
   "metadata": {
    "ExecuteTime": {
     "end_time": "2021-10-15T01:54:55.314179Z",
     "start_time": "2021-10-15T01:53:37.190895Z"
    }
   },
   "outputs": [
    {
     "data": {
      "text/plain": [
       "Index(['ATSc4', 'BCUTc-1l', 'BCUTp-1h', 'C1SP2', 'C3SP2', 'VC-6', 'SHCsats',\n",
       "       'mindsCH', 'minsssN', 'minsOH', 'mindO', 'maxHBd', 'maxHBint8',\n",
       "       'maxsssCH', 'MAXDP2', 'ETA_dEpsilon_D', 'MDEC-23', 'MDEC-24', 'MLFER_A',\n",
       "       'WTPT-5'],\n",
       "      dtype='object')"
      ]
     },
     "execution_count": 175,
     "metadata": {},
     "output_type": "execute_result"
    }
   ],
   "source": [
    "# forward feature selection\n",
    "from sklearn.feature_selection import SequentialFeatureSelector\n",
    "from sklearn.linear_model import LogisticRegression\n",
    "from sklearn.linear_model import LinearRegression\n",
    "\n",
    "lor = LogisticRegression()\n",
    "lr = LinearRegression()\n",
    "sfs = SequentialFeatureSelector(lr, \n",
    "                                n_features_to_select=20, \n",
    "                                direction='forward',\n",
    "                                scoring='neg_mean_squared_error',\n",
    "                                cv=5)\n",
    "sfs.fit(fX,fy)\n",
    "sfs_sup = sfs.get_support()\n",
    "fea_sfs_lr = [i for i in range(len(sfs_sup)) if sfs_sup[i]]\n",
    "molt.columns[fea_sfs_lr]"
   ]
  },
  {
   "cell_type": "code",
   "execution_count": null,
   "id": "6f02016f",
   "metadata": {
    "ExecuteTime": {
     "end_time": "2021-10-15T02:21:18.321963Z",
     "start_time": "2021-10-15T02:06:37.748402Z"
    }
   },
   "outputs": [],
   "source": [
    "# backward feature selection (occupy much cpu resource)\n",
    "sfs = SequentialFeatureSelector(lr, \n",
    "                                n_features_to_select=1, \n",
    "                                direction='backward',\n",
    "                                scoring='neg_mean_squared_error',\n",
    "                                cv=5)\n",
    "sfs.fit(fX,fy)\n",
    "sfs_sup = sfs.get_support()\n",
    "fea_sfs_lr = [i for i in range(len(sfs_sup)) if sfs_sup[i]]\n",
    "molt.columns[fea_sfs_lr]"
   ]
  },
  {
   "cell_type": "code",
   "execution_count": null,
   "id": "d5803fe1",
   "metadata": {},
   "outputs": [],
   "source": []
  },
  {
   "cell_type": "markdown",
   "id": "9e35a71e",
   "metadata": {},
   "source": [
    "### 相关性矩阵"
   ]
  },
  {
   "cell_type": "code",
   "execution_count": 94,
   "id": "e838c97f",
   "metadata": {
    "ExecuteTime": {
     "end_time": "2021-10-14T15:17:04.223699Z",
     "start_time": "2021-10-14T15:17:01.970486Z"
    }
   },
   "outputs": [
    {
     "data": {
      "text/html": [
       "<div>\n",
       "<style scoped>\n",
       "    .dataframe tbody tr th:only-of-type {\n",
       "        vertical-align: middle;\n",
       "    }\n",
       "\n",
       "    .dataframe tbody tr th {\n",
       "        vertical-align: top;\n",
       "    }\n",
       "\n",
       "    .dataframe thead th {\n",
       "        text-align: right;\n",
       "    }\n",
       "</style>\n",
       "<table border=\"1\" class=\"dataframe\">\n",
       "  <thead>\n",
       "    <tr style=\"text-align: right;\">\n",
       "      <th></th>\n",
       "      <th>nAcid</th>\n",
       "      <th>ALogP</th>\n",
       "      <th>ALogp2</th>\n",
       "      <th>AMR</th>\n",
       "      <th>apol</th>\n",
       "      <th>naAromAtom</th>\n",
       "      <th>nAromBond</th>\n",
       "      <th>nAtom</th>\n",
       "      <th>nHeavyAtom</th>\n",
       "      <th>nH</th>\n",
       "      <th>...</th>\n",
       "      <th>MW</th>\n",
       "      <th>WTPT-1</th>\n",
       "      <th>WTPT-2</th>\n",
       "      <th>WTPT-3</th>\n",
       "      <th>WTPT-4</th>\n",
       "      <th>WTPT-5</th>\n",
       "      <th>WPATH</th>\n",
       "      <th>WPOL</th>\n",
       "      <th>XLogP</th>\n",
       "      <th>Zagreb</th>\n",
       "    </tr>\n",
       "  </thead>\n",
       "  <tbody>\n",
       "    <tr>\n",
       "      <th>nAcid</th>\n",
       "      <td>1.000000</td>\n",
       "      <td>0.243518</td>\n",
       "      <td>0.091095</td>\n",
       "      <td>0.121448</td>\n",
       "      <td>0.060198</td>\n",
       "      <td>0.134609</td>\n",
       "      <td>0.116454</td>\n",
       "      <td>0.043003</td>\n",
       "      <td>0.121425</td>\n",
       "      <td>-0.018790</td>\n",
       "      <td>...</td>\n",
       "      <td>0.114178</td>\n",
       "      <td>0.114287</td>\n",
       "      <td>-0.112722</td>\n",
       "      <td>0.116382</td>\n",
       "      <td>0.120627</td>\n",
       "      <td>0.004035</td>\n",
       "      <td>0.014814</td>\n",
       "      <td>0.107746</td>\n",
       "      <td>0.004302</td>\n",
       "      <td>0.118274</td>\n",
       "    </tr>\n",
       "    <tr>\n",
       "      <th>ALogP</th>\n",
       "      <td>0.243518</td>\n",
       "      <td>1.000000</td>\n",
       "      <td>-0.255028</td>\n",
       "      <td>-0.074840</td>\n",
       "      <td>-0.250839</td>\n",
       "      <td>0.372740</td>\n",
       "      <td>0.357599</td>\n",
       "      <td>-0.308651</td>\n",
       "      <td>-0.222162</td>\n",
       "      <td>-0.351681</td>\n",
       "      <td>...</td>\n",
       "      <td>-0.240888</td>\n",
       "      <td>-0.205436</td>\n",
       "      <td>0.085229</td>\n",
       "      <td>-0.415552</td>\n",
       "      <td>-0.316737</td>\n",
       "      <td>-0.424806</td>\n",
       "      <td>-0.449348</td>\n",
       "      <td>-0.167517</td>\n",
       "      <td>0.186738</td>\n",
       "      <td>-0.171981</td>\n",
       "    </tr>\n",
       "    <tr>\n",
       "      <th>ALogp2</th>\n",
       "      <td>0.091095</td>\n",
       "      <td>-0.255028</td>\n",
       "      <td>1.000000</td>\n",
       "      <td>0.378497</td>\n",
       "      <td>0.429697</td>\n",
       "      <td>-0.032440</td>\n",
       "      <td>-0.034642</td>\n",
       "      <td>0.444176</td>\n",
       "      <td>0.469659</td>\n",
       "      <td>0.393746</td>\n",
       "      <td>...</td>\n",
       "      <td>0.489044</td>\n",
       "      <td>0.441499</td>\n",
       "      <td>-0.140236</td>\n",
       "      <td>0.535852</td>\n",
       "      <td>0.224825</td>\n",
       "      <td>0.520573</td>\n",
       "      <td>0.935940</td>\n",
       "      <td>0.393896</td>\n",
       "      <td>-0.004351</td>\n",
       "      <td>0.408290</td>\n",
       "    </tr>\n",
       "    <tr>\n",
       "      <th>AMR</th>\n",
       "      <td>0.121448</td>\n",
       "      <td>-0.074840</td>\n",
       "      <td>0.378497</td>\n",
       "      <td>1.000000</td>\n",
       "      <td>0.958476</td>\n",
       "      <td>0.517958</td>\n",
       "      <td>0.451325</td>\n",
       "      <td>0.920754</td>\n",
       "      <td>0.972396</td>\n",
       "      <td>0.817102</td>\n",
       "      <td>...</td>\n",
       "      <td>0.948124</td>\n",
       "      <td>0.977560</td>\n",
       "      <td>0.234581</td>\n",
       "      <td>0.546936</td>\n",
       "      <td>0.436380</td>\n",
       "      <td>0.391155</td>\n",
       "      <td>0.544759</td>\n",
       "      <td>0.907052</td>\n",
       "      <td>0.349198</td>\n",
       "      <td>0.963613</td>\n",
       "    </tr>\n",
       "    <tr>\n",
       "      <th>apol</th>\n",
       "      <td>0.060198</td>\n",
       "      <td>-0.250839</td>\n",
       "      <td>0.429697</td>\n",
       "      <td>0.958476</td>\n",
       "      <td>1.000000</td>\n",
       "      <td>0.294009</td>\n",
       "      <td>0.230697</td>\n",
       "      <td>0.992330</td>\n",
       "      <td>0.968538</td>\n",
       "      <td>0.940150</td>\n",
       "      <td>...</td>\n",
       "      <td>0.945403</td>\n",
       "      <td>0.967090</td>\n",
       "      <td>0.158927</td>\n",
       "      <td>0.528375</td>\n",
       "      <td>0.403285</td>\n",
       "      <td>0.426970</td>\n",
       "      <td>0.609934</td>\n",
       "      <td>0.910283</td>\n",
       "      <td>0.417346</td>\n",
       "      <td>0.946580</td>\n",
       "    </tr>\n",
       "    <tr>\n",
       "      <th>...</th>\n",
       "      <td>...</td>\n",
       "      <td>...</td>\n",
       "      <td>...</td>\n",
       "      <td>...</td>\n",
       "      <td>...</td>\n",
       "      <td>...</td>\n",
       "      <td>...</td>\n",
       "      <td>...</td>\n",
       "      <td>...</td>\n",
       "      <td>...</td>\n",
       "      <td>...</td>\n",
       "      <td>...</td>\n",
       "      <td>...</td>\n",
       "      <td>...</td>\n",
       "      <td>...</td>\n",
       "      <td>...</td>\n",
       "      <td>...</td>\n",
       "      <td>...</td>\n",
       "      <td>...</td>\n",
       "      <td>...</td>\n",
       "      <td>...</td>\n",
       "    </tr>\n",
       "    <tr>\n",
       "      <th>WTPT-5</th>\n",
       "      <td>0.004035</td>\n",
       "      <td>-0.424806</td>\n",
       "      <td>0.520573</td>\n",
       "      <td>0.391155</td>\n",
       "      <td>0.426970</td>\n",
       "      <td>0.064511</td>\n",
       "      <td>0.075692</td>\n",
       "      <td>0.434538</td>\n",
       "      <td>0.473202</td>\n",
       "      <td>0.374912</td>\n",
       "      <td>...</td>\n",
       "      <td>0.493880</td>\n",
       "      <td>0.456155</td>\n",
       "      <td>-0.025577</td>\n",
       "      <td>0.751433</td>\n",
       "      <td>-0.001536</td>\n",
       "      <td>1.000000</td>\n",
       "      <td>0.597059</td>\n",
       "      <td>0.349148</td>\n",
       "      <td>-0.198666</td>\n",
       "      <td>0.420492</td>\n",
       "    </tr>\n",
       "    <tr>\n",
       "      <th>WPATH</th>\n",
       "      <td>0.014814</td>\n",
       "      <td>-0.449348</td>\n",
       "      <td>0.935940</td>\n",
       "      <td>0.544759</td>\n",
       "      <td>0.609934</td>\n",
       "      <td>0.030939</td>\n",
       "      <td>0.018690</td>\n",
       "      <td>0.623473</td>\n",
       "      <td>0.642264</td>\n",
       "      <td>0.565408</td>\n",
       "      <td>...</td>\n",
       "      <td>0.657014</td>\n",
       "      <td>0.618856</td>\n",
       "      <td>-0.061697</td>\n",
       "      <td>0.649472</td>\n",
       "      <td>0.361278</td>\n",
       "      <td>0.597059</td>\n",
       "      <td>1.000000</td>\n",
       "      <td>0.551611</td>\n",
       "      <td>0.010922</td>\n",
       "      <td>0.582261</td>\n",
       "    </tr>\n",
       "    <tr>\n",
       "      <th>WPOL</th>\n",
       "      <td>0.107746</td>\n",
       "      <td>-0.167517</td>\n",
       "      <td>0.393896</td>\n",
       "      <td>0.907052</td>\n",
       "      <td>0.910283</td>\n",
       "      <td>0.316222</td>\n",
       "      <td>0.257757</td>\n",
       "      <td>0.890376</td>\n",
       "      <td>0.935823</td>\n",
       "      <td>0.793509</td>\n",
       "      <td>...</td>\n",
       "      <td>0.905838</td>\n",
       "      <td>0.942272</td>\n",
       "      <td>0.287110</td>\n",
       "      <td>0.541695</td>\n",
       "      <td>0.495769</td>\n",
       "      <td>0.349148</td>\n",
       "      <td>0.551611</td>\n",
       "      <td>1.000000</td>\n",
       "      <td>0.282610</td>\n",
       "      <td>0.967832</td>\n",
       "    </tr>\n",
       "    <tr>\n",
       "      <th>XLogP</th>\n",
       "      <td>0.004302</td>\n",
       "      <td>0.186738</td>\n",
       "      <td>-0.004351</td>\n",
       "      <td>0.349198</td>\n",
       "      <td>0.417346</td>\n",
       "      <td>0.096453</td>\n",
       "      <td>0.077495</td>\n",
       "      <td>0.427641</td>\n",
       "      <td>0.289006</td>\n",
       "      <td>0.501350</td>\n",
       "      <td>...</td>\n",
       "      <td>0.259598</td>\n",
       "      <td>0.290884</td>\n",
       "      <td>0.010232</td>\n",
       "      <td>-0.293713</td>\n",
       "      <td>-0.220903</td>\n",
       "      <td>-0.198666</td>\n",
       "      <td>0.010922</td>\n",
       "      <td>0.282610</td>\n",
       "      <td>1.000000</td>\n",
       "      <td>0.268606</td>\n",
       "    </tr>\n",
       "    <tr>\n",
       "      <th>Zagreb</th>\n",
       "      <td>0.118274</td>\n",
       "      <td>-0.171981</td>\n",
       "      <td>0.408290</td>\n",
       "      <td>0.963613</td>\n",
       "      <td>0.946580</td>\n",
       "      <td>0.423967</td>\n",
       "      <td>0.364357</td>\n",
       "      <td>0.916798</td>\n",
       "      <td>0.983682</td>\n",
       "      <td>0.802004</td>\n",
       "      <td>...</td>\n",
       "      <td>0.957970</td>\n",
       "      <td>0.990143</td>\n",
       "      <td>0.290836</td>\n",
       "      <td>0.619853</td>\n",
       "      <td>0.514149</td>\n",
       "      <td>0.420492</td>\n",
       "      <td>0.582261</td>\n",
       "      <td>0.967832</td>\n",
       "      <td>0.268606</td>\n",
       "      <td>1.000000</td>\n",
       "    </tr>\n",
       "  </tbody>\n",
       "</table>\n",
       "<p>729 rows × 729 columns</p>\n",
       "</div>"
      ],
      "text/plain": [
       "           nAcid     ALogP    ALogp2       AMR      apol  naAromAtom  \\\n",
       "nAcid   1.000000  0.243518  0.091095  0.121448  0.060198    0.134609   \n",
       "ALogP   0.243518  1.000000 -0.255028 -0.074840 -0.250839    0.372740   \n",
       "ALogp2  0.091095 -0.255028  1.000000  0.378497  0.429697   -0.032440   \n",
       "AMR     0.121448 -0.074840  0.378497  1.000000  0.958476    0.517958   \n",
       "apol    0.060198 -0.250839  0.429697  0.958476  1.000000    0.294009   \n",
       "...          ...       ...       ...       ...       ...         ...   \n",
       "WTPT-5  0.004035 -0.424806  0.520573  0.391155  0.426970    0.064511   \n",
       "WPATH   0.014814 -0.449348  0.935940  0.544759  0.609934    0.030939   \n",
       "WPOL    0.107746 -0.167517  0.393896  0.907052  0.910283    0.316222   \n",
       "XLogP   0.004302  0.186738 -0.004351  0.349198  0.417346    0.096453   \n",
       "Zagreb  0.118274 -0.171981  0.408290  0.963613  0.946580    0.423967   \n",
       "\n",
       "        nAromBond     nAtom  nHeavyAtom        nH  ...        MW    WTPT-1  \\\n",
       "nAcid    0.116454  0.043003    0.121425 -0.018790  ...  0.114178  0.114287   \n",
       "ALogP    0.357599 -0.308651   -0.222162 -0.351681  ... -0.240888 -0.205436   \n",
       "ALogp2  -0.034642  0.444176    0.469659  0.393746  ...  0.489044  0.441499   \n",
       "AMR      0.451325  0.920754    0.972396  0.817102  ...  0.948124  0.977560   \n",
       "apol     0.230697  0.992330    0.968538  0.940150  ...  0.945403  0.967090   \n",
       "...           ...       ...         ...       ...  ...       ...       ...   \n",
       "WTPT-5   0.075692  0.434538    0.473202  0.374912  ...  0.493880  0.456155   \n",
       "WPATH    0.018690  0.623473    0.642264  0.565408  ...  0.657014  0.618856   \n",
       "WPOL     0.257757  0.890376    0.935823  0.793509  ...  0.905838  0.942272   \n",
       "XLogP    0.077495  0.427641    0.289006  0.501350  ...  0.259598  0.290884   \n",
       "Zagreb   0.364357  0.916798    0.983682  0.802004  ...  0.957970  0.990143   \n",
       "\n",
       "          WTPT-2    WTPT-3    WTPT-4    WTPT-5     WPATH      WPOL     XLogP  \\\n",
       "nAcid  -0.112722  0.116382  0.120627  0.004035  0.014814  0.107746  0.004302   \n",
       "ALogP   0.085229 -0.415552 -0.316737 -0.424806 -0.449348 -0.167517  0.186738   \n",
       "ALogp2 -0.140236  0.535852  0.224825  0.520573  0.935940  0.393896 -0.004351   \n",
       "AMR     0.234581  0.546936  0.436380  0.391155  0.544759  0.907052  0.349198   \n",
       "apol    0.158927  0.528375  0.403285  0.426970  0.609934  0.910283  0.417346   \n",
       "...          ...       ...       ...       ...       ...       ...       ...   \n",
       "WTPT-5 -0.025577  0.751433 -0.001536  1.000000  0.597059  0.349148 -0.198666   \n",
       "WPATH  -0.061697  0.649472  0.361278  0.597059  1.000000  0.551611  0.010922   \n",
       "WPOL    0.287110  0.541695  0.495769  0.349148  0.551611  1.000000  0.282610   \n",
       "XLogP   0.010232 -0.293713 -0.220903 -0.198666  0.010922  0.282610  1.000000   \n",
       "Zagreb  0.290836  0.619853  0.514149  0.420492  0.582261  0.967832  0.268606   \n",
       "\n",
       "          Zagreb  \n",
       "nAcid   0.118274  \n",
       "ALogP  -0.171981  \n",
       "ALogp2  0.408290  \n",
       "AMR     0.963613  \n",
       "apol    0.946580  \n",
       "...          ...  \n",
       "WTPT-5  0.420492  \n",
       "WPATH   0.582261  \n",
       "WPOL    0.967832  \n",
       "XLogP   0.268606  \n",
       "Zagreb  1.000000  \n",
       "\n",
       "[729 rows x 729 columns]"
      ]
     },
     "execution_count": 94,
     "metadata": {},
     "output_type": "execute_result"
    }
   ],
   "source": [
    "# correlation coefficient (pearman)\n",
    "molt_corr = molt.corr()\n",
    "molt_corr\n",
    "#sns.heatmap(mol_corr, center=0, annot=True, cmap='YlGnBu') # take too much time"
   ]
  },
  {
   "cell_type": "code",
   "execution_count": 96,
   "id": "51820152",
   "metadata": {
    "ExecuteTime": {
     "end_time": "2021-10-14T15:23:01.542197Z",
     "start_time": "2021-10-14T15:22:57.390265Z"
    }
   },
   "outputs": [
    {
     "data": {
      "text/html": [
       "<div>\n",
       "<style scoped>\n",
       "    .dataframe tbody tr th:only-of-type {\n",
       "        vertical-align: middle;\n",
       "    }\n",
       "\n",
       "    .dataframe tbody tr th {\n",
       "        vertical-align: top;\n",
       "    }\n",
       "\n",
       "    .dataframe thead th {\n",
       "        text-align: right;\n",
       "    }\n",
       "</style>\n",
       "<table border=\"1\" class=\"dataframe\">\n",
       "  <thead>\n",
       "    <tr style=\"text-align: right;\">\n",
       "      <th></th>\n",
       "      <th>nAcid</th>\n",
       "      <th>ALogP</th>\n",
       "      <th>ALogp2</th>\n",
       "      <th>AMR</th>\n",
       "      <th>apol</th>\n",
       "      <th>naAromAtom</th>\n",
       "      <th>nAromBond</th>\n",
       "      <th>nAtom</th>\n",
       "      <th>nHeavyAtom</th>\n",
       "      <th>nH</th>\n",
       "      <th>...</th>\n",
       "      <th>MW</th>\n",
       "      <th>WTPT-1</th>\n",
       "      <th>WTPT-2</th>\n",
       "      <th>WTPT-3</th>\n",
       "      <th>WTPT-4</th>\n",
       "      <th>WTPT-5</th>\n",
       "      <th>WPATH</th>\n",
       "      <th>WPOL</th>\n",
       "      <th>XLogP</th>\n",
       "      <th>Zagreb</th>\n",
       "    </tr>\n",
       "  </thead>\n",
       "  <tbody>\n",
       "    <tr>\n",
       "      <th>nAcid</th>\n",
       "      <td>1.000000</td>\n",
       "      <td>0.298464</td>\n",
       "      <td>0.294498</td>\n",
       "      <td>0.127125</td>\n",
       "      <td>0.087442</td>\n",
       "      <td>0.148992</td>\n",
       "      <td>0.128085</td>\n",
       "      <td>0.071150</td>\n",
       "      <td>0.142736</td>\n",
       "      <td>0.011872</td>\n",
       "      <td>...</td>\n",
       "      <td>0.137757</td>\n",
       "      <td>0.130279</td>\n",
       "      <td>-0.190618</td>\n",
       "      <td>0.097911</td>\n",
       "      <td>0.099315</td>\n",
       "      <td>-0.081729</td>\n",
       "      <td>0.123396</td>\n",
       "      <td>0.149544</td>\n",
       "      <td>0.072792</td>\n",
       "      <td>0.138795</td>\n",
       "    </tr>\n",
       "    <tr>\n",
       "      <th>ALogP</th>\n",
       "      <td>0.298464</td>\n",
       "      <td>1.000000</td>\n",
       "      <td>0.839721</td>\n",
       "      <td>0.154591</td>\n",
       "      <td>0.044144</td>\n",
       "      <td>0.352324</td>\n",
       "      <td>0.365084</td>\n",
       "      <td>-0.000730</td>\n",
       "      <td>0.060073</td>\n",
       "      <td>-0.060433</td>\n",
       "      <td>...</td>\n",
       "      <td>0.054366</td>\n",
       "      <td>0.053615</td>\n",
       "      <td>-0.039049</td>\n",
       "      <td>-0.173593</td>\n",
       "      <td>-0.232812</td>\n",
       "      <td>-0.144005</td>\n",
       "      <td>0.043113</td>\n",
       "      <td>0.063338</td>\n",
       "      <td>0.325502</td>\n",
       "      <td>0.060326</td>\n",
       "    </tr>\n",
       "    <tr>\n",
       "      <th>ALogp2</th>\n",
       "      <td>0.294498</td>\n",
       "      <td>0.839721</td>\n",
       "      <td>1.000000</td>\n",
       "      <td>0.206210</td>\n",
       "      <td>0.131773</td>\n",
       "      <td>0.258400</td>\n",
       "      <td>0.267773</td>\n",
       "      <td>0.095173</td>\n",
       "      <td>0.142974</td>\n",
       "      <td>0.044380</td>\n",
       "      <td>...</td>\n",
       "      <td>0.136171</td>\n",
       "      <td>0.134108</td>\n",
       "      <td>-0.121343</td>\n",
       "      <td>-0.111207</td>\n",
       "      <td>-0.177669</td>\n",
       "      <td>-0.106748</td>\n",
       "      <td>0.129674</td>\n",
       "      <td>0.138409</td>\n",
       "      <td>0.341661</td>\n",
       "      <td>0.135492</td>\n",
       "    </tr>\n",
       "    <tr>\n",
       "      <th>AMR</th>\n",
       "      <td>0.127125</td>\n",
       "      <td>0.154591</td>\n",
       "      <td>0.206210</td>\n",
       "      <td>1.000000</td>\n",
       "      <td>0.961691</td>\n",
       "      <td>0.661600</td>\n",
       "      <td>0.589020</td>\n",
       "      <td>0.926123</td>\n",
       "      <td>0.970967</td>\n",
       "      <td>0.804414</td>\n",
       "      <td>...</td>\n",
       "      <td>0.946192</td>\n",
       "      <td>0.971228</td>\n",
       "      <td>0.326233</td>\n",
       "      <td>0.455455</td>\n",
       "      <td>0.353602</td>\n",
       "      <td>0.304766</td>\n",
       "      <td>0.967399</td>\n",
       "      <td>0.892645</td>\n",
       "      <td>0.448692</td>\n",
       "      <td>0.951214</td>\n",
       "    </tr>\n",
       "    <tr>\n",
       "      <th>apol</th>\n",
       "      <td>0.087442</td>\n",
       "      <td>0.044144</td>\n",
       "      <td>0.131773</td>\n",
       "      <td>0.961691</td>\n",
       "      <td>1.000000</td>\n",
       "      <td>0.504649</td>\n",
       "      <td>0.425076</td>\n",
       "      <td>0.990971</td>\n",
       "      <td>0.959475</td>\n",
       "      <td>0.921645</td>\n",
       "      <td>...</td>\n",
       "      <td>0.926193</td>\n",
       "      <td>0.959164</td>\n",
       "      <td>0.318972</td>\n",
       "      <td>0.372514</td>\n",
       "      <td>0.314274</td>\n",
       "      <td>0.272351</td>\n",
       "      <td>0.952547</td>\n",
       "      <td>0.906731</td>\n",
       "      <td>0.510868</td>\n",
       "      <td>0.942748</td>\n",
       "    </tr>\n",
       "    <tr>\n",
       "      <th>...</th>\n",
       "      <td>...</td>\n",
       "      <td>...</td>\n",
       "      <td>...</td>\n",
       "      <td>...</td>\n",
       "      <td>...</td>\n",
       "      <td>...</td>\n",
       "      <td>...</td>\n",
       "      <td>...</td>\n",
       "      <td>...</td>\n",
       "      <td>...</td>\n",
       "      <td>...</td>\n",
       "      <td>...</td>\n",
       "      <td>...</td>\n",
       "      <td>...</td>\n",
       "      <td>...</td>\n",
       "      <td>...</td>\n",
       "      <td>...</td>\n",
       "      <td>...</td>\n",
       "      <td>...</td>\n",
       "      <td>...</td>\n",
       "      <td>...</td>\n",
       "    </tr>\n",
       "    <tr>\n",
       "      <th>WTPT-5</th>\n",
       "      <td>-0.081729</td>\n",
       "      <td>-0.144005</td>\n",
       "      <td>-0.106748</td>\n",
       "      <td>0.304766</td>\n",
       "      <td>0.272351</td>\n",
       "      <td>0.218260</td>\n",
       "      <td>0.186234</td>\n",
       "      <td>0.257380</td>\n",
       "      <td>0.320081</td>\n",
       "      <td>0.194506</td>\n",
       "      <td>...</td>\n",
       "      <td>0.317963</td>\n",
       "      <td>0.324961</td>\n",
       "      <td>0.193800</td>\n",
       "      <td>0.537170</td>\n",
       "      <td>-0.169968</td>\n",
       "      <td>1.000000</td>\n",
       "      <td>0.337279</td>\n",
       "      <td>0.221481</td>\n",
       "      <td>-0.129881</td>\n",
       "      <td>0.310909</td>\n",
       "    </tr>\n",
       "    <tr>\n",
       "      <th>WPATH</th>\n",
       "      <td>0.123396</td>\n",
       "      <td>0.043113</td>\n",
       "      <td>0.129674</td>\n",
       "      <td>0.967399</td>\n",
       "      <td>0.952547</td>\n",
       "      <td>0.600290</td>\n",
       "      <td>0.525283</td>\n",
       "      <td>0.925527</td>\n",
       "      <td>0.992083</td>\n",
       "      <td>0.790220</td>\n",
       "      <td>...</td>\n",
       "      <td>0.963684</td>\n",
       "      <td>0.988957</td>\n",
       "      <td>0.275921</td>\n",
       "      <td>0.557568</td>\n",
       "      <td>0.434226</td>\n",
       "      <td>0.337279</td>\n",
       "      <td>1.000000</td>\n",
       "      <td>0.894391</td>\n",
       "      <td>0.390364</td>\n",
       "      <td>0.963631</td>\n",
       "    </tr>\n",
       "    <tr>\n",
       "      <th>WPOL</th>\n",
       "      <td>0.149544</td>\n",
       "      <td>0.063338</td>\n",
       "      <td>0.138409</td>\n",
       "      <td>0.892645</td>\n",
       "      <td>0.906731</td>\n",
       "      <td>0.494950</td>\n",
       "      <td>0.424504</td>\n",
       "      <td>0.889545</td>\n",
       "      <td>0.933442</td>\n",
       "      <td>0.775660</td>\n",
       "      <td>...</td>\n",
       "      <td>0.895049</td>\n",
       "      <td>0.935278</td>\n",
       "      <td>0.379534</td>\n",
       "      <td>0.431551</td>\n",
       "      <td>0.400694</td>\n",
       "      <td>0.221481</td>\n",
       "      <td>0.894391</td>\n",
       "      <td>1.000000</td>\n",
       "      <td>0.403700</td>\n",
       "      <td>0.963937</td>\n",
       "    </tr>\n",
       "    <tr>\n",
       "      <th>XLogP</th>\n",
       "      <td>0.072792</td>\n",
       "      <td>0.325502</td>\n",
       "      <td>0.341661</td>\n",
       "      <td>0.448692</td>\n",
       "      <td>0.510868</td>\n",
       "      <td>0.245372</td>\n",
       "      <td>0.222946</td>\n",
       "      <td>0.523117</td>\n",
       "      <td>0.407307</td>\n",
       "      <td>0.573974</td>\n",
       "      <td>...</td>\n",
       "      <td>0.376626</td>\n",
       "      <td>0.405263</td>\n",
       "      <td>0.120929</td>\n",
       "      <td>-0.262242</td>\n",
       "      <td>-0.213624</td>\n",
       "      <td>-0.129881</td>\n",
       "      <td>0.390364</td>\n",
       "      <td>0.403700</td>\n",
       "      <td>1.000000</td>\n",
       "      <td>0.391971</td>\n",
       "    </tr>\n",
       "    <tr>\n",
       "      <th>Zagreb</th>\n",
       "      <td>0.138795</td>\n",
       "      <td>0.060326</td>\n",
       "      <td>0.135492</td>\n",
       "      <td>0.951214</td>\n",
       "      <td>0.942748</td>\n",
       "      <td>0.594482</td>\n",
       "      <td>0.519984</td>\n",
       "      <td>0.915270</td>\n",
       "      <td>0.984461</td>\n",
       "      <td>0.779988</td>\n",
       "      <td>...</td>\n",
       "      <td>0.948370</td>\n",
       "      <td>0.988556</td>\n",
       "      <td>0.401631</td>\n",
       "      <td>0.520059</td>\n",
       "      <td>0.423114</td>\n",
       "      <td>0.310909</td>\n",
       "      <td>0.963631</td>\n",
       "      <td>0.963937</td>\n",
       "      <td>0.391971</td>\n",
       "      <td>1.000000</td>\n",
       "    </tr>\n",
       "  </tbody>\n",
       "</table>\n",
       "<p>729 rows × 729 columns</p>\n",
       "</div>"
      ],
      "text/plain": [
       "           nAcid     ALogP    ALogp2       AMR      apol  naAromAtom  \\\n",
       "nAcid   1.000000  0.298464  0.294498  0.127125  0.087442    0.148992   \n",
       "ALogP   0.298464  1.000000  0.839721  0.154591  0.044144    0.352324   \n",
       "ALogp2  0.294498  0.839721  1.000000  0.206210  0.131773    0.258400   \n",
       "AMR     0.127125  0.154591  0.206210  1.000000  0.961691    0.661600   \n",
       "apol    0.087442  0.044144  0.131773  0.961691  1.000000    0.504649   \n",
       "...          ...       ...       ...       ...       ...         ...   \n",
       "WTPT-5 -0.081729 -0.144005 -0.106748  0.304766  0.272351    0.218260   \n",
       "WPATH   0.123396  0.043113  0.129674  0.967399  0.952547    0.600290   \n",
       "WPOL    0.149544  0.063338  0.138409  0.892645  0.906731    0.494950   \n",
       "XLogP   0.072792  0.325502  0.341661  0.448692  0.510868    0.245372   \n",
       "Zagreb  0.138795  0.060326  0.135492  0.951214  0.942748    0.594482   \n",
       "\n",
       "        nAromBond     nAtom  nHeavyAtom        nH  ...        MW    WTPT-1  \\\n",
       "nAcid    0.128085  0.071150    0.142736  0.011872  ...  0.137757  0.130279   \n",
       "ALogP    0.365084 -0.000730    0.060073 -0.060433  ...  0.054366  0.053615   \n",
       "ALogp2   0.267773  0.095173    0.142974  0.044380  ...  0.136171  0.134108   \n",
       "AMR      0.589020  0.926123    0.970967  0.804414  ...  0.946192  0.971228   \n",
       "apol     0.425076  0.990971    0.959475  0.921645  ...  0.926193  0.959164   \n",
       "...           ...       ...         ...       ...  ...       ...       ...   \n",
       "WTPT-5   0.186234  0.257380    0.320081  0.194506  ...  0.317963  0.324961   \n",
       "WPATH    0.525283  0.925527    0.992083  0.790220  ...  0.963684  0.988957   \n",
       "WPOL     0.424504  0.889545    0.933442  0.775660  ...  0.895049  0.935278   \n",
       "XLogP    0.222946  0.523117    0.407307  0.573974  ...  0.376626  0.405263   \n",
       "Zagreb   0.519984  0.915270    0.984461  0.779988  ...  0.948370  0.988556   \n",
       "\n",
       "          WTPT-2    WTPT-3    WTPT-4    WTPT-5     WPATH      WPOL     XLogP  \\\n",
       "nAcid  -0.190618  0.097911  0.099315 -0.081729  0.123396  0.149544  0.072792   \n",
       "ALogP  -0.039049 -0.173593 -0.232812 -0.144005  0.043113  0.063338  0.325502   \n",
       "ALogp2 -0.121343 -0.111207 -0.177669 -0.106748  0.129674  0.138409  0.341661   \n",
       "AMR     0.326233  0.455455  0.353602  0.304766  0.967399  0.892645  0.448692   \n",
       "apol    0.318972  0.372514  0.314274  0.272351  0.952547  0.906731  0.510868   \n",
       "...          ...       ...       ...       ...       ...       ...       ...   \n",
       "WTPT-5  0.193800  0.537170 -0.169968  1.000000  0.337279  0.221481 -0.129881   \n",
       "WPATH   0.275921  0.557568  0.434226  0.337279  1.000000  0.894391  0.390364   \n",
       "WPOL    0.379534  0.431551  0.400694  0.221481  0.894391  1.000000  0.403700   \n",
       "XLogP   0.120929 -0.262242 -0.213624 -0.129881  0.390364  0.403700  1.000000   \n",
       "Zagreb  0.401631  0.520059  0.423114  0.310909  0.963631  0.963937  0.391971   \n",
       "\n",
       "          Zagreb  \n",
       "nAcid   0.138795  \n",
       "ALogP   0.060326  \n",
       "ALogp2  0.135492  \n",
       "AMR     0.951214  \n",
       "apol    0.942748  \n",
       "...          ...  \n",
       "WTPT-5  0.310909  \n",
       "WPATH   0.963631  \n",
       "WPOL    0.963937  \n",
       "XLogP   0.391971  \n",
       "Zagreb  1.000000  \n",
       "\n",
       "[729 rows x 729 columns]"
      ]
     },
     "execution_count": 96,
     "metadata": {},
     "output_type": "execute_result"
    }
   ],
   "source": [
    "# correlation coefficient (spearman)\n",
    "spearman_corr = molt.corr(method='spearman')\n",
    "spearman_corr"
   ]
  },
  {
   "cell_type": "code",
   "execution_count": 97,
   "id": "4d2b1bd9",
   "metadata": {
    "ExecuteTime": {
     "end_time": "2021-10-14T15:25:38.589441Z",
     "start_time": "2021-10-14T15:24:10.462846Z"
    }
   },
   "outputs": [
    {
     "data": {
      "text/html": [
       "<div>\n",
       "<style scoped>\n",
       "    .dataframe tbody tr th:only-of-type {\n",
       "        vertical-align: middle;\n",
       "    }\n",
       "\n",
       "    .dataframe tbody tr th {\n",
       "        vertical-align: top;\n",
       "    }\n",
       "\n",
       "    .dataframe thead th {\n",
       "        text-align: right;\n",
       "    }\n",
       "</style>\n",
       "<table border=\"1\" class=\"dataframe\">\n",
       "  <thead>\n",
       "    <tr style=\"text-align: right;\">\n",
       "      <th></th>\n",
       "      <th>nAcid</th>\n",
       "      <th>ALogP</th>\n",
       "      <th>ALogp2</th>\n",
       "      <th>AMR</th>\n",
       "      <th>apol</th>\n",
       "      <th>naAromAtom</th>\n",
       "      <th>nAromBond</th>\n",
       "      <th>nAtom</th>\n",
       "      <th>nHeavyAtom</th>\n",
       "      <th>nH</th>\n",
       "      <th>...</th>\n",
       "      <th>MW</th>\n",
       "      <th>WTPT-1</th>\n",
       "      <th>WTPT-2</th>\n",
       "      <th>WTPT-3</th>\n",
       "      <th>WTPT-4</th>\n",
       "      <th>WTPT-5</th>\n",
       "      <th>WPATH</th>\n",
       "      <th>WPOL</th>\n",
       "      <th>XLogP</th>\n",
       "      <th>Zagreb</th>\n",
       "    </tr>\n",
       "  </thead>\n",
       "  <tbody>\n",
       "    <tr>\n",
       "      <th>nAcid</th>\n",
       "      <td>1.000000</td>\n",
       "      <td>0.242783</td>\n",
       "      <td>0.239308</td>\n",
       "      <td>0.103679</td>\n",
       "      <td>0.070950</td>\n",
       "      <td>0.129485</td>\n",
       "      <td>0.111825</td>\n",
       "      <td>0.058070</td>\n",
       "      <td>0.118812</td>\n",
       "      <td>0.009540</td>\n",
       "      <td>...</td>\n",
       "      <td>0.112130</td>\n",
       "      <td>0.106104</td>\n",
       "      <td>-0.155087</td>\n",
       "      <td>0.079962</td>\n",
       "      <td>0.080965</td>\n",
       "      <td>-0.068858</td>\n",
       "      <td>0.100843</td>\n",
       "      <td>0.122865</td>\n",
       "      <td>0.059352</td>\n",
       "      <td>0.113894</td>\n",
       "    </tr>\n",
       "    <tr>\n",
       "      <th>ALogP</th>\n",
       "      <td>0.242783</td>\n",
       "      <td>1.000000</td>\n",
       "      <td>0.800777</td>\n",
       "      <td>0.104208</td>\n",
       "      <td>0.029251</td>\n",
       "      <td>0.256064</td>\n",
       "      <td>0.265423</td>\n",
       "      <td>-0.001069</td>\n",
       "      <td>0.039567</td>\n",
       "      <td>-0.040007</td>\n",
       "      <td>...</td>\n",
       "      <td>0.035734</td>\n",
       "      <td>0.033492</td>\n",
       "      <td>-0.027091</td>\n",
       "      <td>-0.119642</td>\n",
       "      <td>-0.159800</td>\n",
       "      <td>-0.100206</td>\n",
       "      <td>0.027791</td>\n",
       "      <td>0.043853</td>\n",
       "      <td>0.239648</td>\n",
       "      <td>0.038789</td>\n",
       "    </tr>\n",
       "    <tr>\n",
       "      <th>ALogp2</th>\n",
       "      <td>0.239308</td>\n",
       "      <td>0.800777</td>\n",
       "      <td>1.000000</td>\n",
       "      <td>0.139862</td>\n",
       "      <td>0.088510</td>\n",
       "      <td>0.184618</td>\n",
       "      <td>0.190595</td>\n",
       "      <td>0.064099</td>\n",
       "      <td>0.097983</td>\n",
       "      <td>0.030823</td>\n",
       "      <td>...</td>\n",
       "      <td>0.091522</td>\n",
       "      <td>0.089362</td>\n",
       "      <td>-0.081343</td>\n",
       "      <td>-0.075785</td>\n",
       "      <td>-0.121808</td>\n",
       "      <td>-0.073275</td>\n",
       "      <td>0.087044</td>\n",
       "      <td>0.094168</td>\n",
       "      <td>0.241571</td>\n",
       "      <td>0.091182</td>\n",
       "    </tr>\n",
       "    <tr>\n",
       "      <th>AMR</th>\n",
       "      <td>0.103679</td>\n",
       "      <td>0.104208</td>\n",
       "      <td>0.139862</td>\n",
       "      <td>1.000000</td>\n",
       "      <td>0.835812</td>\n",
       "      <td>0.490678</td>\n",
       "      <td>0.431714</td>\n",
       "      <td>0.771647</td>\n",
       "      <td>0.871426</td>\n",
       "      <td>0.621016</td>\n",
       "      <td>...</td>\n",
       "      <td>0.800550</td>\n",
       "      <td>0.854597</td>\n",
       "      <td>0.205474</td>\n",
       "      <td>0.300201</td>\n",
       "      <td>0.230297</td>\n",
       "      <td>0.205596</td>\n",
       "      <td>0.845297</td>\n",
       "      <td>0.714778</td>\n",
       "      <td>0.307279</td>\n",
       "      <td>0.813880</td>\n",
       "    </tr>\n",
       "    <tr>\n",
       "      <th>apol</th>\n",
       "      <td>0.070950</td>\n",
       "      <td>0.029251</td>\n",
       "      <td>0.088510</td>\n",
       "      <td>0.835812</td>\n",
       "      <td>1.000000</td>\n",
       "      <td>0.354810</td>\n",
       "      <td>0.296287</td>\n",
       "      <td>0.926632</td>\n",
       "      <td>0.840703</td>\n",
       "      <td>0.773307</td>\n",
       "      <td>...</td>\n",
       "      <td>0.761887</td>\n",
       "      <td>0.822565</td>\n",
       "      <td>0.197623</td>\n",
       "      <td>0.238207</td>\n",
       "      <td>0.205076</td>\n",
       "      <td>0.180931</td>\n",
       "      <td>0.809873</td>\n",
       "      <td>0.734949</td>\n",
       "      <td>0.355090</td>\n",
       "      <td>0.796440</td>\n",
       "    </tr>\n",
       "    <tr>\n",
       "      <th>...</th>\n",
       "      <td>...</td>\n",
       "      <td>...</td>\n",
       "      <td>...</td>\n",
       "      <td>...</td>\n",
       "      <td>...</td>\n",
       "      <td>...</td>\n",
       "      <td>...</td>\n",
       "      <td>...</td>\n",
       "      <td>...</td>\n",
       "      <td>...</td>\n",
       "      <td>...</td>\n",
       "      <td>...</td>\n",
       "      <td>...</td>\n",
       "      <td>...</td>\n",
       "      <td>...</td>\n",
       "      <td>...</td>\n",
       "      <td>...</td>\n",
       "      <td>...</td>\n",
       "      <td>...</td>\n",
       "      <td>...</td>\n",
       "      <td>...</td>\n",
       "    </tr>\n",
       "    <tr>\n",
       "      <th>WTPT-5</th>\n",
       "      <td>-0.068858</td>\n",
       "      <td>-0.100206</td>\n",
       "      <td>-0.073275</td>\n",
       "      <td>0.205596</td>\n",
       "      <td>0.180931</td>\n",
       "      <td>0.168191</td>\n",
       "      <td>0.142109</td>\n",
       "      <td>0.170822</td>\n",
       "      <td>0.222075</td>\n",
       "      <td>0.125817</td>\n",
       "      <td>...</td>\n",
       "      <td>0.214689</td>\n",
       "      <td>0.222229</td>\n",
       "      <td>0.136613</td>\n",
       "      <td>0.402025</td>\n",
       "      <td>-0.113066</td>\n",
       "      <td>1.000000</td>\n",
       "      <td>0.229960</td>\n",
       "      <td>0.153707</td>\n",
       "      <td>-0.085784</td>\n",
       "      <td>0.213509</td>\n",
       "    </tr>\n",
       "    <tr>\n",
       "      <th>WPATH</th>\n",
       "      <td>0.100843</td>\n",
       "      <td>0.027791</td>\n",
       "      <td>0.087044</td>\n",
       "      <td>0.845297</td>\n",
       "      <td>0.809873</td>\n",
       "      <td>0.441428</td>\n",
       "      <td>0.381919</td>\n",
       "      <td>0.767337</td>\n",
       "      <td>0.941372</td>\n",
       "      <td>0.601528</td>\n",
       "      <td>...</td>\n",
       "      <td>0.854642</td>\n",
       "      <td>0.915303</td>\n",
       "      <td>0.170777</td>\n",
       "      <td>0.378931</td>\n",
       "      <td>0.291625</td>\n",
       "      <td>0.229960</td>\n",
       "      <td>1.000000</td>\n",
       "      <td>0.719380</td>\n",
       "      <td>0.265544</td>\n",
       "      <td>0.843313</td>\n",
       "    </tr>\n",
       "    <tr>\n",
       "      <th>WPOL</th>\n",
       "      <td>0.122865</td>\n",
       "      <td>0.043853</td>\n",
       "      <td>0.094168</td>\n",
       "      <td>0.714778</td>\n",
       "      <td>0.734949</td>\n",
       "      <td>0.351255</td>\n",
       "      <td>0.300929</td>\n",
       "      <td>0.717194</td>\n",
       "      <td>0.801019</td>\n",
       "      <td>0.583985</td>\n",
       "      <td>...</td>\n",
       "      <td>0.724153</td>\n",
       "      <td>0.785944</td>\n",
       "      <td>0.237359</td>\n",
       "      <td>0.291153</td>\n",
       "      <td>0.276267</td>\n",
       "      <td>0.153707</td>\n",
       "      <td>0.719380</td>\n",
       "      <td>1.000000</td>\n",
       "      <td>0.275451</td>\n",
       "      <td>0.850838</td>\n",
       "    </tr>\n",
       "    <tr>\n",
       "      <th>XLogP</th>\n",
       "      <td>0.059352</td>\n",
       "      <td>0.239648</td>\n",
       "      <td>0.241571</td>\n",
       "      <td>0.307279</td>\n",
       "      <td>0.355090</td>\n",
       "      <td>0.183698</td>\n",
       "      <td>0.168445</td>\n",
       "      <td>0.367608</td>\n",
       "      <td>0.283680</td>\n",
       "      <td>0.411826</td>\n",
       "      <td>...</td>\n",
       "      <td>0.255766</td>\n",
       "      <td>0.275068</td>\n",
       "      <td>0.080206</td>\n",
       "      <td>-0.177151</td>\n",
       "      <td>-0.140735</td>\n",
       "      <td>-0.085784</td>\n",
       "      <td>0.265544</td>\n",
       "      <td>0.275451</td>\n",
       "      <td>1.000000</td>\n",
       "      <td>0.266976</td>\n",
       "    </tr>\n",
       "    <tr>\n",
       "      <th>Zagreb</th>\n",
       "      <td>0.113894</td>\n",
       "      <td>0.038789</td>\n",
       "      <td>0.091182</td>\n",
       "      <td>0.813880</td>\n",
       "      <td>0.796440</td>\n",
       "      <td>0.432195</td>\n",
       "      <td>0.375596</td>\n",
       "      <td>0.755137</td>\n",
       "      <td>0.918928</td>\n",
       "      <td>0.590450</td>\n",
       "      <td>...</td>\n",
       "      <td>0.821096</td>\n",
       "      <td>0.909328</td>\n",
       "      <td>0.237638</td>\n",
       "      <td>0.352920</td>\n",
       "      <td>0.288763</td>\n",
       "      <td>0.213509</td>\n",
       "      <td>0.843313</td>\n",
       "      <td>0.850838</td>\n",
       "      <td>0.266976</td>\n",
       "      <td>1.000000</td>\n",
       "    </tr>\n",
       "  </tbody>\n",
       "</table>\n",
       "<p>729 rows × 729 columns</p>\n",
       "</div>"
      ],
      "text/plain": [
       "           nAcid     ALogP    ALogp2       AMR      apol  naAromAtom  \\\n",
       "nAcid   1.000000  0.242783  0.239308  0.103679  0.070950    0.129485   \n",
       "ALogP   0.242783  1.000000  0.800777  0.104208  0.029251    0.256064   \n",
       "ALogp2  0.239308  0.800777  1.000000  0.139862  0.088510    0.184618   \n",
       "AMR     0.103679  0.104208  0.139862  1.000000  0.835812    0.490678   \n",
       "apol    0.070950  0.029251  0.088510  0.835812  1.000000    0.354810   \n",
       "...          ...       ...       ...       ...       ...         ...   \n",
       "WTPT-5 -0.068858 -0.100206 -0.073275  0.205596  0.180931    0.168191   \n",
       "WPATH   0.100843  0.027791  0.087044  0.845297  0.809873    0.441428   \n",
       "WPOL    0.122865  0.043853  0.094168  0.714778  0.734949    0.351255   \n",
       "XLogP   0.059352  0.239648  0.241571  0.307279  0.355090    0.183698   \n",
       "Zagreb  0.113894  0.038789  0.091182  0.813880  0.796440    0.432195   \n",
       "\n",
       "        nAromBond     nAtom  nHeavyAtom        nH  ...        MW    WTPT-1  \\\n",
       "nAcid    0.111825  0.058070    0.118812  0.009540  ...  0.112130  0.106104   \n",
       "ALogP    0.265423 -0.001069    0.039567 -0.040007  ...  0.035734  0.033492   \n",
       "ALogp2   0.190595  0.064099    0.097983  0.030823  ...  0.091522  0.089362   \n",
       "AMR      0.431714  0.771647    0.871426  0.621016  ...  0.800550  0.854597   \n",
       "apol     0.296287  0.926632    0.840703  0.773307  ...  0.761887  0.822565   \n",
       "...           ...       ...         ...       ...  ...       ...       ...   \n",
       "WTPT-5   0.142109  0.170822    0.222075  0.125817  ...  0.214689  0.222229   \n",
       "WPATH    0.381919  0.767337    0.941372  0.601528  ...  0.854642  0.915303   \n",
       "WPOL     0.300929  0.717194    0.801019  0.583985  ...  0.724153  0.785944   \n",
       "XLogP    0.168445  0.367608    0.283680  0.411826  ...  0.255766  0.275068   \n",
       "Zagreb   0.375596  0.755137    0.918928  0.590450  ...  0.821096  0.909328   \n",
       "\n",
       "          WTPT-2    WTPT-3    WTPT-4    WTPT-5     WPATH      WPOL     XLogP  \\\n",
       "nAcid  -0.155087  0.079962  0.080965 -0.068858  0.100843  0.122865  0.059352   \n",
       "ALogP  -0.027091 -0.119642 -0.159800 -0.100206  0.027791  0.043853  0.239648   \n",
       "ALogp2 -0.081343 -0.075785 -0.121808 -0.073275  0.087044  0.094168  0.241571   \n",
       "AMR     0.205474  0.300201  0.230297  0.205596  0.845297  0.714778  0.307279   \n",
       "apol    0.197623  0.238207  0.205076  0.180931  0.809873  0.734949  0.355090   \n",
       "...          ...       ...       ...       ...       ...       ...       ...   \n",
       "WTPT-5  0.136613  0.402025 -0.113066  1.000000  0.229960  0.153707 -0.085784   \n",
       "WPATH   0.170777  0.378931  0.291625  0.229960  1.000000  0.719380  0.265544   \n",
       "WPOL    0.237359  0.291153  0.276267  0.153707  0.719380  1.000000  0.275451   \n",
       "XLogP   0.080206 -0.177151 -0.140735 -0.085784  0.265544  0.275451  1.000000   \n",
       "Zagreb  0.237638  0.352920  0.288763  0.213509  0.843313  0.850838  0.266976   \n",
       "\n",
       "          Zagreb  \n",
       "nAcid   0.113894  \n",
       "ALogP   0.038789  \n",
       "ALogp2  0.091182  \n",
       "AMR     0.813880  \n",
       "apol    0.796440  \n",
       "...          ...  \n",
       "WTPT-5  0.213509  \n",
       "WPATH   0.843313  \n",
       "WPOL    0.850838  \n",
       "XLogP   0.266976  \n",
       "Zagreb  1.000000  \n",
       "\n",
       "[729 rows x 729 columns]"
      ]
     },
     "execution_count": 97,
     "metadata": {},
     "output_type": "execute_result"
    }
   ],
   "source": [
    "# correlation coefficient (kendall)\n",
    "kendall_corr = molt.corr(method='kendall')\n",
    "kendall_corr"
   ]
  },
  {
   "cell_type": "code",
   "execution_count": 95,
   "id": "f060c71f",
   "metadata": {
    "ExecuteTime": {
     "end_time": "2021-10-14T15:17:32.302840Z",
     "start_time": "2021-10-14T15:17:32.228253Z"
    },
    "scrolled": false
   },
   "outputs": [
    {
     "data": {
      "text/plain": [
       "array([[118043.84040595, 132675.53620674, 123165.46845493, ...,\n",
       "        168432.63572077, 120200.70446671, 181696.49611774],\n",
       "       [132675.53620674, 149422.5935941 , 138334.66976985, ...,\n",
       "        189025.41909454, 134156.56328827, 204281.71565653],\n",
       "       [123165.46845493, 138334.66976985, 129197.42227975, ...,\n",
       "        178227.74898609, 126552.16400376, 192139.16268217],\n",
       "       ...,\n",
       "       [168432.63572077, 189025.41909454, 178227.74898609, ...,\n",
       "        251070.73394881, 174430.99356219, 271211.42337528],\n",
       "       [120200.70446671, 134156.56328827, 126552.16400376, ...,\n",
       "        174430.99356219, 128338.30441966, 186245.99663628],\n",
       "       [181696.49611774, 204281.71565653, 192139.16268217, ...,\n",
       "        271211.42337528, 186245.99663628, 293819.10821334]])"
      ]
     },
     "execution_count": 95,
     "metadata": {},
     "output_type": "execute_result"
    }
   ],
   "source": [
    "# Covariance matrix\n",
    "molt_cov = np.cov(molt.to_numpy())\n",
    "molt_cov\n",
    "# sns.heatmap(mol_cov, annot=True, vmax=1, square=True, cmap='Blues')"
   ]
  },
  {
   "cell_type": "code",
   "execution_count": null,
   "id": "2362dd51",
   "metadata": {},
   "outputs": [],
   "source": [
    "# chi-square test (normally for categorical variable)\n",
    "from sklearn.feature_selection import SelectKBest\n",
    "from sklearn.feature_selection import chi2"
   ]
  },
  {
   "cell_type": "markdown",
   "id": "d09cae2f",
   "metadata": {},
   "source": [
    "## 回归模型选择"
   ]
  },
  {
   "cell_type": "code",
   "execution_count": 124,
   "id": "f11b194c",
   "metadata": {
    "ExecuteTime": {
     "end_time": "2021-10-16T02:29:31.010207Z",
     "start_time": "2021-10-16T02:29:30.997529Z"
    }
   },
   "outputs": [
    {
     "data": {
      "text/plain": [
       "((1381, 20), (593, 20), (1381,), (593,))"
      ]
     },
     "execution_count": 124,
     "metadata": {},
     "output_type": "execute_result"
    }
   ],
   "source": [
    "from sklearn.model_selection import train_test_split\n",
    "from sklearn import metrics\n",
    "from sklearn.preprocessing import StandardScaler\n",
    "\n",
    "fea_selected = molt.columns[las_col]\n",
    "srcX = molt[fea_selected]\n",
    "srcy = fy\n",
    "X_train, X_test, y_train, y_test = train_test_split(srcX, srcy,test_size=0.3,shuffle=True)\n",
    "X_train.shape, X_test.shape, y_train.shape,y_test.shape"
   ]
  },
  {
   "cell_type": "code",
   "execution_count": 125,
   "id": "0e8beafa",
   "metadata": {
    "ExecuteTime": {
     "end_time": "2021-10-16T02:29:41.328783Z",
     "start_time": "2021-10-16T02:29:40.449401Z"
    }
   },
   "outputs": [
    {
     "name": "stdout",
     "output_type": "stream",
     "text": [
      "Mean Absolute Error: 0.533458872053009\n",
      "Mean Squared Error: 0.4991579255393721\n",
      "Root Mean Squared Error: 0.7065110937128816\n"
     ]
    }
   ],
   "source": [
    "# random forest\n",
    "from sklearn.ensemble import RandomForestRegressor\n",
    "\n",
    "rfreg = RandomForestRegressor(n_estimators=100, random_state=0)\n",
    "rfreg.fit(X_train, y_train)\n",
    "y_pred = rfreg.predict(X_test)\n",
    "\n",
    "# evaluate\n",
    "print('Mean Absolute Error:', metrics.mean_absolute_error(y_test, y_pred))\n",
    "print('Mean Squared Error:', metrics.mean_squared_error(y_test, y_pred))\n",
    "print('Root Mean Squared Error:', np.sqrt(metrics.mean_squared_error(y_test, y_pred)))"
   ]
  },
  {
   "cell_type": "code",
   "execution_count": 127,
   "id": "5f56416f",
   "metadata": {
    "ExecuteTime": {
     "end_time": "2021-10-16T02:29:57.028929Z",
     "start_time": "2021-10-16T02:29:56.731010Z"
    }
   },
   "outputs": [
    {
     "name": "stdout",
     "output_type": "stream",
     "text": [
      "AdaBoost mean square error =  0.8555421489814077\n"
     ]
    }
   ],
   "source": [
    "# AdaBoost regression\n",
    "from sklearn.ensemble import AdaBoostRegressor\n",
    "from sklearn.metrics import mean_squared_error\n",
    "\n",
    "adareg = AdaBoostRegressor(n_estimators=100,random_state=0,loss='linear')\n",
    "adareg.fit(X_train,y_train)\n",
    "y_pred = adareg.predict(X_test)\n",
    "ada_mse = mean_squared_error(y_test, y_pred)\n",
    "print(\"AdaBoost mean square error = \", ada_mse)"
   ]
  },
  {
   "cell_type": "code",
   "execution_count": 141,
   "id": "f0d696c1",
   "metadata": {
    "ExecuteTime": {
     "end_time": "2021-10-15T15:54:37.516889Z",
     "start_time": "2021-10-15T15:54:34.316506Z"
    }
   },
   "outputs": [
    {
     "name": "stdout",
     "output_type": "stream",
     "text": [
      "MLP Train ERROR =  0.23979818385963453\n",
      "MLP Test ERROR =  0.236549654654813\n"
     ]
    }
   ],
   "source": [
    "# neural network (perceptron)\n",
    "from sklearn.neural_network import MLPRegressor\n",
    "from sklearn.metrics import mean_squared_error\n",
    "\n",
    "# hidden_layer_sizes can be adjusted a lot\n",
    "mlpreg = MLPRegressor(\n",
    "        hidden_layer_sizes=(100,50,1), activation='relu',solver='adam',\n",
    "        alpha=0.01,max_iter=200,random_state=60)\n",
    "mlpreg.fit(X_train, y_train)\n",
    "mlpreg\n",
    "train_pred = mlpreg.predict(X_train)\n",
    "test_pred = mlpreg.predict(X_test)\n",
    "\n",
    "mse_train = mean_squared_error(y_train,train_pred)\n",
    "print (\"MLP Train ERROR = \", mse_train)\n",
    "mse_test = mean_squared_error(y_test,test_pred)\n",
    "print (\"MLP Test ERROR = \", mse_test)"
   ]
  },
  {
   "cell_type": "code",
   "execution_count": null,
   "id": "5d9b5018",
   "metadata": {},
   "outputs": [],
   "source": []
  },
  {
   "cell_type": "code",
   "execution_count": null,
   "id": "72a7bea7",
   "metadata": {},
   "outputs": [],
   "source": []
  },
  {
   "cell_type": "markdown",
   "id": "afaa5d18",
   "metadata": {},
   "source": [
    "## 分类模型选择"
   ]
  },
  {
   "cell_type": "markdown",
   "id": "b4e26cc7",
   "metadata": {},
   "source": [
    "### 导入数据并划分"
   ]
  },
  {
   "cell_type": "code",
   "execution_count": 95,
   "id": "6ac22320",
   "metadata": {
    "ExecuteTime": {
     "end_time": "2021-10-16T09:21:31.558037Z",
     "start_time": "2021-10-16T09:21:29.862907Z"
    },
    "scrolled": true
   },
   "outputs": [
    {
     "data": {
      "text/plain": [
       "(            Caco-2       CYP3A4         hERG          HOB           MN\n",
       " count  1974.000000  1974.000000  1974.000000  1974.000000  1974.000000\n",
       " mean      0.384498     0.740122     0.556738     0.257852     0.766971\n",
       " std       0.486600     0.438679     0.496896     0.437563     0.422868\n",
       " min       0.000000     0.000000     0.000000     0.000000     0.000000\n",
       " 25%       0.000000     0.000000     0.000000     0.000000     1.000000\n",
       " 50%       0.000000     1.000000     1.000000     0.000000     1.000000\n",
       " 75%       1.000000     1.000000     1.000000     1.000000     1.000000\n",
       " max       1.000000     1.000000     1.000000     1.000000     1.000000,\n",
       "            nAcid      ALogP      ALogp2         AMR        apol  naAromAtom  \\\n",
       " count  50.000000  50.000000   50.000000   50.000000   50.000000   50.000000   \n",
       " mean    0.320000  -0.017308   28.055538  169.706782   94.093401   16.740000   \n",
       " std     0.471212   5.350495   57.209591   72.705179   53.824009    5.209136   \n",
       " min     0.000000 -13.821500    0.065485   92.595200   51.385032    6.000000   \n",
       " 25%     0.000000   0.969075    2.495849  127.954025   63.703342   11.000000   \n",
       " 50%     0.000000   1.760250    4.949321  144.640500   73.352497   18.000000   \n",
       " 75%     1.000000   2.706350   11.141492  159.238175   85.907634   18.000000   \n",
       " max     1.000000   4.193000  191.033862  338.734100  221.678851   24.000000   \n",
       " \n",
       "        nAromBond       nAtom  nHeavyAtom         nH  ...           MW  \\\n",
       " count  50.000000   50.000000   50.000000   50.00000  ...    50.000000   \n",
       " mean   16.980000   82.420000   43.200000   39.22000  ...   595.244095   \n",
       " std     5.445425   53.168615   24.746057   28.63086  ...   353.409098   \n",
       " min     6.000000   44.000000   20.000000   17.00000  ...   288.154786   \n",
       " 25%    11.000000   53.250000   30.000000   23.00000  ...   418.113330   \n",
       " 50%    18.000000   60.500000   33.500000   27.50000  ...   456.197497   \n",
       " 75%    19.000000   74.500000   37.750000   33.75000  ...   514.279344   \n",
       " max    26.000000  209.000000  102.000000  107.00000  ...  1437.820466   \n",
       " \n",
       "            WTPT-1     WTPT-2      WTPT-3     WTPT-4     WTPT-5         WPATH  \\\n",
       " count   50.000000  50.000000   50.000000  50.000000  50.000000     50.000000   \n",
       " mean    87.215347   2.034028   27.561613  14.131100  11.896955  13184.580000   \n",
       " std     47.765365   0.039547   29.883502  11.776582  19.525123  22536.757309   \n",
       " min     39.824988   1.953031    5.547046   2.515552   0.000000    740.000000   \n",
       " 25%     61.734159   2.014474   11.640606   8.069046   0.000000   2661.000000   \n",
       " 50%     69.173910   2.050278   16.222811   8.995872   5.664925   3534.500000   \n",
       " 75%     76.286425   2.064467   21.157599  13.484816   9.570391   5411.500000   \n",
       " max    200.252007   2.084490  100.306776  42.378404  60.279759  71616.000000   \n",
       " \n",
       "              WPOL      XLogP      Zagreb  \n",
       " count   50.000000  50.000000   50.000000  \n",
       " mean    68.340000   3.205360  218.360000  \n",
       " std     36.332147   2.551268  115.555581  \n",
       " min     32.000000  -3.498000  100.000000  \n",
       " 25%     49.250000   2.623250  158.000000  \n",
       " 50%     53.500000   3.864500  174.000000  \n",
       " 75%     65.000000   4.883500  195.000000  \n",
       " max    152.000000   6.936000  490.000000  \n",
       " \n",
       " [8 rows x 729 columns],\n",
       "        Caco-2  CYP3A4  hERG  HOB   MN\n",
       " count     0.0     0.0   0.0  0.0  0.0\n",
       " mean      NaN     NaN   NaN  NaN  NaN\n",
       " std       NaN     NaN   NaN  NaN  NaN\n",
       " min       NaN     NaN   NaN  NaN  NaN\n",
       " 25%       NaN     NaN   NaN  NaN  NaN\n",
       " 50%       NaN     NaN   NaN  NaN  NaN\n",
       " 75%       NaN     NaN   NaN  NaN  NaN\n",
       " max       NaN     NaN   NaN  NaN  NaN)"
      ]
     },
     "execution_count": 95,
     "metadata": {},
     "output_type": "execute_result"
    }
   ],
   "source": [
    "adm_train_src = pd.read_excel('ADMET.xlsx',sheet_name='training')\n",
    "mol_test_src = pd.read_excel('Molecular_Descriptor.xlsx',sheet_name='test')\n",
    "adm_test_src = pd.read_excel('ADMET.xlsx',sheet_name='test')\n",
    "adm_train_src.describe(), mol_test_src.describe(),adm_test_src.describe()"
   ]
  },
  {
   "cell_type": "code",
   "execution_count": 96,
   "id": "cb9f21de",
   "metadata": {
    "ExecuteTime": {
     "end_time": "2021-10-16T09:21:32.555891Z",
     "start_time": "2021-10-16T09:21:32.550239Z"
    }
   },
   "outputs": [
    {
     "data": {
      "text/plain": [
       "(50, 729)"
      ]
     },
     "execution_count": 96,
     "metadata": {},
     "output_type": "execute_result"
    }
   ],
   "source": [
    "Xtest = mol_test_src.drop(columns=['SMILES']).values\n",
    "Xtest.shape"
   ]
  },
  {
   "cell_type": "code",
   "execution_count": 97,
   "id": "4f873c99",
   "metadata": {
    "ExecuteTime": {
     "end_time": "2021-10-16T09:21:34.000771Z",
     "start_time": "2021-10-16T09:21:33.994417Z"
    }
   },
   "outputs": [],
   "source": [
    "# Xgboost、受限玻尔兹曼机(RBM)[DBN神经网络中的核心]、多层感知MLP、自组织映射SOM、lightBM\n",
    "adm_train = adm_train_src.drop(columns=['SMILES'])\n",
    "caco = adm_train['Caco-2']\n",
    "cyp = adm_train['CYP3A4']\n",
    "her = adm_train['hERG']\n",
    "hob = adm_train['HOB']\n",
    "mn = adm_train['MN']"
   ]
  },
  {
   "cell_type": "markdown",
   "id": "6ccb324d",
   "metadata": {},
   "source": [
    "### Caco-2"
   ]
  },
  {
   "cell_type": "code",
   "execution_count": 98,
   "id": "e0eaa3ab",
   "metadata": {
    "ExecuteTime": {
     "end_time": "2021-10-16T09:21:41.559734Z",
     "start_time": "2021-10-16T09:21:41.552222Z"
    },
    "scrolled": true
   },
   "outputs": [
    {
     "data": {
      "text/plain": [
       "0    1215\n",
       "1     759\n",
       "Name: Caco-2, dtype: int64"
      ]
     },
     "execution_count": 98,
     "metadata": {},
     "output_type": "execute_result"
    }
   ],
   "source": [
    "# imbalanced value detection\n",
    "caco.value_counts()"
   ]
  },
  {
   "cell_type": "code",
   "execution_count": 99,
   "id": "463ef84e",
   "metadata": {
    "ExecuteTime": {
     "end_time": "2021-10-16T09:21:42.723952Z",
     "start_time": "2021-10-16T09:21:42.693355Z"
    }
   },
   "outputs": [
    {
     "data": {
      "text/plain": [
       "((1480, 729), (1480,), (494, 729), (494,), (1480, 729), (494, 729))"
      ]
     },
     "execution_count": 99,
     "metadata": {},
     "output_type": "execute_result"
    }
   ],
   "source": [
    "from sklearn.preprocessing import StandardScaler\n",
    "from sklearn.model_selection import train_test_split\n",
    "from sklearn import metrics\n",
    "\n",
    "ssc = StandardScaler()\n",
    "# trans_X = ssc.fit_transform(fX)\n",
    "\n",
    "X_train, X_test, y_train, y_test = train_test_split(fX, caco.values, test_size=0.25,random_state=100)\n",
    "X_train_tran = ssc.fit_transform(X_train)\n",
    "X_test_tran = ssc.transform(X_test)\n",
    "# X_train_tran, X_test_tran, y_train, y_test = train_test_split(fX, caco.values, test_size=0.25,random_state=100)\n",
    "X_train.shape,y_train.shape,X_test.shape,y_test.shape, X_train_tran.shape, X_test_tran.shape"
   ]
  },
  {
   "cell_type": "code",
   "execution_count": 100,
   "id": "ae2f684e",
   "metadata": {
    "ExecuteTime": {
     "end_time": "2021-10-16T09:21:43.770205Z",
     "start_time": "2021-10-16T09:21:43.643234Z"
    },
    "scrolled": false
   },
   "outputs": [
    {
     "name": "stdout",
     "output_type": "stream",
     "text": [
      "[0.8744939271255061, 0.947381457891012]\n"
     ]
    },
    {
     "name": "stderr",
     "output_type": "stream",
     "text": [
      "/Users/johnson/opt/anaconda3/envs/prac/lib/python3.8/site-packages/sklearn/linear_model/_logistic.py:763: ConvergenceWarning: lbfgs failed to converge (status=1):\n",
      "STOP: TOTAL NO. of ITERATIONS REACHED LIMIT.\n",
      "\n",
      "Increase the number of iterations (max_iter) or scale the data as shown in:\n",
      "    https://scikit-learn.org/stable/modules/preprocessing.html\n",
      "Please also refer to the documentation for alternative solver options:\n",
      "    https://scikit-learn.org/stable/modules/linear_model.html#logistic-regression\n",
      "  n_iter_i = _check_optimize_result(\n"
     ]
    }
   ],
   "source": [
    "from sklearn.linear_model import LogisticRegression\n",
    "\n",
    "lr = LogisticRegression()                                     \n",
    "lr.fit(X_train,y_train)                                        \n",
    "y_prob = lr.predict_proba(X_test)[:,1]                           \n",
    "y_pred = lr.predict(X_test)                                      \n",
    "fpr_lr,tpr_lr,threshold_lr = metrics.roc_curve(y_test,y_prob)   \n",
    "auc_lr = metrics.auc(fpr_lr,tpr_lr)                             \n",
    "score_lr = metrics.accuracy_score(y_test,y_pred)                 \n",
    "print([score_lr,auc_lr])"
   ]
  },
  {
   "cell_type": "code",
   "execution_count": 101,
   "id": "21cc0d51",
   "metadata": {
    "ExecuteTime": {
     "end_time": "2021-10-16T09:21:45.966858Z",
     "start_time": "2021-10-16T09:21:44.724653Z"
    }
   },
   "outputs": [
    {
     "name": "stdout",
     "output_type": "stream",
     "text": [
      "[0.8825910931174089, 0.9493984430290163]\n",
      "[0.9149797570850202, 0.9752653927813164]\n",
      "[0.8299595141700404, 0.896302193913659]\n"
     ]
    }
   ],
   "source": [
    "# SVM with standardization\n",
    "from sklearn.svm import SVC\n",
    "kernelList = ['linear','rbf','sigmoid']\n",
    "svc = None\n",
    "auc_svc = -1\n",
    "score_svc = -1\n",
    "fpr_svc = None\n",
    "tpr_svc = None\n",
    "for kernel in kernelList:\n",
    "    svc_tmp = SVC(kernel=kernel).fit(X_train_tran,y_train)\n",
    "\n",
    "    # decision border distance\n",
    "    y_prob = svc_tmp.decision_function(X_test_tran)\n",
    "    y_pred = svc_tmp.predict(X_test_tran)\n",
    "    # false positive, true positive\n",
    "    fpr_svc_tmp,tpr_svc_tmp,threshold_svc_tmp = metrics.roc_curve(y_test,y_prob)\n",
    "    # auc curve\n",
    "    auc_svc_tmp = metrics.auc(fpr_svc_tmp,tpr_svc_tmp)\n",
    "    score_svc_tmp = metrics.accuracy_score(y_test,y_pred)\n",
    "    print([score_svc_tmp,auc_svc_tmp])    \n",
    "    \n",
    "    if not svc:\n",
    "        svc = svc_tmp\n",
    "    if auc_svc < auc_svc_tmp:\n",
    "        auc_svc = auc_svc_tmp\n",
    "        best_svc = svc\n",
    "        score_svc = score_svc_tmp\n",
    "        fpr_svc = fpr_svc_tmp\n",
    "        tpr_svc = tpr_svc_tmp"
   ]
  },
  {
   "cell_type": "code",
   "execution_count": null,
   "id": "6f2e1098",
   "metadata": {
    "ExecuteTime": {
     "end_time": "2021-10-16T09:16:37.840482Z",
     "start_time": "2021-10-16T09:16:37.828870Z"
    }
   },
   "outputs": [],
   "source": [
    "# param gamma tuning\n",
    "score_gamma=[]\n",
    "gammaList=np.logspace(-10,1,50)\n",
    "\n",
    "for gamma in gammaList:\n",
    "    svc = SVC(gamma=gamma).fit(X_train_tran,y_train_tran)\n",
    "    score_gamma.append(svc.score(X_test_tran,y_test))\n",
    "\n",
    "print('gamma={}, get highest score={}'.format(gammaList[score_gamma.index(max(score_gamma))],max(score_gamma)))\n",
    "# plt.plot(gammaList,score_gamma)"
   ]
  },
  {
   "cell_type": "code",
   "execution_count": null,
   "id": "bd69f61a",
   "metadata": {
    "ExecuteTime": {
     "end_time": "2021-10-16T09:16:37.855365Z",
     "start_time": "2021-10-16T09:16:37.855349Z"
    }
   },
   "outputs": [],
   "source": [
    "# penalty to avoid overfitting\n",
    "score_C=[]\n",
    "CList=np.linspace(0.01,30,50)\n",
    "\n",
    "for i in CList:\n",
    "    svc = SVC(C=i).fit(X_train,y_train)\n",
    "    score_C.append(svc.score(X_test,y_test))\n",
    "\n",
    "print('C={}时, get highest score={}'.format(CList[score_C.index(max(score_C))],max(score_C)))\n",
    "plt.plot(CList, score_C)"
   ]
  },
  {
   "cell_type": "code",
   "execution_count": 102,
   "id": "dbd9f93b",
   "metadata": {
    "ExecuteTime": {
     "end_time": "2021-10-16T09:21:56.565840Z",
     "start_time": "2021-10-16T09:21:56.510412Z"
    }
   },
   "outputs": [
    {
     "name": "stdout",
     "output_type": "stream",
     "text": [
      "[0.8724696356275303, 0.9478060863411182]\n"
     ]
    }
   ],
   "source": [
    "# KNN with standardization\n",
    "from sklearn.neighbors import KNeighborsClassifier\n",
    "\n",
    "# knn = KNeighborsClassifier(n_neighbors=5,weights='uniform').fit(X_train_tran,y_train)\n",
    "knn = KNeighborsClassifier(n_neighbors=5,weights='distance').fit(X_train_tran,y_train)\n",
    "\n",
    "y_prob = knn.predict_proba(X_test_tran)[:,1]                              \n",
    "y_pred = knn.predict(X_test_tran)                                       \n",
    "fpr_knn,tpr_knn,threshold_knn = metrics.roc_curve(y_test,y_prob)   \n",
    "auc_knn = metrics.auc(fpr_knn,tpr_knn)                              \n",
    "score_knn = metrics.accuracy_score(y_test,y_pred)\n",
    "print([score_knn,auc_knn])"
   ]
  },
  {
   "cell_type": "code",
   "execution_count": 103,
   "id": "e943a8b8",
   "metadata": {
    "ExecuteTime": {
     "end_time": "2021-10-16T09:21:57.935855Z",
     "start_time": "2021-10-16T09:21:57.627080Z"
    }
   },
   "outputs": [
    {
     "name": "stdout",
     "output_type": "stream",
     "text": [
      "K=2, get highest score=0.6356275303643725\n"
     ]
    },
    {
     "data": {
      "text/plain": [
       "[<matplotlib.lines.Line2D at 0x7fc6f09bbac0>]"
      ]
     },
     "execution_count": 103,
     "metadata": {},
     "output_type": "execute_result"
    },
    {
     "data": {
      "image/png": "[encoded data removed]",
      "text/plain": [
       "<Figure size 432x288 with 1 Axes>"
      ]
     },
     "metadata": {
      "needs_background": "light"
     },
     "output_type": "display_data"
    }
   ],
   "source": [
    "# select best K \n",
    "score_K=[]\n",
    "KList=range(2,13)\n",
    "\n",
    "for k in KList:\n",
    "    knn = KNeighborsClassifier(n_neighbors=k,weights='distance').fit(X_train_tran,y_train)\n",
    "    score_K.append(knn.score(X_test,y_test))\n",
    "\n",
    "print('K={}, get highest score={}'.format(KList[score_K.index(max(score_K))],max(score_K)))\n",
    "plt.plot(KList, score_K)"
   ]
  },
  {
   "cell_type": "code",
   "execution_count": 104,
   "id": "5cc4d68a",
   "metadata": {
    "ExecuteTime": {
     "end_time": "2021-10-16T09:21:59.191832Z",
     "start_time": "2021-10-16T09:21:58.902289Z"
    }
   },
   "outputs": [
    {
     "name": "stdout",
     "output_type": "stream",
     "text": [
      "[0.8785425101214575, 0.8677105449398443]\n"
     ]
    }
   ],
   "source": [
    "# decision tree\n",
    "from sklearn import tree\n",
    "\n",
    "dtc = tree.DecisionTreeClassifier()                         \n",
    "dtc.fit(X_train,y_train)                                       \n",
    "y_prob = dtc.predict_proba(X_test)[:,1]                          \n",
    "y_pred = dtc.predict(X_test)                                      \n",
    "fpr_dtc,tpr_dtc,threshod_dtc= metrics.roc_curve(y_test,y_prob)   \n",
    "score_dtc = metrics.accuracy_score(y_test,y_pred)                \n",
    "auc_dtc = metrics.auc(fpr_dtc,tpr_dtc) \n",
    "print([score_dtc,auc_dtc])"
   ]
  },
  {
   "cell_type": "code",
   "execution_count": 105,
   "id": "fead9e2a",
   "metadata": {
    "ExecuteTime": {
     "end_time": "2021-10-16T09:22:00.826738Z",
     "start_time": "2021-10-16T09:22:00.127443Z"
    }
   },
   "outputs": [
    {
     "name": "stdout",
     "output_type": "stream",
     "text": [
      "[0.8785425101214575, 0.970859872611465]\n"
     ]
    }
   ],
   "source": [
    "# random forest classifier\n",
    "from sklearn.ensemble import RandomForestClassifier\n",
    "\n",
    "rfc = RandomForestClassifier()                                     \n",
    "rfc.fit(X_train,y_train)                                           \n",
    "y_prob = rfc.predict_proba(X_test)[:,1]                           \n",
    "fpr_rfc,tpr_rfc,threshold_rfc = metrics.roc_curve(y_test,y_prob)    \n",
    "auc_rfc = metrics.auc(fpr_rfc,tpr_rfc)                             \n",
    "score_rfc = metrics.accuracy_score(y_test,y_pred)                \n",
    "print([score_rfc,auc_rfc])"
   ]
  },
  {
   "cell_type": "code",
   "execution_count": 106,
   "id": "005224af",
   "metadata": {
    "ExecuteTime": {
     "end_time": "2021-10-16T09:22:06.964077Z",
     "start_time": "2021-10-16T09:22:03.340384Z"
    }
   },
   "outputs": [
    {
     "name": "stdout",
     "output_type": "stream",
     "text": [
      "[0.9008097165991903,0.8970806794055203]\n"
     ]
    }
   ],
   "source": [
    "# AdaBoost Classifier\n",
    "from sklearn.ensemble import AdaBoostClassifier\n",
    "from sklearn.tree import DecisionTreeClassifier\n",
    "from sklearn.ensemble import RandomForestClassifier\n",
    "from sklearn.metrics import confusion_matrix\n",
    "\n",
    "# use weak classifier\n",
    "adaclf = AdaBoostClassifier(\n",
    "    DecisionTreeClassifier(max_depth=1),\n",
    "#     RandomForestClassifier(max_depth=1),\n",
    "    n_estimators=100\n",
    ")\n",
    "adaclf.fit(X_train, y_train)\n",
    "y_pred = adaclf.predict(X_test)\n",
    "# print('adaboost confusion matrix:')\n",
    "conf_mat = confusion_matrix(y_test, y_pred)\n",
    "fpr_ada,tpr_ada,threshold_ada = metrics.roc_curve(y_test,y_pred)    \n",
    "auc_ada = metrics.auc(fpr_ada,tpr_ada)                             \n",
    "score_ada = metrics.accuracy_score(y_test,y_pred)  \n",
    "print('[{},{}]'.format(score_ada,auc_ada))"
   ]
  },
  {
   "cell_type": "code",
   "execution_count": 107,
   "id": "0588e4a8",
   "metadata": {
    "ExecuteTime": {
     "end_time": "2021-10-16T09:22:09.849839Z",
     "start_time": "2021-10-16T09:22:08.469574Z"
    },
    "scrolled": true
   },
   "outputs": [
    {
     "name": "stdout",
     "output_type": "stream",
     "text": [
      "[17:22:08] WARNING: /Users/runner/miniforge3/conda-bld/xgboost-split_1631904775127/work/src/learner.cc:573: \n",
      "Parameters: { \"silent\" } might not be used.\n",
      "\n",
      "  This may not be accurate due to some parameters are only used in language bindings but\n",
      "  passed down to XGBoost core.  Or some parameters are not used but slip through this\n",
      "  verification. Please open an issue if you find above cases.\n",
      "\n",
      "\n",
      "[0]\ttrain-auc:0.92612\n",
      "[1]\ttrain-auc:0.93984\n",
      "[2]\ttrain-auc:0.94284\n",
      "[3]\ttrain-auc:0.94570\n",
      "[4]\ttrain-auc:0.95621\n",
      "[5]\ttrain-auc:0.95807\n",
      "[6]\ttrain-auc:0.95848\n",
      "[7]\ttrain-auc:0.95851\n",
      "[8]\ttrain-auc:0.95967\n",
      "[9]\ttrain-auc:0.96012\n",
      "[10]\ttrain-auc:0.96082\n",
      "[11]\ttrain-auc:0.96081\n",
      "[12]\ttrain-auc:0.96086\n",
      "[13]\ttrain-auc:0.96123\n",
      "[14]\ttrain-auc:0.96130\n",
      "[15]\ttrain-auc:0.96232\n",
      "[16]\ttrain-auc:0.96232\n",
      "[17]\ttrain-auc:0.96243\n",
      "[18]\ttrain-auc:0.96268\n",
      "[19]\ttrain-auc:0.96290\n",
      "[20]\ttrain-auc:0.96315\n",
      "[21]\ttrain-auc:0.96524\n",
      "[22]\ttrain-auc:0.96526\n",
      "[23]\ttrain-auc:0.96570\n",
      "[24]\ttrain-auc:0.96672\n",
      "[25]\ttrain-auc:0.96696\n",
      "[26]\ttrain-auc:0.96679\n",
      "[27]\ttrain-auc:0.96758\n",
      "[28]\ttrain-auc:0.96766\n",
      "[29]\ttrain-auc:0.96769\n",
      "[30]\ttrain-auc:0.96780\n",
      "[31]\ttrain-auc:0.96882\n",
      "[32]\ttrain-auc:0.96892\n",
      "[33]\ttrain-auc:0.96937\n",
      "[34]\ttrain-auc:0.96959\n",
      "[35]\ttrain-auc:0.96949\n",
      "[36]\ttrain-auc:0.96982\n",
      "[37]\ttrain-auc:0.96984\n",
      "[38]\ttrain-auc:0.97001\n",
      "[39]\ttrain-auc:0.97053\n",
      "[40]\ttrain-auc:0.97109\n",
      "[41]\ttrain-auc:0.97133\n",
      "[42]\ttrain-auc:0.97133\n",
      "[43]\ttrain-auc:0.97163\n",
      "[44]\ttrain-auc:0.97209\n",
      "[45]\ttrain-auc:0.97216\n",
      "[46]\ttrain-auc:0.97228\n",
      "[47]\ttrain-auc:0.97257\n",
      "[48]\ttrain-auc:0.97249\n",
      "[49]\ttrain-auc:0.97271\n",
      "[50]\ttrain-auc:0.97298\n",
      "[51]\ttrain-auc:0.97317\n",
      "[52]\ttrain-auc:0.97359\n",
      "[53]\ttrain-auc:0.97372\n",
      "[54]\ttrain-auc:0.97402\n",
      "[55]\ttrain-auc:0.97430\n",
      "[56]\ttrain-auc:0.97437\n",
      "[57]\ttrain-auc:0.97472\n",
      "[58]\ttrain-auc:0.97482\n",
      "[59]\ttrain-auc:0.97516\n",
      "[60]\ttrain-auc:0.97540\n",
      "[61]\ttrain-auc:0.97563\n",
      "[62]\ttrain-auc:0.97589\n",
      "[63]\ttrain-auc:0.97609\n",
      "[64]\ttrain-auc:0.97629\n",
      "[65]\ttrain-auc:0.97667\n",
      "[66]\ttrain-auc:0.97676\n",
      "[67]\ttrain-auc:0.97701\n",
      "[68]\ttrain-auc:0.97727\n",
      "[69]\ttrain-auc:0.97747\n",
      "[70]\ttrain-auc:0.97768\n",
      "[71]\ttrain-auc:0.97788\n",
      "[72]\ttrain-auc:0.97811\n",
      "[73]\ttrain-auc:0.97830\n",
      "[74]\ttrain-auc:0.97848\n",
      "[75]\ttrain-auc:0.97872\n",
      "[76]\ttrain-auc:0.97891\n",
      "[77]\ttrain-auc:0.97902\n",
      "[78]\ttrain-auc:0.97913\n",
      "[79]\ttrain-auc:0.97939\n",
      "[80]\ttrain-auc:0.97951\n",
      "[81]\ttrain-auc:0.97965\n",
      "[82]\ttrain-auc:0.97993\n",
      "[83]\ttrain-auc:0.98001\n",
      "[84]\ttrain-auc:0.98016\n",
      "[85]\ttrain-auc:0.98024\n",
      "[86]\ttrain-auc:0.98045\n",
      "[87]\ttrain-auc:0.98066\n",
      "[88]\ttrain-auc:0.98085\n",
      "[89]\ttrain-auc:0.98100\n",
      "[90]\ttrain-auc:0.98124\n",
      "[91]\ttrain-auc:0.98137\n",
      "[92]\ttrain-auc:0.98149\n",
      "[93]\ttrain-auc:0.98161\n",
      "[94]\ttrain-auc:0.98167\n",
      "[95]\ttrain-auc:0.98174\n",
      "[96]\ttrain-auc:0.98190\n",
      "[97]\ttrain-auc:0.98204\n",
      "[98]\ttrain-auc:0.98220\n",
      "[99]\ttrain-auc:0.98239\n",
      "AUC: 0.9633\n",
      "ACC: 0.9028\n",
      "Precesion: 0.8587\n",
      "Recall: 0.8778\n",
      "F1-score: 0.8681\n",
      "[[288  26]\n",
      " [ 22 158]]\n"
     ]
    }
   ],
   "source": [
    "# XGBoost\n",
    "import xgboost as xgb\n",
    "dtrain = xgb.DMatrix(X_train, label=y_train) \n",
    "dtest=xgb.DMatrix(X_test)\n",
    "\n",
    "params={'booster':'gbtree',\n",
    "    'objective': 'binary:logistic',\n",
    "    'eval_metric': 'auc',\n",
    "    'max_depth':4,\n",
    "    'lambda': 10,\n",
    "    'gamma':0.1,\n",
    "    'subsample':0.75,\n",
    "    'colsample_bytree':0.75,\n",
    "    'min_child_weight':3,\n",
    "    'eta': 0.025,\n",
    "    'seed':10,\n",
    "    'nthread':-1,\n",
    "     'silent':0}\n",
    "\n",
    "watchlist = [(dtrain,'train')]\n",
    "bst=xgb.train(params,dtrain,num_boost_round=100,evals=watchlist)\n",
    "\n",
    "ypred=bst.predict(dtest)\n",
    "y_pred = (ypred >= 0.5)*1\n",
    "\n",
    "from sklearn import metrics\n",
    "\n",
    "fpr_xgb,tpr_xgb,threshold_xgb = metrics.roc_curve(y_test,ypred)\n",
    "auc_xgb = metrics.auc(fpr_xgb,tpr_xgb)\n",
    "print ('AUC: %.4f' % metrics.roc_auc_score(y_test,ypred))\n",
    "print ('ACC: %.4f' % metrics.accuracy_score(y_test,y_pred))\n",
    "print ('Precesion: %.4f' %metrics.precision_score(y_test,y_pred))\n",
    "print ('Recall: %.4f' % metrics.recall_score(y_test,y_pred))\n",
    "print ('F1-score: %.4f' %metrics.f1_score(y_test,y_pred))\n",
    "print(metrics.confusion_matrix(y_test,y_pred))"
   ]
  },
  {
   "cell_type": "code",
   "execution_count": 108,
   "id": "66984b8a",
   "metadata": {
    "ExecuteTime": {
     "end_time": "2021-10-16T09:22:11.610940Z",
     "start_time": "2021-10-16T09:22:10.809759Z"
    },
    "scrolled": true
   },
   "outputs": [
    {
     "name": "stdout",
     "output_type": "stream",
     "text": [
      "[LightGBM] [Warning] Unknown parameter: gamma\n",
      "[1]\tvalid_0's binary_logloss: 0.638938\tvalid_0's auc: 0.937863\n",
      "Training until validation scores don't improve for 50 rounds\n",
      "[2]\tvalid_0's binary_logloss: 0.6226\tvalid_0's auc: 0.943144\n",
      "[3]\tvalid_0's binary_logloss: 0.606302\tvalid_0's auc: 0.954326\n",
      "[4]\tvalid_0's binary_logloss: 0.59095\tvalid_0's auc: 0.955971\n",
      "[5]\tvalid_0's binary_logloss: 0.575988\tvalid_0's auc: 0.957811\n",
      "[6]\tvalid_0's binary_logloss: 0.562684\tvalid_0's auc: 0.957466\n",
      "[7]\tvalid_0's binary_logloss: 0.550001\tvalid_0's auc: 0.957626\n",
      "[8]\tvalid_0's binary_logloss: 0.537461\tvalid_0's auc: 0.958015\n",
      "[9]\tvalid_0's binary_logloss: 0.525322\tvalid_0's auc: 0.958608\n",
      "[10]\tvalid_0's binary_logloss: 0.514503\tvalid_0's auc: 0.958767\n",
      "[11]\tvalid_0's binary_logloss: 0.504016\tvalid_0's auc: 0.958696\n",
      "[12]\tvalid_0's binary_logloss: 0.493784\tvalid_0's auc: 0.95974\n",
      "[13]\tvalid_0's binary_logloss: 0.483983\tvalid_0's auc: 0.958997\n",
      "[14]\tvalid_0's binary_logloss: 0.475096\tvalid_0's auc: 0.959156\n",
      "[15]\tvalid_0's binary_logloss: 0.465839\tvalid_0's auc: 0.959457\n",
      "[16]\tvalid_0's binary_logloss: 0.457695\tvalid_0's auc: 0.958926\n",
      "[17]\tvalid_0's binary_logloss: 0.449205\tvalid_0's auc: 0.958944\n",
      "[18]\tvalid_0's binary_logloss: 0.440988\tvalid_0's auc: 0.959333\n",
      "[19]\tvalid_0's binary_logloss: 0.433603\tvalid_0's auc: 0.959705\n",
      "[20]\tvalid_0's binary_logloss: 0.426501\tvalid_0's auc: 0.960324\n",
      "[21]\tvalid_0's binary_logloss: 0.419098\tvalid_0's auc: 0.960943\n",
      "[22]\tvalid_0's binary_logloss: 0.412753\tvalid_0's auc: 0.96066\n",
      "[23]\tvalid_0's binary_logloss: 0.406277\tvalid_0's auc: 0.961509\n",
      "[24]\tvalid_0's binary_logloss: 0.400665\tvalid_0's auc: 0.961244\n",
      "[25]\tvalid_0's binary_logloss: 0.394641\tvalid_0's auc: 0.96135\n",
      "[26]\tvalid_0's binary_logloss: 0.388802\tvalid_0's auc: 0.961845\n",
      "[27]\tvalid_0's binary_logloss: 0.383461\tvalid_0's auc: 0.961863\n",
      "[28]\tvalid_0's binary_logloss: 0.377836\tvalid_0's auc: 0.962712\n",
      "[29]\tvalid_0's binary_logloss: 0.372391\tvalid_0's auc: 0.963296\n",
      "[30]\tvalid_0's binary_logloss: 0.367735\tvalid_0's auc: 0.963066\n",
      "[31]\tvalid_0's binary_logloss: 0.362536\tvalid_0's auc: 0.963756\n",
      "[32]\tvalid_0's binary_logloss: 0.357775\tvalid_0's auc: 0.964128\n",
      "[33]\tvalid_0's binary_logloss: 0.352709\tvalid_0's auc: 0.964871\n",
      "[34]\tvalid_0's binary_logloss: 0.348655\tvalid_0's auc: 0.964889\n",
      "[35]\tvalid_0's binary_logloss: 0.344518\tvalid_0's auc: 0.965189\n",
      "[36]\tvalid_0's binary_logloss: 0.340432\tvalid_0's auc: 0.965561\n",
      "[37]\tvalid_0's binary_logloss: 0.336206\tvalid_0's auc: 0.966056\n",
      "[38]\tvalid_0's binary_logloss: 0.332465\tvalid_0's auc: 0.966251\n",
      "[39]\tvalid_0's binary_logloss: 0.328819\tvalid_0's auc: 0.966198\n",
      "[40]\tvalid_0's binary_logloss: 0.325648\tvalid_0's auc: 0.965985\n",
      "[41]\tvalid_0's binary_logloss: 0.322014\tvalid_0's auc: 0.966516\n",
      "[42]\tvalid_0's binary_logloss: 0.318034\tvalid_0's auc: 0.966967\n",
      "[43]\tvalid_0's binary_logloss: 0.315272\tvalid_0's auc: 0.966773\n",
      "[44]\tvalid_0's binary_logloss: 0.312213\tvalid_0's auc: 0.966861\n",
      "[45]\tvalid_0's binary_logloss: 0.309075\tvalid_0's auc: 0.967215\n",
      "[46]\tvalid_0's binary_logloss: 0.306221\tvalid_0's auc: 0.967321\n",
      "[47]\tvalid_0's binary_logloss: 0.303735\tvalid_0's auc: 0.967286\n",
      "[48]\tvalid_0's binary_logloss: 0.301266\tvalid_0's auc: 0.967357\n",
      "[49]\tvalid_0's binary_logloss: 0.298687\tvalid_0's auc: 0.967268\n",
      "[50]\tvalid_0's binary_logloss: 0.295441\tvalid_0's auc: 0.96764\n",
      "[51]\tvalid_0's binary_logloss: 0.292848\tvalid_0's auc: 0.967923\n",
      "[52]\tvalid_0's binary_logloss: 0.290731\tvalid_0's auc: 0.96764\n",
      "[53]\tvalid_0's binary_logloss: 0.288244\tvalid_0's auc: 0.967675\n",
      "[54]\tvalid_0's binary_logloss: 0.285489\tvalid_0's auc: 0.968241\n",
      "[55]\tvalid_0's binary_logloss: 0.282671\tvalid_0's auc: 0.968524\n",
      "[56]\tvalid_0's binary_logloss: 0.28043\tvalid_0's auc: 0.968648\n",
      "[57]\tvalid_0's binary_logloss: 0.278229\tvalid_0's auc: 0.968861\n",
      "[58]\tvalid_0's binary_logloss: 0.277091\tvalid_0's auc: 0.968719\n",
      "[59]\tvalid_0's binary_logloss: 0.274661\tvalid_0's auc: 0.968701\n",
      "[60]\tvalid_0's binary_logloss: 0.272956\tvalid_0's auc: 0.968684\n",
      "[61]\tvalid_0's binary_logloss: 0.271063\tvalid_0's auc: 0.968914\n",
      "[62]\tvalid_0's binary_logloss: 0.269457\tvalid_0's auc: 0.968949\n",
      "[63]\tvalid_0's binary_logloss: 0.267373\tvalid_0's auc: 0.969268\n",
      "[64]\tvalid_0's binary_logloss: 0.266166\tvalid_0's auc: 0.968949\n",
      "[65]\tvalid_0's binary_logloss: 0.264135\tvalid_0's auc: 0.969268\n",
      "[66]\tvalid_0's binary_logloss: 0.262939\tvalid_0's auc: 0.969091\n",
      "[67]\tvalid_0's binary_logloss: 0.261492\tvalid_0's auc: 0.969321\n",
      "[68]\tvalid_0's binary_logloss: 0.260078\tvalid_0's auc: 0.969108\n",
      "[69]\tvalid_0's binary_logloss: 0.258706\tvalid_0's auc: 0.969144\n",
      "[70]\tvalid_0's binary_logloss: 0.257485\tvalid_0's auc: 0.969197\n",
      "[71]\tvalid_0's binary_logloss: 0.256078\tvalid_0's auc: 0.96948\n",
      "[72]\tvalid_0's binary_logloss: 0.255051\tvalid_0's auc: 0.969444\n",
      "[73]\tvalid_0's binary_logloss: 0.253888\tvalid_0's auc: 0.969303\n",
      "[74]\tvalid_0's binary_logloss: 0.252195\tvalid_0's auc: 0.969356\n",
      "[75]\tvalid_0's binary_logloss: 0.250821\tvalid_0's auc: 0.96948\n",
      "[76]\tvalid_0's binary_logloss: 0.24944\tvalid_0's auc: 0.969462\n",
      "[77]\tvalid_0's binary_logloss: 0.24809\tvalid_0's auc: 0.969409\n",
      "[78]\tvalid_0's binary_logloss: 0.246681\tvalid_0's auc: 0.96948\n",
      "[79]\tvalid_0's binary_logloss: 0.245274\tvalid_0's auc: 0.969745\n",
      "[80]\tvalid_0's binary_logloss: 0.244695\tvalid_0's auc: 0.969674\n",
      "[81]\tvalid_0's binary_logloss: 0.243654\tvalid_0's auc: 0.969657\n",
      "[82]\tvalid_0's binary_logloss: 0.242459\tvalid_0's auc: 0.969869\n",
      "[83]\tvalid_0's binary_logloss: 0.241876\tvalid_0's auc: 0.970046\n",
      "[84]\tvalid_0's binary_logloss: 0.241281\tvalid_0's auc: 0.969922\n",
      "[85]\tvalid_0's binary_logloss: 0.240348\tvalid_0's auc: 0.969834\n",
      "[86]\tvalid_0's binary_logloss: 0.239424\tvalid_0's auc: 0.96994\n",
      "[87]\tvalid_0's binary_logloss: 0.23862\tvalid_0's auc: 0.969993\n",
      "[88]\tvalid_0's binary_logloss: 0.237711\tvalid_0's auc: 0.969958\n",
      "[89]\tvalid_0's binary_logloss: 0.236607\tvalid_0's auc: 0.970081\n",
      "[90]\tvalid_0's binary_logloss: 0.235954\tvalid_0's auc: 0.970205\n",
      "[91]\tvalid_0's binary_logloss: 0.235004\tvalid_0's auc: 0.970223\n",
      "[92]\tvalid_0's binary_logloss: 0.233847\tvalid_0's auc: 0.970347\n",
      "[93]\tvalid_0's binary_logloss: 0.23304\tvalid_0's auc: 0.970294\n",
      "[94]\tvalid_0's binary_logloss: 0.232089\tvalid_0's auc: 0.970364\n",
      "[95]\tvalid_0's binary_logloss: 0.231466\tvalid_0's auc: 0.970364\n",
      "[96]\tvalid_0's binary_logloss: 0.230457\tvalid_0's auc: 0.970612\n",
      "[97]\tvalid_0's binary_logloss: 0.229369\tvalid_0's auc: 0.970683\n",
      "[98]\tvalid_0's binary_logloss: 0.228857\tvalid_0's auc: 0.970648\n",
      "[99]\tvalid_0's binary_logloss: 0.227992\tvalid_0's auc: 0.970895\n",
      "[100]\tvalid_0's binary_logloss: 0.227007\tvalid_0's auc: 0.971161\n",
      "Did not meet early stopping. Best iteration is:\n",
      "[100]\tvalid_0's binary_logloss: 0.227007\tvalid_0's auc: 0.971161\n",
      "AUC: 0.9712\n",
      "ACC: 0.9028\n",
      "Precesion: 0.8708\n",
      "Recall: 0.8611\n",
      "F1-score: 0.8659\n",
      "[[291  23]\n",
      " [ 25 155]]\n"
     ]
    }
   ],
   "source": [
    "# LightGBM\n",
    "import lightgbm as lgb\n",
    "dtrain = lgb.Dataset(X_train, label=y_train) \n",
    "dtest=lgb.Dataset(X_test,label=y_test)\n",
    "\n",
    "params = {'num_leaves': 60,\n",
    "          'min_data_in_leaf': 30,\n",
    "          'objective': 'binary',\n",
    "          'max_depth': -1,\n",
    "          'gamma':0.1,\n",
    "          'learning_rate': 0.03,\n",
    "          \"min_sum_hessian_in_leaf\": 6,\n",
    "          \"boosting\": \"gbdt\",\n",
    "          \"feature_fraction\": 0.9,\n",
    "          \"bagging_freq\": 1,\n",
    "          \"bagging_fraction\": 0.8,\n",
    "          \"bagging_seed\": 11,\n",
    "          \"lambda_l1\": 0,\n",
    "          'lambda_l2': 0.001,\n",
    "          \"verbosity\": -1,\n",
    "          \"nthread\": -1,\n",
    "          'metric': {'binary_logloss', 'auc'},\n",
    "          \"random_state\": 2021,\n",
    "          }\n",
    "\n",
    "gbm = lgb.train(params,\n",
    "                dtrain,\n",
    "                num_boost_round=100,\n",
    "                valid_sets=dtest,\n",
    "                early_stopping_rounds=50)\n",
    "ypred=gbm.predict(X_test)\n",
    "y_pred = (ypred >= 0.5)*1\n",
    "\n",
    "fpr_gbm,tpr_gbm,threshold_gbm = metrics.roc_curve(y_test,ypred)\n",
    "auc_gbm = metrics.auc(fpr_gbm,tpr_gbm)\n",
    "print ('AUC: %.4f' % metrics.roc_auc_score(y_test,ypred))\n",
    "print ('ACC: %.4f' % metrics.accuracy_score(y_test,y_pred))\n",
    "print ('Precesion: %.4f' %metrics.precision_score(y_test,y_pred))\n",
    "print ('Recall: %.4f' % metrics.recall_score(y_test,y_pred))\n",
    "print ('F1-score: %.4f' %metrics.f1_score(y_test,y_pred))\n",
    "print(metrics.confusion_matrix(y_test,y_pred))"
   ]
  },
  {
   "cell_type": "markdown",
   "id": "f7471a22",
   "metadata": {},
   "source": [
    "#### 比较各个分类器的效果"
   ]
  },
  {
   "cell_type": "code",
   "execution_count": 109,
   "id": "1a06c89e",
   "metadata": {
    "ExecuteTime": {
     "end_time": "2021-10-16T09:22:12.699321Z",
     "start_time": "2021-10-16T09:22:12.545023Z"
    }
   },
   "outputs": [
    {
     "data": {
      "image/png": "[encoded data removed]",
      "text/plain": [
       "<Figure size 936x720 with 1 Axes>"
      ]
     },
     "metadata": {
      "needs_background": "light"
     },
     "output_type": "display_data"
    }
   ],
   "source": [
    "# comparison between different approaches\n",
    "plt.style.use('bmh')\n",
    "plt.figure(figsize=(13,10))\n",
    "\n",
    "plt.plot(fpr_lr,tpr_lr,label='lr')                             \n",
    "plt.plot(fpr_svc,tpr_svc,label='svc')                          \n",
    "plt.plot(fpr_knn,tpr_knn,label='knn')                         \n",
    "plt.plot(fpr_dtc,tpr_dtc,label='dtc')                          \n",
    "plt.plot(fpr_rfc,tpr_rfc,label='rfc')                 \n",
    "plt.plot(fpr_ada,tpr_ada,label='ada')              \n",
    "plt.plot(fpr_xgb,tpr_xgb,label='xgb')              \n",
    "plt.plot(fpr_gbm,tpr_gbm,label='gbm')              \n",
    "\n",
    "plt.legend(loc='lower right',prop={'size':25})\n",
    "plt.xlabel('false positive rate')\n",
    "plt.ylabel('true positive rate')\n",
    "plt.title('Caco-2 ROC Curve')\n",
    "plt.show()"
   ]
  },
  {
   "cell_type": "code",
   "execution_count": 110,
   "id": "fc539114",
   "metadata": {
    "ExecuteTime": {
     "end_time": "2021-10-16T09:22:13.643046Z",
     "start_time": "2021-10-16T09:22:13.630794Z"
    }
   },
   "outputs": [
    {
     "name": "stdout",
     "output_type": "stream",
     "text": [
      "svc get highest AUC score(0.9752653927813164), applied to compound: Caco-2\n",
      "Apply svc to test dataset...\n"
     ]
    },
    {
     "data": {
      "text/plain": [
       "((50,),\n",
       " array([0, 0, 0, 0, 0, 0, 0, 0, 0, 0, 0, 0, 0, 0, 0, 0, 0, 0, 0, 0, 0, 0,\n",
       "        0, 0, 0, 0, 0, 0, 0, 0, 0, 0, 0, 0, 0, 0, 0, 0, 0, 0, 0, 0, 0, 0,\n",
       "        0, 0, 0, 0, 0, 0]))"
      ]
     },
     "execution_count": 110,
     "metadata": {},
     "output_type": "execute_result"
    }
   ],
   "source": [
    "# AUC score comparison\n",
    "auc_scores = {\n",
    "    'lr': (auc_lr,lr),\n",
    "    'svc':(auc_svc,svc),\n",
    "    'knn':(auc_knn,knn),\n",
    "    'dtc':(auc_dtc,dtc),\n",
    "    'rfc':(auc_rfc,rfc),\n",
    "    'ada':(auc_ada,adaclf),\n",
    "    'xgb':(auc_ada,bst),\n",
    "    'gbm':(auc_gbm,gbm)\n",
    "}\n",
    "best_mn = ''\n",
    "best_m = None\n",
    "highest_score = -1\n",
    "for k,v in auc_scores.items():\n",
    "    if v[0] > highest_score:\n",
    "        highest_score = v[0]\n",
    "        best_mn = k\n",
    "        best_m = v[1]\n",
    "print('{} get highest AUC score({}), applied to compound: Caco-2'.format(best_mn,highest_score))\n",
    "print('Apply {} to test dataset...'.format(best_mn))\n",
    "if best_mn == 'xgb':\n",
    "    Dtest = xgb.DMatrix(Xtest)\n",
    "    y_caco_test = (bst.predict(Dtest) >= 0.5) * 1\n",
    "elif best_mn == 'gbm':\n",
    "    y_caco_test = (gbm.predict(Xtest) >= 0.5) * 1\n",
    "else:\n",
    "    y_caco_test = best_m.predict(Xtest)\n",
    "adm_test_src['Caco-2'] = y_caco_test\n",
    "y_caco_test.shape,y_caco_test"
   ]
  },
  {
   "cell_type": "code",
   "execution_count": 122,
   "id": "11c2b9a2",
   "metadata": {
    "ExecuteTime": {
     "end_time": "2021-10-15T15:19:04.717438Z",
     "start_time": "2021-10-15T15:19:04.705043Z"
    }
   },
   "outputs": [],
   "source": [
    "# NN model definition\n",
    "import torch\n",
    "from torch.nn import Module,Linear,Conv1d,Conv2d,Sequential,Sigmoid,ReLU,MaxPool1d,MaxPool2d,Flatten\n",
    "from torch.nn import MSELoss,BCEWithLogitsLoss\n",
    "from torch.optim import SGD,Adam\n",
    "\n",
    "# 729 feature\n",
    "class Linear_m(Module):\n",
    "    def __init__(self, D_in, H1,H2,H3):\n",
    "        super(Linear_m,self).__init__()\n",
    "        self.layer1 = Sequential(Linear(D_in,H1),ReLU())\n",
    "        self.layer2 = Sequential(Linear(H1,H2),ReLU())\n",
    "        self.layer3 = Sequential(Linear(H2,H3),ReLU())\n",
    "        self.outlayer = Sequential(Linear(H3,1),Sigmoid())\n",
    "    def forward(self,X):\n",
    "        X = self.layer1(X)\n",
    "        X = self.layer2(X)\n",
    "        X = self.layer3(X)\n",
    "        X = self.outlayer(X)\n",
    "        return X\n",
    "\n",
    "class Conv1d_m(Module):\n",
    "    def __init__(self):\n",
    "        super(Conv1d_m,self).__init__()\n",
    "        self.conv1 = Sequential(Conv1d(1,10,3, stride=1),ReLU())\n",
    "        self.conv2 = Sequential(Conv1d(10,15,3, stride=1),ReLU())\n",
    "        self.flatten = Flatten()\n",
    "        self.fc = Linear(725*15,1)\n",
    "        self.sigmoid = Sigmoid()\n",
    "    \n",
    "    def forward(self,X):\n",
    "        X = self.conv1(X)\n",
    "        X = self.conv2(X)\n",
    "        X = self.flatten(X)\n",
    "        X = self.fc(X)\n",
    "        X = self.sigmoid(X)\n",
    "        return X\n",
    "\n",
    "# class Conv2d_m(Module):\n",
    "#     def __init__(self):\n",
    "#         super(Conv2d_m,self).__init__()\n",
    "#         self.conv1 = Sequential(Conv2d(1,5,3), ReLU())\n",
    "#         self.conv2 = Sequential(Conv2d(5,8,3), ReLU())\n",
    "#         self.maxpool = MaxPool2d(2,stride=2)\n",
    "#         self.flatten = Flatten()\n",
    "#         self.outlayer = Sequential(Linear(1,1),Sigmoid())\n",
    "    \n",
    "#     def forward(self, X):\n",
    "#         X = self.conv1(X)\n",
    "#         X = self.conv2(X)\n",
    "#         X = self.maxpool(X)\n",
    "#         X = self.flatten(X)\n",
    "#         X = self.outlayer(X)\n",
    "#         return X"
   ]
  },
  {
   "cell_type": "code",
   "execution_count": 126,
   "id": "baf7d9df",
   "metadata": {
    "ExecuteTime": {
     "end_time": "2021-10-15T15:19:37.426594Z",
     "start_time": "2021-10-15T15:19:34.699012Z"
    }
   },
   "outputs": [
    {
     "name": "stdout",
     "output_type": "stream",
     "text": [
      "0 0.9227142333984375 0.39054054021835327\n",
      "10 0.6931473016738892 0.6094594597816467\n",
      "20 0.6931473016738892 0.6094594597816467\n",
      "30 0.6931473016738892 0.6094594597816467\n",
      "40 0.6931473016738892 0.6094594597816467\n"
     ]
    }
   ],
   "source": [
    "# linear model\n",
    "X_train_l = torch.Tensor(X_train)\n",
    "X_test_l = torch.Tensor(X_test)\n",
    "y_train_l = torch.Tensor(y_train)\n",
    "y_train_l = y_train_l.unsqueeze(1)\n",
    "\n",
    "model_l = Linear_m(729,200,100,50)\n",
    "model_l.train()\n",
    "criterion = BCEWithLogitsLoss() # binary classification\n",
    "optimizer = Adam(model_l.parameters(), lr=1e-3)\n",
    "for t in range(50):\n",
    "    y_pred = model_l(X_train_l)\n",
    "\n",
    "    loss = criterion(y_pred, y_train_l)\n",
    "    y_pred= y_pred > 0.5\n",
    "    accuracy = (y_pred==y_train_l).sum().float() / len(y_pred)\n",
    "    \n",
    "    if t % 10 == 0:\n",
    "        print(t, loss.item(), accuracy.item())\n",
    "\n",
    "    optimizer.zero_grad()\n",
    "    loss.backward()\n",
    "    optimizer.step()"
   ]
  },
  {
   "cell_type": "code",
   "execution_count": 109,
   "id": "2428e331",
   "metadata": {
    "ExecuteTime": {
     "end_time": "2021-10-15T15:09:28.862511Z",
     "start_time": "2021-10-15T15:09:12.783235Z"
    },
    "scrolled": true
   },
   "outputs": [
    {
     "name": "stdout",
     "output_type": "stream",
     "text": [
      "0 0.9225730895996094 0.39054054021835327\n",
      "10 0.9223998785018921 0.39054054021835327\n",
      "20 0.6956669092178345 0.6067567467689514\n",
      "30 0.6956425905227661 0.6067567467689514\n",
      "40 0.6953707337379456 0.6067567467689514\n"
     ]
    }
   ],
   "source": [
    "# Conv1d model\n",
    "X_train_c1 = torch.Tensor(X_train)\n",
    "X_train_c1 = X_train_c1.reshape(X_train_c1.shape[0],1,-1)\n",
    "X_test_c1 = torch.Tensor(X_test)\n",
    "X_test_c1 = X_test_c1.reshape(X_test_c1.shape[0],1,-1)\n",
    "y_train_c1 = torch.Tensor(y_train)\n",
    "y_train_c1 = y_train_c1.unsqueeze(1)\n",
    "\n",
    "model_c1 = Conv1d_m()\n",
    "model_c1.train()\n",
    "criterion = BCEWithLogitsLoss() # binary classification\n",
    "optimizer = SGD(model_c1.parameters(), lr=1e-4)\n",
    "for t in range(50):\n",
    "    y_pred = model_c1(X_train_c1)\n",
    "\n",
    "    loss = criterion(y_pred, y_train_c1)\n",
    "    y_pred= y_pred > 0.5\n",
    "    accuracy = (y_pred==y_train_c1).sum().float() / len(y_pred)\n",
    "    \n",
    "#     if t % 100 == 99:\n",
    "    if t % 10 == 0:\n",
    "        print(t, loss.item(), accuracy.item())\n",
    "\n",
    "    optimizer.zero_grad()\n",
    "    loss.backward()\n",
    "    optimizer.step()\n"
   ]
  },
  {
   "cell_type": "code",
   "execution_count": null,
   "id": "b5bcbe4e",
   "metadata": {},
   "outputs": [],
   "source": [
    "# TODO: AlexNet, ResNet or ...\n",
    "# alexnet = torch.hub.load()\n",
    "# resnet = torch.hub.load()"
   ]
  },
  {
   "cell_type": "markdown",
   "id": "85948e07",
   "metadata": {
    "ExecuteTime": {
     "end_time": "2021-10-15T03:45:30.127473Z",
     "start_time": "2021-10-15T03:45:30.124915Z"
    }
   },
   "source": [
    "### CYP3A4"
   ]
  },
  {
   "cell_type": "code",
   "execution_count": 111,
   "id": "759a7d0a",
   "metadata": {
    "ExecuteTime": {
     "end_time": "2021-10-16T09:22:19.396539Z",
     "start_time": "2021-10-16T09:22:19.390693Z"
    },
    "scrolled": true
   },
   "outputs": [
    {
     "data": {
      "text/plain": [
       "1    1461\n",
       "0     513\n",
       "Name: CYP3A4, dtype: int64"
      ]
     },
     "execution_count": 111,
     "metadata": {},
     "output_type": "execute_result"
    }
   ],
   "source": [
    "# imbalanced value detection\n",
    "cyp.value_counts()"
   ]
  },
  {
   "cell_type": "code",
   "execution_count": 112,
   "id": "361be0c8",
   "metadata": {
    "ExecuteTime": {
     "end_time": "2021-10-16T09:22:21.240927Z",
     "start_time": "2021-10-16T09:22:21.205764Z"
    }
   },
   "outputs": [
    {
     "data": {
      "text/plain": [
       "((1480, 729), (1480,), (494, 729), (494,), (1480, 729), (494, 729))"
      ]
     },
     "execution_count": 112,
     "metadata": {},
     "output_type": "execute_result"
    }
   ],
   "source": [
    "from sklearn.preprocessing import StandardScaler\n",
    "from sklearn.model_selection import train_test_split\n",
    "from sklearn import metrics\n",
    "\n",
    "ssc = StandardScaler()\n",
    "# trans_X = ssc.fit_transform(fX)\n",
    "\n",
    "X_train, X_test, y_train, y_test = train_test_split(fX, cyp.values, test_size=0.25,random_state=100)\n",
    "X_train_tran = ssc.fit_transform(X_train)\n",
    "X_test_tran = ssc.transform(X_test)\n",
    "# X_train_tran, X_test_tran, y_train, y_test = train_test_split(fX, caco.values, test_size=0.25,random_state=100)\n",
    "X_train.shape,y_train.shape,X_test.shape,y_test.shape, X_train_tran.shape, X_test_tran.shape"
   ]
  },
  {
   "cell_type": "code",
   "execution_count": 113,
   "id": "79def3ac",
   "metadata": {
    "ExecuteTime": {
     "end_time": "2021-10-16T09:22:22.415751Z",
     "start_time": "2021-10-16T09:22:22.309958Z"
    },
    "scrolled": false
   },
   "outputs": [
    {
     "name": "stdout",
     "output_type": "stream",
     "text": [
      "[0.9068825910931174, 0.9663439168679236]\n"
     ]
    },
    {
     "name": "stderr",
     "output_type": "stream",
     "text": [
      "/Users/johnson/opt/anaconda3/envs/prac/lib/python3.8/site-packages/sklearn/linear_model/_logistic.py:763: ConvergenceWarning: lbfgs failed to converge (status=1):\n",
      "STOP: TOTAL NO. of ITERATIONS REACHED LIMIT.\n",
      "\n",
      "Increase the number of iterations (max_iter) or scale the data as shown in:\n",
      "    https://scikit-learn.org/stable/modules/preprocessing.html\n",
      "Please also refer to the documentation for alternative solver options:\n",
      "    https://scikit-learn.org/stable/modules/linear_model.html#logistic-regression\n",
      "  n_iter_i = _check_optimize_result(\n"
     ]
    }
   ],
   "source": [
    "from sklearn.linear_model import LogisticRegression\n",
    "\n",
    "lr = LogisticRegression()                                     \n",
    "lr.fit(X_train,y_train)                                        \n",
    "y_prob = lr.predict_proba(X_test)[:,1]                           \n",
    "y_pred = lr.predict(X_test)                                      \n",
    "fpr_lr,tpr_lr,threshold_lr = metrics.roc_curve(y_test,y_prob)   \n",
    "auc_lr = metrics.auc(fpr_lr,tpr_lr)                             \n",
    "score_lr = metrics.accuracy_score(y_test,y_pred)                 \n",
    "print([score_lr,auc_lr])"
   ]
  },
  {
   "cell_type": "code",
   "execution_count": 114,
   "id": "f62cb8bb",
   "metadata": {
    "ExecuteTime": {
     "end_time": "2021-10-16T09:22:24.534398Z",
     "start_time": "2021-10-16T09:22:23.776623Z"
    }
   },
   "outputs": [
    {
     "name": "stdout",
     "output_type": "stream",
     "text": [
      "[0.9412955465587044, 0.9737442669443644]\n",
      "[0.9473684210526315, 0.977887576717701]\n",
      "[0.917004048582996, 0.9655241176079586]\n"
     ]
    }
   ],
   "source": [
    "# SVM with standardization\n",
    "from sklearn.svm import SVC\n",
    "kernelList = ['linear','rbf','sigmoid']\n",
    "svc = None\n",
    "auc_svc = -1\n",
    "score_svc = -1\n",
    "fpr_svc = None\n",
    "tpr_svc = None\n",
    "for kernel in kernelList:\n",
    "    svc_tmp = SVC(kernel=kernel).fit(X_train_tran,y_train)\n",
    "\n",
    "    # decision border distance\n",
    "    y_prob = svc_tmp.decision_function(X_test_tran)\n",
    "    y_pred = svc_tmp.predict(X_test_tran)\n",
    "    # false positive, true positive\n",
    "    fpr_svc_tmp,tpr_svc_tmp,threshold_svc_tmp = metrics.roc_curve(y_test,y_prob)\n",
    "    # auc curve\n",
    "    auc_svc_tmp = metrics.auc(fpr_svc_tmp,tpr_svc_tmp)\n",
    "    score_svc_tmp = metrics.accuracy_score(y_test,y_pred)\n",
    "    print([score_svc_tmp,auc_svc_tmp])    \n",
    "    \n",
    "    if not svc:\n",
    "        svc = svc_tmp\n",
    "    if auc_svc < auc_svc_tmp:\n",
    "        auc_svc = auc_svc_tmp\n",
    "        best_svc = svc\n",
    "        score_svc = score_svc_tmp\n",
    "        fpr_svc = fpr_svc_tmp\n",
    "        tpr_svc = tpr_svc_tmp"
   ]
  },
  {
   "cell_type": "code",
   "execution_count": 115,
   "id": "77b8920f",
   "metadata": {
    "ExecuteTime": {
     "end_time": "2021-10-16T09:22:25.507380Z",
     "start_time": "2021-10-16T09:22:25.448947Z"
    }
   },
   "outputs": [
    {
     "name": "stdout",
     "output_type": "stream",
     "text": [
      "[0.9311740890688259, 0.9601843440498083]\n"
     ]
    }
   ],
   "source": [
    "# KNN with standardization\n",
    "from sklearn.neighbors import KNeighborsClassifier\n",
    "\n",
    "# knn = KNeighborsClassifier(n_neighbors=5,weights='uniform').fit(X_train_tran,y_train)\n",
    "knn = KNeighborsClassifier(n_neighbors=5,weights='distance').fit(X_train_tran,y_train)\n",
    "\n",
    "y_prob = knn.predict_proba(X_test_tran)[:,1]                              \n",
    "y_pred = knn.predict(X_test_tran)                                       \n",
    "fpr_knn,tpr_knn,threshold_knn = metrics.roc_curve(y_test,y_prob)   \n",
    "auc_knn = metrics.auc(fpr_knn,tpr_knn)                              \n",
    "score_knn = metrics.accuracy_score(y_test,y_pred)\n",
    "print([score_knn,auc_knn])"
   ]
  },
  {
   "cell_type": "code",
   "execution_count": 116,
   "id": "36325538",
   "metadata": {
    "ExecuteTime": {
     "end_time": "2021-10-16T09:22:26.745732Z",
     "start_time": "2021-10-16T09:22:26.426857Z"
    }
   },
   "outputs": [
    {
     "name": "stdout",
     "output_type": "stream",
     "text": [
      "K=2, get highest score=0.7550607287449392\n"
     ]
    },
    {
     "data": {
      "text/plain": [
       "[<matplotlib.lines.Line2D at 0x7fc6ef70f220>]"
      ]
     },
     "execution_count": 116,
     "metadata": {},
     "output_type": "execute_result"
    },
    {
     "data": {
      "image/png": "[encoded data removed]",
      "text/plain": [
       "<Figure size 432x288 with 1 Axes>"
      ]
     },
     "metadata": {
      "needs_background": "light"
     },
     "output_type": "display_data"
    }
   ],
   "source": [
    "# select best K \n",
    "score_K=[]\n",
    "KList=range(2,13)\n",
    "\n",
    "for k in KList:\n",
    "    knn = KNeighborsClassifier(n_neighbors=k,weights='distance').fit(X_train_tran,y_train)\n",
    "    score_K.append(knn.score(X_test,y_test))\n",
    "\n",
    "print('K={}, get highest score={}'.format(KList[score_K.index(max(score_K))],max(score_K)))\n",
    "plt.plot(KList, score_K)"
   ]
  },
  {
   "cell_type": "code",
   "execution_count": 117,
   "id": "623b0f5a",
   "metadata": {
    "ExecuteTime": {
     "end_time": "2021-10-16T09:22:27.967029Z",
     "start_time": "2021-10-16T09:22:27.697936Z"
    }
   },
   "outputs": [
    {
     "name": "stdout",
     "output_type": "stream",
     "text": [
      "[0.9109311740890689, 0.8879755389626215]\n"
     ]
    }
   ],
   "source": [
    "# decision tree\n",
    "from sklearn import tree\n",
    "\n",
    "dtc = tree.DecisionTreeClassifier()                         \n",
    "dtc.fit(X_train,y_train)                                       \n",
    "y_prob = dtc.predict_proba(X_test)[:,1]                          \n",
    "y_pred = dtc.predict(X_test)                                      \n",
    "fpr_dtc,tpr_dtc,threshod_dtc= metrics.roc_curve(y_test,y_prob)   \n",
    "score_dtc = metrics.accuracy_score(y_test,y_pred)                \n",
    "auc_dtc = metrics.auc(fpr_dtc,tpr_dtc) \n",
    "print([score_dtc,auc_dtc])"
   ]
  },
  {
   "cell_type": "code",
   "execution_count": 118,
   "id": "41eea155",
   "metadata": {
    "ExecuteTime": {
     "end_time": "2021-10-16T09:22:29.491017Z",
     "start_time": "2021-10-16T09:22:28.886715Z"
    }
   },
   "outputs": [
    {
     "name": "stdout",
     "output_type": "stream",
     "text": [
      "[0.9109311740890689, 0.979527175237631]\n"
     ]
    }
   ],
   "source": [
    "# random forest classifier\n",
    "from sklearn.ensemble import RandomForestClassifier\n",
    "\n",
    "rfc = RandomForestClassifier()                                     \n",
    "rfc.fit(X_train,y_train)                                           \n",
    "y_prob = rfc.predict_proba(X_test)[:,1]                           \n",
    "fpr_rfc,tpr_rfc,threshold_rfc = metrics.roc_curve(y_test,y_prob)    \n",
    "auc_rfc = metrics.auc(fpr_rfc,tpr_rfc)                             \n",
    "score_rfc = metrics.accuracy_score(y_test,y_pred)                \n",
    "print([score_rfc,auc_rfc])"
   ]
  },
  {
   "cell_type": "code",
   "execution_count": 119,
   "id": "f146059e",
   "metadata": {
    "ExecuteTime": {
     "end_time": "2021-10-16T09:22:33.602217Z",
     "start_time": "2021-10-16T09:22:30.388788Z"
    }
   },
   "outputs": [
    {
     "name": "stdout",
     "output_type": "stream",
     "text": [
      "[0.9493927125506073,0.9274034520195865]\n"
     ]
    }
   ],
   "source": [
    "# AdaBoost Classifier\n",
    "from sklearn.ensemble import AdaBoostClassifier\n",
    "from sklearn.tree import DecisionTreeClassifier\n",
    "from sklearn.ensemble import RandomForestClassifier\n",
    "from sklearn.metrics import confusion_matrix\n",
    "\n",
    "# use weak classifier\n",
    "adaclf = AdaBoostClassifier(\n",
    "    DecisionTreeClassifier(max_depth=1),\n",
    "#     RandomForestClassifier(max_depth=1),\n",
    "    n_estimators=100\n",
    ")\n",
    "adaclf.fit(X_train, y_train)\n",
    "y_pred = adaclf.predict(X_test)\n",
    "# print('adaboost confusion matrix:')\n",
    "conf_mat = confusion_matrix(y_test, y_pred)\n",
    "fpr_ada,tpr_ada,threshold_ada = metrics.roc_curve(y_test,y_pred)    \n",
    "auc_ada = metrics.auc(fpr_ada,tpr_ada)                             \n",
    "score_ada = metrics.accuracy_score(y_test,y_pred)  \n",
    "print('[{},{}]'.format(score_ada,auc_ada))"
   ]
  },
  {
   "cell_type": "code",
   "execution_count": 120,
   "id": "bb1a5f24",
   "metadata": {
    "ExecuteTime": {
     "end_time": "2021-10-16T09:22:35.888471Z",
     "start_time": "2021-10-16T09:22:34.483036Z"
    },
    "scrolled": true
   },
   "outputs": [
    {
     "name": "stdout",
     "output_type": "stream",
     "text": [
      "[17:22:34] WARNING: /Users/runner/miniforge3/conda-bld/xgboost-split_1631904775127/work/src/learner.cc:573: \n",
      "Parameters: { \"silent\" } might not be used.\n",
      "\n",
      "  This may not be accurate due to some parameters are only used in language bindings but\n",
      "  passed down to XGBoost core.  Or some parameters are not used but slip through this\n",
      "  verification. Please open an issue if you find above cases.\n",
      "\n",
      "\n",
      "[0]\ttrain-auc:0.95052\n",
      "[1]\ttrain-auc:0.95790\n",
      "[2]\ttrain-auc:0.96359\n",
      "[3]\ttrain-auc:0.96736\n",
      "[4]\ttrain-auc:0.96968\n",
      "[5]\ttrain-auc:0.97173\n",
      "[6]\ttrain-auc:0.97577\n",
      "[7]\ttrain-auc:0.97768\n",
      "[8]\ttrain-auc:0.98074\n",
      "[9]\ttrain-auc:0.98033\n",
      "[10]\ttrain-auc:0.98045\n",
      "[11]\ttrain-auc:0.98049\n",
      "[12]\ttrain-auc:0.98136\n",
      "[13]\ttrain-auc:0.98161\n",
      "[14]\ttrain-auc:0.98178\n",
      "[15]\ttrain-auc:0.98203\n",
      "[16]\ttrain-auc:0.98259\n",
      "[17]\ttrain-auc:0.98290\n",
      "[18]\ttrain-auc:0.98308\n",
      "[19]\ttrain-auc:0.98313\n",
      "[20]\ttrain-auc:0.98302\n",
      "[21]\ttrain-auc:0.98371\n",
      "[22]\ttrain-auc:0.98359\n",
      "[23]\ttrain-auc:0.98398\n",
      "[24]\ttrain-auc:0.98415\n",
      "[25]\ttrain-auc:0.98451\n",
      "[26]\ttrain-auc:0.98450\n",
      "[27]\ttrain-auc:0.98486\n",
      "[28]\ttrain-auc:0.98494\n",
      "[29]\ttrain-auc:0.98508\n",
      "[30]\ttrain-auc:0.98534\n",
      "[31]\ttrain-auc:0.98546\n",
      "[32]\ttrain-auc:0.98548\n",
      "[33]\ttrain-auc:0.98553\n",
      "[34]\ttrain-auc:0.98547\n",
      "[35]\ttrain-auc:0.98555\n",
      "[36]\ttrain-auc:0.98552\n",
      "[37]\ttrain-auc:0.98566\n",
      "[38]\ttrain-auc:0.98577\n",
      "[39]\ttrain-auc:0.98593\n",
      "[40]\ttrain-auc:0.98609\n",
      "[41]\ttrain-auc:0.98623\n",
      "[42]\ttrain-auc:0.98649\n",
      "[43]\ttrain-auc:0.98657\n",
      "[44]\ttrain-auc:0.98689\n",
      "[45]\ttrain-auc:0.98702\n",
      "[46]\ttrain-auc:0.98704\n",
      "[47]\ttrain-auc:0.98707\n",
      "[48]\ttrain-auc:0.98722\n",
      "[49]\ttrain-auc:0.98728\n",
      "[50]\ttrain-auc:0.98741\n",
      "[51]\ttrain-auc:0.98770\n",
      "[52]\ttrain-auc:0.98784\n",
      "[53]\ttrain-auc:0.98807\n",
      "[54]\ttrain-auc:0.98820\n",
      "[55]\ttrain-auc:0.98825\n",
      "[56]\ttrain-auc:0.98832\n",
      "[57]\ttrain-auc:0.98845\n",
      "[58]\ttrain-auc:0.98867\n",
      "[59]\ttrain-auc:0.98886\n",
      "[60]\ttrain-auc:0.98903\n",
      "[61]\ttrain-auc:0.98909\n",
      "[62]\ttrain-auc:0.98918\n",
      "[63]\ttrain-auc:0.98928\n",
      "[64]\ttrain-auc:0.98941\n",
      "[65]\ttrain-auc:0.98947\n",
      "[66]\ttrain-auc:0.98960\n",
      "[67]\ttrain-auc:0.98968\n",
      "[68]\ttrain-auc:0.98979\n",
      "[69]\ttrain-auc:0.98994\n",
      "[70]\ttrain-auc:0.99001\n",
      "[71]\ttrain-auc:0.99008\n",
      "[72]\ttrain-auc:0.99019\n",
      "[73]\ttrain-auc:0.99028\n",
      "[74]\ttrain-auc:0.99047\n",
      "[75]\ttrain-auc:0.99059\n",
      "[76]\ttrain-auc:0.99073\n",
      "[77]\ttrain-auc:0.99081\n",
      "[78]\ttrain-auc:0.99089\n",
      "[79]\ttrain-auc:0.99100\n",
      "[80]\ttrain-auc:0.99099\n",
      "[81]\ttrain-auc:0.99104\n",
      "[82]\ttrain-auc:0.99115\n",
      "[83]\ttrain-auc:0.99123\n",
      "[84]\ttrain-auc:0.99134\n",
      "[85]\ttrain-auc:0.99142\n",
      "[86]\ttrain-auc:0.99148\n",
      "[87]\ttrain-auc:0.99150\n",
      "[88]\ttrain-auc:0.99157\n",
      "[89]\ttrain-auc:0.99158\n",
      "[90]\ttrain-auc:0.99161\n",
      "[91]\ttrain-auc:0.99165\n",
      "[92]\ttrain-auc:0.99171\n",
      "[93]\ttrain-auc:0.99182\n",
      "[94]\ttrain-auc:0.99186\n",
      "[95]\ttrain-auc:0.99197\n",
      "[96]\ttrain-auc:0.99210\n",
      "[97]\ttrain-auc:0.99218\n",
      "[98]\ttrain-auc:0.99224\n",
      "[99]\ttrain-auc:0.99241\n",
      "AUC: 0.9809\n",
      "ACC: 0.9413\n",
      "Precesion: 0.9674\n",
      "Recall: 0.9544\n",
      "F1-score: 0.9609\n",
      "[[109  12]\n",
      " [ 17 356]]\n"
     ]
    }
   ],
   "source": [
    "# XGBoost\n",
    "import xgboost as xgb\n",
    "dtrain = xgb.DMatrix(X_train, label=y_train) \n",
    "dtest=xgb.DMatrix(X_test)\n",
    "\n",
    "params={'booster':'gbtree',\n",
    "    'objective': 'binary:logistic',\n",
    "    'eval_metric': 'auc',\n",
    "    'max_depth':4,\n",
    "    'lambda': 10,\n",
    "    'gamma':0.1,\n",
    "    'subsample':0.75,\n",
    "    'colsample_bytree':0.75,\n",
    "    'min_child_weight':3,\n",
    "    'eta': 0.025,\n",
    "    'seed':10,\n",
    "    'nthread':-1,\n",
    "     'silent':0}\n",
    "\n",
    "watchlist = [(dtrain,'train')]\n",
    "bst=xgb.train(params,dtrain,num_boost_round=100,evals=watchlist)\n",
    "\n",
    "ypred=bst.predict(dtest)\n",
    "y_pred = (ypred >= 0.5)*1\n",
    "\n",
    "from sklearn import metrics\n",
    "\n",
    "fpr_xgb,tpr_xgb,threshold_xgb = metrics.roc_curve(y_test,ypred)\n",
    "auc_xgb = metrics.auc(fpr_xgb,tpr_xgb)\n",
    "print ('AUC: %.4f' % metrics.roc_auc_score(y_test,ypred))\n",
    "print ('ACC: %.4f' % metrics.accuracy_score(y_test,y_pred))\n",
    "print ('Precesion: %.4f' %metrics.precision_score(y_test,y_pred))\n",
    "print ('Recall: %.4f' % metrics.recall_score(y_test,y_pred))\n",
    "print ('F1-score: %.4f' %metrics.f1_score(y_test,y_pred))\n",
    "print(metrics.confusion_matrix(y_test,y_pred))"
   ]
  },
  {
   "cell_type": "code",
   "execution_count": 121,
   "id": "6722d7de",
   "metadata": {
    "ExecuteTime": {
     "end_time": "2021-10-16T09:22:37.376884Z",
     "start_time": "2021-10-16T09:22:36.810403Z"
    },
    "scrolled": true
   },
   "outputs": [
    {
     "name": "stdout",
     "output_type": "stream",
     "text": [
      "[LightGBM] [Warning] Unknown parameter: gamma\n",
      "[1]\tvalid_0's binary_logloss: 0.538702\tvalid_0's auc: 0.953526\n",
      "Training until validation scores don't improve for 50 rounds\n",
      "[2]\tvalid_0's binary_logloss: 0.522149\tvalid_0's auc: 0.958622\n",
      "[3]\tvalid_0's binary_logloss: 0.505012\tvalid_0's auc: 0.964173\n",
      "[4]\tvalid_0's binary_logloss: 0.491059\tvalid_0's auc: 0.962234\n",
      "[5]\tvalid_0's binary_logloss: 0.476599\tvalid_0's auc: 0.966289\n",
      "[6]\tvalid_0's binary_logloss: 0.46365\tvalid_0's auc: 0.965945\n",
      "[7]\tvalid_0's binary_logloss: 0.451413\tvalid_0's auc: 0.967419\n",
      "[8]\tvalid_0's binary_logloss: 0.439571\tvalid_0's auc: 0.968371\n",
      "[9]\tvalid_0's binary_logloss: 0.428792\tvalid_0's auc: 0.968726\n",
      "[10]\tvalid_0's binary_logloss: 0.417945\tvalid_0's auc: 0.969313\n",
      "[11]\tvalid_0's binary_logloss: 0.408211\tvalid_0's auc: 0.969213\n",
      "[12]\tvalid_0's binary_logloss: 0.398355\tvalid_0's auc: 0.969723\n",
      "[13]\tvalid_0's binary_logloss: 0.389424\tvalid_0's auc: 0.969701\n",
      "[14]\tvalid_0's binary_logloss: 0.380315\tvalid_0's auc: 0.972448\n",
      "[15]\tvalid_0's binary_logloss: 0.372372\tvalid_0's auc: 0.972116\n",
      "[16]\tvalid_0's binary_logloss: 0.365253\tvalid_0's auc: 0.971794\n",
      "[17]\tvalid_0's binary_logloss: 0.358151\tvalid_0's auc: 0.971794\n",
      "[18]\tvalid_0's binary_logloss: 0.351215\tvalid_0's auc: 0.973135\n",
      "[19]\tvalid_0's binary_logloss: 0.344872\tvalid_0's auc: 0.97308\n",
      "[20]\tvalid_0's binary_logloss: 0.338396\tvalid_0's auc: 0.973235\n",
      "[21]\tvalid_0's binary_logloss: 0.331395\tvalid_0's auc: 0.974099\n",
      "[22]\tvalid_0's binary_logloss: 0.325077\tvalid_0's auc: 0.974631\n",
      "[23]\tvalid_0's binary_logloss: 0.318822\tvalid_0's auc: 0.975052\n",
      "[24]\tvalid_0's binary_logloss: 0.312854\tvalid_0's auc: 0.975384\n",
      "[25]\tvalid_0's binary_logloss: 0.307731\tvalid_0's auc: 0.975583\n",
      "[26]\tvalid_0's binary_logloss: 0.302406\tvalid_0's auc: 0.975672\n",
      "[27]\tvalid_0's binary_logloss: 0.297223\tvalid_0's auc: 0.975916\n",
      "[28]\tvalid_0's binary_logloss: 0.29209\tvalid_0's auc: 0.976337\n",
      "[29]\tvalid_0's binary_logloss: 0.287891\tvalid_0's auc: 0.97658\n",
      "[30]\tvalid_0's binary_logloss: 0.283286\tvalid_0's auc: 0.976669\n",
      "[31]\tvalid_0's binary_logloss: 0.278856\tvalid_0's auc: 0.976547\n",
      "[32]\tvalid_0's binary_logloss: 0.274635\tvalid_0's auc: 0.976747\n",
      "[33]\tvalid_0's binary_logloss: 0.2706\tvalid_0's auc: 0.977123\n",
      "[34]\tvalid_0's binary_logloss: 0.265996\tvalid_0's auc: 0.977588\n",
      "[35]\tvalid_0's binary_logloss: 0.262173\tvalid_0's auc: 0.977345\n",
      "[36]\tvalid_0's binary_logloss: 0.258406\tvalid_0's auc: 0.977345\n",
      "[37]\tvalid_0's binary_logloss: 0.254468\tvalid_0's auc: 0.977721\n",
      "[38]\tvalid_0's binary_logloss: 0.250483\tvalid_0's auc: 0.978275\n",
      "[39]\tvalid_0's binary_logloss: 0.246998\tvalid_0's auc: 0.97843\n",
      "[40]\tvalid_0's binary_logloss: 0.243658\tvalid_0's auc: 0.97843\n",
      "[41]\tvalid_0's binary_logloss: 0.240539\tvalid_0's auc: 0.97863\n",
      "[42]\tvalid_0's binary_logloss: 0.237776\tvalid_0's auc: 0.978652\n",
      "[43]\tvalid_0's binary_logloss: 0.235061\tvalid_0's auc: 0.978785\n",
      "[44]\tvalid_0's binary_logloss: 0.232286\tvalid_0's auc: 0.978586\n",
      "[45]\tvalid_0's binary_logloss: 0.229161\tvalid_0's auc: 0.97894\n",
      "[46]\tvalid_0's binary_logloss: 0.225916\tvalid_0's auc: 0.979472\n",
      "[47]\tvalid_0's binary_logloss: 0.223394\tvalid_0's auc: 0.979427\n",
      "[48]\tvalid_0's binary_logloss: 0.220079\tvalid_0's auc: 0.979649\n",
      "[49]\tvalid_0's binary_logloss: 0.217593\tvalid_0's auc: 0.97976\n",
      "[50]\tvalid_0's binary_logloss: 0.215277\tvalid_0's auc: 0.980004\n",
      "[51]\tvalid_0's binary_logloss: 0.212588\tvalid_0's auc: 0.980048\n",
      "[52]\tvalid_0's binary_logloss: 0.210209\tvalid_0's auc: 0.980004\n",
      "[53]\tvalid_0's binary_logloss: 0.208318\tvalid_0's auc: 0.979959\n",
      "[54]\tvalid_0's binary_logloss: 0.206179\tvalid_0's auc: 0.980159\n",
      "[55]\tvalid_0's binary_logloss: 0.204075\tvalid_0's auc: 0.980159\n",
      "[56]\tvalid_0's binary_logloss: 0.202448\tvalid_0's auc: 0.98007\n",
      "[57]\tvalid_0's binary_logloss: 0.200616\tvalid_0's auc: 0.980225\n",
      "[58]\tvalid_0's binary_logloss: 0.198901\tvalid_0's auc: 0.980314\n",
      "[59]\tvalid_0's binary_logloss: 0.196657\tvalid_0's auc: 0.980369\n",
      "[60]\tvalid_0's binary_logloss: 0.19468\tvalid_0's auc: 0.980502\n",
      "[61]\tvalid_0's binary_logloss: 0.193156\tvalid_0's auc: 0.980458\n",
      "[62]\tvalid_0's binary_logloss: 0.191078\tvalid_0's auc: 0.980591\n",
      "[63]\tvalid_0's binary_logloss: 0.189546\tvalid_0's auc: 0.980613\n",
      "[64]\tvalid_0's binary_logloss: 0.188063\tvalid_0's auc: 0.98048\n",
      "[65]\tvalid_0's binary_logloss: 0.186468\tvalid_0's auc: 0.980546\n",
      "[66]\tvalid_0's binary_logloss: 0.185077\tvalid_0's auc: 0.980657\n",
      "[67]\tvalid_0's binary_logloss: 0.183784\tvalid_0's auc: 0.980657\n",
      "[68]\tvalid_0's binary_logloss: 0.182075\tvalid_0's auc: 0.980901\n",
      "[69]\tvalid_0's binary_logloss: 0.181296\tvalid_0's auc: 0.980591\n",
      "[70]\tvalid_0's binary_logloss: 0.179336\tvalid_0's auc: 0.980768\n",
      "[71]\tvalid_0's binary_logloss: 0.177792\tvalid_0's auc: 0.980923\n",
      "[72]\tvalid_0's binary_logloss: 0.176717\tvalid_0's auc: 0.980923\n",
      "[73]\tvalid_0's binary_logloss: 0.175547\tvalid_0's auc: 0.980569\n",
      "[74]\tvalid_0's binary_logloss: 0.174513\tvalid_0's auc: 0.980635\n",
      "[75]\tvalid_0's binary_logloss: 0.173249\tvalid_0's auc: 0.980635\n",
      "[76]\tvalid_0's binary_logloss: 0.172199\tvalid_0's auc: 0.98099\n",
      "[77]\tvalid_0's binary_logloss: 0.171158\tvalid_0's auc: 0.981122\n",
      "[78]\tvalid_0's binary_logloss: 0.170081\tvalid_0's auc: 0.980945\n",
      "[79]\tvalid_0's binary_logloss: 0.16901\tvalid_0's auc: 0.981078\n",
      "[80]\tvalid_0's binary_logloss: 0.167867\tvalid_0's auc: 0.981255\n",
      "[81]\tvalid_0's binary_logloss: 0.16685\tvalid_0's auc: 0.981211\n",
      "[82]\tvalid_0's binary_logloss: 0.165984\tvalid_0's auc: 0.981499\n",
      "[83]\tvalid_0's binary_logloss: 0.165108\tvalid_0's auc: 0.981543\n",
      "[84]\tvalid_0's binary_logloss: 0.164133\tvalid_0's auc: 0.981433\n",
      "[85]\tvalid_0's binary_logloss: 0.1633\tvalid_0's auc: 0.981388\n",
      "[86]\tvalid_0's binary_logloss: 0.162514\tvalid_0's auc: 0.981388\n",
      "[87]\tvalid_0's binary_logloss: 0.161856\tvalid_0's auc: 0.981167\n",
      "[88]\tvalid_0's binary_logloss: 0.160996\tvalid_0's auc: 0.981211\n",
      "[89]\tvalid_0's binary_logloss: 0.160176\tvalid_0's auc: 0.981167\n",
      "[90]\tvalid_0's binary_logloss: 0.159128\tvalid_0's auc: 0.98141\n",
      "[91]\tvalid_0's binary_logloss: 0.158552\tvalid_0's auc: 0.981455\n",
      "[92]\tvalid_0's binary_logloss: 0.157712\tvalid_0's auc: 0.981566\n",
      "[93]\tvalid_0's binary_logloss: 0.157277\tvalid_0's auc: 0.981455\n",
      "[94]\tvalid_0's binary_logloss: 0.156482\tvalid_0's auc: 0.98161\n",
      "[95]\tvalid_0's binary_logloss: 0.155788\tvalid_0's auc: 0.98161\n",
      "[96]\tvalid_0's binary_logloss: 0.155108\tvalid_0's auc: 0.98161\n",
      "[97]\tvalid_0's binary_logloss: 0.153965\tvalid_0's auc: 0.982031\n",
      "[98]\tvalid_0's binary_logloss: 0.153035\tvalid_0's auc: 0.982142\n",
      "[99]\tvalid_0's binary_logloss: 0.152352\tvalid_0's auc: 0.982297\n",
      "[100]\tvalid_0's binary_logloss: 0.151608\tvalid_0's auc: 0.982341\n",
      "Did not meet early stopping. Best iteration is:\n",
      "[100]\tvalid_0's binary_logloss: 0.151608\tvalid_0's auc: 0.982341\n",
      "AUC: 0.9823\n",
      "ACC: 0.9534\n",
      "Precesion: 0.9730\n",
      "Recall: 0.9651\n",
      "F1-score: 0.9690\n",
      "[[111  10]\n",
      " [ 13 360]]\n"
     ]
    }
   ],
   "source": [
    "# LightGBM\n",
    "import lightgbm as lgb\n",
    "dtrain = lgb.Dataset(X_train, label=y_train) \n",
    "dtest=lgb.Dataset(X_test,label=y_test)\n",
    "\n",
    "params = {'num_leaves': 60,\n",
    "          'min_data_in_leaf': 30,\n",
    "          'objective': 'binary',\n",
    "          'max_depth': -1,\n",
    "          'gamma':0.1,\n",
    "          'learning_rate': 0.03,\n",
    "          \"min_sum_hessian_in_leaf\": 6,\n",
    "          \"boosting\": \"gbdt\",\n",
    "          \"feature_fraction\": 0.9,\n",
    "          \"bagging_freq\": 1,\n",
    "          \"bagging_fraction\": 0.8,\n",
    "          \"bagging_seed\": 11,\n",
    "          \"lambda_l1\": 0,\n",
    "          'lambda_l2': 0.001,\n",
    "          \"verbosity\": -1,\n",
    "          \"nthread\": -1,\n",
    "          'metric': {'binary_logloss', 'auc'},\n",
    "          \"random_state\": 2021,\n",
    "          }\n",
    "\n",
    "gbm = lgb.train(params,\n",
    "                dtrain,\n",
    "                num_boost_round=100,\n",
    "                valid_sets=dtest,\n",
    "                early_stopping_rounds=50)\n",
    "ypred=gbm.predict(X_test)\n",
    "y_pred = (ypred >= 0.5)*1\n",
    "\n",
    "fpr_gbm,tpr_gbm,threshold_gbm = metrics.roc_curve(y_test,ypred)\n",
    "auc_gbm = metrics.auc(fpr_gbm,tpr_gbm)\n",
    "print ('AUC: %.4f' % metrics.roc_auc_score(y_test,ypred))\n",
    "print ('ACC: %.4f' % metrics.accuracy_score(y_test,y_pred))\n",
    "print ('Precesion: %.4f' %metrics.precision_score(y_test,y_pred))\n",
    "print ('Recall: %.4f' % metrics.recall_score(y_test,y_pred))\n",
    "print ('F1-score: %.4f' %metrics.f1_score(y_test,y_pred))\n",
    "print(metrics.confusion_matrix(y_test,y_pred))"
   ]
  },
  {
   "cell_type": "markdown",
   "id": "8fb5ee89",
   "metadata": {},
   "source": [
    "#### 比较各个分类器的效果"
   ]
  },
  {
   "cell_type": "code",
   "execution_count": 122,
   "id": "18b47afa",
   "metadata": {
    "ExecuteTime": {
     "end_time": "2021-10-16T09:22:38.454425Z",
     "start_time": "2021-10-16T09:22:38.289298Z"
    }
   },
   "outputs": [
    {
     "data": {
      "image/png": "[encoded data removed]",
      "text/plain": [
       "<Figure size 936x720 with 1 Axes>"
      ]
     },
     "metadata": {
      "needs_background": "light"
     },
     "output_type": "display_data"
    }
   ],
   "source": [
    "# comparison between different approaches\n",
    "plt.style.use('bmh')\n",
    "plt.figure(figsize=(13,10))\n",
    "\n",
    "plt.plot(fpr_lr,tpr_lr,label='lr')                             \n",
    "plt.plot(fpr_svc,tpr_svc,label='svc')                          \n",
    "plt.plot(fpr_knn,tpr_knn,label='knn')                         \n",
    "plt.plot(fpr_dtc,tpr_dtc,label='dtc')                          \n",
    "plt.plot(fpr_rfc,tpr_rfc,label='rfc')                 \n",
    "plt.plot(fpr_ada,tpr_ada,label='ada')              \n",
    "plt.plot(fpr_xgb,tpr_xgb,label='xgb')              \n",
    "plt.plot(fpr_gbm,tpr_gbm,label='gbm')              \n",
    "\n",
    "plt.legend(loc='lower right',prop={'size':25})\n",
    "plt.xlabel('false positive rate')\n",
    "plt.ylabel('true positive rate')\n",
    "plt.title('CYP3A4 ROC Curve')\n",
    "plt.show()"
   ]
  },
  {
   "cell_type": "code",
   "execution_count": 123,
   "id": "d6ff2267",
   "metadata": {
    "ExecuteTime": {
     "end_time": "2021-10-16T09:22:40.591952Z",
     "start_time": "2021-10-16T09:22:40.574469Z"
    }
   },
   "outputs": [
    {
     "name": "stdout",
     "output_type": "stream",
     "text": [
      "gbm get highest AUC score(0.9823410808056189), applied to compound: CYP3A4\n",
      "Apply gbm to test dataset...\n"
     ]
    },
    {
     "data": {
      "text/plain": [
       "((50,),\n",
       " array([1, 1, 1, 1, 1, 1, 1, 1, 1, 1, 1, 1, 1, 1, 1, 1, 1, 1, 1, 0, 1, 1,\n",
       "        0, 0, 0, 1, 1, 1, 1, 1, 1, 1, 1, 1, 1, 1, 1, 1, 1, 1, 1, 1, 1, 1,\n",
       "        1, 1, 1, 1, 1, 1]))"
      ]
     },
     "execution_count": 123,
     "metadata": {},
     "output_type": "execute_result"
    }
   ],
   "source": [
    "# AUC score comparison\n",
    "auc_scores = {\n",
    "    'lr': (auc_lr,lr),\n",
    "    'svc':(auc_svc,svc),\n",
    "    'knn':(auc_knn,knn),\n",
    "    'dtc':(auc_dtc,dtc),\n",
    "    'rfc':(auc_rfc,rfc),\n",
    "    'ada':(auc_ada,adaclf),\n",
    "    'xgb':(auc_ada,bst),\n",
    "    'gbm':(auc_gbm,gbm)\n",
    "}\n",
    "best_mn = ''\n",
    "best_m = None\n",
    "highest_score = -1\n",
    "for k,v in auc_scores.items():\n",
    "    if v[0] > highest_score:\n",
    "        highest_score = v[0]\n",
    "        best_mn = k\n",
    "        best_m = v[1]\n",
    "print('{} get highest AUC score({}), applied to compound: CYP3A4'.format(best_mn,highest_score))\n",
    "print('Apply {} to test dataset...'.format(best_mn))\n",
    "if best_mn == 'xgb':\n",
    "    Dtest = xgb.DMatrix(Xtest)\n",
    "    y_caco_test = (bst.predict(Dtest) >= 0.5) * 1\n",
    "elif best_mn == 'gbm':\n",
    "    y_caco_test = (gbm.predict(Xtest) >= 0.5) * 1\n",
    "else:\n",
    "    y_caco_test = best_m.predict(Xtest)\n",
    "adm_test_src['CYP3A4'] = y_caco_test\n",
    "y_caco_test.shape,y_caco_test"
   ]
  },
  {
   "cell_type": "markdown",
   "id": "75522b56",
   "metadata": {},
   "source": [
    "### hERG"
   ]
  },
  {
   "cell_type": "code",
   "execution_count": 125,
   "id": "517b80ba",
   "metadata": {
    "ExecuteTime": {
     "end_time": "2021-10-16T09:23:55.990274Z",
     "start_time": "2021-10-16T09:23:55.983723Z"
    },
    "scrolled": true
   },
   "outputs": [
    {
     "data": {
      "text/plain": [
       "1    1099\n",
       "0     875\n",
       "Name: hERG, dtype: int64"
      ]
     },
     "execution_count": 125,
     "metadata": {},
     "output_type": "execute_result"
    }
   ],
   "source": [
    "# imbalanced value detection\n",
    "her.value_counts()"
   ]
  },
  {
   "cell_type": "code",
   "execution_count": 126,
   "id": "8a35f959",
   "metadata": {
    "ExecuteTime": {
     "end_time": "2021-10-16T09:23:57.144212Z",
     "start_time": "2021-10-16T09:23:57.110861Z"
    }
   },
   "outputs": [
    {
     "data": {
      "text/plain": [
       "((1480, 729), (1480,), (494, 729), (494,), (1480, 729), (494, 729))"
      ]
     },
     "execution_count": 126,
     "metadata": {},
     "output_type": "execute_result"
    }
   ],
   "source": [
    "from sklearn.preprocessing import StandardScaler\n",
    "from sklearn.model_selection import train_test_split\n",
    "from sklearn import metrics\n",
    "\n",
    "ssc = StandardScaler()\n",
    "# trans_X = ssc.fit_transform(fX)\n",
    "\n",
    "X_train, X_test, y_train, y_test = train_test_split(fX, her.values, test_size=0.25,random_state=100)\n",
    "X_train_tran = ssc.fit_transform(X_train)\n",
    "X_test_tran = ssc.transform(X_test)\n",
    "# X_train_tran, X_test_tran, y_train, y_test = train_test_split(fX, caco.values, test_size=0.25,random_state=100)\n",
    "X_train.shape,y_train.shape,X_test.shape,y_test.shape, X_train_tran.shape, X_test_tran.shape"
   ]
  },
  {
   "cell_type": "code",
   "execution_count": 127,
   "id": "ba899fe4",
   "metadata": {
    "ExecuteTime": {
     "end_time": "2021-10-16T09:23:59.396172Z",
     "start_time": "2021-10-16T09:23:59.277296Z"
    },
    "scrolled": false
   },
   "outputs": [
    {
     "name": "stdout",
     "output_type": "stream",
     "text": [
      "[0.8076923076923077, 0.9051156761069006]\n"
     ]
    },
    {
     "name": "stderr",
     "output_type": "stream",
     "text": [
      "/Users/johnson/opt/anaconda3/envs/prac/lib/python3.8/site-packages/sklearn/linear_model/_logistic.py:763: ConvergenceWarning: lbfgs failed to converge (status=1):\n",
      "STOP: TOTAL NO. of ITERATIONS REACHED LIMIT.\n",
      "\n",
      "Increase the number of iterations (max_iter) or scale the data as shown in:\n",
      "    https://scikit-learn.org/stable/modules/preprocessing.html\n",
      "Please also refer to the documentation for alternative solver options:\n",
      "    https://scikit-learn.org/stable/modules/linear_model.html#logistic-regression\n",
      "  n_iter_i = _check_optimize_result(\n"
     ]
    }
   ],
   "source": [
    "from sklearn.linear_model import LogisticRegression\n",
    "\n",
    "lr = LogisticRegression()                                     \n",
    "lr.fit(X_train,y_train)                                        \n",
    "y_prob = lr.predict_proba(X_test)[:,1]                           \n",
    "y_pred = lr.predict(X_test)                                      \n",
    "fpr_lr,tpr_lr,threshold_lr = metrics.roc_curve(y_test,y_prob)   \n",
    "auc_lr = metrics.auc(fpr_lr,tpr_lr)                             \n",
    "score_lr = metrics.accuracy_score(y_test,y_pred)                 \n",
    "print([score_lr,auc_lr])"
   ]
  },
  {
   "cell_type": "code",
   "execution_count": 128,
   "id": "c1e18460",
   "metadata": {
    "ExecuteTime": {
     "end_time": "2021-10-16T09:24:01.471222Z",
     "start_time": "2021-10-16T09:24:00.466366Z"
    }
   },
   "outputs": [
    {
     "name": "stdout",
     "output_type": "stream",
     "text": [
      "[0.8744939271255061, 0.9500565084430261]\n",
      "[0.8947368421052632, 0.9647985640207418]\n",
      "[0.8967611336032388, 0.9389542614014093]\n"
     ]
    }
   ],
   "source": [
    "# SVM with standardization\n",
    "from sklearn.svm import SVC\n",
    "kernelList = ['linear','rbf','sigmoid']\n",
    "svc = None\n",
    "auc_svc = -1\n",
    "score_svc = -1\n",
    "fpr_svc = None\n",
    "tpr_svc = None\n",
    "for kernel in kernelList:\n",
    "    svc_tmp = SVC(kernel=kernel).fit(X_train_tran,y_train)\n",
    "\n",
    "    # decision border distance\n",
    "    y_prob = svc_tmp.decision_function(X_test_tran)\n",
    "    y_pred = svc_tmp.predict(X_test_tran)\n",
    "    # false positive, true positive\n",
    "    fpr_svc_tmp,tpr_svc_tmp,threshold_svc_tmp = metrics.roc_curve(y_test,y_prob)\n",
    "    # auc curve\n",
    "    auc_svc_tmp = metrics.auc(fpr_svc_tmp,tpr_svc_tmp)\n",
    "    score_svc_tmp = metrics.accuracy_score(y_test,y_pred)\n",
    "    print([score_svc_tmp,auc_svc_tmp])    \n",
    "    \n",
    "    if not svc:\n",
    "        svc = svc_tmp\n",
    "    if auc_svc < auc_svc_tmp:\n",
    "        auc_svc = auc_svc_tmp\n",
    "        best_svc = svc\n",
    "        score_svc = score_svc_tmp\n",
    "        fpr_svc = fpr_svc_tmp\n",
    "        tpr_svc = tpr_svc_tmp"
   ]
  },
  {
   "cell_type": "code",
   "execution_count": 129,
   "id": "1baa66d7",
   "metadata": {
    "ExecuteTime": {
     "end_time": "2021-10-16T09:24:02.491610Z",
     "start_time": "2021-10-16T09:24:02.437725Z"
    }
   },
   "outputs": [
    {
     "name": "stdout",
     "output_type": "stream",
     "text": [
      "[0.8744939271255061, 0.9365443425076453]\n"
     ]
    }
   ],
   "source": [
    "# KNN with standardization\n",
    "from sklearn.neighbors import KNeighborsClassifier\n",
    "\n",
    "# knn = KNeighborsClassifier(n_neighbors=5,weights='uniform').fit(X_train_tran,y_train)\n",
    "knn = KNeighborsClassifier(n_neighbors=5,weights='distance').fit(X_train_tran,y_train)\n",
    "\n",
    "y_prob = knn.predict_proba(X_test_tran)[:,1]                              \n",
    "y_pred = knn.predict(X_test_tran)                                       \n",
    "fpr_knn,tpr_knn,threshold_knn = metrics.roc_curve(y_test,y_prob)   \n",
    "auc_knn = metrics.auc(fpr_knn,tpr_knn)                              \n",
    "score_knn = metrics.accuracy_score(y_test,y_pred)\n",
    "print([score_knn,auc_knn])"
   ]
  },
  {
   "cell_type": "code",
   "execution_count": 130,
   "id": "ffaffe3a",
   "metadata": {
    "ExecuteTime": {
     "end_time": "2021-10-16T09:24:03.788528Z",
     "start_time": "2021-10-16T09:24:03.467809Z"
    }
   },
   "outputs": [
    {
     "name": "stdout",
     "output_type": "stream",
     "text": [
      "K=2, get highest score=0.5587044534412956\n"
     ]
    },
    {
     "data": {
      "text/plain": [
       "[<matplotlib.lines.Line2D at 0x7fc6ef5ddc40>]"
      ]
     },
     "execution_count": 130,
     "metadata": {},
     "output_type": "execute_result"
    },
    {
     "data": {
      "image/png": "[encoded data removed]",
      "text/plain": [
       "<Figure size 432x288 with 1 Axes>"
      ]
     },
     "metadata": {
      "needs_background": "light"
     },
     "output_type": "display_data"
    }
   ],
   "source": [
    "# select best K \n",
    "score_K=[]\n",
    "KList=range(2,13)\n",
    "\n",
    "for k in KList:\n",
    "    knn = KNeighborsClassifier(n_neighbors=k,weights='distance').fit(X_train_tran,y_train)\n",
    "    score_K.append(knn.score(X_test,y_test))\n",
    "\n",
    "print('K={}, get highest score={}'.format(KList[score_K.index(max(score_K))],max(score_K)))\n",
    "plt.plot(KList, score_K)"
   ]
  },
  {
   "cell_type": "code",
   "execution_count": 131,
   "id": "291343d4",
   "metadata": {
    "ExecuteTime": {
     "end_time": "2021-10-16T09:24:05.053371Z",
     "start_time": "2021-10-16T09:24:04.753177Z"
    }
   },
   "outputs": [
    {
     "name": "stdout",
     "output_type": "stream",
     "text": [
      "[0.8238866396761133, 0.820220050525196]\n"
     ]
    }
   ],
   "source": [
    "# decision tree\n",
    "from sklearn import tree\n",
    "\n",
    "dtc = tree.DecisionTreeClassifier()                         \n",
    "dtc.fit(X_train,y_train)                                       \n",
    "y_prob = dtc.predict_proba(X_test)[:,1]                          \n",
    "y_pred = dtc.predict(X_test)                                      \n",
    "fpr_dtc,tpr_dtc,threshod_dtc= metrics.roc_curve(y_test,y_prob)   \n",
    "score_dtc = metrics.accuracy_score(y_test,y_pred)                \n",
    "auc_dtc = metrics.auc(fpr_dtc,tpr_dtc) \n",
    "print([score_dtc,auc_dtc])"
   ]
  },
  {
   "cell_type": "code",
   "execution_count": 132,
   "id": "0dfb1027",
   "metadata": {
    "ExecuteTime": {
     "end_time": "2021-10-16T09:24:06.713166Z",
     "start_time": "2021-10-16T09:24:06.004094Z"
    }
   },
   "outputs": [
    {
     "name": "stdout",
     "output_type": "stream",
     "text": [
      "[0.8238866396761133, 0.9676239861720517]\n"
     ]
    }
   ],
   "source": [
    "# random forest classifier\n",
    "from sklearn.ensemble import RandomForestClassifier\n",
    "\n",
    "rfc = RandomForestClassifier()                                     \n",
    "rfc.fit(X_train,y_train)                                           \n",
    "y_prob = rfc.predict_proba(X_test)[:,1]                           \n",
    "fpr_rfc,tpr_rfc,threshold_rfc = metrics.roc_curve(y_test,y_prob)    \n",
    "auc_rfc = metrics.auc(fpr_rfc,tpr_rfc)                             \n",
    "score_rfc = metrics.accuracy_score(y_test,y_pred)                \n",
    "print([score_rfc,auc_rfc])"
   ]
  },
  {
   "cell_type": "code",
   "execution_count": 133,
   "id": "705102f4",
   "metadata": {
    "ExecuteTime": {
     "end_time": "2021-10-16T09:24:11.037440Z",
     "start_time": "2021-10-16T09:24:07.651942Z"
    }
   },
   "outputs": [
    {
     "name": "stdout",
     "output_type": "stream",
     "text": [
      "[0.9089068825910931,0.9059466826219919]\n"
     ]
    }
   ],
   "source": [
    "# AdaBoost Classifier\n",
    "from sklearn.ensemble import AdaBoostClassifier\n",
    "from sklearn.tree import DecisionTreeClassifier\n",
    "from sklearn.ensemble import RandomForestClassifier\n",
    "from sklearn.metrics import confusion_matrix\n",
    "\n",
    "# use weak classifier\n",
    "adaclf = AdaBoostClassifier(\n",
    "    DecisionTreeClassifier(max_depth=1),\n",
    "#     RandomForestClassifier(max_depth=1),\n",
    "    n_estimators=100\n",
    ")\n",
    "adaclf.fit(X_train, y_train)\n",
    "y_pred = adaclf.predict(X_test)\n",
    "# print('adaboost confusion matrix:')\n",
    "conf_mat = confusion_matrix(y_test, y_pred)\n",
    "fpr_ada,tpr_ada,threshold_ada = metrics.roc_curve(y_test,y_pred)    \n",
    "auc_ada = metrics.auc(fpr_ada,tpr_ada)                             \n",
    "score_ada = metrics.accuracy_score(y_test,y_pred)  \n",
    "print('[{},{}]'.format(score_ada,auc_ada))"
   ]
  },
  {
   "cell_type": "code",
   "execution_count": 134,
   "id": "482b4518",
   "metadata": {
    "ExecuteTime": {
     "end_time": "2021-10-16T09:24:13.298401Z",
     "start_time": "2021-10-16T09:24:11.958856Z"
    },
    "scrolled": true
   },
   "outputs": [
    {
     "name": "stdout",
     "output_type": "stream",
     "text": [
      "[17:23:06] WARNING: /Users/runner/miniforge3/conda-bld/xgboost-split_1631904775127/work/src/learner.cc:573: \n",
      "Parameters: { \"silent\" } might not be used.\n",
      "\n",
      "  This may not be accurate due to some parameters are only used in language bindings but\n",
      "  passed down to XGBoost core.  Or some parameters are not used but slip through this\n",
      "  verification. Please open an issue if you find above cases.\n",
      "\n",
      "\n",
      "[0]\ttrain-auc:0.91275\n",
      "[1]\ttrain-auc:0.94680\n",
      "[2]\ttrain-auc:0.95532\n",
      "[3]\ttrain-auc:0.95631\n",
      "[4]\ttrain-auc:0.95835\n",
      "[5]\ttrain-auc:0.96029\n",
      "[6]\ttrain-auc:0.96072\n",
      "[7]\ttrain-auc:0.96074\n",
      "[8]\ttrain-auc:0.96071\n",
      "[9]\ttrain-auc:0.96049\n",
      "[10]\ttrain-auc:0.96207\n",
      "[11]\ttrain-auc:0.96250\n",
      "[12]\ttrain-auc:0.96437\n",
      "[13]\ttrain-auc:0.96535\n",
      "[14]\ttrain-auc:0.96575\n",
      "[15]\ttrain-auc:0.96555\n",
      "[16]\ttrain-auc:0.96604\n",
      "[17]\ttrain-auc:0.96646\n",
      "[18]\ttrain-auc:0.96719\n",
      "[19]\ttrain-auc:0.96730\n",
      "[20]\ttrain-auc:0.96807\n",
      "[21]\ttrain-auc:0.96823\n",
      "[22]\ttrain-auc:0.96831\n",
      "[23]\ttrain-auc:0.96846\n",
      "[24]\ttrain-auc:0.96862\n",
      "[25]\ttrain-auc:0.96884\n",
      "[26]\ttrain-auc:0.96893\n",
      "[27]\ttrain-auc:0.96910\n",
      "[28]\ttrain-auc:0.96942\n",
      "[29]\ttrain-auc:0.96938\n",
      "[30]\ttrain-auc:0.96971\n",
      "[31]\ttrain-auc:0.96991\n",
      "[32]\ttrain-auc:0.97008\n",
      "[33]\ttrain-auc:0.97015\n",
      "[34]\ttrain-auc:0.97062\n",
      "[35]\ttrain-auc:0.97081\n",
      "[36]\ttrain-auc:0.97116\n",
      "[37]\ttrain-auc:0.97147\n",
      "[38]\ttrain-auc:0.97166\n",
      "[39]\ttrain-auc:0.97193\n",
      "[40]\ttrain-auc:0.97221\n",
      "[41]\ttrain-auc:0.97218\n",
      "[42]\ttrain-auc:0.97229\n",
      "[43]\ttrain-auc:0.97274\n",
      "[44]\ttrain-auc:0.97301\n",
      "[45]\ttrain-auc:0.97364\n",
      "[46]\ttrain-auc:0.97423\n",
      "[47]\ttrain-auc:0.97431\n",
      "[48]\ttrain-auc:0.97459\n",
      "[49]\ttrain-auc:0.97481\n",
      "[50]\ttrain-auc:0.97494\n",
      "[51]\ttrain-auc:0.97505\n",
      "[52]\ttrain-auc:0.97520\n",
      "[53]\ttrain-auc:0.97528\n",
      "[54]\ttrain-auc:0.97545\n",
      "[55]\ttrain-auc:0.97566\n",
      "[56]\ttrain-auc:0.97651\n",
      "[57]\ttrain-auc:0.97671\n",
      "[58]\ttrain-auc:0.97675\n",
      "[59]\ttrain-auc:0.97691\n",
      "[60]\ttrain-auc:0.97704\n",
      "[61]\ttrain-auc:0.97725\n",
      "[62]\ttrain-auc:0.97740\n",
      "[63]\ttrain-auc:0.97767\n",
      "[64]\ttrain-auc:0.97781\n",
      "[65]\ttrain-auc:0.97778\n",
      "[66]\ttrain-auc:0.97791\n",
      "[67]\ttrain-auc:0.97809\n",
      "[68]\ttrain-auc:0.97833\n",
      "[69]\ttrain-auc:0.97853\n",
      "[70]\ttrain-auc:0.97886\n",
      "[71]\ttrain-auc:0.97895\n",
      "[72]\ttrain-auc:0.97895\n",
      "[73]\ttrain-auc:0.97916\n",
      "[74]\ttrain-auc:0.97920\n",
      "[75]\ttrain-auc:0.97927\n",
      "[76]\ttrain-auc:0.97943\n",
      "[77]\ttrain-auc:0.97957\n",
      "[78]\ttrain-auc:0.97954\n",
      "[79]\ttrain-auc:0.97968\n",
      "[80]\ttrain-auc:0.97984\n",
      "[81]\ttrain-auc:0.97995\n",
      "[82]\ttrain-auc:0.98020\n",
      "[83]\ttrain-auc:0.98039\n",
      "[84]\ttrain-auc:0.98062\n",
      "[85]\ttrain-auc:0.98070\n",
      "[86]\ttrain-auc:0.98087\n",
      "[87]\ttrain-auc:0.98113\n",
      "[88]\ttrain-auc:0.98121\n",
      "[89]\ttrain-auc:0.98133\n",
      "[90]\ttrain-auc:0.98137\n",
      "[91]\ttrain-auc:0.98142\n",
      "[92]\ttrain-auc:0.98158\n",
      "[93]\ttrain-auc:0.98168\n",
      "[94]\ttrain-auc:0.98174\n",
      "[95]\ttrain-auc:0.98189\n",
      "[96]\ttrain-auc:0.98204\n",
      "[97]\ttrain-auc:0.98216\n",
      "[98]\ttrain-auc:0.98235\n",
      "[99]\ttrain-auc:0.98247\n",
      "AUC: 0.9630\n",
      "ACC: 0.8947\n",
      "Precesion: 0.8810\n",
      "Recall: 0.9384\n",
      "F1-score: 0.9088\n",
      "[[183  35]\n",
      " [ 17 259]]\n"
     ]
    }
   ],
   "source": [
    "# XGBoost\n",
    "import xgboost as xgb\n",
    "dtrain = xgb.DMatrix(X_train, label=y_train) \n",
    "dtest=xgb.DMatrix(X_test)\n",
    "\n",
    "params={'booster':'gbtree',\n",
    "    'objective': 'binary:logistic',\n",
    "    'eval_metric': 'auc',\n",
    "    'max_depth':4,\n",
    "    'lambda': 10,\n",
    "    'gamma':0.1,\n",
    "    'subsample':0.75,\n",
    "    'colsample_bytree':0.75,\n",
    "    'min_child_weight':3,\n",
    "    'eta': 0.025,\n",
    "    'seed':10,\n",
    "    'nthread':-1,\n",
    "     'silent':0}\n",
    "\n",
    "watchlist = [(dtrain,'train')]\n",
    "bst=xgb.train(params,dtrain,num_boost_round=100,evals=watchlist)\n",
    "\n",
    "ypred=bst.predict(dtest)\n",
    "y_pred = (ypred >= 0.5)*1\n",
    "\n",
    "from sklearn import metrics\n",
    "\n",
    "fpr_xgb,tpr_xgb,threshold_xgb = metrics.roc_curve(y_test,ypred)\n",
    "auc_xgb = metrics.auc(fpr_xgb,tpr_xgb)\n",
    "print ('AUC: %.4f' % metrics.roc_auc_score(y_test,ypred))\n",
    "print ('ACC: %.4f' % metrics.accuracy_score(y_test,y_pred))\n",
    "print ('Precesion: %.4f' %metrics.precision_score(y_test,y_pred))\n",
    "print ('Recall: %.4f' % metrics.recall_score(y_test,y_pred))\n",
    "print ('F1-score: %.4f' %metrics.f1_score(y_test,y_pred))\n",
    "print(metrics.confusion_matrix(y_test,y_pred))"
   ]
  },
  {
   "cell_type": "code",
   "execution_count": 135,
   "id": "45e8d277",
   "metadata": {
    "ExecuteTime": {
     "end_time": "2021-10-16T09:24:14.887210Z",
     "start_time": "2021-10-16T09:24:14.236850Z"
    },
    "scrolled": true
   },
   "outputs": [
    {
     "name": "stdout",
     "output_type": "stream",
     "text": [
      "[LightGBM] [Warning] Unknown parameter: gamma\n",
      "[1]\tvalid_0's binary_logloss: 0.66859\tvalid_0's auc: 0.911323\n",
      "Training until validation scores don't improve for 50 rounds\n",
      "[2]\tvalid_0's binary_logloss: 0.650864\tvalid_0's auc: 0.933827\n",
      "[3]\tvalid_0's binary_logloss: 0.634517\tvalid_0's auc: 0.942187\n",
      "[4]\tvalid_0's binary_logloss: 0.619579\tvalid_0's auc: 0.944273\n",
      "[5]\tvalid_0's binary_logloss: 0.605711\tvalid_0's auc: 0.9434\n",
      "[6]\tvalid_0's binary_logloss: 0.592064\tvalid_0's auc: 0.943043\n",
      "[7]\tvalid_0's binary_logloss: 0.578989\tvalid_0's auc: 0.945087\n",
      "[8]\tvalid_0's binary_logloss: 0.566889\tvalid_0's auc: 0.946234\n",
      "[9]\tvalid_0's binary_logloss: 0.554047\tvalid_0's auc: 0.949641\n",
      "[10]\tvalid_0's binary_logloss: 0.542142\tvalid_0's auc: 0.950273\n",
      "[11]\tvalid_0's binary_logloss: 0.531767\tvalid_0's auc: 0.949899\n",
      "[12]\tvalid_0's binary_logloss: 0.521333\tvalid_0's auc: 0.950106\n",
      "[13]\tvalid_0's binary_logloss: 0.510417\tvalid_0's auc: 0.954095\n",
      "[14]\tvalid_0's binary_logloss: 0.500452\tvalid_0's auc: 0.954943\n",
      "[15]\tvalid_0's binary_logloss: 0.490624\tvalid_0's auc: 0.956131\n",
      "[16]\tvalid_0's binary_logloss: 0.482536\tvalid_0's auc: 0.955591\n",
      "[17]\tvalid_0's binary_logloss: 0.473276\tvalid_0's auc: 0.956522\n",
      "[18]\tvalid_0's binary_logloss: 0.46522\tvalid_0's auc: 0.957552\n",
      "[19]\tvalid_0's binary_logloss: 0.458318\tvalid_0's auc: 0.956995\n",
      "[20]\tvalid_0's binary_logloss: 0.451116\tvalid_0's auc: 0.956497\n",
      "[21]\tvalid_0's binary_logloss: 0.443365\tvalid_0's auc: 0.957245\n",
      "[22]\tvalid_0's binary_logloss: 0.435962\tvalid_0's auc: 0.958242\n",
      "[23]\tvalid_0's binary_logloss: 0.4288\tvalid_0's auc: 0.958691\n",
      "[24]\tvalid_0's binary_logloss: 0.422554\tvalid_0's auc: 0.95889\n",
      "[25]\tvalid_0's binary_logloss: 0.416783\tvalid_0's auc: 0.958907\n",
      "[26]\tvalid_0's binary_logloss: 0.410569\tvalid_0's auc: 0.959771\n",
      "[27]\tvalid_0's binary_logloss: 0.40509\tvalid_0's auc: 0.960095\n",
      "[28]\tvalid_0's binary_logloss: 0.398923\tvalid_0's auc: 0.961059\n",
      "[29]\tvalid_0's binary_logloss: 0.393306\tvalid_0's auc: 0.961308\n",
      "[30]\tvalid_0's binary_logloss: 0.387913\tvalid_0's auc: 0.961624\n",
      "[31]\tvalid_0's binary_logloss: 0.382724\tvalid_0's auc: 0.962239\n",
      "[32]\tvalid_0's binary_logloss: 0.377075\tvalid_0's auc: 0.96302\n",
      "[33]\tvalid_0's binary_logloss: 0.372009\tvalid_0's auc: 0.963186\n",
      "[34]\tvalid_0's binary_logloss: 0.367309\tvalid_0's auc: 0.963868\n",
      "[35]\tvalid_0's binary_logloss: 0.363363\tvalid_0's auc: 0.963951\n",
      "[36]\tvalid_0's binary_logloss: 0.359194\tvalid_0's auc: 0.963652\n",
      "[37]\tvalid_0's binary_logloss: 0.354896\tvalid_0's auc: 0.9643\n",
      "[38]\tvalid_0's binary_logloss: 0.35123\tvalid_0's auc: 0.964167\n",
      "[39]\tvalid_0's binary_logloss: 0.347128\tvalid_0's auc: 0.965081\n",
      "[40]\tvalid_0's binary_logloss: 0.343041\tvalid_0's auc: 0.964865\n",
      "[41]\tvalid_0's binary_logloss: 0.339872\tvalid_0's auc: 0.965064\n",
      "[42]\tvalid_0's binary_logloss: 0.335958\tvalid_0's auc: 0.96543\n",
      "[43]\tvalid_0's binary_logloss: 0.332195\tvalid_0's auc: 0.96563\n",
      "[44]\tvalid_0's binary_logloss: 0.329163\tvalid_0's auc: 0.965829\n",
      "[45]\tvalid_0's binary_logloss: 0.325933\tvalid_0's auc: 0.965497\n",
      "[46]\tvalid_0's binary_logloss: 0.322268\tvalid_0's auc: 0.965796\n",
      "[47]\tvalid_0's binary_logloss: 0.319275\tvalid_0's auc: 0.966062\n",
      "[48]\tvalid_0's binary_logloss: 0.31637\tvalid_0's auc: 0.965995\n",
      "[49]\tvalid_0's binary_logloss: 0.313413\tvalid_0's auc: 0.966195\n",
      "[50]\tvalid_0's binary_logloss: 0.310475\tvalid_0's auc: 0.966278\n",
      "[51]\tvalid_0's binary_logloss: 0.307391\tvalid_0's auc: 0.966843\n",
      "[52]\tvalid_0's binary_logloss: 0.304888\tvalid_0's auc: 0.96681\n",
      "[53]\tvalid_0's binary_logloss: 0.301923\tvalid_0's auc: 0.967242\n",
      "[54]\tvalid_0's binary_logloss: 0.299558\tvalid_0's auc: 0.967491\n",
      "[55]\tvalid_0's binary_logloss: 0.297388\tvalid_0's auc: 0.967425\n",
      "[56]\tvalid_0's binary_logloss: 0.295448\tvalid_0's auc: 0.967175\n",
      "[57]\tvalid_0's binary_logloss: 0.293355\tvalid_0's auc: 0.967192\n",
      "[58]\tvalid_0's binary_logloss: 0.291276\tvalid_0's auc: 0.967042\n",
      "[59]\tvalid_0's binary_logloss: 0.288344\tvalid_0's auc: 0.967674\n",
      "[60]\tvalid_0's binary_logloss: 0.286134\tvalid_0's auc: 0.967823\n",
      "[61]\tvalid_0's binary_logloss: 0.284238\tvalid_0's auc: 0.967873\n",
      "[62]\tvalid_0's binary_logloss: 0.282178\tvalid_0's auc: 0.967923\n",
      "[63]\tvalid_0's binary_logloss: 0.280011\tvalid_0's auc: 0.967823\n",
      "[64]\tvalid_0's binary_logloss: 0.278115\tvalid_0's auc: 0.968073\n",
      "[65]\tvalid_0's binary_logloss: 0.275743\tvalid_0's auc: 0.968787\n",
      "[66]\tvalid_0's binary_logloss: 0.273579\tvalid_0's auc: 0.969136\n",
      "[67]\tvalid_0's binary_logloss: 0.271841\tvalid_0's auc: 0.96907\n",
      "[68]\tvalid_0's binary_logloss: 0.269838\tvalid_0's auc: 0.969336\n",
      "[69]\tvalid_0's binary_logloss: 0.267929\tvalid_0's auc: 0.969436\n",
      "[70]\tvalid_0's binary_logloss: 0.266124\tvalid_0's auc: 0.969718\n",
      "[71]\tvalid_0's binary_logloss: 0.26468\tvalid_0's auc: 0.969934\n",
      "[72]\tvalid_0's binary_logloss: 0.262938\tvalid_0's auc: 0.970051\n",
      "[73]\tvalid_0's binary_logloss: 0.260811\tvalid_0's auc: 0.970316\n",
      "[74]\tvalid_0's binary_logloss: 0.259472\tvalid_0's auc: 0.970632\n",
      "[75]\tvalid_0's binary_logloss: 0.257514\tvalid_0's auc: 0.970948\n",
      "[76]\tvalid_0's binary_logloss: 0.255834\tvalid_0's auc: 0.970981\n",
      "[77]\tvalid_0's binary_logloss: 0.254463\tvalid_0's auc: 0.971081\n",
      "[78]\tvalid_0's binary_logloss: 0.253283\tvalid_0's auc: 0.971164\n",
      "[79]\tvalid_0's binary_logloss: 0.252025\tvalid_0's auc: 0.97128\n",
      "[80]\tvalid_0's binary_logloss: 0.250362\tvalid_0's auc: 0.971629\n",
      "[81]\tvalid_0's binary_logloss: 0.249753\tvalid_0's auc: 0.971713\n",
      "[82]\tvalid_0's binary_logloss: 0.248798\tvalid_0's auc: 0.97158\n",
      "[83]\tvalid_0's binary_logloss: 0.247282\tvalid_0's auc: 0.971629\n",
      "[84]\tvalid_0's binary_logloss: 0.245853\tvalid_0's auc: 0.971729\n",
      "[85]\tvalid_0's binary_logloss: 0.244258\tvalid_0's auc: 0.972012\n",
      "[86]\tvalid_0's binary_logloss: 0.243574\tvalid_0's auc: 0.972062\n",
      "[87]\tvalid_0's binary_logloss: 0.241946\tvalid_0's auc: 0.972361\n",
      "[88]\tvalid_0's binary_logloss: 0.241199\tvalid_0's auc: 0.97256\n",
      "[89]\tvalid_0's binary_logloss: 0.240336\tvalid_0's auc: 0.97261\n",
      "[90]\tvalid_0's binary_logloss: 0.239368\tvalid_0's auc: 0.972677\n",
      "[91]\tvalid_0's binary_logloss: 0.238382\tvalid_0's auc: 0.972793\n",
      "[92]\tvalid_0's binary_logloss: 0.237483\tvalid_0's auc: 0.972793\n",
      "[93]\tvalid_0's binary_logloss: 0.236446\tvalid_0's auc: 0.972976\n",
      "[94]\tvalid_0's binary_logloss: 0.235253\tvalid_0's auc: 0.973208\n",
      "[95]\tvalid_0's binary_logloss: 0.23433\tvalid_0's auc: 0.973308\n",
      "[96]\tvalid_0's binary_logloss: 0.233753\tvalid_0's auc: 0.973275\n",
      "[97]\tvalid_0's binary_logloss: 0.232575\tvalid_0's auc: 0.973458\n",
      "[98]\tvalid_0's binary_logloss: 0.231733\tvalid_0's auc: 0.973591\n",
      "[99]\tvalid_0's binary_logloss: 0.230412\tvalid_0's auc: 0.973724\n",
      "[100]\tvalid_0's binary_logloss: 0.229699\tvalid_0's auc: 0.973773\n",
      "Did not meet early stopping. Best iteration is:\n",
      "[100]\tvalid_0's binary_logloss: 0.229699\tvalid_0's auc: 0.973773\n",
      "AUC: 0.9738\n",
      "ACC: 0.9028\n",
      "Precesion: 0.8986\n",
      "Recall: 0.9312\n",
      "F1-score: 0.9146\n",
      "[[189  29]\n",
      " [ 19 257]]\n"
     ]
    }
   ],
   "source": [
    "# LightGBM\n",
    "import lightgbm as lgb\n",
    "dtrain = lgb.Dataset(X_train, label=y_train) \n",
    "dtest=lgb.Dataset(X_test,label=y_test)\n",
    "\n",
    "params = {'num_leaves': 60,\n",
    "          'min_data_in_leaf': 30,\n",
    "          'objective': 'binary',\n",
    "          'max_depth': -1,\n",
    "          'gamma':0.1,\n",
    "          'learning_rate': 0.03,\n",
    "          \"min_sum_hessian_in_leaf\": 6,\n",
    "          \"boosting\": \"gbdt\",\n",
    "          \"feature_fraction\": 0.9,\n",
    "          \"bagging_freq\": 1,\n",
    "          \"bagging_fraction\": 0.8,\n",
    "          \"bagging_seed\": 11,\n",
    "          \"lambda_l1\": 0,\n",
    "          'lambda_l2': 0.001,\n",
    "          \"verbosity\": -1,\n",
    "          \"nthread\": -1,\n",
    "          'metric': {'binary_logloss', 'auc'},\n",
    "          \"random_state\": 2021,\n",
    "          }\n",
    "\n",
    "gbm = lgb.train(params,\n",
    "                dtrain,\n",
    "                num_boost_round=100,\n",
    "                valid_sets=dtest,\n",
    "                early_stopping_rounds=50)\n",
    "ypred=gbm.predict(X_test)\n",
    "y_pred = (ypred >= 0.5)*1\n",
    "\n",
    "fpr_gbm,tpr_gbm,threshold_gbm = metrics.roc_curve(y_test,ypred)\n",
    "auc_gbm = metrics.auc(fpr_gbm,tpr_gbm)\n",
    "print ('AUC: %.4f' % metrics.roc_auc_score(y_test,ypred))\n",
    "print ('ACC: %.4f' % metrics.accuracy_score(y_test,y_pred))\n",
    "print ('Precesion: %.4f' %metrics.precision_score(y_test,y_pred))\n",
    "print ('Recall: %.4f' % metrics.recall_score(y_test,y_pred))\n",
    "print ('F1-score: %.4f' %metrics.f1_score(y_test,y_pred))\n",
    "print(metrics.confusion_matrix(y_test,y_pred))"
   ]
  },
  {
   "cell_type": "markdown",
   "id": "dec2f6e7",
   "metadata": {},
   "source": [
    "#### 比较各个分类器的效果"
   ]
  },
  {
   "cell_type": "code",
   "execution_count": 136,
   "id": "92f23245",
   "metadata": {
    "ExecuteTime": {
     "end_time": "2021-10-16T09:24:17.100264Z",
     "start_time": "2021-10-16T09:24:16.919012Z"
    }
   },
   "outputs": [
    {
     "data": {
      "image/png": "[encoded data removed]",
      "text/plain": [
       "<Figure size 936x720 with 1 Axes>"
      ]
     },
     "metadata": {
      "needs_background": "light"
     },
     "output_type": "display_data"
    }
   ],
   "source": [
    "# comparison between different approaches\n",
    "plt.style.use('bmh')\n",
    "plt.figure(figsize=(13,10))\n",
    "\n",
    "plt.plot(fpr_lr,tpr_lr,label='lr')                             \n",
    "plt.plot(fpr_svc,tpr_svc,label='svc')                          \n",
    "plt.plot(fpr_knn,tpr_knn,label='knn')                         \n",
    "plt.plot(fpr_dtc,tpr_dtc,label='dtc')                          \n",
    "plt.plot(fpr_rfc,tpr_rfc,label='rfc')                 \n",
    "plt.plot(fpr_ada,tpr_ada,label='ada')              \n",
    "plt.plot(fpr_xgb,tpr_xgb,label='xgb')              \n",
    "plt.plot(fpr_gbm,tpr_gbm,label='gbm')              \n",
    "\n",
    "plt.legend(loc='lower right',prop={'size':25})\n",
    "plt.xlabel('false positive rate')\n",
    "plt.ylabel('true positive rate')\n",
    "plt.title('hERG ROC Curve')\n",
    "plt.show()"
   ]
  },
  {
   "cell_type": "code",
   "execution_count": 137,
   "id": "9a72613f",
   "metadata": {
    "ExecuteTime": {
     "end_time": "2021-10-16T09:24:20.628965Z",
     "start_time": "2021-10-16T09:24:20.611514Z"
    }
   },
   "outputs": [
    {
     "name": "stdout",
     "output_type": "stream",
     "text": [
      "gbm get highest AUC score(0.9737734343837254), applied to compound: hERG\n",
      "Apply gbm to test dataset...\n"
     ]
    },
    {
     "data": {
      "text/plain": [
       "((50,),\n",
       " array([1, 1, 1, 1, 1, 1, 1, 1, 1, 1, 1, 1, 1, 1, 1, 1, 1, 1, 0, 1, 1, 1,\n",
       "        1, 1, 1, 1, 1, 1, 1, 1, 1, 1, 1, 1, 1, 0, 0, 1, 0, 0, 0, 0, 0, 0,\n",
       "        0, 1, 1, 1, 1, 1]))"
      ]
     },
     "execution_count": 137,
     "metadata": {},
     "output_type": "execute_result"
    }
   ],
   "source": [
    "# AUC score comparison\n",
    "auc_scores = {\n",
    "    'lr': (auc_lr,lr),\n",
    "    'svc':(auc_svc,svc),\n",
    "    'knn':(auc_knn,knn),\n",
    "    'dtc':(auc_dtc,dtc),\n",
    "    'rfc':(auc_rfc,rfc),\n",
    "    'ada':(auc_ada,adaclf),\n",
    "    'xgb':(auc_ada,bst),\n",
    "    'gbm':(auc_gbm,gbm)\n",
    "}\n",
    "best_mn = ''\n",
    "best_m = None\n",
    "highest_score = -1\n",
    "for k,v in auc_scores.items():\n",
    "    if v[0] > highest_score:\n",
    "        highest_score = v[0]\n",
    "        best_mn = k\n",
    "        best_m = v[1]\n",
    "print('{} get highest AUC score({}), applied to compound: hERG'.format(best_mn,highest_score))\n",
    "print('Apply {} to test dataset...'.format(best_mn))\n",
    "if best_mn == 'xgb':\n",
    "    Dtest = xgb.DMatrix(Xtest)\n",
    "    y_caco_test = (bst.predict(Dtest) >= 0.5) * 1\n",
    "elif best_mn == 'gbm':\n",
    "    y_caco_test = (gbm.predict(Xtest) >= 0.5) * 1\n",
    "else:\n",
    "    y_caco_test = best_m.predict(Xtest)\n",
    "adm_test_src['hERG'] = y_caco_test\n",
    "y_caco_test.shape,y_caco_test"
   ]
  },
  {
   "cell_type": "markdown",
   "id": "4ed22be4",
   "metadata": {},
   "source": [
    "### HOB"
   ]
  },
  {
   "cell_type": "code",
   "execution_count": 138,
   "id": "a4f49296",
   "metadata": {
    "ExecuteTime": {
     "end_time": "2021-10-16T09:23:55.990274Z",
     "start_time": "2021-10-16T09:23:55.983723Z"
    },
    "scrolled": true
   },
   "outputs": [
    {
     "data": {
      "text/plain": [
       "0    1465\n",
       "1     509\n",
       "Name: HOB, dtype: int64"
      ]
     },
     "execution_count": 138,
     "metadata": {},
     "output_type": "execute_result"
    }
   ],
   "source": [
    "# imbalanced value detection\n",
    "hob.value_counts()"
   ]
  },
  {
   "cell_type": "code",
   "execution_count": 139,
   "id": "642d0cf1",
   "metadata": {
    "ExecuteTime": {
     "end_time": "2021-10-16T09:23:57.144212Z",
     "start_time": "2021-10-16T09:23:57.110861Z"
    }
   },
   "outputs": [
    {
     "data": {
      "text/plain": [
       "((1480, 729), (1480,), (494, 729), (494,), (1480, 729), (494, 729))"
      ]
     },
     "execution_count": 139,
     "metadata": {},
     "output_type": "execute_result"
    }
   ],
   "source": [
    "from sklearn.preprocessing import StandardScaler\n",
    "from sklearn.model_selection import train_test_split\n",
    "from sklearn import metrics\n",
    "\n",
    "ssc = StandardScaler()\n",
    "# trans_X = ssc.fit_transform(fX)\n",
    "\n",
    "X_train, X_test, y_train, y_test = train_test_split(fX, hob.values, test_size=0.25,random_state=100)\n",
    "X_train_tran = ssc.fit_transform(X_train)\n",
    "X_test_tran = ssc.transform(X_test)\n",
    "# X_train_tran, X_test_tran, y_train, y_test = train_test_split(fX, caco.values, test_size=0.25,random_state=100)\n",
    "X_train.shape,y_train.shape,X_test.shape,y_test.shape, X_train_tran.shape, X_test_tran.shape"
   ]
  },
  {
   "cell_type": "code",
   "execution_count": 140,
   "id": "84aad3e6",
   "metadata": {
    "ExecuteTime": {
     "end_time": "2021-10-16T09:23:59.396172Z",
     "start_time": "2021-10-16T09:23:59.277296Z"
    },
    "scrolled": false
   },
   "outputs": [
    {
     "name": "stdout",
     "output_type": "stream",
     "text": [
      "[0.8137651821862348, 0.8619554924242425]\n"
     ]
    },
    {
     "name": "stderr",
     "output_type": "stream",
     "text": [
      "/Users/johnson/opt/anaconda3/envs/prac/lib/python3.8/site-packages/sklearn/linear_model/_logistic.py:763: ConvergenceWarning: lbfgs failed to converge (status=1):\n",
      "STOP: TOTAL NO. of ITERATIONS REACHED LIMIT.\n",
      "\n",
      "Increase the number of iterations (max_iter) or scale the data as shown in:\n",
      "    https://scikit-learn.org/stable/modules/preprocessing.html\n",
      "Please also refer to the documentation for alternative solver options:\n",
      "    https://scikit-learn.org/stable/modules/linear_model.html#logistic-regression\n",
      "  n_iter_i = _check_optimize_result(\n"
     ]
    }
   ],
   "source": [
    "from sklearn.linear_model import LogisticRegression\n",
    "\n",
    "lr = LogisticRegression()                                     \n",
    "lr.fit(X_train,y_train)                                        \n",
    "y_prob = lr.predict_proba(X_test)[:,1]                           \n",
    "y_pred = lr.predict(X_test)                                      \n",
    "fpr_lr,tpr_lr,threshold_lr = metrics.roc_curve(y_test,y_prob)   \n",
    "auc_lr = metrics.auc(fpr_lr,tpr_lr)                             \n",
    "score_lr = metrics.accuracy_score(y_test,y_pred)                 \n",
    "print([score_lr,auc_lr])"
   ]
  },
  {
   "cell_type": "code",
   "execution_count": 141,
   "id": "e22262cb",
   "metadata": {
    "ExecuteTime": {
     "end_time": "2021-10-16T09:24:01.471222Z",
     "start_time": "2021-10-16T09:24:00.466366Z"
    }
   },
   "outputs": [
    {
     "name": "stdout",
     "output_type": "stream",
     "text": [
      "[0.8704453441295547, 0.8999289772727272]\n",
      "[0.8643724696356275, 0.9184895833333333]\n",
      "[0.8218623481781376, 0.8114820075757577]\n"
     ]
    }
   ],
   "source": [
    "# SVM with standardization\n",
    "from sklearn.svm import SVC\n",
    "kernelList = ['linear','rbf','sigmoid']\n",
    "svc = None\n",
    "auc_svc = -1\n",
    "score_svc = -1\n",
    "fpr_svc = None\n",
    "tpr_svc = None\n",
    "for kernel in kernelList:\n",
    "    svc_tmp = SVC(kernel=kernel).fit(X_train_tran,y_train)\n",
    "\n",
    "    # decision border distance\n",
    "    y_prob = svc_tmp.decision_function(X_test_tran)\n",
    "    y_pred = svc_tmp.predict(X_test_tran)\n",
    "    # false positive, true positive\n",
    "    fpr_svc_tmp,tpr_svc_tmp,threshold_svc_tmp = metrics.roc_curve(y_test,y_prob)\n",
    "    # auc curve\n",
    "    auc_svc_tmp = metrics.auc(fpr_svc_tmp,tpr_svc_tmp)\n",
    "    score_svc_tmp = metrics.accuracy_score(y_test,y_pred)\n",
    "    print([score_svc_tmp,auc_svc_tmp])    \n",
    "    \n",
    "    if not svc:\n",
    "        svc = svc_tmp\n",
    "    if auc_svc < auc_svc_tmp:\n",
    "        auc_svc = auc_svc_tmp\n",
    "        best_svc = svc\n",
    "        score_svc = score_svc_tmp\n",
    "        fpr_svc = fpr_svc_tmp\n",
    "        tpr_svc = tpr_svc_tmp"
   ]
  },
  {
   "cell_type": "code",
   "execution_count": 142,
   "id": "510f6833",
   "metadata": {
    "ExecuteTime": {
     "end_time": "2021-10-16T09:24:02.491610Z",
     "start_time": "2021-10-16T09:24:02.437725Z"
    }
   },
   "outputs": [
    {
     "name": "stdout",
     "output_type": "stream",
     "text": [
      "[0.8421052631578947, 0.8885890151515151]\n"
     ]
    }
   ],
   "source": [
    "# KNN with standardization\n",
    "from sklearn.neighbors import KNeighborsClassifier\n",
    "\n",
    "# knn = KNeighborsClassifier(n_neighbors=5,weights='uniform').fit(X_train_tran,y_train)\n",
    "knn = KNeighborsClassifier(n_neighbors=5,weights='distance').fit(X_train_tran,y_train)\n",
    "\n",
    "y_prob = knn.predict_proba(X_test_tran)[:,1]                              \n",
    "y_pred = knn.predict(X_test_tran)                                       \n",
    "fpr_knn,tpr_knn,threshold_knn = metrics.roc_curve(y_test,y_prob)   \n",
    "auc_knn = metrics.auc(fpr_knn,tpr_knn)                              \n",
    "score_knn = metrics.accuracy_score(y_test,y_pred)\n",
    "print([score_knn,auc_knn])"
   ]
  },
  {
   "cell_type": "code",
   "execution_count": 143,
   "id": "007add54",
   "metadata": {
    "ExecuteTime": {
     "end_time": "2021-10-16T09:24:03.788528Z",
     "start_time": "2021-10-16T09:24:03.467809Z"
    }
   },
   "outputs": [
    {
     "name": "stdout",
     "output_type": "stream",
     "text": [
      "K=2, get highest score=0.7773279352226721\n"
     ]
    },
    {
     "data": {
      "text/plain": [
       "[<matplotlib.lines.Line2D at 0x7fc6ef5657f0>]"
      ]
     },
     "execution_count": 143,
     "metadata": {},
     "output_type": "execute_result"
    },
    {
     "data": {
      "image/png": "[encoded data removed]",
      "text/plain": [
       "<Figure size 432x288 with 1 Axes>"
      ]
     },
     "metadata": {
      "needs_background": "light"
     },
     "output_type": "display_data"
    }
   ],
   "source": [
    "# select best K \n",
    "score_K=[]\n",
    "KList=range(2,13)\n",
    "\n",
    "for k in KList:\n",
    "    knn = KNeighborsClassifier(n_neighbors=k,weights='distance').fit(X_train_tran,y_train)\n",
    "    score_K.append(knn.score(X_test,y_test))\n",
    "\n",
    "print('K={}, get highest score={}'.format(KList[score_K.index(max(score_K))],max(score_K)))\n",
    "plt.plot(KList, score_K)"
   ]
  },
  {
   "cell_type": "code",
   "execution_count": 144,
   "id": "041179ee",
   "metadata": {
    "ExecuteTime": {
     "end_time": "2021-10-16T09:24:05.053371Z",
     "start_time": "2021-10-16T09:24:04.753177Z"
    }
   },
   "outputs": [
    {
     "name": "stdout",
     "output_type": "stream",
     "text": [
      "[0.8360323886639676, 0.7777698863636364]\n"
     ]
    }
   ],
   "source": [
    "# decision tree\n",
    "from sklearn import tree\n",
    "\n",
    "dtc = tree.DecisionTreeClassifier()                         \n",
    "dtc.fit(X_train,y_train)                                       \n",
    "y_prob = dtc.predict_proba(X_test)[:,1]                          \n",
    "y_pred = dtc.predict(X_test)                                      \n",
    "fpr_dtc,tpr_dtc,threshod_dtc= metrics.roc_curve(y_test,y_prob)   \n",
    "score_dtc = metrics.accuracy_score(y_test,y_pred)                \n",
    "auc_dtc = metrics.auc(fpr_dtc,tpr_dtc) \n",
    "print([score_dtc,auc_dtc])"
   ]
  },
  {
   "cell_type": "code",
   "execution_count": 145,
   "id": "7aa5a4e0",
   "metadata": {
    "ExecuteTime": {
     "end_time": "2021-10-16T09:24:06.713166Z",
     "start_time": "2021-10-16T09:24:06.004094Z"
    }
   },
   "outputs": [
    {
     "name": "stdout",
     "output_type": "stream",
     "text": [
      "[0.8360323886639676, 0.9393229166666667]\n"
     ]
    }
   ],
   "source": [
    "# random forest classifier\n",
    "from sklearn.ensemble import RandomForestClassifier\n",
    "\n",
    "rfc = RandomForestClassifier()                                     \n",
    "rfc.fit(X_train,y_train)                                           \n",
    "y_prob = rfc.predict_proba(X_test)[:,1]                           \n",
    "fpr_rfc,tpr_rfc,threshold_rfc = metrics.roc_curve(y_test,y_prob)    \n",
    "auc_rfc = metrics.auc(fpr_rfc,tpr_rfc)                             \n",
    "score_rfc = metrics.accuracy_score(y_test,y_pred)                \n",
    "print([score_rfc,auc_rfc])"
   ]
  },
  {
   "cell_type": "code",
   "execution_count": 146,
   "id": "f6ace8c1",
   "metadata": {
    "ExecuteTime": {
     "end_time": "2021-10-16T09:24:11.037440Z",
     "start_time": "2021-10-16T09:24:07.651942Z"
    }
   },
   "outputs": [
    {
     "name": "stdout",
     "output_type": "stream",
     "text": [
      "[0.8704453441295547,0.7999053030303032]\n"
     ]
    }
   ],
   "source": [
    "# AdaBoost Classifier\n",
    "from sklearn.ensemble import AdaBoostClassifier\n",
    "from sklearn.tree import DecisionTreeClassifier\n",
    "from sklearn.ensemble import RandomForestClassifier\n",
    "from sklearn.metrics import confusion_matrix\n",
    "\n",
    "# use weak classifier\n",
    "adaclf = AdaBoostClassifier(\n",
    "    DecisionTreeClassifier(max_depth=1),\n",
    "#     RandomForestClassifier(max_depth=1),\n",
    "    n_estimators=100\n",
    ")\n",
    "adaclf.fit(X_train, y_train)\n",
    "y_pred = adaclf.predict(X_test)\n",
    "# print('adaboost confusion matrix:')\n",
    "conf_mat = confusion_matrix(y_test, y_pred)\n",
    "fpr_ada,tpr_ada,threshold_ada = metrics.roc_curve(y_test,y_pred)    \n",
    "auc_ada = metrics.auc(fpr_ada,tpr_ada)                             \n",
    "score_ada = metrics.accuracy_score(y_test,y_pred)  \n",
    "print('[{},{}]'.format(score_ada,auc_ada))"
   ]
  },
  {
   "cell_type": "code",
   "execution_count": 147,
   "id": "66b9f52b",
   "metadata": {
    "ExecuteTime": {
     "end_time": "2021-10-16T09:24:13.298401Z",
     "start_time": "2021-10-16T09:24:11.958856Z"
    },
    "scrolled": true
   },
   "outputs": [
    {
     "name": "stdout",
     "output_type": "stream",
     "text": [
      "[17:23:40] WARNING: /Users/runner/miniforge3/conda-bld/xgboost-split_1631904775127/work/src/learner.cc:573: \n",
      "Parameters: { \"silent\" } might not be used.\n",
      "\n",
      "  This may not be accurate due to some parameters are only used in language bindings but\n",
      "  passed down to XGBoost core.  Or some parameters are not used but slip through this\n",
      "  verification. Please open an issue if you find above cases.\n",
      "\n",
      "\n",
      "[0]\ttrain-auc:0.86384\n",
      "[1]\ttrain-auc:0.87535\n",
      "[2]\ttrain-auc:0.88137\n",
      "[3]\ttrain-auc:0.89274\n",
      "[4]\ttrain-auc:0.90090\n",
      "[5]\ttrain-auc:0.90412\n",
      "[6]\ttrain-auc:0.90521\n",
      "[7]\ttrain-auc:0.91473\n",
      "[8]\ttrain-auc:0.91635\n",
      "[9]\ttrain-auc:0.91704\n",
      "[10]\ttrain-auc:0.92189\n",
      "[11]\ttrain-auc:0.92301\n",
      "[12]\ttrain-auc:0.92388\n",
      "[13]\ttrain-auc:0.93038\n",
      "[14]\ttrain-auc:0.92981\n",
      "[15]\ttrain-auc:0.93156\n",
      "[16]\ttrain-auc:0.93162\n",
      "[17]\ttrain-auc:0.93173\n",
      "[18]\ttrain-auc:0.93663\n",
      "[19]\ttrain-auc:0.93717\n",
      "[20]\ttrain-auc:0.93742\n",
      "[21]\ttrain-auc:0.93862\n",
      "[22]\ttrain-auc:0.93839\n",
      "[23]\ttrain-auc:0.93835\n",
      "[24]\ttrain-auc:0.93884\n",
      "[25]\ttrain-auc:0.93892\n",
      "[26]\ttrain-auc:0.93885\n",
      "[27]\ttrain-auc:0.94040\n",
      "[28]\ttrain-auc:0.94051\n",
      "[29]\ttrain-auc:0.94056\n",
      "[30]\ttrain-auc:0.94178\n",
      "[31]\ttrain-auc:0.94194\n",
      "[32]\ttrain-auc:0.94341\n",
      "[33]\ttrain-auc:0.94346\n",
      "[34]\ttrain-auc:0.94364\n",
      "[35]\ttrain-auc:0.94415\n",
      "[36]\ttrain-auc:0.94428\n",
      "[37]\ttrain-auc:0.94460\n",
      "[38]\ttrain-auc:0.94458\n",
      "[39]\ttrain-auc:0.94481\n",
      "[40]\ttrain-auc:0.94499\n",
      "[41]\ttrain-auc:0.94539\n",
      "[42]\ttrain-auc:0.94573\n",
      "[43]\ttrain-auc:0.94578\n",
      "[44]\ttrain-auc:0.94618\n",
      "[45]\ttrain-auc:0.94646\n",
      "[46]\ttrain-auc:0.94748\n",
      "[47]\ttrain-auc:0.94752\n",
      "[48]\ttrain-auc:0.94862\n",
      "[49]\ttrain-auc:0.94944\n",
      "[50]\ttrain-auc:0.94988\n",
      "[51]\ttrain-auc:0.95036\n",
      "[52]\ttrain-auc:0.95036\n",
      "[53]\ttrain-auc:0.95085\n",
      "[54]\ttrain-auc:0.95163\n",
      "[55]\ttrain-auc:0.95183\n",
      "[56]\ttrain-auc:0.95234\n",
      "[57]\ttrain-auc:0.95257\n",
      "[58]\ttrain-auc:0.95264\n",
      "[59]\ttrain-auc:0.95273\n",
      "[60]\ttrain-auc:0.95279\n",
      "[61]\ttrain-auc:0.95305\n",
      "[62]\ttrain-auc:0.95335\n",
      "[63]\ttrain-auc:0.95372\n",
      "[64]\ttrain-auc:0.95414\n",
      "[65]\ttrain-auc:0.95465\n",
      "[66]\ttrain-auc:0.95478\n",
      "[67]\ttrain-auc:0.95500\n",
      "[68]\ttrain-auc:0.95533\n",
      "[69]\ttrain-auc:0.95550\n",
      "[70]\ttrain-auc:0.95616\n",
      "[71]\ttrain-auc:0.95634\n",
      "[72]\ttrain-auc:0.95655\n",
      "[73]\ttrain-auc:0.95686\n",
      "[74]\ttrain-auc:0.95709\n",
      "[75]\ttrain-auc:0.95738\n",
      "[76]\ttrain-auc:0.95759\n",
      "[77]\ttrain-auc:0.95773\n",
      "[78]\ttrain-auc:0.95785\n",
      "[79]\ttrain-auc:0.95814\n",
      "[80]\ttrain-auc:0.95853\n",
      "[81]\ttrain-auc:0.95884\n",
      "[82]\ttrain-auc:0.95910\n",
      "[83]\ttrain-auc:0.95984\n",
      "[84]\ttrain-auc:0.96016\n",
      "[85]\ttrain-auc:0.96044\n",
      "[86]\ttrain-auc:0.96065\n",
      "[87]\ttrain-auc:0.96090\n",
      "[88]\ttrain-auc:0.96123\n",
      "[89]\ttrain-auc:0.96141\n",
      "[90]\ttrain-auc:0.96185\n",
      "[91]\ttrain-auc:0.96212\n",
      "[92]\ttrain-auc:0.96239\n",
      "[93]\ttrain-auc:0.96266\n",
      "[94]\ttrain-auc:0.96309\n",
      "[95]\ttrain-auc:0.96343\n",
      "[96]\ttrain-auc:0.96377\n",
      "[97]\ttrain-auc:0.96408\n",
      "[98]\ttrain-auc:0.96430\n",
      "[99]\ttrain-auc:0.96460\n",
      "AUC: 0.9310\n",
      "ACC: 0.8765\n",
      "Precesion: 0.7379\n",
      "Recall: 0.6909\n",
      "F1-score: 0.7136\n",
      "[[357  27]\n",
      " [ 34  76]]\n"
     ]
    }
   ],
   "source": [
    "# XGBoost\n",
    "import xgboost as xgb\n",
    "dtrain = xgb.DMatrix(X_train, label=y_train) \n",
    "dtest=xgb.DMatrix(X_test)\n",
    "\n",
    "params={'booster':'gbtree',\n",
    "    'objective': 'binary:logistic',\n",
    "    'eval_metric': 'auc',\n",
    "    'max_depth':4,\n",
    "    'lambda': 10,\n",
    "    'gamma':0.1,\n",
    "    'subsample':0.75,\n",
    "    'colsample_bytree':0.75,\n",
    "    'min_child_weight':3,\n",
    "    'eta': 0.025,\n",
    "    'seed':10,\n",
    "    'nthread':-1,\n",
    "     'silent':0}\n",
    "\n",
    "watchlist = [(dtrain,'train')]\n",
    "bst=xgb.train(params,dtrain,num_boost_round=100,evals=watchlist)\n",
    "\n",
    "ypred=bst.predict(dtest)\n",
    "y_pred = (ypred >= 0.5)*1\n",
    "\n",
    "from sklearn import metrics\n",
    "\n",
    "fpr_xgb,tpr_xgb,threshold_xgb = metrics.roc_curve(y_test,ypred)\n",
    "auc_xgb = metrics.auc(fpr_xgb,tpr_xgb)\n",
    "print ('AUC: %.4f' % metrics.roc_auc_score(y_test,ypred))\n",
    "print ('ACC: %.4f' % metrics.accuracy_score(y_test,y_pred))\n",
    "print ('Precesion: %.4f' %metrics.precision_score(y_test,y_pred))\n",
    "print ('Recall: %.4f' % metrics.recall_score(y_test,y_pred))\n",
    "print ('F1-score: %.4f' %metrics.f1_score(y_test,y_pred))\n",
    "print(metrics.confusion_matrix(y_test,y_pred))"
   ]
  },
  {
   "cell_type": "code",
   "execution_count": 148,
   "id": "3aea24a4",
   "metadata": {
    "ExecuteTime": {
     "end_time": "2021-10-16T09:24:14.887210Z",
     "start_time": "2021-10-16T09:24:14.236850Z"
    },
    "scrolled": true
   },
   "outputs": [
    {
     "name": "stdout",
     "output_type": "stream",
     "text": [
      "[LightGBM] [Warning] Unknown parameter: gamma\n",
      "[1]\tvalid_0's binary_logloss: 0.525545\tvalid_0's auc: 0.857067\n",
      "Training until validation scores don't improve for 50 rounds\n",
      "[2]\tvalid_0's binary_logloss: 0.514121\tvalid_0's auc: 0.897846\n",
      "[3]\tvalid_0's binary_logloss: 0.503035\tvalid_0's auc: 0.914737\n",
      "[4]\tvalid_0's binary_logloss: 0.493285\tvalid_0's auc: 0.919046\n",
      "[5]\tvalid_0's binary_logloss: 0.484354\tvalid_0's auc: 0.916027\n",
      "[6]\tvalid_0's binary_logloss: 0.475417\tvalid_0's auc: 0.921023\n",
      "[7]\tvalid_0's binary_logloss: 0.467808\tvalid_0's auc: 0.921023\n",
      "[8]\tvalid_0's binary_logloss: 0.460292\tvalid_0's auc: 0.920644\n",
      "[9]\tvalid_0's binary_logloss: 0.451849\tvalid_0's auc: 0.924148\n",
      "[10]\tvalid_0's binary_logloss: 0.444833\tvalid_0's auc: 0.923118\n",
      "[11]\tvalid_0's binary_logloss: 0.438382\tvalid_0's auc: 0.923118\n",
      "[12]\tvalid_0's binary_logloss: 0.431725\tvalid_0's auc: 0.924586\n",
      "[13]\tvalid_0's binary_logloss: 0.425563\tvalid_0's auc: 0.925769\n",
      "[14]\tvalid_0's binary_logloss: 0.418727\tvalid_0's auc: 0.929214\n",
      "[15]\tvalid_0's binary_logloss: 0.412059\tvalid_0's auc: 0.932173\n",
      "[16]\tvalid_0's binary_logloss: 0.407594\tvalid_0's auc: 0.931084\n",
      "[17]\tvalid_0's binary_logloss: 0.402062\tvalid_0's auc: 0.931747\n",
      "[18]\tvalid_0's binary_logloss: 0.396714\tvalid_0's auc: 0.932221\n",
      "[19]\tvalid_0's binary_logloss: 0.391296\tvalid_0's auc: 0.93383\n",
      "[20]\tvalid_0's binary_logloss: 0.387549\tvalid_0's auc: 0.934115\n",
      "[21]\tvalid_0's binary_logloss: 0.382861\tvalid_0's auc: 0.934754\n",
      "[22]\tvalid_0's binary_logloss: 0.378646\tvalid_0's auc: 0.93518\n",
      "[23]\tvalid_0's binary_logloss: 0.374602\tvalid_0's auc: 0.935819\n",
      "[24]\tvalid_0's binary_logloss: 0.370424\tvalid_0's auc: 0.935843\n",
      "[25]\tvalid_0's binary_logloss: 0.367027\tvalid_0's auc: 0.935819\n",
      "[26]\tvalid_0's binary_logloss: 0.362943\tvalid_0's auc: 0.936742\n",
      "[27]\tvalid_0's binary_logloss: 0.359514\tvalid_0's auc: 0.936577\n",
      "[28]\tvalid_0's binary_logloss: 0.356292\tvalid_0's auc: 0.936198\n",
      "[29]\tvalid_0's binary_logloss: 0.353221\tvalid_0's auc: 0.935819\n",
      "[30]\tvalid_0's binary_logloss: 0.349612\tvalid_0's auc: 0.936316\n",
      "[31]\tvalid_0's binary_logloss: 0.346303\tvalid_0's auc: 0.936222\n",
      "[32]\tvalid_0's binary_logloss: 0.343371\tvalid_0's auc: 0.936506\n",
      "[33]\tvalid_0's binary_logloss: 0.340647\tvalid_0's auc: 0.936932\n",
      "[34]\tvalid_0's binary_logloss: 0.337467\tvalid_0's auc: 0.937429\n",
      "[35]\tvalid_0's binary_logloss: 0.334193\tvalid_0's auc: 0.938423\n",
      "[36]\tvalid_0's binary_logloss: 0.331938\tvalid_0's auc: 0.938589\n",
      "[37]\tvalid_0's binary_logloss: 0.329867\tvalid_0's auc: 0.938684\n",
      "[38]\tvalid_0's binary_logloss: 0.326994\tvalid_0's auc: 0.939536\n",
      "[39]\tvalid_0's binary_logloss: 0.32405\tvalid_0's auc: 0.940223\n",
      "[40]\tvalid_0's binary_logloss: 0.321279\tvalid_0's auc: 0.940601\n",
      "[41]\tvalid_0's binary_logloss: 0.319644\tvalid_0's auc: 0.940625\n",
      "[42]\tvalid_0's binary_logloss: 0.31708\tvalid_0's auc: 0.941217\n",
      "[43]\tvalid_0's binary_logloss: 0.314645\tvalid_0's auc: 0.941383\n",
      "[44]\tvalid_0's binary_logloss: 0.312412\tvalid_0's auc: 0.941525\n",
      "[45]\tvalid_0's binary_logloss: 0.310757\tvalid_0's auc: 0.941619\n",
      "[46]\tvalid_0's binary_logloss: 0.308773\tvalid_0's auc: 0.941217\n",
      "[47]\tvalid_0's binary_logloss: 0.307055\tvalid_0's auc: 0.941335\n",
      "[48]\tvalid_0's binary_logloss: 0.304976\tvalid_0's auc: 0.94188\n",
      "[49]\tvalid_0's binary_logloss: 0.303289\tvalid_0's auc: 0.941667\n",
      "[50]\tvalid_0's binary_logloss: 0.301494\tvalid_0's auc: 0.941974\n",
      "[51]\tvalid_0's binary_logloss: 0.299444\tvalid_0's auc: 0.942992\n",
      "[52]\tvalid_0's binary_logloss: 0.297696\tvalid_0's auc: 0.943253\n",
      "[53]\tvalid_0's binary_logloss: 0.29615\tvalid_0's auc: 0.943419\n",
      "[54]\tvalid_0's binary_logloss: 0.294577\tvalid_0's auc: 0.943797\n",
      "[55]\tvalid_0's binary_logloss: 0.293539\tvalid_0's auc: 0.943466\n",
      "[56]\tvalid_0's binary_logloss: 0.292047\tvalid_0's auc: 0.943703\n",
      "[57]\tvalid_0's binary_logloss: 0.290558\tvalid_0's auc: 0.944295\n",
      "[58]\tvalid_0's binary_logloss: 0.288924\tvalid_0's auc: 0.945052\n",
      "[59]\tvalid_0's binary_logloss: 0.287521\tvalid_0's auc: 0.945123\n",
      "[60]\tvalid_0's binary_logloss: 0.285498\tvalid_0's auc: 0.945526\n",
      "[61]\tvalid_0's binary_logloss: 0.284106\tvalid_0's auc: 0.945644\n",
      "[62]\tvalid_0's binary_logloss: 0.282053\tvalid_0's auc: 0.946449\n",
      "[63]\tvalid_0's binary_logloss: 0.280902\tvalid_0's auc: 0.946946\n",
      "[64]\tvalid_0's binary_logloss: 0.279701\tvalid_0's auc: 0.947112\n",
      "[65]\tvalid_0's binary_logloss: 0.278761\tvalid_0's auc: 0.946851\n",
      "[66]\tvalid_0's binary_logloss: 0.277078\tvalid_0's auc: 0.94723\n",
      "[67]\tvalid_0's binary_logloss: 0.275909\tvalid_0's auc: 0.947751\n",
      "[68]\tvalid_0's binary_logloss: 0.275475\tvalid_0's auc: 0.947585\n",
      "[69]\tvalid_0's binary_logloss: 0.27428\tvalid_0's auc: 0.947798\n",
      "[70]\tvalid_0's binary_logloss: 0.273867\tvalid_0's auc: 0.947609\n",
      "[71]\tvalid_0's binary_logloss: 0.272807\tvalid_0's auc: 0.947964\n",
      "[72]\tvalid_0's binary_logloss: 0.272033\tvalid_0's auc: 0.947917\n",
      "[73]\tvalid_0's binary_logloss: 0.271104\tvalid_0's auc: 0.948082\n",
      "[74]\tvalid_0's binary_logloss: 0.270365\tvalid_0's auc: 0.948011\n",
      "[75]\tvalid_0's binary_logloss: 0.269767\tvalid_0's auc: 0.947988\n",
      "[76]\tvalid_0's binary_logloss: 0.268745\tvalid_0's auc: 0.948011\n",
      "[77]\tvalid_0's binary_logloss: 0.267845\tvalid_0's auc: 0.947964\n",
      "[78]\tvalid_0's binary_logloss: 0.267089\tvalid_0's auc: 0.948201\n",
      "[79]\tvalid_0's binary_logloss: 0.266282\tvalid_0's auc: 0.948438\n",
      "[80]\tvalid_0's binary_logloss: 0.265584\tvalid_0's auc: 0.948651\n",
      "[81]\tvalid_0's binary_logloss: 0.264649\tvalid_0's auc: 0.948793\n",
      "[82]\tvalid_0's binary_logloss: 0.263704\tvalid_0's auc: 0.948982\n",
      "[83]\tvalid_0's binary_logloss: 0.262735\tvalid_0's auc: 0.949148\n",
      "[84]\tvalid_0's binary_logloss: 0.261885\tvalid_0's auc: 0.949337\n",
      "[85]\tvalid_0's binary_logloss: 0.260847\tvalid_0's auc: 0.949574\n",
      "[86]\tvalid_0's binary_logloss: 0.260353\tvalid_0's auc: 0.949692\n",
      "[87]\tvalid_0's binary_logloss: 0.259348\tvalid_0's auc: 0.950047\n",
      "[88]\tvalid_0's binary_logloss: 0.25856\tvalid_0's auc: 0.950355\n",
      "[89]\tvalid_0's binary_logloss: 0.258247\tvalid_0's auc: 0.95026\n",
      "[90]\tvalid_0's binary_logloss: 0.257574\tvalid_0's auc: 0.949929\n",
      "[91]\tvalid_0's binary_logloss: 0.256849\tvalid_0's auc: 0.950213\n",
      "[92]\tvalid_0's binary_logloss: 0.256157\tvalid_0's auc: 0.950142\n",
      "[93]\tvalid_0's binary_logloss: 0.255692\tvalid_0's auc: 0.95\n",
      "[94]\tvalid_0's binary_logloss: 0.255246\tvalid_0's auc: 0.949882\n",
      "[95]\tvalid_0's binary_logloss: 0.254465\tvalid_0's auc: 0.950142\n",
      "[96]\tvalid_0's binary_logloss: 0.253938\tvalid_0's auc: 0.950213\n",
      "[97]\tvalid_0's binary_logloss: 0.253533\tvalid_0's auc: 0.950355\n",
      "[98]\tvalid_0's binary_logloss: 0.252715\tvalid_0's auc: 0.950568\n",
      "[99]\tvalid_0's binary_logloss: 0.252405\tvalid_0's auc: 0.950592\n",
      "[100]\tvalid_0's binary_logloss: 0.252043\tvalid_0's auc: 0.950781\n",
      "Did not meet early stopping. Best iteration is:\n",
      "[100]\tvalid_0's binary_logloss: 0.252043\tvalid_0's auc: 0.950781\n",
      "AUC: 0.9508\n",
      "ACC: 0.9109\n",
      "Precesion: 0.8056\n",
      "Recall: 0.7909\n",
      "F1-score: 0.7982\n",
      "[[363  21]\n",
      " [ 23  87]]\n"
     ]
    }
   ],
   "source": [
    "# LightGBM\n",
    "import lightgbm as lgb\n",
    "dtrain = lgb.Dataset(X_train, label=y_train) \n",
    "dtest=lgb.Dataset(X_test,label=y_test)\n",
    "\n",
    "params = {'num_leaves': 60,\n",
    "          'min_data_in_leaf': 30,\n",
    "          'objective': 'binary',\n",
    "          'max_depth': -1,\n",
    "          'gamma':0.1,\n",
    "          'learning_rate': 0.03,\n",
    "          \"min_sum_hessian_in_leaf\": 6,\n",
    "          \"boosting\": \"gbdt\",\n",
    "          \"feature_fraction\": 0.9,\n",
    "          \"bagging_freq\": 1,\n",
    "          \"bagging_fraction\": 0.8,\n",
    "          \"bagging_seed\": 11,\n",
    "          \"lambda_l1\": 0,\n",
    "          'lambda_l2': 0.001,\n",
    "          \"verbosity\": -1,\n",
    "          \"nthread\": -1,\n",
    "          'metric': {'binary_logloss', 'auc'},\n",
    "          \"random_state\": 2021,\n",
    "          }\n",
    "\n",
    "gbm = lgb.train(params,\n",
    "                dtrain,\n",
    "                num_boost_round=100,\n",
    "                valid_sets=dtest,\n",
    "                early_stopping_rounds=50)\n",
    "ypred=gbm.predict(X_test)\n",
    "y_pred = (ypred >= 0.5)*1\n",
    "\n",
    "fpr_gbm,tpr_gbm,threshold_gbm = metrics.roc_curve(y_test,ypred)\n",
    "auc_gbm = metrics.auc(fpr_gbm,tpr_gbm)\n",
    "print ('AUC: %.4f' % metrics.roc_auc_score(y_test,ypred))\n",
    "print ('ACC: %.4f' % metrics.accuracy_score(y_test,y_pred))\n",
    "print ('Precesion: %.4f' %metrics.precision_score(y_test,y_pred))\n",
    "print ('Recall: %.4f' % metrics.recall_score(y_test,y_pred))\n",
    "print ('F1-score: %.4f' %metrics.f1_score(y_test,y_pred))\n",
    "print(metrics.confusion_matrix(y_test,y_pred))"
   ]
  },
  {
   "cell_type": "markdown",
   "id": "a5d28b4b",
   "metadata": {},
   "source": [
    "#### 比较各个分类器的效果"
   ]
  },
  {
   "cell_type": "code",
   "execution_count": 149,
   "id": "0d301b2d",
   "metadata": {
    "ExecuteTime": {
     "end_time": "2021-10-16T09:24:17.100264Z",
     "start_time": "2021-10-16T09:24:16.919012Z"
    }
   },
   "outputs": [
    {
     "data": {
      "image/png": "[encoded data removed]",
      "text/plain": [
       "<Figure size 936x720 with 1 Axes>"
      ]
     },
     "metadata": {
      "needs_background": "light"
     },
     "output_type": "display_data"
    }
   ],
   "source": [
    "# comparison between different approaches\n",
    "plt.style.use('bmh')\n",
    "plt.figure(figsize=(13,10))\n",
    "\n",
    "plt.plot(fpr_lr,tpr_lr,label='lr')                             \n",
    "plt.plot(fpr_svc,tpr_svc,label='svc')                          \n",
    "plt.plot(fpr_knn,tpr_knn,label='knn')                         \n",
    "plt.plot(fpr_dtc,tpr_dtc,label='dtc')                          \n",
    "plt.plot(fpr_rfc,tpr_rfc,label='rfc')                 \n",
    "plt.plot(fpr_ada,tpr_ada,label='ada')              \n",
    "plt.plot(fpr_xgb,tpr_xgb,label='xgb')              \n",
    "plt.plot(fpr_gbm,tpr_gbm,label='gbm')              \n",
    "\n",
    "plt.legend(loc='lower right',prop={'size':25})\n",
    "plt.xlabel('false positive rate')\n",
    "plt.ylabel('true positive rate')\n",
    "plt.title('HOB ROC Curve')\n",
    "plt.show()"
   ]
  },
  {
   "cell_type": "code",
   "execution_count": 150,
   "id": "bd77cb59",
   "metadata": {
    "ExecuteTime": {
     "end_time": "2021-10-16T09:24:20.628965Z",
     "start_time": "2021-10-16T09:24:20.611514Z"
    }
   },
   "outputs": [
    {
     "name": "stdout",
     "output_type": "stream",
     "text": [
      "gbm get highest AUC score(0.95078125), applied to compound: HOB\n",
      "Apply gbm to test dataset...\n"
     ]
    },
    {
     "data": {
      "text/plain": [
       "((50,),\n",
       " array([0, 0, 0, 0, 0, 0, 0, 0, 0, 0, 0, 0, 0, 0, 0, 0, 0, 0, 0, 0, 0, 0,\n",
       "        0, 1, 0, 1, 0, 0, 0, 1, 1, 1, 1, 1, 1, 0, 0, 0, 0, 0, 0, 0, 0, 0,\n",
       "        0, 0, 0, 0, 0, 0]))"
      ]
     },
     "execution_count": 150,
     "metadata": {},
     "output_type": "execute_result"
    }
   ],
   "source": [
    "# AUC score comparison\n",
    "auc_scores = {\n",
    "    'lr': (auc_lr,lr),\n",
    "    'svc':(auc_svc,svc),\n",
    "    'knn':(auc_knn,knn),\n",
    "    'dtc':(auc_dtc,dtc),\n",
    "    'rfc':(auc_rfc,rfc),\n",
    "    'ada':(auc_ada,adaclf),\n",
    "    'xgb':(auc_ada,bst),\n",
    "    'gbm':(auc_gbm,gbm)\n",
    "}\n",
    "best_mn = ''\n",
    "best_m = None\n",
    "highest_score = -1\n",
    "for k,v in auc_scores.items():\n",
    "    if v[0] > highest_score:\n",
    "        highest_score = v[0]\n",
    "        best_mn = k\n",
    "        best_m = v[1]\n",
    "print('{} get highest AUC score({}), applied to compound: HOB'.format(best_mn,highest_score))\n",
    "print('Apply {} to test dataset...'.format(best_mn))\n",
    "if best_mn == 'xgb':\n",
    "    Dtest = xgb.DMatrix(Xtest)\n",
    "    y_caco_test = (bst.predict(Dtest) >= 0.5) * 1\n",
    "elif best_mn == 'gbm':\n",
    "    y_caco_test = (gbm.predict(Xtest) >= 0.5) * 1\n",
    "else:\n",
    "    y_caco_test = best_m.predict(Xtest)\n",
    "adm_test_src['HOB'] = y_caco_test\n",
    "y_caco_test.shape,y_caco_test"
   ]
  },
  {
   "cell_type": "markdown",
   "id": "631bc21f",
   "metadata": {},
   "source": [
    "### MN"
   ]
  },
  {
   "cell_type": "code",
   "execution_count": 151,
   "id": "87b1eac6",
   "metadata": {
    "ExecuteTime": {
     "end_time": "2021-10-16T09:23:55.990274Z",
     "start_time": "2021-10-16T09:23:55.983723Z"
    },
    "scrolled": true
   },
   "outputs": [
    {
     "data": {
      "text/plain": [
       "1    1514\n",
       "0     460\n",
       "Name: MN, dtype: int64"
      ]
     },
     "execution_count": 151,
     "metadata": {},
     "output_type": "execute_result"
    }
   ],
   "source": [
    "# imbalanced value detection\n",
    "mn.value_counts()"
   ]
  },
  {
   "cell_type": "code",
   "execution_count": 152,
   "id": "95ac35a3",
   "metadata": {
    "ExecuteTime": {
     "end_time": "2021-10-16T09:23:57.144212Z",
     "start_time": "2021-10-16T09:23:57.110861Z"
    }
   },
   "outputs": [
    {
     "data": {
      "text/plain": [
       "((1480, 729), (1480,), (494, 729), (494,), (1480, 729), (494, 729))"
      ]
     },
     "execution_count": 152,
     "metadata": {},
     "output_type": "execute_result"
    }
   ],
   "source": [
    "from sklearn.preprocessing import StandardScaler\n",
    "from sklearn.model_selection import train_test_split\n",
    "from sklearn import metrics\n",
    "\n",
    "ssc = StandardScaler()\n",
    "# trans_X = ssc.fit_transform(fX)\n",
    "\n",
    "X_train, X_test, y_train, y_test = train_test_split(fX, mn.values, test_size=0.25,random_state=100)\n",
    "X_train_tran = ssc.fit_transform(X_train)\n",
    "X_test_tran = ssc.transform(X_test)\n",
    "# X_train_tran, X_test_tran, y_train, y_test = train_test_split(fX, caco.values, test_size=0.25,random_state=100)\n",
    "X_train.shape,y_train.shape,X_test.shape,y_test.shape, X_train_tran.shape, X_test_tran.shape"
   ]
  },
  {
   "cell_type": "code",
   "execution_count": 153,
   "id": "1eee78ab",
   "metadata": {
    "ExecuteTime": {
     "end_time": "2021-10-16T09:23:59.396172Z",
     "start_time": "2021-10-16T09:23:59.277296Z"
    },
    "scrolled": false
   },
   "outputs": [
    {
     "name": "stdout",
     "output_type": "stream",
     "text": [
      "[0.8340080971659919, 0.8379679144385027]\n"
     ]
    },
    {
     "name": "stderr",
     "output_type": "stream",
     "text": [
      "/Users/johnson/opt/anaconda3/envs/prac/lib/python3.8/site-packages/sklearn/linear_model/_logistic.py:763: ConvergenceWarning: lbfgs failed to converge (status=1):\n",
      "STOP: TOTAL NO. of ITERATIONS REACHED LIMIT.\n",
      "\n",
      "Increase the number of iterations (max_iter) or scale the data as shown in:\n",
      "    https://scikit-learn.org/stable/modules/preprocessing.html\n",
      "Please also refer to the documentation for alternative solver options:\n",
      "    https://scikit-learn.org/stable/modules/linear_model.html#logistic-regression\n",
      "  n_iter_i = _check_optimize_result(\n"
     ]
    }
   ],
   "source": [
    "from sklearn.linear_model import LogisticRegression\n",
    "\n",
    "lr = LogisticRegression()                                     \n",
    "lr.fit(X_train,y_train)                                        \n",
    "y_prob = lr.predict_proba(X_test)[:,1]                           \n",
    "y_pred = lr.predict(X_test)                                      \n",
    "fpr_lr,tpr_lr,threshold_lr = metrics.roc_curve(y_test,y_prob)   \n",
    "auc_lr = metrics.auc(fpr_lr,tpr_lr)                             \n",
    "score_lr = metrics.accuracy_score(y_test,y_pred)                 \n",
    "print([score_lr,auc_lr])"
   ]
  },
  {
   "cell_type": "code",
   "execution_count": 154,
   "id": "3b6b6556",
   "metadata": {
    "ExecuteTime": {
     "end_time": "2021-10-16T09:24:01.471222Z",
     "start_time": "2021-10-16T09:24:00.466366Z"
    }
   },
   "outputs": [
    {
     "name": "stdout",
     "output_type": "stream",
     "text": [
      "[0.9331983805668016, 0.9731729055258467]\n",
      "[0.8967611336032388, 0.9644607843137255]\n",
      "[0.8319838056680162, 0.8442513368983957]\n"
     ]
    }
   ],
   "source": [
    "# SVM with standardization\n",
    "from sklearn.svm import SVC\n",
    "kernelList = ['linear','rbf','sigmoid']\n",
    "svc = None\n",
    "auc_svc = -1\n",
    "score_svc = -1\n",
    "fpr_svc = None\n",
    "tpr_svc = None\n",
    "for kernel in kernelList:\n",
    "    svc_tmp = SVC(kernel=kernel).fit(X_train_tran,y_train)\n",
    "\n",
    "    # decision border distance\n",
    "    y_prob = svc_tmp.decision_function(X_test_tran)\n",
    "    y_pred = svc_tmp.predict(X_test_tran)\n",
    "    # false positive, true positive\n",
    "    fpr_svc_tmp,tpr_svc_tmp,threshold_svc_tmp = metrics.roc_curve(y_test,y_prob)\n",
    "    # auc curve\n",
    "    auc_svc_tmp = metrics.auc(fpr_svc_tmp,tpr_svc_tmp)\n",
    "    score_svc_tmp = metrics.accuracy_score(y_test,y_pred)\n",
    "    print([score_svc_tmp,auc_svc_tmp])    \n",
    "    \n",
    "    if not svc:\n",
    "        svc = svc_tmp\n",
    "    if auc_svc < auc_svc_tmp:\n",
    "        auc_svc = auc_svc_tmp\n",
    "        best_svc = svc\n",
    "        score_svc = score_svc_tmp\n",
    "        fpr_svc = fpr_svc_tmp\n",
    "        tpr_svc = tpr_svc_tmp"
   ]
  },
  {
   "cell_type": "code",
   "execution_count": 155,
   "id": "ed187ca4",
   "metadata": {
    "ExecuteTime": {
     "end_time": "2021-10-16T09:24:02.491610Z",
     "start_time": "2021-10-16T09:24:02.437725Z"
    }
   },
   "outputs": [
    {
     "name": "stdout",
     "output_type": "stream",
     "text": [
      "[0.9089068825910931, 0.9500891265597148]\n"
     ]
    }
   ],
   "source": [
    "# KNN with standardization\n",
    "from sklearn.neighbors import KNeighborsClassifier\n",
    "\n",
    "# knn = KNeighborsClassifier(n_neighbors=5,weights='uniform').fit(X_train_tran,y_train)\n",
    "knn = KNeighborsClassifier(n_neighbors=5,weights='distance').fit(X_train_tran,y_train)\n",
    "\n",
    "y_prob = knn.predict_proba(X_test_tran)[:,1]                              \n",
    "y_pred = knn.predict(X_test_tran)                                       \n",
    "fpr_knn,tpr_knn,threshold_knn = metrics.roc_curve(y_test,y_prob)   \n",
    "auc_knn = metrics.auc(fpr_knn,tpr_knn)                              \n",
    "score_knn = metrics.accuracy_score(y_test,y_pred)\n",
    "print([score_knn,auc_knn])"
   ]
  },
  {
   "cell_type": "code",
   "execution_count": 156,
   "id": "75fbbe57",
   "metadata": {
    "ExecuteTime": {
     "end_time": "2021-10-16T09:24:03.788528Z",
     "start_time": "2021-10-16T09:24:03.467809Z"
    }
   },
   "outputs": [
    {
     "name": "stdout",
     "output_type": "stream",
     "text": [
      "K=2, get highest score=0.757085020242915\n"
     ]
    },
    {
     "data": {
      "text/plain": [
       "[<matplotlib.lines.Line2D at 0x7fc6f1afbf70>]"
      ]
     },
     "execution_count": 156,
     "metadata": {},
     "output_type": "execute_result"
    },
    {
     "data": {
      "image/png": "[encoded data removed]",
      "text/plain": [
       "<Figure size 432x288 with 1 Axes>"
      ]
     },
     "metadata": {
      "needs_background": "light"
     },
     "output_type": "display_data"
    }
   ],
   "source": [
    "# select best K \n",
    "score_K=[]\n",
    "KList=range(2,13)\n",
    "\n",
    "for k in KList:\n",
    "    knn = KNeighborsClassifier(n_neighbors=k,weights='distance').fit(X_train_tran,y_train)\n",
    "    score_K.append(knn.score(X_test,y_test))\n",
    "\n",
    "print('K={}, get highest score={}'.format(KList[score_K.index(max(score_K))],max(score_K)))\n",
    "plt.plot(KList, score_K)"
   ]
  },
  {
   "cell_type": "code",
   "execution_count": 157,
   "id": "ddce8aa4",
   "metadata": {
    "ExecuteTime": {
     "end_time": "2021-10-16T09:24:05.053371Z",
     "start_time": "2021-10-16T09:24:04.753177Z"
    }
   },
   "outputs": [
    {
     "name": "stdout",
     "output_type": "stream",
     "text": [
      "[0.937246963562753, 0.9019607843137256]\n"
     ]
    }
   ],
   "source": [
    "# decision tree\n",
    "from sklearn import tree\n",
    "\n",
    "dtc = tree.DecisionTreeClassifier()                         \n",
    "dtc.fit(X_train,y_train)                                       \n",
    "y_prob = dtc.predict_proba(X_test)[:,1]                          \n",
    "y_pred = dtc.predict(X_test)                                      \n",
    "fpr_dtc,tpr_dtc,threshod_dtc= metrics.roc_curve(y_test,y_prob)   \n",
    "score_dtc = metrics.accuracy_score(y_test,y_pred)                \n",
    "auc_dtc = metrics.auc(fpr_dtc,tpr_dtc) \n",
    "print([score_dtc,auc_dtc])"
   ]
  },
  {
   "cell_type": "code",
   "execution_count": 158,
   "id": "435a295a",
   "metadata": {
    "ExecuteTime": {
     "end_time": "2021-10-16T09:24:06.713166Z",
     "start_time": "2021-10-16T09:24:06.004094Z"
    }
   },
   "outputs": [
    {
     "name": "stdout",
     "output_type": "stream",
     "text": [
      "[0.937246963562753, 0.9886920677361855]\n"
     ]
    }
   ],
   "source": [
    "# random forest classifier\n",
    "from sklearn.ensemble import RandomForestClassifier\n",
    "\n",
    "rfc = RandomForestClassifier()                                     \n",
    "rfc.fit(X_train,y_train)                                           \n",
    "y_prob = rfc.predict_proba(X_test)[:,1]                           \n",
    "fpr_rfc,tpr_rfc,threshold_rfc = metrics.roc_curve(y_test,y_prob)    \n",
    "auc_rfc = metrics.auc(fpr_rfc,tpr_rfc)                             \n",
    "score_rfc = metrics.accuracy_score(y_test,y_pred)                \n",
    "print([score_rfc,auc_rfc])"
   ]
  },
  {
   "cell_type": "code",
   "execution_count": 159,
   "id": "8bb0f373",
   "metadata": {
    "ExecuteTime": {
     "end_time": "2021-10-16T09:24:11.037440Z",
     "start_time": "2021-10-16T09:24:07.651942Z"
    }
   },
   "outputs": [
    {
     "name": "stdout",
     "output_type": "stream",
     "text": [
      "[0.9473684210526315,0.919964349376114]\n"
     ]
    }
   ],
   "source": [
    "# AdaBoost Classifier\n",
    "from sklearn.ensemble import AdaBoostClassifier\n",
    "from sklearn.tree import DecisionTreeClassifier\n",
    "from sklearn.ensemble import RandomForestClassifier\n",
    "from sklearn.metrics import confusion_matrix\n",
    "\n",
    "# use weak classifier\n",
    "adaclf = AdaBoostClassifier(\n",
    "    DecisionTreeClassifier(max_depth=1),\n",
    "#     RandomForestClassifier(max_depth=1),\n",
    "    n_estimators=100\n",
    ")\n",
    "adaclf.fit(X_train, y_train)\n",
    "y_pred = adaclf.predict(X_test)\n",
    "# print('adaboost confusion matrix:')\n",
    "conf_mat = confusion_matrix(y_test, y_pred)\n",
    "fpr_ada,tpr_ada,threshold_ada = metrics.roc_curve(y_test,y_pred)    \n",
    "auc_ada = metrics.auc(fpr_ada,tpr_ada)                             \n",
    "score_ada = metrics.accuracy_score(y_test,y_pred)  \n",
    "print('[{},{}]'.format(score_ada,auc_ada))"
   ]
  },
  {
   "cell_type": "code",
   "execution_count": 160,
   "id": "cb03528b",
   "metadata": {
    "ExecuteTime": {
     "end_time": "2021-10-16T09:24:13.298401Z",
     "start_time": "2021-10-16T09:24:11.958856Z"
    },
    "scrolled": true
   },
   "outputs": [
    {
     "name": "stdout",
     "output_type": "stream",
     "text": [
      "[17:24:11] WARNING: /Users/runner/miniforge3/conda-bld/xgboost-split_1631904775127/work/src/learner.cc:573: \n",
      "Parameters: { \"silent\" } might not be used.\n",
      "\n",
      "  This may not be accurate due to some parameters are only used in language bindings but\n",
      "  passed down to XGBoost core.  Or some parameters are not used but slip through this\n",
      "  verification. Please open an issue if you find above cases.\n",
      "\n",
      "\n",
      "[0]\ttrain-auc:0.87658\n",
      "[1]\ttrain-auc:0.89088\n",
      "[2]\ttrain-auc:0.92183\n",
      "[3]\ttrain-auc:0.94654\n",
      "[4]\ttrain-auc:0.95089\n",
      "[5]\ttrain-auc:0.96219\n",
      "[6]\ttrain-auc:0.96448\n",
      "[7]\ttrain-auc:0.96367\n",
      "[8]\ttrain-auc:0.96362\n",
      "[9]\ttrain-auc:0.96349\n",
      "[10]\ttrain-auc:0.96324\n",
      "[11]\ttrain-auc:0.96245\n",
      "[12]\ttrain-auc:0.96582\n",
      "[13]\ttrain-auc:0.96517\n",
      "[14]\ttrain-auc:0.96536\n",
      "[15]\ttrain-auc:0.96537\n",
      "[16]\ttrain-auc:0.96650\n",
      "[17]\ttrain-auc:0.96729\n",
      "[18]\ttrain-auc:0.96818\n",
      "[19]\ttrain-auc:0.96795\n",
      "[20]\ttrain-auc:0.97214\n",
      "[21]\ttrain-auc:0.97504\n",
      "[22]\ttrain-auc:0.97743\n",
      "[23]\ttrain-auc:0.97695\n",
      "[24]\ttrain-auc:0.97704\n",
      "[25]\ttrain-auc:0.97734\n",
      "[26]\ttrain-auc:0.97928\n",
      "[27]\ttrain-auc:0.98049\n",
      "[28]\ttrain-auc:0.98028\n",
      "[29]\ttrain-auc:0.98121\n",
      "[30]\ttrain-auc:0.98199\n",
      "[31]\ttrain-auc:0.98253\n",
      "[32]\ttrain-auc:0.98238\n",
      "[33]\ttrain-auc:0.98272\n",
      "[34]\ttrain-auc:0.98313\n",
      "[35]\ttrain-auc:0.98346\n",
      "[36]\ttrain-auc:0.98411\n",
      "[37]\ttrain-auc:0.98448\n",
      "[38]\ttrain-auc:0.98479\n",
      "[39]\ttrain-auc:0.98572\n",
      "[40]\ttrain-auc:0.98608\n",
      "[41]\ttrain-auc:0.98636\n",
      "[42]\ttrain-auc:0.98644\n",
      "[43]\ttrain-auc:0.98749\n",
      "[44]\ttrain-auc:0.98739\n",
      "[45]\ttrain-auc:0.98730\n",
      "[46]\ttrain-auc:0.98745\n",
      "[47]\ttrain-auc:0.98743\n",
      "[48]\ttrain-auc:0.98781\n",
      "[49]\ttrain-auc:0.98798\n",
      "[50]\ttrain-auc:0.98803\n",
      "[51]\ttrain-auc:0.98804\n",
      "[52]\ttrain-auc:0.98816\n",
      "[53]\ttrain-auc:0.98815\n",
      "[54]\ttrain-auc:0.98908\n",
      "[55]\ttrain-auc:0.98958\n",
      "[56]\ttrain-auc:0.98965\n",
      "[57]\ttrain-auc:0.98983\n",
      "[58]\ttrain-auc:0.98984\n",
      "[59]\ttrain-auc:0.98994\n",
      "[60]\ttrain-auc:0.99034\n",
      "[61]\ttrain-auc:0.99042\n",
      "[62]\ttrain-auc:0.99040\n",
      "[63]\ttrain-auc:0.99043\n",
      "[64]\ttrain-auc:0.99070\n",
      "[65]\ttrain-auc:0.99106\n",
      "[66]\ttrain-auc:0.99140\n",
      "[67]\ttrain-auc:0.99155\n",
      "[68]\ttrain-auc:0.99161\n",
      "[69]\ttrain-auc:0.99178\n",
      "[70]\ttrain-auc:0.99189\n",
      "[71]\ttrain-auc:0.99192\n",
      "[72]\ttrain-auc:0.99214\n",
      "[73]\ttrain-auc:0.99215\n",
      "[74]\ttrain-auc:0.99224\n",
      "[75]\ttrain-auc:0.99222\n",
      "[76]\ttrain-auc:0.99228\n",
      "[77]\ttrain-auc:0.99241\n",
      "[78]\ttrain-auc:0.99246\n",
      "[79]\ttrain-auc:0.99261\n",
      "[80]\ttrain-auc:0.99269\n",
      "[81]\ttrain-auc:0.99272\n",
      "[82]\ttrain-auc:0.99275\n",
      "[83]\ttrain-auc:0.99287\n",
      "[84]\ttrain-auc:0.99302\n",
      "[85]\ttrain-auc:0.99305\n",
      "[86]\ttrain-auc:0.99306\n",
      "[87]\ttrain-auc:0.99308\n",
      "[88]\ttrain-auc:0.99317\n",
      "[89]\ttrain-auc:0.99333\n",
      "[90]\ttrain-auc:0.99343\n",
      "[91]\ttrain-auc:0.99350\n",
      "[92]\ttrain-auc:0.99352\n",
      "[93]\ttrain-auc:0.99360\n",
      "[94]\ttrain-auc:0.99370\n",
      "[95]\ttrain-auc:0.99368\n",
      "[96]\ttrain-auc:0.99372\n",
      "[97]\ttrain-auc:0.99382\n",
      "[98]\ttrain-auc:0.99389\n",
      "[99]\ttrain-auc:0.99395\n",
      "AUC: 0.9840\n",
      "ACC: 0.9312\n",
      "Precesion: 0.9250\n",
      "Recall: 0.9893\n",
      "F1-score: 0.9561\n",
      "[[ 90  30]\n",
      " [  4 370]]\n"
     ]
    }
   ],
   "source": [
    "# XGBoost\n",
    "import xgboost as xgb\n",
    "dtrain = xgb.DMatrix(X_train, label=y_train) \n",
    "dtest=xgb.DMatrix(X_test)\n",
    "\n",
    "params={'booster':'gbtree',\n",
    "    'objective': 'binary:logistic',\n",
    "    'eval_metric': 'auc',\n",
    "    'max_depth':4,\n",
    "    'lambda': 10,\n",
    "    'gamma':0.1,\n",
    "    'subsample':0.75,\n",
    "    'colsample_bytree':0.75,\n",
    "    'min_child_weight':3,\n",
    "    'eta': 0.025,\n",
    "    'seed':10,\n",
    "    'nthread':-1,\n",
    "     'silent':0}\n",
    "\n",
    "watchlist = [(dtrain,'train')]\n",
    "bst=xgb.train(params,dtrain,num_boost_round=100,evals=watchlist)\n",
    "\n",
    "ypred=bst.predict(dtest)\n",
    "y_pred = (ypred >= 0.5)*1\n",
    "\n",
    "from sklearn import metrics\n",
    "\n",
    "fpr_xgb,tpr_xgb,threshold_xgb = metrics.roc_curve(y_test,ypred)\n",
    "auc_xgb = metrics.auc(fpr_xgb,tpr_xgb)\n",
    "print ('AUC: %.4f' % metrics.roc_auc_score(y_test,ypred))\n",
    "print ('ACC: %.4f' % metrics.accuracy_score(y_test,y_pred))\n",
    "print ('Precesion: %.4f' %metrics.precision_score(y_test,y_pred))\n",
    "print ('Recall: %.4f' % metrics.recall_score(y_test,y_pred))\n",
    "print ('F1-score: %.4f' %metrics.f1_score(y_test,y_pred))\n",
    "print(metrics.confusion_matrix(y_test,y_pred))"
   ]
  },
  {
   "cell_type": "code",
   "execution_count": 161,
   "id": "675aa28a",
   "metadata": {
    "ExecuteTime": {
     "end_time": "2021-10-16T09:24:14.887210Z",
     "start_time": "2021-10-16T09:24:14.236850Z"
    },
    "scrolled": true
   },
   "outputs": [
    {
     "name": "stdout",
     "output_type": "stream",
     "text": [
      "[LightGBM] [Warning] Unknown parameter: gamma\n",
      "[1]\tvalid_0's binary_logloss: 0.535762\tvalid_0's auc: 0.932631\n",
      "Training until validation scores don't improve for 50 rounds\n",
      "[2]\tvalid_0's binary_logloss: 0.519587\tvalid_0's auc: 0.943271\n",
      "[3]\tvalid_0's binary_logloss: 0.504274\tvalid_0's auc: 0.948641\n",
      "[4]\tvalid_0's binary_logloss: 0.490912\tvalid_0's auc: 0.953721\n",
      "[5]\tvalid_0's binary_logloss: 0.476764\tvalid_0's auc: 0.956918\n",
      "[6]\tvalid_0's binary_logloss: 0.465752\tvalid_0's auc: 0.962322\n",
      "[7]\tvalid_0's binary_logloss: 0.452547\tvalid_0's auc: 0.968672\n",
      "[8]\tvalid_0's binary_logloss: 0.44118\tvalid_0's auc: 0.971959\n",
      "[9]\tvalid_0's binary_logloss: 0.43031\tvalid_0's auc: 0.971959\n",
      "[10]\tvalid_0's binary_logloss: 0.420884\tvalid_0's auc: 0.97295\n",
      "[11]\tvalid_0's binary_logloss: 0.412266\tvalid_0's auc: 0.974532\n",
      "[12]\tvalid_0's binary_logloss: 0.403959\tvalid_0's auc: 0.974086\n",
      "[13]\tvalid_0's binary_logloss: 0.393614\tvalid_0's auc: 0.975914\n",
      "[14]\tvalid_0's binary_logloss: 0.384037\tvalid_0's auc: 0.977317\n",
      "[15]\tvalid_0's binary_logloss: 0.375027\tvalid_0's auc: 0.977941\n",
      "[16]\tvalid_0's binary_logloss: 0.367655\tvalid_0's auc: 0.978064\n",
      "[17]\tvalid_0's binary_logloss: 0.359475\tvalid_0's auc: 0.977863\n",
      "[18]\tvalid_0's binary_logloss: 0.352864\tvalid_0's auc: 0.978643\n",
      "[19]\tvalid_0's binary_logloss: 0.345054\tvalid_0's auc: 0.978754\n",
      "[20]\tvalid_0's binary_logloss: 0.33747\tvalid_0's auc: 0.979334\n",
      "[21]\tvalid_0's binary_logloss: 0.330453\tvalid_0's auc: 0.97949\n",
      "[22]\tvalid_0's binary_logloss: 0.32375\tvalid_0's auc: 0.980002\n",
      "[23]\tvalid_0's binary_logloss: 0.317813\tvalid_0's auc: 0.980849\n",
      "[24]\tvalid_0's binary_logloss: 0.310944\tvalid_0's auc: 0.981673\n",
      "[25]\tvalid_0's binary_logloss: 0.306899\tvalid_0's auc: 0.981361\n",
      "[26]\tvalid_0's binary_logloss: 0.301963\tvalid_0's auc: 0.981729\n",
      "[27]\tvalid_0's binary_logloss: 0.297346\tvalid_0's auc: 0.98242\n",
      "[28]\tvalid_0's binary_logloss: 0.292981\tvalid_0's auc: 0.982687\n",
      "[29]\tvalid_0's binary_logloss: 0.28853\tvalid_0's auc: 0.983088\n",
      "[30]\tvalid_0's binary_logloss: 0.282985\tvalid_0's auc: 0.983846\n",
      "[31]\tvalid_0's binary_logloss: 0.278875\tvalid_0's auc: 0.983846\n",
      "[32]\tvalid_0's binary_logloss: 0.273472\tvalid_0's auc: 0.984202\n",
      "[33]\tvalid_0's binary_logloss: 0.269171\tvalid_0's auc: 0.984737\n",
      "[34]\tvalid_0's binary_logloss: 0.264845\tvalid_0's auc: 0.984893\n",
      "[35]\tvalid_0's binary_logloss: 0.261697\tvalid_0's auc: 0.984848\n",
      "[36]\tvalid_0's binary_logloss: 0.257512\tvalid_0's auc: 0.984693\n",
      "[37]\tvalid_0's binary_logloss: 0.253062\tvalid_0's auc: 0.985361\n",
      "[38]\tvalid_0's binary_logloss: 0.249034\tvalid_0's auc: 0.985584\n",
      "[39]\tvalid_0's binary_logloss: 0.246493\tvalid_0's auc: 0.98525\n",
      "[40]\tvalid_0's binary_logloss: 0.242502\tvalid_0's auc: 0.985673\n",
      "[41]\tvalid_0's binary_logloss: 0.239849\tvalid_0's auc: 0.985717\n",
      "[42]\tvalid_0's binary_logloss: 0.237451\tvalid_0's auc: 0.985673\n",
      "[43]\tvalid_0's binary_logloss: 0.234898\tvalid_0's auc: 0.985717\n",
      "[44]\tvalid_0's binary_logloss: 0.231199\tvalid_0's auc: 0.986007\n",
      "[45]\tvalid_0's binary_logloss: 0.228077\tvalid_0's auc: 0.986497\n",
      "[46]\tvalid_0's binary_logloss: 0.225136\tvalid_0's auc: 0.986386\n",
      "[47]\tvalid_0's binary_logloss: 0.222282\tvalid_0's auc: 0.986631\n",
      "[48]\tvalid_0's binary_logloss: 0.220081\tvalid_0's auc: 0.986742\n",
      "[49]\tvalid_0's binary_logloss: 0.217951\tvalid_0's auc: 0.986742\n",
      "[50]\tvalid_0's binary_logloss: 0.215779\tvalid_0's auc: 0.986453\n",
      "[51]\tvalid_0's binary_logloss: 0.213546\tvalid_0's auc: 0.986832\n",
      "[52]\tvalid_0's binary_logloss: 0.210809\tvalid_0's auc: 0.986876\n",
      "[53]\tvalid_0's binary_logloss: 0.208167\tvalid_0's auc: 0.987233\n",
      "[54]\tvalid_0's binary_logloss: 0.205859\tvalid_0's auc: 0.987322\n",
      "[55]\tvalid_0's binary_logloss: 0.203595\tvalid_0's auc: 0.987277\n",
      "[56]\tvalid_0's binary_logloss: 0.201425\tvalid_0's auc: 0.987611\n",
      "[57]\tvalid_0's binary_logloss: 0.199586\tvalid_0's auc: 0.987656\n",
      "[58]\tvalid_0's binary_logloss: 0.1973\tvalid_0's auc: 0.987522\n",
      "[59]\tvalid_0's binary_logloss: 0.195402\tvalid_0's auc: 0.987634\n",
      "[60]\tvalid_0's binary_logloss: 0.193202\tvalid_0's auc: 0.987857\n",
      "[61]\tvalid_0's binary_logloss: 0.191466\tvalid_0's auc: 0.988146\n",
      "[62]\tvalid_0's binary_logloss: 0.189821\tvalid_0's auc: 0.987968\n",
      "[63]\tvalid_0's binary_logloss: 0.187591\tvalid_0's auc: 0.988146\n",
      "[64]\tvalid_0's binary_logloss: 0.185691\tvalid_0's auc: 0.988258\n",
      "[65]\tvalid_0's binary_logloss: 0.183629\tvalid_0's auc: 0.988324\n",
      "[66]\tvalid_0's binary_logloss: 0.182342\tvalid_0's auc: 0.988191\n",
      "[67]\tvalid_0's binary_logloss: 0.18064\tvalid_0's auc: 0.988324\n",
      "[68]\tvalid_0's binary_logloss: 0.179299\tvalid_0's auc: 0.988436\n",
      "[69]\tvalid_0's binary_logloss: 0.177969\tvalid_0's auc: 0.988458\n",
      "[70]\tvalid_0's binary_logloss: 0.176583\tvalid_0's auc: 0.988547\n",
      "[71]\tvalid_0's binary_logloss: 0.175557\tvalid_0's auc: 0.988414\n",
      "[72]\tvalid_0's binary_logloss: 0.173933\tvalid_0's auc: 0.988369\n",
      "[73]\tvalid_0's binary_logloss: 0.172588\tvalid_0's auc: 0.988458\n",
      "[74]\tvalid_0's binary_logloss: 0.171276\tvalid_0's auc: 0.988659\n",
      "[75]\tvalid_0's binary_logloss: 0.1701\tvalid_0's auc: 0.988703\n",
      "[76]\tvalid_0's binary_logloss: 0.168345\tvalid_0's auc: 0.988993\n",
      "[77]\tvalid_0's binary_logloss: 0.166909\tvalid_0's auc: 0.989104\n",
      "[78]\tvalid_0's binary_logloss: 0.165962\tvalid_0's auc: 0.988971\n",
      "[79]\tvalid_0's binary_logloss: 0.164376\tvalid_0's auc: 0.988993\n",
      "[80]\tvalid_0's binary_logloss: 0.163306\tvalid_0's auc: 0.988971\n",
      "[81]\tvalid_0's binary_logloss: 0.162292\tvalid_0's auc: 0.988837\n",
      "[82]\tvalid_0's binary_logloss: 0.161348\tvalid_0's auc: 0.98877\n",
      "[83]\tvalid_0's binary_logloss: 0.160001\tvalid_0's auc: 0.988926\n",
      "[84]\tvalid_0's binary_logloss: 0.158915\tvalid_0's auc: 0.989149\n",
      "[85]\tvalid_0's binary_logloss: 0.157477\tvalid_0's auc: 0.989327\n",
      "[86]\tvalid_0's binary_logloss: 0.156458\tvalid_0's auc: 0.989594\n",
      "[87]\tvalid_0's binary_logloss: 0.155559\tvalid_0's auc: 0.989639\n",
      "[88]\tvalid_0's binary_logloss: 0.154475\tvalid_0's auc: 0.98984\n",
      "[89]\tvalid_0's binary_logloss: 0.153566\tvalid_0's auc: 0.989906\n",
      "[90]\tvalid_0's binary_logloss: 0.152853\tvalid_0's auc: 0.989929\n",
      "[91]\tvalid_0's binary_logloss: 0.152354\tvalid_0's auc: 0.989817\n",
      "[92]\tvalid_0's binary_logloss: 0.151116\tvalid_0's auc: 0.989862\n",
      "[93]\tvalid_0's binary_logloss: 0.150115\tvalid_0's auc: 0.989996\n",
      "[94]\tvalid_0's binary_logloss: 0.149269\tvalid_0's auc: 0.990152\n",
      "[95]\tvalid_0's binary_logloss: 0.148064\tvalid_0's auc: 0.990174\n",
      "[96]\tvalid_0's binary_logloss: 0.147371\tvalid_0's auc: 0.990129\n",
      "[97]\tvalid_0's binary_logloss: 0.146594\tvalid_0's auc: 0.990085\n",
      "[98]\tvalid_0's binary_logloss: 0.145767\tvalid_0's auc: 0.990085\n",
      "[99]\tvalid_0's binary_logloss: 0.144508\tvalid_0's auc: 0.990129\n",
      "[100]\tvalid_0's binary_logloss: 0.143585\tvalid_0's auc: 0.990263\n",
      "Did not meet early stopping. Best iteration is:\n",
      "[100]\tvalid_0's binary_logloss: 0.143585\tvalid_0's auc: 0.990263\n",
      "AUC: 0.9903\n",
      "ACC: 0.9433\n",
      "Precesion: 0.9436\n",
      "Recall: 0.9840\n",
      "F1-score: 0.9634\n",
      "[[ 98  22]\n",
      " [  6 368]]\n"
     ]
    }
   ],
   "source": [
    "# LightGBM\n",
    "import lightgbm as lgb\n",
    "dtrain = lgb.Dataset(X_train, label=y_train) \n",
    "dtest=lgb.Dataset(X_test,label=y_test)\n",
    "\n",
    "params = {'num_leaves': 60,\n",
    "          'min_data_in_leaf': 30,\n",
    "          'objective': 'binary',\n",
    "          'max_depth': -1,\n",
    "          'gamma':0.1,\n",
    "          'learning_rate': 0.03,\n",
    "          \"min_sum_hessian_in_leaf\": 6,\n",
    "          \"boosting\": \"gbdt\",\n",
    "          \"feature_fraction\": 0.9,\n",
    "          \"bagging_freq\": 1,\n",
    "          \"bagging_fraction\": 0.8,\n",
    "          \"bagging_seed\": 11,\n",
    "          \"lambda_l1\": 0,\n",
    "          'lambda_l2': 0.001,\n",
    "          \"verbosity\": -1,\n",
    "          \"nthread\": -1,\n",
    "          'metric': {'binary_logloss', 'auc'},\n",
    "          \"random_state\": 2021,\n",
    "          }\n",
    "\n",
    "gbm = lgb.train(params,\n",
    "                dtrain,\n",
    "                num_boost_round=100,\n",
    "                valid_sets=dtest,\n",
    "                early_stopping_rounds=50)\n",
    "ypred=gbm.predict(X_test)\n",
    "y_pred = (ypred >= 0.5)*1\n",
    "\n",
    "fpr_gbm,tpr_gbm,threshold_gbm = metrics.roc_curve(y_test,ypred)\n",
    "auc_gbm = metrics.auc(fpr_gbm,tpr_gbm)\n",
    "print ('AUC: %.4f' % metrics.roc_auc_score(y_test,ypred))\n",
    "print ('ACC: %.4f' % metrics.accuracy_score(y_test,y_pred))\n",
    "print ('Precesion: %.4f' %metrics.precision_score(y_test,y_pred))\n",
    "print ('Recall: %.4f' % metrics.recall_score(y_test,y_pred))\n",
    "print ('F1-score: %.4f' %metrics.f1_score(y_test,y_pred))\n",
    "print(metrics.confusion_matrix(y_test,y_pred))"
   ]
  },
  {
   "cell_type": "markdown",
   "id": "b24234b0",
   "metadata": {},
   "source": [
    "#### 比较各个分类器的效果"
   ]
  },
  {
   "cell_type": "code",
   "execution_count": 162,
   "id": "bd3a4577",
   "metadata": {
    "ExecuteTime": {
     "end_time": "2021-10-16T09:24:17.100264Z",
     "start_time": "2021-10-16T09:24:16.919012Z"
    }
   },
   "outputs": [
    {
     "data": {
      "image/png": "[encoded data removed]",
      "text/plain": [
       "<Figure size 936x720 with 1 Axes>"
      ]
     },
     "metadata": {
      "needs_background": "light"
     },
     "output_type": "display_data"
    }
   ],
   "source": [
    "# comparison between different approaches\n",
    "plt.style.use('bmh')\n",
    "plt.figure(figsize=(13,10))\n",
    "\n",
    "plt.plot(fpr_lr,tpr_lr,label='lr')                             \n",
    "plt.plot(fpr_svc,tpr_svc,label='svc')                          \n",
    "plt.plot(fpr_knn,tpr_knn,label='knn')                         \n",
    "plt.plot(fpr_dtc,tpr_dtc,label='dtc')                          \n",
    "plt.plot(fpr_rfc,tpr_rfc,label='rfc')                 \n",
    "plt.plot(fpr_ada,tpr_ada,label='ada')              \n",
    "plt.plot(fpr_xgb,tpr_xgb,label='xgb')              \n",
    "plt.plot(fpr_gbm,tpr_gbm,label='gbm')              \n",
    "\n",
    "plt.legend(loc='lower right',prop={'size':25})\n",
    "plt.xlabel('false positive rate')\n",
    "plt.ylabel('true positive rate')\n",
    "plt.title('MN ROC Curve')\n",
    "plt.show()"
   ]
  },
  {
   "cell_type": "code",
   "execution_count": 163,
   "id": "9e203458",
   "metadata": {
    "ExecuteTime": {
     "end_time": "2021-10-16T09:24:20.628965Z",
     "start_time": "2021-10-16T09:24:20.611514Z"
    }
   },
   "outputs": [
    {
     "name": "stdout",
     "output_type": "stream",
     "text": [
      "gbm get highest AUC score(0.9902629233511586), applied to compound: MN\n",
      "Apply gbm to test dataset...\n"
     ]
    },
    {
     "data": {
      "text/plain": [
       "((50,),\n",
       " array([1, 1, 1, 1, 1, 1, 0, 1, 1, 1, 1, 1, 1, 1, 1, 1, 1, 1, 1, 1, 0, 0,\n",
       "        0, 0, 0, 0, 0, 1, 1, 1, 1, 1, 1, 1, 1, 1, 1, 0, 1, 1, 1, 1, 1, 1,\n",
       "        1, 1, 1, 1, 1, 0]))"
      ]
     },
     "execution_count": 163,
     "metadata": {},
     "output_type": "execute_result"
    }
   ],
   "source": [
    "# AUC score comparison\n",
    "auc_scores = {\n",
    "    'lr': (auc_lr,lr),\n",
    "    'svc':(auc_svc,svc),\n",
    "    'knn':(auc_knn,knn),\n",
    "    'dtc':(auc_dtc,dtc),\n",
    "    'rfc':(auc_rfc,rfc),\n",
    "    'ada':(auc_ada,adaclf),\n",
    "    'xgb':(auc_ada,bst),\n",
    "    'gbm':(auc_gbm,gbm)\n",
    "}\n",
    "best_mn = ''\n",
    "best_m = None\n",
    "highest_score = -1\n",
    "for k,v in auc_scores.items():\n",
    "    if v[0] > highest_score:\n",
    "        highest_score = v[0]\n",
    "        best_mn = k\n",
    "        best_m = v[1]\n",
    "print('{} get highest AUC score({}), applied to compound: MN'.format(best_mn,highest_score))\n",
    "print('Apply {} to test dataset...'.format(best_mn))\n",
    "if best_mn == 'xgb':\n",
    "    Dtest = xgb.DMatrix(Xtest)\n",
    "    y_caco_test = (bst.predict(Dtest) >= 0.5) * 1\n",
    "elif best_mn == 'gbm':\n",
    "    y_caco_test = (gbm.predict(Xtest) >= 0.5) * 1\n",
    "else:\n",
    "    y_caco_test = best_m.predict(Xtest)\n",
    "adm_test_src['MN'] = y_caco_test\n",
    "y_caco_test.shape,y_caco_test"
   ]
  },
  {
   "cell_type": "markdown",
   "id": "eb98cb48",
   "metadata": {},
   "source": [
    "### 写入文件的test sheet"
   ]
  },
  {
   "cell_type": "code",
   "execution_count": 165,
   "id": "c7fb1b07",
   "metadata": {
    "ExecuteTime": {
     "end_time": "2021-10-16T09:24:58.412186Z",
     "start_time": "2021-10-16T09:24:58.396299Z"
    },
    "scrolled": true
   },
   "outputs": [
    {
     "data": {
      "text/html": [
       "<div>\n",
       "<style scoped>\n",
       "    .dataframe tbody tr th:only-of-type {\n",
       "        vertical-align: middle;\n",
       "    }\n",
       "\n",
       "    .dataframe tbody tr th {\n",
       "        vertical-align: top;\n",
       "    }\n",
       "\n",
       "    .dataframe thead th {\n",
       "        text-align: right;\n",
       "    }\n",
       "</style>\n",
       "<table border=\"1\" class=\"dataframe\">\n",
       "  <thead>\n",
       "    <tr style=\"text-align: right;\">\n",
       "      <th></th>\n",
       "      <th>SMILES</th>\n",
       "      <th>Caco-2</th>\n",
       "      <th>CYP3A4</th>\n",
       "      <th>hERG</th>\n",
       "      <th>HOB</th>\n",
       "      <th>MN</th>\n",
       "    </tr>\n",
       "  </thead>\n",
       "  <tbody>\n",
       "    <tr>\n",
       "      <th>0</th>\n",
       "      <td>COc1cc(OC)cc(\\C=C\\c2ccc(OS(=O)(=O)[C@@H]3C[C@@...</td>\n",
       "      <td>0</td>\n",
       "      <td>1</td>\n",
       "      <td>1</td>\n",
       "      <td>0</td>\n",
       "      <td>1</td>\n",
       "    </tr>\n",
       "    <tr>\n",
       "      <th>1</th>\n",
       "      <td>OC(=O)\\C=C\\c1ccc(cc1)C2=C(CCOc3ccccc23)c4ccc(O...</td>\n",
       "      <td>0</td>\n",
       "      <td>1</td>\n",
       "      <td>1</td>\n",
       "      <td>0</td>\n",
       "      <td>1</td>\n",
       "    </tr>\n",
       "    <tr>\n",
       "      <th>2</th>\n",
       "      <td>COc1ccc2C(=C(CCOc2c1)c3ccc(O)cc3)c4ccc(\\C=C\\C(...</td>\n",
       "      <td>0</td>\n",
       "      <td>1</td>\n",
       "      <td>1</td>\n",
       "      <td>0</td>\n",
       "      <td>1</td>\n",
       "    </tr>\n",
       "    <tr>\n",
       "      <th>3</th>\n",
       "      <td>OC(=O)\\C=C\\c1ccc(cc1)C2=C(CCOc3cc(F)ccc23)c4cc...</td>\n",
       "      <td>0</td>\n",
       "      <td>1</td>\n",
       "      <td>1</td>\n",
       "      <td>0</td>\n",
       "      <td>1</td>\n",
       "    </tr>\n",
       "    <tr>\n",
       "      <th>4</th>\n",
       "      <td>OC(=O)\\C=C\\c1ccc(cc1)C2=C(CCSc3cc(F)ccc23)c4cc...</td>\n",
       "      <td>0</td>\n",
       "      <td>1</td>\n",
       "      <td>1</td>\n",
       "      <td>0</td>\n",
       "      <td>1</td>\n",
       "    </tr>\n",
       "    <tr>\n",
       "      <th>5</th>\n",
       "      <td>CC(=O)\\C=C\\c1ccc(cc1)C2=C(CCOc3cc(F)ccc23)c4cc...</td>\n",
       "      <td>0</td>\n",
       "      <td>1</td>\n",
       "      <td>1</td>\n",
       "      <td>0</td>\n",
       "      <td>1</td>\n",
       "    </tr>\n",
       "    <tr>\n",
       "      <th>6</th>\n",
       "      <td>Oc1ccc(cc1)C2=C(c3ccc(\\C=C\\c4ccccc4)cc3)c5ccc(...</td>\n",
       "      <td>0</td>\n",
       "      <td>1</td>\n",
       "      <td>1</td>\n",
       "      <td>0</td>\n",
       "      <td>0</td>\n",
       "    </tr>\n",
       "    <tr>\n",
       "      <th>7</th>\n",
       "      <td>Oc1ccc(cc1)C2=C(c3ccc(\\C=C\\C(=O)c4ccccc4)cc3)c...</td>\n",
       "      <td>0</td>\n",
       "      <td>1</td>\n",
       "      <td>1</td>\n",
       "      <td>0</td>\n",
       "      <td>1</td>\n",
       "    </tr>\n",
       "    <tr>\n",
       "      <th>8</th>\n",
       "      <td>OC(=O)\\C=C\\C=C\\c1ccc(cc1)C2=C(CCOc3cc(F)ccc23)...</td>\n",
       "      <td>0</td>\n",
       "      <td>1</td>\n",
       "      <td>1</td>\n",
       "      <td>0</td>\n",
       "      <td>1</td>\n",
       "    </tr>\n",
       "    <tr>\n",
       "      <th>9</th>\n",
       "      <td>CCN(CC)C(=O)\\C=C\\c1ccc(cc1)C2=C(CCOc3cc(F)ccc2...</td>\n",
       "      <td>0</td>\n",
       "      <td>1</td>\n",
       "      <td>1</td>\n",
       "      <td>0</td>\n",
       "      <td>1</td>\n",
       "    </tr>\n",
       "    <tr>\n",
       "      <th>10</th>\n",
       "      <td>Oc1ccc(cc1)C2=C(c3ccc(\\C=C\\C(=O)N4CCCC4)cc3)c5...</td>\n",
       "      <td>0</td>\n",
       "      <td>1</td>\n",
       "      <td>1</td>\n",
       "      <td>0</td>\n",
       "      <td>1</td>\n",
       "    </tr>\n",
       "    <tr>\n",
       "      <th>11</th>\n",
       "      <td>CCN(CC)CCNC(=O)\\C=C\\c1ccc(cc1)C2=C(CCOc3cc(F)c...</td>\n",
       "      <td>0</td>\n",
       "      <td>1</td>\n",
       "      <td>1</td>\n",
       "      <td>0</td>\n",
       "      <td>1</td>\n",
       "    </tr>\n",
       "    <tr>\n",
       "      <th>12</th>\n",
       "      <td>Oc1ccc(cc1)C2=C(c3ccc(\\C=C\\C(=O)N4CCNCC4)cc3)c...</td>\n",
       "      <td>0</td>\n",
       "      <td>1</td>\n",
       "      <td>1</td>\n",
       "      <td>0</td>\n",
       "      <td>1</td>\n",
       "    </tr>\n",
       "    <tr>\n",
       "      <th>13</th>\n",
       "      <td>CN1CCN(CC1)C(=O)\\C=C\\c2ccc(cc2)C3=C(CCOc4cc(F)...</td>\n",
       "      <td>0</td>\n",
       "      <td>1</td>\n",
       "      <td>1</td>\n",
       "      <td>0</td>\n",
       "      <td>1</td>\n",
       "    </tr>\n",
       "    <tr>\n",
       "      <th>14</th>\n",
       "      <td>Oc1ccc(cc1)C2=C(c3ccc(\\C=C\\C(=O)N4CCN(Cc5ccccc...</td>\n",
       "      <td>0</td>\n",
       "      <td>1</td>\n",
       "      <td>1</td>\n",
       "      <td>0</td>\n",
       "      <td>1</td>\n",
       "    </tr>\n",
       "    <tr>\n",
       "      <th>15</th>\n",
       "      <td>Cc1ccc(cc1)N2CCN(CC2)C(=O)\\C=C\\c3ccc(cc3)C4=C(...</td>\n",
       "      <td>0</td>\n",
       "      <td>1</td>\n",
       "      <td>1</td>\n",
       "      <td>0</td>\n",
       "      <td>1</td>\n",
       "    </tr>\n",
       "    <tr>\n",
       "      <th>16</th>\n",
       "      <td>Oc1ccc(cc1)C2=C(c3ccc(\\C=C\\C(=O)Nc4ccccc4)cc3)...</td>\n",
       "      <td>0</td>\n",
       "      <td>1</td>\n",
       "      <td>1</td>\n",
       "      <td>0</td>\n",
       "      <td>1</td>\n",
       "    </tr>\n",
       "    <tr>\n",
       "      <th>17</th>\n",
       "      <td>OC(=O)COc1ccc(cc1)C2=C(CCOc3cc(F)ccc23)c4ccc(O...</td>\n",
       "      <td>0</td>\n",
       "      <td>1</td>\n",
       "      <td>1</td>\n",
       "      <td>0</td>\n",
       "      <td>1</td>\n",
       "    </tr>\n",
       "    <tr>\n",
       "      <th>18</th>\n",
       "      <td>Oc1ccc(cc1)C2=C(c3ccc(C=O)cc3)c4ccc(F)cc4OCC2</td>\n",
       "      <td>0</td>\n",
       "      <td>1</td>\n",
       "      <td>0</td>\n",
       "      <td>0</td>\n",
       "      <td>1</td>\n",
       "    </tr>\n",
       "    <tr>\n",
       "      <th>19</th>\n",
       "      <td>CCC(=C(c1ccc(O)cc1)c2ccc(\\C=C\\C(=O)O)cc2)c3ccccc3</td>\n",
       "      <td>0</td>\n",
       "      <td>0</td>\n",
       "      <td>1</td>\n",
       "      <td>0</td>\n",
       "      <td>1</td>\n",
       "    </tr>\n",
       "    <tr>\n",
       "      <th>20</th>\n",
       "      <td>OC(=O)CCCOc1ccc(cc1)C2=C(CCOc3cc(F)ccc23)c4ccc...</td>\n",
       "      <td>0</td>\n",
       "      <td>1</td>\n",
       "      <td>1</td>\n",
       "      <td>0</td>\n",
       "      <td>0</td>\n",
       "    </tr>\n",
       "    <tr>\n",
       "      <th>21</th>\n",
       "      <td>COc1ccc2C(=C(CCOc2c1)c3ccc(O)cc3)c4ccc(OCC(=O)...</td>\n",
       "      <td>0</td>\n",
       "      <td>1</td>\n",
       "      <td>1</td>\n",
       "      <td>0</td>\n",
       "      <td>0</td>\n",
       "    </tr>\n",
       "    <tr>\n",
       "      <th>22</th>\n",
       "      <td>CCCC(CCC)(c1ccc(O)c(C)c1)c2cccs2</td>\n",
       "      <td>0</td>\n",
       "      <td>0</td>\n",
       "      <td>1</td>\n",
       "      <td>0</td>\n",
       "      <td>0</td>\n",
       "    </tr>\n",
       "    <tr>\n",
       "      <th>23</th>\n",
       "      <td>CCCC(CCC)(c1ccc(O)c(C)c1)c2cc(C)cs2</td>\n",
       "      <td>0</td>\n",
       "      <td>0</td>\n",
       "      <td>1</td>\n",
       "      <td>1</td>\n",
       "      <td>0</td>\n",
       "    </tr>\n",
       "    <tr>\n",
       "      <th>24</th>\n",
       "      <td>CCCC(CCC)(c1ccc(O)c(C)c1)c2ccc([nH]2)C(=O)OCC</td>\n",
       "      <td>0</td>\n",
       "      <td>0</td>\n",
       "      <td>1</td>\n",
       "      <td>0</td>\n",
       "      <td>0</td>\n",
       "    </tr>\n",
       "    <tr>\n",
       "      <th>25</th>\n",
       "      <td>CCCC(CCC)(c1ccc(O)c(C)c1)c2ccc(C(=O)OCC)n2C</td>\n",
       "      <td>0</td>\n",
       "      <td>1</td>\n",
       "      <td>1</td>\n",
       "      <td>1</td>\n",
       "      <td>0</td>\n",
       "    </tr>\n",
       "    <tr>\n",
       "      <th>26</th>\n",
       "      <td>CCCC(CCC)(c1ccc(O)c(C)c1)c2c[nH]c3cc(OCc4ccccc...</td>\n",
       "      <td>0</td>\n",
       "      <td>1</td>\n",
       "      <td>1</td>\n",
       "      <td>0</td>\n",
       "      <td>0</td>\n",
       "    </tr>\n",
       "    <tr>\n",
       "      <th>27</th>\n",
       "      <td>Oc1ccc(cc1)c2nc(Cl)c(c(Oc3ccc(OCCN4CCCC4)cc3)n...</td>\n",
       "      <td>0</td>\n",
       "      <td>1</td>\n",
       "      <td>1</td>\n",
       "      <td>0</td>\n",
       "      <td>1</td>\n",
       "    </tr>\n",
       "    <tr>\n",
       "      <th>28</th>\n",
       "      <td>CN(C)CCOc1ccc(Nc2nc(nc(Cl)c2c3ccccc3)c4ccc(O)c...</td>\n",
       "      <td>0</td>\n",
       "      <td>1</td>\n",
       "      <td>1</td>\n",
       "      <td>0</td>\n",
       "      <td>1</td>\n",
       "    </tr>\n",
       "    <tr>\n",
       "      <th>29</th>\n",
       "      <td>COc1ccc(cc1)c2nc(Cl)c(c(Oc3ccc(OCCN4CCCC4)cc3)...</td>\n",
       "      <td>0</td>\n",
       "      <td>1</td>\n",
       "      <td>1</td>\n",
       "      <td>1</td>\n",
       "      <td>1</td>\n",
       "    </tr>\n",
       "    <tr>\n",
       "      <th>30</th>\n",
       "      <td>COc1ccc(cc1)c2nc(Cl)cc(Oc3ccc(OCCN4CCCC4)cc3)n2</td>\n",
       "      <td>0</td>\n",
       "      <td>1</td>\n",
       "      <td>1</td>\n",
       "      <td>1</td>\n",
       "      <td>1</td>\n",
       "    </tr>\n",
       "    <tr>\n",
       "      <th>31</th>\n",
       "      <td>CCN(CC)CCOc1ccc(Oc2cc(Cl)nc(n2)c3ccc(OC)cc3)cc1</td>\n",
       "      <td>0</td>\n",
       "      <td>1</td>\n",
       "      <td>1</td>\n",
       "      <td>1</td>\n",
       "      <td>1</td>\n",
       "    </tr>\n",
       "    <tr>\n",
       "      <th>32</th>\n",
       "      <td>COc1ccc(cc1)c2nc(Cl)cc(Oc3ccc(OCCN(C)C)cc3)n2</td>\n",
       "      <td>0</td>\n",
       "      <td>1</td>\n",
       "      <td>1</td>\n",
       "      <td>1</td>\n",
       "      <td>1</td>\n",
       "    </tr>\n",
       "    <tr>\n",
       "      <th>33</th>\n",
       "      <td>CCN(CC)CCOc1ccc(Nc2cc(Cl)nc(n2)c3ccc(OC)cc3)cc1</td>\n",
       "      <td>0</td>\n",
       "      <td>1</td>\n",
       "      <td>1</td>\n",
       "      <td>1</td>\n",
       "      <td>1</td>\n",
       "    </tr>\n",
       "    <tr>\n",
       "      <th>34</th>\n",
       "      <td>COc1ccc(cc1)c2nc(Cl)cc(Nc3ccc(NC(=O)CN4CCCC4)c...</td>\n",
       "      <td>0</td>\n",
       "      <td>1</td>\n",
       "      <td>1</td>\n",
       "      <td>1</td>\n",
       "      <td>1</td>\n",
       "    </tr>\n",
       "    <tr>\n",
       "      <th>35</th>\n",
       "      <td>CO[C@H]1C[C@H](C)CC2=C(NC\\C=C\\CCC[C@@H]3C[C@H]...</td>\n",
       "      <td>0</td>\n",
       "      <td>1</td>\n",
       "      <td>0</td>\n",
       "      <td>0</td>\n",
       "      <td>1</td>\n",
       "    </tr>\n",
       "    <tr>\n",
       "      <th>36</th>\n",
       "      <td>CO[C@H]1C[C@H](C)CC2=C(NCC#CCC[C@@H]3C[C@H]4[C...</td>\n",
       "      <td>0</td>\n",
       "      <td>1</td>\n",
       "      <td>0</td>\n",
       "      <td>0</td>\n",
       "      <td>1</td>\n",
       "    </tr>\n",
       "    <tr>\n",
       "      <th>37</th>\n",
       "      <td>C[C@]12CC[C@H]3[C@@H](CCc4cc(O)ccc34)[C@@H]1CC...</td>\n",
       "      <td>0</td>\n",
       "      <td>1</td>\n",
       "      <td>1</td>\n",
       "      <td>0</td>\n",
       "      <td>0</td>\n",
       "    </tr>\n",
       "    <tr>\n",
       "      <th>38</th>\n",
       "      <td>CC(C)C[C@H](NC(=O)[C@](C)(CCCC=C)NC(=O)[C@H](C...</td>\n",
       "      <td>0</td>\n",
       "      <td>1</td>\n",
       "      <td>0</td>\n",
       "      <td>0</td>\n",
       "      <td>1</td>\n",
       "    </tr>\n",
       "    <tr>\n",
       "      <th>39</th>\n",
       "      <td>CC(C)C[C@H](NC(=O)[C@]1(C)CCC\\C=C/CCC[C@](C)(N...</td>\n",
       "      <td>0</td>\n",
       "      <td>1</td>\n",
       "      <td>0</td>\n",
       "      <td>0</td>\n",
       "      <td>1</td>\n",
       "    </tr>\n",
       "    <tr>\n",
       "      <th>40</th>\n",
       "      <td>CC(C)C[C@H](NC(=O)[C@]1(C)CCC\\C=C/C[C@@H](C)C[...</td>\n",
       "      <td>0</td>\n",
       "      <td>1</td>\n",
       "      <td>0</td>\n",
       "      <td>0</td>\n",
       "      <td>1</td>\n",
       "    </tr>\n",
       "    <tr>\n",
       "      <th>41</th>\n",
       "      <td>CC(C)C[C@H](NC(=O)[C@]1(C)C[C@H](C)C\\C=C/CCC[C...</td>\n",
       "      <td>0</td>\n",
       "      <td>1</td>\n",
       "      <td>0</td>\n",
       "      <td>0</td>\n",
       "      <td>1</td>\n",
       "    </tr>\n",
       "    <tr>\n",
       "      <th>42</th>\n",
       "      <td>CC(C)C[C@H](NC(=O)[C@]1(C)CCC\\C=C/CCC[C@](C)(N...</td>\n",
       "      <td>0</td>\n",
       "      <td>1</td>\n",
       "      <td>0</td>\n",
       "      <td>0</td>\n",
       "      <td>1</td>\n",
       "    </tr>\n",
       "    <tr>\n",
       "      <th>43</th>\n",
       "      <td>CC[C@H](C)[C@H](NC(=O)[C@H](CCCCN)NC(=O)[C@H](...</td>\n",
       "      <td>0</td>\n",
       "      <td>1</td>\n",
       "      <td>0</td>\n",
       "      <td>0</td>\n",
       "      <td>1</td>\n",
       "    </tr>\n",
       "    <tr>\n",
       "      <th>44</th>\n",
       "      <td>CC(C)C[C@H](NC(=O)[C@]1(C)CCC\\C=C/C[C@H](C)C[C...</td>\n",
       "      <td>0</td>\n",
       "      <td>1</td>\n",
       "      <td>0</td>\n",
       "      <td>0</td>\n",
       "      <td>1</td>\n",
       "    </tr>\n",
       "    <tr>\n",
       "      <th>45</th>\n",
       "      <td>CC\\C(=C(/c1ccc(O)cc1)\\c2ccc(OCCN(C)C)cc2)\\c3cc...</td>\n",
       "      <td>0</td>\n",
       "      <td>1</td>\n",
       "      <td>1</td>\n",
       "      <td>0</td>\n",
       "      <td>1</td>\n",
       "    </tr>\n",
       "    <tr>\n",
       "      <th>46</th>\n",
       "      <td>CC\\C(=C(/c1ccc(O)cc1)\\c2ccc(OCCN(C)C)cc2)\\c3cc...</td>\n",
       "      <td>0</td>\n",
       "      <td>1</td>\n",
       "      <td>1</td>\n",
       "      <td>0</td>\n",
       "      <td>1</td>\n",
       "    </tr>\n",
       "    <tr>\n",
       "      <th>47</th>\n",
       "      <td>CC\\C(=C(/c1ccc(O)cc1)\\c2ccc(OCCN(C)C)cc2)\\c3cc...</td>\n",
       "      <td>0</td>\n",
       "      <td>1</td>\n",
       "      <td>1</td>\n",
       "      <td>0</td>\n",
       "      <td>1</td>\n",
       "    </tr>\n",
       "    <tr>\n",
       "      <th>48</th>\n",
       "      <td>CC\\C(=C(/c1ccc(O)cc1)\\c2ccc(OCCN(C)C)cc2)\\c3cc...</td>\n",
       "      <td>0</td>\n",
       "      <td>1</td>\n",
       "      <td>1</td>\n",
       "      <td>0</td>\n",
       "      <td>1</td>\n",
       "    </tr>\n",
       "    <tr>\n",
       "      <th>49</th>\n",
       "      <td>CCC(=C(c1ccc(O)cc1)c2ccc(OCCN3CCCC3)cc2)Cc4ccccc4</td>\n",
       "      <td>0</td>\n",
       "      <td>1</td>\n",
       "      <td>1</td>\n",
       "      <td>0</td>\n",
       "      <td>0</td>\n",
       "    </tr>\n",
       "  </tbody>\n",
       "</table>\n",
       "</div>"
      ],
      "text/plain": [
       "                                               SMILES  Caco-2  CYP3A4  hERG  \\\n",
       "0   COc1cc(OC)cc(\\C=C\\c2ccc(OS(=O)(=O)[C@@H]3C[C@@...       0       1     1   \n",
       "1   OC(=O)\\C=C\\c1ccc(cc1)C2=C(CCOc3ccccc23)c4ccc(O...       0       1     1   \n",
       "2   COc1ccc2C(=C(CCOc2c1)c3ccc(O)cc3)c4ccc(\\C=C\\C(...       0       1     1   \n",
       "3   OC(=O)\\C=C\\c1ccc(cc1)C2=C(CCOc3cc(F)ccc23)c4cc...       0       1     1   \n",
       "4   OC(=O)\\C=C\\c1ccc(cc1)C2=C(CCSc3cc(F)ccc23)c4cc...       0       1     1   \n",
       "5   CC(=O)\\C=C\\c1ccc(cc1)C2=C(CCOc3cc(F)ccc23)c4cc...       0       1     1   \n",
       "6   Oc1ccc(cc1)C2=C(c3ccc(\\C=C\\c4ccccc4)cc3)c5ccc(...       0       1     1   \n",
       "7   Oc1ccc(cc1)C2=C(c3ccc(\\C=C\\C(=O)c4ccccc4)cc3)c...       0       1     1   \n",
       "8   OC(=O)\\C=C\\C=C\\c1ccc(cc1)C2=C(CCOc3cc(F)ccc23)...       0       1     1   \n",
       "9   CCN(CC)C(=O)\\C=C\\c1ccc(cc1)C2=C(CCOc3cc(F)ccc2...       0       1     1   \n",
       "10  Oc1ccc(cc1)C2=C(c3ccc(\\C=C\\C(=O)N4CCCC4)cc3)c5...       0       1     1   \n",
       "11  CCN(CC)CCNC(=O)\\C=C\\c1ccc(cc1)C2=C(CCOc3cc(F)c...       0       1     1   \n",
       "12  Oc1ccc(cc1)C2=C(c3ccc(\\C=C\\C(=O)N4CCNCC4)cc3)c...       0       1     1   \n",
       "13  CN1CCN(CC1)C(=O)\\C=C\\c2ccc(cc2)C3=C(CCOc4cc(F)...       0       1     1   \n",
       "14  Oc1ccc(cc1)C2=C(c3ccc(\\C=C\\C(=O)N4CCN(Cc5ccccc...       0       1     1   \n",
       "15  Cc1ccc(cc1)N2CCN(CC2)C(=O)\\C=C\\c3ccc(cc3)C4=C(...       0       1     1   \n",
       "16  Oc1ccc(cc1)C2=C(c3ccc(\\C=C\\C(=O)Nc4ccccc4)cc3)...       0       1     1   \n",
       "17  OC(=O)COc1ccc(cc1)C2=C(CCOc3cc(F)ccc23)c4ccc(O...       0       1     1   \n",
       "18      Oc1ccc(cc1)C2=C(c3ccc(C=O)cc3)c4ccc(F)cc4OCC2       0       1     0   \n",
       "19  CCC(=C(c1ccc(O)cc1)c2ccc(\\C=C\\C(=O)O)cc2)c3ccccc3       0       0     1   \n",
       "20  OC(=O)CCCOc1ccc(cc1)C2=C(CCOc3cc(F)ccc23)c4ccc...       0       1     1   \n",
       "21  COc1ccc2C(=C(CCOc2c1)c3ccc(O)cc3)c4ccc(OCC(=O)...       0       1     1   \n",
       "22                   CCCC(CCC)(c1ccc(O)c(C)c1)c2cccs2       0       0     1   \n",
       "23                CCCC(CCC)(c1ccc(O)c(C)c1)c2cc(C)cs2       0       0     1   \n",
       "24      CCCC(CCC)(c1ccc(O)c(C)c1)c2ccc([nH]2)C(=O)OCC       0       0     1   \n",
       "25        CCCC(CCC)(c1ccc(O)c(C)c1)c2ccc(C(=O)OCC)n2C       0       1     1   \n",
       "26  CCCC(CCC)(c1ccc(O)c(C)c1)c2c[nH]c3cc(OCc4ccccc...       0       1     1   \n",
       "27  Oc1ccc(cc1)c2nc(Cl)c(c(Oc3ccc(OCCN4CCCC4)cc3)n...       0       1     1   \n",
       "28  CN(C)CCOc1ccc(Nc2nc(nc(Cl)c2c3ccccc3)c4ccc(O)c...       0       1     1   \n",
       "29  COc1ccc(cc1)c2nc(Cl)c(c(Oc3ccc(OCCN4CCCC4)cc3)...       0       1     1   \n",
       "30    COc1ccc(cc1)c2nc(Cl)cc(Oc3ccc(OCCN4CCCC4)cc3)n2       0       1     1   \n",
       "31    CCN(CC)CCOc1ccc(Oc2cc(Cl)nc(n2)c3ccc(OC)cc3)cc1       0       1     1   \n",
       "32      COc1ccc(cc1)c2nc(Cl)cc(Oc3ccc(OCCN(C)C)cc3)n2       0       1     1   \n",
       "33    CCN(CC)CCOc1ccc(Nc2cc(Cl)nc(n2)c3ccc(OC)cc3)cc1       0       1     1   \n",
       "34  COc1ccc(cc1)c2nc(Cl)cc(Nc3ccc(NC(=O)CN4CCCC4)c...       0       1     1   \n",
       "35  CO[C@H]1C[C@H](C)CC2=C(NC\\C=C\\CCC[C@@H]3C[C@H]...       0       1     0   \n",
       "36  CO[C@H]1C[C@H](C)CC2=C(NCC#CCC[C@@H]3C[C@H]4[C...       0       1     0   \n",
       "37  C[C@]12CC[C@H]3[C@@H](CCc4cc(O)ccc34)[C@@H]1CC...       0       1     1   \n",
       "38  CC(C)C[C@H](NC(=O)[C@](C)(CCCC=C)NC(=O)[C@H](C...       0       1     0   \n",
       "39  CC(C)C[C@H](NC(=O)[C@]1(C)CCC\\C=C/CCC[C@](C)(N...       0       1     0   \n",
       "40  CC(C)C[C@H](NC(=O)[C@]1(C)CCC\\C=C/C[C@@H](C)C[...       0       1     0   \n",
       "41  CC(C)C[C@H](NC(=O)[C@]1(C)C[C@H](C)C\\C=C/CCC[C...       0       1     0   \n",
       "42  CC(C)C[C@H](NC(=O)[C@]1(C)CCC\\C=C/CCC[C@](C)(N...       0       1     0   \n",
       "43  CC[C@H](C)[C@H](NC(=O)[C@H](CCCCN)NC(=O)[C@H](...       0       1     0   \n",
       "44  CC(C)C[C@H](NC(=O)[C@]1(C)CCC\\C=C/C[C@H](C)C[C...       0       1     0   \n",
       "45  CC\\C(=C(/c1ccc(O)cc1)\\c2ccc(OCCN(C)C)cc2)\\c3cc...       0       1     1   \n",
       "46  CC\\C(=C(/c1ccc(O)cc1)\\c2ccc(OCCN(C)C)cc2)\\c3cc...       0       1     1   \n",
       "47  CC\\C(=C(/c1ccc(O)cc1)\\c2ccc(OCCN(C)C)cc2)\\c3cc...       0       1     1   \n",
       "48  CC\\C(=C(/c1ccc(O)cc1)\\c2ccc(OCCN(C)C)cc2)\\c3cc...       0       1     1   \n",
       "49  CCC(=C(c1ccc(O)cc1)c2ccc(OCCN3CCCC3)cc2)Cc4ccccc4       0       1     1   \n",
       "\n",
       "    HOB  MN  \n",
       "0     0   1  \n",
       "1     0   1  \n",
       "2     0   1  \n",
       "3     0   1  \n",
       "4     0   1  \n",
       "5     0   1  \n",
       "6     0   0  \n",
       "7     0   1  \n",
       "8     0   1  \n",
       "9     0   1  \n",
       "10    0   1  \n",
       "11    0   1  \n",
       "12    0   1  \n",
       "13    0   1  \n",
       "14    0   1  \n",
       "15    0   1  \n",
       "16    0   1  \n",
       "17    0   1  \n",
       "18    0   1  \n",
       "19    0   1  \n",
       "20    0   0  \n",
       "21    0   0  \n",
       "22    0   0  \n",
       "23    1   0  \n",
       "24    0   0  \n",
       "25    1   0  \n",
       "26    0   0  \n",
       "27    0   1  \n",
       "28    0   1  \n",
       "29    1   1  \n",
       "30    1   1  \n",
       "31    1   1  \n",
       "32    1   1  \n",
       "33    1   1  \n",
       "34    1   1  \n",
       "35    0   1  \n",
       "36    0   1  \n",
       "37    0   0  \n",
       "38    0   1  \n",
       "39    0   1  \n",
       "40    0   1  \n",
       "41    0   1  \n",
       "42    0   1  \n",
       "43    0   1  \n",
       "44    0   1  \n",
       "45    0   1  \n",
       "46    0   1  \n",
       "47    0   1  \n",
       "48    0   1  \n",
       "49    0   0  "
      ]
     },
     "execution_count": 165,
     "metadata": {},
     "output_type": "execute_result"
    }
   ],
   "source": [
    "adm_test_src"
   ]
  },
  {
   "cell_type": "code",
   "execution_count": 169,
   "id": "49b79411",
   "metadata": {
    "ExecuteTime": {
     "end_time": "2021-10-16T09:26:31.575101Z",
     "start_time": "2021-10-16T09:26:31.535488Z"
    }
   },
   "outputs": [
    {
     "data": {
      "text/html": [
       "<div>\n",
       "<style scoped>\n",
       "    .dataframe tbody tr th:only-of-type {\n",
       "        vertical-align: middle;\n",
       "    }\n",
       "\n",
       "    .dataframe tbody tr th {\n",
       "        vertical-align: top;\n",
       "    }\n",
       "\n",
       "    .dataframe thead th {\n",
       "        text-align: right;\n",
       "    }\n",
       "</style>\n",
       "<table border=\"1\" class=\"dataframe\">\n",
       "  <thead>\n",
       "    <tr style=\"text-align: right;\">\n",
       "      <th></th>\n",
       "      <th>SMILES</th>\n",
       "      <th>Caco-2</th>\n",
       "      <th>CYP3A4</th>\n",
       "      <th>hERG</th>\n",
       "      <th>HOB</th>\n",
       "      <th>MN</th>\n",
       "    </tr>\n",
       "  </thead>\n",
       "  <tbody>\n",
       "    <tr>\n",
       "      <th>0</th>\n",
       "      <td>COc1cc(OC)cc(\\C=C\\c2ccc(OS(=O)(=O)[C@@H]3C[C@@...</td>\n",
       "      <td>0</td>\n",
       "      <td>1</td>\n",
       "      <td>1</td>\n",
       "      <td>0</td>\n",
       "      <td>1</td>\n",
       "    </tr>\n",
       "    <tr>\n",
       "      <th>1</th>\n",
       "      <td>OC(=O)\\C=C\\c1ccc(cc1)C2=C(CCOc3ccccc23)c4ccc(O...</td>\n",
       "      <td>0</td>\n",
       "      <td>1</td>\n",
       "      <td>1</td>\n",
       "      <td>0</td>\n",
       "      <td>1</td>\n",
       "    </tr>\n",
       "    <tr>\n",
       "      <th>2</th>\n",
       "      <td>COc1ccc2C(=C(CCOc2c1)c3ccc(O)cc3)c4ccc(\\C=C\\C(...</td>\n",
       "      <td>0</td>\n",
       "      <td>1</td>\n",
       "      <td>1</td>\n",
       "      <td>0</td>\n",
       "      <td>1</td>\n",
       "    </tr>\n",
       "    <tr>\n",
       "      <th>3</th>\n",
       "      <td>OC(=O)\\C=C\\c1ccc(cc1)C2=C(CCOc3cc(F)ccc23)c4cc...</td>\n",
       "      <td>0</td>\n",
       "      <td>1</td>\n",
       "      <td>1</td>\n",
       "      <td>0</td>\n",
       "      <td>1</td>\n",
       "    </tr>\n",
       "    <tr>\n",
       "      <th>4</th>\n",
       "      <td>OC(=O)\\C=C\\c1ccc(cc1)C2=C(CCSc3cc(F)ccc23)c4cc...</td>\n",
       "      <td>0</td>\n",
       "      <td>1</td>\n",
       "      <td>1</td>\n",
       "      <td>0</td>\n",
       "      <td>1</td>\n",
       "    </tr>\n",
       "  </tbody>\n",
       "</table>\n",
       "</div>"
      ],
      "text/plain": [
       "                                              SMILES  Caco-2  CYP3A4  hERG  \\\n",
       "0  COc1cc(OC)cc(\\C=C\\c2ccc(OS(=O)(=O)[C@@H]3C[C@@...       0       1     1   \n",
       "1  OC(=O)\\C=C\\c1ccc(cc1)C2=C(CCOc3ccccc23)c4ccc(O...       0       1     1   \n",
       "2  COc1ccc2C(=C(CCOc2c1)c3ccc(O)cc3)c4ccc(\\C=C\\C(...       0       1     1   \n",
       "3  OC(=O)\\C=C\\c1ccc(cc1)C2=C(CCOc3cc(F)ccc23)c4cc...       0       1     1   \n",
       "4  OC(=O)\\C=C\\c1ccc(cc1)C2=C(CCSc3cc(F)ccc23)c4cc...       0       1     1   \n",
       "\n",
       "   HOB  MN  \n",
       "0    0   1  \n",
       "1    0   1  \n",
       "2    0   1  \n",
       "3    0   1  \n",
       "4    0   1  "
      ]
     },
     "execution_count": 169,
     "metadata": {},
     "output_type": "execute_result"
    }
   ],
   "source": [
    "adm_test_src.to_excel('ADMET_bp.xlsx',sheet_name='test',index=False)\n",
    "adm_read_src = pd.read_excel('ADMET_bp.xlsx')\n",
    "adm_read_src.head()"
   ]
  },
  {
   "cell_type": "code",
   "execution_count": null,
   "id": "5c12945c",
   "metadata": {},
   "outputs": [],
   "source": []
  },
  {
   "cell_type": "code",
   "execution_count": null,
   "id": "f1922979",
   "metadata": {},
   "outputs": [],
   "source": []
  }
 ],
 "metadata": {
  "kernelspec": {
   "display_name": "prac",
   "language": "python",
   "name": "prac"
  },
  "language_info": {
   "codemirror_mode": {
    "name": "ipython",
    "version": 3
   },
   "file_extension": ".py",
   "mimetype": "text/x-python",
   "name": "python",
   "nbconvert_exporter": "python",
   "pygments_lexer": "ipython3",
   "version": "3.8.11"
  },
  "toc": {
   "base_numbering": 1,
   "nav_menu": {},
   "number_sections": true,
   "sideBar": true,
   "skip_h1_title": false,
   "title_cell": "Table of Contents",
   "title_sidebar": "Contents",
   "toc_cell": false,
   "toc_position": {},
   "toc_section_display": true,
   "toc_window_display": false
  },
  "varInspector": {
   "cols": {
    "lenName": 16,
    "lenType": 16,
    "lenVar": 40
   },
   "kernels_config": {
    "python": {
     "delete_cmd_postfix": "",
     "delete_cmd_prefix": "del ",
     "library": "var_list.py",
     "varRefreshCmd": "print(var_dic_list())"
    },
    "r": {
     "delete_cmd_postfix": ") ",
     "delete_cmd_prefix": "rm(",
     "library": "var_list.r",
     "varRefreshCmd": "cat(var_dic_list()) "
    }
   },
   "types_to_exclude": [
    "module",
    "function",
    "builtin_function_or_method",
    "instance",
    "_Feature"
   ],
   "window_display": false
  }
 },
 "nbformat": 4,
 "nbformat_minor": 5
}
