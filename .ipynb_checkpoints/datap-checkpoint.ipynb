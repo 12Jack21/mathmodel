{
 "cells": [
  {
   "cell_type": "code",
   "execution_count": 1,
   "id": "8ebeb57c",
   "metadata": {
    "ExecuteTime": {
     "end_time": "2021-10-15T16:52:42.356907Z",
     "start_time": "2021-10-15T16:52:40.885872Z"
    }
   },
   "outputs": [],
   "source": [
    "import pandas as pd\n",
    "import numpy as np\n",
    "import sklearn\n",
    "import matplotlib.pyplot as plt\n",
    "%matplotlib inline\n",
    "import seaborn as sns"
   ]
  },
  {
   "cell_type": "markdown",
   "id": "f8e2cdc4",
   "metadata": {},
   "source": [
    "## 导入数据与预处理"
   ]
  },
  {
   "cell_type": "markdown",
   "id": "9d9f68f0",
   "metadata": {},
   "source": [
    "### ERα_activity "
   ]
  },
  {
   "cell_type": "code",
   "execution_count": 2,
   "id": "29f662a6",
   "metadata": {
    "ExecuteTime": {
     "end_time": "2021-10-15T16:52:42.695096Z",
     "start_time": "2021-10-15T16:52:42.374751Z"
    }
   },
   "outputs": [
    {
     "data": {
      "text/html": [
       "<div>\n",
       "<style scoped>\n",
       "    .dataframe tbody tr th:only-of-type {\n",
       "        vertical-align: middle;\n",
       "    }\n",
       "\n",
       "    .dataframe tbody tr th {\n",
       "        vertical-align: top;\n",
       "    }\n",
       "\n",
       "    .dataframe thead th {\n",
       "        text-align: right;\n",
       "    }\n",
       "</style>\n",
       "<table border=\"1\" class=\"dataframe\">\n",
       "  <thead>\n",
       "    <tr style=\"text-align: right;\">\n",
       "      <th></th>\n",
       "      <th>SMILES</th>\n",
       "      <th>IC50_nM</th>\n",
       "      <th>pIC50</th>\n",
       "    </tr>\n",
       "  </thead>\n",
       "  <tbody>\n",
       "    <tr>\n",
       "      <th>0</th>\n",
       "      <td>Oc1ccc2O[C@H]([C@H](Sc2c1)C3CCCC3)c4ccc(OCCN5C...</td>\n",
       "      <td>2.5</td>\n",
       "      <td>8.602060</td>\n",
       "    </tr>\n",
       "    <tr>\n",
       "      <th>1</th>\n",
       "      <td>Oc1ccc2O[C@H]([C@H](Sc2c1)C3CCCCCC3)c4ccc(OCCN...</td>\n",
       "      <td>7.5</td>\n",
       "      <td>8.124939</td>\n",
       "    </tr>\n",
       "    <tr>\n",
       "      <th>2</th>\n",
       "      <td>Oc1ccc(cc1)[C@H]2Sc3cc(O)ccc3O[C@H]2c4ccc(OCCN...</td>\n",
       "      <td>3.1</td>\n",
       "      <td>8.508638</td>\n",
       "    </tr>\n",
       "    <tr>\n",
       "      <th>3</th>\n",
       "      <td>Oc1ccc2O[C@H]([C@@H](CC3CCCCC3)Sc2c1)c4ccc(OCC...</td>\n",
       "      <td>3.9</td>\n",
       "      <td>8.408935</td>\n",
       "    </tr>\n",
       "    <tr>\n",
       "      <th>4</th>\n",
       "      <td>Oc1ccc2O[C@H]([C@@H](Cc3ccccc3)Sc2c1)c4ccc(OCC...</td>\n",
       "      <td>7.4</td>\n",
       "      <td>8.130768</td>\n",
       "    </tr>\n",
       "  </tbody>\n",
       "</table>\n",
       "</div>"
      ],
      "text/plain": [
       "                                              SMILES  IC50_nM     pIC50\n",
       "0  Oc1ccc2O[C@H]([C@H](Sc2c1)C3CCCC3)c4ccc(OCCN5C...      2.5  8.602060\n",
       "1  Oc1ccc2O[C@H]([C@H](Sc2c1)C3CCCCCC3)c4ccc(OCCN...      7.5  8.124939\n",
       "2  Oc1ccc(cc1)[C@H]2Sc3cc(O)ccc3O[C@H]2c4ccc(OCCN...      3.1  8.508638\n",
       "3  Oc1ccc2O[C@H]([C@@H](CC3CCCCC3)Sc2c1)c4ccc(OCC...      3.9  8.408935\n",
       "4  Oc1ccc2O[C@H]([C@@H](Cc3ccccc3)Sc2c1)c4ccc(OCC...      7.4  8.130768"
      ]
     },
     "execution_count": 2,
     "metadata": {},
     "output_type": "execute_result"
    }
   ],
   "source": [
    "era = pd.read_excel('ERα_activity.xlsx')\n",
    "era.head()"
   ]
  },
  {
   "cell_type": "code",
   "execution_count": 3,
   "id": "65ca00d6",
   "metadata": {
    "ExecuteTime": {
     "end_time": "2021-10-15T16:52:42.731248Z",
     "start_time": "2021-10-15T16:52:42.725048Z"
    }
   },
   "outputs": [
    {
     "data": {
      "text/plain": [
       "0    8.602060\n",
       "1    8.124939\n",
       "2    8.508638\n",
       "3    8.408935\n",
       "4    8.130768\n",
       "Name: pIC50, dtype: float64"
      ]
     },
     "execution_count": 3,
     "metadata": {},
     "output_type": "execute_result"
    }
   ],
   "source": [
    "erat = era.drop(columns=['SMILES'])\n",
    "erapi = era['pIC50']\n",
    "erapi.head()"
   ]
  },
  {
   "cell_type": "code",
   "execution_count": 4,
   "id": "b65a4924",
   "metadata": {
    "ExecuteTime": {
     "end_time": "2021-10-15T16:52:42.784191Z",
     "start_time": "2021-10-15T16:52:42.775897Z"
    }
   },
   "outputs": [
    {
     "name": "stdout",
     "output_type": "stream",
     "text": [
      "<class 'pandas.core.frame.DataFrame'>\n",
      "RangeIndex: 1974 entries, 0 to 1973\n",
      "Data columns (total 3 columns):\n",
      " #   Column   Non-Null Count  Dtype  \n",
      "---  ------   --------------  -----  \n",
      " 0   SMILES   1974 non-null   object \n",
      " 1   IC50_nM  1974 non-null   float64\n",
      " 2   pIC50    1974 non-null   float64\n",
      "dtypes: float64(2), object(1)\n",
      "memory usage: 46.4+ KB\n"
     ]
    }
   ],
   "source": [
    "era.info()"
   ]
  },
  {
   "cell_type": "code",
   "execution_count": 5,
   "id": "c14bd9bd",
   "metadata": {
    "ExecuteTime": {
     "end_time": "2021-10-15T16:52:42.839528Z",
     "start_time": "2021-10-15T16:52:42.825717Z"
    }
   },
   "outputs": [
    {
     "data": {
      "text/html": [
       "<div>\n",
       "<style scoped>\n",
       "    .dataframe tbody tr th:only-of-type {\n",
       "        vertical-align: middle;\n",
       "    }\n",
       "\n",
       "    .dataframe tbody tr th {\n",
       "        vertical-align: top;\n",
       "    }\n",
       "\n",
       "    .dataframe thead th {\n",
       "        text-align: right;\n",
       "    }\n",
       "</style>\n",
       "<table border=\"1\" class=\"dataframe\">\n",
       "  <thead>\n",
       "    <tr style=\"text-align: right;\">\n",
       "      <th></th>\n",
       "      <th>IC50_nM</th>\n",
       "      <th>pIC50</th>\n",
       "    </tr>\n",
       "  </thead>\n",
       "  <tbody>\n",
       "    <tr>\n",
       "      <th>count</th>\n",
       "      <td>1.974000e+03</td>\n",
       "      <td>1974.000000</td>\n",
       "    </tr>\n",
       "    <tr>\n",
       "      <th>mean</th>\n",
       "      <td>9.910490e+03</td>\n",
       "      <td>6.586112</td>\n",
       "    </tr>\n",
       "    <tr>\n",
       "      <th>std</th>\n",
       "      <td>1.055204e+05</td>\n",
       "      <td>1.423023</td>\n",
       "    </tr>\n",
       "    <tr>\n",
       "      <th>min</th>\n",
       "      <td>4.600000e-02</td>\n",
       "      <td>2.455932</td>\n",
       "    </tr>\n",
       "    <tr>\n",
       "      <th>25%</th>\n",
       "      <td>2.702500e+01</td>\n",
       "      <td>5.382154</td>\n",
       "    </tr>\n",
       "    <tr>\n",
       "      <th>50%</th>\n",
       "      <td>2.625000e+02</td>\n",
       "      <td>6.580871</td>\n",
       "    </tr>\n",
       "    <tr>\n",
       "      <th>75%</th>\n",
       "      <td>4.148125e+03</td>\n",
       "      <td>7.568235</td>\n",
       "    </tr>\n",
       "    <tr>\n",
       "      <th>max</th>\n",
       "      <td>3.500000e+06</td>\n",
       "      <td>10.337242</td>\n",
       "    </tr>\n",
       "  </tbody>\n",
       "</table>\n",
       "</div>"
      ],
      "text/plain": [
       "            IC50_nM        pIC50\n",
       "count  1.974000e+03  1974.000000\n",
       "mean   9.910490e+03     6.586112\n",
       "std    1.055204e+05     1.423023\n",
       "min    4.600000e-02     2.455932\n",
       "25%    2.702500e+01     5.382154\n",
       "50%    2.625000e+02     6.580871\n",
       "75%    4.148125e+03     7.568235\n",
       "max    3.500000e+06    10.337242"
      ]
     },
     "execution_count": 5,
     "metadata": {},
     "output_type": "execute_result"
    }
   ],
   "source": [
    "era.describe()"
   ]
  },
  {
   "cell_type": "code",
   "execution_count": 6,
   "id": "c6d0329f",
   "metadata": {
    "ExecuteTime": {
     "end_time": "2021-10-15T16:52:45.051597Z",
     "start_time": "2021-10-15T16:52:45.043783Z"
    }
   },
   "outputs": [
    {
     "name": "stdout",
     "output_type": "stream",
     "text": [
      "ERα_activity.xlsx 数据集中异常值个数为0\n"
     ]
    }
   ],
   "source": [
    "print('ERα_activity.xlsx 数据集中异常值个数为{}'.format(era.isnull().any().sum()))"
   ]
  },
  {
   "cell_type": "markdown",
   "id": "1b18ba94",
   "metadata": {},
   "source": [
    "### Molecular_Descriptor"
   ]
  },
  {
   "cell_type": "code",
   "execution_count": 7,
   "id": "3eae36d7",
   "metadata": {
    "ExecuteTime": {
     "end_time": "2021-10-15T16:53:00.882158Z",
     "start_time": "2021-10-15T16:52:45.377786Z"
    }
   },
   "outputs": [],
   "source": [
    "mol = pd.read_excel('Molecular_Descriptor.xlsx')"
   ]
  },
  {
   "cell_type": "code",
   "execution_count": 8,
   "id": "912c6de8",
   "metadata": {
    "ExecuteTime": {
     "end_time": "2021-10-15T16:53:01.030960Z",
     "start_time": "2021-10-15T16:53:01.010918Z"
    }
   },
   "outputs": [
    {
     "data": {
      "text/html": [
       "<div>\n",
       "<style scoped>\n",
       "    .dataframe tbody tr th:only-of-type {\n",
       "        vertical-align: middle;\n",
       "    }\n",
       "\n",
       "    .dataframe tbody tr th {\n",
       "        vertical-align: top;\n",
       "    }\n",
       "\n",
       "    .dataframe thead th {\n",
       "        text-align: right;\n",
       "    }\n",
       "</style>\n",
       "<table border=\"1\" class=\"dataframe\">\n",
       "  <thead>\n",
       "    <tr style=\"text-align: right;\">\n",
       "      <th></th>\n",
       "      <th>SMILES</th>\n",
       "      <th>nAcid</th>\n",
       "      <th>ALogP</th>\n",
       "      <th>ALogp2</th>\n",
       "      <th>AMR</th>\n",
       "      <th>apol</th>\n",
       "      <th>naAromAtom</th>\n",
       "      <th>nAromBond</th>\n",
       "      <th>nAtom</th>\n",
       "      <th>nHeavyAtom</th>\n",
       "      <th>...</th>\n",
       "      <th>MW</th>\n",
       "      <th>WTPT-1</th>\n",
       "      <th>WTPT-2</th>\n",
       "      <th>WTPT-3</th>\n",
       "      <th>WTPT-4</th>\n",
       "      <th>WTPT-5</th>\n",
       "      <th>WPATH</th>\n",
       "      <th>WPOL</th>\n",
       "      <th>XLogP</th>\n",
       "      <th>Zagreb</th>\n",
       "    </tr>\n",
       "  </thead>\n",
       "  <tbody>\n",
       "    <tr>\n",
       "      <th>0</th>\n",
       "      <td>Oc1ccc2O[C@H]([C@H](Sc2c1)C3CCCC3)c4ccc(OCCN5C...</td>\n",
       "      <td>0</td>\n",
       "      <td>-0.2860</td>\n",
       "      <td>0.081796</td>\n",
       "      <td>126.1188</td>\n",
       "      <td>74.170169</td>\n",
       "      <td>12</td>\n",
       "      <td>12</td>\n",
       "      <td>64</td>\n",
       "      <td>31</td>\n",
       "      <td>...</td>\n",
       "      <td>439.218115</td>\n",
       "      <td>64.771680</td>\n",
       "      <td>2.089409</td>\n",
       "      <td>15.471445</td>\n",
       "      <td>8.858910</td>\n",
       "      <td>3.406628</td>\n",
       "      <td>3011</td>\n",
       "      <td>47</td>\n",
       "      <td>4.666</td>\n",
       "      <td>166</td>\n",
       "    </tr>\n",
       "    <tr>\n",
       "      <th>1</th>\n",
       "      <td>Oc1ccc2O[C@H]([C@H](Sc2c1)C3CCCCCC3)c4ccc(OCCN...</td>\n",
       "      <td>0</td>\n",
       "      <td>-0.8620</td>\n",
       "      <td>0.743044</td>\n",
       "      <td>131.9420</td>\n",
       "      <td>80.357341</td>\n",
       "      <td>12</td>\n",
       "      <td>12</td>\n",
       "      <td>70</td>\n",
       "      <td>33</td>\n",
       "      <td>...</td>\n",
       "      <td>467.249415</td>\n",
       "      <td>68.960024</td>\n",
       "      <td>2.089698</td>\n",
       "      <td>15.486947</td>\n",
       "      <td>8.863774</td>\n",
       "      <td>3.406648</td>\n",
       "      <td>3516</td>\n",
       "      <td>54</td>\n",
       "      <td>5.804</td>\n",
       "      <td>174</td>\n",
       "    </tr>\n",
       "    <tr>\n",
       "      <th>2</th>\n",
       "      <td>Oc1ccc(cc1)[C@H]2Sc3cc(O)ccc3O[C@H]2c4ccc(OCCN...</td>\n",
       "      <td>0</td>\n",
       "      <td>0.7296</td>\n",
       "      <td>0.532316</td>\n",
       "      <td>139.9304</td>\n",
       "      <td>74.064997</td>\n",
       "      <td>18</td>\n",
       "      <td>18</td>\n",
       "      <td>62</td>\n",
       "      <td>33</td>\n",
       "      <td>...</td>\n",
       "      <td>463.181729</td>\n",
       "      <td>68.748923</td>\n",
       "      <td>2.083301</td>\n",
       "      <td>18.011114</td>\n",
       "      <td>11.390412</td>\n",
       "      <td>3.406644</td>\n",
       "      <td>3542</td>\n",
       "      <td>52</td>\n",
       "      <td>2.964</td>\n",
       "      <td>176</td>\n",
       "    </tr>\n",
       "    <tr>\n",
       "      <th>3</th>\n",
       "      <td>Oc1ccc2O[C@H]([C@@H](CC3CCCCC3)Sc2c1)c4ccc(OCC...</td>\n",
       "      <td>0</td>\n",
       "      <td>-0.3184</td>\n",
       "      <td>0.101379</td>\n",
       "      <td>133.4822</td>\n",
       "      <td>80.357341</td>\n",
       "      <td>12</td>\n",
       "      <td>12</td>\n",
       "      <td>70</td>\n",
       "      <td>33</td>\n",
       "      <td>...</td>\n",
       "      <td>467.249415</td>\n",
       "      <td>68.883696</td>\n",
       "      <td>2.087385</td>\n",
       "      <td>15.468365</td>\n",
       "      <td>8.857943</td>\n",
       "      <td>3.406624</td>\n",
       "      <td>3594</td>\n",
       "      <td>50</td>\n",
       "      <td>6.015</td>\n",
       "      <td>174</td>\n",
       "    </tr>\n",
       "    <tr>\n",
       "      <th>4</th>\n",
       "      <td>Oc1ccc2O[C@H]([C@@H](Cc3ccccc3)Sc2c1)c4ccc(OCC...</td>\n",
       "      <td>0</td>\n",
       "      <td>1.3551</td>\n",
       "      <td>1.836296</td>\n",
       "      <td>143.1903</td>\n",
       "      <td>76.356583</td>\n",
       "      <td>18</td>\n",
       "      <td>18</td>\n",
       "      <td>64</td>\n",
       "      <td>33</td>\n",
       "      <td>...</td>\n",
       "      <td>461.202465</td>\n",
       "      <td>68.883696</td>\n",
       "      <td>2.087385</td>\n",
       "      <td>15.468365</td>\n",
       "      <td>8.857943</td>\n",
       "      <td>3.406624</td>\n",
       "      <td>3594</td>\n",
       "      <td>50</td>\n",
       "      <td>4.462</td>\n",
       "      <td>174</td>\n",
       "    </tr>\n",
       "  </tbody>\n",
       "</table>\n",
       "<p>5 rows × 730 columns</p>\n",
       "</div>"
      ],
      "text/plain": [
       "                                              SMILES  nAcid   ALogP    ALogp2  \\\n",
       "0  Oc1ccc2O[C@H]([C@H](Sc2c1)C3CCCC3)c4ccc(OCCN5C...      0 -0.2860  0.081796   \n",
       "1  Oc1ccc2O[C@H]([C@H](Sc2c1)C3CCCCCC3)c4ccc(OCCN...      0 -0.8620  0.743044   \n",
       "2  Oc1ccc(cc1)[C@H]2Sc3cc(O)ccc3O[C@H]2c4ccc(OCCN...      0  0.7296  0.532316   \n",
       "3  Oc1ccc2O[C@H]([C@@H](CC3CCCCC3)Sc2c1)c4ccc(OCC...      0 -0.3184  0.101379   \n",
       "4  Oc1ccc2O[C@H]([C@@H](Cc3ccccc3)Sc2c1)c4ccc(OCC...      0  1.3551  1.836296   \n",
       "\n",
       "        AMR       apol  naAromAtom  nAromBond  nAtom  nHeavyAtom  ...  \\\n",
       "0  126.1188  74.170169          12         12     64          31  ...   \n",
       "1  131.9420  80.357341          12         12     70          33  ...   \n",
       "2  139.9304  74.064997          18         18     62          33  ...   \n",
       "3  133.4822  80.357341          12         12     70          33  ...   \n",
       "4  143.1903  76.356583          18         18     64          33  ...   \n",
       "\n",
       "           MW     WTPT-1    WTPT-2     WTPT-3     WTPT-4    WTPT-5  WPATH  \\\n",
       "0  439.218115  64.771680  2.089409  15.471445   8.858910  3.406628   3011   \n",
       "1  467.249415  68.960024  2.089698  15.486947   8.863774  3.406648   3516   \n",
       "2  463.181729  68.748923  2.083301  18.011114  11.390412  3.406644   3542   \n",
       "3  467.249415  68.883696  2.087385  15.468365   8.857943  3.406624   3594   \n",
       "4  461.202465  68.883696  2.087385  15.468365   8.857943  3.406624   3594   \n",
       "\n",
       "   WPOL  XLogP  Zagreb  \n",
       "0    47  4.666     166  \n",
       "1    54  5.804     174  \n",
       "2    52  2.964     176  \n",
       "3    50  6.015     174  \n",
       "4    50  4.462     174  \n",
       "\n",
       "[5 rows x 730 columns]"
      ]
     },
     "execution_count": 8,
     "metadata": {},
     "output_type": "execute_result"
    }
   ],
   "source": [
    "mol.head()"
   ]
  },
  {
   "cell_type": "code",
   "execution_count": 9,
   "id": "c26bae5a",
   "metadata": {
    "ExecuteTime": {
     "end_time": "2021-10-15T16:53:01.127615Z",
     "start_time": "2021-10-15T16:53:01.118337Z"
    }
   },
   "outputs": [],
   "source": [
    "molt = mol.drop(columns=['SMILES'])"
   ]
  },
  {
   "cell_type": "code",
   "execution_count": 11,
   "id": "8d3a0aa4",
   "metadata": {
    "ExecuteTime": {
     "end_time": "2021-10-15T16:53:02.474599Z",
     "start_time": "2021-10-15T16:53:01.442956Z"
    },
    "scrolled": true
   },
   "outputs": [
    {
     "name": "stdout",
     "output_type": "stream",
     "text": [
      "<class 'pandas.core.frame.DataFrame'>\n",
      "RangeIndex: 1974 entries, 0 to 1973\n",
      "Columns: 729 entries, nAcid to Zagreb\n",
      "dtypes: float64(359), int64(370)\n",
      "memory usage: 11.0 MB\n"
     ]
    },
    {
     "data": {
      "text/plain": [
       "(None,\n",
       "              nAcid        ALogP        ALogp2          AMR         apol  \\\n",
       " count  1974.000000  1974.000000  1.974000e+03  1974.000000  1974.000000   \n",
       " mean      0.108409     1.110164  3.288495e+00   116.557106    60.626471   \n",
       " std       0.347900     1.434250  1.283292e+01    31.567455    19.449748   \n",
       " min       0.000000   -23.105000  3.600000e-07    54.067000    30.661930   \n",
       " 25%       0.000000     0.376300  4.052598e-01    88.303700    44.432102   \n",
       " 50%       0.000000     1.170950  1.560251e+00   114.837500    59.901376   \n",
       " 75%       0.000000     1.948100  4.018823e+00   141.423650    74.421376   \n",
       " max       4.000000     5.181700  5.338410e+02   517.429400   359.662740   \n",
       " \n",
       "         naAromAtom    nAromBond        nAtom   nHeavyAtom           nH  ...  \\\n",
       " count  1974.000000  1974.000000  1974.000000  1974.000000  1974.000000  ...   \n",
       " mean     15.446809    16.189463    50.761905    28.112462    22.649443  ...   \n",
       " std       5.155854     5.635271    18.089182     8.073881    10.775491  ...   \n",
       " min       0.000000     0.000000    21.000000    14.000000     5.000000  ...   \n",
       " 25%      12.000000    12.000000    36.250000    21.000000    14.000000  ...   \n",
       " 50%      16.000000    18.000000    50.000000    28.000000    22.000000  ...   \n",
       " 75%      18.000000    18.000000    62.000000    34.000000    29.000000  ...   \n",
       " max      30.000000    34.000000   343.000000   163.000000   180.000000  ...   \n",
       " \n",
       "                 MW       WTPT-1       WTPT-2       WTPT-3       WTPT-4  \\\n",
       " count  1974.000000  1974.000000  1974.000000  1974.000000  1974.000000   \n",
       " mean    391.056697    57.770682     2.053493    15.656437     8.735564   \n",
       " std     111.596103    16.523972     0.031515     7.781943     4.376340   \n",
       " min     194.094294    27.170552     1.927076     2.474468     0.000000   \n",
       " 25%     303.981576    43.723136     2.037907    11.258623     5.187130   \n",
       " 50%     386.036615    56.726986     2.055335    14.958520     8.213370   \n",
       " 75%     463.195900    69.709078     2.075121    18.440536    11.348653   \n",
       " max    2349.392344   318.076845     2.141958   182.633518    50.794729   \n",
       " \n",
       "             WTPT-5          WPATH         WPOL        XLogP       Zagreb  \n",
       " count  1974.000000    1974.000000  1974.000000  1974.000000  1974.000000  \n",
       " mean      4.821318    2709.616515    46.281662     2.965087   150.716312  \n",
       " std       5.595087    7194.525584    13.287751     1.615263    41.445444  \n",
       " min       0.000000     349.000000    14.000000    -3.592000    62.000000  \n",
       " 25%       2.432671     918.000000    36.000000     1.934750   116.000000  \n",
       " 50%       3.406627    2053.000000    46.000000     2.828500   148.000000  \n",
       " 75%       6.765083    3640.000000    55.000000     3.663000   182.000000  \n",
       " max     125.737688  301690.000000   230.000000    14.283000   748.000000  \n",
       " \n",
       " [8 rows x 729 columns])"
      ]
     },
     "execution_count": 11,
     "metadata": {},
     "output_type": "execute_result"
    }
   ],
   "source": [
    "molt.info(),molt.describe()"
   ]
  },
  {
   "cell_type": "code",
   "execution_count": 12,
   "id": "78548b72",
   "metadata": {
    "ExecuteTime": {
     "end_time": "2021-10-15T16:53:05.782802Z",
     "start_time": "2021-10-15T16:53:05.773371Z"
    }
   },
   "outputs": [
    {
     "name": "stdout",
     "output_type": "stream",
     "text": [
      "Molecular_Descriptor.xlsx 数据集中异常值个数为0\n"
     ]
    }
   ],
   "source": [
    "print('Molecular_Descriptor.xlsx 数据集中异常值个数为{}'.format(molt.isnull().any().sum()))"
   ]
  },
  {
   "cell_type": "markdown",
   "id": "0c040c5d",
   "metadata": {},
   "source": [
    "## 特征选择"
   ]
  },
  {
   "cell_type": "code",
   "execution_count": 18,
   "id": "1ee93256",
   "metadata": {
    "ExecuteTime": {
     "end_time": "2021-10-15T16:54:04.649718Z",
     "start_time": "2021-10-15T16:54:04.636503Z"
    }
   },
   "outputs": [
    {
     "data": {
      "text/plain": [
       "((1974, 729), (1974,))"
      ]
     },
     "execution_count": 18,
     "metadata": {},
     "output_type": "execute_result"
    }
   ],
   "source": [
    "# 相关性算法：灰色关联、皮尔逊、秩相关、肯德尔、余弦、典型相关分析、Elasticsearch相关性\n",
    "fX = molt.values\n",
    "fy = erapi.values\n",
    "fX.shape,fy.shape"
   ]
  },
  {
   "cell_type": "code",
   "execution_count": 14,
   "id": "0ef29100",
   "metadata": {
    "ExecuteTime": {
     "end_time": "2021-10-15T16:25:36.989725Z",
     "start_time": "2021-10-15T16:25:36.821724Z"
    }
   },
   "outputs": [
    {
     "name": "stdout",
     "output_type": "stream",
     "text": [
      "features whose variance equal to 0:\n",
      "nB  nBondsQ  nHsNH3p  nHssNH2p  nHsssNHp  nHmisc  nsLi  nssBe  nssssBem  nsBH2  nssBH  nsssB  nssssBm  nddC  nsNH3p  nssNH2p  nsssNHp  nddsN  naOm  nsSiH3  nssSiH2  nsssSiH  nssssSi  nsPH2  nssPH  nsssP  nddsP  nsssssP  nssssssS  nSm  nsGeH3  nssGeH2  nsssGeH  nssssGe  nsAsH2  nssAsH  nsssAs  ndsssAs  nddsAs  nsssssAs  nsSeH  ndSe  nssSe  naaSe  ndssSe  nssssssSe  nddssSe  nsSnH3  nssSnH2  nsssSnH  nssssSn  nsPbH3  nssPbH2  nsssPbH  nssssPb  SHsNH3p  SHssNH2p  SHsssNHp  SHmisc  SsLi  SssBe  SssssBem  SsBH2  SssBH  SsssB  SssssBm  SddC  SsNH3p  SssNH2p  SsssNHp  SddsN  SaOm  SsSiH3  SssSiH2  SsssSiH  SssssSi  SsPH2  SssPH  SsssP  SddsP  SsssssP  SssssssS  SSm  SsGeH3  SssGeH2  SsssGeH  SssssGe  SsAsH2  SssAsH  SsssAs  SdsssAs  SddsAs  SsssssAs  SsSeH  SdSe  SssSe  SaaSe  SdssSe  SssssssSe  SddssSe  SsSnH3  SssSnH2  SsssSnH  SssssSn  SsPbH3  SssPbH2  SsssPbH  SssssPb  minHsNH3p  minHssNH2p  minHsssNHp  minHmisc  minsLi  minssBe  minssssBem  minsBH2  minssBH  minsssB  minssssBm  minddC  minsNH3p  minssNH2p  minsssNHp  minddsN  minaOm  minsSiH3  minssSiH2  minsssSiH  minssssSi  minsPH2  minssPH  minsssP  minddsP  minsssssP  minssssssS  minSm  minsGeH3  minssGeH2  minsssGeH  minssssGe  minsAsH2  minssAsH  minsssAs  mindsssAs  minddsAs  minsssssAs  minsSeH  mindSe  minssSe  minaaSe  mindssSe  minssssssSe  minddssSe  minsSnH3  minssSnH2  minsssSnH  minssssSn  minsPbH3  minssPbH2  minsssPbH  minssssPb  maxHsNH3p  maxHssNH2p  maxHsssNHp  maxHmisc  maxsLi  maxssBe  maxssssBem  maxsBH2  maxssBH  maxsssB  maxssssBm  maxddC  maxsNH3p  maxssNH2p  maxsssNHp  maxddsN  maxaOm  maxsSiH3  maxssSiH2  maxsssSiH  maxssssSi  maxsPH2  maxssPH  maxsssP  maxdsssP  maxddsP  maxsssssP  maxssS  maxaaS  maxdssS  maxddssS  maxssssssS  maxSm  maxsGeH3  maxssGeH2  maxsssGeH  maxssssGe  maxsAsH2  maxssAsH  maxsssAs  maxdsssAs  maxddsAs  maxsssssAs  maxsSeH  maxdSe  maxssSe  maxaaSe  maxdssSe  maxssssssSe  maxddssSe  maxsSnH3  maxssSnH2  maxsssSnH  maxssssSn  maxsI  maxsPbH3  maxssPbH2  maxsssPbH  maxssssPb  n9Ring  n10Ring  n11Ring  nF4Ring  nF5Ring  \n",
      "\n",
      "number of zero variance feature:  225\n"
     ]
    }
   ],
   "source": [
    "# remove features with low variance\n",
    "from sklearn.feature_selection import VarianceThreshold\n",
    "from sklearn.feature_selection import SelectKBest\n",
    "sel = VarianceThreshold(threshold=(.8 * (1 - .8)))\n",
    "sel.fit(fX)\n",
    "print('features whose variance equal to 0:')\n",
    "sel_vars = sel.variances_\n",
    "n_zero_var = 0\n",
    "for i in range(len(sel_vars)):\n",
    "    if sel_vars[i] == 0:\n",
    "        print('{} '.format(molt.columns[i]),end=' ')\n",
    "        n_zero_var += 1\n",
    "print('\\n\\nnumber of zero variance feature: ',n_zero_var)"
   ]
  },
  {
   "cell_type": "code",
   "execution_count": 15,
   "id": "964a2d8b",
   "metadata": {
    "ExecuteTime": {
     "end_time": "2021-10-15T16:25:45.158519Z",
     "start_time": "2021-10-15T16:25:40.536850Z"
    }
   },
   "outputs": [
    {
     "data": {
      "text/plain": [
       "SsOH        0.372421\n",
       "BCUTc-1l    0.360704\n",
       "BCUTc-1h    0.345784\n",
       "maxHsOH     0.344566\n",
       "SHsOH       0.335760\n",
       "minHsOH     0.321582\n",
       "maxsOH      0.306191\n",
       "WTPT-3      0.304116\n",
       "minHBa      0.301623\n",
       "maxssO      0.290620\n",
       "SssO        0.290616\n",
       "WTPT-5      0.288463\n",
       "minsOH      0.285684\n",
       "MDEC-23     0.283046\n",
       "minwHBa     0.280190\n",
       "MLFER_A     0.277779\n",
       "SaaCH       0.273449\n",
       "minaasC     0.272453\n",
       "maxHBa      0.270284\n",
       "SHBd        0.269382\n",
       "dtype: float64"
      ]
     },
     "execution_count": 15,
     "metadata": {},
     "output_type": "execute_result"
    }
   ],
   "source": [
    "# information gain\n",
    "from sklearn.feature_selection import mutual_info_regression\n",
    "mu_imp = mutual_info_regression(molt.values,erapi.values)\n",
    "fea_imp = pd.Series(mu_imp,index=molt.columns)\n",
    "fea_imp.sort_values(ascending=False)[:20]\n",
    "# fea_imp.plot(kind='barh',color='teal')"
   ]
  },
  {
   "cell_type": "code",
   "execution_count": 17,
   "id": "f905b5c5",
   "metadata": {
    "ExecuteTime": {
     "end_time": "2021-10-15T07:20:08.768582Z",
     "start_time": "2021-10-15T07:19:55.858611Z"
    }
   },
   "outputs": [
    {
     "name": "stderr",
     "output_type": "stream",
     "text": [
      "/Users/johnson/opt/anaconda3/lib/python3.8/site-packages/skfeature/function/similarity_based/fisher_score.py:59: RuntimeWarning: divide by zero encountered in true_divide\n",
      "  score = 1.0 / lap_score - 1\n"
     ]
    },
    {
     "data": {
      "text/plain": [
       "minaaSe        728\n",
       "minssCH2       727\n",
       "nI             726\n",
       "nHsSH          725\n",
       "nSm            724\n",
       "nHaaNH         723\n",
       "naasC          722\n",
       "SHsNH3p        721\n",
       "nssSiH2        720\n",
       "SsF            719\n",
       "maxssssssSe    718\n",
       "nHsOH          717\n",
       "nHBint8        716\n",
       "SddssSe        715\n",
       "VPC-5          714\n",
       "nC             713\n",
       "maxHBint7      712\n",
       "VP-7           711\n",
       "SsPH2          710\n",
       "ATSc2          709\n",
       "dtype: int64"
      ]
     },
     "execution_count": 17,
     "metadata": {},
     "output_type": "execute_result"
    }
   ],
   "source": [
    "# fisher score\n",
    "from skfeature.function.similarity_based import fisher_score\n",
    "fish_rank = fisher_score.fisher_score(fX,fy)\n",
    "fea_imp = pd.Series(fish_rank, index=molt.columns)\n",
    "fea_imp.sort_values(ascending=False)[:20]"
   ]
  },
  {
   "cell_type": "code",
   "execution_count": 128,
   "id": "809ae012",
   "metadata": {
    "ExecuteTime": {
     "end_time": "2021-10-14T16:12:30.599132Z",
     "start_time": "2021-10-14T16:12:30.581404Z"
    }
   },
   "outputs": [
    {
     "name": "stderr",
     "output_type": "stream",
     "text": [
      "/Users/johnson/opt/anaconda3/lib/python3.8/site-packages/sklearn/feature_selection/_univariate_selection.py:301: RuntimeWarning: invalid value encountered in true_divide\n",
      "  corr /= X_norms\n",
      "/Users/johnson/opt/anaconda3/lib/python3.8/site-packages/sklearn/feature_selection/_univariate_selection.py:301: RuntimeWarning: invalid value encountered in true_divide\n",
      "  corr /= X_norms\n"
     ]
    },
    {
     "data": {
      "text/plain": [
       "Index(['MDEC-23', 'MLogP', 'LipoaffinityIndex', 'maxsOH', 'minsOH', 'nC',\n",
       "       'nT6Ring', 'n6Ring', 'minsssN', 'BCUTp-1h', 'C2SP2', 'hmin', 'AMR',\n",
       "       'SwHBa', 'maxsssN', 'MDEC-22', 'SP-5', 'SaaCH', 'CrippenLogP',\n",
       "       'maxHsOH'],\n",
       "      dtype='object')"
      ]
     },
     "execution_count": 128,
     "metadata": {},
     "output_type": "execute_result"
    }
   ],
   "source": [
    "# select top-20 best model from f_regression\n",
    "from sklearn.feature_selection import f_regression\n",
    "f_score = f_regression(fX,fy)[1]\n",
    "f_best = SelectKBest(f_regression, k=20).fit_transform(fX,fy)\n",
    "f_score_sorted = np.argsort(f_score)\n",
    "molt.columns[f_score_sorted[:20]]\n",
    "# np.sort(f_score[1],)"
   ]
  },
  {
   "cell_type": "code",
   "execution_count": 17,
   "id": "3259c2cc",
   "metadata": {
    "ExecuteTime": {
     "end_time": "2021-10-15T16:27:16.477077Z",
     "start_time": "2021-10-15T16:27:16.090724Z"
    }
   },
   "outputs": [
    {
     "name": "stderr",
     "output_type": "stream",
     "text": [
      "/Users/johnson/opt/anaconda3/envs/prac/lib/python3.8/site-packages/sklearn/linear_model/_coordinate_descent.py:530: ConvergenceWarning: Objective did not converge. You might want to increase the number of iterations. Duality gap: 327.3765820039396, tolerance: 0.39953155744665325\n",
      "  model = cd_fast.enet_coordinate_descent(\n"
     ]
    },
    {
     "data": {
      "text/plain": [
       "(20,\n",
       " Index(['ATSp1', 'ATSp2', 'ATSp3', 'ATSp4', 'ATSp5', 'BCUTw-1h', 'ECCEN',\n",
       "        'SHBa', 'SHBint8', 'SsOH', 'SdO', 'SsF', 'mindO', 'maxsOH', 'fragC',\n",
       "        'MDEC-23', 'TopoPSA', 'VABC', 'MW', 'WPATH'],\n",
       "       dtype='object'))"
      ]
     },
     "execution_count": 17,
     "metadata": {},
     "output_type": "execute_result"
    }
   ],
   "source": [
    "# lasso selection model\n",
    "from sklearn.linear_model import Lasso\n",
    "from sklearn.model_selection import train_test_split\n",
    "# try different alpha values\n",
    "lasso_ = Lasso(alpha=0.6).fit(fX,fy)\n",
    "lasso_coefs = (lasso_.coef_*100).tolist()\n",
    "las_col = [i for i in range(len(lasso_coefs)) if lasso_coefs[i] != 0]\n",
    "len(las_col),molt.columns[las_col]"
   ]
  },
  {
   "cell_type": "code",
   "execution_count": null,
   "id": "f4277a11",
   "metadata": {
    "ExecuteTime": {
     "end_time": "2021-10-14T16:42:37.910936Z",
     "start_time": "2021-10-14T16:42:10.394920Z"
    }
   },
   "outputs": [],
   "source": [
    "# randomforest selection\n",
    "from sklearn.model_selection import cross_val_score, ShuffleSplit\n",
    "from sklearn.ensemble import RandomForestRegressor\n",
    "\n",
    "rf = RandomForestRegressor(n_estimators=2, max_depth=4)\n",
    "rf_scores = []\n",
    "# select individual feature and do cross-validation\n",
    "for i in range(fX.shape[1]):\n",
    "    score = cross_val_score(rf,fX[:, i:i+1], fy, scoring=\"r2\", \n",
    "                            cv=ShuffleSplit(len(fX), test_size=0.3))\n",
    "    rf_scores.append((format(np.mean(score), '.3f'), molt.columns[i]))\n",
    "print(sorted(rf_scores, reverse=True))"
   ]
  },
  {
   "cell_type": "code",
   "execution_count": null,
   "id": "d652a5a2",
   "metadata": {},
   "outputs": [],
   "source": []
  },
  {
   "cell_type": "code",
   "execution_count": 175,
   "id": "939dab47",
   "metadata": {
    "ExecuteTime": {
     "end_time": "2021-10-15T01:54:55.314179Z",
     "start_time": "2021-10-15T01:53:37.190895Z"
    }
   },
   "outputs": [
    {
     "data": {
      "text/plain": [
       "Index(['ATSc4', 'BCUTc-1l', 'BCUTp-1h', 'C1SP2', 'C3SP2', 'VC-6', 'SHCsats',\n",
       "       'mindsCH', 'minsssN', 'minsOH', 'mindO', 'maxHBd', 'maxHBint8',\n",
       "       'maxsssCH', 'MAXDP2', 'ETA_dEpsilon_D', 'MDEC-23', 'MDEC-24', 'MLFER_A',\n",
       "       'WTPT-5'],\n",
       "      dtype='object')"
      ]
     },
     "execution_count": 175,
     "metadata": {},
     "output_type": "execute_result"
    }
   ],
   "source": [
    "# forward feature selection\n",
    "from sklearn.feature_selection import SequentialFeatureSelector\n",
    "from sklearn.linear_model import LogisticRegression\n",
    "from sklearn.linear_model import LinearRegression\n",
    "\n",
    "lor = LogisticRegression()\n",
    "lr = LinearRegression()\n",
    "sfs = SequentialFeatureSelector(lr, \n",
    "                                n_features_to_select=20, \n",
    "                                direction='forward',\n",
    "                                scoring='neg_mean_squared_error',\n",
    "                                cv=5)\n",
    "sfs.fit(fX,fy)\n",
    "sfs_sup = sfs.get_support()\n",
    "fea_sfs_lr = [i for i in range(len(sfs_sup)) if sfs_sup[i]]\n",
    "molt.columns[fea_sfs_lr]"
   ]
  },
  {
   "cell_type": "code",
   "execution_count": null,
   "id": "6f02016f",
   "metadata": {
    "ExecuteTime": {
     "end_time": "2021-10-15T02:21:18.321963Z",
     "start_time": "2021-10-15T02:06:37.748402Z"
    }
   },
   "outputs": [],
   "source": [
    "# backward feature selection (occupy much cpu resource)\n",
    "sfs = SequentialFeatureSelector(lr, \n",
    "                                n_features_to_select=1, \n",
    "                                direction='backward',\n",
    "                                scoring='neg_mean_squared_error',\n",
    "                                cv=5)\n",
    "sfs.fit(fX,fy)\n",
    "sfs_sup = sfs.get_support()\n",
    "fea_sfs_lr = [i for i in range(len(sfs_sup)) if sfs_sup[i]]\n",
    "molt.columns[fea_sfs_lr]"
   ]
  },
  {
   "cell_type": "code",
   "execution_count": null,
   "id": "d5803fe1",
   "metadata": {},
   "outputs": [],
   "source": []
  },
  {
   "cell_type": "markdown",
   "id": "9e35a71e",
   "metadata": {},
   "source": [
    "### 相关性矩阵"
   ]
  },
  {
   "cell_type": "code",
   "execution_count": 94,
   "id": "e838c97f",
   "metadata": {
    "ExecuteTime": {
     "end_time": "2021-10-14T15:17:04.223699Z",
     "start_time": "2021-10-14T15:17:01.970486Z"
    }
   },
   "outputs": [
    {
     "data": {
      "text/html": [
       "<div>\n",
       "<style scoped>\n",
       "    .dataframe tbody tr th:only-of-type {\n",
       "        vertical-align: middle;\n",
       "    }\n",
       "\n",
       "    .dataframe tbody tr th {\n",
       "        vertical-align: top;\n",
       "    }\n",
       "\n",
       "    .dataframe thead th {\n",
       "        text-align: right;\n",
       "    }\n",
       "</style>\n",
       "<table border=\"1\" class=\"dataframe\">\n",
       "  <thead>\n",
       "    <tr style=\"text-align: right;\">\n",
       "      <th></th>\n",
       "      <th>nAcid</th>\n",
       "      <th>ALogP</th>\n",
       "      <th>ALogp2</th>\n",
       "      <th>AMR</th>\n",
       "      <th>apol</th>\n",
       "      <th>naAromAtom</th>\n",
       "      <th>nAromBond</th>\n",
       "      <th>nAtom</th>\n",
       "      <th>nHeavyAtom</th>\n",
       "      <th>nH</th>\n",
       "      <th>...</th>\n",
       "      <th>MW</th>\n",
       "      <th>WTPT-1</th>\n",
       "      <th>WTPT-2</th>\n",
       "      <th>WTPT-3</th>\n",
       "      <th>WTPT-4</th>\n",
       "      <th>WTPT-5</th>\n",
       "      <th>WPATH</th>\n",
       "      <th>WPOL</th>\n",
       "      <th>XLogP</th>\n",
       "      <th>Zagreb</th>\n",
       "    </tr>\n",
       "  </thead>\n",
       "  <tbody>\n",
       "    <tr>\n",
       "      <th>nAcid</th>\n",
       "      <td>1.000000</td>\n",
       "      <td>0.243518</td>\n",
       "      <td>0.091095</td>\n",
       "      <td>0.121448</td>\n",
       "      <td>0.060198</td>\n",
       "      <td>0.134609</td>\n",
       "      <td>0.116454</td>\n",
       "      <td>0.043003</td>\n",
       "      <td>0.121425</td>\n",
       "      <td>-0.018790</td>\n",
       "      <td>...</td>\n",
       "      <td>0.114178</td>\n",
       "      <td>0.114287</td>\n",
       "      <td>-0.112722</td>\n",
       "      <td>0.116382</td>\n",
       "      <td>0.120627</td>\n",
       "      <td>0.004035</td>\n",
       "      <td>0.014814</td>\n",
       "      <td>0.107746</td>\n",
       "      <td>0.004302</td>\n",
       "      <td>0.118274</td>\n",
       "    </tr>\n",
       "    <tr>\n",
       "      <th>ALogP</th>\n",
       "      <td>0.243518</td>\n",
       "      <td>1.000000</td>\n",
       "      <td>-0.255028</td>\n",
       "      <td>-0.074840</td>\n",
       "      <td>-0.250839</td>\n",
       "      <td>0.372740</td>\n",
       "      <td>0.357599</td>\n",
       "      <td>-0.308651</td>\n",
       "      <td>-0.222162</td>\n",
       "      <td>-0.351681</td>\n",
       "      <td>...</td>\n",
       "      <td>-0.240888</td>\n",
       "      <td>-0.205436</td>\n",
       "      <td>0.085229</td>\n",
       "      <td>-0.415552</td>\n",
       "      <td>-0.316737</td>\n",
       "      <td>-0.424806</td>\n",
       "      <td>-0.449348</td>\n",
       "      <td>-0.167517</td>\n",
       "      <td>0.186738</td>\n",
       "      <td>-0.171981</td>\n",
       "    </tr>\n",
       "    <tr>\n",
       "      <th>ALogp2</th>\n",
       "      <td>0.091095</td>\n",
       "      <td>-0.255028</td>\n",
       "      <td>1.000000</td>\n",
       "      <td>0.378497</td>\n",
       "      <td>0.429697</td>\n",
       "      <td>-0.032440</td>\n",
       "      <td>-0.034642</td>\n",
       "      <td>0.444176</td>\n",
       "      <td>0.469659</td>\n",
       "      <td>0.393746</td>\n",
       "      <td>...</td>\n",
       "      <td>0.489044</td>\n",
       "      <td>0.441499</td>\n",
       "      <td>-0.140236</td>\n",
       "      <td>0.535852</td>\n",
       "      <td>0.224825</td>\n",
       "      <td>0.520573</td>\n",
       "      <td>0.935940</td>\n",
       "      <td>0.393896</td>\n",
       "      <td>-0.004351</td>\n",
       "      <td>0.408290</td>\n",
       "    </tr>\n",
       "    <tr>\n",
       "      <th>AMR</th>\n",
       "      <td>0.121448</td>\n",
       "      <td>-0.074840</td>\n",
       "      <td>0.378497</td>\n",
       "      <td>1.000000</td>\n",
       "      <td>0.958476</td>\n",
       "      <td>0.517958</td>\n",
       "      <td>0.451325</td>\n",
       "      <td>0.920754</td>\n",
       "      <td>0.972396</td>\n",
       "      <td>0.817102</td>\n",
       "      <td>...</td>\n",
       "      <td>0.948124</td>\n",
       "      <td>0.977560</td>\n",
       "      <td>0.234581</td>\n",
       "      <td>0.546936</td>\n",
       "      <td>0.436380</td>\n",
       "      <td>0.391155</td>\n",
       "      <td>0.544759</td>\n",
       "      <td>0.907052</td>\n",
       "      <td>0.349198</td>\n",
       "      <td>0.963613</td>\n",
       "    </tr>\n",
       "    <tr>\n",
       "      <th>apol</th>\n",
       "      <td>0.060198</td>\n",
       "      <td>-0.250839</td>\n",
       "      <td>0.429697</td>\n",
       "      <td>0.958476</td>\n",
       "      <td>1.000000</td>\n",
       "      <td>0.294009</td>\n",
       "      <td>0.230697</td>\n",
       "      <td>0.992330</td>\n",
       "      <td>0.968538</td>\n",
       "      <td>0.940150</td>\n",
       "      <td>...</td>\n",
       "      <td>0.945403</td>\n",
       "      <td>0.967090</td>\n",
       "      <td>0.158927</td>\n",
       "      <td>0.528375</td>\n",
       "      <td>0.403285</td>\n",
       "      <td>0.426970</td>\n",
       "      <td>0.609934</td>\n",
       "      <td>0.910283</td>\n",
       "      <td>0.417346</td>\n",
       "      <td>0.946580</td>\n",
       "    </tr>\n",
       "    <tr>\n",
       "      <th>...</th>\n",
       "      <td>...</td>\n",
       "      <td>...</td>\n",
       "      <td>...</td>\n",
       "      <td>...</td>\n",
       "      <td>...</td>\n",
       "      <td>...</td>\n",
       "      <td>...</td>\n",
       "      <td>...</td>\n",
       "      <td>...</td>\n",
       "      <td>...</td>\n",
       "      <td>...</td>\n",
       "      <td>...</td>\n",
       "      <td>...</td>\n",
       "      <td>...</td>\n",
       "      <td>...</td>\n",
       "      <td>...</td>\n",
       "      <td>...</td>\n",
       "      <td>...</td>\n",
       "      <td>...</td>\n",
       "      <td>...</td>\n",
       "      <td>...</td>\n",
       "    </tr>\n",
       "    <tr>\n",
       "      <th>WTPT-5</th>\n",
       "      <td>0.004035</td>\n",
       "      <td>-0.424806</td>\n",
       "      <td>0.520573</td>\n",
       "      <td>0.391155</td>\n",
       "      <td>0.426970</td>\n",
       "      <td>0.064511</td>\n",
       "      <td>0.075692</td>\n",
       "      <td>0.434538</td>\n",
       "      <td>0.473202</td>\n",
       "      <td>0.374912</td>\n",
       "      <td>...</td>\n",
       "      <td>0.493880</td>\n",
       "      <td>0.456155</td>\n",
       "      <td>-0.025577</td>\n",
       "      <td>0.751433</td>\n",
       "      <td>-0.001536</td>\n",
       "      <td>1.000000</td>\n",
       "      <td>0.597059</td>\n",
       "      <td>0.349148</td>\n",
       "      <td>-0.198666</td>\n",
       "      <td>0.420492</td>\n",
       "    </tr>\n",
       "    <tr>\n",
       "      <th>WPATH</th>\n",
       "      <td>0.014814</td>\n",
       "      <td>-0.449348</td>\n",
       "      <td>0.935940</td>\n",
       "      <td>0.544759</td>\n",
       "      <td>0.609934</td>\n",
       "      <td>0.030939</td>\n",
       "      <td>0.018690</td>\n",
       "      <td>0.623473</td>\n",
       "      <td>0.642264</td>\n",
       "      <td>0.565408</td>\n",
       "      <td>...</td>\n",
       "      <td>0.657014</td>\n",
       "      <td>0.618856</td>\n",
       "      <td>-0.061697</td>\n",
       "      <td>0.649472</td>\n",
       "      <td>0.361278</td>\n",
       "      <td>0.597059</td>\n",
       "      <td>1.000000</td>\n",
       "      <td>0.551611</td>\n",
       "      <td>0.010922</td>\n",
       "      <td>0.582261</td>\n",
       "    </tr>\n",
       "    <tr>\n",
       "      <th>WPOL</th>\n",
       "      <td>0.107746</td>\n",
       "      <td>-0.167517</td>\n",
       "      <td>0.393896</td>\n",
       "      <td>0.907052</td>\n",
       "      <td>0.910283</td>\n",
       "      <td>0.316222</td>\n",
       "      <td>0.257757</td>\n",
       "      <td>0.890376</td>\n",
       "      <td>0.935823</td>\n",
       "      <td>0.793509</td>\n",
       "      <td>...</td>\n",
       "      <td>0.905838</td>\n",
       "      <td>0.942272</td>\n",
       "      <td>0.287110</td>\n",
       "      <td>0.541695</td>\n",
       "      <td>0.495769</td>\n",
       "      <td>0.349148</td>\n",
       "      <td>0.551611</td>\n",
       "      <td>1.000000</td>\n",
       "      <td>0.282610</td>\n",
       "      <td>0.967832</td>\n",
       "    </tr>\n",
       "    <tr>\n",
       "      <th>XLogP</th>\n",
       "      <td>0.004302</td>\n",
       "      <td>0.186738</td>\n",
       "      <td>-0.004351</td>\n",
       "      <td>0.349198</td>\n",
       "      <td>0.417346</td>\n",
       "      <td>0.096453</td>\n",
       "      <td>0.077495</td>\n",
       "      <td>0.427641</td>\n",
       "      <td>0.289006</td>\n",
       "      <td>0.501350</td>\n",
       "      <td>...</td>\n",
       "      <td>0.259598</td>\n",
       "      <td>0.290884</td>\n",
       "      <td>0.010232</td>\n",
       "      <td>-0.293713</td>\n",
       "      <td>-0.220903</td>\n",
       "      <td>-0.198666</td>\n",
       "      <td>0.010922</td>\n",
       "      <td>0.282610</td>\n",
       "      <td>1.000000</td>\n",
       "      <td>0.268606</td>\n",
       "    </tr>\n",
       "    <tr>\n",
       "      <th>Zagreb</th>\n",
       "      <td>0.118274</td>\n",
       "      <td>-0.171981</td>\n",
       "      <td>0.408290</td>\n",
       "      <td>0.963613</td>\n",
       "      <td>0.946580</td>\n",
       "      <td>0.423967</td>\n",
       "      <td>0.364357</td>\n",
       "      <td>0.916798</td>\n",
       "      <td>0.983682</td>\n",
       "      <td>0.802004</td>\n",
       "      <td>...</td>\n",
       "      <td>0.957970</td>\n",
       "      <td>0.990143</td>\n",
       "      <td>0.290836</td>\n",
       "      <td>0.619853</td>\n",
       "      <td>0.514149</td>\n",
       "      <td>0.420492</td>\n",
       "      <td>0.582261</td>\n",
       "      <td>0.967832</td>\n",
       "      <td>0.268606</td>\n",
       "      <td>1.000000</td>\n",
       "    </tr>\n",
       "  </tbody>\n",
       "</table>\n",
       "<p>729 rows × 729 columns</p>\n",
       "</div>"
      ],
      "text/plain": [
       "           nAcid     ALogP    ALogp2       AMR      apol  naAromAtom  \\\n",
       "nAcid   1.000000  0.243518  0.091095  0.121448  0.060198    0.134609   \n",
       "ALogP   0.243518  1.000000 -0.255028 -0.074840 -0.250839    0.372740   \n",
       "ALogp2  0.091095 -0.255028  1.000000  0.378497  0.429697   -0.032440   \n",
       "AMR     0.121448 -0.074840  0.378497  1.000000  0.958476    0.517958   \n",
       "apol    0.060198 -0.250839  0.429697  0.958476  1.000000    0.294009   \n",
       "...          ...       ...       ...       ...       ...         ...   \n",
       "WTPT-5  0.004035 -0.424806  0.520573  0.391155  0.426970    0.064511   \n",
       "WPATH   0.014814 -0.449348  0.935940  0.544759  0.609934    0.030939   \n",
       "WPOL    0.107746 -0.167517  0.393896  0.907052  0.910283    0.316222   \n",
       "XLogP   0.004302  0.186738 -0.004351  0.349198  0.417346    0.096453   \n",
       "Zagreb  0.118274 -0.171981  0.408290  0.963613  0.946580    0.423967   \n",
       "\n",
       "        nAromBond     nAtom  nHeavyAtom        nH  ...        MW    WTPT-1  \\\n",
       "nAcid    0.116454  0.043003    0.121425 -0.018790  ...  0.114178  0.114287   \n",
       "ALogP    0.357599 -0.308651   -0.222162 -0.351681  ... -0.240888 -0.205436   \n",
       "ALogp2  -0.034642  0.444176    0.469659  0.393746  ...  0.489044  0.441499   \n",
       "AMR      0.451325  0.920754    0.972396  0.817102  ...  0.948124  0.977560   \n",
       "apol     0.230697  0.992330    0.968538  0.940150  ...  0.945403  0.967090   \n",
       "...           ...       ...         ...       ...  ...       ...       ...   \n",
       "WTPT-5   0.075692  0.434538    0.473202  0.374912  ...  0.493880  0.456155   \n",
       "WPATH    0.018690  0.623473    0.642264  0.565408  ...  0.657014  0.618856   \n",
       "WPOL     0.257757  0.890376    0.935823  0.793509  ...  0.905838  0.942272   \n",
       "XLogP    0.077495  0.427641    0.289006  0.501350  ...  0.259598  0.290884   \n",
       "Zagreb   0.364357  0.916798    0.983682  0.802004  ...  0.957970  0.990143   \n",
       "\n",
       "          WTPT-2    WTPT-3    WTPT-4    WTPT-5     WPATH      WPOL     XLogP  \\\n",
       "nAcid  -0.112722  0.116382  0.120627  0.004035  0.014814  0.107746  0.004302   \n",
       "ALogP   0.085229 -0.415552 -0.316737 -0.424806 -0.449348 -0.167517  0.186738   \n",
       "ALogp2 -0.140236  0.535852  0.224825  0.520573  0.935940  0.393896 -0.004351   \n",
       "AMR     0.234581  0.546936  0.436380  0.391155  0.544759  0.907052  0.349198   \n",
       "apol    0.158927  0.528375  0.403285  0.426970  0.609934  0.910283  0.417346   \n",
       "...          ...       ...       ...       ...       ...       ...       ...   \n",
       "WTPT-5 -0.025577  0.751433 -0.001536  1.000000  0.597059  0.349148 -0.198666   \n",
       "WPATH  -0.061697  0.649472  0.361278  0.597059  1.000000  0.551611  0.010922   \n",
       "WPOL    0.287110  0.541695  0.495769  0.349148  0.551611  1.000000  0.282610   \n",
       "XLogP   0.010232 -0.293713 -0.220903 -0.198666  0.010922  0.282610  1.000000   \n",
       "Zagreb  0.290836  0.619853  0.514149  0.420492  0.582261  0.967832  0.268606   \n",
       "\n",
       "          Zagreb  \n",
       "nAcid   0.118274  \n",
       "ALogP  -0.171981  \n",
       "ALogp2  0.408290  \n",
       "AMR     0.963613  \n",
       "apol    0.946580  \n",
       "...          ...  \n",
       "WTPT-5  0.420492  \n",
       "WPATH   0.582261  \n",
       "WPOL    0.967832  \n",
       "XLogP   0.268606  \n",
       "Zagreb  1.000000  \n",
       "\n",
       "[729 rows x 729 columns]"
      ]
     },
     "execution_count": 94,
     "metadata": {},
     "output_type": "execute_result"
    }
   ],
   "source": [
    "# correlation coefficient (pearman)\n",
    "molt_corr = molt.corr()\n",
    "molt_corr\n",
    "#sns.heatmap(mol_corr, center=0, annot=True, cmap='YlGnBu') # take too much time"
   ]
  },
  {
   "cell_type": "code",
   "execution_count": 96,
   "id": "51820152",
   "metadata": {
    "ExecuteTime": {
     "end_time": "2021-10-14T15:23:01.542197Z",
     "start_time": "2021-10-14T15:22:57.390265Z"
    }
   },
   "outputs": [
    {
     "data": {
      "text/html": [
       "<div>\n",
       "<style scoped>\n",
       "    .dataframe tbody tr th:only-of-type {\n",
       "        vertical-align: middle;\n",
       "    }\n",
       "\n",
       "    .dataframe tbody tr th {\n",
       "        vertical-align: top;\n",
       "    }\n",
       "\n",
       "    .dataframe thead th {\n",
       "        text-align: right;\n",
       "    }\n",
       "</style>\n",
       "<table border=\"1\" class=\"dataframe\">\n",
       "  <thead>\n",
       "    <tr style=\"text-align: right;\">\n",
       "      <th></th>\n",
       "      <th>nAcid</th>\n",
       "      <th>ALogP</th>\n",
       "      <th>ALogp2</th>\n",
       "      <th>AMR</th>\n",
       "      <th>apol</th>\n",
       "      <th>naAromAtom</th>\n",
       "      <th>nAromBond</th>\n",
       "      <th>nAtom</th>\n",
       "      <th>nHeavyAtom</th>\n",
       "      <th>nH</th>\n",
       "      <th>...</th>\n",
       "      <th>MW</th>\n",
       "      <th>WTPT-1</th>\n",
       "      <th>WTPT-2</th>\n",
       "      <th>WTPT-3</th>\n",
       "      <th>WTPT-4</th>\n",
       "      <th>WTPT-5</th>\n",
       "      <th>WPATH</th>\n",
       "      <th>WPOL</th>\n",
       "      <th>XLogP</th>\n",
       "      <th>Zagreb</th>\n",
       "    </tr>\n",
       "  </thead>\n",
       "  <tbody>\n",
       "    <tr>\n",
       "      <th>nAcid</th>\n",
       "      <td>1.000000</td>\n",
       "      <td>0.298464</td>\n",
       "      <td>0.294498</td>\n",
       "      <td>0.127125</td>\n",
       "      <td>0.087442</td>\n",
       "      <td>0.148992</td>\n",
       "      <td>0.128085</td>\n",
       "      <td>0.071150</td>\n",
       "      <td>0.142736</td>\n",
       "      <td>0.011872</td>\n",
       "      <td>...</td>\n",
       "      <td>0.137757</td>\n",
       "      <td>0.130279</td>\n",
       "      <td>-0.190618</td>\n",
       "      <td>0.097911</td>\n",
       "      <td>0.099315</td>\n",
       "      <td>-0.081729</td>\n",
       "      <td>0.123396</td>\n",
       "      <td>0.149544</td>\n",
       "      <td>0.072792</td>\n",
       "      <td>0.138795</td>\n",
       "    </tr>\n",
       "    <tr>\n",
       "      <th>ALogP</th>\n",
       "      <td>0.298464</td>\n",
       "      <td>1.000000</td>\n",
       "      <td>0.839721</td>\n",
       "      <td>0.154591</td>\n",
       "      <td>0.044144</td>\n",
       "      <td>0.352324</td>\n",
       "      <td>0.365084</td>\n",
       "      <td>-0.000730</td>\n",
       "      <td>0.060073</td>\n",
       "      <td>-0.060433</td>\n",
       "      <td>...</td>\n",
       "      <td>0.054366</td>\n",
       "      <td>0.053615</td>\n",
       "      <td>-0.039049</td>\n",
       "      <td>-0.173593</td>\n",
       "      <td>-0.232812</td>\n",
       "      <td>-0.144005</td>\n",
       "      <td>0.043113</td>\n",
       "      <td>0.063338</td>\n",
       "      <td>0.325502</td>\n",
       "      <td>0.060326</td>\n",
       "    </tr>\n",
       "    <tr>\n",
       "      <th>ALogp2</th>\n",
       "      <td>0.294498</td>\n",
       "      <td>0.839721</td>\n",
       "      <td>1.000000</td>\n",
       "      <td>0.206210</td>\n",
       "      <td>0.131773</td>\n",
       "      <td>0.258400</td>\n",
       "      <td>0.267773</td>\n",
       "      <td>0.095173</td>\n",
       "      <td>0.142974</td>\n",
       "      <td>0.044380</td>\n",
       "      <td>...</td>\n",
       "      <td>0.136171</td>\n",
       "      <td>0.134108</td>\n",
       "      <td>-0.121343</td>\n",
       "      <td>-0.111207</td>\n",
       "      <td>-0.177669</td>\n",
       "      <td>-0.106748</td>\n",
       "      <td>0.129674</td>\n",
       "      <td>0.138409</td>\n",
       "      <td>0.341661</td>\n",
       "      <td>0.135492</td>\n",
       "    </tr>\n",
       "    <tr>\n",
       "      <th>AMR</th>\n",
       "      <td>0.127125</td>\n",
       "      <td>0.154591</td>\n",
       "      <td>0.206210</td>\n",
       "      <td>1.000000</td>\n",
       "      <td>0.961691</td>\n",
       "      <td>0.661600</td>\n",
       "      <td>0.589020</td>\n",
       "      <td>0.926123</td>\n",
       "      <td>0.970967</td>\n",
       "      <td>0.804414</td>\n",
       "      <td>...</td>\n",
       "      <td>0.946192</td>\n",
       "      <td>0.971228</td>\n",
       "      <td>0.326233</td>\n",
       "      <td>0.455455</td>\n",
       "      <td>0.353602</td>\n",
       "      <td>0.304766</td>\n",
       "      <td>0.967399</td>\n",
       "      <td>0.892645</td>\n",
       "      <td>0.448692</td>\n",
       "      <td>0.951214</td>\n",
       "    </tr>\n",
       "    <tr>\n",
       "      <th>apol</th>\n",
       "      <td>0.087442</td>\n",
       "      <td>0.044144</td>\n",
       "      <td>0.131773</td>\n",
       "      <td>0.961691</td>\n",
       "      <td>1.000000</td>\n",
       "      <td>0.504649</td>\n",
       "      <td>0.425076</td>\n",
       "      <td>0.990971</td>\n",
       "      <td>0.959475</td>\n",
       "      <td>0.921645</td>\n",
       "      <td>...</td>\n",
       "      <td>0.926193</td>\n",
       "      <td>0.959164</td>\n",
       "      <td>0.318972</td>\n",
       "      <td>0.372514</td>\n",
       "      <td>0.314274</td>\n",
       "      <td>0.272351</td>\n",
       "      <td>0.952547</td>\n",
       "      <td>0.906731</td>\n",
       "      <td>0.510868</td>\n",
       "      <td>0.942748</td>\n",
       "    </tr>\n",
       "    <tr>\n",
       "      <th>...</th>\n",
       "      <td>...</td>\n",
       "      <td>...</td>\n",
       "      <td>...</td>\n",
       "      <td>...</td>\n",
       "      <td>...</td>\n",
       "      <td>...</td>\n",
       "      <td>...</td>\n",
       "      <td>...</td>\n",
       "      <td>...</td>\n",
       "      <td>...</td>\n",
       "      <td>...</td>\n",
       "      <td>...</td>\n",
       "      <td>...</td>\n",
       "      <td>...</td>\n",
       "      <td>...</td>\n",
       "      <td>...</td>\n",
       "      <td>...</td>\n",
       "      <td>...</td>\n",
       "      <td>...</td>\n",
       "      <td>...</td>\n",
       "      <td>...</td>\n",
       "    </tr>\n",
       "    <tr>\n",
       "      <th>WTPT-5</th>\n",
       "      <td>-0.081729</td>\n",
       "      <td>-0.144005</td>\n",
       "      <td>-0.106748</td>\n",
       "      <td>0.304766</td>\n",
       "      <td>0.272351</td>\n",
       "      <td>0.218260</td>\n",
       "      <td>0.186234</td>\n",
       "      <td>0.257380</td>\n",
       "      <td>0.320081</td>\n",
       "      <td>0.194506</td>\n",
       "      <td>...</td>\n",
       "      <td>0.317963</td>\n",
       "      <td>0.324961</td>\n",
       "      <td>0.193800</td>\n",
       "      <td>0.537170</td>\n",
       "      <td>-0.169968</td>\n",
       "      <td>1.000000</td>\n",
       "      <td>0.337279</td>\n",
       "      <td>0.221481</td>\n",
       "      <td>-0.129881</td>\n",
       "      <td>0.310909</td>\n",
       "    </tr>\n",
       "    <tr>\n",
       "      <th>WPATH</th>\n",
       "      <td>0.123396</td>\n",
       "      <td>0.043113</td>\n",
       "      <td>0.129674</td>\n",
       "      <td>0.967399</td>\n",
       "      <td>0.952547</td>\n",
       "      <td>0.600290</td>\n",
       "      <td>0.525283</td>\n",
       "      <td>0.925527</td>\n",
       "      <td>0.992083</td>\n",
       "      <td>0.790220</td>\n",
       "      <td>...</td>\n",
       "      <td>0.963684</td>\n",
       "      <td>0.988957</td>\n",
       "      <td>0.275921</td>\n",
       "      <td>0.557568</td>\n",
       "      <td>0.434226</td>\n",
       "      <td>0.337279</td>\n",
       "      <td>1.000000</td>\n",
       "      <td>0.894391</td>\n",
       "      <td>0.390364</td>\n",
       "      <td>0.963631</td>\n",
       "    </tr>\n",
       "    <tr>\n",
       "      <th>WPOL</th>\n",
       "      <td>0.149544</td>\n",
       "      <td>0.063338</td>\n",
       "      <td>0.138409</td>\n",
       "      <td>0.892645</td>\n",
       "      <td>0.906731</td>\n",
       "      <td>0.494950</td>\n",
       "      <td>0.424504</td>\n",
       "      <td>0.889545</td>\n",
       "      <td>0.933442</td>\n",
       "      <td>0.775660</td>\n",
       "      <td>...</td>\n",
       "      <td>0.895049</td>\n",
       "      <td>0.935278</td>\n",
       "      <td>0.379534</td>\n",
       "      <td>0.431551</td>\n",
       "      <td>0.400694</td>\n",
       "      <td>0.221481</td>\n",
       "      <td>0.894391</td>\n",
       "      <td>1.000000</td>\n",
       "      <td>0.403700</td>\n",
       "      <td>0.963937</td>\n",
       "    </tr>\n",
       "    <tr>\n",
       "      <th>XLogP</th>\n",
       "      <td>0.072792</td>\n",
       "      <td>0.325502</td>\n",
       "      <td>0.341661</td>\n",
       "      <td>0.448692</td>\n",
       "      <td>0.510868</td>\n",
       "      <td>0.245372</td>\n",
       "      <td>0.222946</td>\n",
       "      <td>0.523117</td>\n",
       "      <td>0.407307</td>\n",
       "      <td>0.573974</td>\n",
       "      <td>...</td>\n",
       "      <td>0.376626</td>\n",
       "      <td>0.405263</td>\n",
       "      <td>0.120929</td>\n",
       "      <td>-0.262242</td>\n",
       "      <td>-0.213624</td>\n",
       "      <td>-0.129881</td>\n",
       "      <td>0.390364</td>\n",
       "      <td>0.403700</td>\n",
       "      <td>1.000000</td>\n",
       "      <td>0.391971</td>\n",
       "    </tr>\n",
       "    <tr>\n",
       "      <th>Zagreb</th>\n",
       "      <td>0.138795</td>\n",
       "      <td>0.060326</td>\n",
       "      <td>0.135492</td>\n",
       "      <td>0.951214</td>\n",
       "      <td>0.942748</td>\n",
       "      <td>0.594482</td>\n",
       "      <td>0.519984</td>\n",
       "      <td>0.915270</td>\n",
       "      <td>0.984461</td>\n",
       "      <td>0.779988</td>\n",
       "      <td>...</td>\n",
       "      <td>0.948370</td>\n",
       "      <td>0.988556</td>\n",
       "      <td>0.401631</td>\n",
       "      <td>0.520059</td>\n",
       "      <td>0.423114</td>\n",
       "      <td>0.310909</td>\n",
       "      <td>0.963631</td>\n",
       "      <td>0.963937</td>\n",
       "      <td>0.391971</td>\n",
       "      <td>1.000000</td>\n",
       "    </tr>\n",
       "  </tbody>\n",
       "</table>\n",
       "<p>729 rows × 729 columns</p>\n",
       "</div>"
      ],
      "text/plain": [
       "           nAcid     ALogP    ALogp2       AMR      apol  naAromAtom  \\\n",
       "nAcid   1.000000  0.298464  0.294498  0.127125  0.087442    0.148992   \n",
       "ALogP   0.298464  1.000000  0.839721  0.154591  0.044144    0.352324   \n",
       "ALogp2  0.294498  0.839721  1.000000  0.206210  0.131773    0.258400   \n",
       "AMR     0.127125  0.154591  0.206210  1.000000  0.961691    0.661600   \n",
       "apol    0.087442  0.044144  0.131773  0.961691  1.000000    0.504649   \n",
       "...          ...       ...       ...       ...       ...         ...   \n",
       "WTPT-5 -0.081729 -0.144005 -0.106748  0.304766  0.272351    0.218260   \n",
       "WPATH   0.123396  0.043113  0.129674  0.967399  0.952547    0.600290   \n",
       "WPOL    0.149544  0.063338  0.138409  0.892645  0.906731    0.494950   \n",
       "XLogP   0.072792  0.325502  0.341661  0.448692  0.510868    0.245372   \n",
       "Zagreb  0.138795  0.060326  0.135492  0.951214  0.942748    0.594482   \n",
       "\n",
       "        nAromBond     nAtom  nHeavyAtom        nH  ...        MW    WTPT-1  \\\n",
       "nAcid    0.128085  0.071150    0.142736  0.011872  ...  0.137757  0.130279   \n",
       "ALogP    0.365084 -0.000730    0.060073 -0.060433  ...  0.054366  0.053615   \n",
       "ALogp2   0.267773  0.095173    0.142974  0.044380  ...  0.136171  0.134108   \n",
       "AMR      0.589020  0.926123    0.970967  0.804414  ...  0.946192  0.971228   \n",
       "apol     0.425076  0.990971    0.959475  0.921645  ...  0.926193  0.959164   \n",
       "...           ...       ...         ...       ...  ...       ...       ...   \n",
       "WTPT-5   0.186234  0.257380    0.320081  0.194506  ...  0.317963  0.324961   \n",
       "WPATH    0.525283  0.925527    0.992083  0.790220  ...  0.963684  0.988957   \n",
       "WPOL     0.424504  0.889545    0.933442  0.775660  ...  0.895049  0.935278   \n",
       "XLogP    0.222946  0.523117    0.407307  0.573974  ...  0.376626  0.405263   \n",
       "Zagreb   0.519984  0.915270    0.984461  0.779988  ...  0.948370  0.988556   \n",
       "\n",
       "          WTPT-2    WTPT-3    WTPT-4    WTPT-5     WPATH      WPOL     XLogP  \\\n",
       "nAcid  -0.190618  0.097911  0.099315 -0.081729  0.123396  0.149544  0.072792   \n",
       "ALogP  -0.039049 -0.173593 -0.232812 -0.144005  0.043113  0.063338  0.325502   \n",
       "ALogp2 -0.121343 -0.111207 -0.177669 -0.106748  0.129674  0.138409  0.341661   \n",
       "AMR     0.326233  0.455455  0.353602  0.304766  0.967399  0.892645  0.448692   \n",
       "apol    0.318972  0.372514  0.314274  0.272351  0.952547  0.906731  0.510868   \n",
       "...          ...       ...       ...       ...       ...       ...       ...   \n",
       "WTPT-5  0.193800  0.537170 -0.169968  1.000000  0.337279  0.221481 -0.129881   \n",
       "WPATH   0.275921  0.557568  0.434226  0.337279  1.000000  0.894391  0.390364   \n",
       "WPOL    0.379534  0.431551  0.400694  0.221481  0.894391  1.000000  0.403700   \n",
       "XLogP   0.120929 -0.262242 -0.213624 -0.129881  0.390364  0.403700  1.000000   \n",
       "Zagreb  0.401631  0.520059  0.423114  0.310909  0.963631  0.963937  0.391971   \n",
       "\n",
       "          Zagreb  \n",
       "nAcid   0.138795  \n",
       "ALogP   0.060326  \n",
       "ALogp2  0.135492  \n",
       "AMR     0.951214  \n",
       "apol    0.942748  \n",
       "...          ...  \n",
       "WTPT-5  0.310909  \n",
       "WPATH   0.963631  \n",
       "WPOL    0.963937  \n",
       "XLogP   0.391971  \n",
       "Zagreb  1.000000  \n",
       "\n",
       "[729 rows x 729 columns]"
      ]
     },
     "execution_count": 96,
     "metadata": {},
     "output_type": "execute_result"
    }
   ],
   "source": [
    "# correlation coefficient (spearman)\n",
    "spearman_corr = molt.corr(method='spearman')\n",
    "spearman_corr"
   ]
  },
  {
   "cell_type": "code",
   "execution_count": 97,
   "id": "4d2b1bd9",
   "metadata": {
    "ExecuteTime": {
     "end_time": "2021-10-14T15:25:38.589441Z",
     "start_time": "2021-10-14T15:24:10.462846Z"
    }
   },
   "outputs": [
    {
     "data": {
      "text/html": [
       "<div>\n",
       "<style scoped>\n",
       "    .dataframe tbody tr th:only-of-type {\n",
       "        vertical-align: middle;\n",
       "    }\n",
       "\n",
       "    .dataframe tbody tr th {\n",
       "        vertical-align: top;\n",
       "    }\n",
       "\n",
       "    .dataframe thead th {\n",
       "        text-align: right;\n",
       "    }\n",
       "</style>\n",
       "<table border=\"1\" class=\"dataframe\">\n",
       "  <thead>\n",
       "    <tr style=\"text-align: right;\">\n",
       "      <th></th>\n",
       "      <th>nAcid</th>\n",
       "      <th>ALogP</th>\n",
       "      <th>ALogp2</th>\n",
       "      <th>AMR</th>\n",
       "      <th>apol</th>\n",
       "      <th>naAromAtom</th>\n",
       "      <th>nAromBond</th>\n",
       "      <th>nAtom</th>\n",
       "      <th>nHeavyAtom</th>\n",
       "      <th>nH</th>\n",
       "      <th>...</th>\n",
       "      <th>MW</th>\n",
       "      <th>WTPT-1</th>\n",
       "      <th>WTPT-2</th>\n",
       "      <th>WTPT-3</th>\n",
       "      <th>WTPT-4</th>\n",
       "      <th>WTPT-5</th>\n",
       "      <th>WPATH</th>\n",
       "      <th>WPOL</th>\n",
       "      <th>XLogP</th>\n",
       "      <th>Zagreb</th>\n",
       "    </tr>\n",
       "  </thead>\n",
       "  <tbody>\n",
       "    <tr>\n",
       "      <th>nAcid</th>\n",
       "      <td>1.000000</td>\n",
       "      <td>0.242783</td>\n",
       "      <td>0.239308</td>\n",
       "      <td>0.103679</td>\n",
       "      <td>0.070950</td>\n",
       "      <td>0.129485</td>\n",
       "      <td>0.111825</td>\n",
       "      <td>0.058070</td>\n",
       "      <td>0.118812</td>\n",
       "      <td>0.009540</td>\n",
       "      <td>...</td>\n",
       "      <td>0.112130</td>\n",
       "      <td>0.106104</td>\n",
       "      <td>-0.155087</td>\n",
       "      <td>0.079962</td>\n",
       "      <td>0.080965</td>\n",
       "      <td>-0.068858</td>\n",
       "      <td>0.100843</td>\n",
       "      <td>0.122865</td>\n",
       "      <td>0.059352</td>\n",
       "      <td>0.113894</td>\n",
       "    </tr>\n",
       "    <tr>\n",
       "      <th>ALogP</th>\n",
       "      <td>0.242783</td>\n",
       "      <td>1.000000</td>\n",
       "      <td>0.800777</td>\n",
       "      <td>0.104208</td>\n",
       "      <td>0.029251</td>\n",
       "      <td>0.256064</td>\n",
       "      <td>0.265423</td>\n",
       "      <td>-0.001069</td>\n",
       "      <td>0.039567</td>\n",
       "      <td>-0.040007</td>\n",
       "      <td>...</td>\n",
       "      <td>0.035734</td>\n",
       "      <td>0.033492</td>\n",
       "      <td>-0.027091</td>\n",
       "      <td>-0.119642</td>\n",
       "      <td>-0.159800</td>\n",
       "      <td>-0.100206</td>\n",
       "      <td>0.027791</td>\n",
       "      <td>0.043853</td>\n",
       "      <td>0.239648</td>\n",
       "      <td>0.038789</td>\n",
       "    </tr>\n",
       "    <tr>\n",
       "      <th>ALogp2</th>\n",
       "      <td>0.239308</td>\n",
       "      <td>0.800777</td>\n",
       "      <td>1.000000</td>\n",
       "      <td>0.139862</td>\n",
       "      <td>0.088510</td>\n",
       "      <td>0.184618</td>\n",
       "      <td>0.190595</td>\n",
       "      <td>0.064099</td>\n",
       "      <td>0.097983</td>\n",
       "      <td>0.030823</td>\n",
       "      <td>...</td>\n",
       "      <td>0.091522</td>\n",
       "      <td>0.089362</td>\n",
       "      <td>-0.081343</td>\n",
       "      <td>-0.075785</td>\n",
       "      <td>-0.121808</td>\n",
       "      <td>-0.073275</td>\n",
       "      <td>0.087044</td>\n",
       "      <td>0.094168</td>\n",
       "      <td>0.241571</td>\n",
       "      <td>0.091182</td>\n",
       "    </tr>\n",
       "    <tr>\n",
       "      <th>AMR</th>\n",
       "      <td>0.103679</td>\n",
       "      <td>0.104208</td>\n",
       "      <td>0.139862</td>\n",
       "      <td>1.000000</td>\n",
       "      <td>0.835812</td>\n",
       "      <td>0.490678</td>\n",
       "      <td>0.431714</td>\n",
       "      <td>0.771647</td>\n",
       "      <td>0.871426</td>\n",
       "      <td>0.621016</td>\n",
       "      <td>...</td>\n",
       "      <td>0.800550</td>\n",
       "      <td>0.854597</td>\n",
       "      <td>0.205474</td>\n",
       "      <td>0.300201</td>\n",
       "      <td>0.230297</td>\n",
       "      <td>0.205596</td>\n",
       "      <td>0.845297</td>\n",
       "      <td>0.714778</td>\n",
       "      <td>0.307279</td>\n",
       "      <td>0.813880</td>\n",
       "    </tr>\n",
       "    <tr>\n",
       "      <th>apol</th>\n",
       "      <td>0.070950</td>\n",
       "      <td>0.029251</td>\n",
       "      <td>0.088510</td>\n",
       "      <td>0.835812</td>\n",
       "      <td>1.000000</td>\n",
       "      <td>0.354810</td>\n",
       "      <td>0.296287</td>\n",
       "      <td>0.926632</td>\n",
       "      <td>0.840703</td>\n",
       "      <td>0.773307</td>\n",
       "      <td>...</td>\n",
       "      <td>0.761887</td>\n",
       "      <td>0.822565</td>\n",
       "      <td>0.197623</td>\n",
       "      <td>0.238207</td>\n",
       "      <td>0.205076</td>\n",
       "      <td>0.180931</td>\n",
       "      <td>0.809873</td>\n",
       "      <td>0.734949</td>\n",
       "      <td>0.355090</td>\n",
       "      <td>0.796440</td>\n",
       "    </tr>\n",
       "    <tr>\n",
       "      <th>...</th>\n",
       "      <td>...</td>\n",
       "      <td>...</td>\n",
       "      <td>...</td>\n",
       "      <td>...</td>\n",
       "      <td>...</td>\n",
       "      <td>...</td>\n",
       "      <td>...</td>\n",
       "      <td>...</td>\n",
       "      <td>...</td>\n",
       "      <td>...</td>\n",
       "      <td>...</td>\n",
       "      <td>...</td>\n",
       "      <td>...</td>\n",
       "      <td>...</td>\n",
       "      <td>...</td>\n",
       "      <td>...</td>\n",
       "      <td>...</td>\n",
       "      <td>...</td>\n",
       "      <td>...</td>\n",
       "      <td>...</td>\n",
       "      <td>...</td>\n",
       "    </tr>\n",
       "    <tr>\n",
       "      <th>WTPT-5</th>\n",
       "      <td>-0.068858</td>\n",
       "      <td>-0.100206</td>\n",
       "      <td>-0.073275</td>\n",
       "      <td>0.205596</td>\n",
       "      <td>0.180931</td>\n",
       "      <td>0.168191</td>\n",
       "      <td>0.142109</td>\n",
       "      <td>0.170822</td>\n",
       "      <td>0.222075</td>\n",
       "      <td>0.125817</td>\n",
       "      <td>...</td>\n",
       "      <td>0.214689</td>\n",
       "      <td>0.222229</td>\n",
       "      <td>0.136613</td>\n",
       "      <td>0.402025</td>\n",
       "      <td>-0.113066</td>\n",
       "      <td>1.000000</td>\n",
       "      <td>0.229960</td>\n",
       "      <td>0.153707</td>\n",
       "      <td>-0.085784</td>\n",
       "      <td>0.213509</td>\n",
       "    </tr>\n",
       "    <tr>\n",
       "      <th>WPATH</th>\n",
       "      <td>0.100843</td>\n",
       "      <td>0.027791</td>\n",
       "      <td>0.087044</td>\n",
       "      <td>0.845297</td>\n",
       "      <td>0.809873</td>\n",
       "      <td>0.441428</td>\n",
       "      <td>0.381919</td>\n",
       "      <td>0.767337</td>\n",
       "      <td>0.941372</td>\n",
       "      <td>0.601528</td>\n",
       "      <td>...</td>\n",
       "      <td>0.854642</td>\n",
       "      <td>0.915303</td>\n",
       "      <td>0.170777</td>\n",
       "      <td>0.378931</td>\n",
       "      <td>0.291625</td>\n",
       "      <td>0.229960</td>\n",
       "      <td>1.000000</td>\n",
       "      <td>0.719380</td>\n",
       "      <td>0.265544</td>\n",
       "      <td>0.843313</td>\n",
       "    </tr>\n",
       "    <tr>\n",
       "      <th>WPOL</th>\n",
       "      <td>0.122865</td>\n",
       "      <td>0.043853</td>\n",
       "      <td>0.094168</td>\n",
       "      <td>0.714778</td>\n",
       "      <td>0.734949</td>\n",
       "      <td>0.351255</td>\n",
       "      <td>0.300929</td>\n",
       "      <td>0.717194</td>\n",
       "      <td>0.801019</td>\n",
       "      <td>0.583985</td>\n",
       "      <td>...</td>\n",
       "      <td>0.724153</td>\n",
       "      <td>0.785944</td>\n",
       "      <td>0.237359</td>\n",
       "      <td>0.291153</td>\n",
       "      <td>0.276267</td>\n",
       "      <td>0.153707</td>\n",
       "      <td>0.719380</td>\n",
       "      <td>1.000000</td>\n",
       "      <td>0.275451</td>\n",
       "      <td>0.850838</td>\n",
       "    </tr>\n",
       "    <tr>\n",
       "      <th>XLogP</th>\n",
       "      <td>0.059352</td>\n",
       "      <td>0.239648</td>\n",
       "      <td>0.241571</td>\n",
       "      <td>0.307279</td>\n",
       "      <td>0.355090</td>\n",
       "      <td>0.183698</td>\n",
       "      <td>0.168445</td>\n",
       "      <td>0.367608</td>\n",
       "      <td>0.283680</td>\n",
       "      <td>0.411826</td>\n",
       "      <td>...</td>\n",
       "      <td>0.255766</td>\n",
       "      <td>0.275068</td>\n",
       "      <td>0.080206</td>\n",
       "      <td>-0.177151</td>\n",
       "      <td>-0.140735</td>\n",
       "      <td>-0.085784</td>\n",
       "      <td>0.265544</td>\n",
       "      <td>0.275451</td>\n",
       "      <td>1.000000</td>\n",
       "      <td>0.266976</td>\n",
       "    </tr>\n",
       "    <tr>\n",
       "      <th>Zagreb</th>\n",
       "      <td>0.113894</td>\n",
       "      <td>0.038789</td>\n",
       "      <td>0.091182</td>\n",
       "      <td>0.813880</td>\n",
       "      <td>0.796440</td>\n",
       "      <td>0.432195</td>\n",
       "      <td>0.375596</td>\n",
       "      <td>0.755137</td>\n",
       "      <td>0.918928</td>\n",
       "      <td>0.590450</td>\n",
       "      <td>...</td>\n",
       "      <td>0.821096</td>\n",
       "      <td>0.909328</td>\n",
       "      <td>0.237638</td>\n",
       "      <td>0.352920</td>\n",
       "      <td>0.288763</td>\n",
       "      <td>0.213509</td>\n",
       "      <td>0.843313</td>\n",
       "      <td>0.850838</td>\n",
       "      <td>0.266976</td>\n",
       "      <td>1.000000</td>\n",
       "    </tr>\n",
       "  </tbody>\n",
       "</table>\n",
       "<p>729 rows × 729 columns</p>\n",
       "</div>"
      ],
      "text/plain": [
       "           nAcid     ALogP    ALogp2       AMR      apol  naAromAtom  \\\n",
       "nAcid   1.000000  0.242783  0.239308  0.103679  0.070950    0.129485   \n",
       "ALogP   0.242783  1.000000  0.800777  0.104208  0.029251    0.256064   \n",
       "ALogp2  0.239308  0.800777  1.000000  0.139862  0.088510    0.184618   \n",
       "AMR     0.103679  0.104208  0.139862  1.000000  0.835812    0.490678   \n",
       "apol    0.070950  0.029251  0.088510  0.835812  1.000000    0.354810   \n",
       "...          ...       ...       ...       ...       ...         ...   \n",
       "WTPT-5 -0.068858 -0.100206 -0.073275  0.205596  0.180931    0.168191   \n",
       "WPATH   0.100843  0.027791  0.087044  0.845297  0.809873    0.441428   \n",
       "WPOL    0.122865  0.043853  0.094168  0.714778  0.734949    0.351255   \n",
       "XLogP   0.059352  0.239648  0.241571  0.307279  0.355090    0.183698   \n",
       "Zagreb  0.113894  0.038789  0.091182  0.813880  0.796440    0.432195   \n",
       "\n",
       "        nAromBond     nAtom  nHeavyAtom        nH  ...        MW    WTPT-1  \\\n",
       "nAcid    0.111825  0.058070    0.118812  0.009540  ...  0.112130  0.106104   \n",
       "ALogP    0.265423 -0.001069    0.039567 -0.040007  ...  0.035734  0.033492   \n",
       "ALogp2   0.190595  0.064099    0.097983  0.030823  ...  0.091522  0.089362   \n",
       "AMR      0.431714  0.771647    0.871426  0.621016  ...  0.800550  0.854597   \n",
       "apol     0.296287  0.926632    0.840703  0.773307  ...  0.761887  0.822565   \n",
       "...           ...       ...         ...       ...  ...       ...       ...   \n",
       "WTPT-5   0.142109  0.170822    0.222075  0.125817  ...  0.214689  0.222229   \n",
       "WPATH    0.381919  0.767337    0.941372  0.601528  ...  0.854642  0.915303   \n",
       "WPOL     0.300929  0.717194    0.801019  0.583985  ...  0.724153  0.785944   \n",
       "XLogP    0.168445  0.367608    0.283680  0.411826  ...  0.255766  0.275068   \n",
       "Zagreb   0.375596  0.755137    0.918928  0.590450  ...  0.821096  0.909328   \n",
       "\n",
       "          WTPT-2    WTPT-3    WTPT-4    WTPT-5     WPATH      WPOL     XLogP  \\\n",
       "nAcid  -0.155087  0.079962  0.080965 -0.068858  0.100843  0.122865  0.059352   \n",
       "ALogP  -0.027091 -0.119642 -0.159800 -0.100206  0.027791  0.043853  0.239648   \n",
       "ALogp2 -0.081343 -0.075785 -0.121808 -0.073275  0.087044  0.094168  0.241571   \n",
       "AMR     0.205474  0.300201  0.230297  0.205596  0.845297  0.714778  0.307279   \n",
       "apol    0.197623  0.238207  0.205076  0.180931  0.809873  0.734949  0.355090   \n",
       "...          ...       ...       ...       ...       ...       ...       ...   \n",
       "WTPT-5  0.136613  0.402025 -0.113066  1.000000  0.229960  0.153707 -0.085784   \n",
       "WPATH   0.170777  0.378931  0.291625  0.229960  1.000000  0.719380  0.265544   \n",
       "WPOL    0.237359  0.291153  0.276267  0.153707  0.719380  1.000000  0.275451   \n",
       "XLogP   0.080206 -0.177151 -0.140735 -0.085784  0.265544  0.275451  1.000000   \n",
       "Zagreb  0.237638  0.352920  0.288763  0.213509  0.843313  0.850838  0.266976   \n",
       "\n",
       "          Zagreb  \n",
       "nAcid   0.113894  \n",
       "ALogP   0.038789  \n",
       "ALogp2  0.091182  \n",
       "AMR     0.813880  \n",
       "apol    0.796440  \n",
       "...          ...  \n",
       "WTPT-5  0.213509  \n",
       "WPATH   0.843313  \n",
       "WPOL    0.850838  \n",
       "XLogP   0.266976  \n",
       "Zagreb  1.000000  \n",
       "\n",
       "[729 rows x 729 columns]"
      ]
     },
     "execution_count": 97,
     "metadata": {},
     "output_type": "execute_result"
    }
   ],
   "source": [
    "# correlation coefficient (kendall)\n",
    "kendall_corr = molt.corr(method='kendall')\n",
    "kendall_corr"
   ]
  },
  {
   "cell_type": "code",
   "execution_count": 95,
   "id": "f060c71f",
   "metadata": {
    "ExecuteTime": {
     "end_time": "2021-10-14T15:17:32.302840Z",
     "start_time": "2021-10-14T15:17:32.228253Z"
    },
    "scrolled": false
   },
   "outputs": [
    {
     "data": {
      "text/plain": [
       "array([[118043.84040595, 132675.53620674, 123165.46845493, ...,\n",
       "        168432.63572077, 120200.70446671, 181696.49611774],\n",
       "       [132675.53620674, 149422.5935941 , 138334.66976985, ...,\n",
       "        189025.41909454, 134156.56328827, 204281.71565653],\n",
       "       [123165.46845493, 138334.66976985, 129197.42227975, ...,\n",
       "        178227.74898609, 126552.16400376, 192139.16268217],\n",
       "       ...,\n",
       "       [168432.63572077, 189025.41909454, 178227.74898609, ...,\n",
       "        251070.73394881, 174430.99356219, 271211.42337528],\n",
       "       [120200.70446671, 134156.56328827, 126552.16400376, ...,\n",
       "        174430.99356219, 128338.30441966, 186245.99663628],\n",
       "       [181696.49611774, 204281.71565653, 192139.16268217, ...,\n",
       "        271211.42337528, 186245.99663628, 293819.10821334]])"
      ]
     },
     "execution_count": 95,
     "metadata": {},
     "output_type": "execute_result"
    }
   ],
   "source": [
    "# Covariance matrix\n",
    "molt_cov = np.cov(molt.to_numpy())\n",
    "molt_cov\n",
    "# sns.heatmap(mol_cov, annot=True, vmax=1, square=True, cmap='Blues')"
   ]
  },
  {
   "cell_type": "code",
   "execution_count": null,
   "id": "2362dd51",
   "metadata": {},
   "outputs": [],
   "source": [
    "# chi-square test (normally for categorical variable)\n",
    "from sklearn.feature_selection import SelectKBest\n",
    "from sklearn.feature_selection import chi2"
   ]
  },
  {
   "cell_type": "markdown",
   "id": "d09cae2f",
   "metadata": {},
   "source": [
    "## 回归模型选择"
   ]
  },
  {
   "cell_type": "code",
   "execution_count": 18,
   "id": "f11b194c",
   "metadata": {
    "ExecuteTime": {
     "end_time": "2021-10-15T16:27:20.765979Z",
     "start_time": "2021-10-15T16:27:20.758234Z"
    }
   },
   "outputs": [
    {
     "data": {
      "text/plain": [
       "((1381, 20), (593, 20), (1381,), (593,))"
      ]
     },
     "execution_count": 18,
     "metadata": {},
     "output_type": "execute_result"
    }
   ],
   "source": [
    "from sklearn.model_selection import train_test_split\n",
    "from sklearn import metrics\n",
    "from sklearn.preprocessing import StandardScaler\n",
    "\n",
    "fea_selected = molt.columns[las_col]\n",
    "srcX = molt[fea_selected]\n",
    "srcy = fy\n",
    "X_train, X_test, y_train, y_test = train_test_split(srcX, srcy,test_size=0.3,shuffle=True)\n",
    "X_train.shape, X_test.shape, y_train.shape,y_test.shape"
   ]
  },
  {
   "cell_type": "code",
   "execution_count": 207,
   "id": "0e8beafa",
   "metadata": {
    "ExecuteTime": {
     "end_time": "2021-10-15T03:10:59.645709Z",
     "start_time": "2021-10-15T03:10:58.558207Z"
    }
   },
   "outputs": [
    {
     "name": "stdout",
     "output_type": "stream",
     "text": [
      "Mean Absolute Error: 0.5848705004194139\n",
      "Mean Squared Error: 0.6308633025713897\n",
      "Root Mean Squared Error: 0.7942690366440012\n"
     ]
    }
   ],
   "source": [
    "# random forest\n",
    "from sklearn.ensemble import RandomForestRegressor\n",
    "\n",
    "rfreg = RandomForestRegressor(n_estimators=100, random_state=0)\n",
    "rfreg.fit(X_train, y_train)\n",
    "y_pred = rfreg.predict(X_test)\n",
    "\n",
    "# evaluate\n",
    "print('Mean Absolute Error:', metrics.mean_absolute_error(y_test, y_pred))\n",
    "print('Mean Squared Error:', metrics.mean_squared_error(y_test, y_pred))\n",
    "print('Root Mean Squared Error:', np.sqrt(metrics.mean_squared_error(y_test, y_pred)))"
   ]
  },
  {
   "cell_type": "code",
   "execution_count": 129,
   "id": "5f56416f",
   "metadata": {
    "ExecuteTime": {
     "end_time": "2021-10-15T15:47:30.394986Z",
     "start_time": "2021-10-15T15:47:29.725198Z"
    }
   },
   "outputs": [
    {
     "name": "stdout",
     "output_type": "stream",
     "text": [
      "AdaBoost mean square error =  0.235095788356441\n"
     ]
    }
   ],
   "source": [
    "# AdaBoost regression\n",
    "from sklearn.ensemble import AdaBoostRegressor\n",
    "from sklearn.metrics import mean_squared_error\n",
    "\n",
    "adareg = AdaBoostRegressor(n_estimators=100,random_state=0,loss='linear')\n",
    "adareg.fit(X_train,y_train)\n",
    "y_pred = adareg.predict(X_test)\n",
    "ada_mse = mean_squared_error(y_test, y_pred)\n",
    "print(\"AdaBoost mean square error = \", ada_mse)"
   ]
  },
  {
   "cell_type": "code",
   "execution_count": 141,
   "id": "f0d696c1",
   "metadata": {
    "ExecuteTime": {
     "end_time": "2021-10-15T15:54:37.516889Z",
     "start_time": "2021-10-15T15:54:34.316506Z"
    }
   },
   "outputs": [
    {
     "name": "stdout",
     "output_type": "stream",
     "text": [
      "MLP Train ERROR =  0.23979818385963453\n",
      "MLP Test ERROR =  0.236549654654813\n"
     ]
    }
   ],
   "source": [
    "# neural network (perceptron)\n",
    "from sklearn.neural_network import MLPRegressor\n",
    "from sklearn.metrics import mean_squared_error\n",
    "\n",
    "# hidden_layer_sizes can be adjusted a lot\n",
    "mlpreg = MLPRegressor(\n",
    "        hidden_layer_sizes=(100,50,1), activation='relu',solver='adam',\n",
    "        alpha=0.01,max_iter=200,random_state=60)\n",
    "mlpreg.fit(X_train, y_train)\n",
    "mlpreg\n",
    "train_pred = mlpreg.predict(X_train)\n",
    "test_pred = mlpreg.predict(X_test)\n",
    "\n",
    "mse_train = mean_squared_error(y_train,train_pred)\n",
    "print (\"MLP Train ERROR = \", mse_train)\n",
    "mse_test = mean_squared_error(y_test,test_pred)\n",
    "print (\"MLP Test ERROR = \", mse_test)"
   ]
  },
  {
   "cell_type": "code",
   "execution_count": null,
   "id": "5d9b5018",
   "metadata": {},
   "outputs": [],
   "source": []
  },
  {
   "cell_type": "code",
   "execution_count": null,
   "id": "72a7bea7",
   "metadata": {},
   "outputs": [],
   "source": []
  },
  {
   "cell_type": "markdown",
   "id": "afaa5d18",
   "metadata": {},
   "source": [
    "## 分类模型选择"
   ]
  },
  {
   "cell_type": "markdown",
   "id": "b4e26cc7",
   "metadata": {},
   "source": [
    "### 导入数据并划分"
   ]
  },
  {
   "cell_type": "code",
   "execution_count": 14,
   "id": "6ac22320",
   "metadata": {
    "ExecuteTime": {
     "end_time": "2021-10-15T16:53:21.414582Z",
     "start_time": "2021-10-15T16:53:21.210357Z"
    },
    "scrolled": true
   },
   "outputs": [
    {
     "name": "stdout",
     "output_type": "stream",
     "text": [
      "<class 'pandas.core.frame.DataFrame'>\n",
      "RangeIndex: 1974 entries, 0 to 1973\n",
      "Data columns (total 6 columns):\n",
      " #   Column  Non-Null Count  Dtype \n",
      "---  ------  --------------  ----- \n",
      " 0   SMILES  1974 non-null   object\n",
      " 1   Caco-2  1974 non-null   int64 \n",
      " 2   CYP3A4  1974 non-null   int64 \n",
      " 3   hERG    1974 non-null   int64 \n",
      " 4   HOB     1974 non-null   int64 \n",
      " 5   MN      1974 non-null   int64 \n",
      "dtypes: int64(5), object(1)\n",
      "memory usage: 92.7+ KB\n"
     ]
    },
    {
     "data": {
      "text/plain": [
       "(                                              SMILES  Caco-2  CYP3A4  hERG  \\\n",
       " 0  Oc1ccc2O[C@H]([C@H](Sc2c1)C3CCCC3)c4ccc(OCCN5C...       0       1     1   \n",
       " 1  Oc1ccc2O[C@H]([C@H](Sc2c1)C3CCCCCC3)c4ccc(OCCN...       0       1     1   \n",
       " 2  Oc1ccc(cc1)[C@H]2Sc3cc(O)ccc3O[C@H]2c4ccc(OCCN...       0       1     1   \n",
       " 3  Oc1ccc2O[C@H]([C@@H](CC3CCCCC3)Sc2c1)c4ccc(OCC...       0       1     1   \n",
       " 4  Oc1ccc2O[C@H]([C@@H](Cc3ccccc3)Sc2c1)c4ccc(OCC...       0       1     1   \n",
       " \n",
       "    HOB  MN  \n",
       " 0    0   0  \n",
       " 1    0   0  \n",
       " 2    0   1  \n",
       " 3    0   0  \n",
       " 4    0   0  ,\n",
       " None,\n",
       "             Caco-2       CYP3A4         hERG          HOB           MN\n",
       " count  1974.000000  1974.000000  1974.000000  1974.000000  1974.000000\n",
       " mean      0.384498     0.740122     0.556738     0.257852     0.766971\n",
       " std       0.486600     0.438679     0.496896     0.437563     0.422868\n",
       " min       0.000000     0.000000     0.000000     0.000000     0.000000\n",
       " 25%       0.000000     0.000000     0.000000     0.000000     1.000000\n",
       " 50%       0.000000     1.000000     1.000000     0.000000     1.000000\n",
       " 75%       1.000000     1.000000     1.000000     1.000000     1.000000\n",
       " max       1.000000     1.000000     1.000000     1.000000     1.000000)"
      ]
     },
     "execution_count": 14,
     "metadata": {},
     "output_type": "execute_result"
    }
   ],
   "source": [
    "adm = pd.read_excel('ADMET.xlsx')\n",
    "adm.head(),adm.info(), adm.describe()"
   ]
  },
  {
   "cell_type": "code",
   "execution_count": 15,
   "id": "4f873c99",
   "metadata": {
    "ExecuteTime": {
     "end_time": "2021-10-15T16:53:28.392289Z",
     "start_time": "2021-10-15T16:53:28.388083Z"
    }
   },
   "outputs": [],
   "source": [
    "# Xgboost、受限玻尔兹曼机(RBM)[DBN神经网络中的核心]、多层感知MLP、自组织映射SOM、lightBM\n",
    "admt = adm.drop(columns=['SMILES'])\n",
    "caco = admt['Caco-2']\n",
    "cyp = admt['CYP3A4']\n",
    "her = admt['hERG']\n",
    "hob = admt['HOB']\n",
    "mn = admt['MN']"
   ]
  },
  {
   "cell_type": "markdown",
   "id": "664ca0a8",
   "metadata": {},
   "source": [
    "### 单独标签进行分类"
   ]
  },
  {
   "cell_type": "markdown",
   "id": "6ccb324d",
   "metadata": {},
   "source": [
    "#### Caco-2"
   ]
  },
  {
   "cell_type": "code",
   "execution_count": 16,
   "id": "e0eaa3ab",
   "metadata": {
    "ExecuteTime": {
     "end_time": "2021-10-15T16:53:29.788662Z",
     "start_time": "2021-10-15T16:53:29.783615Z"
    },
    "scrolled": true
   },
   "outputs": [
    {
     "data": {
      "text/plain": [
       "0    1215\n",
       "1     759\n",
       "Name: Caco-2, dtype: int64"
      ]
     },
     "execution_count": 16,
     "metadata": {},
     "output_type": "execute_result"
    }
   ],
   "source": [
    "# imbalanced value detection\n",
    "caco.value_counts()"
   ]
  },
  {
   "cell_type": "code",
   "execution_count": 19,
   "id": "463ef84e",
   "metadata": {
    "ExecuteTime": {
     "end_time": "2021-10-15T16:54:13.850778Z",
     "start_time": "2021-10-15T16:54:13.790157Z"
    }
   },
   "outputs": [
    {
     "data": {
      "text/plain": [
       "((1480, 729), (1480,), (494, 729), (494,), (1480, 729), (494, 729))"
      ]
     },
     "execution_count": 19,
     "metadata": {},
     "output_type": "execute_result"
    }
   ],
   "source": [
    "from sklearn.preprocessing import StandardScaler\n",
    "from sklearn.model_selection import train_test_split\n",
    "from sklearn import metrics\n",
    "\n",
    "ssc = StandardScaler()\n",
    "trans_X = ssc.fit_transform(fX)\n",
    "\n",
    "X_train, X_test, y_train, y_test = train_test_split(fX, caco.values, test_size=0.25)\n",
    "X_train_tran, X_test_tran, y_train, y_test = train_test_split(fX, caco.values, test_size=0.25)\n",
    "X_train.shape,y_train.shape,X_test.shape,y_test.shape, X_train_tran.shape, X_test_tran.shape"
   ]
  },
  {
   "cell_type": "code",
   "execution_count": 73,
   "id": "62088309",
   "metadata": {
    "ExecuteTime": {
     "end_time": "2021-10-15T17:33:25.138660Z",
     "start_time": "2021-10-15T17:33:24.769259Z"
    },
    "scrolled": true
   },
   "outputs": [
    {
     "name": "stdout",
     "output_type": "stream",
     "text": [
      "[01:33:24] WARNING: /Users/runner/miniforge3/conda-bld/xgboost-split_1631904775127/work/src/learner.cc:573: \n",
      "Parameters: { \"silent\" } might not be used.\n",
      "\n",
      "  This may not be accurate due to some parameters are only used in language bindings but\n",
      "  passed down to XGBoost core.  Or some parameters are not used but slip through this\n",
      "  verification. Please open an issue if you find above cases.\n",
      "\n",
      "\n",
      "[0]\ttrain-auc:0.62669\n",
      "[1]\ttrain-auc:0.68675\n",
      "[2]\ttrain-auc:0.70339\n",
      "[3]\ttrain-auc:0.72396\n",
      "[4]\ttrain-auc:0.74380\n",
      "[5]\ttrain-auc:0.76422\n",
      "[6]\ttrain-auc:0.77462\n",
      "[7]\ttrain-auc:0.78342\n",
      "[8]\ttrain-auc:0.78943\n",
      "[9]\ttrain-auc:0.79124\n",
      "[10]\ttrain-auc:0.79814\n",
      "[11]\ttrain-auc:0.80385\n",
      "[12]\ttrain-auc:0.80731\n",
      "[13]\ttrain-auc:0.81195\n",
      "[14]\ttrain-auc:0.81293\n",
      "[15]\ttrain-auc:0.81446\n",
      "[16]\ttrain-auc:0.81738\n",
      "[17]\ttrain-auc:0.81595\n",
      "[18]\ttrain-auc:0.81675\n",
      "[19]\ttrain-auc:0.81659\n",
      "AUC: 0.4663\n",
      "ACC: 0.5587\n",
      "Precesion: 0.3148\n",
      "Recall: 0.0859\n",
      "F1-score: 0.1349\n",
      "[[259  37]\n",
      " [181  17]]\n"
     ]
    }
   ],
   "source": [
    "# XGBoost\n",
    "import xgboost as xgb\n",
    "dtrain = xgb.DMatrix(X_train, label=y_train) \n",
    "dtest=xgb.DMatrix(X_test)\n",
    "\n",
    "params={'booster':'gbtree',\n",
    "    'objective': 'binary:logistic',\n",
    "    'eval_metric': 'auc',\n",
    "    'max_depth':4,\n",
    "    'lambda': 1,\n",
    "    'subsample':0.75,\n",
    "    'colsample_bytree':0.75,\n",
    "    'min_child_weight':2,\n",
    "    'eta': 0.025,\n",
    "    'seed':0,\n",
    "    'nthread':8,\n",
    "     'silent':0}\n",
    "\n",
    "watchlist = [(dtrain,'train')]\n",
    "bst=xgb.train(params,dtrain,num_boost_round=20,evals=watchlist)\n",
    "#输出概率\n",
    "ypred=bst.predict(dtest)\n",
    "\n",
    "# 设置阈值, 输出一些评价指标，选择概率大于0.5的为1，其他为0类\n",
    "y_pred = (ypred >= 0.5)*1\n",
    "\n",
    "from sklearn import metrics\n",
    "print ('AUC: %.4f' % metrics.roc_auc_score(y_test,ypred))\n",
    "print ('ACC: %.4f' % metrics.accuracy_score(y_test,y_pred))\n",
    "print ('Precesion: %.4f' %metrics.precision_score(y_test,y_pred))\n",
    "print ('Recall: %.4f' % metrics.recall_score(y_test,y_pred))\n",
    "print ('F1-score: %.4f' %metrics.f1_score(y_test,y_pred))\n",
    "print(metrics.confusion_matrix(y_test,y_pred))"
   ]
  },
  {
   "cell_type": "code",
   "execution_count": 72,
   "id": "9330b1b5",
   "metadata": {
    "ExecuteTime": {
     "end_time": "2021-10-15T17:33:13.945416Z",
     "start_time": "2021-10-15T17:33:13.433132Z"
    },
    "scrolled": true
   },
   "outputs": [
    {
     "name": "stdout",
     "output_type": "stream",
     "text": [
      "[1]\tvalid_0's binary_logloss: 0.674772\tvalid_0's auc: 0.480216\n",
      "Training until validation scores don't improve for 50 rounds\n",
      "[2]\tvalid_0's binary_logloss: 0.676828\tvalid_0's auc: 0.4357\n",
      "[3]\tvalid_0's binary_logloss: 0.67705\tvalid_0's auc: 0.444905\n",
      "[4]\tvalid_0's binary_logloss: 0.677819\tvalid_0's auc: 0.447388\n",
      "[5]\tvalid_0's binary_logloss: 0.678118\tvalid_0's auc: 0.453581\n",
      "[6]\tvalid_0's binary_logloss: 0.678756\tvalid_0's auc: 0.458948\n",
      "[7]\tvalid_0's binary_logloss: 0.680377\tvalid_0's auc: 0.449154\n",
      "[8]\tvalid_0's binary_logloss: 0.681135\tvalid_0's auc: 0.448514\n",
      "[9]\tvalid_0's binary_logloss: 0.681815\tvalid_0's auc: 0.447584\n",
      "[10]\tvalid_0's binary_logloss: 0.68314\tvalid_0's auc: 0.443643\n",
      "[11]\tvalid_0's binary_logloss: 0.684097\tvalid_0's auc: 0.44366\n",
      "[12]\tvalid_0's binary_logloss: 0.685833\tvalid_0's auc: 0.436135\n",
      "[13]\tvalid_0's binary_logloss: 0.686344\tvalid_0's auc: 0.438251\n",
      "[14]\tvalid_0's binary_logloss: 0.686549\tvalid_0's auc: 0.443156\n",
      "[15]\tvalid_0's binary_logloss: 0.688277\tvalid_0's auc: 0.438532\n",
      "[16]\tvalid_0's binary_logloss: 0.689719\tvalid_0's auc: 0.436911\n",
      "[17]\tvalid_0's binary_logloss: 0.691057\tvalid_0's auc: 0.436928\n",
      "[18]\tvalid_0's binary_logloss: 0.691935\tvalid_0's auc: 0.43959\n",
      "[19]\tvalid_0's binary_logloss: 0.692748\tvalid_0's auc: 0.441928\n",
      "[20]\tvalid_0's binary_logloss: 0.694297\tvalid_0's auc: 0.439351\n",
      "[21]\tvalid_0's binary_logloss: 0.695195\tvalid_0's auc: 0.44058\n",
      "[22]\tvalid_0's binary_logloss: 0.696319\tvalid_0's auc: 0.441459\n",
      "[23]\tvalid_0's binary_logloss: 0.697417\tvalid_0's auc: 0.4411\n",
      "[24]\tvalid_0's binary_logloss: 0.698028\tvalid_0's auc: 0.441834\n",
      "[25]\tvalid_0's binary_logloss: 0.698892\tvalid_0's auc: 0.441663\n",
      "[26]\tvalid_0's binary_logloss: 0.700778\tvalid_0's auc: 0.439394\n",
      "[27]\tvalid_0's binary_logloss: 0.702873\tvalid_0's auc: 0.434821\n",
      "[28]\tvalid_0's binary_logloss: 0.704333\tvalid_0's auc: 0.433968\n",
      "[29]\tvalid_0's binary_logloss: 0.705119\tvalid_0's auc: 0.435691\n",
      "[30]\tvalid_0's binary_logloss: 0.706555\tvalid_0's auc: 0.434309\n",
      "[31]\tvalid_0's binary_logloss: 0.707374\tvalid_0's auc: 0.435384\n",
      "[32]\tvalid_0's binary_logloss: 0.708855\tvalid_0's auc: 0.433908\n",
      "[33]\tvalid_0's binary_logloss: 0.710104\tvalid_0's auc: 0.433209\n",
      "[34]\tvalid_0's binary_logloss: 0.711679\tvalid_0's auc: 0.43111\n",
      "[35]\tvalid_0's binary_logloss: 0.713152\tvalid_0's auc: 0.430581\n",
      "[36]\tvalid_0's binary_logloss: 0.714618\tvalid_0's auc: 0.431025\n",
      "[37]\tvalid_0's binary_logloss: 0.716154\tvalid_0's auc: 0.429882\n",
      "[38]\tvalid_0's binary_logloss: 0.717107\tvalid_0's auc: 0.429267\n",
      "[39]\tvalid_0's binary_logloss: 0.717923\tvalid_0's auc: 0.429233\n",
      "[40]\tvalid_0's binary_logloss: 0.718662\tvalid_0's auc: 0.429028\n",
      "[41]\tvalid_0's binary_logloss: 0.719129\tvalid_0's auc: 0.431025\n",
      "[42]\tvalid_0's binary_logloss: 0.719534\tvalid_0's auc: 0.43297\n",
      "[43]\tvalid_0's binary_logloss: 0.72065\tvalid_0's auc: 0.433089\n",
      "[44]\tvalid_0's binary_logloss: 0.721706\tvalid_0's auc: 0.433166\n",
      "[45]\tvalid_0's binary_logloss: 0.721889\tvalid_0's auc: 0.434446\n",
      "[46]\tvalid_0's binary_logloss: 0.723413\tvalid_0's auc: 0.433985\n",
      "[47]\tvalid_0's binary_logloss: 0.72493\tvalid_0's auc: 0.432006\n",
      "[48]\tvalid_0's binary_logloss: 0.725355\tvalid_0's auc: 0.433934\n",
      "[49]\tvalid_0's binary_logloss: 0.727446\tvalid_0's auc: 0.430283\n",
      "[50]\tvalid_0's binary_logloss: 0.729046\tvalid_0's auc: 0.427126\n",
      "[51]\tvalid_0's binary_logloss: 0.72966\tvalid_0's auc: 0.428354\n",
      "Early stopping, best iteration is:\n",
      "[1]\tvalid_0's binary_logloss: 0.674772\tvalid_0's auc: 0.480216\n",
      "AUC: 0.4802\n",
      "ACC: 0.5992\n",
      "Precesion: 0.0000\n",
      "Recall: 0.0000\n",
      "F1-score: 0.0000\n",
      "[[296   0]\n",
      " [198   0]]\n"
     ]
    },
    {
     "name": "stderr",
     "output_type": "stream",
     "text": [
      "/Users/johnson/opt/anaconda3/envs/prac/lib/python3.8/site-packages/sklearn/metrics/_classification.py:1248: UndefinedMetricWarning: Precision is ill-defined and being set to 0.0 due to no predicted samples. Use `zero_division` parameter to control this behavior.\n",
      "  _warn_prf(average, modifier, msg_start, len(result))\n"
     ]
    }
   ],
   "source": [
    "# LightGBM\n",
    "import lightgbm as lgb\n",
    "dtrain = lgb.Dataset(X_train, label=y_train) \n",
    "dtest=lgb.Dataset(X_test,label=y_test)\n",
    "\n",
    "params = {'num_leaves': 60,\n",
    "          'min_data_in_leaf': 30,\n",
    "          'objective': 'binary',\n",
    "          'max_depth': -1,\n",
    "          'learning_rate': 0.03,\n",
    "          \"min_sum_hessian_in_leaf\": 6,\n",
    "          \"boosting\": \"gbdt\",\n",
    "          \"feature_fraction\": 0.9,\n",
    "          \"bagging_freq\": 1,\n",
    "          \"bagging_fraction\": 0.8,\n",
    "          \"bagging_seed\": 11,\n",
    "          \"lambda_l1\": 0,\n",
    "          # 'lambda_l2': 0.001,\n",
    "          \"verbosity\": -1,\n",
    "          \"nthread\": -1,\n",
    "          'metric': {'binary_logloss', 'auc'},\n",
    "          \"random_state\": 2021,\n",
    "          # 'device': 'gpu'\n",
    "          }\n",
    "\n",
    "gbm = lgb.train(params,\n",
    "                dtrain,\n",
    "                num_boost_round=100,\n",
    "                valid_sets=dtest,\n",
    "                early_stopping_rounds=50)\n",
    "#输出概率\n",
    "ypred=gbm.predict(X_test)\n",
    "\n",
    "# 设置阈值, 输出一些评价指标，选择概率大于0.5的为1，其他为0类\n",
    "y_pred = (ypred >= 0.5)*1\n",
    "\n",
    "print ('AUC: %.4f' % metrics.roc_auc_score(y_test,ypred))\n",
    "print ('ACC: %.4f' % metrics.accuracy_score(y_test,y_pred))\n",
    "print ('Precesion: %.4f' %metrics.precision_score(y_test,y_pred))\n",
    "print ('Recall: %.4f' % metrics.recall_score(y_test,y_pred))\n",
    "print ('F1-score: %.4f' %metrics.f1_score(y_test,y_pred))\n",
    "print(metrics.confusion_matrix(y_test,y_pred))"
   ]
  },
  {
   "cell_type": "code",
   "execution_count": 68,
   "id": "c7105a29",
   "metadata": {
    "ExecuteTime": {
     "end_time": "2021-10-15T17:31:05.869079Z",
     "start_time": "2021-10-15T17:31:05.854410Z"
    }
   },
   "outputs": [
    {
     "data": {
      "text/plain": [
       "array([0.38636547, 0.39200813, 0.38000899, 0.37066199, 0.3767851 ,\n",
       "       0.37715305, 0.38513856, 0.38336685, 0.37715305, 0.39328145,\n",
       "       0.39328145, 0.38636547, 0.38560398, 0.38093424, 0.39328145,\n",
       "       0.38560398, 0.38542156, 0.37246992, 0.37360123, 0.37835915,\n",
       "       0.38447852, 0.37293068, 0.38131361, 0.37263953, 0.38093424,\n",
       "       0.37715305, 0.38560398, 0.38348482, 0.37324557, 0.37167884,\n",
       "       0.37104067, 0.37104067, 0.38000899, 0.37360123, 0.37621786,\n",
       "       0.37835915, 0.38000899, 0.38636547, 0.36873908, 0.38348482,\n",
       "       0.38058363, 0.39396595, 0.38636547, 0.38000899, 0.38542156,\n",
       "       0.38336685, 0.38000899, 0.37066199, 0.39328145, 0.37835915,\n",
       "       0.37263953, 0.39328145, 0.38513856, 0.36870999, 0.37621786,\n",
       "       0.37167884, 0.38542156, 0.37293068, 0.38131361, 0.37263953,\n",
       "       0.38000899, 0.37293068, 0.38636547, 0.38542156, 0.38000899,\n",
       "       0.39200813, 0.37263953, 0.37360123, 0.38636547, 0.38058363,\n",
       "       0.37715305, 0.38336685, 0.37835915, 0.37545839, 0.37104067,\n",
       "       0.3767851 , 0.39396595, 0.37263953, 0.37263953, 0.38348482,\n",
       "       0.38058363, 0.37293068, 0.37104067, 0.37324557, 0.38214183,\n",
       "       0.38348482, 0.37835915, 0.37341783, 0.37835915, 0.38131361,\n",
       "       0.37104067, 0.37066199, 0.36873908, 0.38214183, 0.38513856,\n",
       "       0.37324557, 0.37066199, 0.38000899, 0.36870999, 0.38542156,\n",
       "       0.38214183, 0.38636547, 0.39328145, 0.37545839, 0.37545839,\n",
       "       0.37081829, 0.37293068, 0.38000899, 0.38131361, 0.37360123,\n",
       "       0.38131361, 0.38131361, 0.38348482, 0.38336685, 0.38336685,\n",
       "       0.37246992, 0.37066199, 0.3767851 , 0.37246992, 0.37360123,\n",
       "       0.38000899, 0.38542156, 0.39328145, 0.37066199, 0.37167884,\n",
       "       0.37545839, 0.38513856, 0.38513856, 0.38058363, 0.37167884,\n",
       "       0.37167884, 0.38348482, 0.38214183, 0.37167884, 0.37715305,\n",
       "       0.38336685, 0.38447852, 0.37835915, 0.37293068, 0.37104067,\n",
       "       0.37324557, 0.39200813, 0.37715305, 0.38348482, 0.38348482,\n",
       "       0.38348482, 0.37621786, 0.39200813, 0.37715305, 0.37066199,\n",
       "       0.37835915, 0.36873908, 0.39396595, 0.38542156, 0.38058363,\n",
       "       0.38560398, 0.38447852, 0.37715305, 0.38131361, 0.36873908,\n",
       "       0.38131361, 0.38336685, 0.38636547, 0.37360123, 0.38093424,\n",
       "       0.3767851 , 0.39328145, 0.38058363, 0.37324557, 0.37246992,\n",
       "       0.39328145, 0.38636547, 0.39328145, 0.39200813, 0.39200813,\n",
       "       0.37081829, 0.37066199, 0.37167884, 0.38336685, 0.37341783,\n",
       "       0.37246992, 0.38214183, 0.39200813, 0.37246992, 0.36873908,\n",
       "       0.37104067, 0.38560398, 0.38513856, 0.38513856, 0.37360123,\n",
       "       0.38348482, 0.39200813, 0.38336685, 0.37360123, 0.37104067,\n",
       "       0.38131361, 0.37835915, 0.37341783, 0.38542156, 0.37293068,\n",
       "       0.38336685, 0.36870999, 0.37835915, 0.38131361, 0.38000899,\n",
       "       0.38131361, 0.37246992, 0.37066199, 0.38636547, 0.37066199,\n",
       "       0.37324557, 0.36873908, 0.36873908, 0.39396595, 0.38513856,\n",
       "       0.39396595, 0.38447852, 0.37360123, 0.37246992, 0.38131361,\n",
       "       0.37263953, 0.39200813, 0.37066199, 0.38513856, 0.37715305,\n",
       "       0.38000899, 0.37167884, 0.38093424, 0.38636547, 0.38093424,\n",
       "       0.39200813, 0.38348482, 0.38000899, 0.38513856, 0.39396595,\n",
       "       0.37621786, 0.36870999, 0.37324557, 0.37621786, 0.38348482,\n",
       "       0.37066199, 0.38058363, 0.38348482, 0.38214183, 0.3767851 ,\n",
       "       0.38336685, 0.38336685, 0.39328145, 0.38058363, 0.37324557,\n",
       "       0.38336685, 0.37081829, 0.38131361, 0.38447852, 0.37263953,\n",
       "       0.38093424, 0.37066199, 0.37835915, 0.39328145, 0.38636547,\n",
       "       0.37545839, 0.37104067, 0.38214183, 0.37715305, 0.37621786,\n",
       "       0.37621786, 0.38447852, 0.38093424, 0.39200813, 0.38636547,\n",
       "       0.39328145, 0.38560398, 0.37066199, 0.3767851 , 0.38560398,\n",
       "       0.37293068, 0.38542156, 0.37324557, 0.39396595, 0.39396595,\n",
       "       0.37066199, 0.37324557, 0.38131361, 0.38447852, 0.38447852,\n",
       "       0.37293068, 0.38447852, 0.37341783, 0.36870999, 0.36870999,\n",
       "       0.38348482, 0.38000899, 0.39328145, 0.37293068, 0.37104067,\n",
       "       0.37263953, 0.37341783, 0.38513856, 0.36870999, 0.38058363,\n",
       "       0.38447852, 0.38513856, 0.37167884, 0.38636547, 0.38636547,\n",
       "       0.37246992, 0.36870999, 0.39328145, 0.37246992, 0.38131361,\n",
       "       0.36873908, 0.39200813, 0.3767851 , 0.37324557, 0.37545839,\n",
       "       0.39396595, 0.38513856, 0.36870999, 0.38542156, 0.36870999,\n",
       "       0.38542156, 0.38058363, 0.38336685, 0.36870999, 0.38513856,\n",
       "       0.38214183, 0.39396595, 0.38636547, 0.38214183, 0.37263953,\n",
       "       0.3767851 , 0.38000899, 0.37104067, 0.37246992, 0.37246992,\n",
       "       0.37715305, 0.37341783, 0.38000899, 0.39328145, 0.36873908,\n",
       "       0.38214183, 0.38348482, 0.37341783, 0.37263953, 0.37715305,\n",
       "       0.37066199, 0.37246992, 0.37066199, 0.3767851 , 0.39328145,\n",
       "       0.38513856, 0.37246992, 0.37104067, 0.37360123, 0.38513856,\n",
       "       0.37293068, 0.38093424, 0.38336685, 0.37545839, 0.37293068,\n",
       "       0.38058363, 0.38214183, 0.38336685, 0.37324557, 0.37360123,\n",
       "       0.37066199, 0.37360123, 0.38000899, 0.39328145, 0.38447852,\n",
       "       0.37246992, 0.37066199, 0.38542156, 0.37263953, 0.37835915,\n",
       "       0.39200813, 0.38348482, 0.37263953, 0.37104067, 0.38542156,\n",
       "       0.37246992, 0.38447852, 0.37835915, 0.38058363, 0.36870999,\n",
       "       0.36870999, 0.38542156, 0.37341783, 0.37263953, 0.37341783,\n",
       "       0.38000899, 0.37715305, 0.37293068, 0.37246992, 0.37167884,\n",
       "       0.38336685, 0.38542156, 0.37263953, 0.37066199, 0.38447852,\n",
       "       0.38513856, 0.39200813, 0.37293068, 0.36870999, 0.37360123,\n",
       "       0.36873908, 0.37167884, 0.38542156, 0.36870999, 0.38336685,\n",
       "       0.38336685, 0.37835915, 0.37360123, 0.38542156, 0.39396595,\n",
       "       0.38513856, 0.38560398, 0.38000899, 0.37293068, 0.38513856,\n",
       "       0.37715305, 0.39200813, 0.36873908, 0.38131361, 0.38348482,\n",
       "       0.38000899, 0.39200813, 0.39200813, 0.38093424, 0.37324557,\n",
       "       0.37104067, 0.37324557, 0.38348482, 0.37066199, 0.38214183,\n",
       "       0.38447852, 0.37263953, 0.38093424, 0.3767851 , 0.36873908,\n",
       "       0.38058363, 0.38131361, 0.37715305, 0.37246992, 0.38447852,\n",
       "       0.38131361, 0.37715305, 0.38348482, 0.37104067, 0.38560398,\n",
       "       0.37066199, 0.38636547, 0.38131361, 0.37246992, 0.38093424,\n",
       "       0.37835915, 0.38348482, 0.36870999, 0.38447852, 0.38058363,\n",
       "       0.37324557, 0.37246992, 0.37324557, 0.38093424, 0.3767851 ,\n",
       "       0.38093424, 0.37360123, 0.38214183, 0.37341783, 0.38542156,\n",
       "       0.38560398, 0.38542156, 0.37341783, 0.37835915, 0.39396595,\n",
       "       0.37066199, 0.37066199, 0.38513856, 0.38636547, 0.38636547,\n",
       "       0.39396595, 0.38000899, 0.37167884, 0.38447852, 0.38513856,\n",
       "       0.37081829, 0.39328145, 0.39328145, 0.38000899, 0.38093424,\n",
       "       0.39328145, 0.38214183, 0.36870999, 0.38447852])"
      ]
     },
     "execution_count": 68,
     "metadata": {},
     "output_type": "execute_result"
    }
   ],
   "source": [
    "ypred"
   ]
  },
  {
   "cell_type": "code",
   "execution_count": 24,
   "id": "256b123c",
   "metadata": {
    "ExecuteTime": {
     "end_time": "2021-10-15T16:27:33.755843Z",
     "start_time": "2021-10-15T16:27:33.633837Z"
    },
    "scrolled": true
   },
   "outputs": [
    {
     "name": "stdout",
     "output_type": "stream",
     "text": [
      "[0.611336032388664, 0.49959233237921763]\n"
     ]
    },
    {
     "name": "stderr",
     "output_type": "stream",
     "text": [
      "/Users/johnson/opt/anaconda3/envs/prac/lib/python3.8/site-packages/sklearn/linear_model/_logistic.py:763: ConvergenceWarning: lbfgs failed to converge (status=1):\n",
      "STOP: TOTAL NO. of ITERATIONS REACHED LIMIT.\n",
      "\n",
      "Increase the number of iterations (max_iter) or scale the data as shown in:\n",
      "    https://scikit-learn.org/stable/modules/preprocessing.html\n",
      "Please also refer to the documentation for alternative solver options:\n",
      "    https://scikit-learn.org/stable/modules/linear_model.html#logistic-regression\n",
      "  n_iter_i = _check_optimize_result(\n"
     ]
    }
   ],
   "source": [
    "from sklearn.linear_model import LogisticRegression\n",
    "\n",
    "lr = LogisticRegression()                                        # 实例化一个LR模型\n",
    "lr.fit(X_train,y_train)                                          # 训练模型\n",
    "y_prob = lr.predict_proba(X_test)[:,1]                           # 预测1类的概率\n",
    "y_pred = lr.predict(X_test)                                      # 模型对测试集的预测结果\n",
    "fpr_lr,tpr_lr,threshold_lr = metrics.roc_curve(y_test,y_prob)    # 获取真阳率、伪阳率、阈值\n",
    "auc_lr = metrics.auc(fpr_lr,tpr_lr)                              # AUC得分\n",
    "score_lr = metrics.accuracy_score(y_test,y_pred)                 # 模型准确率\n",
    "print([score_lr,auc_lr])"
   ]
  },
  {
   "cell_type": "code",
   "execution_count": 25,
   "id": "17569f6c",
   "metadata": {
    "ExecuteTime": {
     "end_time": "2021-10-15T16:33:08.143847Z",
     "start_time": "2021-10-15T16:27:39.442858Z"
    }
   },
   "outputs": [
    {
     "name": "stdout",
     "output_type": "stream",
     "text": [
      "[0.5323886639676113, 0.49620955850464044]\n",
      "[0.6174089068825911, 0.4689912394830428]\n",
      "[0.562753036437247, 0.515725561627201]\n"
     ]
    }
   ],
   "source": [
    "# SVM\n",
    "from sklearn.svm import SVC\n",
    "from sklearn import metrics\n",
    "\n",
    "kernelList = ['linear','rbf','sigmoid']\n",
    "for kernel in kernelList:\n",
    "    svc = SVC(kernel=kernel).fit(X_train,y_train)\n",
    "\n",
    "    # decision border distance\n",
    "    y_prob = svc.decision_function(X_test)\n",
    "    y_pred = svc.predict(X_test)\n",
    "    # false positive, true positive\n",
    "    fpr_svc,tpr_svc,threshold_svc = metrics.roc_curve(y_test,y_prob)\n",
    "    # auc curve\n",
    "    auc_svc = metrics.auc(fpr_svc,tpr_svc)\n",
    "    score_svc = metrics.accuracy_score(y_test,y_pred)\n",
    "    print([score_svc,auc_svc])"
   ]
  },
  {
   "cell_type": "code",
   "execution_count": null,
   "id": "df622f67",
   "metadata": {
    "ExecuteTime": {
     "start_time": "2021-10-15T16:09:04.238Z"
    }
   },
   "outputs": [],
   "source": [
    "# SVM with standardization\n",
    "kernelList = ['linear','rbf','sigmoid']\n",
    "for kernel in kernelList:\n",
    "    svc = SVC(kernel=kernel).fit(X_train_tran,y_train)\n",
    "\n",
    "    # decision border distance\n",
    "    y_prob = svc.decision_function(X_test_tran)\n",
    "    y_pred = svc.predict(X_test_tran)\n",
    "    # false positive, true positive\n",
    "    fpr_svc,tpr_svc,threshold_svc = metrics.roc_curve(y_test,y_prob)\n",
    "    # auc curve\n",
    "    auc_svc = metrics.auc(fpr_svc,tpr_svc)\n",
    "    score_svc = metrics.accuracy_score(y_test,y_pred)\n",
    "    print([score_svc,auc_svc])"
   ]
  },
  {
   "cell_type": "code",
   "execution_count": null,
   "id": "ec5c40af",
   "metadata": {
    "ExecuteTime": {
     "start_time": "2021-10-15T16:09:06.033Z"
    }
   },
   "outputs": [],
   "source": [
    "# param gamma tuning\n",
    "score_gamma=[]\n",
    "gammaList=np.logspace(-10,1,50)\n",
    "\n",
    "for gamma in gammaList:\n",
    "    svc = SVC(gamma=gamma).fit(X_train,y_train)\n",
    "    score_gamma.append(svc.score(X_test,y_test))\n",
    "\n",
    "print('gamma={}, get highest score={}'.format(gammaList[score_gamma.index(max(score_gamma))],max(score_gamma)))\n",
    "# plt.plot(gammaList,score_gamma)"
   ]
  },
  {
   "cell_type": "code",
   "execution_count": null,
   "id": "403cb5bc",
   "metadata": {},
   "outputs": [],
   "source": [
    "# penalty to avoid overfitting\n",
    "score_C=[]\n",
    "CList=np.linspace(0.01,30,50)\n",
    "\n",
    "for i in CList:\n",
    "    svc = SVC(C=i).fit(X_train,y_train)\n",
    "    score_C.append(svc.score(X_test,y_test))\n",
    "\n",
    "print('C={}时, get highest score={}'.format(CList[score_C.index(max(score_C))],max(score_C)))\n",
    "plt.plot(CList, score_C)"
   ]
  },
  {
   "cell_type": "code",
   "execution_count": 230,
   "id": "25ecbebb",
   "metadata": {
    "ExecuteTime": {
     "end_time": "2021-10-15T04:24:47.298537Z",
     "start_time": "2021-10-15T04:24:47.227659Z"
    }
   },
   "outputs": [
    {
     "name": "stdout",
     "output_type": "stream",
     "text": [
      "[0.8502024291497976, 0.9184599668413913]\n"
     ]
    }
   ],
   "source": [
    "# KNN with standardization\n",
    "from sklearn.neighbors import KNeighborsClassifier\n",
    "\n",
    "knn = KNeighborsClassifier(n_neighbors=5,weights='uniform').fit(X_train_tran,y_train)\n",
    "# knn = KNeighborsClassifier(n_neighbors=5,weights='distance').fit(X_train_tran,y_train)\n",
    "\n",
    "y_prob = knn.predict_proba(X_test_tran)[:,1]                              \n",
    "y_pred = knn.predict(X_test_tran)                                       \n",
    "fpr_knn,tpr_knn,threshold_knn = metrics.roc_curve(y_test,y_prob)   \n",
    "auc_knn = metrics.auc(fpr_knn,tpr_knn)                              \n",
    "score_knn = metrics.accuracy_score(y_test,y_pred)\n",
    "print([score_knn,auc_knn])"
   ]
  },
  {
   "cell_type": "code",
   "execution_count": 242,
   "id": "f5c1179d",
   "metadata": {
    "ExecuteTime": {
     "end_time": "2021-10-15T05:47:39.331720Z",
     "start_time": "2021-10-15T05:47:38.858574Z"
    }
   },
   "outputs": [
    {
     "name": "stdout",
     "output_type": "stream",
     "text": [
      "K=5, get highest score=0.5546558704453441\n"
     ]
    },
    {
     "data": {
      "text/plain": [
       "[<matplotlib.lines.Line2D at 0x7fe8c8954490>]"
      ]
     },
     "execution_count": 242,
     "metadata": {},
     "output_type": "execute_result"
    },
    {
     "data": {
      "image/png": "[encoded data removed]",
      "text/plain": [
       "<Figure size 432x288 with 1 Axes>"
      ]
     },
     "metadata": {
      "needs_background": "light"
     },
     "output_type": "display_data"
    }
   ],
   "source": [
    "# select best K \n",
    "score_K=[]\n",
    "KList=range(2,13)\n",
    "\n",
    "for k in KList:\n",
    "    knn = KNeighborsClassifier(n_neighbors=k).fit(X_train,y_train)\n",
    "    score_K.append(knn.score(X_test,y_test))\n",
    "\n",
    "print('K={}, get highest score={}'.format(KList[score_K.index(max(score_K))],max(score_K)))\n",
    "plt.plot(KList, score_K)"
   ]
  },
  {
   "cell_type": "code",
   "execution_count": 231,
   "id": "c2de8dfc",
   "metadata": {
    "ExecuteTime": {
     "end_time": "2021-10-15T04:25:44.427358Z",
     "start_time": "2021-10-15T04:25:44.000209Z"
    }
   },
   "outputs": [
    {
     "name": "stdout",
     "output_type": "stream",
     "text": [
      "[0.5344129554655871, 0.524014871133589]\n"
     ]
    }
   ],
   "source": [
    "# decision tree\n",
    "from sklearn import tree\n",
    "\n",
    "dtc = tree.DecisionTreeClassifier()                         \n",
    "dtc.fit(X_train,y_train)                                       \n",
    "y_prob = dtc.predict_proba(X_test)[:,1]                          \n",
    "y_pred = dtc.predict(X_test)                                      \n",
    "fpr_dtc,tpr_dtc,threshod_dtc= metrics.roc_curve(y_test,y_prob)   \n",
    "score_dtc = metrics.accuracy_score(y_test,y_pred)                \n",
    "auc_dtc = metrics.auc(fpr_dtc,tpr_dtc) \n",
    "print([score_dtc,auc_dtc])"
   ]
  },
  {
   "cell_type": "code",
   "execution_count": 232,
   "id": "9698b0a8",
   "metadata": {
    "ExecuteTime": {
     "end_time": "2021-10-15T04:26:19.796573Z",
     "start_time": "2021-10-15T04:26:18.687791Z"
    }
   },
   "outputs": [
    {
     "name": "stdout",
     "output_type": "stream",
     "text": [
      "[0.5526315789473685, 0.501758411066267]\n"
     ]
    }
   ],
   "source": [
    "# random forest classifier\n",
    "from sklearn.ensemble import RandomForestClassifier\n",
    "\n",
    "rfc = RandomForestClassifier()                                     \n",
    "rfc.fit(X_train,y_train)                                           \n",
    "y_prob = rfc.predict_proba(X_test)[:,1]                           \n",
    "fpr_rfc,tpr_rfc,threshold_rfc = metrics.roc_curve(y_test,y_prob)    \n",
    "auc_rfc = metrics.auc(fpr_rfc,tpr_rfc)                             \n",
    "score_rfc = metrics.accuracy_score(y_test,y_pred)                \n",
    "print([score_rfc,auc_rfc])"
   ]
  },
  {
   "cell_type": "code",
   "execution_count": 234,
   "id": "9221c413",
   "metadata": {
    "ExecuteTime": {
     "end_time": "2021-10-15T04:27:48.457862Z",
     "start_time": "2021-10-15T04:27:47.749875Z"
    }
   },
   "outputs": [
    {
     "name": "stdout",
     "output_type": "stream",
     "text": [
      "[0.5526315789473685, 0.9557717749903706]\n"
     ]
    }
   ],
   "source": [
    "# random forest classifier with standardization\n",
    "from sklearn.ensemble import RandomForestClassifier\n",
    "\n",
    "rfc = RandomForestClassifier(n_estimators=100)                                     \n",
    "rfc.fit(X_train_tran,y_train)                                           \n",
    "y_prob = rfc.predict_proba(X_test_tran)[:,1]                           \n",
    "fpr_rfc,tpr_rfc,threshold_rfc = metrics.roc_curve(y_test,y_prob)    \n",
    "auc_rfc = metrics.auc(fpr_rfc,tpr_rfc)                             \n",
    "score_rfc = metrics.accuracy_score(y_test,y_pred)                \n",
    "print([score_rfc,auc_rfc])"
   ]
  },
  {
   "cell_type": "code",
   "execution_count": 38,
   "id": "7a89cb77",
   "metadata": {
    "ExecuteTime": {
     "end_time": "2021-10-15T08:42:27.422626Z",
     "start_time": "2021-10-15T08:42:06.392979Z"
    }
   },
   "outputs": [
    {
     "name": "stdout",
     "output_type": "stream",
     "text": [
      "\n",
      "[0.5890688259109311,0.5079607434734259]\n"
     ]
    }
   ],
   "source": [
    "# AdaBoost Classifier\n",
    "from sklearn.ensemble import AdaBoostClassifier\n",
    "from sklearn.tree import DecisionTreeClassifier\n",
    "from sklearn.ensemble import RandomForestClassifier\n",
    "from sklearn.metrics import confusion_matrix\n",
    "\n",
    "# use weak classifier\n",
    "adaclf = AdaBoostClassifier(\n",
    "    DecisionTreeClassifier(max_depth=1),\n",
    "#     RandomForestClassifier(max_depth=1),\n",
    "    n_estimators=100\n",
    ")\n",
    "adaclf.fit(X_train, y_train)\n",
    "y_pred = adaclf.predict(X_test)\n",
    "# print('adaboost confusion matrix:')\n",
    "conf_mat = confusion_matrix(y_test, y_pred)\n",
    "fpr_ada,tpr_ada,threshold_ada = metrics.roc_curve(y_test,y_pred)    \n",
    "auc_ada = metrics.auc(fpr_ada,tpr_ada)                             \n",
    "score_ada = metrics.accuracy_score(y_test,y_pred)  \n",
    "print('[{},{}]'.format(score_ada,auc_ada))"
   ]
  },
  {
   "cell_type": "code",
   "execution_count": 142,
   "id": "1a06c89e",
   "metadata": {
    "ExecuteTime": {
     "end_time": "2021-10-15T16:08:35.271936Z",
     "start_time": "2021-10-15T16:08:35.243463Z"
    }
   },
   "outputs": [
    {
     "ename": "NameError",
     "evalue": "name 'fpr_lr' is not defined",
     "output_type": "error",
     "traceback": [
      "\u001b[0;31m---------------------------------------------------------------------------\u001b[0m",
      "\u001b[0;31mNameError\u001b[0m                                 Traceback (most recent call last)",
      "\u001b[0;32m/var/folders/c6/0jf57m_17bsc_6syyb0bf4qr0000gn/T/ipykernel_3208/144941907.py\u001b[0m in \u001b[0;36m<module>\u001b[0;34m\u001b[0m\n\u001b[1;32m      3\u001b[0m \u001b[0mplt\u001b[0m\u001b[0;34m.\u001b[0m\u001b[0mfigure\u001b[0m\u001b[0;34m(\u001b[0m\u001b[0mfigsize\u001b[0m\u001b[0;34m=\u001b[0m\u001b[0;34m(\u001b[0m\u001b[0;36m13\u001b[0m\u001b[0;34m,\u001b[0m\u001b[0;36m10\u001b[0m\u001b[0;34m)\u001b[0m\u001b[0;34m)\u001b[0m\u001b[0;34m\u001b[0m\u001b[0;34m\u001b[0m\u001b[0m\n\u001b[1;32m      4\u001b[0m \u001b[0;34m\u001b[0m\u001b[0m\n\u001b[0;32m----> 5\u001b[0;31m \u001b[0mplt\u001b[0m\u001b[0;34m.\u001b[0m\u001b[0mplot\u001b[0m\u001b[0;34m(\u001b[0m\u001b[0mfpr_lr\u001b[0m\u001b[0;34m,\u001b[0m\u001b[0mtpr_lr\u001b[0m\u001b[0;34m,\u001b[0m\u001b[0mlabel\u001b[0m\u001b[0;34m=\u001b[0m\u001b[0;34m'lr'\u001b[0m\u001b[0;34m)\u001b[0m\u001b[0;34m\u001b[0m\u001b[0;34m\u001b[0m\u001b[0m\n\u001b[0m\u001b[1;32m      6\u001b[0m \u001b[0mplt\u001b[0m\u001b[0;34m.\u001b[0m\u001b[0mplot\u001b[0m\u001b[0;34m(\u001b[0m\u001b[0mfpr_svc\u001b[0m\u001b[0;34m,\u001b[0m\u001b[0mtpr_svc\u001b[0m\u001b[0;34m,\u001b[0m\u001b[0mlabel\u001b[0m\u001b[0;34m=\u001b[0m\u001b[0;34m'svc'\u001b[0m\u001b[0;34m)\u001b[0m\u001b[0;34m\u001b[0m\u001b[0;34m\u001b[0m\u001b[0m\n\u001b[1;32m      7\u001b[0m \u001b[0mplt\u001b[0m\u001b[0;34m.\u001b[0m\u001b[0mplot\u001b[0m\u001b[0;34m(\u001b[0m\u001b[0mfpr_knn\u001b[0m\u001b[0;34m,\u001b[0m\u001b[0mtpr_knn\u001b[0m\u001b[0;34m,\u001b[0m\u001b[0mlabel\u001b[0m\u001b[0;34m=\u001b[0m\u001b[0;34m'knn'\u001b[0m\u001b[0;34m)\u001b[0m\u001b[0;34m\u001b[0m\u001b[0;34m\u001b[0m\u001b[0m\n",
      "\u001b[0;31mNameError\u001b[0m: name 'fpr_lr' is not defined"
     ]
    },
    {
     "data": {
      "text/plain": [
       "<Figure size 936x720 with 0 Axes>"
      ]
     },
     "metadata": {},
     "output_type": "display_data"
    }
   ],
   "source": [
    "# comparison between different approaches\n",
    "plt.style.use('bmh')\n",
    "plt.figure(figsize=(13,10))\n",
    "\n",
    "plt.plot(fpr_lr,tpr_lr,label='lr')                             \n",
    "plt.plot(fpr_svc,tpr_svc,label='svc')                          \n",
    "plt.plot(fpr_knn,tpr_knn,label='knn')                         \n",
    "plt.plot(fpr_dtc,tpr_dtc,label='dtc')                          \n",
    "plt.plot(fpr_rfc,tpr_rfc,label='rfc')                 \n",
    "plt.plot(fpr_ada,tpr_ada,label='ada')                 \n",
    "\n",
    "plt.legend(loc='lower right',prop={'size':25})\n",
    "plt.xlabel('false positive rate')\n",
    "plt.ylabel('true positive rate')\n",
    "plt.title('ROC Curve')\n",
    "plt.show()"
   ]
  },
  {
   "cell_type": "code",
   "execution_count": 74,
   "id": "ad8eff4a",
   "metadata": {
    "ExecuteTime": {
     "end_time": "2021-10-15T13:52:37.975614Z",
     "start_time": "2021-10-15T13:52:37.956951Z"
    }
   },
   "outputs": [
    {
     "data": {
      "text/plain": [
       "(torch.Size([4, 3, 3]), torch.Size([4, 1]))"
      ]
     },
     "execution_count": 74,
     "metadata": {},
     "output_type": "execute_result"
    }
   ],
   "source": [
    "x1 = torch.rand(4,4)\n",
    "x1 = torch.reshape(x1,(x1.shape[0],1,-1))\n",
    "t_conv1d = Conv1d(1,3,2,stride=1)\n",
    "t_fc = Linear(3 * 3, 1)\n",
    "t_x1 = t_conv1d(x1)\n",
    "ff = Flatten()\n",
    "t_x2 = t_fc(ff(t_x1))\n",
    "t_x1.shape,t_x2.shape"
   ]
  },
  {
   "cell_type": "code",
   "execution_count": 122,
   "id": "11c2b9a2",
   "metadata": {
    "ExecuteTime": {
     "end_time": "2021-10-15T15:19:04.717438Z",
     "start_time": "2021-10-15T15:19:04.705043Z"
    }
   },
   "outputs": [],
   "source": [
    "# NN model definition\n",
    "import torch\n",
    "from torch.nn import Module,Linear,Conv1d,Conv2d,Sequential,Sigmoid,ReLU,MaxPool1d,MaxPool2d,Flatten\n",
    "from torch.nn import MSELoss,BCEWithLogitsLoss\n",
    "from torch.optim import SGD,Adam\n",
    "\n",
    "# 729 feature\n",
    "class Linear_m(Module):\n",
    "    def __init__(self, D_in, H1,H2,H3):\n",
    "        super(Linear_m,self).__init__()\n",
    "        self.layer1 = Sequential(Linear(D_in,H1),ReLU())\n",
    "        self.layer2 = Sequential(Linear(H1,H2),ReLU())\n",
    "        self.layer3 = Sequential(Linear(H2,H3),ReLU())\n",
    "        self.outlayer = Sequential(Linear(H3,1),Sigmoid())\n",
    "    def forward(self,X):\n",
    "        X = self.layer1(X)\n",
    "        X = self.layer2(X)\n",
    "        X = self.layer3(X)\n",
    "        X = self.outlayer(X)\n",
    "        return X\n",
    "\n",
    "class Conv1d_m(Module):\n",
    "    def __init__(self):\n",
    "        super(Conv1d_m,self).__init__()\n",
    "        self.conv1 = Sequential(Conv1d(1,10,3, stride=1),ReLU())\n",
    "        self.conv2 = Sequential(Conv1d(10,15,3, stride=1),ReLU())\n",
    "        self.flatten = Flatten()\n",
    "        self.fc = Linear(725*15,1)\n",
    "        self.sigmoid = Sigmoid()\n",
    "    \n",
    "    def forward(self,X):\n",
    "        X = self.conv1(X)\n",
    "        X = self.conv2(X)\n",
    "        X = self.flatten(X)\n",
    "        X = self.fc(X)\n",
    "        X = self.sigmoid(X)\n",
    "        return X\n",
    "\n",
    "# class Conv2d_m(Module):\n",
    "#     def __init__(self):\n",
    "#         super(Conv2d_m,self).__init__()\n",
    "#         self.conv1 = Sequential(Conv2d(1,5,3), ReLU())\n",
    "#         self.conv2 = Sequential(Conv2d(5,8,3), ReLU())\n",
    "#         self.maxpool = MaxPool2d(2,stride=2)\n",
    "#         self.flatten = Flatten()\n",
    "#         self.outlayer = Sequential(Linear(1,1),Sigmoid())\n",
    "    \n",
    "#     def forward(self, X):\n",
    "#         X = self.conv1(X)\n",
    "#         X = self.conv2(X)\n",
    "#         X = self.maxpool(X)\n",
    "#         X = self.flatten(X)\n",
    "#         X = self.outlayer(X)\n",
    "#         return X"
   ]
  },
  {
   "cell_type": "code",
   "execution_count": 126,
   "id": "baf7d9df",
   "metadata": {
    "ExecuteTime": {
     "end_time": "2021-10-15T15:19:37.426594Z",
     "start_time": "2021-10-15T15:19:34.699012Z"
    }
   },
   "outputs": [
    {
     "name": "stdout",
     "output_type": "stream",
     "text": [
      "0 0.9227142333984375 0.39054054021835327\n",
      "10 0.6931473016738892 0.6094594597816467\n",
      "20 0.6931473016738892 0.6094594597816467\n",
      "30 0.6931473016738892 0.6094594597816467\n",
      "40 0.6931473016738892 0.6094594597816467\n"
     ]
    }
   ],
   "source": [
    "# linear model\n",
    "X_train_l = torch.Tensor(X_train)\n",
    "X_test_l = torch.Tensor(X_test)\n",
    "y_train_l = torch.Tensor(y_train)\n",
    "y_train_l = y_train_l.unsqueeze(1)\n",
    "\n",
    "model_l = Linear_m(729,200,100,50)\n",
    "model_l.train()\n",
    "criterion = BCEWithLogitsLoss() # binary classification\n",
    "optimizer = Adam(model_l.parameters(), lr=1e-3)\n",
    "for t in range(50):\n",
    "    y_pred = model_l(X_train_l)\n",
    "\n",
    "    loss = criterion(y_pred, y_train_l)\n",
    "    y_pred= y_pred > 0.5\n",
    "    accuracy = (y_pred==y_train_l).sum().float() / len(y_pred)\n",
    "    \n",
    "    if t % 10 == 0:\n",
    "        print(t, loss.item(), accuracy.item())\n",
    "\n",
    "    optimizer.zero_grad()\n",
    "    loss.backward()\n",
    "    optimizer.step()"
   ]
  },
  {
   "cell_type": "code",
   "execution_count": 109,
   "id": "2428e331",
   "metadata": {
    "ExecuteTime": {
     "end_time": "2021-10-15T15:09:28.862511Z",
     "start_time": "2021-10-15T15:09:12.783235Z"
    },
    "scrolled": true
   },
   "outputs": [
    {
     "name": "stdout",
     "output_type": "stream",
     "text": [
      "0 0.9225730895996094 0.39054054021835327\n",
      "10 0.9223998785018921 0.39054054021835327\n",
      "20 0.6956669092178345 0.6067567467689514\n",
      "30 0.6956425905227661 0.6067567467689514\n",
      "40 0.6953707337379456 0.6067567467689514\n"
     ]
    }
   ],
   "source": [
    "# Conv1d model\n",
    "X_train_c1 = torch.Tensor(X_train)\n",
    "X_train_c1 = X_train_c1.reshape(X_train_c1.shape[0],1,-1)\n",
    "X_test_c1 = torch.Tensor(X_test)\n",
    "X_test_c1 = X_test_c1.reshape(X_test_c1.shape[0],1,-1)\n",
    "y_train_c1 = torch.Tensor(y_train)\n",
    "y_train_c1 = y_train_c1.unsqueeze(1)\n",
    "\n",
    "model_c1 = Conv1d_m()\n",
    "model_c1.train()\n",
    "criterion = BCEWithLogitsLoss() # binary classification\n",
    "optimizer = SGD(model_c1.parameters(), lr=1e-4)\n",
    "for t in range(50):\n",
    "    y_pred = model_c1(X_train_c1)\n",
    "\n",
    "    loss = criterion(y_pred, y_train_c1)\n",
    "    y_pred= y_pred > 0.5\n",
    "    accuracy = (y_pred==y_train_c1).sum().float() / len(y_pred)\n",
    "    \n",
    "#     if t % 100 == 99:\n",
    "    if t % 10 == 0:\n",
    "        print(t, loss.item(), accuracy.item())\n",
    "\n",
    "    optimizer.zero_grad()\n",
    "    loss.backward()\n",
    "    optimizer.step()\n"
   ]
  },
  {
   "cell_type": "markdown",
   "id": "fd48a3ad",
   "metadata": {},
   "source": [
    "### 比较各个分类器的效果"
   ]
  },
  {
   "cell_type": "code",
   "execution_count": null,
   "id": "92dd6936",
   "metadata": {},
   "outputs": [],
   "source": []
  },
  {
   "cell_type": "code",
   "execution_count": null,
   "id": "b5bcbe4e",
   "metadata": {},
   "outputs": [],
   "source": [
    "# TODO: AlexNet, ResNet or ...\n",
    "# alexnet = torch.hub.load()\n",
    "# resnet = torch.hub.load()"
   ]
  },
  {
   "cell_type": "code",
   "execution_count": null,
   "id": "0a7ffc16",
   "metadata": {},
   "outputs": [],
   "source": [
    "# write result to test sheet of excel file\n",
    "y_test_df = pd.read_excel('ADMET.xlsx',sheet_name='test')\n",
    "y_test_df['Caco-2'] = caco_pred\n",
    "y_test_df['CYP3A4'] = cyp_pred\n",
    "y_test_df['hERG'] = herg_pred\n",
    "y_test_df['HOB'] = hob_pred\n",
    "y_test_df['MN'] = mn_pred\n",
    "\n",
    "y_test_df.to_excel('ADMET.xlsx',sheet_name='mytest')"
   ]
  },
  {
   "cell_type": "markdown",
   "id": "85948e07",
   "metadata": {
    "ExecuteTime": {
     "end_time": "2021-10-15T03:45:30.127473Z",
     "start_time": "2021-10-15T03:45:30.124915Z"
    }
   },
   "source": [
    "#### CYP3A4"
   ]
  },
  {
   "cell_type": "code",
   "execution_count": null,
   "id": "93fafd6f",
   "metadata": {},
   "outputs": [],
   "source": []
  },
  {
   "cell_type": "markdown",
   "id": "75522b56",
   "metadata": {},
   "source": [
    "#### hERG"
   ]
  },
  {
   "cell_type": "code",
   "execution_count": null,
   "id": "39e518c0",
   "metadata": {},
   "outputs": [],
   "source": []
  },
  {
   "cell_type": "markdown",
   "id": "4ed22be4",
   "metadata": {},
   "source": [
    "#### HOB"
   ]
  },
  {
   "cell_type": "code",
   "execution_count": null,
   "id": "46040446",
   "metadata": {},
   "outputs": [],
   "source": []
  },
  {
   "cell_type": "markdown",
   "id": "631bc21f",
   "metadata": {},
   "source": [
    "#### MN"
   ]
  },
  {
   "cell_type": "code",
   "execution_count": null,
   "id": "5be079f7",
   "metadata": {},
   "outputs": [],
   "source": []
  },
  {
   "cell_type": "code",
   "execution_count": null,
   "id": "8d0ff3ee",
   "metadata": {},
   "outputs": [],
   "source": [
    "## 草稿部分"
   ]
  },
  {
   "cell_type": "code",
   "execution_count": null,
   "id": "5c12945c",
   "metadata": {},
   "outputs": [],
   "source": []
  },
  {
   "cell_type": "code",
   "execution_count": null,
   "id": "f1922979",
   "metadata": {},
   "outputs": [],
   "source": []
  }
 ],
 "metadata": {
  "kernelspec": {
   "display_name": "prac",
   "language": "python",
   "name": "prac"
  },
  "language_info": {
   "codemirror_mode": {
    "name": "ipython",
    "version": 3
   },
   "file_extension": ".py",
   "mimetype": "text/x-python",
   "name": "python",
   "nbconvert_exporter": "python",
   "pygments_lexer": "ipython3",
   "version": "3.8.11"
  },
  "toc": {
   "base_numbering": 1,
   "nav_menu": {},
   "number_sections": true,
   "sideBar": true,
   "skip_h1_title": false,
   "title_cell": "Table of Contents",
   "title_sidebar": "Contents",
   "toc_cell": false,
   "toc_position": {},
   "toc_section_display": true,
   "toc_window_display": false
  },
  "varInspector": {
   "cols": {
    "lenName": 16,
    "lenType": 16,
    "lenVar": 40
   },
   "kernels_config": {
    "python": {
     "delete_cmd_postfix": "",
     "delete_cmd_prefix": "del ",
     "library": "var_list.py",
     "varRefreshCmd": "print(var_dic_list())"
    },
    "r": {
     "delete_cmd_postfix": ") ",
     "delete_cmd_prefix": "rm(",
     "library": "var_list.r",
     "varRefreshCmd": "cat(var_dic_list()) "
    }
   },
   "types_to_exclude": [
    "module",
    "function",
    "builtin_function_or_method",
    "instance",
    "_Feature"
   ],
   "window_display": false
  }
 },
 "nbformat": 4,
 "nbformat_minor": 5
}
